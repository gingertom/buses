{
 "cells": [
  {
   "cell_type": "code",
   "execution_count": 1,
   "metadata": {},
   "outputs": [
    {
     "name": "stderr",
     "output_type": "stream",
     "text": [
      "Using TensorFlow backend.\n"
     ]
    }
   ],
   "source": [
    "import numpy as np\n",
    "import numpy.ma as ma\n",
    "import pandas as pd\n",
    "import datetime\n",
    "\n",
    "import matplotlib.pyplot as plt\n",
    "\n",
    "from tqdm._tqdm_notebook import tqdm_notebook as tqdm\n",
    "\n",
    "import feather\n",
    "\n",
    "from sklearn.linear_model import LinearRegression\n",
    "\n",
    "from sklearn.metrics import mean_squared_error, mean_absolute_error\n",
    "\n",
    "import os\n",
    "os.environ['KMP_DUPLICATE_LIB_OK']='True'\n",
    "\n",
    "import xgboost as xgb\n",
    "\n",
    "import keras\n",
    "from keras.preprocessing import sequence\n",
    "from keras import layers, Input, Model\n",
    "from keras.models import Sequential\n",
    "from keras.layers import Embedding, Flatten, Dense, Lambda\n",
    "\n",
    "from sklearn import preprocessing\n",
    "from sklearn.preprocessing import PolynomialFeatures\n",
    "\n",
    "import sys\n",
    "sys.path.append(\"../../\")\n",
    "\n",
    "from pipeline.utils.stats import Stats"
   ]
  },
  {
   "cell_type": "code",
   "execution_count": 2,
   "metadata": {},
   "outputs": [],
   "source": [
    "# Load in the time_series from the previous stage in the pipeline\n",
    "correlations = feather.read_dataframe(\"../../data_files/B/once/75days/5mins/best_correlations_offset_5mins_code_hour_day.feather\")\n",
    "correlations = correlations.set_index(correlations.columns[0])\n"
   ]
  },
  {
   "cell_type": "code",
   "execution_count": 3,
   "metadata": {},
   "outputs": [],
   "source": [
    "# time_series = feather.read_dataframe(\"../data_files/B/once/35days/10mins/diff_percent_from_code_hour_day_-_full_segment_time_series.feather\")\n",
    "# time_series = time_series.set_index(time_series.columns[0])\n",
    "\n",
    "# time_series = time_series.rename(renamer, axis=\"columns\")"
   ]
  },
  {
   "cell_type": "code",
   "execution_count": 4,
   "metadata": {},
   "outputs": [],
   "source": [
    "stop_events = feather.read_dataframe(\"../../data_files/B/once/75days/stop_events_with_geo_train_test_averages_prev_next_offsets_interp.feather\",\n",
    "# stop_events = feather.read_dataframe(\"../../data_files/B/once/75days/stop_events_with_geo_train_test_averages_prev_next_dwell.feather\",\n",
    "                            columns=[\"index\",\n",
    "                                     'date', 'stopCode', 'aimedArrival', 'aimedDeparture', 'actualArrival', 'actualDeparture', 'prev_stopCode', 'prev_aimedArrival',\n",
    "       'prev_aimedDeparture', 'prev_actualArrival', 'prev_actualDeparture',\n",
    "       'timingPoint', 'prev_timingPoint', 'arrival_hour', 'segment_code', 'segment_name', 'line_distance', 'to_centre_dist', 'direction_degrees', 'train', 'test','full_duration','median_full_durations_by_segment_code',\n",
    "       'median_full_durations_by_segment_code_and_hour',\n",
    "       'median_full_durations_by_segment_code_and_hour_and_day',\n",
    "       'diff_full_segment_and_median_by_segment_code',\n",
    "       'diff_full_segment_and_median_by_segment_code_and_hour_and_day',\n",
    "       'diff_percent_full_segment_and_median_by_segment_code',\n",
    "       'diff_percent_full_segment_and_median_by_segment_code_and_hour_and_day',\n",
    "       'offset_timestamp', 'arrival_5mins', 'rain',\n",
    "                                     'diff_percent_full_segment_and_median_by_segment_code_and_hour_and_day',\n",
    "                                     \"workid\", \"segment_duration\",\n",
    "                                     \"mean_durations_by_segment_code_and_hour_and_day\",\n",
    "                                     \"median_durations_by_segment_code_and_hour_and_day\",\"dry\",\"weekend\",\n",
    "                                     \"timetable_segment_duration\",\n",
    "            \"std_diff_percent_segment_mean_by_segment_code_and_hour_and_day\",\n",
    "            \"clock_direction_degrees\",\"arrival_day\",\n",
    "                                    ])\n",
    "\n",
    "\n",
    "\n",
    "stop_events = stop_events.set_index(\"index\")\n",
    "stop_events.head()\n",
    "\n",
    "stop_events[\"diff_segment_and_mean_by_segment_code_and_hour_and_day\"] = (\n",
    "    stop_events[\"segment_duration\"]\n",
    "    - stop_events[\"mean_durations_by_segment_code_and_hour_and_day\"]\n",
    ")\n",
    "\n",
    "\n",
    "stop_events[\"diff_percent_segment_and_mean_by_segment_code_and_hour_and_day\"] = (\n",
    "    stop_events[\"diff_segment_and_mean_by_segment_code_and_hour_and_day\"]\n",
    "    * 100\n",
    "    / stop_events[\"mean_durations_by_segment_code_and_hour_and_day\"]\n",
    ")\n",
    "\n",
    "stop_events[\"arrival_5mins\"] = stop_events[\"actualArrival\"].dt.round(\"5min\")\n",
    "stop_events['offset_timestamp'] = stop_events[\"arrival_5mins\"] - pd.Timedelta(\"5 min\")\n"
   ]
  },
  {
   "cell_type": "code",
   "execution_count": 36,
   "metadata": {},
   "outputs": [],
   "source": [
    "stop_events[\"arrival_day\"] = stop_events['actualArrival'].dt.dayofweek"
   ]
  },
  {
   "cell_type": "code",
   "execution_count": 5,
   "metadata": {},
   "outputs": [
    {
     "name": "stdout",
     "output_type": "stream",
     "text": [
      "Calculating rare segments...\n",
      "\tCalculated\n"
     ]
    }
   ],
   "source": [
    "def filter_rare(stop_events):\n",
    "\n",
    "    print(\"Calculating rare segments...\")\n",
    "\n",
    "    segment_counts = stop_events.groupby(\"segment_code\").size()\n",
    "\n",
    "    filtered_stop_events = stop_events.drop(\n",
    "        stop_events[\n",
    "            stop_events[\"segment_code\"].isin(\n",
    "                segment_counts[segment_counts < 120].index.values\n",
    "            )\n",
    "        ].index\n",
    "    )\n",
    "\n",
    "    print(\"\\tCalculated\")\n",
    "\n",
    "    return filtered_stop_events\n",
    "\n",
    "stop_events = filter_rare(stop_events)"
   ]
  },
  {
   "cell_type": "code",
   "execution_count": 6,
   "metadata": {},
   "outputs": [],
   "source": [
    "# stop_events[\"arrival_1hour\"] = stop_events[\"date\"] + pd.to_timedelta(stop_events[\"arrival_hour\"].values, unit=\"h\")\n",
    "# stop_events['offset_timestamp'] = stop_events[\"arrival_1hour\"] - pd.Timedelta(\"1 hour\")\n",
    "\n",
    "stop_events[\"arrival_5mins\"] = stop_events[\"actualArrival\"].dt.round(\"5min\")\n",
    "stop_events['offset_timestamp'] = stop_events[\"arrival_5mins\"] - pd.Timedelta(\"5 min\")\n",
    "# stop_events[\"offset_timestamp\"] = stop_events[\"arrival_10mins\"]\n"
   ]
  },
  {
   "cell_type": "code",
   "execution_count": 7,
   "metadata": {},
   "outputs": [],
   "source": [
    "# We need to generate this from scratch as we need both test and train data. \n",
    "time_series = stop_events.pivot_table(\n",
    "        index=\"arrival_5mins\",\n",
    "        columns=\"segment_code\",\n",
    "        values=\"diff_percent_full_segment_and_median_by_segment_code_and_hour_and_day\",\n",
    "        aggfunc=np.mean,\n",
    "    )"
   ]
  },
  {
   "cell_type": "code",
   "execution_count": 8,
   "metadata": {},
   "outputs": [],
   "source": [
    "time_series_padded = time_series.interpolate(method='pad', axis=0, limit=11)"
   ]
  },
  {
   "cell_type": "code",
   "execution_count": 28,
   "metadata": {},
   "outputs": [],
   "source": [
    "# weather = pd.read_csv(\"../../weather/CDO9610867945337_weather.csv\")\n",
    "\n",
    "\n",
    "# weather['date'] = pd.to_datetime(weather[' YEARMODA'], format=\"%Y%m%d\")\n",
    "# weather['rain'] = weather['PRCP  '].apply(lambda x: float(x[:-1]))\n",
    "\n",
    "# just_rain = weather[['date', 'rain']]"
   ]
  },
  {
   "cell_type": "code",
   "execution_count": 29,
   "metadata": {},
   "outputs": [],
   "source": [
    "# stop_events = stop_events.merge(just_rain, left_on=\"date\", right_on=\"date\")"
   ]
  },
  {
   "cell_type": "code",
   "execution_count": 11,
   "metadata": {},
   "outputs": [],
   "source": [
    "se = stop_events\n",
    "\n",
    "segment_code_and_hour_and_day_groups = se[se[\"train\"]].groupby(\n",
    "    [\"segment_code\", \"arrival_hour\", \"arrival_day\"]\n",
    ")\n",
    "\n",
    "std_diff_percent_segment_mean_by_segment_code_and_hour_and_day = (\n",
    "    segment_code_and_hour_and_day_groups[\n",
    "        \"diff_percent_segment_and_mean_by_segment_code_and_hour_and_day\"\n",
    "    ]\n",
    "    .std()\n",
    "    .rename(\"std_diff_percent_segment_mean_by_segment_code_and_hour_and_day\")\n",
    ")\n",
    "se = se.merge(\n",
    "    std_diff_percent_segment_mean_by_segment_code_and_hour_and_day.to_frame(),\n",
    "    \"left\",\n",
    "    left_on=[\"segment_code\", \"arrival_hour\", \"arrival_day\"],\n",
    "    right_index=True,\n",
    ")"
   ]
  },
  {
   "cell_type": "code",
   "execution_count": 14,
   "metadata": {},
   "outputs": [],
   "source": [
    "stop_events = stop_events.merge(correlations, left_on=\"segment_code\", right_index=True)"
   ]
  },
  {
   "cell_type": "code",
   "execution_count": 15,
   "metadata": {},
   "outputs": [],
   "source": [
    "def best(row):\n",
    "    try:\n",
    "        value = time_series_padded.loc[row[0],row[1]] \n",
    "    except: \n",
    "#         print(\"--------------\")\n",
    "#         print(row.name)\n",
    "#         print(row[0])\n",
    "#         print(row[1])\n",
    "        value = np.nan\n",
    "    return value"
   ]
  },
  {
   "cell_type": "code",
   "execution_count": 16,
   "metadata": {},
   "outputs": [],
   "source": [
    "tqdm.pandas(\"My Bar\")"
   ]
  },
  {
   "cell_type": "code",
   "execution_count": null,
   "metadata": {},
   "outputs": [],
   "source": []
  },
  {
   "cell_type": "code",
   "execution_count": 17,
   "metadata": {},
   "outputs": [
    {
     "data": {
      "application/vnd.jupyter.widget-view+json": {
       "model_id": "72e6aa79c7a74cfd9d4d56dc4a2ee879",
       "version_major": 2,
       "version_minor": 0
      },
      "text/plain": [
       "HBox(children=(IntProgress(value=0, max=3916787), HTML(value='')))"
      ]
     },
     "metadata": {},
     "output_type": "display_data"
    },
    {
     "name": "stdout",
     "output_type": "stream",
     "text": [
      "\n"
     ]
    }
   ],
   "source": [
    "stop_events['best_0'] = stop_events[['offset_timestamp', '0']].progress_apply(best, axis=1)"
   ]
  },
  {
   "cell_type": "code",
   "execution_count": 18,
   "metadata": {},
   "outputs": [
    {
     "data": {
      "application/vnd.jupyter.widget-view+json": {
       "model_id": "92ded0a123d7479b964b9a0575cf539c",
       "version_major": 2,
       "version_minor": 0
      },
      "text/plain": [
       "HBox(children=(IntProgress(value=0, max=3916787), HTML(value='')))"
      ]
     },
     "metadata": {},
     "output_type": "display_data"
    },
    {
     "name": "stdout",
     "output_type": "stream",
     "text": [
      "\n"
     ]
    }
   ],
   "source": [
    "stop_events['self_offset'] = stop_events[['offset_timestamp', 'segment_code']].progress_apply(best, axis=1)"
   ]
  },
  {
   "cell_type": "code",
   "execution_count": 19,
   "metadata": {},
   "outputs": [],
   "source": [
    "def do_mape(actual_thing, predict):\n",
    "    \n",
    "    with np.errstate(divide='ignore', invalid='ignore'):\n",
    "\n",
    "        division = (actual_thing[:,None] - predict)/actual_thing[:,None]\n",
    "\n",
    "        division[actual_thing == 0, :] = 0\n",
    "\n",
    "        mape = 100 / np.count_nonzero(actual_thing) * np.sum(np.abs(division), axis=0)\n",
    "\n",
    "    return mape\n",
    "\n",
    "def brute_force_mapes(stop_e, \n",
    "                      window=5,\n",
    "                      thing=\"segment_duration\",\n",
    "                      base=\"mean_durations_by_segment_code_and_hour_and_day\",\n",
    "                      diff=\"diff_percent_segment_and_mean_by_segment_code_and_hour_and_day\", \n",
    "                      absolute=False, speed=False, log=False):\n",
    "\n",
    "    time_s = stop_e.pivot_table(\n",
    "        index=f\"arrival_{window}mins\",\n",
    "        columns=\"segment_code\",\n",
    "        values=diff,\n",
    "        aggfunc=np.mean,\n",
    "    ).interpolate(\n",
    "        method=\"pad\", axis=0, limit=11\n",
    "    ).replace([np.inf, np.nan, -np.inf], 0)\n",
    "    \n",
    "    segments = stop_e.groupby('segment_code')\n",
    "\n",
    "    best_preds = []\n",
    "    best_code_pairs = []\n",
    "    test_events_per_segement = []\n",
    "#     bayesian_predict = []\n",
    "\n",
    "    for segment_code, segment_events in tqdm(segments):\n",
    "        \n",
    "        # Train stage\n",
    "\n",
    "        actual_thing = segment_events[segment_events['train']][thing].values\n",
    "        \n",
    "        actual_thing_indicies = segment_events[segment_events['train']].index\n",
    "\n",
    "        actual_base = segment_events[segment_events['train']][base].values\n",
    "\n",
    "#         predict_array = time_s.loc[segment_events[segment_events['train']][f\"arrival_{window}mins\"].values]\n",
    "        \n",
    "        predict_array = time_s.loc[segment_events[segment_events['train']][\"offset_timestamp\"].values - pd.Timedelta(f\"15 min\")]\n",
    "\n",
    "#         predict = actual_base[:,None] * (1+(predict_array/100))\n",
    "        \n",
    "        if(absolute):\n",
    "            predict = actual_base[:,None] + predict_array\n",
    "        else:\n",
    "            predict = actual_base[:,None] * (1+(predict_array/100))\n",
    "            \n",
    "        if(speed):\n",
    "            predict = segment_events.iloc[0,:]['line_distance']/predict\n",
    "            \n",
    "        if(log):\n",
    "            predict = np.exp(predict)\n",
    "            \n",
    "        mape = do_mape(actual_thing, predict.values)\n",
    "            \n",
    "        best_columns = np.argsort(mape)\n",
    "        \n",
    "        best_code_pairs.append([segment_code, time_s.columns[best_columns[0]]])\n",
    "        \n",
    "        se.loc[actual_thing_indicies, 'wrapper_pred'] = predict_array.values[:,best_columns[0]]\n",
    "        \n",
    "#         clf = BayesianRidge()\n",
    "        \n",
    "#         clf.fit(predict.iloc[:, best_columns[:10]].replace(np.nan, 0), actual_thing)\n",
    "        \n",
    "        \n",
    "        # Test stage\n",
    "        \n",
    "        actual_thing_test = segment_events[segment_events['test']][thing].values\n",
    "        actual_thing_test_indices = segment_events[segment_events['test']].index\n",
    "        \n",
    "        if(np.count_nonzero(actual_thing_test) == 0):\n",
    "            best_preds.append([np.nan] * time_s.shape[1])\n",
    "            test_events_per_segement.append(0)\n",
    "#             bayesian_predict.append(0)\n",
    "            continue \n",
    "\n",
    "        actual_base_test = segment_events[segment_events['test']][base].values\n",
    "\n",
    "#         predict_array_test = time_s.loc[segment_events[segment_events['test']][f\"arrival_{window}mins\"].values]\n",
    "        predict_array_test = time_s.loc[segment_events[segment_events['test']][\"offset_timestamp\"].values - pd.Timedelta(f\"15 min\") ]\n",
    "        \n",
    "        if(absolute):\n",
    "            predict_test = actual_base_test[:,None] + predict_array_test\n",
    "        else:\n",
    "            predict_test = actual_base_test[:,None] * (1+(predict_array_test/100))\n",
    "            \n",
    "        if(speed):\n",
    "            predict_test = segment_events.iloc[0,:]['line_distance']/predict_test\n",
    "        \n",
    "        \n",
    "        predict_test = predict_test.iloc[:,best_columns]\n",
    "        \n",
    "#         predict_bayesian_test = clf.predict(predict_test.iloc[:,best_columns[:10]].replace(np.nan, 0))\n",
    "        \n",
    "        if(log):\n",
    "            predict_test = np.exp(predict_test)\n",
    "#             predict_bayesian_test = np.exp(predict_bayesian_test)\n",
    "\n",
    "        se.loc[actual_thing_test_indices, 'wrapper_pred'] = predict_array_test.values[:,best_columns[0]]\n",
    "        \n",
    "        mape_test = do_mape(actual_thing_test, predict_test.values)\n",
    "        \n",
    "#         mape_bayes_test = do_mape(actual_thing_test, predict_bayesian_test[:,None])\n",
    "        \n",
    "        best_preds.append(mape_test)\n",
    "        test_events_per_segement.append(actual_base_test.shape[0])\n",
    "#         bayesian_predict.append(float(mape_bayes_test))\n",
    "        \n",
    "    best_preds = np.array(best_preds)\n",
    "    best_code_pairs = np.array(best_code_pairs)\n",
    "    test_events_per_segement = np.array(test_events_per_segement).squeeze()\n",
    "#     bayesian_predict = np.array(bayesian_predict, dtype=float)\n",
    "    \n",
    "    total_test = np.count_nonzero(stop_e['test'])\n",
    "    \n",
    "    ma = np.ma.MaskedArray(best_preds, mask=np.isnan(best_preds))\n",
    "    weighted_mapes = np.ma.average(ma, weights=test_events_per_segement, axis=0)\n",
    "    \n",
    "#     print(bayesian_predict.dtype, test_events_per_segement.dtype)\n",
    "    \n",
    "#     weighted_bayes_mape = np.average(bayesian_predict, weights=test_events_per_segement)\n",
    "            \n",
    "    plt.plot(weighted_mapes[:30])\n",
    "    plt.title(f\"Using {base}\\nto predict {thing} with {window}min time windows\")\n",
    "    plt.show()\n",
    "        \n",
    "    return best_preds, weighted_mapes# bayesian_predict, weighted_bayes_mape\n",
    "            \n",
    "    "
   ]
  },
  {
   "cell_type": "code",
   "execution_count": 20,
   "metadata": {},
   "outputs": [
    {
     "data": {
      "application/vnd.jupyter.widget-view+json": {
       "model_id": "f9dc1c78165c488c90e7ddd663b3309a",
       "version_major": 2,
       "version_minor": 0
      },
      "text/plain": [
       "HBox(children=(IntProgress(value=0, max=1018), HTML(value='')))"
      ]
     },
     "metadata": {},
     "output_type": "display_data"
    },
    {
     "name": "stderr",
     "output_type": "stream",
     "text": [
      "/Users/tommelamed/anaconda3/envs/busses/lib/python3.7/site-packages/ipykernel_launcher.py:48: FutureWarning: \n",
      "Passing list-likes to .loc or [] with any missing label will raise\n",
      "KeyError in the future, you can use .reindex() as an alternative.\n",
      "\n",
      "See the documentation here:\n",
      "https://pandas.pydata.org/pandas-docs/stable/indexing.html#deprecate-loc-reindex-listlike\n",
      "/Users/tommelamed/anaconda3/envs/busses/lib/python3.7/site-packages/ipykernel_launcher.py:90: FutureWarning: \n",
      "Passing list-likes to .loc or [] with any missing label will raise\n",
      "KeyError in the future, you can use .reindex() as an alternative.\n",
      "\n",
      "See the documentation here:\n",
      "https://pandas.pydata.org/pandas-docs/stable/indexing.html#deprecate-loc-reindex-listlike\n"
     ]
    },
    {
     "name": "stdout",
     "output_type": "stream",
     "text": [
      "\n"
     ]
    },
    {
     "data": {
      "image/png": "[encoded data removed]",
      "text/plain": [
       "<Figure size 432x288 with 1 Axes>"
      ]
     },
     "metadata": {
      "needs_background": "light"
     },
     "output_type": "display_data"
    }
   ],
   "source": [
    "se = stop_events\n",
    "\n",
    "stop_events['wrapper_pred'] = 0\n",
    "\n",
    "best_preds,weighted_mapes = brute_force_mapes(stop_events);"
   ]
  },
  {
   "cell_type": "code",
   "execution_count": 21,
   "metadata": {},
   "outputs": [
    {
     "name": "stderr",
     "output_type": "stream",
     "text": [
      "/Users/tommelamed/.local/lib/python3.7/site-packages/numpy/lib/histograms.py:824: RuntimeWarning: invalid value encountered in greater_equal\n",
      "  keep = (tmp_a >= first_edge)\n",
      "/Users/tommelamed/.local/lib/python3.7/site-packages/numpy/lib/histograms.py:825: RuntimeWarning: invalid value encountered in less_equal\n",
      "  keep &= (tmp_a <= last_edge)\n"
     ]
    },
    {
     "data": {
      "image/png": "[encoded data removed]",
      "text/plain": [
       "<Figure size 432x288 with 1 Axes>"
      ]
     },
     "metadata": {
      "needs_background": "light"
     },
     "output_type": "display_data"
    }
   ],
   "source": [
    "plt.hist(se.loc[se['train'], \"wrapper_pred\"], bins=100, range=(-100,100));\n",
    "plt.yscale(\"log\")"
   ]
  },
  {
   "cell_type": "code",
   "execution_count": 22,
   "metadata": {},
   "outputs": [
    {
     "data": {
      "text/plain": [
       "23.403364140033386"
      ]
     },
     "execution_count": 22,
     "metadata": {},
     "output_type": "execute_result"
    }
   ],
   "source": [
    "np.count_nonzero(se['test'] & se['wrapper_pred'])/np.count_nonzero(se['test'])*100\n"
   ]
  },
  {
   "cell_type": "code",
   "execution_count": 24,
   "metadata": {},
   "outputs": [
    {
     "name": "stdout",
     "output_type": "stream",
     "text": [
      "percent nan for best_0: 35.15095408558086\n",
      "percent nan for self_offset: 15.380999783751326\n"
     ]
    }
   ],
   "source": [
    "print(f\"percent nan for best_0: {stop_events['best_0'].isna().sum()/stop_events.shape[0]*100}\")\n",
    "print(f\"percent nan for self_offset: {stop_events['self_offset'].isna().sum()/stop_events.shape[0]*100}\")"
   ]
  },
  {
   "cell_type": "code",
   "execution_count": 25,
   "metadata": {},
   "outputs": [],
   "source": [
    "stop_events['best_0'] = stop_events['best_0'].replace([np.nan, -np.inf], 0)\n",
    "stop_events['self_offset'] = stop_events['self_offset'].replace([np.nan, -np.inf], 0)"
   ]
  },
  {
   "cell_type": "code",
   "execution_count": 26,
   "metadata": {},
   "outputs": [],
   "source": [
    "stop_events = stop_events.dropna(axis=0)"
   ]
  },
  {
   "cell_type": "code",
   "execution_count": 109,
   "metadata": {},
   "outputs": [],
   "source": [
    "# train_matrix = stop_events[stop_events['train']][['arrival_hour', 'line_distance', 'to_centre_dist', 'direction_degrees', 'best_0', '30', 'self_offset', 'rain']]\n",
    "train_matrix = stop_events[stop_events['train']][['arrival_hour', \n",
    "                                                  'line_distance', \n",
    "                                                  'to_centre_dist', \n",
    "                                                  'direction_degrees', \n",
    "                                                  'rain', \n",
    "                                                  \"dry\", \n",
    "                                                  \"weekend\",\n",
    "                                                  \"timetable_segment_duration\",\n",
    "                                                    \"clock_direction_degrees\",\"arrival_day\"]]\n",
    "\n",
    "\n",
    "# train_matrix = pd.concat((train_matrix, stop_events[stop_events['train']][['best_0', '30', 'self_offset']]), axis=1)\n",
    "\n",
    "train_target = stop_events[stop_events['train']]['diff_percent_full_segment_and_median_by_segment_code_and_hour_and_day'].values\n",
    "\n",
    "# test_matrix = stop_events[stop_events['test']][['arrival_hour', 'line_distance', 'to_centre_dist', 'direction_degrees', 'best_0', '30', 'self_offset', 'rain']]\n",
    "test_matrix = stop_events[stop_events['test']][['arrival_hour', \n",
    "                                                  'line_distance', \n",
    "                                                  'to_centre_dist', \n",
    "                                                  'direction_degrees', \n",
    "                                                  'rain', \n",
    "                                                  \"dry\", \n",
    "                                                  \"weekend\",\n",
    "                                                  \"timetable_segment_duration\",\n",
    "                                                    \"clock_direction_degrees\",\"arrival_day\"]]\n",
    "\n",
    "# test_matrix = pd.concat((test_matrix, stop_events[stop_events['test']][['best_0', '30', 'self_offset']]), axis=1)\n",
    "\n",
    "test_target = stop_events[stop_events['test']]['diff_percent_full_segment_and_median_by_segment_code_and_hour_and_day'].values\n",
    "\n",
    "test_target = np.nan_to_num(test_target)"
   ]
  },
  {
   "cell_type": "code",
   "execution_count": 110,
   "metadata": {},
   "outputs": [],
   "source": [
    "train_matrix = pd.get_dummies(train_matrix, columns=[\"arrival_hour\", \"arrival_day\"])\n",
    "test_matrix = pd.get_dummies(test_matrix, columns=[\"arrival_hour\", \"arrival_day\"])"
   ]
  },
  {
   "cell_type": "code",
   "execution_count": 111,
   "metadata": {},
   "outputs": [
    {
     "data": {
      "text/plain": [
       "0"
      ]
     },
     "execution_count": 111,
     "metadata": {},
     "output_type": "execute_result"
    }
   ],
   "source": [
    "stop_events.isna().sum(axis=0).max()"
   ]
  },
  {
   "cell_type": "code",
   "execution_count": 112,
   "metadata": {},
   "outputs": [
    {
     "name": "stdout",
     "output_type": "stream",
     "text": [
      "(3253010, 106)\n",
      "(3253010, 35)\n",
      "(3253010,)\n"
     ]
    }
   ],
   "source": [
    "print(stop_events[stop_events['train']].shape)\n",
    "print(train_matrix.shape)\n",
    "print(train_target.shape)"
   ]
  },
  {
   "cell_type": "code",
   "execution_count": 113,
   "metadata": {},
   "outputs": [],
   "source": [
    "# stop_events['30']"
   ]
  },
  {
   "cell_type": "code",
   "execution_count": 114,
   "metadata": {},
   "outputs": [],
   "source": [
    "poly = PolynomialFeatures(2)\n",
    "reg = LinearRegression().fit(train_matrix, train_target)\n",
    "\n",
    "reg_results = reg.predict(test_matrix)"
   ]
  },
  {
   "cell_type": "code",
   "execution_count": 115,
   "metadata": {},
   "outputs": [
    {
     "data": {
      "text/plain": [
       "0.0039808792012705485"
      ]
     },
     "execution_count": 115,
     "metadata": {},
     "output_type": "execute_result"
    }
   ],
   "source": [
    "reg.score(test_matrix, test_target)\n",
    "\n"
   ]
  },
  {
   "cell_type": "code",
   "execution_count": 116,
   "metadata": {},
   "outputs": [],
   "source": [
    "rmse_lr = np.sqrt(mean_squared_error(test_target, reg_results))\n",
    "mae_lr = mean_absolute_error(test_target, reg_results)\n"
   ]
  },
  {
   "cell_type": "code",
   "execution_count": 117,
   "metadata": {},
   "outputs": [
    {
     "name": "stdout",
     "output_type": "stream",
     "text": [
      "87.93104038540311\n",
      "43.66546104991648\n"
     ]
    }
   ],
   "source": [
    "print(rmse_lr)\n",
    "print(mae_lr)\n"
   ]
  },
  {
   "cell_type": "code",
   "execution_count": 118,
   "metadata": {},
   "outputs": [
    {
     "data": {
      "text/plain": [
       "array([-6.68521097e+01,  1.88228967e-01, -1.94721448e-02,  7.63370192e-01,\n",
       "       -3.39311681e-01,  1.55648456e+00,  5.86075646e-02, -1.74808713e-02,\n",
       "        7.88646419e+00, -3.75922444e+00,  1.99653755e+00,  1.51251099e+00,\n",
       "        1.71568390e+00,  2.38572091e+00, -6.38137903e-01, -1.71729167e+00,\n",
       "       -2.30080045e+00, -2.61151851e+00, -3.07979013e+00, -2.73783805e+00,\n",
       "       -3.34239567e+00, -2.23067312e+00, -5.65372069e-01,  1.40988270e+00,\n",
       "        1.11573290e+00,  1.22772148e+00,  1.48798656e+00,  2.24480084e+00,\n",
       "       -8.59477230e-02, -7.83049126e-02, -5.63606425e-01, -3.77285711e-01,\n",
       "       -4.51339792e-01,  3.75130808e-01,  1.18135376e+00])"
      ]
     },
     "execution_count": 118,
     "metadata": {},
     "output_type": "execute_result"
    }
   ],
   "source": [
    "reg.coef_"
   ]
  },
  {
   "cell_type": "code",
   "execution_count": 119,
   "metadata": {},
   "outputs": [],
   "source": [
    "data_dmatrix = xgb.DMatrix(data=train_matrix,label=train_target)\n"
   ]
  },
  {
   "cell_type": "code",
   "execution_count": 120,
   "metadata": {},
   "outputs": [],
   "source": [
    "xg_reg = xgb.XGBRegressor(eval_metric='mae', booster='gbtree', n_jobs=8, max_depth=5, n_estimators=300)"
   ]
  },
  {
   "cell_type": "code",
   "execution_count": 121,
   "metadata": {},
   "outputs": [],
   "source": [
    "xg_reg.fit(train_matrix, train_target)\n",
    "\n",
    "xg_reg_results = xg_reg.predict(test_matrix)"
   ]
  },
  {
   "cell_type": "code",
   "execution_count": 122,
   "metadata": {},
   "outputs": [],
   "source": [
    "rmse_xg = np.sqrt(mean_squared_error(test_target, xg_reg_results))\n",
    "mae_xg = mean_absolute_error(test_target, xg_reg_results)"
   ]
  },
  {
   "cell_type": "code",
   "execution_count": 123,
   "metadata": {},
   "outputs": [
    {
     "name": "stdout",
     "output_type": "stream",
     "text": [
      "85.8680975951835\n",
      "43.78275728317654\n"
     ]
    }
   ],
   "source": [
    "print(rmse_xg)\n",
    "print(mae_xg)"
   ]
  },
  {
   "cell_type": "code",
   "execution_count": 124,
   "metadata": {},
   "outputs": [],
   "source": [
    "# xg_reg.feature_importances_"
   ]
  },
  {
   "cell_type": "code",
   "execution_count": 125,
   "metadata": {},
   "outputs": [
    {
     "name": "stderr",
     "output_type": "stream",
     "text": [
      "/Users/tommelamed/anaconda3/envs/busses/lib/python3.7/site-packages/sklearn/preprocessing/data.py:625: DataConversionWarning: Data with input dtype bool, uint8, float64 were all converted to float64 by StandardScaler.\n",
      "  return self.partial_fit(X, y)\n",
      "/Users/tommelamed/anaconda3/envs/busses/lib/python3.7/site-packages/ipykernel_launcher.py:3: DataConversionWarning: Data with input dtype bool, uint8, float64 were all converted to float64 by StandardScaler.\n",
      "  This is separate from the ipykernel package so we can avoid doing imports until\n",
      "/Users/tommelamed/anaconda3/envs/busses/lib/python3.7/site-packages/ipykernel_launcher.py:4: DataConversionWarning: Data with input dtype bool, uint8, float64 were all converted to float64 by StandardScaler.\n",
      "  after removing the cwd from sys.path.\n"
     ]
    }
   ],
   "source": [
    "scaler_matrix = preprocessing.StandardScaler().fit(train_matrix)\n",
    "\n",
    "train_matrix_scaled = scaler_matrix.transform(train_matrix)\n",
    "test_matrix_scaled = scaler_matrix.transform(test_matrix)\n",
    "\n",
    "scaler_target = preprocessing.StandardScaler().fit(train_target[:,None])\n",
    "\n",
    "train_target_scaled = scaler_target.transform(train_target[:,None])\n",
    "test_target_scaled = scaler_target.transform(test_target[:,None])\n",
    "\n",
    "\n"
   ]
  },
  {
   "cell_type": "code",
   "execution_count": 126,
   "metadata": {},
   "outputs": [],
   "source": [
    "def create_fully_connected(input_width):\n",
    "    model = Sequential()\n",
    "    \n",
    "    model.add(Dense(32, input_dim=input_width, activation='relu'))\n",
    "    model.add(layers.Dropout(0.2))\n",
    "    model.add(Dense(12, activation='relu'))\n",
    "    model.add(layers.Dropout(0.2))\n",
    "    model.add(Dense(12, activation='relu'))\n",
    "    model.add(layers.Dropout(0.2))\n",
    "    model.add(Dense(1, activation='tanh'))\n",
    "    model.summary()\n",
    "    \n",
    "    return model"
   ]
  },
  {
   "cell_type": "code",
   "execution_count": 127,
   "metadata": {},
   "outputs": [
    {
     "name": "stdout",
     "output_type": "stream",
     "text": [
      "_________________________________________________________________\n",
      "Layer (type)                 Output Shape              Param #   \n",
      "=================================================================\n",
      "dense_17 (Dense)             (None, 32)                1152      \n",
      "_________________________________________________________________\n",
      "dropout_13 (Dropout)         (None, 32)                0         \n",
      "_________________________________________________________________\n",
      "dense_18 (Dense)             (None, 12)                396       \n",
      "_________________________________________________________________\n",
      "dropout_14 (Dropout)         (None, 12)                0         \n",
      "_________________________________________________________________\n",
      "dense_19 (Dense)             (None, 12)                156       \n",
      "_________________________________________________________________\n",
      "dropout_15 (Dropout)         (None, 12)                0         \n",
      "_________________________________________________________________\n",
      "dense_20 (Dense)             (None, 1)                 13        \n",
      "=================================================================\n",
      "Total params: 1,717\n",
      "Trainable params: 1,717\n",
      "Non-trainable params: 0\n",
      "_________________________________________________________________\n",
      "Train on 3253010 samples, validate on 660860 samples\n",
      "Epoch 1/10\n",
      "3253010/3253010 [==============================] - 10s 3us/step - loss: 0.4546 - mean_absolute_error: 0.4546 - val_loss: 0.4815 - val_mean_absolute_error: 0.4815\n",
      "Epoch 2/10\n",
      "3253010/3253010 [==============================] - 10s 3us/step - loss: 0.4537 - mean_absolute_error: 0.4537 - val_loss: 0.4815 - val_mean_absolute_error: 0.4815\n",
      "Epoch 3/10\n",
      "3253010/3253010 [==============================] - 10s 3us/step - loss: 0.4537 - mean_absolute_error: 0.4537 - val_loss: 0.4815 - val_mean_absolute_error: 0.4815\n"
     ]
    }
   ],
   "source": [
    "model = create_fully_connected(train_matrix.shape[1])\n",
    "\n",
    "callbacks_list = [\n",
    "    keras.callbacks.EarlyStopping(monitor='val_loss', patience=2),\n",
    "    keras.callbacks.ModelCheckpoint(filepath='full_conn_model.h5', monitor='val_loss', save_best_only=True)\n",
    "]\n",
    "\n",
    "model.compile(optimizer='rmsprop',\n",
    "              loss='mean_absolute_error',\n",
    "              metrics=['MAE'])\n",
    "history = model.fit(train_matrix_scaled, train_target_scaled,\n",
    "                    epochs=10,\n",
    "                    callbacks=callbacks_list,\n",
    "                    batch_size=512,\n",
    "                    validation_data=(test_matrix_scaled, test_target_scaled))"
   ]
  },
  {
   "cell_type": "code",
   "execution_count": 128,
   "metadata": {},
   "outputs": [
    {
     "name": "stdout",
     "output_type": "stream",
     "text": [
      "_________________________________________________________________\n",
      "Layer (type)                 Output Shape              Param #   \n",
      "=================================================================\n",
      "dense_21 (Dense)             (None, 32)                1152      \n",
      "_________________________________________________________________\n",
      "dropout_16 (Dropout)         (None, 32)                0         \n",
      "_________________________________________________________________\n",
      "dense_22 (Dense)             (None, 12)                396       \n",
      "_________________________________________________________________\n",
      "dropout_17 (Dropout)         (None, 12)                0         \n",
      "_________________________________________________________________\n",
      "dense_23 (Dense)             (None, 12)                156       \n",
      "_________________________________________________________________\n",
      "dropout_18 (Dropout)         (None, 12)                0         \n",
      "_________________________________________________________________\n",
      "dense_24 (Dense)             (None, 1)                 13        \n",
      "=================================================================\n",
      "Total params: 1,717\n",
      "Trainable params: 1,717\n",
      "Non-trainable params: 0\n",
      "_________________________________________________________________\n"
     ]
    }
   ],
   "source": [
    "model_to_load = 'full_conn_model.h5'\n",
    "\n",
    "# Create the network and load the weights into it\n",
    "model = create_fully_connected(test_matrix.shape[1])\n",
    "model.load_weights(model_to_load)\n",
    "\n",
    "model.compile(optimizer='rmsprop',\n",
    "              loss='binary_crossentropy',\n",
    "              metrics=['acc'])\n",
    "test_y_scaled = model.predict(test_matrix_scaled)\n",
    "\n",
    "NN_results = scaler_target.inverse_transform(test_y_scaled).squeeze()"
   ]
  },
  {
   "cell_type": "code",
   "execution_count": 129,
   "metadata": {},
   "outputs": [],
   "source": [
    "rmse_NN = np.sqrt(mean_squared_error(test_target, NN_results))\n",
    "mae_NN = mean_absolute_error(test_target, NN_results)\n"
   ]
  },
  {
   "cell_type": "code",
   "execution_count": 130,
   "metadata": {},
   "outputs": [
    {
     "name": "stdout",
     "output_type": "stream",
     "text": [
      "90.01162198232304\n",
      "40.717511475410156\n"
     ]
    }
   ],
   "source": [
    "print(rmse_NN)\n",
    "print(mae_NN)"
   ]
  },
  {
   "cell_type": "code",
   "execution_count": 131,
   "metadata": {},
   "outputs": [],
   "source": [
    "rmse_best_0 = np.sqrt(mean_squared_error(test_target, stop_events[stop_events['test']]['best_0']))\n",
    "mae_best_0 = mean_absolute_error(test_target, stop_events[stop_events['test']]['best_0'])"
   ]
  },
  {
   "cell_type": "code",
   "execution_count": 132,
   "metadata": {},
   "outputs": [
    {
     "name": "stdout",
     "output_type": "stream",
     "text": [
      "114.68186153819414\n",
      "55.09656764987059\n"
     ]
    }
   ],
   "source": [
    "print(rmse_best_0)\n",
    "print(mae_best_0)"
   ]
  },
  {
   "cell_type": "code",
   "execution_count": 133,
   "metadata": {},
   "outputs": [],
   "source": [
    "rmse_self = np.sqrt(mean_squared_error(test_target, stop_events[stop_events['test']]['self_offset']))\n",
    "mae_self = mean_absolute_error(test_target, stop_events[stop_events['test']]['self_offset'])"
   ]
  },
  {
   "cell_type": "code",
   "execution_count": 134,
   "metadata": {},
   "outputs": [
    {
     "name": "stdout",
     "output_type": "stream",
     "text": [
      "113.88047801845813\n",
      "56.73815264877368\n"
     ]
    }
   ],
   "source": [
    "print(rmse_self)\n",
    "print(mae_self)"
   ]
  },
  {
   "cell_type": "code",
   "execution_count": 135,
   "metadata": {},
   "outputs": [],
   "source": [
    "rmse_null = np.sqrt(mean_squared_error(test_target, [0]*len(test_target)))\n",
    "mae_null = mean_absolute_error(test_target, [0]*len(test_target))"
   ]
  },
  {
   "cell_type": "code",
   "execution_count": 136,
   "metadata": {},
   "outputs": [
    {
     "name": "stdout",
     "output_type": "stream",
     "text": [
      "90.01368912810146\n",
      "40.717423553943895\n"
     ]
    }
   ],
   "source": [
    "print(rmse_null)\n",
    "print(mae_null)"
   ]
  },
  {
   "cell_type": "code",
   "execution_count": 137,
   "metadata": {},
   "outputs": [],
   "source": [
    "# plt.hist(NN_results, alpha=0.5, bins=100, label=\"NN\", range=(-100, 100))\n",
    "# plt.hist(xg_reg_results, bins=100, label=\"XGB\", alpha=0.5,  range=(-100, 100))\n",
    "# # plt.hist(reg_results, bins=100, label=\"Linear\", alpha=0.5,  range=(-100, 100))\n",
    "# plt.hist(stop_events[stop_events['test']]['best_0'], bins=100, alpha=0.5,  label=\"best_0\", range=(-100, 100))\n",
    "# # plt.hist(stop_events['diff_percent_full_segment_and_median_by_segment_code_and_hour_and_day'], bins=200, label=\"target\", range=(-100, 100))\n",
    "# # plt.hist(train_target, bins=200, label=\"train\", range=(-100, 100))\n",
    "# plt.hist(test_target, bins=100, label=\"target\", alpha=0.5,  range=(-100, 100))\n",
    "# # plt.yscale(\"log\")\n",
    "# plt.legend()\n",
    "\n",
    "# plt.show()\n"
   ]
  },
  {
   "cell_type": "code",
   "execution_count": 138,
   "metadata": {},
   "outputs": [],
   "source": [
    "def MAPE(forecast, actual):\n",
    "    \n",
    "    if(len(forecast) != len(actual)):\n",
    "        raise ValueError('Could not calculate MAPE, forecast and actual arrays are different length')\n",
    "        \n",
    "    forecast = np.asarray(forecast)\n",
    "    actual = np.asarray(actual)\n",
    "    \n",
    "    with np.errstate(divide='ignore', invalid='ignore'):\n",
    "        \n",
    "        division = (actual-forecast)/actual\n",
    "        \n",
    "        division[actual == 0] = 0\n",
    "        \n",
    "        # Instead of dividing by n we count by the number of non-zero values. \n",
    "        # Essentially ignoring all cases where the actual value is zero. \n",
    "        mape = 100 / np.count_nonzero(actual) * np.sum(np.abs(division))\n",
    "    \n",
    "    return mape"
   ]
  },
  {
   "cell_type": "code",
   "execution_count": 139,
   "metadata": {},
   "outputs": [
    {
     "data": {
      "image/png": "[encoded data removed]",
      "text/plain": [
       "<Figure size 432x288 with 1 Axes>"
      ]
     },
     "metadata": {
      "needs_background": "light"
     },
     "output_type": "display_data"
    }
   ],
   "source": [
    "plt.hist(NN_results.squeeze(), bins=100);"
   ]
  },
  {
   "cell_type": "code",
   "execution_count": null,
   "metadata": {},
   "outputs": [],
   "source": []
  },
  {
   "cell_type": "code",
   "execution_count": 140,
   "metadata": {},
   "outputs": [
    {
     "name": "stderr",
     "output_type": "stream",
     "text": [
      "../../pipeline/utils/stats.py:20: RuntimeWarning: invalid value encountered in less\n",
      "  self.first_20mins_mask = actual_array_cum < 20 * 60\n"
     ]
    }
   ],
   "source": [
    "stats = Stats(stop_events[stop_events['test']])\n"
   ]
  },
  {
   "cell_type": "code",
   "execution_count": 141,
   "metadata": {},
   "outputs": [
    {
     "name": "stdout",
     "output_type": "stream",
     "text": [
      " & MAPE & RMSE & MAE & PW10 & MAPE & RMSE & MAE & PW10 \\\\\n",
      "Mean (chd) & 36.295 & 34.901 & 15.911 & 25.232 & 16.955 & 151.179 & 97.603 & 39.082 \\\\\n",
      "Median (chd) & 26.413 & 36.555 & 14.653 & 33.557 & 17.027 & 203.746 & 124.710 & 41.029 \\\\\n",
      "Linear & 50.337 & 35.978 & 18.814 & 14.515 & 25.420 & 194.993 & 138.150 & 22.712 \\\\\n",
      "XGBoost & 53.001 & 37.378 & 19.127 & 15.466 & 25.153 & 195.104 & 135.650 & 24.634 \\\\\n",
      "NN & 36.301 & 34.901 & 15.912 & 25.245 & 16.957 & 151.169 & 97.605 & 39.075 \\\\\n",
      "Best Correlation & 56.373 & 54.888 & 23.371 & 19.341 & 27.257 & 243.422 & 150.147 & 27.878 \\\\\n",
      "Self Offset & 61.718 & 58.974 & 24.431 & 18.380 & 29.497 & 272.944 & 163.084 & 26.093 \\\\\n"
     ]
    },
    {
     "data": {
      "text/plain": [
       "' & MAPE & RMSE & MAE & PW10 & MAPE & RMSE & MAE & PW10 \\\\\\\\\\nMean (chd) & 36.295 & 34.901 & 15.911 & 25.232 & 16.955 & 151.179 & 97.603 & 39.082 \\\\\\\\\\nMedian (chd) & 26.413 & 36.555 & 14.653 & 33.557 & 17.027 & 203.746 & 124.710 & 41.029 \\\\\\\\\\nLinear & 50.337 & 35.978 & 18.814 & 14.515 & 25.420 & 194.993 & 138.150 & 22.712 \\\\\\\\\\nXGBoost & 53.001 & 37.378 & 19.127 & 15.466 & 25.153 & 195.104 & 135.650 & 24.634 \\\\\\\\\\nNN & 36.301 & 34.901 & 15.912 & 25.245 & 16.957 & 151.169 & 97.605 & 39.075 \\\\\\\\\\nBest Correlation & 56.373 & 54.888 & 23.371 & 19.341 & 27.257 & 243.422 & 150.147 & 27.878 \\\\\\\\\\nSelf Offset & 61.718 & 58.974 & 24.431 & 18.380 & 29.497 & 272.944 & 163.084 & 26.093 \\\\\\\\\\n'"
      ]
     },
     "execution_count": 141,
     "metadata": {},
     "output_type": "execute_result"
    }
   ],
   "source": [
    "stats.full_stats(tests=[\n",
    "    reg_results,\n",
    "    xg_reg_results,\n",
    "    NN_results.squeeze(),\n",
    "    stop_events[stop_events['test']]['best_0'],\n",
    "    stop_events[stop_events['test']]['self_offset']\n",
    "], names=[\n",
    "    \"Linear\",\n",
    "    \"XGBoost\",\n",
    "    \"NN\",\n",
    "    \"Best Correlation\",\n",
    "    \"Self Offset\"\n",
    "], data_type=\"diff\")"
   ]
  },
  {
   "cell_type": "code",
   "execution_count": null,
   "metadata": {},
   "outputs": [],
   "source": [
    "predict_reg = stop_events[stop_events['test']][\"median_full_durations_by_segment_code_and_hour_and_day\"] * (1+(reg_results/100))\n",
    "\n",
    "predict_xg = stop_events[stop_events['test']][\"median_full_durations_by_segment_code_and_hour_and_day\"] * (1+(xg_reg_results/100))\n",
    "\n",
    "predict_NN = stop_events[stop_events['test']][\"median_full_durations_by_segment_code_and_hour_and_day\"] * (1+(NN_results.squeeze()/100))\n",
    "\n",
    "predict_best_0 = stop_events[stop_events['test']][\"median_full_durations_by_segment_code_and_hour_and_day\"] * (1+(stop_events[stop_events['test']]['best_0']/100))\n",
    "\n",
    "predict_self_offset = stop_events[stop_events['test']][\"median_full_durations_by_segment_code_and_hour_and_day\"] * (1+(stop_events[stop_events['test']]['self_offset']/100))\n",
    "\n",
    "predict_null = stop_events[stop_events['test']][\"median_full_durations_by_segment_code_and_hour_and_day\"]\n"
   ]
  },
  {
   "cell_type": "code",
   "execution_count": null,
   "metadata": {},
   "outputs": [],
   "source": [
    "print(f\"Linear MAPE: {MAPE(predict_reg, stop_events[stop_events['test']]['full_duration'])}\")\n",
    "      \n",
    "print(f\"XGBoost MAPE: {MAPE(predict_xg, stop_events[stop_events['test']]['full_duration'])}\")\n",
    "      \n",
    "print(f\"NN MAPE: {MAPE(predict_NN, stop_events[stop_events['test']]['full_duration'])}\")\n",
    "            \n",
    "print(f\"Best_0 MAPE: {MAPE(predict_best_0, stop_events[stop_events['test']]['full_duration'])}\")\n",
    "      \n",
    "print(f\"self_offset MAPE: {MAPE(predict_self_offset, stop_events[stop_events['test']]['full_duration'])}\")\n",
    "      \n",
    "print(f\"self_null MAPE: {MAPE(predict_null, stop_events[stop_events['test']]['full_duration'])}\")"
   ]
  },
  {
   "cell_type": "code",
   "execution_count": null,
   "metadata": {},
   "outputs": [],
   "source": [
    "# plt.hist(stop_events['30'], bins=100);"
   ]
  },
  {
   "cell_type": "code",
   "execution_count": 44,
   "metadata": {},
   "outputs": [
    {
     "data": {
      "text/plain": [
       "(3253010, 35)"
      ]
     },
     "execution_count": 44,
     "metadata": {},
     "output_type": "execute_result"
    }
   ],
   "source": [
    "train_matrix.shape"
   ]
  },
  {
   "cell_type": "code",
   "execution_count": 108,
   "metadata": {},
   "outputs": [
    {
     "data": {
      "text/plain": [
       "0"
      ]
     },
     "execution_count": 108,
     "metadata": {},
     "output_type": "execute_result"
    }
   ],
   "source": [
    "os.system(\"say -v Fiona Go check your results - predictions\") "
   ]
  },
  {
   "cell_type": "code",
   "execution_count": null,
   "metadata": {},
   "outputs": [],
   "source": [
    "plt.hist(NN_results, bins=100, range=(-.1,.1));"
   ]
  }
 ],
 "metadata": {
  "kernelspec": {
   "display_name": "busses",
   "language": "python",
   "name": "busses"
  },
  "language_info": {
   "codemirror_mode": {
    "name": "ipython",
    "version": 3
   },
   "file_extension": ".py",
   "mimetype": "text/x-python",
   "name": "python",
   "nbconvert_exporter": "python",
   "pygments_lexer": "ipython3",
   "version": "3.7.1"
  }
 },
 "nbformat": 4,
 "nbformat_minor": 2
}
