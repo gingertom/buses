{
 "cells": [
  {
   "cell_type": "code",
   "execution_count": 1,
   "metadata": {},
   "outputs": [
    {
     "name": "stderr",
     "output_type": "stream",
     "text": [
      "Using TensorFlow backend.\n"
     ]
    }
   ],
   "source": [
    "import numpy as np\n",
    "import numpy.ma as ma\n",
    "import pandas as pd\n",
    "import datetime\n",
    "\n",
    "import matplotlib.pyplot as plt\n",
    "\n",
    "from tqdm import tqdm_notebook as tqdm\n",
    "\n",
    "import feather\n",
    "\n",
    "from sklearn.linear_model import LinearRegression\n",
    "\n",
    "from sklearn.metrics import mean_squared_error, mean_absolute_error\n",
    "\n",
    "import os\n",
    "os.environ['KMP_DUPLICATE_LIB_OK']='True'\n",
    "\n",
    "import xgboost as xgb\n",
    "\n",
    "import keras\n",
    "from keras.preprocessing import sequence\n",
    "from keras import layers, Input, Model\n",
    "from keras.models import Sequential\n",
    "from keras.layers import Embedding, Flatten, Dense, Lambda\n",
    "\n",
    "from sklearn import preprocessing\n",
    "\n",
    "import os\n",
    "\n",
    "from sklearn.linear_model import BayesianRidge, LinearRegression\n",
    "\n",
    "import sys\n",
    "sys.path.append(\"../../\")\n",
    "\n",
    "from pipeline.utils.stats import Stats\n"
   ]
  },
  {
   "cell_type": "code",
   "execution_count": 2,
   "metadata": {},
   "outputs": [],
   "source": [
    "def load_data(time_span=5):\n",
    "    stop_events = feather.read_dataframe(\"../../data_files/B/once/75days/stop_events_with_geo_train_test_averages_prev_next_dwell.feather\")\n",
    "    stop_events = stop_events.set_index(stop_events.columns[0])\n",
    "    \n",
    "    stop_events[f\"arrival_{time_span}mins\"] = stop_events[\"actualArrival\"].dt.round(f\"{time_span} min\")\n",
    "    stop_events['offset_timestamp'] = stop_events[f\"arrival_{time_span}mins\"] - pd.Timedelta(f\"{time_span} min\")\n",
    "\n",
    "    time_series = feather.read_dataframe(f\"../../data_files/B/once/75days/{time_span}mins/diff_percent_from_code_hour_day_-_full_segment_time_series.feather\")\n",
    "    time_series = time_series.set_index(time_series.columns[0])\n",
    "    \n",
    "#     time_series.columns = list(map(lambda x: x[:-2], time_series.columns))\n",
    "\n",
    "    time_series = time_series.interpolate(\n",
    "        method=\"pad\", axis=0, limit=11\n",
    "    )\n",
    "    \n",
    "    stop_events = filter_rare(stop_events)\n",
    "    \n",
    "    stop_events[\"diff_segment_and_mean_by_segment_code\"] = (\n",
    "        stop_events[\"segment_duration\"]\n",
    "        - stop_events[\"mean_durations_by_segment_code\"]\n",
    "    )\n",
    "    stop_events[\"diff_segment_and_mean_by_segment_code_and_hour_and_day\"] = (\n",
    "        stop_events[\"segment_duration\"]\n",
    "        - stop_events[\"mean_durations_by_segment_code_and_hour_and_day\"]\n",
    "    )\n",
    "\n",
    "    stop_events[\"diff_percent_segment_and_mean_by_segment_code\"] = (\n",
    "        stop_events[\"diff_segment_and_mean_by_segment_code\"]\n",
    "        * 100\n",
    "        / stop_events[\"mean_durations_by_segment_code\"]\n",
    "    )\n",
    "\n",
    "    stop_events[\"diff_percent_segment_and_mean_by_segment_code_and_hour_and_day\"] = (\n",
    "        stop_events[\"diff_segment_and_mean_by_segment_code_and_hour_and_day\"]\n",
    "        * 100\n",
    "        / stop_events[\"mean_durations_by_segment_code_and_hour_and_day\"]\n",
    "    )\n",
    "    \n",
    "    stop_events[\"arrival_5mins\"] = stop_events[\"actualArrival\"].dt.round(\"5min\")\n",
    "    stop_events[\"arrival_10mins\"] = stop_events[\"actualArrival\"].dt.round(\"10min\")\n",
    "    stop_events[\"arrival_60mins\"] = stop_events[\"date\"] + pd.to_timedelta(\n",
    "        stop_events[\"arrival_hour\"].values, unit=\"h\"\n",
    "    )\n",
    "    \n",
    "    return stop_events, time_series\n",
    "\n",
    "def MAPE(forecast, actual):\n",
    "    \n",
    "    if(len(forecast) != len(actual)):\n",
    "        raise ValueError('Could not calculate MAPE, forecast and actual arrays are different length')\n",
    "        \n",
    "    forecast = np.asarray(forecast)\n",
    "    actual = np.asarray(actual)\n",
    "    \n",
    "    with np.errstate(divide='ignore', invalid='ignore'):\n",
    "        \n",
    "        division = (actual-forecast)/actual\n",
    "        \n",
    "        division[actual == 0] = 0\n",
    "        \n",
    "        # Instead of dividing by n we count by the number of non-zero values. \n",
    "        # Essentially ignoring all cases where the actual value is zero. \n",
    "        mape = 100 / np.count_nonzero(actual) * np.sum(np.abs(division))\n",
    "    \n",
    "    return mape\n",
    "\n",
    "def filter_rare(stop_events):\n",
    "\n",
    "    print(\"Calculating rare segments...\")\n",
    "\n",
    "    segment_counts = stop_events.groupby(\"segment_code\").size()\n",
    "\n",
    "    filtered_stop_events = stop_events.drop(\n",
    "        stop_events[\n",
    "            stop_events[\"segment_code\"].isin(\n",
    "                segment_counts[segment_counts < 120].index.values\n",
    "            )\n",
    "        ].index\n",
    "    )\n",
    "\n",
    "    print(\"\\tCalculated\")\n",
    "\n",
    "    return filtered_stop_events\n",
    "\n"
   ]
  },
  {
   "cell_type": "code",
   "execution_count": 3,
   "metadata": {},
   "outputs": [
    {
     "name": "stdout",
     "output_type": "stream",
     "text": [
      "Calculating rare segments...\n",
      "\tCalculated\n"
     ]
    }
   ],
   "source": [
    "se, ts = load_data(5)"
   ]
  },
  {
   "cell_type": "code",
   "execution_count": 4,
   "metadata": {},
   "outputs": [],
   "source": [
    "# segments = se.groupby('segment_code')"
   ]
  },
  {
   "cell_type": "code",
   "execution_count": 5,
   "metadata": {},
   "outputs": [],
   "source": [
    "def do_mape(actual_thing, predict):\n",
    "    \n",
    "    with np.errstate(divide='ignore', invalid='ignore'):\n",
    "\n",
    "        division = (actual_thing[:,None] - predict)/actual_thing[:,None]\n",
    "\n",
    "        division[actual_thing == 0, :] = 0\n",
    "\n",
    "        mape = 100 / np.count_nonzero(actual_thing) * np.sum(np.abs(division), axis=0)\n",
    "\n",
    "    return mape\n",
    "\n",
    "def brute_force_mapes(stop_e, \n",
    "                      window=5,\n",
    "                      thing=\"segment_duration\",\n",
    "                      base=\"mean_durations_by_segment_code_and_hour_and_day\",\n",
    "                      diff=\"diff_percent_segment_and_mean_by_segment_code_and_hour_and_day\", \n",
    "                      absolute=False, speed=False, log=False):\n",
    "\n",
    "    time_s = stop_e.pivot_table(\n",
    "        index=f\"arrival_{window}mins\",\n",
    "        columns=\"segment_code\",\n",
    "        values=diff,\n",
    "        aggfunc=np.mean,\n",
    "    ).interpolate(\n",
    "        method=\"pad\", axis=0, limit=11\n",
    "    ).replace([np.inf, np.nan, -np.inf], 0)\n",
    "    \n",
    "    segments = stop_e.groupby('segment_code')\n",
    "\n",
    "    best_preds = []\n",
    "    best_code_pairs = []\n",
    "    test_events_per_segement = []\n",
    "#     bayesian_predict = []\n",
    "\n",
    "    for segment_code, segment_events in tqdm(segments):\n",
    "        \n",
    "        # Train stage\n",
    "\n",
    "        actual_thing = segment_events[segment_events['train']][thing].values\n",
    "        \n",
    "        actual_thing_indicies = segment_events[segment_events['train']].index\n",
    "\n",
    "        actual_base = segment_events[segment_events['train']][base].values\n",
    "\n",
    "#         predict_array = time_s.loc[segment_events[segment_events['train']][f\"arrival_{window}mins\"].values]\n",
    "        \n",
    "        predict_array = time_s.loc[segment_events[segment_events['train']][\"offset_timestamp\"].values - pd.Timedelta(f\"15 min\")]\n",
    "\n",
    "#         predict = actual_base[:,None] * (1+(predict_array/100))\n",
    "        \n",
    "        if(absolute):\n",
    "            predict = actual_base[:,None] + predict_array\n",
    "        else:\n",
    "            predict = actual_base[:,None] * (1+(predict_array/100))\n",
    "            \n",
    "        if(speed):\n",
    "            predict = segment_events.iloc[0,:]['line_distance']/predict\n",
    "            \n",
    "        if(log):\n",
    "            predict = np.exp(predict)\n",
    "            \n",
    "        mape = do_mape(actual_thing, predict.values)\n",
    "            \n",
    "        best_columns = np.argsort(mape)\n",
    "        \n",
    "        best_code_pairs.append([segment_code, time_s.columns[best_columns[0]]])\n",
    "        \n",
    "        se.loc[actual_thing_indicies, 'pred'] = predict_array.values[:,best_columns[0]]\n",
    "        \n",
    "#         clf = BayesianRidge()\n",
    "        \n",
    "#         clf.fit(predict.iloc[:, best_columns[:10]].replace(np.nan, 0), actual_thing)\n",
    "        \n",
    "        \n",
    "        # Test stage\n",
    "        \n",
    "        actual_thing_test = segment_events[segment_events['test']][thing].values\n",
    "        actual_thing_test_indices = segment_events[segment_events['test']].index\n",
    "        \n",
    "        if(np.count_nonzero(actual_thing_test) == 0):\n",
    "            best_preds.append([np.nan] * time_s.shape[1])\n",
    "            test_events_per_segement.append(0)\n",
    "#             bayesian_predict.append(0)\n",
    "            continue \n",
    "\n",
    "        actual_base_test = segment_events[segment_events['test']][base].values\n",
    "\n",
    "#         predict_array_test = time_s.loc[segment_events[segment_events['test']][f\"arrival_{window}mins\"].values]\n",
    "        predict_array_test = time_s.loc[segment_events[segment_events['test']][\"offset_timestamp\"].values - pd.Timedelta(f\"15 min\")]\n",
    "        \n",
    "        if(absolute):\n",
    "            predict_test = actual_base_test[:,None] + predict_array_test\n",
    "        else:\n",
    "            predict_test = actual_base_test[:,None] * (1+(predict_array_test/100))\n",
    "            \n",
    "        if(speed):\n",
    "            predict_test = segment_events.iloc[0,:]['line_distance']/predict_test\n",
    "        \n",
    "        \n",
    "        predict_test = predict_test.iloc[:,best_columns]\n",
    "        \n",
    "#         predict_bayesian_test = clf.predict(predict_test.iloc[:,best_columns[:10]].replace(np.nan, 0))\n",
    "        \n",
    "        if(log):\n",
    "            predict_test = np.exp(predict_test)\n",
    "#             predict_bayesian_test = np.exp(predict_bayesian_test)\n",
    "\n",
    "        se.loc[actual_thing_test_indices, 'pred'] = predict_array_test.values[:,best_columns[0]]\n",
    "        \n",
    "        mape_test = do_mape(actual_thing_test, predict_test.values)\n",
    "        \n",
    "#         mape_bayes_test = do_mape(actual_thing_test, predict_bayesian_test[:,None])\n",
    "        \n",
    "        best_preds.append(mape_test)\n",
    "        test_events_per_segement.append(actual_base_test.shape[0])\n",
    "#         bayesian_predict.append(float(mape_bayes_test))\n",
    "        \n",
    "    best_preds = np.array(best_preds)\n",
    "    best_code_pairs = np.array(best_code_pairs)\n",
    "    test_events_per_segement = np.array(test_events_per_segement).squeeze()\n",
    "#     bayesian_predict = np.array(bayesian_predict, dtype=float)\n",
    "    \n",
    "    total_test = np.count_nonzero(stop_e['test'])\n",
    "    \n",
    "    ma = np.ma.MaskedArray(best_preds, mask=np.isnan(best_preds))\n",
    "    weighted_mapes = np.ma.average(ma, weights=test_events_per_segement, axis=0)\n",
    "    \n",
    "#     print(bayesian_predict.dtype, test_events_per_segement.dtype)\n",
    "    \n",
    "#     weighted_bayes_mape = np.average(bayesian_predict, weights=test_events_per_segement)\n",
    "            \n",
    "    plt.plot(weighted_mapes[:30])\n",
    "    plt.title(f\"Using {base}\\nto predict {thing} with {window}min time windows\")\n",
    "    plt.show()\n",
    "        \n",
    "    return best_preds, weighted_mapes# bayesian_predict, weighted_bayes_mape\n",
    "            \n",
    "    "
   ]
  },
  {
   "cell_type": "code",
   "execution_count": 6,
   "metadata": {},
   "outputs": [
    {
     "name": "stdout",
     "output_type": "stream",
     "text": [
      "(5,)\n"
     ]
    },
    {
     "data": {
      "text/plain": [
       "15"
      ]
     },
     "execution_count": 6,
     "metadata": {},
     "output_type": "execute_result"
    }
   ],
   "source": [
    "a = np.array([1,2,3,4,5])\n",
    "\n",
    "print(a.shape)\n",
    "\n",
    "np.sum(a, axis=0)"
   ]
  },
  {
   "cell_type": "code",
   "execution_count": 7,
   "metadata": {},
   "outputs": [
    {
     "data": {
      "application/vnd.jupyter.widget-view+json": {
       "model_id": "2747186c172c425789ef58e1575476d3",
       "version_major": 2,
       "version_minor": 0
      },
      "text/plain": [
       "HBox(children=(IntProgress(value=0, max=1018), HTML(value='')))"
      ]
     },
     "metadata": {},
     "output_type": "display_data"
    },
    {
     "name": "stderr",
     "output_type": "stream",
     "text": [
      "/Users/tommelamed/anaconda3/envs/busses/lib/python3.7/site-packages/ipykernel_launcher.py:48: FutureWarning: \n",
      "Passing list-likes to .loc or [] with any missing label will raise\n",
      "KeyError in the future, you can use .reindex() as an alternative.\n",
      "\n",
      "See the documentation here:\n",
      "https://pandas.pydata.org/pandas-docs/stable/indexing.html#deprecate-loc-reindex-listlike\n",
      "/Users/tommelamed/anaconda3/envs/busses/lib/python3.7/site-packages/ipykernel_launcher.py:90: FutureWarning: \n",
      "Passing list-likes to .loc or [] with any missing label will raise\n",
      "KeyError in the future, you can use .reindex() as an alternative.\n",
      "\n",
      "See the documentation here:\n",
      "https://pandas.pydata.org/pandas-docs/stable/indexing.html#deprecate-loc-reindex-listlike\n"
     ]
    },
    {
     "name": "stdout",
     "output_type": "stream",
     "text": [
      "\n"
     ]
    },
    {
     "data": {
      "image/png": "[encoded data removed]",
      "text/plain": [
       "<Figure size 432x288 with 1 Axes>"
      ]
     },
     "metadata": {
      "needs_background": "light"
     },
     "output_type": "display_data"
    }
   ],
   "source": [
    "se['wrapper_pred'] = 0\n",
    "\n",
    "best_preds,weighted_mapes = brute_force_mapes(se);\n",
    "\n"
   ]
  },
  {
   "cell_type": "code",
   "execution_count": 8,
   "metadata": {},
   "outputs": [
    {
     "name": "stderr",
     "output_type": "stream",
     "text": [
      "../../pipeline/utils/stats.py:20: RuntimeWarning: invalid value encountered in less\n",
      "  self.first_20mins_mask = actual_array_cum < 20 * 60\n",
      "../../pipeline/utils/stats.py:191: RuntimeWarning: invalid value encountered in less\n",
      "  < actual_array_cum[first_20mins_mask] * 1.1\n",
      "../../pipeline/utils/stats.py:195: RuntimeWarning: invalid value encountered in greater\n",
      "  > actual_array_cum[first_20mins_mask] * 0.9\n"
     ]
    },
    {
     "name": "stdout",
     "output_type": "stream",
     "text": [
      "Wrapper ST Filtering & 40.092 & 37.993 & 17.440 & 23.461 & 18.934 & 168.542 & 107.638 & 36.351 \\\\\n"
     ]
    },
    {
     "name": "stderr",
     "output_type": "stream",
     "text": [
      "/Users/tommelamed/.local/lib/python3.7/site-packages/numpy/lib/histograms.py:824: RuntimeWarning: invalid value encountered in greater_equal\n",
      "  keep = (tmp_a >= first_edge)\n",
      "/Users/tommelamed/.local/lib/python3.7/site-packages/numpy/lib/histograms.py:825: RuntimeWarning: invalid value encountered in less_equal\n",
      "  keep &= (tmp_a <= last_edge)\n"
     ]
    },
    {
     "data": {
      "image/png": "[encoded data removed]",
      "text/plain": [
       "<Figure size 432x288 with 1 Axes>"
      ]
     },
     "metadata": {
      "needs_background": "light"
     },
     "output_type": "display_data"
    }
   ],
   "source": [
    "stats = Stats(se[se['test']])\n",
    "\n",
    "stats.single_row(se[se['test']]['pred'], \"Wrapper ST Filtering\", data_type=\"diff\")\n",
    "\n",
    "plt.hist(se[se['test']]['pred'], bins=100, range=(0,100));"
   ]
  },
  {
   "cell_type": "code",
   "execution_count": 9,
   "metadata": {},
   "outputs": [
    {
     "data": {
      "image/png": "[encoded data removed]",
      "text/plain": [
       "<Figure size 432x288 with 1 Axes>"
      ]
     },
     "metadata": {
      "needs_background": "light"
     },
     "output_type": "display_data"
    }
   ],
   "source": [
    "plt.hist2d(se.loc[se['test'], 'diff_percent_segment_and_mean_by_segment_code_and_hour_and_day'], se.loc[se['test'], 'pred'], bins=[50,50], range=[[-200,200],[-200,200]]);\n"
   ]
  },
  {
   "cell_type": "code",
   "execution_count": 10,
   "metadata": {},
   "outputs": [
    {
     "data": {
      "text/plain": [
       "masked_array(data=[39.89859378593951, 40.38656633369807,\n",
       "                   39.817646950647664, ..., 72.16030072621598,\n",
       "                   73.17807008997356, 72.78381264767944],\n",
       "             mask=[False, False, False, ..., False, False, False],\n",
       "       fill_value=1e+20)"
      ]
     },
     "execution_count": 10,
     "metadata": {},
     "output_type": "execute_result"
    }
   ],
   "source": [
    "weighted_mapes"
   ]
  },
  {
   "cell_type": "code",
   "execution_count": null,
   "metadata": {},
   "outputs": [],
   "source": []
  },
  {
   "cell_type": "code",
   "execution_count": 11,
   "metadata": {},
   "outputs": [],
   "source": [
    "# plt.hist(b_pred, bins=100, label=\"bayes\")\n",
    "# plt.hist(best_preds[:,4], bins=100, label=\"best\")\n",
    "# plt.legend()\n",
    "# plt.show()"
   ]
  },
  {
   "cell_type": "code",
   "execution_count": 13,
   "metadata": {},
   "outputs": [
    {
     "data": {
      "application/vnd.jupyter.widget-view+json": {
       "model_id": "c3b07a9511ed4235976dfb09802fb7a1",
       "version_major": 2,
       "version_minor": 0
      },
      "text/plain": [
       "HBox(children=(IntProgress(value=0, max=1018), HTML(value='')))"
      ]
     },
     "metadata": {},
     "output_type": "display_data"
    },
    {
     "name": "stderr",
     "output_type": "stream",
     "text": [
      "/Users/tommelamed/anaconda3/envs/busses/lib/python3.7/site-packages/ipykernel_launcher.py:48: FutureWarning: \n",
      "Passing list-likes to .loc or [] with any missing label will raise\n",
      "KeyError in the future, you can use .reindex() as an alternative.\n",
      "\n",
      "See the documentation here:\n",
      "https://pandas.pydata.org/pandas-docs/stable/indexing.html#deprecate-loc-reindex-listlike\n",
      "/Users/tommelamed/anaconda3/envs/busses/lib/python3.7/site-packages/ipykernel_launcher.py:90: FutureWarning: \n",
      "Passing list-likes to .loc or [] with any missing label will raise\n",
      "KeyError in the future, you can use .reindex() as an alternative.\n",
      "\n",
      "See the documentation here:\n",
      "https://pandas.pydata.org/pandas-docs/stable/indexing.html#deprecate-loc-reindex-listlike\n"
     ]
    },
    {
     "data": {
      "image/png": "[encoded data removed]",
      "text/plain": [
       "<Figure size 432x288 with 1 Axes>"
      ]
     },
     "metadata": {
      "needs_background": "light"
     },
     "output_type": "display_data"
    }
   ],
   "source": [
    "brute_force_mapes(se, window=5,\n",
    "                      thing=\"full_duration\",\n",
    "                      base=\"median_full_durations_by_segment_code_and_hour_and_day\",\n",
    "                      diff=\"diff_percent_full_segment_and_median_by_segment_code_and_hour_and_day\");"
   ]
  },
  {
   "cell_type": "code",
   "execution_count": 14,
   "metadata": {},
   "outputs": [],
   "source": [
    "se[\"diff_segment_and_median_by_segment_code_and_hour_and_day\"] = (\n",
    "    se[\"segment_duration\"]\n",
    "    - se[\"mean_durations_by_segment_code_and_hour_and_day\"]\n",
    ")\n",
    "\n",
    "se[\"diff_percent_segment_and_median_by_segment_code_and_hour_and_day\"] = (\n",
    "    se[\"diff_segment_and_median_by_segment_code_and_hour_and_day\"]\n",
    "    * 100\n",
    "    / se[\"mean_durations_by_segment_code_and_hour_and_day\"]\n",
    ")"
   ]
  },
  {
   "cell_type": "code",
   "execution_count": null,
   "metadata": {},
   "outputs": [
    {
     "data": {
      "application/vnd.jupyter.widget-view+json": {
       "model_id": "a0692fabf8e74128948cd2b063e9d5b4",
       "version_major": 2,
       "version_minor": 0
      },
      "text/plain": [
       "HBox(children=(IntProgress(value=0, max=1018), HTML(value='')))"
      ]
     },
     "metadata": {},
     "output_type": "display_data"
    }
   ],
   "source": [
    "brute_force_mapes(se, window=5, \n",
    "                  thing=\"segment_duration\", \n",
    "                  base=\"mean_durations_by_segment_code_and_hour_and_day\", \n",
    "                  diff=\"diff_percent_segment_and_median_by_segment_code_and_hour_and_day\");"
   ]
  },
  {
   "cell_type": "code",
   "execution_count": null,
   "metadata": {},
   "outputs": [],
   "source": [
    "brute_force_mapes(se, window=5, \n",
    "                  thing=\"segment_duration\", \n",
    "                  base=\"mean_durations_by_segment_code_and_hour_and_day\", \n",
    "                  diff=\"diff_percent_segment_and_median_by_segment_code_and_hour_and_day\");"
   ]
  },
  {
   "cell_type": "code",
   "execution_count": null,
   "metadata": {},
   "outputs": [],
   "source": [
    "se[\"diff_dwell_and_median_by_segment_code_and_hour_and_day\"] = (\n",
    "    se[\"dwell_duration_prev\"]\n",
    "    - se[\"median_dwell_prev_by_stop_code_and_hour_and_day\"]\n",
    ")\n",
    "\n",
    "se[\"diff_percent_dwell_and_median_by_segment_code_and_hour_and_day\"] = (\n",
    "    se[\"diff_dwell_and_median_by_segment_code_and_hour_and_day\"]\n",
    "    * 100\n",
    "    / se[\"median_dwell_prev_by_stop_code_and_hour_and_day\"]\n",
    ")"
   ]
  },
  {
   "cell_type": "code",
   "execution_count": null,
   "metadata": {},
   "outputs": [],
   "source": [
    "brute_force_mapes(se, window=5, \n",
    "                  thing=\"dwell_duration_prev\", \n",
    "                  base=\"median_dwell_prev_by_stop_code_and_hour_and_day\", \n",
    "                  diff=\"diff_percent_dwell_and_median_by_segment_code_and_hour_and_day\");"
   ]
  },
  {
   "cell_type": "code",
   "execution_count": null,
   "metadata": {},
   "outputs": [],
   "source": [
    "brute_force_mapes(se, window=5, \n",
    "                  thing=\"dwell_duration_prev\", \n",
    "                  base=\"median_dwell_prev_by_stop_code_and_hour_and_day\", \n",
    "                  diff=\"diff_percent_dwell_and_median_by_segment_code_and_hour_and_day\");"
   ]
  },
  {
   "cell_type": "code",
   "execution_count": null,
   "metadata": {},
   "outputs": [],
   "source": [
    "brute_force_mapes(se, window=5, \n",
    "                  thing=\"segment_duration\", \n",
    "                  base=\"median_durations_by_segment_code_and_hour_and_day\", \n",
    "                  diff=\"diff_segment_and_median_by_segment_code_and_hour_and_day\", \n",
    "                  absolute=True);"
   ]
  },
  {
   "cell_type": "code",
   "execution_count": null,
   "metadata": {},
   "outputs": [],
   "source": [
    "brute_force_mapes(se, window=10, \n",
    "                  thing=\"segment_duration\", \n",
    "                  base=\"median_durations_by_segment_code_and_hour_and_day\", \n",
    "                  diff=\"diff_segment_and_median_by_segment_code_and_hour_and_day\", \n",
    "                  absolute=True);"
   ]
  },
  {
   "cell_type": "code",
   "execution_count": null,
   "metadata": {},
   "outputs": [],
   "source": [
    "se['speed'] = se['line_distance']/se['segment_duration']\n",
    "\n",
    "segment_code_and_hour_and_day_groups = se[se[\"train\"]].groupby(\n",
    "        [\"segment_code\", \"arrival_hour\", \"arrival_day\"]\n",
    "    )\n",
    "\n",
    "median_speed_by_segment_code_and_hour_and_day = (\n",
    "        segment_code_and_hour_and_day_groups[\"speed\"]\n",
    "        .median()\n",
    "        .rename(\"median_speed_by_segment_code_and_hour_and_day\")\n",
    "    )\n",
    "se = se.merge(\n",
    "    median_speed_by_segment_code_and_hour_and_day.to_frame(),\n",
    "    \"left\",\n",
    "    left_on=[\"segment_code\", \"arrival_hour\", \"arrival_day\"],\n",
    "    right_index=True,\n",
    ")\n",
    "\n",
    "se[\"diff_speed_and_median_by_segment_code_and_hour_and_day\"] = (\n",
    "    se[\"speed\"]\n",
    "    - se[\"median_speed_by_segment_code_and_hour_and_day\"]\n",
    ")\n",
    "\n",
    "se[\"diff_percent_speed_and_median_by_segment_code_and_hour_and_day\"] = (\n",
    "    se[\"diff_speed_and_median_by_segment_code_and_hour_and_day\"]\n",
    "    * 100\n",
    "    / se[\"median_speed_by_segment_code_and_hour_and_day\"]\n",
    ")"
   ]
  },
  {
   "cell_type": "code",
   "execution_count": null,
   "metadata": {},
   "outputs": [],
   "source": [
    "best_preds, weighted_mapes = brute_force_mapes(se, window=5, \n",
    "                  thing=\"segment_duration\", \n",
    "                  base=\"median_speed_by_segment_code_and_hour_and_day\", \n",
    "                  diff=\"diff_speed_and_median_by_segment_code_and_hour_and_day\", \n",
    "                  absolute=True, speed=True)"
   ]
  },
  {
   "cell_type": "code",
   "execution_count": null,
   "metadata": {},
   "outputs": [],
   "source": [
    "brute_force_mapes(se, window=10, \n",
    "                  thing=\"segment_duration\", \n",
    "                  base=\"median_speed_by_segment_code_and_hour_and_day\", \n",
    "                  diff=\"diff_speed_and_median_by_segment_code_and_hour_and_day\", \n",
    "                  absolute=True, speed=True);"
   ]
  },
  {
   "cell_type": "code",
   "execution_count": null,
   "metadata": {},
   "outputs": [],
   "source": [
    "brute_force_mapes(se, window=5, \n",
    "                  thing=\"segment_duration\", \n",
    "                  base=\"median_speed_by_segment_code_and_hour_and_day\", \n",
    "                  diff=\"diff_percent_speed_and_median_by_segment_code_and_hour_and_day\", \n",
    "                  absolute=False, speed=True);"
   ]
  },
  {
   "cell_type": "code",
   "execution_count": null,
   "metadata": {},
   "outputs": [],
   "source": [
    "best_preds, weighted_mapes = brute_force_mapes(se, window=10, \n",
    "                  thing=\"segment_duration\", \n",
    "                  base=\"median_speed_by_segment_code_and_hour_and_day\", \n",
    "                  diff=\"diff_percent_speed_and_median_by_segment_code_and_hour_and_day\", \n",
    "                  absolute=False, speed=True);"
   ]
  },
  {
   "cell_type": "code",
   "execution_count": null,
   "metadata": {},
   "outputs": [],
   "source": [
    "se['log_seg_dur'] = np.log(se['segment_duration'])\n",
    "\n",
    "segment_code_and_hour_and_day_groups = se[se[\"train\"]].groupby(\n",
    "        [\"segment_code\", \"arrival_hour\", \"arrival_day\"]\n",
    "    )\n",
    "\n",
    "median_log_dur_by_segment_code_and_hour_and_day = (\n",
    "        segment_code_and_hour_and_day_groups[\"log_seg_dur\"]\n",
    "        .median()\n",
    "        .rename(\"median_log_dur_by_segment_code_and_hour_and_day\")\n",
    "    )\n",
    "se = se.merge(\n",
    "    median_log_dur_by_segment_code_and_hour_and_day.to_frame(),\n",
    "    \"left\",\n",
    "    left_on=[\"segment_code\", \"arrival_hour\", \"arrival_day\"],\n",
    "    right_index=True,\n",
    ")\n",
    "\n",
    "se[\"diff_median_log_dur_by_segment_code_and_hour_and_day\"] = (\n",
    "    se[\"log_seg_dur\"]\n",
    "    - se[\"median_log_dur_by_segment_code_and_hour_and_day\"]\n",
    ")\n",
    "\n",
    "se[\"diff_percent_median_log_dur_by_segment_code_and_hour_and_day\"] = (\n",
    "    se[\"diff_median_log_dur_by_segment_code_and_hour_and_day\"]\n",
    "    * 100\n",
    "    / se[\"median_log_dur_by_segment_code_and_hour_and_day\"]\n",
    ")"
   ]
  },
  {
   "cell_type": "code",
   "execution_count": null,
   "metadata": {},
   "outputs": [],
   "source": [
    "best_preds, weighted_mapes = brute_force_mapes(se, window=10, \n",
    "                  thing=\"segment_duration\", \n",
    "                  base=\"median_log_dur_by_segment_code_and_hour_and_day\", \n",
    "                  diff=\"diff_median_log_dur_by_segment_code_and_hour_and_day\", \n",
    "                  absolute=True, speed=False, log=True);"
   ]
  },
  {
   "cell_type": "code",
   "execution_count": null,
   "metadata": {},
   "outputs": [],
   "source": [
    "best_preds, weighted_mapes = brute_force_mapes(se, window=10, \n",
    "                  thing=\"segment_duration\", \n",
    "                  base=\"median_log_dur_by_segment_code_and_hour_and_day\", \n",
    "                  diff=\"diff_percent_median_log_dur_by_segment_code_and_hour_and_day\", \n",
    "                  absolute=False, speed=False, log=True);"
   ]
  },
  {
   "cell_type": "code",
   "execution_count": null,
   "metadata": {},
   "outputs": [],
   "source": []
  },
  {
   "cell_type": "code",
   "execution_count": null,
   "metadata": {},
   "outputs": [],
   "source": []
  },
  {
   "cell_type": "code",
   "execution_count": null,
   "metadata": {},
   "outputs": [],
   "source": [
    "plt.hist(best_preds[:,0], bins=100, range=(0,400), alpha=0.3, label=\"0\")\n",
    "plt.hist(best_preds[:,1], bins=100, range=(0,400), alpha=0.3, label=\"1\")\n",
    "plt.hist(best_preds[:,2], bins=100, range=(0,400), alpha=0.3, label=\"2\")\n",
    "plt.hist(best_preds[:,3], bins=100, range=(0,400), alpha=0.3, label=\"3\")\n",
    "plt.hist(best_preds[:,4], bins=100, range=(0,400), alpha=0.3, label=\"4\")\n",
    "plt.legend()\n",
    "plt.ylim((0,200))\n",
    "plt.show()"
   ]
  },
  {
   "cell_type": "code",
   "execution_count": null,
   "metadata": {},
   "outputs": [],
   "source": [
    "ma = np.ma.MaskedArray(best_preds, mask=np.isnan(best_preds))\n",
    "weighted_mapes = np.ma.average(ma, weights=test_events_per_segement.squeeze(), axis=0)"
   ]
  },
  {
   "cell_type": "code",
   "execution_count": null,
   "metadata": {},
   "outputs": [],
   "source": [
    "plt.plot(weighted_mapes[:10])\n",
    "plt.ylim((0,100))\n",
    "plt.show()"
   ]
  },
  {
   "cell_type": "code",
   "execution_count": null,
   "metadata": {},
   "outputs": [],
   "source": []
  }
 ],
 "metadata": {
  "kernelspec": {
   "display_name": "busses",
   "language": "python",
   "name": "busses"
  },
  "language_info": {
   "codemirror_mode": {
    "name": "ipython",
    "version": 3
   },
   "file_extension": ".py",
   "mimetype": "text/x-python",
   "name": "python",
   "nbconvert_exporter": "python",
   "pygments_lexer": "ipython3",
   "version": "3.7.1"
  }
 },
 "nbformat": 4,
 "nbformat_minor": 2
}
