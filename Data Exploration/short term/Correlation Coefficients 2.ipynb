{
 "cells": [
  {
   "cell_type": "code",
   "execution_count": 90,
   "metadata": {},
   "outputs": [],
   "source": [
    "import numpy as np\n",
    "import numpy.ma as ma\n",
    "import pandas as pd\n",
    "import datetime\n",
    "\n",
    "import matplotlib.pyplot as plt\n",
    "\n",
    "from tqdm import tqdm\n",
    "\n",
    "import feather"
   ]
  },
  {
   "cell_type": "code",
   "execution_count": 91,
   "metadata": {},
   "outputs": [],
   "source": [
    "# # Load in the time_series from the previous stage in the pipeline\n",
    "# time_series = feather.read_dataframe(\"../data_files/B/once/75days/10mins/interp_diff_percent_from_code_-_full_segment_time_series.feather\")\n",
    "# time_series = time_series.set_index(time_series.columns[0])\n"
   ]
  },
  {
   "cell_type": "code",
   "execution_count": 92,
   "metadata": {},
   "outputs": [],
   "source": [
    "# time_series5 = feather.read_dataframe(\"../data_files/B/once/75days/5mins/interp_diff_percent_from_code_-_full_segment_time_series.feather\")\n",
    "# time_series5 = time_series5.set_index(time_series5.columns[0])\n",
    "\n"
   ]
  },
  {
   "cell_type": "code",
   "execution_count": 93,
   "metadata": {},
   "outputs": [],
   "source": [
    "# time_series1 = feather.read_dataframe(\"../data_files/B/once/75days/1hour/interp_diff_percent_from_code_-_full_segment_time_series.feather\")\n",
    "# time_series1 = time_series1.set_index(time_series1.columns[0])\n",
    "\n"
   ]
  },
  {
   "cell_type": "code",
   "execution_count": 94,
   "metadata": {},
   "outputs": [
    {
     "name": "stdout",
     "output_type": "stream",
     "text": [
      "Loading data...\n"
     ]
    }
   ],
   "source": [
    "print(\"Loading data...\")\n",
    "\n",
    "# time_series_1hour_c = feather.read_dataframe(\n",
    "#     \"../../data_files/B/once/75days/1hour/padded_diff_percent_from_code_-_full_segment_time_series.feather\"\n",
    "# )\n",
    "\n",
    "time_series_1hour_chd = feather.read_dataframe(\n",
    "    \"../../data_files/B/once/75days/1hour/diff_percent_from_code_hour_day_-_full_segment_time_series.feather\"\n",
    ")\n",
    "\n",
    "# time_series_10mins_c = feather.read_dataframe(\n",
    "#     \"../../data_files/B/once/75days/10mins/diff_percent_from_code_-_full_segment_time_series.feather\"\n",
    "# )\n",
    "\n",
    "time_series_10mins_chd = feather.read_dataframe(\n",
    "    \"../../data_files/B/once/75days/10mins/diff_percent_from_code_hour_day_-_full_segment_time_series.feather\"\n",
    ")\n",
    "\n",
    "# time_series_5mins_c = feather.read_dataframe(\n",
    "#     \"../../data_files/B/once/75days/5mins/diff_percent_from_code_-_full_segment_time_series.feather\"\n",
    "# )\n",
    "\n",
    "time_series_5mins_chd = feather.read_dataframe(\n",
    "    \"../../data_files/B/once/75days/5mins/diff_percent_from_code_hour_day_-_full_segment_time_series.feather\"\n",
    ")"
   ]
  },
  {
   "cell_type": "code",
   "execution_count": 95,
   "metadata": {},
   "outputs": [],
   "source": [
    "time_wide_1hour = pd.concat([time_series_1hour_chd, time_series_1hour_chd.shift(1)], axis=1)"
   ]
  },
  {
   "cell_type": "code",
   "execution_count": 96,
   "metadata": {},
   "outputs": [],
   "source": [
    "time_wide_5mins = pd.concat([time_series_5mins_chd, time_series_5mins_chd.shift(1)], axis=1)"
   ]
  },
  {
   "cell_type": "code",
   "execution_count": 97,
   "metadata": {},
   "outputs": [],
   "source": [
    "time_wide_10mins = pd.concat([time_series_10mins_chd, time_series_10mins_chd.shift(1)], axis=1)"
   ]
  },
  {
   "cell_type": "code",
   "execution_count": 98,
   "metadata": {},
   "outputs": [],
   "source": [
    "correlations_1h = time_wide_1hour.corr(method=\"pearson\", min_periods=100)\n",
    "correlations_1h = correlations_1h.fillna(value=float(\"-inf\"))\n",
    "\n"
   ]
  },
  {
   "cell_type": "code",
   "execution_count": 141,
   "metadata": {},
   "outputs": [],
   "source": [
    "correlations_5m = time_wide_5mins.corr(method=\"pearson\", min_periods=100)\n",
    "correlations_5m = correlations_5m.fillna(value=float(\"-inf\"))\n",
    "\n"
   ]
  },
  {
   "cell_type": "code",
   "execution_count": 100,
   "metadata": {},
   "outputs": [],
   "source": [
    "correlations_10m = time_wide_10mins.corr(method=\"pearson\", min_periods=100)\n",
    "correlations_10m = correlations_10m.fillna(value=float(\"-inf\"))\n",
    "\n",
    "\n"
   ]
  },
  {
   "cell_type": "code",
   "execution_count": 101,
   "metadata": {},
   "outputs": [],
   "source": [
    "correlations_1h = correlations_1h.iloc[:time_series_1hour_chd.shape[1], time_series_1hour_chd.shape[1]:]\n",
    "\n",
    "best_correlations_1h = pd.DataFrame(\n",
    "    np.fliplr(\n",
    "        correlations_1h.columns[np.argsort(correlations_1h.values, axis=1)[:, -30:]]\n",
    "    ),\n",
    "    index=correlations_1h.index,\n",
    ")"
   ]
  },
  {
   "cell_type": "code",
   "execution_count": 142,
   "metadata": {},
   "outputs": [],
   "source": [
    "correlations_5m = correlations_5m.iloc[:time_series_5mins_chd.shape[1], time_series_5mins_chd.shape[1]:]\n",
    "\n",
    "best_correlations_5m = pd.DataFrame(\n",
    "    np.fliplr(\n",
    "        correlations_5m.columns[np.argsort(correlations_5m.values, axis=1)[:, -31:-1]]\n",
    "    ),\n",
    "    index=correlations_5m.index,\n",
    ")"
   ]
  },
  {
   "cell_type": "code",
   "execution_count": 143,
   "metadata": {},
   "outputs": [],
   "source": [
    "correlations_5m_trimmed = correlations_5m.drop(correlations_5m.index[~correlations_5m.index.isin(correlations_5m.columns)])\n",
    "\n"
   ]
  },
  {
   "cell_type": "code",
   "execution_count": 144,
   "metadata": {},
   "outputs": [],
   "source": [
    "best_segs = correlations_5m_trimmed.columns[np.argmax(correlations_5m_trimmed.values,axis=0)]"
   ]
  },
  {
   "cell_type": "code",
   "execution_count": 145,
   "metadata": {},
   "outputs": [
    {
     "data": {
      "text/plain": [
       "46"
      ]
     },
     "execution_count": 145,
     "metadata": {},
     "output_type": "execute_result"
    }
   ],
   "source": [
    "np.count_nonzero(best_segs == correlations_5m_trimmed.index)"
   ]
  },
  {
   "cell_type": "code",
   "execution_count": 146,
   "metadata": {},
   "outputs": [
    {
     "data": {
      "text/plain": [
       "1148"
      ]
     },
     "execution_count": 146,
     "metadata": {},
     "output_type": "execute_result"
    }
   ],
   "source": [
    "len(correlations_5m_trimmed.index)"
   ]
  },
  {
   "cell_type": "code",
   "execution_count": 148,
   "metadata": {},
   "outputs": [
    {
     "data": {
      "text/plain": [
       "4.006968641114982"
      ]
     },
     "execution_count": 148,
     "metadata": {},
     "output_type": "execute_result"
    }
   ],
   "source": [
    "46/1148*100"
   ]
  },
  {
   "cell_type": "code",
   "execution_count": 108,
   "metadata": {},
   "outputs": [],
   "source": [
    "correlations_10m = correlations_10m.iloc[:time_series_10mins_chd.shape[1], time_series_10mins_chd.shape[1]:]\n",
    "\n",
    "best_correlations_10m = pd.DataFrame(\n",
    "    np.fliplr(\n",
    "        correlations_10m.columns[np.argsort(correlations_10m.values, axis=1)[:, -31:-1]]\n",
    "    ),\n",
    "    index=correlations_10m.index,\n",
    ")"
   ]
  },
  {
   "cell_type": "code",
   "execution_count": 109,
   "metadata": {},
   "outputs": [],
   "source": [
    "# plt.hist(correlations.values.flatten(), range=(-1,1))\n",
    "# plt.yscale(\"log\")\n",
    "# plt.show()"
   ]
  },
  {
   "cell_type": "code",
   "execution_count": 110,
   "metadata": {},
   "outputs": [],
   "source": [
    "# plt.hist(np.sort(correlations.values, axis=1)[:, -2:-1].flatten(), bins=100, range=(0,1))\n",
    "# plt.show()\n"
   ]
  },
  {
   "cell_type": "code",
   "execution_count": 111,
   "metadata": {},
   "outputs": [],
   "source": [
    "# plt.hist(np.sort(correlations5.values, axis=1)[:, -2:-1].flatten(), bins=100, range=(0,1))\n",
    "# plt.show()"
   ]
  },
  {
   "cell_type": "code",
   "execution_count": 112,
   "metadata": {},
   "outputs": [],
   "source": [
    "# best_correlations_1h.shape"
   ]
  },
  {
   "cell_type": "code",
   "execution_count": 139,
   "metadata": {},
   "outputs": [],
   "source": [
    "best_1h = np.amax(correlations_1h.values, axis=1)\n",
    "best_10m = np.amax(correlations_10m.values, axis=1)\n",
    "best_5m = np.amax(correlations_5m.values, axis=1)\n",
    "\n",
    "best_1h = best_1h[np.isfinite(best_1h)]\n",
    "best_10m = best_10m[np.isfinite(best_10m)]\n",
    "best_5m = best_5m[np.isfinite(best_5m)]\n"
   ]
  },
  {
   "cell_type": "code",
   "execution_count": 140,
   "metadata": {},
   "outputs": [
    {
     "name": "stdout",
     "output_type": "stream",
     "text": [
      "mean coorelation coef 1h: 0.27085377848018594\n",
      "mean coorelation coef 10mins: 0.3092062484733277\n",
      "mean coorelation coef 5mins: 0.3377958901157332\n"
     ]
    }
   ],
   "source": [
    "print(f\"mean coorelation coef 1h: {np.mean(best_1h)}\")\n",
    "print(f\"mean coorelation coef 10mins: {np.mean(best_10m)}\")\n",
    "print(f\"mean coorelation coef 5mins: {np.mean(best_5m)}\")"
   ]
  },
  {
   "cell_type": "code",
   "execution_count": 113,
   "metadata": {},
   "outputs": [
    {
     "data": {
      "image/png": "[encoded data removed]",
      "text/plain": [
       "<Figure size 432x288 with 1 Axes>"
      ]
     },
     "metadata": {
      "needs_background": "light"
     },
     "output_type": "display_data"
    }
   ],
   "source": [
    "plt.hist(np.amax(correlations_1h.values, axis=1).flatten(), bins=50, range=(0,1), label=\"1 hour\")\n",
    "plt.hist(np.amax(correlations_10m.values, axis=1).flatten(), bins=50, range=(0,1), alpha=0.5, label=\"10 mins\")\n",
    "plt.hist(np.amax(correlations_5m.values, axis=1).flatten(), bins=50, range=(0,1), alpha=0.5, label=\"5 mins\")\n",
    "plt.title(\"Best Correlators When Offset by One Time Window\")\n",
    "plt.xlabel(\"Correlation Coefficient\")\n",
    "plt.ylabel(\"Frequency\")\n",
    "plt.legend()\n",
    "plt.savefig(\"short-best-correlators-with-offset.pdf\", bbox=\"tight\")\n",
    "plt.show()"
   ]
  }
 ],
 "metadata": {
  "kernelspec": {
   "display_name": "busses",
   "language": "python",
   "name": "busses"
  },
  "language_info": {
   "codemirror_mode": {
    "name": "ipython",
    "version": 3
   },
   "file_extension": ".py",
   "mimetype": "text/x-python",
   "name": "python",
   "nbconvert_exporter": "python",
   "pygments_lexer": "ipython3",
   "version": "3.7.1"
  }
 },
 "nbformat": 4,
 "nbformat_minor": 2
}
