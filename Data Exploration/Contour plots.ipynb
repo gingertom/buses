{
 "cells": [
  {
   "cell_type": "code",
   "execution_count": 1,
   "metadata": {},
   "outputs": [],
   "source": [
    "import pandas as pd\n",
    "import numpy as np\n",
    "\n",
    "import matplotlib.pyplot as plt\n",
    "import matplotlib.colors as colors\n",
    "\n",
    "from datetime import datetime\n"
   ]
  },
  {
   "cell_type": "markdown",
   "metadata": {},
   "source": [
    "## Loading and preparing the data"
   ]
  },
  {
   "cell_type": "code",
   "execution_count": 2,
   "metadata": {
    "scrolled": true
   },
   "outputs": [
    {
     "data": {
      "text/html": [
       "<div>\n",
       "<style scoped>\n",
       "    .dataframe tbody tr th:only-of-type {\n",
       "        vertical-align: middle;\n",
       "    }\n",
       "\n",
       "    .dataframe tbody tr th {\n",
       "        vertical-align: top;\n",
       "    }\n",
       "\n",
       "    .dataframe thead th {\n",
       "        text-align: right;\n",
       "    }\n",
       "</style>\n",
       "<table border=\"1\" class=\"dataframe\">\n",
       "  <thead>\n",
       "    <tr style=\"text-align: right;\">\n",
       "      <th></th>\n",
       "      <th>id</th>\n",
       "      <th>date</th>\n",
       "      <th>stopCode</th>\n",
       "      <th>aimedArrival</th>\n",
       "      <th>aimedDeparture</th>\n",
       "      <th>actualArrival</th>\n",
       "      <th>actualDeparture</th>\n",
       "      <th>vehicle</th>\n",
       "      <th>workid</th>\n",
       "      <th>patternId</th>\n",
       "      <th>...</th>\n",
       "      <th>mean_dwell_prev_by_stop_code_and_hour_and_day</th>\n",
       "      <th>median_durations_by_segment_code</th>\n",
       "      <th>median_durations_by_segment_code_and_hour</th>\n",
       "      <th>median_durations_by_segment_code_and_hour_and_day</th>\n",
       "      <th>median_dwell_dest_durations_by_stop_code</th>\n",
       "      <th>median_dwell_prev_durations_by_stop_code</th>\n",
       "      <th>median_dwell_dest_by_stop_code_and_hour</th>\n",
       "      <th>median_dwell_prev_by_stop_code_and_hour</th>\n",
       "      <th>median_dwell_dest_by_stop_code_and_hour_and_day</th>\n",
       "      <th>median_dwell_prev_by_stop_code_and_hour_and_day</th>\n",
       "    </tr>\n",
       "  </thead>\n",
       "  <tbody>\n",
       "    <tr>\n",
       "      <th>0</th>\n",
       "      <td>167_101_1</td>\n",
       "      <td>2018-09-18</td>\n",
       "      <td>1200BOB20158</td>\n",
       "      <td>2018-09-18 07:02:00</td>\n",
       "      <td>2018-09-18 07:02:00</td>\n",
       "      <td>2018-09-18 07:02:03</td>\n",
       "      <td>2018-09-18 07:02:08</td>\n",
       "      <td>186</td>\n",
       "      <td>167_101_1</td>\n",
       "      <td>167_79</td>\n",
       "      <td>...</td>\n",
       "      <td>452.786885</td>\n",
       "      <td>103.0</td>\n",
       "      <td>95.0</td>\n",
       "      <td>97.0</td>\n",
       "      <td>25.0</td>\n",
       "      <td>309.0</td>\n",
       "      <td>8.0</td>\n",
       "      <td>532.0</td>\n",
       "      <td>6.0</td>\n",
       "      <td>540.0</td>\n",
       "    </tr>\n",
       "    <tr>\n",
       "      <th>1</th>\n",
       "      <td>167_101_1</td>\n",
       "      <td>2018-09-18</td>\n",
       "      <td>1200BOB20156</td>\n",
       "      <td>2018-09-18 07:03:00</td>\n",
       "      <td>2018-09-18 07:03:00</td>\n",
       "      <td>2018-09-18 07:02:25</td>\n",
       "      <td>2018-09-18 07:02:30</td>\n",
       "      <td>186</td>\n",
       "      <td>167_101_1</td>\n",
       "      <td>167_79</td>\n",
       "      <td>...</td>\n",
       "      <td>22.050000</td>\n",
       "      <td>17.0</td>\n",
       "      <td>16.0</td>\n",
       "      <td>15.0</td>\n",
       "      <td>4.0</td>\n",
       "      <td>25.0</td>\n",
       "      <td>4.0</td>\n",
       "      <td>8.0</td>\n",
       "      <td>4.0</td>\n",
       "      <td>6.0</td>\n",
       "    </tr>\n",
       "    <tr>\n",
       "      <th>2</th>\n",
       "      <td>167_101_1</td>\n",
       "      <td>2018-09-18</td>\n",
       "      <td>1200BOB20155</td>\n",
       "      <td>2018-09-18 07:04:00</td>\n",
       "      <td>2018-09-18 07:04:00</td>\n",
       "      <td>2018-09-18 07:02:48</td>\n",
       "      <td>2018-09-18 07:02:53</td>\n",
       "      <td>186</td>\n",
       "      <td>167_101_1</td>\n",
       "      <td>167_79</td>\n",
       "      <td>...</td>\n",
       "      <td>7.820896</td>\n",
       "      <td>18.0</td>\n",
       "      <td>17.0</td>\n",
       "      <td>17.0</td>\n",
       "      <td>9.0</td>\n",
       "      <td>4.0</td>\n",
       "      <td>5.0</td>\n",
       "      <td>4.0</td>\n",
       "      <td>5.0</td>\n",
       "      <td>4.0</td>\n",
       "    </tr>\n",
       "    <tr>\n",
       "      <th>3</th>\n",
       "      <td>167_101_1</td>\n",
       "      <td>2018-09-18</td>\n",
       "      <td>1200BOB20153</td>\n",
       "      <td>2018-09-18 07:05:00</td>\n",
       "      <td>2018-09-18 07:05:00</td>\n",
       "      <td>2018-09-18 07:03:11</td>\n",
       "      <td>2018-09-18 07:03:16</td>\n",
       "      <td>186</td>\n",
       "      <td>167_101_1</td>\n",
       "      <td>167_79</td>\n",
       "      <td>...</td>\n",
       "      <td>20.272727</td>\n",
       "      <td>20.0</td>\n",
       "      <td>18.0</td>\n",
       "      <td>18.0</td>\n",
       "      <td>26.0</td>\n",
       "      <td>9.0</td>\n",
       "      <td>32.5</td>\n",
       "      <td>5.0</td>\n",
       "      <td>38.0</td>\n",
       "      <td>5.0</td>\n",
       "    </tr>\n",
       "    <tr>\n",
       "      <th>4</th>\n",
       "      <td>167_101_1</td>\n",
       "      <td>2018-09-18</td>\n",
       "      <td>1200BOB20151</td>\n",
       "      <td>2018-09-18 07:07:00</td>\n",
       "      <td>2018-09-18 07:07:00</td>\n",
       "      <td>2018-09-18 07:03:58</td>\n",
       "      <td>2018-09-18 07:04:51</td>\n",
       "      <td>186</td>\n",
       "      <td>167_101_1</td>\n",
       "      <td>167_79</td>\n",
       "      <td>...</td>\n",
       "      <td>40.876923</td>\n",
       "      <td>47.0</td>\n",
       "      <td>43.0</td>\n",
       "      <td>43.0</td>\n",
       "      <td>38.0</td>\n",
       "      <td>26.0</td>\n",
       "      <td>45.0</td>\n",
       "      <td>32.5</td>\n",
       "      <td>43.0</td>\n",
       "      <td>38.0</td>\n",
       "    </tr>\n",
       "  </tbody>\n",
       "</table>\n",
       "<p>5 rows × 53 columns</p>\n",
       "</div>"
      ],
      "text/plain": [
       "          id       date      stopCode         aimedArrival  \\\n",
       "0  167_101_1 2018-09-18  1200BOB20158  2018-09-18 07:02:00   \n",
       "1  167_101_1 2018-09-18  1200BOB20156  2018-09-18 07:03:00   \n",
       "2  167_101_1 2018-09-18  1200BOB20155  2018-09-18 07:04:00   \n",
       "3  167_101_1 2018-09-18  1200BOB20153  2018-09-18 07:05:00   \n",
       "4  167_101_1 2018-09-18  1200BOB20151  2018-09-18 07:07:00   \n",
       "\n",
       "        aimedDeparture       actualArrival     actualDeparture  vehicle  \\\n",
       "0  2018-09-18 07:02:00 2018-09-18 07:02:03 2018-09-18 07:02:08      186   \n",
       "1  2018-09-18 07:03:00 2018-09-18 07:02:25 2018-09-18 07:02:30      186   \n",
       "2  2018-09-18 07:04:00 2018-09-18 07:02:48 2018-09-18 07:02:53      186   \n",
       "3  2018-09-18 07:05:00 2018-09-18 07:03:11 2018-09-18 07:03:16      186   \n",
       "4  2018-09-18 07:07:00 2018-09-18 07:03:58 2018-09-18 07:04:51      186   \n",
       "\n",
       "      workid patternId                       ...                        \\\n",
       "0  167_101_1    167_79                       ...                         \n",
       "1  167_101_1    167_79                       ...                         \n",
       "2  167_101_1    167_79                       ...                         \n",
       "3  167_101_1    167_79                       ...                         \n",
       "4  167_101_1    167_79                       ...                         \n",
       "\n",
       "  mean_dwell_prev_by_stop_code_and_hour_and_day  \\\n",
       "0                                    452.786885   \n",
       "1                                     22.050000   \n",
       "2                                      7.820896   \n",
       "3                                     20.272727   \n",
       "4                                     40.876923   \n",
       "\n",
       "   median_durations_by_segment_code  \\\n",
       "0                             103.0   \n",
       "1                              17.0   \n",
       "2                              18.0   \n",
       "3                              20.0   \n",
       "4                              47.0   \n",
       "\n",
       "   median_durations_by_segment_code_and_hour  \\\n",
       "0                                       95.0   \n",
       "1                                       16.0   \n",
       "2                                       17.0   \n",
       "3                                       18.0   \n",
       "4                                       43.0   \n",
       "\n",
       "   median_durations_by_segment_code_and_hour_and_day  \\\n",
       "0                                               97.0   \n",
       "1                                               15.0   \n",
       "2                                               17.0   \n",
       "3                                               18.0   \n",
       "4                                               43.0   \n",
       "\n",
       "  median_dwell_dest_durations_by_stop_code  \\\n",
       "0                                     25.0   \n",
       "1                                      4.0   \n",
       "2                                      9.0   \n",
       "3                                     26.0   \n",
       "4                                     38.0   \n",
       "\n",
       "  median_dwell_prev_durations_by_stop_code  \\\n",
       "0                                    309.0   \n",
       "1                                     25.0   \n",
       "2                                      4.0   \n",
       "3                                      9.0   \n",
       "4                                     26.0   \n",
       "\n",
       "  median_dwell_dest_by_stop_code_and_hour  \\\n",
       "0                                     8.0   \n",
       "1                                     4.0   \n",
       "2                                     5.0   \n",
       "3                                    32.5   \n",
       "4                                    45.0   \n",
       "\n",
       "  median_dwell_prev_by_stop_code_and_hour  \\\n",
       "0                                   532.0   \n",
       "1                                     8.0   \n",
       "2                                     4.0   \n",
       "3                                     5.0   \n",
       "4                                    32.5   \n",
       "\n",
       "  median_dwell_dest_by_stop_code_and_hour_and_day  \\\n",
       "0                                             6.0   \n",
       "1                                             4.0   \n",
       "2                                             5.0   \n",
       "3                                            38.0   \n",
       "4                                            43.0   \n",
       "\n",
       "  median_dwell_prev_by_stop_code_and_hour_and_day  \n",
       "0                                           540.0  \n",
       "1                                             6.0  \n",
       "2                                             4.0  \n",
       "3                                             5.0  \n",
       "4                                            38.0  \n",
       "\n",
       "[5 rows x 53 columns]"
      ]
     },
     "execution_count": 2,
     "metadata": {},
     "output_type": "execute_result"
    }
   ],
   "source": [
    "stop_events = pd.read_csv(\"../Intermediate_Data/stop_events_with_all_features.csv\", parse_dates=[1, 5, 6, 18, 19])\n",
    "\n",
    "stop_events.head()\n",
    "\n"
   ]
  },
  {
   "cell_type": "code",
   "execution_count": 3,
   "metadata": {},
   "outputs": [
    {
     "name": "stdout",
     "output_type": "stream",
     "text": [
      "(4256583, 53)\n",
      "(4252801, 53)\n"
     ]
    }
   ],
   "source": [
    "stop_events[\"aimedArrival\"] = stop_events[\"aimedArrival\"].astype(\"datetime64[ns]\")\n",
    "stop_events[\"aimedDeparture\"] = stop_events[\"aimedDeparture\"].astype(\"datetime64[ns]\")\n",
    "stop_events[\"prev_aimedArrival\"] = stop_events[\"prev_aimedArrival\"].astype(\"datetime64[ns]\")\n",
    "stop_events[\"prev_aimedDeparture\"] = stop_events[\"prev_aimedDeparture\"].astype(\"datetime64[ns]\")\n",
    "stop_events[\"prev_actualArrival\"] = stop_events[\"prev_actualArrival\"].astype(\"datetime64[ns]\")\n",
    "stop_events[\"prev_actualDeparture\"] = stop_events[\"prev_actualDeparture\"].astype(\"datetime64[ns]\")\n",
    "\n",
    "\n",
    "\n",
    "stop_events.head(30)\n",
    "\n",
    "print(stop_events.shape)\n",
    "\n",
    "stop_events = stop_events.dropna(axis=0)\n",
    "\n",
    "# # stop_events = stop_events[stop_events.id != \"NaN\"]\n",
    "\n",
    "print(stop_events.shape)\n",
    "\n",
    "stop_events = stop_events.drop(['vehicle', 'workid', 'workCode','tripCode','match'], axis=1)"
   ]
  },
  {
   "cell_type": "code",
   "execution_count": 24,
   "metadata": {},
   "outputs": [],
   "source": [
    "by_hour_and_distance = stop_events.groupby(['arrival_hour', pd.cut(stop_events['to_centre_dist'], np.linspace(0,10,11))])['segment_duration'].mean()"
   ]
  },
  {
   "cell_type": "code",
   "execution_count": 25,
   "metadata": {},
   "outputs": [],
   "source": [
    "by_hour_and_distance = by_hour_and_distance.reset_index()\n",
    "by_hour_and_distance.columns = ['hour', 'distance', 'mean duration']\n",
    "by_hour_and_distance=by_hour_and_distance.pivot('hour', 'distance')"
   ]
  },
  {
   "cell_type": "code",
   "execution_count": 38,
   "metadata": {},
   "outputs": [
    {
     "data": {
      "image/png": "[encoded data removed]",
      "text/plain": [
       "<Figure size 432x288 with 2 Axes>"
      ]
     },
     "metadata": {
      "needs_background": "light"
     },
     "output_type": "display_data"
    }
   ],
   "source": [
    "X=np.linspace(0,10,10)\n",
    "Y=by_hour_and_distance.index.values.astype(float)\n",
    "Z=by_hour_and_distance.values\n",
    "Xi,Yi = np.meshgrid(X, Y)\n",
    "plt.contourf(Yi, Xi, Z, alpha=0.7, cmap=plt.cm.jet)\n",
    "plt.ylabel(\"Distance from centre (Km)\")\n",
    "plt.xlabel(\"Hour of the day\")\n",
    "plt.colorbar()\n",
    "plt.title(\"Mean segment duration (sec) for different distances from the centre and times of day\");"
   ]
  },
  {
   "cell_type": "code",
   "execution_count": 39,
   "metadata": {},
   "outputs": [],
   "source": [
    "stop_events['diff_in_jd_from_median_by_segement'] = stop_events['segment_duration'] - stop_events['median_durations_by_segment_code']\n"
   ]
  },
  {
   "cell_type": "code",
   "execution_count": 43,
   "metadata": {},
   "outputs": [],
   "source": [
    "mean_diff_from_median_by_hour_and_distance = stop_events.groupby(['arrival_hour', pd.cut(stop_events['to_centre_dist'], np.linspace(0,10,11))])['diff_in_jd_from_median_by_segement'].mean()\n"
   ]
  },
  {
   "cell_type": "code",
   "execution_count": 44,
   "metadata": {},
   "outputs": [],
   "source": [
    "mean_diff_from_median_by_hour_and_distance = mean_diff_from_median_by_hour_and_distance.reset_index()\n",
    "mean_diff_from_median_by_hour_and_distance.columns = ['hour', 'distance', 'diff from median']\n",
    "mean_diff_from_median_by_hour_and_distance=mean_diff_from_median_by_hour_and_distance.pivot('hour', 'distance')"
   ]
  },
  {
   "cell_type": "code",
   "execution_count": 46,
   "metadata": {},
   "outputs": [
    {
     "data": {
      "image/png": "[encoded data removed]",
      "text/plain": [
       "<Figure size 432x288 with 2 Axes>"
      ]
     },
     "metadata": {
      "needs_background": "light"
     },
     "output_type": "display_data"
    }
   ],
   "source": [
    "X=np.linspace(0,10,10)\n",
    "Y=mean_diff_from_median_by_hour_and_distance.index.values.astype(float)\n",
    "Z=mean_diff_from_median_by_hour_and_distance.values\n",
    "Xi,Yi = np.meshgrid(X, Y)\n",
    "plt.contourf(Yi, Xi, Z, alpha=0.7, cmap=plt.cm.jet)\n",
    "plt.ylabel(\"Distance from centre (Km)\")\n",
    "plt.xlabel(\"Hour of the day\")\n",
    "plt.colorbar()\n",
    "plt.title(\"Mean difference from segment median duration (sec) for different distances from the centre and times of day\");"
   ]
  },
  {
   "cell_type": "code",
   "execution_count": 57,
   "metadata": {},
   "outputs": [],
   "source": [
    "mean_diff_from_median_by_hour_and_distance = stop_events.groupby(['arrival_hour', pd.cut(stop_events['direction_degrees'], np.linspace(-90,90,11))])['diff_in_jd_from_median_by_segement'].mean()\n"
   ]
  },
  {
   "cell_type": "code",
   "execution_count": 58,
   "metadata": {},
   "outputs": [],
   "source": [
    "mean_diff_from_median_by_hour_and_distance = mean_diff_from_median_by_hour_and_distance.reset_index()\n",
    "mean_diff_from_median_by_hour_and_distance.columns = ['hour', 'direction', 'diff from median']\n",
    "mean_diff_from_median_by_hour_and_distance=mean_diff_from_median_by_hour_and_distance.pivot('hour', 'direction')"
   ]
  },
  {
   "cell_type": "code",
   "execution_count": 59,
   "metadata": {},
   "outputs": [
    {
     "data": {
      "image/png": "[encoded data removed]",
      "text/plain": [
       "<Figure size 432x288 with 2 Axes>"
      ]
     },
     "metadata": {
      "needs_background": "light"
     },
     "output_type": "display_data"
    }
   ],
   "source": [
    "X=np.linspace(-90,90,10)\n",
    "Y=mean_diff_from_median_by_hour_and_distance.index.values.astype(float)\n",
    "Z=mean_diff_from_median_by_hour_and_distance.values\n",
    "Xi,Yi = np.meshgrid(X, Y)\n",
    "plt.contourf(Yi, Xi, Z, alpha=0.7, cmap=plt.cm.jet)\n",
    "plt.ylabel(\"Angle -90:towards B, 90:away from B\")\n",
    "plt.xlabel(\"Hour of the day\")\n",
    "plt.colorbar()\n",
    "plt.title(\"Mean difference from segment median duration (sec) for different segment directions and times of day\");\n"
   ]
  },
  {
   "cell_type": "code",
   "execution_count": 54,
   "metadata": {},
   "outputs": [
    {
     "data": {
      "text/plain": [
       "-90.0"
      ]
     },
     "execution_count": 54,
     "metadata": {},
     "output_type": "execute_result"
    }
   ],
   "source": [
    "np.arccos(1) -90"
   ]
  },
  {
   "cell_type": "code",
   "execution_count": 60,
   "metadata": {},
   "outputs": [
    {
     "data": {
      "text/plain": [
       "Index(['id', 'date', 'stopCode', 'aimedArrival', 'aimedDeparture',\n",
       "       'actualArrival', 'actualDeparture', 'patternId', 'publicName',\n",
       "       'scheduledStart', 'prev_stopCode', 'prev_aimedArrival',\n",
       "       'prev_aimedDeparture', 'prev_actualArrival', 'prev_actualDeparture',\n",
       "       'timingPoint', 'segment_code', 'line_distance', 'midpoint_lat',\n",
       "       'midpoint_lon', 'to_centre_dist', 'direction', 'direction_degrees',\n",
       "       'segment_name', 'dwell_duration_dest', 'dwell_duration_prev',\n",
       "       'segment_duration', 'timetable_segment_duration', 'arrival_hour',\n",
       "       'arrival_day', 'mean_durations_by_segment_code',\n",
       "       'mean_durations_by_segment_code_and_hour',\n",
       "       'mean_durations_by_segment_code_and_hour_and_day',\n",
       "       'mean_dwell_dest_durations_by_stop_code',\n",
       "       'mean_dwell_prev_durations_by_stop_code',\n",
       "       'mean_dwell_dest_by_stop_code_and_hour',\n",
       "       'mean_dwell_prev_by_stop_code_and_hour',\n",
       "       'mean_dwell_dest_by_stop_code_and_hour_and_day',\n",
       "       'mean_dwell_prev_by_stop_code_and_hour_and_day',\n",
       "       'median_durations_by_segment_code',\n",
       "       'median_durations_by_segment_code_and_hour',\n",
       "       'median_durations_by_segment_code_and_hour_and_day',\n",
       "       'median_dwell_dest_durations_by_stop_code',\n",
       "       'median_dwell_prev_durations_by_stop_code',\n",
       "       'median_dwell_dest_by_stop_code_and_hour',\n",
       "       'median_dwell_prev_by_stop_code_and_hour',\n",
       "       'median_dwell_dest_by_stop_code_and_hour_and_day',\n",
       "       'median_dwell_prev_by_stop_code_and_hour_and_day',\n",
       "       'diff_in_jd_from_median_by_segement'],\n",
       "      dtype='object')"
      ]
     },
     "execution_count": 60,
     "metadata": {},
     "output_type": "execute_result"
    }
   ],
   "source": [
    "stop_events.columns"
   ]
  },
  {
   "cell_type": "code",
   "execution_count": null,
   "metadata": {},
   "outputs": [],
   "source": []
  }
 ],
 "metadata": {
  "kernelspec": {
   "display_name": "busses",
   "language": "python",
   "name": "busses"
  },
  "language_info": {
   "codemirror_mode": {
    "name": "ipython",
    "version": 3
   },
   "file_extension": ".py",
   "mimetype": "text/x-python",
   "name": "python",
   "nbconvert_exporter": "python",
   "pygments_lexer": "ipython3",
   "version": "3.7.1"
  }
 },
 "nbformat": 4,
 "nbformat_minor": 2
}
