{
 "cells": [
  {
   "cell_type": "code",
   "execution_count": 1,
   "metadata": {},
   "outputs": [],
   "source": [
    "import numpy as np\n",
    "import numpy.ma as ma\n",
    "import pandas as pd\n",
    "import datetime\n",
    "\n",
    "import matplotlib.pyplot as plt\n",
    "import matplotlib.colors as colors\n",
    "\n",
    "import feather\n",
    "\n",
    "from sklearn.metrics import mean_squared_error, mean_absolute_error\n",
    "\n",
    "from scipy import stats"
   ]
  },
  {
   "cell_type": "code",
   "execution_count": 2,
   "metadata": {},
   "outputs": [],
   "source": [
    "# # Load in the time_series from the previous stage in the pipeline\n",
    "# correlations = feather.read_dataframe(\"../data_files/B/once/75days/5mins/best_correlations_5mins_code_hour_day.feather\")\n",
    "# correlations = correlations.set_index(correlations.columns[0])\n"
   ]
  },
  {
   "cell_type": "code",
   "execution_count": 3,
   "metadata": {},
   "outputs": [],
   "source": [
    "se = feather.read_dataframe(\"../data_files/B/once/75days/stop_events_with_geo_train_test_averages_prev_next_offsets_noninterp.feather\")\n",
    "se = se.set_index(se.columns[0])"
   ]
  },
  {
   "cell_type": "code",
   "execution_count": 4,
   "metadata": {},
   "outputs": [],
   "source": [
    "se = se.dropna(subset=['median_durations_by_segment_code_and_hour_and_day'])"
   ]
  },
  {
   "cell_type": "code",
   "execution_count": 5,
   "metadata": {},
   "outputs": [],
   "source": [
    "# se.iloc[1978]"
   ]
  },
  {
   "cell_type": "code",
   "execution_count": 6,
   "metadata": {},
   "outputs": [
    {
     "name": "stdout",
     "output_type": "stream",
     "text": [
      "Calculating rare segments...\n",
      "\tCalculated\n"
     ]
    }
   ],
   "source": [
    "def filter_rare(stop_events):\n",
    "\n",
    "    print(\"Calculating rare segments...\")\n",
    "\n",
    "    segment_counts = stop_events.groupby(\"segment_code\").size()\n",
    "\n",
    "    filtered_stop_events = stop_events.drop(\n",
    "        stop_events[\n",
    "            stop_events[\"segment_code\"].isin(\n",
    "                segment_counts[segment_counts < 120].index.values\n",
    "            )\n",
    "        ].index\n",
    "    )\n",
    "\n",
    "    print(\"\\tCalculated\")\n",
    "\n",
    "    return filtered_stop_events\n",
    "\n",
    "se = filter_rare(se)"
   ]
  },
  {
   "cell_type": "code",
   "execution_count": 7,
   "metadata": {},
   "outputs": [],
   "source": [
    "def MAPE(forecast, actual):\n",
    "    \n",
    "    if(len(forecast) != len(actual)):\n",
    "        raise ValueError('Could not calculate MAPE, forecast and actual arrays are different length')\n",
    "        \n",
    "    forecast = np.asarray(forecast)\n",
    "    actual = np.asarray(actual)\n",
    "    \n",
    "    with np.errstate(divide='ignore', invalid='ignore'):\n",
    "        \n",
    "        division = (actual-forecast)/actual\n",
    "        \n",
    "        division[actual == 0] = 0\n",
    "        \n",
    "        # Instead of dividing by n we count by the number of non-zero values. \n",
    "        # Essentially ignoring all cases where the actual value is zero. \n",
    "        mape = 100 / np.count_nonzero(actual) * np.sum(np.abs(division))\n",
    "    \n",
    "    return mape"
   ]
  },
  {
   "cell_type": "code",
   "execution_count": 8,
   "metadata": {},
   "outputs": [],
   "source": [
    "def make_prediction(medians, results):\n",
    "    return medians * (1 + (results / 100))\n",
    "\n",
    "\n"
   ]
  },
  {
   "cell_type": "markdown",
   "metadata": {},
   "source": [
    "### The percentage of all events that have at least one bus in the proceeding five mins"
   ]
  },
  {
   "cell_type": "code",
   "execution_count": 9,
   "metadata": {},
   "outputs": [
    {
     "data": {
      "text/plain": [
       "31.311278498770122"
      ]
     },
     "execution_count": 9,
     "metadata": {},
     "output_type": "execute_result"
    }
   ],
   "source": [
    "np.count_nonzero(~np.isnan(se['self_offset_5_1']))/len(se['self_offset_5_1'])*100"
   ]
  },
  {
   "cell_type": "markdown",
   "metadata": {},
   "source": [
    "### The percentage of all events that have at least one bus in the proceeding ten mins"
   ]
  },
  {
   "cell_type": "code",
   "execution_count": 10,
   "metadata": {},
   "outputs": [
    {
     "data": {
      "text/plain": [
       "53.56000873104922"
      ]
     },
     "execution_count": 10,
     "metadata": {},
     "output_type": "execute_result"
    }
   ],
   "source": [
    "(np.count_nonzero(~np.isnan(se['self_offset_5_1']))+np.count_nonzero(~np.isnan(se[np.isnan(se['self_offset_5_1'])]['self_offset_5_2'])))/len(se['self_offset_5_1'])*100"
   ]
  },
  {
   "cell_type": "markdown",
   "metadata": {},
   "source": [
    "### The percentage of all events that have at least one bus in the proceeding fifteen mins"
   ]
  },
  {
   "cell_type": "code",
   "execution_count": 11,
   "metadata": {},
   "outputs": [
    {
     "data": {
      "text/plain": [
       "69.33178114680545"
      ]
     },
     "execution_count": 11,
     "metadata": {},
     "output_type": "execute_result"
    }
   ],
   "source": [
    "(np.count_nonzero(~np.isnan(se['self_offset_5_1']))+ \\\n",
    " np.count_nonzero(~np.isnan(se[np.isnan(se['self_offset_5_1'])]['self_offset_5_2'])) + \\\n",
    " np.count_nonzero(~np.isnan(se[(np.isnan(se['self_offset_5_1'])) & (np.isnan(se['self_offset_5_2']))]['self_offset_5_3'])))/len(se['self_offset_5_1'])*100"
   ]
  },
  {
   "cell_type": "markdown",
   "metadata": {},
   "source": [
    "## Trying different ways to make the previous busses predict the next ones"
   ]
  },
  {
   "cell_type": "code",
   "execution_count": 12,
   "metadata": {},
   "outputs": [],
   "source": [
    "mask = ~np.isnan(se[se['test']]['self_offset_5_1'])"
   ]
  },
  {
   "cell_type": "code",
   "execution_count": 14,
   "metadata": {},
   "outputs": [],
   "source": [
    "se['mean_both_sides'] = 0\n",
    "\n",
    "se.loc[~np.isnan(se['self_offset_5_1']),'mean_both_sides'] = se[~np.isnan(se['self_offset_5_1'])][['self_offset_5_1', 'prev_stop_1_offset_5_1', 'next_stop_1_offset_5_1']].mean(axis=1)"
   ]
  },
  {
   "cell_type": "code",
   "execution_count": null,
   "metadata": {},
   "outputs": [],
   "source": []
  },
  {
   "cell_type": "code",
   "execution_count": 15,
   "metadata": {},
   "outputs": [
    {
     "name": "stdout",
     "output_type": "stream",
     "text": [
      "i:-0.5 MAPE:27.110827507708876\n",
      "i:-0.45 MAPE:27.03377758147797\n",
      "i:-0.4 MAPE:26.95449424420765\n",
      "i:-0.35 MAPE:26.873275204698277\n",
      "i:-0.3 MAPE:26.79083407222017\n",
      "i:-0.25 MAPE:26.708044741359537\n",
      "i:-0.19999999999999996 MAPE:26.625735317095447\n",
      "i:-0.14999999999999997 MAPE:26.547891243260135\n",
      "i:-0.09999999999999998 MAPE:26.480627299177872\n",
      "i:-0.04999999999999999 MAPE:26.434317567932904\n",
      "i:0.0 MAPE:26.428944972108592\n",
      "i:0.050000000000000044 MAPE:26.511683082581754\n",
      "i:0.10000000000000009 MAPE:26.607087190139666\n",
      "i:0.15000000000000002 MAPE:26.70435216875476\n",
      "i:0.20000000000000007 MAPE:26.79915225521946\n",
      "i:0.25 MAPE:26.88955456100922\n",
      "i:0.30000000000000004 MAPE:26.975656639500105\n",
      "i:0.3500000000000001 MAPE:27.056773647629445\n",
      "i:0.4 MAPE:27.13305226905069\n",
      "i:0.45000000000000007 MAPE:27.20515787039868\n",
      "i:0.5 MAPE:27.272731007191734\n"
     ]
    }
   ],
   "source": [
    "mask = ~np.isnan(se[se['test']]['self_offset_5_1'])\n",
    "\n",
    "for i in np.linspace(-.5,0.5,21):\n",
    "\n",
    "    results_rules = np.zeros(se[se['test']].shape[0])\n",
    "    results_rules = se[se['test']]['mean_both_sides'] * i\n",
    "    \n",
    "    results_rules = np.clip(results_rules, -25, 25)\n",
    "    predict_rules = make_prediction(se[se['test']]['median_durations_by_segment_code_and_hour_and_day'], results_rules)\n",
    "    \n",
    "    print(f\"i:{i} MAPE:{MAPE(predict_rules, se[se['test']]['segment_duration'])}\")"
   ]
  },
  {
   "cell_type": "code",
   "execution_count": 16,
   "metadata": {},
   "outputs": [
    {
     "name": "stdout",
     "output_type": "stream",
     "text": [
      "i:0.0 MAPE:26.428944972108592\n",
      "i:0.12222222222222223 MAPE:26.605798624988633\n",
      "i:0.24444444444444446 MAPE:26.766327555306077\n",
      "i:0.3666666666666667 MAPE:26.901031203675103\n",
      "i:0.48888888888888893 MAPE:27.026755872685317\n",
      "i:0.6111111111111112 MAPE:27.152973635134412\n",
      "i:0.7333333333333334 MAPE:27.2763037327777\n",
      "i:0.8555555555555556 MAPE:27.396142611126653\n",
      "i:0.9777777777777779 MAPE:27.503690185849905\n",
      "i:1.1 MAPE:27.614302806374265\n"
     ]
    }
   ],
   "source": [
    "for i in np.linspace(0,1.1, 10):\n",
    "\n",
    "    results_rules = np.zeros(se[se['test']].shape[0])\n",
    "    results_rules[mask] = se[se['test']][mask]['self_offset_5_1'] * i\n",
    "    \n",
    "    results_rules = np.clip(results_rules, -25, 25)\n",
    "    predict_rules = make_prediction(se[se['test']]['median_durations_by_segment_code_and_hour_and_day'], results_rules)\n",
    "    \n",
    "    print(f\"i:{i} MAPE:{MAPE(predict_rules, se[se['test']]['segment_duration'])}\")"
   ]
  },
  {
   "cell_type": "code",
   "execution_count": 23,
   "metadata": {},
   "outputs": [
    {
     "name": "stdout",
     "output_type": "stream",
     "text": [
      "i:-1.0 MAPE:29.04234816502844\n",
      "i:-0.8 MAPE:28.517254547740137\n",
      "i:-0.6 MAPE:27.942299706439552\n",
      "i:-0.3999999999999999 MAPE:27.33047889288915\n",
      "i:-0.19999999999999996 MAPE:26.732169650869167\n",
      "i:0.0 MAPE:26.428944972108592\n",
      "i:0.20000000000000018 MAPE:26.897050022193092\n",
      "i:0.40000000000000013 MAPE:27.458909783308016\n",
      "i:0.6000000000000001 MAPE:27.99176966630747\n",
      "i:0.8 MAPE:28.482309696369423\n",
      "i:1.0 MAPE:28.932268299281905\n"
     ]
    }
   ],
   "source": [
    "for i in np.linspace(-1,1,11):\n",
    "\n",
    "    results_rules = np.zeros(se[se['test']].shape[0])\n",
    "    results_rules[mask] = se[se['test']][mask]['mean_both_sides'] * i\n",
    "    results_rules = np.clip(results_rules, -50, 50)\n",
    "    predict_rules = make_prediction(se[se['test']]['median_durations_by_segment_code_and_hour_and_day'], results_rules)\n",
    "    \n",
    "    print(f\"i:{i} MAPE:{MAPE(predict_rules, se[se['test']]['segment_duration'])}\")"
   ]
  },
  {
   "cell_type": "code",
   "execution_count": 24,
   "metadata": {},
   "outputs": [
    {
     "data": {
      "text/plain": [
       "0"
      ]
     },
     "execution_count": 24,
     "metadata": {},
     "output_type": "execute_result"
    }
   ],
   "source": [
    "np.count_nonzero(np.isnan(se['median_durations_by_segment_code_and_hour_and_day']))"
   ]
  },
  {
   "cell_type": "code",
   "execution_count": 25,
   "metadata": {},
   "outputs": [
    {
     "name": "stderr",
     "output_type": "stream",
     "text": [
      "/Users/tommelamed/.local/lib/python3.7/site-packages/numpy/lib/histograms.py:824: RuntimeWarning: invalid value encountered in greater_equal\n",
      "  keep = (tmp_a >= first_edge)\n",
      "/Users/tommelamed/.local/lib/python3.7/site-packages/numpy/lib/histograms.py:825: RuntimeWarning: invalid value encountered in less_equal\n",
      "  keep &= (tmp_a <= last_edge)\n"
     ]
    },
    {
     "data": {
      "image/png": "[encoded data removed]",
      "text/plain": [
       "<Figure size 432x288 with 1 Axes>"
      ]
     },
     "metadata": {
      "needs_background": "light"
     },
     "output_type": "display_data"
    }
   ],
   "source": [
    "plt.hist(se['self_offset_5_1'], bins=100, range=(-100, 300));"
   ]
  },
  {
   "cell_type": "code",
   "execution_count": 26,
   "metadata": {},
   "outputs": [
    {
     "name": "stderr",
     "output_type": "stream",
     "text": [
      "/Users/tommelamed/anaconda3/envs/busses/lib/python3.7/site-packages/matplotlib/colors.py:1028: RuntimeWarning: invalid value encountered in less_equal\n",
      "  mask |= resdat <= 0\n"
     ]
    },
    {
     "data": {
      "image/png": "[encoded data removed]",
      "text/plain": [
       "<Figure size 432x288 with 1 Axes>"
      ]
     },
     "metadata": {
      "needs_background": "light"
     },
     "output_type": "display_data"
    }
   ],
   "source": [
    "plt.hist2d(se['self_offset_5_1'], se['diff_percent_segment_and_median_by_segment_code_and_hour_and_day'], bins=50, range=[[-100, 300], [-100, 300]], cmin=100, cmap=plt.cm.jet, norm=colors.LogNorm());\n"
   ]
  },
  {
   "cell_type": "code",
   "execution_count": 27,
   "metadata": {},
   "outputs": [
    {
     "data": {
      "image/png": "[encoded data removed]",
      "text/plain": [
       "<Figure size 432x288 with 1 Axes>"
      ]
     },
     "metadata": {
      "needs_background": "light"
     },
     "output_type": "display_data"
    }
   ],
   "source": [
    "plt.hist2d(np.clip(se['self_offset_5_1'], -100, 100), np.clip(se['diff_percent_segment_and_median_by_segment_code_and_hour_and_day'], -100, 100), bins=20, range=[[-50, 50], [-50, 50]], cmin=100, cmap=plt.cm.jet);"
   ]
  },
  {
   "cell_type": "code",
   "execution_count": 28,
   "metadata": {},
   "outputs": [
    {
     "data": {
      "text/plain": [
       "45.269426986510226"
      ]
     },
     "execution_count": 28,
     "metadata": {},
     "output_type": "execute_result"
    }
   ],
   "source": [
    "se[se['self_offset_5_1'] > 50]['diff_percent_segment_and_median_by_segment_code_and_hour_and_day'].mean()"
   ]
  },
  {
   "cell_type": "code",
   "execution_count": 29,
   "metadata": {},
   "outputs": [
    {
     "data": {
      "text/plain": [
       "12.163401004491455"
      ]
     },
     "execution_count": 29,
     "metadata": {},
     "output_type": "execute_result"
    }
   ],
   "source": [
    "se[se['self_offset_5_1'] < -50]['diff_percent_segment_and_median_by_segment_code_and_hour_and_day'].mean()"
   ]
  },
  {
   "cell_type": "code",
   "execution_count": 30,
   "metadata": {},
   "outputs": [
    {
     "data": {
      "text/plain": [
       "array([-33.33333333, 125.97402597])"
      ]
     },
     "execution_count": 30,
     "metadata": {},
     "output_type": "execute_result"
    }
   ],
   "source": [
    "np.percentile(se[~np.isnan(se['self_offset_5_1'])]['self_offset_5_1'].values, (5, 95))"
   ]
  },
  {
   "cell_type": "code",
   "execution_count": 31,
   "metadata": {},
   "outputs": [
    {
     "data": {
      "image/png": "[encoded data removed]",
      "text/plain": [
       "<Figure size 432x288 with 1 Axes>"
      ]
     },
     "metadata": {
      "needs_background": "light"
     },
     "output_type": "display_data"
    }
   ],
   "source": [
    "plt.hist(se[se['self_offset_5_1'] > 300]['diff_percent_segment_and_median_by_segment_code_and_hour_and_day'], bins=100, range=(-100, 500), label=\"over 300% (slow)\", density=True);\n",
    "plt.hist(se[se['self_offset_5_1'] < -50]['diff_percent_segment_and_median_by_segment_code_and_hour_and_day'], bins=100, range=(-100, 500), alpha=0.5, label=\"under -50% (fast)\", density=True);\n",
    "plt.legend()\n",
    "plt.xlabel(\"Percentage difference from the median for the event\")\n",
    "plt.ylabel(\"Fraction of all events\")\n",
    "plt.title(\"How buses behave when the bus 5 mins ago was very slow or fast\")\n",
    "plt.savefig(\"Outliers.png\", dpi=500)"
   ]
  },
  {
   "cell_type": "code",
   "execution_count": null,
   "metadata": {},
   "outputs": [],
   "source": [
    "\n"
   ]
  },
  {
   "cell_type": "code",
   "execution_count": 32,
   "metadata": {},
   "outputs": [
    {
     "data": {
      "image/png": "[encoded data removed]",
      "text/plain": [
       "<Figure size 432x288 with 1 Axes>"
      ]
     },
     "metadata": {
      "needs_background": "light"
     },
     "output_type": "display_data"
    }
   ],
   "source": [
    "plt.hist(se['mean_both_sides'], bins=100, range=(-100, 100));"
   ]
  },
  {
   "cell_type": "code",
   "execution_count": 34,
   "metadata": {},
   "outputs": [
    {
     "data": {
      "text/html": [
       "<div>\n",
       "<style scoped>\n",
       "    .dataframe tbody tr th:only-of-type {\n",
       "        vertical-align: middle;\n",
       "    }\n",
       "\n",
       "    .dataframe tbody tr th {\n",
       "        vertical-align: top;\n",
       "    }\n",
       "\n",
       "    .dataframe thead th {\n",
       "        text-align: right;\n",
       "    }\n",
       "</style>\n",
       "<table border=\"1\" class=\"dataframe\">\n",
       "  <thead>\n",
       "    <tr style=\"text-align: right;\">\n",
       "      <th></th>\n",
       "      <th>diff_percent_segment_and_median_by_segment_code_and_hour_and_day</th>\n",
       "      <th>self_offset_5_1</th>\n",
       "      <th>self_offset_5_2</th>\n",
       "      <th>self_offset_5_3</th>\n",
       "      <th>mean_both_sides</th>\n",
       "    </tr>\n",
       "  </thead>\n",
       "  <tbody>\n",
       "    <tr>\n",
       "      <th>diff_percent_segment_and_median_by_segment_code_and_hour_and_day</th>\n",
       "      <td>1.000000</td>\n",
       "      <td>0.183549</td>\n",
       "      <td>0.154538</td>\n",
       "      <td>0.143330</td>\n",
       "      <td>0.074754</td>\n",
       "    </tr>\n",
       "    <tr>\n",
       "      <th>self_offset_5_1</th>\n",
       "      <td>0.183549</td>\n",
       "      <td>1.000000</td>\n",
       "      <td>0.230755</td>\n",
       "      <td>0.195831</td>\n",
       "      <td>0.791027</td>\n",
       "    </tr>\n",
       "    <tr>\n",
       "      <th>self_offset_5_2</th>\n",
       "      <td>0.154538</td>\n",
       "      <td>0.230755</td>\n",
       "      <td>1.000000</td>\n",
       "      <td>0.221994</td>\n",
       "      <td>0.124446</td>\n",
       "    </tr>\n",
       "    <tr>\n",
       "      <th>self_offset_5_3</th>\n",
       "      <td>0.143330</td>\n",
       "      <td>0.195831</td>\n",
       "      <td>0.221994</td>\n",
       "      <td>1.000000</td>\n",
       "      <td>0.094798</td>\n",
       "    </tr>\n",
       "    <tr>\n",
       "      <th>mean_both_sides</th>\n",
       "      <td>0.074754</td>\n",
       "      <td>0.791027</td>\n",
       "      <td>0.124446</td>\n",
       "      <td>0.094798</td>\n",
       "      <td>1.000000</td>\n",
       "    </tr>\n",
       "  </tbody>\n",
       "</table>\n",
       "</div>"
      ],
      "text/plain": [
       "                                                    diff_percent_segment_and_median_by_segment_code_and_hour_and_day  \\\n",
       "diff_percent_segment_and_median_by_segment_code...                                           1.000000                  \n",
       "self_offset_5_1                                                                              0.183549                  \n",
       "self_offset_5_2                                                                              0.154538                  \n",
       "self_offset_5_3                                                                              0.143330                  \n",
       "mean_both_sides                                                                              0.074754                  \n",
       "\n",
       "                                                    self_offset_5_1  \\\n",
       "diff_percent_segment_and_median_by_segment_code...         0.183549   \n",
       "self_offset_5_1                                            1.000000   \n",
       "self_offset_5_2                                            0.230755   \n",
       "self_offset_5_3                                            0.195831   \n",
       "mean_both_sides                                            0.791027   \n",
       "\n",
       "                                                    self_offset_5_2  \\\n",
       "diff_percent_segment_and_median_by_segment_code...         0.154538   \n",
       "self_offset_5_1                                            0.230755   \n",
       "self_offset_5_2                                            1.000000   \n",
       "self_offset_5_3                                            0.221994   \n",
       "mean_both_sides                                            0.124446   \n",
       "\n",
       "                                                    self_offset_5_3  \\\n",
       "diff_percent_segment_and_median_by_segment_code...         0.143330   \n",
       "self_offset_5_1                                            0.195831   \n",
       "self_offset_5_2                                            0.221994   \n",
       "self_offset_5_3                                            1.000000   \n",
       "mean_both_sides                                            0.094798   \n",
       "\n",
       "                                                    mean_both_sides  \n",
       "diff_percent_segment_and_median_by_segment_code...         0.074754  \n",
       "self_offset_5_1                                            0.791027  \n",
       "self_offset_5_2                                            0.124446  \n",
       "self_offset_5_3                                            0.094798  \n",
       "mean_both_sides                                            1.000000  "
      ]
     },
     "execution_count": 34,
     "metadata": {},
     "output_type": "execute_result"
    }
   ],
   "source": [
    "se[['diff_percent_segment_and_median_by_segment_code_and_hour_and_day', 'self_offset_5_1', 'self_offset_5_2', 'self_offset_5_3', 'mean_both_sides']].corr()\n"
   ]
  },
  {
   "cell_type": "markdown",
   "metadata": {},
   "source": [
    "The conclusion is that you really can't use the microscopic to predict the microscopic as the noise it too much!"
   ]
  },
  {
   "cell_type": "markdown",
   "metadata": {},
   "source": [
    "## Looking at Noise now"
   ]
  },
  {
   "cell_type": "markdown",
   "metadata": {},
   "source": [
    "Starting by making some more medians to compare"
   ]
  },
  {
   "cell_type": "code",
   "execution_count": 37,
   "metadata": {},
   "outputs": [],
   "source": [
    "se['dry'] = (se['rain'] == 0)\n",
    "se['weekend'] = (se['arrival_day'] > 4)"
   ]
  },
  {
   "cell_type": "code",
   "execution_count": 38,
   "metadata": {},
   "outputs": [],
   "source": [
    "segment_code_and_hour_and_daytype_groups = se[se[\"train\"]].groupby(\n",
    "    [\"segment_code\", \"arrival_hour\", \"weekend\"]\n",
    ")\n",
    "\n",
    "median_durations_by_segment_code_and_hour_and_daytype = (\n",
    "    segment_code_and_hour_and_daytype_groups[\"segment_duration\"]\n",
    "    .median()\n",
    "    .rename(\"median_durations_by_segment_code_and_hour_and_daytype\")\n",
    ")\n",
    "\n",
    "se = se.merge(\n",
    "    median_durations_by_segment_code_and_hour_and_daytype.to_frame(),\n",
    "    \"left\",\n",
    "    left_on=[\"segment_code\", \"arrival_hour\", \"weekend\"],\n",
    "    right_index=True,\n",
    ")"
   ]
  },
  {
   "cell_type": "code",
   "execution_count": 39,
   "metadata": {},
   "outputs": [],
   "source": [
    "segment_code_and_hour_and_daytype_dry_groups = se[se[\"train\"]].groupby(\n",
    "    [\"segment_code\", \"arrival_hour\", \"weekend\", \"dry\"]\n",
    ")\n",
    "\n",
    "median_durations_by_segment_code_and_hour_and_daytype_and_dry = (\n",
    "    segment_code_and_hour_and_daytype_dry_groups[\"segment_duration\"]\n",
    "    .median()\n",
    "    .rename(\"median_durations_by_segment_code_and_hour_and_daytype_and_dry\")\n",
    ")\n",
    "\n",
    "se = se.merge(\n",
    "    median_durations_by_segment_code_and_hour_and_daytype_and_dry.to_frame(),\n",
    "    \"left\",\n",
    "    left_on=[\"segment_code\", \"arrival_hour\", \"weekend\", \"dry\"],\n",
    "    right_index=True,\n",
    ")"
   ]
  },
  {
   "cell_type": "code",
   "execution_count": 40,
   "metadata": {},
   "outputs": [],
   "source": [
    "segment_code_and_hour_and_day_dry_groups = se[(se[\"train\"])].groupby(\n",
    "    [\"segment_code\", \"arrival_hour\", \"arrival_day\", 'dry']\n",
    ")\n",
    "\n",
    "median_durations_by_segment_code_and_hour_and_day_dry = (\n",
    "    segment_code_and_hour_and_day_dry_groups[\"segment_duration\"]\n",
    "    .median()\n",
    "    .rename(\"median_durations_by_segment_code_and_hour_and_day_dry\")\n",
    ")\n",
    "se = se.merge(\n",
    "    median_durations_by_segment_code_and_hour_and_day_dry.to_frame(),\n",
    "    \"left\",\n",
    "    left_on=[\"segment_code\", \"arrival_hour\", \"arrival_day\", 'dry'],\n",
    "    right_index=True,\n",
    ")"
   ]
  },
  {
   "cell_type": "code",
   "execution_count": 42,
   "metadata": {},
   "outputs": [],
   "source": [
    "segment_code_and_day_groups = se[(se[\"train\"])].groupby(\n",
    "    [\"segment_code\", \"arrival_day\"]\n",
    ")\n",
    "\n",
    "mean_durations_by_segment_code_and_day = (\n",
    "    segment_code_and_day_groups[\"segment_duration\"]\n",
    "    .mean()\n",
    "    .rename(\"mean_durations_by_segment_code_and_day\")\n",
    ")\n",
    "se = se.merge(\n",
    "    mean_durations_by_segment_code_and_day.to_frame(),\n",
    "    \"left\",\n",
    "    left_on=[\"segment_code\", \"arrival_day\"],\n",
    "    right_index=True,\n",
    ")"
   ]
  },
  {
   "cell_type": "code",
   "execution_count": 46,
   "metadata": {},
   "outputs": [],
   "source": [
    "se['diff_segment_and_mediun_by_segment_code_and_hour_and_daytype'] = se['segment_duration'] - se['median_durations_by_segment_code_and_hour_and_daytype']\n"
   ]
  },
  {
   "cell_type": "markdown",
   "metadata": {},
   "source": [
    "Looking at the bayesian esimates of some means and standard deviations"
   ]
  },
  {
   "cell_type": "code",
   "execution_count": 47,
   "metadata": {},
   "outputs": [
    {
     "data": {
      "text/plain": [
       "(Mean(statistic=6.519246219417394, minmax=(6.490571141811569, 6.54792129702322)),\n",
       " Variance(statistic=1190.4587730594515, minmax=(1189.059582778715, 1191.857963340188)),\n",
       " Std_dev(statistic=34.50302556384659, minmax=(34.48274922202046, 34.523301905672724)))"
      ]
     },
     "execution_count": 47,
     "metadata": {},
     "output_type": "execute_result"
    }
   ],
   "source": [
    "stats.bayes_mvs(se['diff_segment_and_mediun_by_segment_code_and_hour_and_daytype'], alpha=0.9)"
   ]
  },
  {
   "cell_type": "code",
   "execution_count": 48,
   "metadata": {},
   "outputs": [
    {
     "data": {
      "text/plain": [
       "(Mean(statistic=7.718837493984639, minmax=(7.6888147982059065, 7.748860189763371)),\n",
       " Variance(statistic=1304.9820172497994, minmax=(1303.4482235591709, 1306.5158109404279)),\n",
       " Std_dev(statistic=36.124534837832854, minmax=(36.10330558605821, 36.145764089607496)))"
      ]
     },
     "execution_count": 48,
     "metadata": {},
     "output_type": "execute_result"
    }
   ],
   "source": [
    "stats.bayes_mvs(se['diff_segment_and_median_by_segment_code'], alpha=0.9)"
   ]
  },
  {
   "cell_type": "code",
   "execution_count": 49,
   "metadata": {},
   "outputs": [
    {
     "data": {
      "text/plain": [
       "(Mean(statistic=46.03824531440074, minmax=(46.000698393453874, 46.075792235347606)),\n",
       " Variance(statistic=2041.0507928807974, minmax=(2038.6518703002623, 2043.4497154613325)),\n",
       " Std_dev(statistic=45.17799013768538, minmax=(45.15144045527118, 45.204539820099576)))"
      ]
     },
     "execution_count": 49,
     "metadata": {},
     "output_type": "execute_result"
    }
   ],
   "source": [
    "stats.bayes_mvs(se['segment_duration'], alpha=0.9)"
   ]
  },
  {
   "cell_type": "code",
   "execution_count": 50,
   "metadata": {},
   "outputs": [
    {
     "data": {
      "text/plain": [
       "46.03824531440074"
      ]
     },
     "execution_count": 50,
     "metadata": {},
     "output_type": "execute_result"
    }
   ],
   "source": [
    "se['segment_duration'].mean()"
   ]
  },
  {
   "cell_type": "code",
   "execution_count": 51,
   "metadata": {},
   "outputs": [
    {
     "data": {
      "text/plain": [
       "45.17799590453899"
      ]
     },
     "execution_count": 51,
     "metadata": {},
     "output_type": "execute_result"
    }
   ],
   "source": [
    "se['segment_duration'].std()"
   ]
  },
  {
   "cell_type": "code",
   "execution_count": 52,
   "metadata": {},
   "outputs": [
    {
     "data": {
      "text/plain": [
       "26.428944972108592"
      ]
     },
     "execution_count": 52,
     "metadata": {},
     "output_type": "execute_result"
    }
   ],
   "source": [
    "MAPE(se[se['test']]['median_durations_by_segment_code_and_hour_and_day'], se[se['test']]['segment_duration'])"
   ]
  },
  {
   "cell_type": "code",
   "execution_count": 53,
   "metadata": {},
   "outputs": [
    {
     "data": {
      "text/plain": [
       "26.128583183387658"
      ]
     },
     "execution_count": 53,
     "metadata": {},
     "output_type": "execute_result"
    }
   ],
   "source": [
    "MAPE(se[se['test']]['median_durations_by_segment_code_and_hour'], se[se['test']]['segment_duration'])"
   ]
  },
  {
   "cell_type": "code",
   "execution_count": 54,
   "metadata": {},
   "outputs": [
    {
     "data": {
      "text/plain": [
       "26.66096050180584"
      ]
     },
     "execution_count": 54,
     "metadata": {},
     "output_type": "execute_result"
    }
   ],
   "source": [
    "MAPE(se[se['test']]['median_durations_by_segment_code'], se[se['test']]['segment_duration'])"
   ]
  },
  {
   "cell_type": "code",
   "execution_count": 55,
   "metadata": {},
   "outputs": [
    {
     "data": {
      "text/plain": [
       "27.910705669274943"
      ]
     },
     "execution_count": 55,
     "metadata": {},
     "output_type": "execute_result"
    }
   ],
   "source": [
    "mask = (se['test']) & (~np.isnan(se['median_durations_by_segment_code_and_hour_and_day_dry']))\n",
    "\n",
    "MAPE(se[mask]['median_durations_by_segment_code_and_hour_and_day_dry'], se[mask]['segment_duration'])\n"
   ]
  },
  {
   "cell_type": "code",
   "execution_count": 56,
   "metadata": {},
   "outputs": [
    {
     "data": {
      "text/plain": [
       "26.22647711420303"
      ]
     },
     "execution_count": 56,
     "metadata": {},
     "output_type": "execute_result"
    }
   ],
   "source": [
    "mask = (se['test']) & (~np.isnan(se['median_durations_by_segment_code_and_hour_and_daytype_and_dry']))\n",
    "\n",
    "MAPE(se[mask]['median_durations_by_segment_code_and_hour_and_daytype_and_dry'], se[mask]['segment_duration'])\n",
    "\n"
   ]
  },
  {
   "cell_type": "code",
   "execution_count": 57,
   "metadata": {},
   "outputs": [
    {
     "data": {
      "text/plain": [
       "25.991789218474246"
      ]
     },
     "execution_count": 57,
     "metadata": {},
     "output_type": "execute_result"
    }
   ],
   "source": [
    "MAPE(se[se['test']]['median_durations_by_segment_code_and_hour_and_daytype'], se[se['test']]['segment_duration'])\n"
   ]
  },
  {
   "cell_type": "code",
   "execution_count": 58,
   "metadata": {},
   "outputs": [
    {
     "data": {
      "text/plain": [
       "38.52029004826241"
      ]
     },
     "execution_count": 58,
     "metadata": {},
     "output_type": "execute_result"
    }
   ],
   "source": [
    "MAPE(se[se['test']]['mean_durations_by_segment_code_and_day'], se[se['test']]['segment_duration'])"
   ]
  },
  {
   "cell_type": "code",
   "execution_count": 59,
   "metadata": {},
   "outputs": [
    {
     "data": {
      "text/plain": [
       "9.884577531897612"
      ]
     },
     "execution_count": 59,
     "metadata": {},
     "output_type": "execute_result"
    }
   ],
   "source": [
    "(se['median_durations_by_segment_code_and_hour_and_daytype'] - se['median_durations_by_segment_code']).std()"
   ]
  },
  {
   "cell_type": "code",
   "execution_count": 60,
   "metadata": {},
   "outputs": [
    {
     "data": {
      "text/plain": [
       "4.141688845318741"
      ]
     },
     "execution_count": 60,
     "metadata": {},
     "output_type": "execute_result"
    }
   ],
   "source": [
    "(se['median_durations_by_segment_code_and_hour_and_daytype'] - se['median_durations_by_segment_code']).abs().mean()"
   ]
  },
  {
   "cell_type": "markdown",
   "metadata": {},
   "source": [
    "Find the mean absolute difference and the standard devations of each pair of buses that do the same segment within 5 mins of each other."
   ]
  },
  {
   "cell_type": "code",
   "execution_count": 61,
   "metadata": {},
   "outputs": [],
   "source": [
    "se_segment_name_groups = se.groupby(\"segment_name\")"
   ]
  },
  {
   "cell_type": "code",
   "execution_count": 104,
   "metadata": {},
   "outputs": [],
   "source": [
    "differences = []\n",
    "arrival_hours = []\n",
    "weekend = []\n",
    "dry = []\n",
    "length = []\n",
    "distance = []\n",
    "\n",
    "for name, segment in se_segment_name_groups:\n",
    "    \n",
    "    segment = segment.sort_values(\"actualArrival\")\n",
    "    \n",
    "    previous_bus = segment.shift(1)\n",
    "    \n",
    "    mask = (segment['actualArrival'] - previous_bus['actualArrival']) < pd.Timedelta(\"5 minute\")\n",
    "    \n",
    "    differences.extend(segment[mask]['segment_duration'] - previous_bus[mask]['segment_duration'])\n",
    "    \n",
    "    arrival_hours.extend(segment[mask]['arrival_hour'])\n",
    "    \n",
    "    weekend.extend(segment[mask]['weekend'])\n",
    "    \n",
    "    dry.extend(segment[mask]['dry'])\n",
    "    \n",
    "    length.extend(segment[mask]['line_distance'])\n",
    "    \n",
    "    distance.extend(segment[mask]['to_centre_dist'])\n",
    "    "
   ]
  },
  {
   "cell_type": "code",
   "execution_count": 105,
   "metadata": {},
   "outputs": [],
   "source": [
    "differences = np.array(differences)\n",
    "arrival_hours = np.array(arrival_hours)\n",
    "weekend = np.array(weekend)\n",
    "dry = np.array(dry)\n",
    "length = np.array(length)\n",
    "distance = np.array(distance)"
   ]
  },
  {
   "cell_type": "code",
   "execution_count": 92,
   "metadata": {},
   "outputs": [
    {
     "name": "stdout",
     "output_type": "stream",
     "text": [
      "1162208\n",
      "1138964\n"
     ]
    }
   ],
   "source": [
    "length = len(differences)\n",
    "\n",
    "print(length)\n",
    "\n",
    "differences_filtered = np.sort(differences)[int(length/100):-int(length/100)]\n",
    "\n",
    "print(len(differences_filtered))"
   ]
  },
  {
   "cell_type": "code",
   "execution_count": 64,
   "metadata": {},
   "outputs": [
    {
     "data": {
      "text/plain": [
       "(Mean(statistic=-0.5940287797020843, minmax=(-0.6577734855331612, -0.5302840738710075)),\n",
       " Variance(statistic=1745.4909021800968, minmax=(1741.7245761318652, 1749.2572282283284)),\n",
       " Std_dev(statistic=41.77907253853413, minmax=(41.733998224776236, 41.824146852292024)))"
      ]
     },
     "execution_count": 64,
     "metadata": {},
     "output_type": "execute_result"
    }
   ],
   "source": [
    "stats.bayes_mvs(differences, alpha=0.9)"
   ]
  },
  {
   "cell_type": "code",
   "execution_count": 73,
   "metadata": {},
   "outputs": [
    {
     "data": {
      "text/plain": [
       "(Mean(statistic=-0.3783763139133458, minmax=(-0.41561192097219857, -0.3411407068544931)),\n",
       " Variance(statistic=583.6767053909387, minmax=(582.4044930124313, 584.948917769446)),\n",
       " Std_dev(statistic=24.159402008140404, minmax=(24.13307245788749, 24.185731558393318)))"
      ]
     },
     "execution_count": 73,
     "metadata": {},
     "output_type": "execute_result"
    }
   ],
   "source": [
    "stats.bayes_mvs(differences_filtered, alpha=0.9)"
   ]
  },
  {
   "cell_type": "code",
   "execution_count": 75,
   "metadata": {},
   "outputs": [
    {
     "data": {
      "text/plain": [
       "18.614040688069604"
      ]
     },
     "execution_count": 75,
     "metadata": {},
     "output_type": "execute_result"
    }
   ],
   "source": [
    "np.mean(np.abs(differences))"
   ]
  },
  {
   "cell_type": "code",
   "execution_count": 76,
   "metadata": {},
   "outputs": [
    {
     "data": {
      "text/plain": [
       "8.0"
      ]
     },
     "execution_count": 76,
     "metadata": {},
     "output_type": "execute_result"
    }
   ],
   "source": [
    "np.median(np.abs(differences))"
   ]
  },
  {
   "cell_type": "code",
   "execution_count": 120,
   "metadata": {},
   "outputs": [
    {
     "data": {
      "text/plain": [
       "14.820170786785184"
      ]
     },
     "execution_count": 120,
     "metadata": {},
     "output_type": "execute_result"
    }
   ],
   "source": [
    "np.mean(np.abs(differences_filtered))"
   ]
  },
  {
   "cell_type": "code",
   "execution_count": 121,
   "metadata": {},
   "outputs": [
    {
     "data": {
      "text/plain": [
       "7.0"
      ]
     },
     "execution_count": 121,
     "metadata": {},
     "output_type": "execute_result"
    }
   ],
   "source": [
    "np.median(np.abs(differences_filtered))"
   ]
  },
  {
   "cell_type": "code",
   "execution_count": 78,
   "metadata": {},
   "outputs": [
    {
     "data": {
      "image/png": "[encoded data removed]",
      "text/plain": [
       "<Figure size 432x288 with 1 Axes>"
      ]
     },
     "metadata": {
      "needs_background": "light"
     },
     "output_type": "display_data"
    }
   ],
   "source": [
    "plt.hist(differences_filtered, bins=100, range=(-150, 150));"
   ]
  },
  {
   "cell_type": "code",
   "execution_count": 96,
   "metadata": {},
   "outputs": [
    {
     "name": "stderr",
     "output_type": "stream",
     "text": [
      "/Users/tommelamed/.local/lib/python3.7/site-packages/numpy/core/_methods.py:140: RuntimeWarning: Degrees of freedom <= 0 for slice\n",
      "  keepdims=keepdims)\n",
      "/Users/tommelamed/.local/lib/python3.7/site-packages/numpy/core/_methods.py:110: RuntimeWarning: invalid value encountered in true_divide\n",
      "  arrmean, rcount, out=arrmean, casting='unsafe', subok=False)\n",
      "/Users/tommelamed/.local/lib/python3.7/site-packages/numpy/core/_methods.py:132: RuntimeWarning: invalid value encountered in double_scalars\n",
      "  ret = ret.dtype.type(ret / rcount)\n"
     ]
    }
   ],
   "source": [
    "hour = []\n",
    "std = []\n",
    "\n",
    "for i in range(23):\n",
    "    hour.append(i)\n",
    "    \n",
    "    std.append(differences[arrival_hours == i].std())"
   ]
  },
  {
   "cell_type": "code",
   "execution_count": 99,
   "metadata": {},
   "outputs": [
    {
     "data": {
      "text/plain": [
       "Text(0, 0.5, 'Standard Deviation (sec)')"
      ]
     },
     "execution_count": 99,
     "metadata": {},
     "output_type": "execute_result"
    },
    {
     "data": {
      "image/png": "[encoded data removed]",
      "text/plain": [
       "<Figure size 432x288 with 1 Axes>"
      ]
     },
     "metadata": {
      "needs_background": "light"
     },
     "output_type": "display_data"
    }
   ],
   "source": [
    "plt.bar(hour, std)\n",
    "plt.title(\"Standard Deviation between pairs of buses within 5 mins on the same segment\")\n",
    "plt.xlabel(\"Hour of the day\")\n",
    "plt.ylabel(\"Standard Deviation (sec)\")"
   ]
  },
  {
   "cell_type": "code",
   "execution_count": 106,
   "metadata": {},
   "outputs": [],
   "source": [
    "dry_s = []\n",
    "std = []\n",
    "\n",
    "for i in range(2):\n",
    "    dry_s.append(i)\n",
    "    \n",
    "    std.append(differences[dry == i].std())"
   ]
  },
  {
   "cell_type": "code",
   "execution_count": 107,
   "metadata": {},
   "outputs": [
    {
     "data": {
      "text/plain": [
       "Text(0, 0.5, 'Standard Deviation (sec)')"
      ]
     },
     "execution_count": 107,
     "metadata": {},
     "output_type": "execute_result"
    },
    {
     "data": {
      "image/png": "[encoded data removed]",
      "text/plain": [
       "<Figure size 432x288 with 1 Axes>"
      ]
     },
     "metadata": {
      "needs_background": "light"
     },
     "output_type": "display_data"
    }
   ],
   "source": [
    "plt.bar(dry_s, std)\n",
    "plt.title(\"Standard Deviation between pairs of buses within 5 mins on the same segment\")\n",
    "plt.xlabel(\"Is it dry\")\n",
    "plt.ylabel(\"Standard Deviation (sec)\")"
   ]
  },
  {
   "cell_type": "code",
   "execution_count": 113,
   "metadata": {},
   "outputs": [
    {
     "name": "stderr",
     "output_type": "stream",
     "text": [
      "/Users/tommelamed/.local/lib/python3.7/site-packages/numpy/core/_methods.py:140: RuntimeWarning: Degrees of freedom <= 0 for slice\n",
      "  keepdims=keepdims)\n",
      "/Users/tommelamed/.local/lib/python3.7/site-packages/numpy/core/_methods.py:110: RuntimeWarning: invalid value encountered in true_divide\n",
      "  arrmean, rcount, out=arrmean, casting='unsafe', subok=False)\n",
      "/Users/tommelamed/.local/lib/python3.7/site-packages/numpy/core/_methods.py:132: RuntimeWarning: invalid value encountered in double_scalars\n",
      "  ret = ret.dtype.type(ret / rcount)\n"
     ]
    }
   ],
   "source": [
    "length_s = []\n",
    "std = []\n",
    "\n",
    "for i in np.linspace(0, 1, 11):\n",
    "    \n",
    "    length_s.append(i)\n",
    "    \n",
    "    std.append(differences[(length > i) & (length < i + 0.1)].std())"
   ]
  },
  {
   "cell_type": "code",
   "execution_count": 114,
   "metadata": {},
   "outputs": [
    {
     "data": {
      "text/plain": [
       "Text(0, 0.5, 'Standard Deviation (sec)')"
      ]
     },
     "execution_count": 114,
     "metadata": {},
     "output_type": "execute_result"
    },
    {
     "data": {
      "image/png": "[encoded data removed]",
      "text/plain": [
       "<Figure size 432x288 with 1 Axes>"
      ]
     },
     "metadata": {
      "needs_background": "light"
     },
     "output_type": "display_data"
    }
   ],
   "source": [
    "plt.bar(length_s, std)\n",
    "plt.title(\"Standard Deviation between pairs of buses within 5 mins on the same segment\")\n",
    "plt.xlabel(\"Segment length (km)\")\n",
    "plt.ylabel(\"Standard Deviation (sec)\")"
   ]
  },
  {
   "cell_type": "code",
   "execution_count": 116,
   "metadata": {},
   "outputs": [],
   "source": [
    "distance_s = []\n",
    "std = []\n",
    "\n",
    "for i in np.linspace(0, 10, 11):\n",
    "    \n",
    "    distance_s.append(i)\n",
    "    \n",
    "    std.append(differences[(distance > i) & (distance < i + 1)].std())"
   ]
  },
  {
   "cell_type": "code",
   "execution_count": 119,
   "metadata": {},
   "outputs": [
    {
     "data": {
      "text/plain": [
       "Text(0, 0.5, 'Standard Deviation (sec)')"
      ]
     },
     "execution_count": 119,
     "metadata": {},
     "output_type": "execute_result"
    },
    {
     "data": {
      "image/png": "[encoded data removed]",
      "text/plain": [
       "<Figure size 432x288 with 1 Axes>"
      ]
     },
     "metadata": {
      "needs_background": "light"
     },
     "output_type": "display_data"
    }
   ],
   "source": [
    "plt.bar(distance_s, std)\n",
    "plt.title(\"Standard Deviation between pairs of buses within 5 mins on the same segment\")\n",
    "plt.xlabel(\"Distance from Centre (km)\")\n",
    "plt.ylabel(\"Standard Deviation (sec)\")"
   ]
  }
 ],
 "metadata": {
  "kernelspec": {
   "display_name": "busses",
   "language": "python",
   "name": "busses"
  },
  "language_info": {
   "codemirror_mode": {
    "name": "ipython",
    "version": 3
   },
   "file_extension": ".py",
   "mimetype": "text/x-python",
   "name": "python",
   "nbconvert_exporter": "python",
   "pygments_lexer": "ipython3",
   "version": "3.7.1"
  }
 },
 "nbformat": 4,
 "nbformat_minor": 2
}
