{
 "cells": [
  {
   "cell_type": "code",
   "execution_count": 1,
   "metadata": {},
   "outputs": [],
   "source": [
    "import pandas as pd\n",
    "\n",
    "import matplotlib.pyplot as plt\n",
    "\n",
    "from datetime import datetime\n",
    "\n",
    "from collections import defaultdict"
   ]
  },
  {
   "cell_type": "code",
   "execution_count": 4,
   "metadata": {},
   "outputs": [],
   "source": [
    "patterns = pd.read_csv(\"../Trapeze_Data/Patterns.csv\")\n",
    "performed_work = pd.read_csv(\"../Trapeze_Data/PerformedWork.csv\")"
   ]
  },
  {
   "cell_type": "code",
   "execution_count": 3,
   "metadata": {},
   "outputs": [
    {
     "name": "stdout",
     "output_type": "stream",
     "text": [
      "SSSSSSSSSSSSSSSSSSSSSSSSSSSSSSSSSSSSSSSSSSSSSSSSSSSSSSSSSSSSSSSSSSSSSSSSSSSSSSSSSSSSSSSSSSSSSSSSSSSSSSSSSSSSSSSSSSSSSSSSSSSSSSSSSSSSSSSSSS\n",
      "\tTotal number of pairs is: 138\n",
      "All stop codes that are duplicated are:defaultdict(<class 'list'>, {'1290BOB20387': ['167_16', '167_125', '167_18', '167_128', '167_21', '167_14', '167_127', '167_116', '167_2', '167_3', '167_115', '167_6', '167_117', '167_118', '167_1', '167_17', '167_15', '167_126', '167_124', '168_1', '168_2', '168_116', '168_3', '168_118', '168_6', '168_117', '168_115', '168_17', '168_126', '168_18', '168_15', '168_16', '168_125', '168_128', '168_21', '168_124', '168_127', '168_14'], '1290BOB20403': ['167_38', '167_44', '167_42', '167_135', '167_137', '167_40', '167_133', '167_134', '167_46', '167_37', '167_51', '167_36', '167_48', '167_23', '167_22', '167_26', '167_130', '167_24', '167_25', '167_28', '167_129', '167_33', '167_132', '167_31', '167_35', '167_32', '167_34', '167_131', '167_45', '167_136', '167_43', '167_41', '167_39', '168_24', '168_25', '168_26', '168_130', '168_22', '168_129', '168_28', '168_23', '168_33', '168_132', '168_35', '168_31', '168_32', '168_34', '168_131', '168_45', '168_43', '168_41', '168_136', '168_134', '168_46', '168_135', '168_137', '168_39', '168_37', '168_51', '168_48', '168_38', '168_40', '168_42', '168_44', '168_133', '168_36', '170_23', '170_22', '170_91', '170_21', '170_25', '170_20', '170_19', '170_90', '170_30', '170_93', '170_28', '170_31', '170_29', '170_92', '170_33', '170_35', '170_36', '170_34', '170_32'], '1280BOB20047': ['167_267', '167_265', '167_264', '167_266', '168_265', '168_264', '168_266', '168_267', '170_217', '170_215', '170_214', '170_216'], '1290BOB20402': ['167_284', '168_284', '170_236']})\n"
     ]
    }
   ],
   "source": [
    "# Find only the rows where the same stop code comes up twice in a sequence\n",
    "groups = patterns.groupby(['id', 'stopCode']).filter(lambda x: len(x) > 1) \n",
    "\n",
    "previous_id = ''\n",
    "previous_stop_code = ''\n",
    "previous_sequence = 0\n",
    "previous_timing_point = 0\n",
    "total = 0\n",
    "\n",
    "stops_dict = defaultdict(list)\n",
    "\n",
    "# Go through all the matches\n",
    "for row in groups.iterrows():\n",
    "    \n",
    "    # If we are looking at the second of the pair (I've previously checked that the most matches is two)\n",
    "    if(row[1]['id'] == previous_id and row[1]['stopCode'] == previous_stop_code):\n",
    "        \n",
    "        # Count the number of pairs\n",
    "        total += 1\n",
    "        \n",
    "        stops_dict[previous_stop_code].append(previous_id)\n",
    "        \n",
    "        # If they aren't directly one after the other shout about it\n",
    "        if(row[1]['sequence'] != previous_sequence + 1):\n",
    "            print(f\"Pattern: {previous_id} with stop_code: {previous_stop_code} is not sequential!!!\")\n",
    "            print(f\"{previous_sequence} and {row[1]['sequence']}\")\n",
    "            print(\"-------------\")\n",
    "        else:\n",
    "            # If they are directly one after the other then see if either of them are a timing point\n",
    "            if(previous_timing_point is True):\n",
    "                if(row[1]['timingPoint']):\n",
    "                    print(\"B\", end=\"\") # Both\n",
    "                else:\n",
    "                    print(\"F\") # First\n",
    "            else:\n",
    "                if(row[1]['timingPoint']):\n",
    "                    print(\"S\", end=\"\") #Second\n",
    "                else:\n",
    "                    print(\"0\") # Neither\n",
    "            \n",
    "    previous_id = row[1]['id']\n",
    "    previous_stop_code = row[1]['stopCode']\n",
    "    previous_sequence = row[1]['sequence']\n",
    "    previous_timing_point = row[1]['timingPoint']\n",
    "\n",
    "\n",
    "print(f\"\\n\\tTotal number of pairs is: {total}\")\n",
    "print(f\"All stop codes that are duplicated are:{stops_dict}\")"
   ]
  },
  {
   "cell_type": "code",
   "execution_count": 9,
   "metadata": {},
   "outputs": [
    {
     "name": "stdout",
     "output_type": "stream",
     "text": [
      "defaultdict(<class 'set'>, {'1290BOB20387': {'1', '1c'}, '1290BOB20403': {'1', '1c'}, '1280BOB20047': {'6'}, '1290BOB20402': {'7'}})\n"
     ]
    }
   ],
   "source": [
    "# Now to translate each pattern to a route number/name\n",
    "\n",
    "stops_routes = defaultdict(set)\n",
    "\n",
    "for key, values in stops_dict.items():\n",
    "    \n",
    "    for pattern in values:\n",
    "\n",
    "        for work in performed_work.loc[performed_work.patternId == pattern].iterrows():\n",
    "            stops_routes[key].add(work[1]['publicName'])\n",
    "\n",
    "print(stops_routes)"
   ]
  },
  {
   "cell_type": "code",
   "execution_count": 15,
   "metadata": {},
   "outputs": [
    {
     "data": {
      "image/png": "[encoded data removed]",
      "text/plain": [
       "<Figure size 432x288 with 1 Axes>"
      ]
     },
     "metadata": {
      "needs_background": "light"
     },
     "output_type": "display_data"
    }
   ],
   "source": [
    "plt.hist(patterns.groupby(['id']).sequence.max(), bins=40)\n",
    "plt.xlabel(\"Number of stops in a pattern\")\n",
    "plt.ylabel(\"Frequency\")\n",
    "plt.title(\"Number of Stops per Pattern\")\n",
    "plt.show()"
   ]
  },
  {
   "cell_type": "code",
   "execution_count": null,
   "metadata": {},
   "outputs": [],
   "source": []
  }
 ],
 "metadata": {
  "kernelspec": {
   "display_name": "busses",
   "language": "python",
   "name": "busses"
  },
  "language_info": {
   "codemirror_mode": {
    "name": "ipython",
    "version": 3
   },
   "file_extension": ".py",
   "mimetype": "text/x-python",
   "name": "python",
   "nbconvert_exporter": "python",
   "pygments_lexer": "ipython3",
   "version": "3.7.1"
  }
 },
 "nbformat": 4,
 "nbformat_minor": 2
}
