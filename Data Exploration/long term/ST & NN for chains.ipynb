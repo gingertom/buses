{
 "cells": [
  {
   "cell_type": "code",
   "execution_count": 1,
   "metadata": {},
   "outputs": [
    {
     "name": "stderr",
     "output_type": "stream",
     "text": [
      "Using TensorFlow backend.\n"
     ]
    }
   ],
   "source": [
    "import numpy as np\n",
    "import numpy.ma as ma\n",
    "import pandas as pd\n",
    "import datetime\n",
    "\n",
    "import matplotlib.pyplot as plt\n",
    "import matplotlib.colors as colors\n",
    "from matplotlib.ticker import MaxNLocator\n",
    "\n",
    "import feather\n",
    "\n",
    "from tqdm import tqdm_notebook as tqdm\n",
    "\n",
    "from tqdm import tqdm_pandas\n",
    "\n",
    "from scipy.sparse import csr_matrix\n",
    "from pandas.api.types import CategoricalDtype\n",
    "\n",
    "from multiprocessing import Pool\n",
    "\n",
    "from sklearn.metrics import mean_absolute_error\n",
    "from sklearn.metrics import mean_squared_error\n",
    "\n",
    "from sklearn import preprocessing\n",
    "\n",
    "from pathlib import Path\n",
    "\n",
    "# import plaidml.keras\n",
    "\n",
    "# plaidml.keras.install_backend()\n",
    "\n",
    "import keras\n",
    "from keras.preprocessing import sequence\n",
    "from keras import layers, Input, Model\n",
    "from keras.models import Sequential\n",
    "from keras.layers import Flatten, Dense, Lambda, LSTM, Dropout\n",
    "\n",
    "import tensorflow as tf"
   ]
  },
  {
   "cell_type": "code",
   "execution_count": 23,
   "metadata": {},
   "outputs": [],
   "source": [
    "mtx = np.load(\"st_offsets_medians(1,10)_t_off(0,4)_w_off(-1,2_thresh_3).npy\")"
   ]
  },
  {
   "cell_type": "code",
   "execution_count": 33,
   "metadata": {},
   "outputs": [
    {
     "data": {
      "image/png": "[encoded data removed]",
      "text/plain": [
       "<Figure size 432x288 with 1 Axes>"
      ]
     },
     "metadata": {
      "needs_background": "light"
     },
     "output_type": "display_data"
    }
   ],
   "source": [
    "plt.hist(mtx.ravel(), bins=100, range=(-100,100), density=True);\n",
    "plt.hist(se['diff_percent_segment_and_mean_by_segment_code_and_hour_and_day'], bins=100, range=(-100,100), alpha=0.5, density=True);"
   ]
  },
  {
   "cell_type": "code",
   "execution_count": null,
   "metadata": {},
   "outputs": [],
   "source": []
  },
  {
   "cell_type": "markdown",
   "metadata": {},
   "source": [
    "## Loading and setting up the data"
   ]
  },
  {
   "cell_type": "code",
   "execution_count": 2,
   "metadata": {},
   "outputs": [],
   "source": [
    "se = feather.read_dataframe(\"../../data_files/B/once/75days/stop_events_with_geo_train_test_averages_prev_next_dwell.feather\",\n",
    "                            columns=[\"index\",\n",
    "                                     \"segment_duration\",\n",
    "                                     \"mean_durations_by_segment_code\",\n",
    "                                     \"mean_durations_by_segment_code_and_hour_and_day\",\n",
    "                                     \"diff_segment_and_mean_by_segment_code\",\n",
    "                                     \"diff_segment_and_mean_by_segment_code_and_hour_and_day\",\n",
    "                                     'line_distance',\n",
    "                                     'to_centre_dist',\n",
    "                                     'direction_degrees',\n",
    "                                     'rain',\n",
    "                                     'median_durations_by_segment_code_and_hour_and_day',\n",
    "                                     'arrival_hour','arrival_day',\n",
    "                                     \"diff_percent_segment_and_mean_by_segment_code_and_hour_and_day\",\n",
    "                                     'date','workid',\n",
    "                                     'actualArrival'\n",
    "                                    ])\n",
    "se = se.set_index(se.columns[0])"
   ]
  },
  {
   "cell_type": "code",
   "execution_count": 3,
   "metadata": {},
   "outputs": [],
   "source": [
    " # And now for just segments:\n",
    "se[\"diff_segment_and_mean_by_segment_code\"] = (\n",
    "    se[\"segment_duration\"]\n",
    "    - se[\"mean_durations_by_segment_code\"]\n",
    ")\n",
    "se[\"diff_segment_and_mean_by_segment_code_and_hour_and_day\"] = (\n",
    "    se[\"segment_duration\"]\n",
    "    - se[\"mean_durations_by_segment_code_and_hour_and_day\"]\n",
    ")\n",
    "\n",
    "se[\"diff_percent_segment_and_mean_by_segment_code\"] = (\n",
    "    se[\"diff_segment_and_mean_by_segment_code\"]\n",
    "    * 100\n",
    "    / se[\"mean_durations_by_segment_code\"]\n",
    ")\n",
    "\n",
    "se[\"diff_percent_segment_and_mean_by_segment_code_and_hour_and_day\"] = (\n",
    "    se[\"diff_segment_and_mean_by_segment_code_and_hour_and_day\"]\n",
    "    * 100\n",
    "    / se[\"mean_durations_by_segment_code_and_hour_and_day\"]\n",
    ")"
   ]
  },
  {
   "cell_type": "markdown",
   "metadata": {},
   "source": [
    "## Settings"
   ]
  },
  {
   "cell_type": "code",
   "execution_count": 4,
   "metadata": {},
   "outputs": [],
   "source": [
    "data_size = 2000000\n",
    "data_mask = np.zeros(se.shape[0]).astype(bool)\n",
    "\n",
    "data_mask[:data_size] = True\n",
    "\n",
    "train = False\n",
    "test = False\n",
    "\n",
    "if train:\n",
    "    data_mask = se['train']\n",
    "    \n",
    "if test: \n",
    "    data_mask = se['test']\n",
    "\n",
    "data_size = np.count_nonzero(data_mask)\n"
   ]
  },
  {
   "cell_type": "code",
   "execution_count": null,
   "metadata": {},
   "outputs": [],
   "source": [
    "print(data_size)"
   ]
  },
  {
   "cell_type": "code",
   "execution_count": null,
   "metadata": {},
   "outputs": [],
   "source": [
    "test_matrix = np.load(f\"percentage_offsets_check.npy\").T"
   ]
  },
  {
   "cell_type": "code",
   "execution_count": null,
   "metadata": {},
   "outputs": [],
   "source": [
    "test_matrix.shape"
   ]
  },
  {
   "cell_type": "code",
   "execution_count": null,
   "metadata": {},
   "outputs": [],
   "source": [
    "(test_matrix[:,0].astype(int)[500000:2000000] == se.index.values[500000:2000000]).all()"
   ]
  },
  {
   "cell_type": "code",
   "execution_count": null,
   "metadata": {},
   "outputs": [],
   "source": [
    "(test_matrix[data_mask,1] == se.loc[:,'diff_percent_segment_and_mean_by_segment_code_and_hour_and_day'][data_mask].values).all()\n"
   ]
  },
  {
   "cell_type": "code",
   "execution_count": null,
   "metadata": {},
   "outputs": [],
   "source": [
    "# test_length = np.count_nonzero(se['test'])\n",
    "\n",
    "# test_mask = se['test']"
   ]
  },
  {
   "cell_type": "code",
   "execution_count": null,
   "metadata": {},
   "outputs": [],
   "source": [
    "# 1st dimention is number of data points\n",
    "# 2nd dimention is going back in time (in 10 min increments)\n",
    "# 3rd dimention is prev-next segments\n",
    "\n",
    "width_array = [\n",
    "             'prev_segment_code_11',\n",
    "             'prev_segment_code_10',\n",
    "             'prev_segment_code_9',\n",
    "             'prev_segment_code_8',\n",
    "             'prev_segment_code_7',\n",
    "             'prev_segment_code_6',\n",
    "             'prev_segment_code_5', \n",
    "             'prev_segment_code_4', \n",
    "             'prev_segment_code_3', \n",
    "             'prev_segment_code_2', \n",
    "             'prev_segment_code_1', \n",
    "             'segment_code',\n",
    "             'next_segment_code_1',\n",
    "             'next_segment_code_2',\n",
    "             'next_segment_code_3',\n",
    "             'next_segment_code_4',\n",
    "             'next_segment_code_5',\n",
    "             'next_segment_code_6',\n",
    "             'next_segment_code_7',\n",
    "             'next_segment_code_8',\n",
    "             'next_segment_code_9',\n",
    "             'next_segment_code_10',\n",
    "             'next_segment_code_11',\n",
    "            ]\n",
    "\n",
    "means = np.empty((data_size, 25, len(width_array))).astype(float)\n",
    "counts = np.empty((data_size, 25, len(width_array))).astype(int)\n",
    "\n",
    "index = np.empty((data_size)).astype(int)\n",
    "\n",
    "for idx, code in enumerate(tqdm(width_array)):\n",
    "    \n",
    "    matrix = np.load(f\"mtx_{code}_last_25_10_2nd.npy\")\n",
    "    \n",
    "#     matrix = matrix[se.index.values[:np.argmax(se.index.values>=3920086)],:]\n",
    "    \n",
    "\n",
    "    means[:,:,idx] = matrix[data_mask,1:26].astype(float)\n",
    "    counts[:,:,idx] = matrix[data_mask,26:].astype(int)\n",
    "    \n",
    "    if idx == 0:\n",
    "        index = matrix[data_mask,0].astype(int)\n",
    "            \n",
    "#     print(\".\", end=\"\", flush=True)\n",
    "        \n",
    "  \n",
    "    "
   ]
  },
  {
   "cell_type": "code",
   "execution_count": null,
   "metadata": {},
   "outputs": [],
   "source": [
    "np.max(counts)"
   ]
  },
  {
   "cell_type": "code",
   "execution_count": null,
   "metadata": {},
   "outputs": [],
   "source": [
    "\n",
    "print((index == se.index[data_mask]).all())\n"
   ]
  },
  {
   "cell_type": "code",
   "execution_count": 5,
   "metadata": {},
   "outputs": [],
   "source": [
    "def calc_slice(width, time, width_offset=0, time_offset=0, additional_prev=0):\n",
    "    centre = int(len(width_array)/2) + 1\n",
    "    centre += width_offset\n",
    "    \n",
    "    return np.s_[:,2+time_offset:time+3+time_offset,centre-width-additional_prev:centre+width+1]\n"
   ]
  },
  {
   "cell_type": "code",
   "execution_count": 6,
   "metadata": {},
   "outputs": [],
   "source": [
    "def calc_offsets(means, counts, slices, axis, column_name, mask_threshold):\n",
    "    \n",
    "    mask = np.sum(counts[slices], axis=axis) > mask_threshold\n",
    "    \n",
    "    threshold_pass_fraction = np.count_nonzero(mask)/len(mask)\n",
    "    \n",
    "    if  threshold_pass_fraction < 0.25:\n",
    "        raise ValueError('not enough data passing threshold')\n",
    "    \n",
    "    print(f\"Approximately {threshold_pass_fraction*100:0.2f}% pass the threshold\")\n",
    "    \n",
    "    data = means[slices][mask]\n",
    "    \n",
    "    weights = counts[slices][mask]\n",
    "    \n",
    "    masked_data = np.ma.masked_array(data, np.isnan(data))\n",
    "    \n",
    "    if column_name is not None:    \n",
    "        se[column_name] = 0\n",
    "\n",
    "        se.loc[mask, column_name] = np.ma.average(masked_data, axis=axis, weights=weights)\n",
    "        \n",
    "        return\n",
    "    \n",
    "    offsets = np.zeros(counts.shape[0])\n",
    "    \n",
    "    offsets[mask] = np.ma.average(masked_data, axis=axis, weights=weights)\n",
    "    \n",
    "    return offsets, threshold_pass_fraction, np.mean(np.sum(weights, axis=axis))"
   ]
  },
  {
   "cell_type": "code",
   "execution_count": null,
   "metadata": {},
   "outputs": [],
   "source": []
  },
  {
   "cell_type": "code",
   "execution_count": 7,
   "metadata": {},
   "outputs": [
    {
     "data": {
      "image/png": "[encoded data removed]",
      "text/plain": [
       "<Figure size 432x288 with 1 Axes>"
      ]
     },
     "metadata": {
      "needs_background": "light"
     },
     "output_type": "display_data"
    }
   ],
   "source": [
    "plt.hist(se['diff_percent_segment_and_mean_by_segment_code_and_hour_and_day'], bins=100, range=(-150,150));\n",
    "# plt.hist(se['full_mean_minus_recent_15'], bins=100, range=(-150,150), alpha=0.5);"
   ]
  },
  {
   "cell_type": "code",
   "execution_count": null,
   "metadata": {},
   "outputs": [],
   "source": [
    "#Width of 2 and time of 100 with a threshold of 40\n",
    "\n",
    "calc_slice(2,10)\n",
    "\n",
    "bus_counts = np.sum(counts[calc_slice(2,10)], axis=(1,2))\n",
    "\n",
    "dense_mask = (bus_counts>=40)\n",
    "\n",
    "print(f\"Fraction over 40: {(bus_counts>=40).sum()/bus_counts.shape[0]}\")"
   ]
  },
  {
   "cell_type": "code",
   "execution_count": null,
   "metadata": {},
   "outputs": [],
   "source": [
    "plt.hist(bus_counts, bins=20, range=(0,200), density=True);\n",
    "plt.xlabel(\"Number of buses\")\n",
    "plt.ylabel(\"Fraction\")\n",
    "plt.title(\"Number of data points for last 220 mins (minus the most recent 20)\\nincl 2 prev & 2 next segments\")"
   ]
  },
  {
   "cell_type": "code",
   "execution_count": null,
   "metadata": {},
   "outputs": [],
   "source": [
    "# 1st Dimension is length of data points\n",
    "# 2nd dimension is going back in time\n",
    "# 3rd dimention is prev-next\n",
    "\n",
    "# Thoughts on the defaults:\n",
    "# - Set to zero (fast but doesn't contain much data)\n",
    "# - Set to v sparce prediction (probably better)\n",
    "# - Try to predict diff between v sparse mean and truth, \n",
    "#              set empty to zero and values to diff from \n",
    "#              v sparse mean\n",
    "\n",
    "# Other ideas:\n",
    "# - When making the offsets going one stop further previous than next \n",
    "#              (as prev' seems to be a better predictor)\n",
    "# - Try a stride length of 2 both in time and down the road\n",
    "# - Try a little less dense...\n",
    "st_offsets_dense = np.zeros((data_size, 11, 11))\n",
    "\n",
    "for i in range(11):\n",
    "    for j in range(-5,6,1):\n",
    "\n",
    "        st_offsets_dense[:,i,j+3], _, _ = calc_offsets(means, counts, calc_slice(2,10,j,i), (1,2), None, 60)\n",
    "        \n",
    "\n",
    "\n"
   ]
  },
  {
   "cell_type": "code",
   "execution_count": null,
   "metadata": {},
   "outputs": [],
   "source": [
    "# 1st Dimension is length of data points\n",
    "# 2nd dimension is going back in time\n",
    "# 3rd dimention is prev-next\n",
    "\n",
    "\n",
    "st_offsets_dense_plus_prev = np.zeros((data_size, 11, 11))\n",
    "\n",
    "for i in range(11):\n",
    "    for j in range(-5,6,1):\n",
    "\n",
    "        st_offsets_dense_plus_prev[:,i,j+3], _, _ = calc_offsets(means, counts, calc_slice(2,10,j,i,1), (1,2), None, 60)\n",
    "        \n",
    "\n",
    "\n",
    "\n"
   ]
  },
  {
   "cell_type": "code",
   "execution_count": null,
   "metadata": {},
   "outputs": [],
   "source": [
    "offsets_sparse2, _, _ = calc_offsets(means, counts, calc_slice(10,20), (1,2), None, 40)"
   ]
  },
  {
   "cell_type": "code",
   "execution_count": null,
   "metadata": {},
   "outputs": [],
   "source": [
    "offsets_dense2 = st_offsets_dense[:,0,5]"
   ]
  },
  {
   "cell_type": "code",
   "execution_count": null,
   "metadata": {},
   "outputs": [],
   "source": [
    "np.save(\"bus_counts(2,10)\", bus_counts)"
   ]
  },
  {
   "cell_type": "code",
   "execution_count": null,
   "metadata": {},
   "outputs": [],
   "source": [
    "np.save(\"offsets_sparse2(10,20)\", offsets_sparse2)"
   ]
  },
  {
   "cell_type": "code",
   "execution_count": null,
   "metadata": {},
   "outputs": [],
   "source": [
    "np.save(\"st_offsets_dense(2,10)_t_off(0,11)_w_off(-5,6)\", st_offsets_dense)"
   ]
  },
  {
   "cell_type": "code",
   "execution_count": null,
   "metadata": {},
   "outputs": [],
   "source": [
    "np.save(\"st_offsets_dense(2,10)_t_off(0,11)_w_off(-5,6)_1prev\", st_offsets_dense_plus_prev)"
   ]
  },
  {
   "cell_type": "code",
   "execution_count": 51,
   "metadata": {},
   "outputs": [],
   "source": [
    "# st_offsets_dense = np.load(\"st_offsets_dense(2,10)_t_off(0,11)_w_off(-5,6).npy\")\n",
    "st_offsets_dense = np.load(\"st_offsets_medians(2,10)_t_off(0,7)_w_off(-3,4_thresh_20).npy\")\n",
    "\n",
    "bus_counts = np.load(\"bus_counts(2,10).npy\")\n",
    "offsets_sparse2 = np.load(\"offsets_sparse2(10,20).npy\")\n",
    "# st_offsets_dense_plus_prev = np.load(\"st_offsets_dense(2,10)_t_off(0,11)_w_off(-5,6)_1prev.npy\")\n",
    "offsets_dense2 = st_offsets_dense[:,0,int((st_offsets_dense.shape[2]-1)/2)]"
   ]
  },
  {
   "cell_type": "code",
   "execution_count": 52,
   "metadata": {},
   "outputs": [],
   "source": [
    "st_offsets_dense = st_offsets_dense[:data_size]\n",
    "offsets_dense2 = offsets_dense2[:data_size]"
   ]
  },
  {
   "cell_type": "code",
   "execution_count": 53,
   "metadata": {},
   "outputs": [
    {
     "name": "stdout",
     "output_type": "stream",
     "text": [
      "Percent nonzero:0.7578363775510204\n"
     ]
    }
   ],
   "source": [
    "print(f\"Percent nonzero:{np.count_nonzero(st_offsets_dense)/st_offsets_dense.size}\")"
   ]
  },
  {
   "cell_type": "code",
   "execution_count": 54,
   "metadata": {},
   "outputs": [],
   "source": [
    "# make a copy and then in that copy replace all zeros with the sparse prediction instead. \n",
    "# Technically there might be a few zeros that are actually valid means but the chance of \n",
    "# a mean being exactly zero is quite small. \n",
    "\n",
    "offsets_sparse2_big = np.empty(st_offsets_dense.shape)\n",
    "\n",
    "offsets_sparse2_big[:] = offsets_sparse2[:,None,None]\n",
    "\n",
    "st_offsets_dense_replaced = st_offsets_dense.copy()\n",
    "\n",
    "st_offsets_dense_replaced[st_offsets_dense_replaced == 0] = offsets_sparse2_big[st_offsets_dense_replaced == 0]\n",
    "\n",
    "# st_offsets_dense_prev_replaced = st_offsets_dense_plus_prev.copy()\n",
    "\n",
    "# st_offsets_dense_prev_replaced[st_offsets_dense_prev_replaced == 0] = offsets_sparse2_big[st_offsets_dense_prev_replaced == 0]\n",
    "\n",
    "offsets_sparse2_big = None\n"
   ]
  },
  {
   "cell_type": "code",
   "execution_count": null,
   "metadata": {},
   "outputs": [],
   "source": [
    "np.count_nonzero(st_offsets_dense_replaced - st_offsets_dense)"
   ]
  },
  {
   "cell_type": "code",
   "execution_count": null,
   "metadata": {},
   "outputs": [],
   "source": [
    "np.count_nonzero(st_offsets_dense_replaced - offsets_sparse2[:,None,None])/st_offsets_dense.size"
   ]
  },
  {
   "cell_type": "code",
   "execution_count": null,
   "metadata": {},
   "outputs": [],
   "source": []
  },
  {
   "cell_type": "code",
   "execution_count": 39,
   "metadata": {},
   "outputs": [],
   "source": [
    "def create_LSTM_large(input_shape, dropout, recurant_dropout):\n",
    "\n",
    "    model = Sequential()\n",
    "\n",
    "    # New Start\n",
    "    model.add(LSTM(80, input_shape=input_shape, recurrent_dropout=recurant_dropout))\n",
    "\n",
    "    # Old start\n",
    "    # model.add(LSTM(40, input_shape=input_shape))\n",
    "    model.add(layers.Dropout(rate=dropout))\n",
    "    model.add(Dense(128, activation=\"relu\"))\n",
    "    model.add(layers.Dropout(rate=dropout))\n",
    "    model.add(Dense(64, activation=\"relu\"))\n",
    "    model.add(layers.Dropout(rate=dropout))\n",
    "    model.add(Dense(32, activation=\"relu\"))\n",
    "    model.add(layers.Dropout(rate=dropout))\n",
    "    model.add(Dense(12, activation=\"relu\"))\n",
    "    model.add(layers.Dropout(rate=dropout))\n",
    "    model.add(Dense(12, activation=\"relu\"))\n",
    "    model.add(layers.Dropout(rate=dropout))\n",
    "    model.add(Dense(1, activation=\"tanh\"))\n",
    "    model.summary()\n",
    "\n",
    "    return model"
   ]
  },
  {
   "cell_type": "code",
   "execution_count": 40,
   "metadata": {},
   "outputs": [],
   "source": [
    "def create_combined_model(road_input_shape, aux_input_shape, dropout, recurant_dropout):\n",
    "\n",
    "    # with help from: https://keras.io/getting-started/functional-api-guide/\n",
    "\n",
    "    # Headline input: meant to receive road time series.\n",
    "    main_input = Input(shape=road_input_shape, dtype=\"float32\", name=\"road_time_input\")\n",
    "    lstm_out = LSTM(80, recurrent_dropout=recurant_dropout)(main_input)\n",
    "\n",
    "    auxiliary_output = Dense(1, activation=\"tanh\", name=\"aux_output\")(lstm_out)\n",
    "\n",
    "    auxiliary_input = Input(shape=(aux_input_shape,), name=\"aux_input\")\n",
    "    x = keras.layers.concatenate([lstm_out, auxiliary_input])\n",
    "\n",
    "    # We stack a deep densely-connected network on top\n",
    "    x = Dense(128, activation=\"relu\")(x)\n",
    "    x = Dropout(rate=dropout)(x)\n",
    "    x = Dense(64, activation=\"relu\")(x)\n",
    "    x = Dropout(rate=dropout)(x)\n",
    "    x = Dense(32, activation=\"relu\")(x)\n",
    "    x = Dropout(rate=dropout)(x)\n",
    "    x = Dense(12, activation=\"relu\")(x)\n",
    "    x = Dropout(rate=dropout)(x)\n",
    "    x = Dense(12, activation=\"relu\")(x)\n",
    "    x = Dropout(rate=dropout)(x)\n",
    "\n",
    "    # And finally we add the main output layer\n",
    "    main_output = Dense(1, activation=\"tanh\", name=\"main_output\")(x)\n",
    "\n",
    "    model = Model(\n",
    "        inputs=[main_input, auxiliary_input], outputs=[main_output, auxiliary_output]\n",
    "    )\n",
    "\n",
    "    model.summary()\n",
    "\n",
    "    return model"
   ]
  },
  {
   "cell_type": "code",
   "execution_count": 41,
   "metadata": {},
   "outputs": [],
   "source": [
    "def create_any_combined_model(road_input_shape, aux_input_shape, dropout, recurant_dropout, lstm_layers, dense_layers):\n",
    "\n",
    "    # with help from: https://keras.io/getting-started/functional-api-guide/\n",
    "\n",
    "    # Headline input: meant to receive road time series.\n",
    "    main_input = Input(shape=road_input_shape, dtype=\"float32\", name=\"road_time_input\")\n",
    "    \n",
    "    for idx, layer in enumerate(lstm_layers):\n",
    "        \n",
    "        if idx == 0:\n",
    "            lstm_out = LSTM(layer, recurrent_dropout=recurant_dropout, return_sequences=(idx+1 < len(lstm_layers)))(main_input)\n",
    "        else:\n",
    "            lstm_out = LSTM(layer, recurrent_dropout=recurant_dropout, return_sequences=(idx+1 < len(lstm_layers)))(lstm_out)\n",
    "        \n",
    "\n",
    "    auxiliary_output = Dense(1, activation=\"tanh\", name=\"aux_output\")(lstm_out)\n",
    "\n",
    "    auxiliary_input = Input(shape=(aux_input_shape,), name=\"aux_input\")\n",
    "    x = keras.layers.concatenate([lstm_out, auxiliary_input])\n",
    "\n",
    "    for layer in dense_layers:\n",
    "        x = Dense(layer, activation=\"relu\")(x)\n",
    "        x = Dropout(rate=dropout)(x)\n",
    "\n",
    "    # And finally we add the main output layer\n",
    "    main_output = Dense(1, activation=\"tanh\", name=\"main_output\")(x)\n",
    "\n",
    "    model = Model(\n",
    "        inputs=[main_input, auxiliary_input], outputs=[main_output, auxiliary_output]\n",
    "    )\n",
    "\n",
    "    model.summary()\n",
    "\n",
    "    return model"
   ]
  },
  {
   "cell_type": "code",
   "execution_count": 50,
   "metadata": {},
   "outputs": [
    {
     "name": "stderr",
     "output_type": "stream",
     "text": [
      "/Users/tommelamed/anaconda3/envs/busses/lib/python3.7/site-packages/ipykernel_launcher.py:46: RuntimeWarning: invalid value encountered in less\n"
     ]
    }
   ],
   "source": [
    "(baseline_array_cum, \n",
    " actual_array_cum, \n",
    " baseline_median_array_cum, \n",
    " baseline_pass_count, \n",
    " pass_fraction, \n",
    " baseline_median_pass_count, \n",
    " median_pass_fraction) = calc_baseline_and_actual(test_mask)"
   ]
  },
  {
   "cell_type": "code",
   "execution_count": 43,
   "metadata": {},
   "outputs": [],
   "source": [
    "aux_matrix = se[['line_distance',\n",
    "                 'to_centre_dist','direction_degrees',\n",
    "                 'rain',#'mean_durations_by_segment_code',\n",
    "#                  'mean_durations_by_segment_code_and_hour_and_day',\n",
    "#                  'median_durations_by_segment_code_and_hour_and_day',\n",
    "                ]][data_mask].values\n",
    "\n",
    "aux_matrix = np.hstack((aux_matrix, \n",
    "                        pd.get_dummies(se['arrival_hour'][data_mask]).values,\n",
    "                      pd.get_dummies(se['arrival_day'][data_mask]).values,\n",
    "                      bus_counts[:,None],\n",
    "                       offsets_sparse2[:,None],\n",
    "                       offsets_dense2[:,None]))"
   ]
  },
  {
   "cell_type": "code",
   "execution_count": 55,
   "metadata": {},
   "outputs": [],
   "source": [
    "cut_point = int(data_size*3/4)\n",
    "\n",
    "train_matrix_st_replaced = st_offsets_dense_replaced[:cut_point,:,:]\n",
    "test_matrix_st_replaced = st_offsets_dense_replaced[cut_point:,:,:]\n",
    "\n",
    "train_matrix_st = st_offsets_dense[:cut_point,:,:]\n",
    "test_matrix_st = st_offsets_dense[cut_point:,:,:]\n",
    "\n",
    "# train_matrix_st_prev = st_offsets_dense_plus_prev[:cut_point,:,:]\n",
    "# test_matrix_st_prev = st_offsets_dense_plus_prev[cut_point:,:,:]\n",
    "\n",
    "# train_matrix_st_prev_replaced = st_offsets_dense_prev_replaced[:cut_point,:,:]\n",
    "# test_matrix_st_prev_replaced = st_offsets_dense_prev_replaced[cut_point:,:,:]\n",
    "\n",
    "train_matrix_aux = aux_matrix[:cut_point,:]\n",
    "test_matrix_aux = aux_matrix[cut_point:,:]\n",
    "\n",
    "test_mask = np.zeros(data_size).astype(bool)\n",
    "test_mask[cut_point:] = True\n",
    "\n",
    "target = se.loc[data_mask, 'diff_percent_segment_and_mean_by_segment_code_and_hour_and_day'].values\n",
    "\n",
    "train_target = target[:cut_point]\n",
    "test_target = target[cut_point:]\n",
    "\n",
    "scaler_target = preprocessing.StandardScaler().fit(train_target[:, None])\n",
    "\n",
    "train_target_scaled = scaler_target.transform(train_target[:, None]).astype(np.float32)\n",
    "test_target_scaled = scaler_target.transform(test_target[:, None]).astype(np.float32)\n",
    "\n",
    "st_scaler = preprocessing.StandardScaler()\n",
    "st_replaced_scaler = preprocessing.StandardScaler()\n",
    "# st_prev_scaler = preprocessing.StandardScaler()\n",
    "# st_prev_replaced_scaler = preprocessing.StandardScaler()\n",
    "aux_scaler = preprocessing.StandardScaler()\n",
    "\n",
    "train_matrix_st_shape = train_matrix_st.shape\n",
    "test_matrix_st_shape = test_matrix_st.shape\n",
    "\n",
    "train_matrix_st = st_scaler.fit_transform(\n",
    "    train_matrix_st.reshape(-1,1)\n",
    ").reshape(train_matrix_st_shape)\n",
    "\n",
    "test_matrix_st = st_scaler.transform(\n",
    "    test_matrix_st.reshape(-1,1)\n",
    ").reshape(test_matrix_st_shape)\n",
    "\n",
    "train_matrix_st_replaced = st_replaced_scaler.fit_transform(\n",
    "    train_matrix_st_replaced.reshape(-1,1)\n",
    ").reshape(train_matrix_st_shape)\n",
    "\n",
    "test_matrix_st_replaced = st_replaced_scaler.transform(\n",
    "    test_matrix_st_replaced.reshape(-1,1)\n",
    ").reshape(test_matrix_st_shape)\n",
    "\n",
    "# train_matrix_st_prev = st_prev_scaler.fit_transform(\n",
    "#     train_matrix_st_prev.reshape(-1,1)\n",
    "# ).reshape(train_matrix_st_shape)\n",
    "\n",
    "# test_matrix_st_prev = st_prev_scaler.transform(\n",
    "#     test_matrix_st_prev.reshape(-1,1)\n",
    "# ).reshape(test_matrix_st_shape)\n",
    "\n",
    "# train_matrix_st_prev_replaced = st_prev_replaced_scaler.fit_transform(\n",
    "#     train_matrix_st_prev_replaced.reshape(-1,1)\n",
    "# ).reshape(train_matrix_st_shape)\n",
    "\n",
    "# test_matrix_st_prev_replaced = st_prev_replaced_scaler.transform(\n",
    "#     test_matrix_st_prev_replaced.reshape(-1,1)\n",
    "# ).reshape(test_matrix_st_shape)\n",
    "\n",
    "train_matrix_aux = aux_scaler.fit_transform(train_matrix_aux)\n",
    "test_matrix_aux = aux_scaler.transform(test_matrix_aux)\n",
    "\n"
   ]
  },
  {
   "cell_type": "code",
   "execution_count": 57,
   "metadata": {},
   "outputs": [
    {
     "name": "stdout",
     "output_type": "stream",
     "text": [
      "__________________________________________________________________________________________________\n",
      "Layer (type)                    Output Shape         Param #     Connected to                     \n",
      "==================================================================================================\n",
      "road_time_input (InputLayer)    (None, 7, 7)         0                                            \n",
      "__________________________________________________________________________________________________\n",
      "lstm_3 (LSTM)                   (None, 7, 40)        7680        road_time_input[0][0]            \n",
      "__________________________________________________________________________________________________\n",
      "lstm_4 (LSTM)                   (None, 40)           12960       lstm_3[0][0]                     \n",
      "__________________________________________________________________________________________________\n",
      "aux_input (InputLayer)          (None, 34)           0                                            \n",
      "__________________________________________________________________________________________________\n",
      "concatenate_2 (Concatenate)     (None, 74)           0           lstm_4[0][0]                     \n",
      "                                                                 aux_input[0][0]                  \n",
      "__________________________________________________________________________________________________\n",
      "dense_6 (Dense)                 (None, 64)           4800        concatenate_2[0][0]              \n",
      "__________________________________________________________________________________________________\n",
      "dropout_6 (Dropout)             (None, 64)           0           dense_6[0][0]                    \n",
      "__________________________________________________________________________________________________\n",
      "dense_7 (Dense)                 (None, 32)           2080        dropout_6[0][0]                  \n",
      "__________________________________________________________________________________________________\n",
      "dropout_7 (Dropout)             (None, 32)           0           dense_7[0][0]                    \n",
      "__________________________________________________________________________________________________\n",
      "dense_8 (Dense)                 (None, 32)           1056        dropout_7[0][0]                  \n",
      "__________________________________________________________________________________________________\n",
      "dropout_8 (Dropout)             (None, 32)           0           dense_8[0][0]                    \n",
      "__________________________________________________________________________________________________\n",
      "dense_9 (Dense)                 (None, 32)           1056        dropout_8[0][0]                  \n",
      "__________________________________________________________________________________________________\n",
      "dropout_9 (Dropout)             (None, 32)           0           dense_9[0][0]                    \n",
      "__________________________________________________________________________________________________\n",
      "dense_10 (Dense)                (None, 12)           396         dropout_9[0][0]                  \n",
      "__________________________________________________________________________________________________\n",
      "dropout_10 (Dropout)            (None, 12)           0           dense_10[0][0]                   \n",
      "__________________________________________________________________________________________________\n",
      "main_output (Dense)             (None, 1)            13          dropout_10[0][0]                 \n",
      "__________________________________________________________________________________________________\n",
      "aux_output (Dense)              (None, 1)            41          lstm_4[0][0]                     \n",
      "==================================================================================================\n",
      "Total params: 30,082\n",
      "Trainable params: 30,082\n",
      "Non-trainable params: 0\n",
      "__________________________________________________________________________________________________\n",
      "Train on 1500000 samples, validate on 500000 samples\n",
      "Epoch 1/100\n",
      "1500000/1500000 [==============================] - 91s 60us/step - loss: 0.2907 - main_output_loss: 0.2324 - aux_output_loss: 0.2329 - val_loss: 0.3046 - val_main_output_loss: 0.2435 - val_aux_output_loss: 0.2446\n",
      "Epoch 2/100\n",
      "1500000/1500000 [==============================] - 98s 65us/step - loss: 0.2897 - main_output_loss: 0.2316 - aux_output_loss: 0.2327 - val_loss: 0.3043 - val_main_output_loss: 0.2432 - val_aux_output_loss: 0.2443\n",
      "Epoch 3/100\n",
      "1500000/1500000 [==============================] - 93s 62us/step - loss: 0.2894 - main_output_loss: 0.2313 - aux_output_loss: 0.2326 - val_loss: 0.3044 - val_main_output_loss: 0.2433 - val_aux_output_loss: 0.2442\n",
      "Epoch 4/100\n",
      "1500000/1500000 [==============================] - 94s 62us/step - loss: 0.2892 - main_output_loss: 0.2310 - aux_output_loss: 0.2325 - val_loss: 0.3039 - val_main_output_loss: 0.2429 - val_aux_output_loss: 0.2441\n",
      "Epoch 5/100\n",
      "1500000/1500000 [==============================] - 94s 63us/step - loss: 0.2890 - main_output_loss: 0.2308 - aux_output_loss: 0.2325 - val_loss: 0.3039 - val_main_output_loss: 0.2429 - val_aux_output_loss: 0.2442\n",
      "Epoch 6/100\n",
      "1500000/1500000 [==============================] - 99s 66us/step - loss: 0.2888 - main_output_loss: 0.2307 - aux_output_loss: 0.2325 - val_loss: 0.3040 - val_main_output_loss: 0.2430 - val_aux_output_loss: 0.2442\n"
     ]
    }
   ],
   "source": [
    "train_mtx = train_matrix_st_replaced\n",
    "test_mtx = test_matrix_st_replaced\n",
    "\n",
    "model = create_any_combined_model(\n",
    "        (train_mtx.shape[1], train_mtx.shape[2]),\n",
    "        train_matrix_aux.shape[1],\n",
    "        0.1,\n",
    "        0.1,\n",
    "    [40,40],\n",
    "    [64,32,32,32,12]\n",
    "    )\n",
    "\n",
    "Path(f\"ST_models\").mkdir(parents=True, exist_ok=True)\n",
    "\n",
    "callbacks_list = [\n",
    "    keras.callbacks.EarlyStopping(monitor=\"val_loss\", patience=2),\n",
    "    keras.callbacks.ModelCheckpoint(\n",
    "        filepath=f\"ST_models/any_model_[40,40],[64,32,32,32,12].h5\",\n",
    "        monitor=\"val_loss\",\n",
    "        save_best_only=True,\n",
    "    ),\n",
    "]\n",
    "\n",
    "# model.compile(optimizer=\"rmsprop\", loss=\"mean_absolute_error\")\n",
    "model.compile(optimizer=\"rmsprop\", loss=\"logcosh\", loss_weights=[1, 0.25])\n",
    "model.fit(\n",
    "    [train_mtx,train_matrix_aux],\n",
    "    [train_target_scaled, train_target_scaled],\n",
    "    epochs=100,\n",
    "    callbacks=callbacks_list,\n",
    "    batch_size=512,\n",
    "    validation_data=([test_mtx,test_matrix_aux], [test_target_scaled,test_target_scaled]),\n",
    ")\n",
    "\n",
    "test_y_scaled, _ = model.predict([test_matrix_st, test_matrix_aux])"
   ]
  },
  {
   "cell_type": "code",
   "execution_count": null,
   "metadata": {},
   "outputs": [],
   "source": [
    "model_to_load = 'ST_models/combined_run_0_dropout_0.0_0.0_huber_delta_1_iweights_0.0_matrix_prev_replaced_55_80_128_64_32_12_12_1.h5'\n",
    "\n",
    "train_mtx = train_matrix_st_prev_replaced[:,:5,3:8]\n",
    "test_mtx = test_matrix_st_prev_replaced[:,:5,3:8]\n",
    "    \n",
    "# Create the network and load the weights into it\n",
    "model = create_combined_model(\n",
    "        (train_mtx.shape[1], train_mtx.shape[2]),\n",
    "        train_matrix_aux.shape[1],\n",
    "        0.1,\n",
    "        0.1,\n",
    "    )\n",
    "\n",
    "model.load_weights(model_to_load)\n",
    "\n",
    "model.compile(optimizer=\"rmsprop\", loss=\"logcosh\")\n",
    "test_y_scaled, _ = model.predict([test_mtx, test_matrix_aux])\n"
   ]
  },
  {
   "cell_type": "code",
   "execution_count": 58,
   "metadata": {},
   "outputs": [],
   "source": [
    "test_y = scaler_target.inverse_transform(test_y_scaled)"
   ]
  },
  {
   "cell_type": "code",
   "execution_count": 61,
   "metadata": {},
   "outputs": [
    {
     "data": {
      "image/png": "[encoded data removed]",
      "text/plain": [
       "<Figure size 432x288 with 1 Axes>"
      ]
     },
     "metadata": {
      "needs_background": "light"
     },
     "output_type": "display_data"
    }
   ],
   "source": [
    "plt.hist(test_y, bins=100);"
   ]
  },
  {
   "cell_type": "code",
   "execution_count": 62,
   "metadata": {},
   "outputs": [
    {
     "data": {
      "text/plain": [
       "28.12582021966582"
      ]
     },
     "execution_count": 62,
     "metadata": {},
     "output_type": "execute_result"
    }
   ],
   "source": [
    "mean_absolute_error(test_target, test_y)"
   ]
  },
  {
   "cell_type": "code",
   "execution_count": 63,
   "metadata": {},
   "outputs": [
    {
     "data": {
      "text/plain": [
       "28.602701407110672"
      ]
     },
     "execution_count": 63,
     "metadata": {},
     "output_type": "execute_result"
    }
   ],
   "source": [
    "mean_absolute_error(test_target, st_offsets_dense[cut_point:,0,3])"
   ]
  },
  {
   "cell_type": "code",
   "execution_count": 64,
   "metadata": {},
   "outputs": [
    {
     "data": {
      "text/plain": [
       "29.998359191835657"
      ]
     },
     "execution_count": 64,
     "metadata": {},
     "output_type": "execute_result"
    }
   ],
   "source": [
    "mean_absolute_error(test_target, offsets_sparse2[cut_point:])"
   ]
  },
  {
   "cell_type": "code",
   "execution_count": 65,
   "metadata": {},
   "outputs": [
    {
     "data": {
      "text/plain": [
       "30.024624618099693"
      ]
     },
     "execution_count": 65,
     "metadata": {},
     "output_type": "execute_result"
    }
   ],
   "source": [
    "mean_absolute_error(test_target, [0] * len(test_target))"
   ]
  },
  {
   "cell_type": "code",
   "execution_count": 66,
   "metadata": {},
   "outputs": [],
   "source": [
    "# offsets_dense2, _, mean_weights_dense2 = calc_offsets(means, counts, calc_slice(1,8), (1,2), None, 40)\n",
    "\n",
    "# offsets_dense, _, mean_weights_dense = calc_offsets(means, counts, calc_slice(2,10), (1,2), None, 40)\n",
    "\n",
    "# offsets_sparse, _, mean_weights_sparse = calc_offsets(means, counts, calc_slice(8,15), (1,2), None, 60)\n",
    "\n",
    "# offsets_sparse2, _, mean_weights_sparse2 = calc_offsets(means, counts, calc_slice(10,20), (1,2), None, 40)\n",
    "\n"
   ]
  },
  {
   "cell_type": "code",
   "execution_count": 67,
   "metadata": {},
   "outputs": [
    {
     "name": "stdout",
     "output_type": "stream",
     "text": [
      "MAE dense2: 28.602701407110672\n",
      "MAE dense2_prev: 28.57420599221843\n",
      "MAE dense2_next: 28.7254391156095\n",
      "MAE sparse2: 29.998359191835657\n",
      "MAE RNN: 28.12582021966582\n"
     ]
    }
   ],
   "source": [
    "# target = se.loc[data_mask, 'diff_percent_segment_and_mean_by_segment_code_and_hour_and_day']\n",
    "\n",
    "print(f\"MAE dense2: {mean_absolute_error(test_target, st_offsets_dense[cut_point:,0,3])}\")\n",
    "\n",
    "print(f\"MAE dense2_prev: {mean_absolute_error(test_target, st_offsets_dense[cut_point:,0,2])}\")\n",
    "\n",
    "print(f\"MAE dense2_next: {mean_absolute_error(test_target, st_offsets_dense[cut_point:,0,4])}\")\n",
    "      \n",
    "print(f\"MAE sparse2: {mean_absolute_error(test_target, offsets_sparse2[cut_point:])}\")\n",
    "            \n",
    "print(f\"MAE RNN: {mean_absolute_error(test_target, test_y)}\")\n",
    "      \n",
    "      "
   ]
  },
  {
   "cell_type": "code",
   "execution_count": 68,
   "metadata": {},
   "outputs": [
    {
     "name": "stdout",
     "output_type": "stream",
     "text": [
      "RMSE dense2: 58.37361478532733\n",
      "RMSE dense2_prev: 58.36352036452616\n",
      "RMSE dense2_next: 58.39508059704925\n",
      "RMSE sparse2: 57.51963372874016\n",
      "RMSE RNN: 58.01765534047676\n"
     ]
    }
   ],
   "source": [
    "# target = se.loc[data_mask, 'diff_percent_segment_and_mean_by_segment_code_and_hour_and_day']\n",
    "\n",
    "print(f\"RMSE dense2: {np.sqrt(mean_squared_error(test_target, st_offsets_dense[cut_point:,0,3]))}\")\n",
    "\n",
    "print(f\"RMSE dense2_prev: {np.sqrt(mean_squared_error(test_target, st_offsets_dense[cut_point:,0,2]))}\")\n",
    "\n",
    "print(f\"RMSE dense2_next: {np.sqrt(mean_squared_error(test_target, st_offsets_dense[cut_point:,0,4]))}\")\n",
    "      \n",
    "print(f\"RMSE sparse2: {np.sqrt(mean_squared_error(test_target, offsets_sparse2[cut_point:]))}\")\n",
    "            \n",
    "print(f\"RMSE RNN: {np.sqrt(mean_squared_error(test_target, test_y))}\")\n",
    "      \n",
    "# print(f\"RMSE sparse2: {np.sqrt(mean_squared_error(target, offsets_sparse2))}\")\n",
    "      \n",
    "      "
   ]
  },
  {
   "cell_type": "code",
   "execution_count": 69,
   "metadata": {},
   "outputs": [
    {
     "data": {
      "text/plain": [
       "2000000"
      ]
     },
     "execution_count": 69,
     "metadata": {},
     "output_type": "execute_result"
    }
   ],
   "source": [
    "data_size"
   ]
  },
  {
   "cell_type": "code",
   "execution_count": 70,
   "metadata": {},
   "outputs": [],
   "source": [
    "MAE_baseline = []\n",
    "MAE_dense2_predict = []\n",
    "# MAE_dense_predict = []\n",
    "# MAE_sparse_predict = []\n",
    "MAE_RNN_predict = []\n",
    "MAE_sparse2_predict = []\n",
    "\n",
    "RMSE_baseline = []\n",
    "RMSE_dense2_predict = []\n",
    "# RMSE_dense_predict = []\n",
    "# RMSE_sparse_predict = []\n",
    "RMSE_RNN_predict = []\n",
    "RMSE_sparse2_predict = []\n",
    "\n",
    "freqeuncy = []\n",
    "\n",
    "halfM = 500000\n",
    "\n",
    "x = np.array(range(20))*10\n",
    "\n",
    "# target = se.loc[data_mask, 'diff_percent_segment_and_mean_by_segment_code_and_hour_and_day'].values[cut_point:]\n",
    "baseline = np.zeros(data_size)\n",
    "\n",
    "for i in x:\n",
    "\n",
    "\n",
    "    full_mask = (bus_counts>i) & (bus_counts<i+10)\n",
    "    \n",
    "    freqeuncy.append(np.count_nonzero(full_mask))\n",
    "    \n",
    "    MAE_baseline.append(mean_absolute_error(target[full_mask], baseline[full_mask]))\n",
    "    \n",
    "    MAE_dense2_predict.append(mean_absolute_error(target[full_mask], offsets_dense2[full_mask]))\n",
    "        \n",
    "#     MAE_dense_predict.append(mean_absolute_error(target[full_mask], offsets_dense[full_mask]))\n",
    "    \n",
    "#     MAE_sparse_predict.append(mean_absolute_error(target[full_mask], offsets_sparse[full_mask]))\n",
    "\n",
    "#     MAE_RNN_predict.append(mean_absolute_error(test_target[full_mask], test_y[full_mask]))\n",
    "    \n",
    "    MAE_sparse2_predict.append(mean_absolute_error(target[full_mask], offsets_sparse2[full_mask]))\n",
    "    \n",
    "    RMSE_baseline.append(mean_squared_error(target[full_mask], baseline[full_mask]))\n",
    "    \n",
    "    RMSE_dense2_predict.append(mean_squared_error(target[full_mask], offsets_dense2[full_mask]))\n",
    "        \n",
    "#     RMSE_dense_predict.append(mean_squared_error(target[full_mask], offsets_dense[full_mask]))\n",
    "    \n",
    "#     RMSE_sparse_predict.append(mean_squared_error(target[full_mask], offsets_sparse[full_mask]))\n",
    "\n",
    "#     RMSE_RNN_predict.append(mean_squared_error(test_target[full_mask], test_y[full_mask]))\n",
    "    \n",
    "    RMSE_sparse2_predict.append(mean_squared_error(target[full_mask], offsets_sparse2[full_mask]))\n",
    "    "
   ]
  },
  {
   "cell_type": "code",
   "execution_count": null,
   "metadata": {},
   "outputs": [],
   "source": []
  },
  {
   "cell_type": "code",
   "execution_count": 71,
   "metadata": {},
   "outputs": [],
   "source": [
    "MAE_baseline = []\n",
    "MAE_dense2_predict = []\n",
    "# MAE_dense_predict = []\n",
    "# MAE_sparse_predict = []\n",
    "MAE_RNN_predict = []\n",
    "MAE_sparse2_predict = []\n",
    "\n",
    "RMSE_baseline = []\n",
    "RMSE_dense2_predict = []\n",
    "# RMSE_dense_predict = []\n",
    "# RMSE_sparse_predict = []\n",
    "RMSE_RNN_predict = []\n",
    "RMSE_sparse2_predict = []\n",
    "\n",
    "\n",
    "\n",
    "freqeuncy = []\n",
    "\n",
    "x = np.array(range(20))*10\n",
    "\n",
    "# target = se.loc[data_mask, 'diff_percent_segment_and_mean_by_segment_code_and_hour_and_day'].values[cut_point:]\n",
    "baseline = np.zeros(data_size)[cut_point:]\n",
    "\n",
    "for i in x:\n",
    "\n",
    "\n",
    "    full_mask = (bus_counts>i)[cut_point:] & (bus_counts<i+10)[cut_point:]\n",
    "    \n",
    "    freqeuncy.append(np.count_nonzero(full_mask))\n",
    "    \n",
    "    MAE_baseline.append(mean_absolute_error(test_target[full_mask], baseline[full_mask]))\n",
    "    \n",
    "    MAE_dense2_predict.append(mean_absolute_error(test_target[full_mask], st_offsets_dense[cut_point:,0,3][full_mask]))\n",
    "        \n",
    "#     MAE_dense_predict.append(mean_absolute_error(target[full_mask], offsets_dense[full_mask]))\n",
    "    \n",
    "#     MAE_sparse_predict.append(mean_absolute_error(target[full_mask], offsets_sparse[full_mask]))\n",
    "\n",
    "    MAE_RNN_predict.append(mean_absolute_error(test_target[full_mask], test_y[full_mask]))\n",
    "    \n",
    "    MAE_sparse2_predict.append(mean_absolute_error(test_target[full_mask], offsets_sparse2[cut_point:][full_mask]))\n",
    "    \n",
    "    RMSE_baseline.append(mean_squared_error(test_target[full_mask], baseline[full_mask]))\n",
    "    \n",
    "    RMSE_dense2_predict.append(mean_squared_error(test_target[full_mask], st_offsets_dense[cut_point:,0,3][full_mask]))\n",
    "        \n",
    "#     RMSE_dense_predict.append(mean_squared_error(target[full_mask], offsets_dense[full_mask]))\n",
    "    \n",
    "#     RMSE_sparse_predict.append(mean_squared_error(target[full_mask], offsets_sparse[full_mask]))\n",
    "\n",
    "    RMSE_RNN_predict.append(mean_squared_error(test_target[full_mask], test_y[full_mask]))\n",
    "    \n",
    "    RMSE_sparse2_predict.append(mean_squared_error(test_target[full_mask], offsets_sparse2[cut_point:][full_mask]))\n",
    "    "
   ]
  },
  {
   "cell_type": "code",
   "execution_count": 74,
   "metadata": {},
   "outputs": [
    {
     "data": {
      "image/png": "[encoded data removed]",
      "text/plain": [
       "<Figure size 432x288 with 2 Axes>"
      ]
     },
     "metadata": {
      "needs_background": "light"
     },
     "output_type": "display_data"
    }
   ],
   "source": [
    "# MAE_dense_predict = np.array(MAE_dense_predict)\n",
    "MAE_dense2_predict = np.array(MAE_dense2_predict)\n",
    "MAE_baseline = np.array(MAE_baseline)\n",
    "# MAE_sparse_predict = np.array(MAE_sparse_predict)\n",
    "MAE_sparse2_predict = np.array(MAE_sparse2_predict)\n",
    "MAE_RNN_predict = np.array(MAE_RNN_predict)\n",
    "\n",
    "\n",
    "# plt.plot(x, percentages_baseline, label=\"baseline\")\n",
    "# plt.plot(x, MAE_dense_predict-MAE_baseline, label=\"predict (d)\")\n",
    "plt.plot(x, MAE_dense2_predict-MAE_baseline, label=\"predict (v_d)\")\n",
    "# plt.plot(x, MAE_sparse_predict-MAE_baseline, label=\"predict (s)\")\n",
    "plt.plot(x, MAE_sparse2_predict-MAE_baseline, label=\"predict (v_s)\")\n",
    "plt.plot(x, MAE_RNN_predict-MAE_baseline, label=\"RNN\")\n",
    "\n",
    "plt.xlabel(\"Density of data points close to event\")\n",
    "plt.ylabel(\"Change in MAE of events compared to baseline\")\n",
    "plt.legend(loc=1)\n",
    "# plt.ylim(35,47)\n",
    "\n",
    "ax = plt.gca()\n",
    "\n",
    "ax2 = ax.twinx()\n",
    " \n",
    "ax2.plot(x, freqeuncy, c=\"grey\", ls=\":\")\n",
    "# ax2.set_yscale(\"log\")\n",
    "ax2.set_ylabel(\"Frequency\")\n",
    "plt.title(\"How prediction accuracy varies with data density\\n(just using means)\")\n",
    "# plt.savefig(\"accuracy vs density_2m_forward.pdf\")\n",
    "plt.show()\n",
    "\n"
   ]
  },
  {
   "cell_type": "code",
   "execution_count": 76,
   "metadata": {},
   "outputs": [
    {
     "data": {
      "image/png": "[encoded data removed]",
      "text/plain": [
       "<Figure size 432x288 with 2 Axes>"
      ]
     },
     "metadata": {
      "needs_background": "light"
     },
     "output_type": "display_data"
    }
   ],
   "source": [
    "# RMSE_dense_predict = np.array(RMSE_dense_predict)\n",
    "RMSE_dense2_predict = np.array(RMSE_dense2_predict)\n",
    "RMSE_baseline = np.array(RMSE_baseline)\n",
    "# RMSE_sparse_predict = np.array(RMSE_sparse_predict)\n",
    "RMSE_sparse2_predict = np.array(RMSE_sparse2_predict)\n",
    "RMSE_RNN_predict = np.array(RMSE_RNN_predict)\n",
    "\n",
    "\n",
    "# plt.plot(x, percentages_baseline, label=\"mean\")\n",
    "# plt.plot(x, RMSE_dense_predict-RMSE_baseline, label=\"predict (d)\")\n",
    "plt.plot(x, RMSE_dense2_predict-RMSE_baseline, label=\"predict (v_d)\")\n",
    "# plt.plot(x, RMSE_sparse_predict-RMSE_baseline, label=\"predict (s)\")\n",
    "plt.plot(x, RMSE_sparse2_predict-RMSE_baseline, label=\"predict (v_s)\")\n",
    "plt.plot(x, RMSE_RNN_predict-RMSE_baseline, label=\"RNN\")\n",
    "plt.xlabel(\"Density of data points close to event\")\n",
    "plt.ylabel(\"Change in RMSE of events compared to baseline\")\n",
    "plt.legend(loc=1)\n",
    "# plt.ylim(35,47)\n",
    "\n",
    "ax = plt.gca()\n",
    "\n",
    "ax2 = ax.twinx()\n",
    " \n",
    "ax2.plot(x, freqeuncy, c=\"grey\", ls=\":\")\n",
    "ax2.set_ylabel(\"Frequency\")\n",
    "plt.title(\"How prediction accuracy varies with data density\\n(just using means)\")\n",
    "# plt.savefig(\"accuracy vs density_2m_forward.pdf\")\n",
    "plt.show()\n",
    "\n"
   ]
  },
  {
   "cell_type": "code",
   "execution_count": 77,
   "metadata": {},
   "outputs": [
    {
     "data": {
      "image/png": "[encoded data removed]",
      "text/plain": [
       "<Figure size 432x288 with 1 Axes>"
      ]
     },
     "metadata": {
      "needs_background": "light"
     },
     "output_type": "display_data"
    }
   ],
   "source": [
    "plt.hist(test_target, bins=100, range=(-100,100), label=\"target\");\n",
    "plt.hist(test_y, bins=100, range=(-100,100), alpha=0.5, label=\"RNN\");\n",
    "# plt.hist(st_offsets_dense[cut_point:,0,3], bins=100, range=(-100,100), alpha=0.5, label=\"Dense\");\n",
    "# plt.hist(offsets_sparse2[cut_point:], bins=100, range=(-100,100), alpha=0.5, label=\"Sparse\");\n",
    "plt.legend()\n",
    "plt.yscale(\"log\")\n"
   ]
  },
  {
   "cell_type": "code",
   "execution_count": null,
   "metadata": {},
   "outputs": [],
   "source": []
  },
  {
   "cell_type": "code",
   "execution_count": 79,
   "metadata": {},
   "outputs": [
    {
     "name": "stderr",
     "output_type": "stream",
     "text": [
      "/Users/tommelamed/anaconda3/envs/busses/lib/python3.7/site-packages/ipykernel_launcher.py:36: RuntimeWarning: invalid value encountered in less\n"
     ]
    },
    {
     "name": "stdout",
     "output_type": "stream",
     "text": [
      "Approximately 11.98% improvment on baseline\n",
      "Approximately 44.69% are in 10%\n"
     ]
    }
   ],
   "source": [
    "predict_array_RNN_cum, _, pass_fraction = calc_prediction_cum_journeys(None, offsets=test_y.squeeze(), baseline_array_cum=baseline_array_cum, actual_array_cum=actual_array_cum, calc_mask=test_mask)\n"
   ]
  },
  {
   "cell_type": "code",
   "execution_count": null,
   "metadata": {},
   "outputs": [],
   "source": [
    "# show_accuracy_minutes(predict_array_RNN_cum, actual_array_cum, title=\"RNN\")"
   ]
  },
  {
   "cell_type": "code",
   "execution_count": null,
   "metadata": {},
   "outputs": [],
   "source": [
    "# show_accuracy_minutes(baseline_array_cum, actual_array_cum, title=\"Baseline\")"
   ]
  },
  {
   "cell_type": "code",
   "execution_count": null,
   "metadata": {},
   "outputs": [],
   "source": [
    "# show_accuracy_minutes(baseline_median_array_cum, actual_array_cum, title=\"Baseline Median\")"
   ]
  },
  {
   "cell_type": "code",
   "execution_count": 80,
   "metadata": {},
   "outputs": [
    {
     "name": "stdout",
     "output_type": "stream",
     "text": [
      "...................................................................................................................................................................................................................................................................................................................."
     ]
    },
    {
     "data": {
      "image/png": "[encoded data removed]",
      "text/plain": [
       "<Figure size 432x288 with 1 Axes>"
      ]
     },
     "metadata": {
      "needs_background": "light"
     },
     "output_type": "display_data"
    }
   ],
   "source": [
    "plt.plot(make_accuracy_matrix_minutes(predict_array_RNN_cum, actual_array_cum)[0][0,:], label=\"RNN\")\n",
    "plt.plot(make_accuracy_matrix_minutes(baseline_array_cum, actual_array_cum)[0][0,:], label=\"means\")\n",
    "plt.plot(make_accuracy_matrix_minutes(baseline_median_array_cum, actual_array_cum)[0][0,:], label=\"medians\")\n",
    "plt.plot(make_accuracy_matrix_minutes((baseline_median_array_cum + baseline_array_cum)/2, actual_array_cum)[0][0,:], label=\"mean of aves\")\n",
    "plt.xlim(0,25)\n",
    "plt.legend()\n",
    "plt.show()"
   ]
  },
  {
   "cell_type": "code",
   "execution_count": null,
   "metadata": {},
   "outputs": [],
   "source": [
    "median_pass_fraction"
   ]
  },
  {
   "cell_type": "code",
   "execution_count": null,
   "metadata": {},
   "outputs": [],
   "source": [
    "def full_test(dropout, rdropout, loss, filename, replaced=False):\n",
    "    \n",
    "    model = create_LSTM_large(\n",
    "        (train_matrix_st.shape[1], train_matrix_st.shape[2]),\n",
    "        dropout,\n",
    "        rdropout,\n",
    "    )\n",
    "\n",
    "    Path(f\"ST_models\").mkdir(parents=True, exist_ok=True)\n",
    "\n",
    "    callbacks_list = [\n",
    "        keras.callbacks.EarlyStopping(monitor=\"val_loss\", patience=2),\n",
    "        keras.callbacks.ModelCheckpoint(\n",
    "            filepath=f\"ST_models/\" + filename,\n",
    "            monitor=\"val_loss\",\n",
    "            save_best_only=True,\n",
    "        ),\n",
    "    ]\n",
    "\n",
    "    # model.compile(optimizer=\"rmsprop\", loss=\"mean_absolute_error\")\n",
    "    model.compile(optimizer=\"rmsprop\", loss=loss)\n",
    "\n",
    "    \n",
    "    if replaced:\n",
    "        model.fit(\n",
    "            train_matrix_st_replaced,\n",
    "            train_target_scaled,\n",
    "            epochs=100,\n",
    "            callbacks=callbacks_list,\n",
    "            batch_size=64,\n",
    "            validation_data=(test_matrix_st_replaced, test_target_scaled),\n",
    "        )        \n",
    "        \n",
    "        test_y_scaled = model.predict(test_matrix_st_replaced)\n",
    "    else:\n",
    "        model.fit(\n",
    "            train_matrix_st,\n",
    "            train_target_scaled,\n",
    "            epochs=100,\n",
    "            callbacks=callbacks_list,\n",
    "            batch_size=64,\n",
    "            validation_data=(test_matrix_st, test_target_scaled),\n",
    "        )\n",
    "\n",
    "        test_y_scaled = model.predict(test_matrix_st)\n",
    "    \n",
    "    test_y = scaler_target.inverse_transform(test_y_scaled)\n",
    "    \n",
    "    print(f\"MAE RNN: {mean_absolute_error(test_target, test_y)}\")\n",
    "    print(f\"RMSE RNN: {np.sqrt(mean_squared_error(test_target, test_y))}\")\n",
    "    \n",
    "    predict_array_RNN_cum, _, pass_fraction = calc_prediction_cum_journeys(offsets=test_y.squeeze(), baseline_array_cum=test_baseline_array_cum, actual_array_cum=test_actual_array_cum, calc_mask=test_mask)\n",
    "    \n",
    "    return pass_fraction, mean_absolute_error(test_target, test_y), np.sqrt(mean_squared_error(test_target, test_y))"
   ]
  },
  {
   "cell_type": "code",
   "execution_count": null,
   "metadata": {},
   "outputs": [],
   "source": [
    "train_matrix_st_prev_replaced[:,:5,3:8].shape"
   ]
  },
  {
   "cell_type": "code",
   "execution_count": null,
   "metadata": {},
   "outputs": [],
   "source": [
    "def full_test_combined(dropout, rdropout, loss, filename, delta, intermediate_weight, matrix, lstm_shape, dense_shape):\n",
    "    \n",
    "    if matrix == \"st\":\n",
    "        train_mtx = train_matrix_st\n",
    "        test_mtx = test_matrix_st\n",
    "        \n",
    "    if matrix == \"replaced\":\n",
    "        train_mtx = train_matrix_st_replaced\n",
    "        test_mtx = test_matrix_st_replaced\n",
    "        \n",
    "    if matrix == \"prev\":\n",
    "        train_mtx = train_matrix_st_prev\n",
    "        test_mtx = test_matrix_st_prev\n",
    "        \n",
    "    if matrix == \"prev_replaced\":\n",
    "        train_mtx = train_matrix_st_prev_replaced\n",
    "        test_mtx = test_matrix_st_prev_replaced\n",
    "        \n",
    "    if matrix == \"prev_replaced_55\":\n",
    "        train_mtx = train_matrix_st_prev_replaced[:,:5,3:8]\n",
    "        test_mtx = test_matrix_st_prev_replaced[:,:5,3:8]\n",
    "        \n",
    "        \n",
    "    model = create_any_combined_model(\n",
    "        (train_mtx.shape[1], train_mtx.shape[2]),\n",
    "        train_matrix_aux.shape[1],\n",
    "        dropout,\n",
    "        rdropout,\n",
    "        lstm_shape,\n",
    "        dense_shape\n",
    "    )\n",
    "\n",
    "    Path(f\"ST_models\").mkdir(parents=True, exist_ok=True)\n",
    "\n",
    "    callbacks_list = [\n",
    "        keras.callbacks.EarlyStopping(monitor=\"val_loss\", patience=2),\n",
    "        keras.callbacks.ModelCheckpoint(\n",
    "            filepath=f\"ST_models/\" + filename,\n",
    "            monitor=\"val_loss\",\n",
    "            save_best_only=True,\n",
    "        ),\n",
    "    ]\n",
    "    \n",
    "    delta = tf.cast(delta,tf.float32)\n",
    "    \n",
    "    def huber_loss(y_true, y_pred):\n",
    "        return tf.losses.huber_loss(y_true,y_pred, delta=delta)\n",
    "\n",
    "    if loss == 'huber':\n",
    "        model.compile(optimizer=\"rmsprop\", \n",
    "                      loss=huber_loss, \n",
    "                      loss_weights=[1, intermediate_weight])\n",
    "    else:\n",
    "        model.compile(optimizer=\"rmsprop\", \n",
    "                      loss=loss, \n",
    "                      loss_weights=[1, intermediate_weight])\n",
    "        \n",
    "    \n",
    "    model.fit(\n",
    "        [train_mtx,train_matrix_aux],\n",
    "        [train_target_scaled, train_target_scaled],\n",
    "        epochs=100,\n",
    "        callbacks=callbacks_list,\n",
    "        batch_size=512,\n",
    "        validation_data=([test_mtx, test_matrix_aux],\n",
    "        [test_target_scaled, test_target_scaled],),\n",
    "    )\n",
    "\n",
    "    test_y_scaled, _ = model.predict([test_mtx, test_matrix_aux])\n",
    "    \n",
    "    test_y = scaler_target.inverse_transform(test_y_scaled)\n",
    "    \n",
    "    print(f\"MAE RNN: {mean_absolute_error(test_target, test_y)}\")\n",
    "    print(f\"RMSE RNN: {np.sqrt(mean_squared_error(test_target, test_y))}\")\n",
    "    \n",
    "    predict_array_RNN_cum, _, pass_fraction = calc_prediction_cum_journeys(offsets=test_y.squeeze(), baseline_array_cum=baseline_array_cum, actual_array_cum=actual_array_cum, calc_mask=test_mask)\n",
    "    \n",
    "    return pass_fraction, mean_absolute_error(test_target, test_y), np.sqrt(mean_squared_error(test_target, test_y))"
   ]
  },
  {
   "cell_type": "code",
   "execution_count": null,
   "metadata": {},
   "outputs": [],
   "source": [
    "with open(\"combined_test4_5x4_no_aves.csv\", \"a+\") as f: \n",
    "#     f.write(\"dropout,rdropout,loss,matrix,delta,intermediate_weight,lstm_shape,dense_shape,pass_fraction,MSE,RMSE\\n\")\n",
    "    f.flush()\n",
    "    for runs in range(5):\n",
    "        for i in np.linspace(0,.3,3):\n",
    "            for j in np.linspace(0,.3,3):\n",
    "                for i_weight in np.linspace(0,1,3):\n",
    "                    for loss in ['huber','logcosh']:\n",
    "                        for matrix in [\"prev_replaced_55\"]: #, \"prev_replaced\",\"st\", \"replaced\", \"prev\"]:\n",
    "                            for lstm_shape in [[20,20,20],[40,40],[80]]:\n",
    "                                for dense_shape in [[32,32,12],[64,32,12],[128,128,64,64,32,32]]:\n",
    "                                    \n",
    "                                    lstm_shape_s = \"_\".join(map(str,lstm_shape))\n",
    "                                    dense_shape_s = '_'.join(map(str,dense_shape))\n",
    "                            \n",
    "                                    pass_frac, MSE, RMSE = full_test_combined(i, j, loss, f\"combined_run_{runs}_dropout_{i}_{j}_{loss}_delta_1_iweights_{i_weight}_matrix_{matrix}_l_{lstm_shape_s}_d_{dense_shape_s}.h5\", 1, i_weight, matrix, lstm_shape, dense_shape)\n",
    "                                    f.write(f\"{i},{j},{loss},{matrix},1,{i_weight},{lstm_shape_s},{dense_shape_s},{pass_frac},{MSE},{RMSE}\\n\") \n",
    "                                    f.flush()\n",
    "\n",
    "\n",
    "\n"
   ]
  },
  {
   "cell_type": "code",
   "execution_count": null,
   "metadata": {},
   "outputs": [],
   "source": [
    "with open(\"combined_test2_11x11.csv\", \"a+\") as f: \n",
    "    f.write(\"dropout,rdropout,loss,matrix,delta,intermediate_weight,pass_fraction,MSE,RMSE\\n\")\n",
    "    for runs in range(5):\n",
    "        for i in np.linspace(0.1,.3,3):\n",
    "            for j in np.linspace(0.1,.3,3):\n",
    "                for i_weight in np.linspace(0,1,3):\n",
    "                    for loss in ['huber','logcosh']:\n",
    "                        for matrix in [\"st\", \"replaced\", \"prev\"]:\n",
    "                            \n",
    "                            if loss == 'huber':\n",
    "                                for delta in np.linspace(0.5,1.5,3):\n",
    "                                    pass_frac, MSE, RMSE = full_test_combined(i, j, loss, f\"combined_run_{runs}_dropout_{i}_{j}_{loss}_delta_{delta}_iweights_{i_weight}_matrix_{matrix}_80_128_64_32_12_12_1.h5\", delta=delta, intermediate_weight=i_weight, matrix=matrix)\n",
    "                                    f.write(f\"{i},{j},{loss},{replaced},{delta},{i_weight},{pass_frac},{MSE},{RMSE}\\n\")\n",
    "                                    f.flush()\n",
    "                            else:\n",
    "                                pass_frac, MSE, RMSE = full_test_combined(i, j, loss, f\"combined_run_{runs}_dropout_{i}_{j}_{loss}_iweights_{i_weight}_matrix_{matrix}_80_128_64_32_12_12_1.h5\", delta=1, intermediate_weight=i_weight, matrix=matrix)\n",
    "                                f.write(f\"{i},{j},{loss},{replaced},1,{i_weight},{pass_frac},{MSE},{RMSE}\\n\") \n",
    "                                f.flush()\n",
    "\n",
    "\n"
   ]
  },
  {
   "cell_type": "code",
   "execution_count": null,
   "metadata": {},
   "outputs": [],
   "source": [
    "show_accuracy_minutes(predict_array_RNN_cum, actual_array_cum, \"means\")"
   ]
  },
  {
   "cell_type": "code",
   "execution_count": 45,
   "metadata": {},
   "outputs": [],
   "source": [
    "def percent_in_x_percent(predict, actual, threshold):\n",
    "    \n",
    "    if np.count_nonzero(~np.isnan(actual)) == 0:\n",
    "        return 0, 0\n",
    "    \n",
    "    threshold = threshold/100\n",
    "    \n",
    "    mask = (~np.isnan(predict) & ~np.isnan(actual))\n",
    "    \n",
    "    pass_count = np.count_nonzero((predict[mask] < actual[mask] * (1 + threshold)) & (predict[mask] > actual[mask] * (1-threshold)))\n",
    "    \n",
    "    over_count = np.count_nonzero(predict[mask] > actual[mask] * (1+threshold))\n",
    "    \n",
    "    under_count = np.count_nonzero(predict[mask] < actual[mask] * (1-threshold))\n",
    "    \n",
    "    pass_percent = pass_count/np.count_nonzero(mask) * 100\n",
    "    \n",
    "    if over_count + under_count == 0:\n",
    "        drift = 0.5\n",
    "    else:\n",
    "        drift = over_count / (over_count + under_count)\n",
    "    \n",
    "    return pass_percent, drift\n",
    "\n",
    "def make_accuracy_matrix_minutes(predict, actual, max_threshold = 50):\n",
    "\n",
    "    actual_ints = np.array(actual/60).astype(int)\n",
    "    \n",
    "    rows = int(max_threshold/10)\n",
    "    \n",
    "    max_a = np.nanmax(actual)/60\n",
    "\n",
    "    accuracies_table = np.empty((rows, int(max_a)))\n",
    "    drift_table = np.empty((rows, int(max_a)))\n",
    "    frequency = np.empty(int(max_a))\n",
    "\n",
    "    for i in range(int(max_a)):\n",
    "        print(\".\", end=\"\", flush=True)\n",
    "        mask = (actual_ints == i)\n",
    "        \n",
    "        frequency[i] = np.count_nonzero(mask)\n",
    "        \n",
    "        for j in range(1, rows+1):\n",
    "            accuracy, drift = percent_in_x_percent(predict[mask], actual[mask], j * 10)\n",
    "            accuracies_table[j-1,i] = accuracy\n",
    "            drift_table[j-1, i] = drift\n",
    "\n",
    "    return accuracies_table, frequency, drift_table\n",
    "\n",
    "def show_accuracy_minutes(predict, actual, title):\n",
    "    results, frequency, drift = make_accuracy_matrix_minutes(predict, actual)\n",
    "    \n",
    "    for i in range(results.shape[0]):\n",
    "        plt.plot(results[i,:], label=f\"{(i+1)*10}%\")\n",
    "        \n",
    "        \n",
    "    plt.xlabel(\"minutes ahead\")\n",
    "    plt.ylabel(\"percentage within threshold\")\n",
    "    plt.legend()\n",
    "    plt.title(title)\n",
    "    plt.xlim(0,20)\n",
    "    plt.ylim(0,100)\n",
    "    plt.gca().yaxis.grid(True, linewidth=\"0.2\")\n",
    "    \n",
    "    ax = plt.gca()\n",
    "    \n",
    "    ax2 = ax.twinx()\n",
    "    ax2.plot(drift[0,:], label=\"fraction over\", linestyle=\":\")\n",
    "    ax2.set_ylim(0,1)\n",
    "   \n",
    "    plt.show()"
   ]
  },
  {
   "cell_type": "code",
   "execution_count": 46,
   "metadata": {},
   "outputs": [],
   "source": [
    "# From: https://stackoverflow.com/questions/51597849/padding-a-numpy-array-with-offsets-for-each-data-column\n",
    "\n",
    "def create_padded_array(a, row_start, n_rows):\n",
    "    r = np.arange(n_rows)[:,None]\n",
    "    row_start = np.asarray(row_start)\n",
    "    mask = (r >= row_start) & (r < row_start+a.shape[0])\n",
    "\n",
    "    out = np.zeros(mask.shape, dtype=a.dtype)\n",
    "    out[:] = np.nan\n",
    "    out.T[mask.T] = a.ravel('F')\n",
    "    return out   \n",
    "\n",
    "def create_triangle(input_array, max_width=70):\n",
    "    \n",
    "    filled_values = np.empty((input_array.shape[0],70)).astype(float)\n",
    "    \n",
    "    filled_values[:] = input_array[:,None]\n",
    "    \n",
    "    return create_padded_array(filled_values, list(range(70)), input_array.shape[0]+71)[:input_array.shape[0],:]\n",
    "    \n",
    "    \n",
    "    "
   ]
  },
  {
   "cell_type": "code",
   "execution_count": 47,
   "metadata": {},
   "outputs": [],
   "source": [
    "def calc_baseline_and_actual(calc_mask):\n",
    "    \n",
    "    if len(calc_mask) == len(data_mask):\n",
    "        se_min = se[data_mask].copy()\n",
    "    else:\n",
    "        se_min = se[data_mask][calc_mask].copy()\n",
    "    \n",
    "    baseline_array = np.empty((se_min.shape[0],70)).astype(float)\n",
    "    baseline_array[:] = np.nan\n",
    "    \n",
    "    actual_array = np.empty((se_min.shape[0],70)).astype(float)\n",
    "    actual_array[:] = np.nan\n",
    "    \n",
    "    baseline_median_array = np.empty((se_min.shape[0],70)).astype(float)\n",
    "    baseline_median_array[:] = np.nan\n",
    "    \n",
    "    se_min = se_min.reset_index(drop=True)\n",
    "    \n",
    "    runs = se_min.groupby(['date','workid'])\n",
    "    \n",
    "    actual_index = se_min.columns.get_loc(\"segment_duration\")\n",
    "    baseline_index = se_min.columns.get_loc(\"mean_durations_by_segment_code_and_hour_and_day\")\n",
    "    baseline_median_index = se_min.columns.get_loc(\"median_durations_by_segment_code_and_hour_and_day\")\n",
    "\n",
    "    for name, run in runs:\n",
    "        run = run.sort_values(\"actualArrival\")\n",
    "        \n",
    "        baseline_array[run.index,:] = create_triangle(run.iloc[:, baseline_index])\n",
    "        actual_array[run.index,:] = create_triangle(run.iloc[:, actual_index])\n",
    "        baseline_median_array[run.index,:] = create_triangle(run.iloc[:, baseline_median_index])\n",
    "\n",
    "#         run_length = len(run)\n",
    "\n",
    "#         for i in range(min([run_length, 70])):\n",
    " \n",
    "#             baseline_array[run.iloc[i:].index,i] = run.iloc[:run_length-i, baseline_index]\n",
    "\n",
    "#             actual_array[run.iloc[i:].index,i] = run.iloc[:run_length-i, actual_index]\n",
    "            \n",
    "    baseline_array_cum = np.cumsum(baseline_array, axis=1)\n",
    "    actual_array_cum = np.cumsum(actual_array, axis=1)\n",
    "    baseline_median_array_cum = np.cumsum(baseline_median_array, axis=1)\n",
    "    \n",
    "    actual_array_cum = np.clip(actual_array_cum, 0, 2*60*60)\n",
    "    \n",
    "    first_20mins_mask = actual_array_cum < 20*60\n",
    "    \n",
    "    baseline_pass_count = np.count_nonzero((baseline_array_cum[first_20mins_mask] < actual_array_cum[first_20mins_mask] * 1.1) & \\\n",
    "                    (baseline_array_cum[first_20mins_mask] > actual_array_cum[first_20mins_mask] * 0.9))\n",
    "    \n",
    "    pass_fraction = baseline_pass_count/np.count_nonzero(first_20mins_mask)\n",
    "    \n",
    "    baseline_median_pass_count = np.count_nonzero((baseline_median_array_cum[first_20mins_mask] < actual_array_cum[first_20mins_mask] * 1.1) & \\\n",
    "                    (baseline_median_array_cum[first_20mins_mask] > actual_array_cum[first_20mins_mask] * 0.9))\n",
    "    \n",
    "    median_pass_fraction = baseline_median_pass_count/np.count_nonzero(first_20mins_mask)\n",
    "    \n",
    "    return baseline_array_cum, actual_array_cum, baseline_median_array_cum, baseline_pass_count, pass_fraction, baseline_median_pass_count, median_pass_fraction\n"
   ]
  },
  {
   "cell_type": "code",
   "execution_count": null,
   "metadata": {},
   "outputs": [],
   "source": [
    "# baseline_array_cum, actual_array_cum, baseline_pass_count = calc_baseline_and_actual(data_mask)"
   ]
  },
  {
   "cell_type": "code",
   "execution_count": 49,
   "metadata": {},
   "outputs": [],
   "source": [
    "def calc_prediction_cum_journeys(column_name, offsets, baseline_array_cum, actual_array_cum, calc_mask):\n",
    "    \n",
    "    if len(calc_mask) == len(data_mask):\n",
    "        se_min = se[data_mask].copy()\n",
    "    else:\n",
    "        se_min = se[data_mask][calc_mask].copy()\n",
    "    \n",
    "    if column_name is not None:\n",
    "        se_min['prediction'] = se_min['mean_durations_by_segment_code_and_hour_and_day'] * (1 + (se_min[column_name]/100))\n",
    "    \n",
    "    if offsets is not None:\n",
    "        se_min['prediction'] = se_min['mean_durations_by_segment_code_and_hour_and_day'] * (1 + (offsets.squeeze()/100))\n",
    "    \n",
    "    predict_array = np.empty((se_min.shape[0],70)).astype(float)\n",
    "    predict_array[:] = np.nan\n",
    "    \n",
    "    se_min = se_min.reset_index(drop=True)\n",
    "    \n",
    "    runs = se_min.groupby(['date','workid'])\n",
    "    \n",
    "    prediction_index = se_min.columns.get_loc(\"prediction\")\n",
    "    \n",
    "    for name, run in runs:\n",
    "        run = run.sort_values(\"actualArrival\")\n",
    "        \n",
    "        predict_array[run.index,:] = create_triangle(run.iloc[:, prediction_index])\n",
    "\n",
    "#         run_length = len(run)\n",
    "\n",
    "#         for i in range(min([run_length, 70])):\n",
    "\n",
    "#             predict_array[run.iloc[i:].index,i] = run.iloc[:run_length-i, prediction_index]\n",
    "            \n",
    "    predict_array_cum = np.cumsum(predict_array, axis=1)\n",
    "    \n",
    "    first_20mins_mask = actual_array_cum < 20*60\n",
    "    \n",
    "    baseline_pass_count = np.count_nonzero((baseline_array_cum[first_20mins_mask] < actual_array_cum[first_20mins_mask] * 1.1) & \\\n",
    "                    (baseline_array_cum[first_20mins_mask] > actual_array_cum[first_20mins_mask] * 0.9))\n",
    "    \n",
    "    \n",
    "    pass_count = np.count_nonzero((predict_array_cum[first_20mins_mask] < actual_array_cum[first_20mins_mask] * 1.1) & \\\n",
    "                    (predict_array_cum[first_20mins_mask] > actual_array_cum[first_20mins_mask] * 0.9))\n",
    "    \n",
    "    pass_fraction = pass_count/np.count_nonzero(first_20mins_mask)\n",
    "        \n",
    "    print(f\"Approximately {(pass_count - baseline_pass_count)/baseline_pass_count*100:0.2f}% improvment on baseline\")\n",
    "    \n",
    "    print(f\"Approximately {pass_fraction*100:0.2f}% are in 10%\")\n",
    "    \n",
    "    return predict_array_cum, pass_count, pass_fraction\n",
    "    "
   ]
  },
  {
   "cell_type": "code",
   "execution_count": null,
   "metadata": {},
   "outputs": [],
   "source": [
    "def full_test(slices, threshold, baseline_array_cum, actual_array_cum, column_name=None, axis=(1,2), means=means, counts=counts, data_mask):\n",
    "    try:\n",
    "        offsets, threshold_pass_fraction, mean_weights = calc_offsets(means, counts, slices, axis, column_name, threshold)\n",
    "    except ValueError:\n",
    "        print(\"Not enough values passed threshold\")\n",
    "        return [], 0, 0, 0, 0\n",
    "    \n",
    "    predict_array_cum, pass_count, pass_fraction = calc_prediction_cum_journeys(offsets=offsets, baseline_array_cum=baseline_array_cum, actual_array_cum=actual_array_cum, data_mask=data_mask)\n",
    "    \n",
    "    return predict_array_cum, pass_count, pass_fraction, threshold_pass_fraction, mean_weights\n"
   ]
  },
  {
   "cell_type": "code",
   "execution_count": null,
   "metadata": {},
   "outputs": [],
   "source": [
    "show_accuracy_minutes(baseline_array_cum, actual_array_cum, \"means\")"
   ]
  },
  {
   "cell_type": "code",
   "execution_count": null,
   "metadata": {},
   "outputs": [],
   "source": [
    "offsets, threshold_pass_fraction, mean_weights = calc_offsets(means, counts, calc_slice(1,8), (1,2), None, 40)\n",
    "\n",
    "predict_array_dense2_cum, _, pass_fraction = calc_prediction_cum_journeys(offsets=offsets, baseline_array_cum=baseline_array_cum, actual_array_cum=actual_array_cum, number_of_rows=data_size)\n",
    "\n",
    "show_accuracy_minutes(predict_array_dense2_cum, actual_array_cum, \"means\")\n",
    "\n"
   ]
  },
  {
   "cell_type": "code",
   "execution_count": null,
   "metadata": {},
   "outputs": [],
   "source": [
    "offsets, threshold_pass_fraction, mean_weights = calc_offsets(means, counts, calc_slice(2,10), (1,2), None, 40)\n",
    "\n",
    "predict_array_dense_cum, _, pass_fraction = calc_prediction_cum_journeys(offsets=offsets, baseline_array_cum=baseline_array_cum, actual_array_cum=actual_array_cum, number_of_rows=data_size)\n",
    "\n",
    "show_accuracy_minutes(predict_array_dense_cum, actual_array_cum, \"means\")\n"
   ]
  },
  {
   "cell_type": "code",
   "execution_count": null,
   "metadata": {},
   "outputs": [],
   "source": [
    "offsets, threshold_pass_fraction, mean_weights = calc_offsets(means, counts, calc_slice(8,15), (1,2), None, 60)\n",
    "\n",
    "predict_array_sparse_cum, _, pass_fraction = calc_prediction_cum_journeys(offsets=offsets, baseline_array_cum=baseline_array_cum, actual_array_cum=actual_array_cum, number_of_rows=500000)\n",
    "\n",
    "show_accuracy_minutes(predict_array_sparse_cum, actual_array_cum, \"means\")\n",
    "\n"
   ]
  },
  {
   "cell_type": "code",
   "execution_count": null,
   "metadata": {},
   "outputs": [],
   "source": [
    "offsets, threshold_pass_fraction, mean_weights = calc_offsets(means, counts, calc_slice(10,20), (1,2), None, 40)\n",
    "\n",
    "predict_array_sparse2_cum, _, pass_fraction = calc_prediction_cum_journeys(offsets=offsets, baseline_array_cum=baseline_array_cum, actual_array_cum=actual_array_cum, number_of_rows=500000)\n",
    "\n",
    "show_accuracy_minutes(predict_array_sparse2_cum, actual_array_cum, \"means\")\n"
   ]
  },
  {
   "cell_type": "code",
   "execution_count": null,
   "metadata": {},
   "outputs": [],
   "source": [
    "# dense_mask = (bus_counts>40)\n",
    "\n",
    "# plt.plot(make_accuracy_matrix_minutes(baseline_array_cum[~dense_mask, :], actual_array_cum[~dense_mask, :])[0][0,:], label=\"mean sparse\")\n",
    "# plt.plot(make_accuracy_matrix_minutes(predict_array_cum[~dense_mask, :], actual_array_cum[~dense_mask, :])[0][0,:], label=\"predict sparse\")\n",
    "# plt.plot(make_accuracy_matrix_minutes(baseline_array_cum[dense_mask, :], actual_array_cum[dense_mask, :])[0][0,:], label=\"mean dense\")\n",
    "# plt.plot(make_accuracy_matrix_minutes(predict_array_cum[dense_mask, :], actual_array_cum[dense_mask, :])[0][0,:], label=\"predict dense\")\n",
    "\n",
    "\n",
    "# # plt.plot(results_enh7[0,:], label=\"mean_enh7\")\n",
    "# # plt.plot(predict_array_cum[0,:], label=\"mean_enh_all\")\n",
    "# # plt.plot(with_15_90[0,:], label=\"with_15_90\")\n",
    "# # plt.plot(narrow_15_90[0,:], label=\"narrow_15_90\")\n",
    "# # plt.plot(narrow_15_90_t40[0,:], label=\"narrow_15_90_t40\")\n",
    "# # plt.plot(wide_15_45_t20[0,:], label=\"wide_15_45_t20\")\n",
    "\n",
    "# plt.legend()\n",
    "# plt.xlim(0,20)\n",
    "# plt.ylim(25,60)\n",
    "# plt.title(\"Percentage of predictions within 10%\")\n",
    "# plt.xlabel(\"minutes ahead\")\n",
    "# plt.ylabel(\"percent within 10%\")\n",
    "# plt.show()"
   ]
  },
  {
   "cell_type": "code",
   "execution_count": null,
   "metadata": {},
   "outputs": [],
   "source": [
    "first_20mins_mask = actual_array_cum < 20*60"
   ]
  },
  {
   "cell_type": "code",
   "execution_count": null,
   "metadata": {},
   "outputs": [],
   "source": [
    "percentages_baseline = []\n",
    "percentage_dense2_predict = []\n",
    "percentage_dense_predict = []\n",
    "percentage_sparse_predict = []\n",
    "percentage_sparse2_predict = []\n",
    "percentage_ave_predict = []\n",
    "\n",
    "freqeuncy = []\n",
    "\n",
    "x = np.array(range(27))*10\n",
    "\n",
    "for i in x:\n",
    "\n",
    "    if forwards: \n",
    "        full_mask = first_20mins_mask & (bus_counts>i)[:data_size,None] & (bus_counts<i+10)[:data_size,None]\n",
    "    else:\n",
    "        full_mask = first_20mins_mask & (bus_counts>i)[-data_size:,None] & (bus_counts<i+10)[-data_size:,None]\n",
    "    \n",
    "    freqeuncy.append(np.count_nonzero(full_mask))\n",
    "    \n",
    "    percentages_baseline.append(np.count_nonzero((baseline_array_cum[full_mask] < actual_array_cum[full_mask] * 1.1) & \\\n",
    "                    (baseline_array_cum[full_mask] > actual_array_cum[full_mask] * 0.9))/np.count_nonzero(full_mask)*100)\n",
    "    \n",
    "    percentage_dense2_predict.append(np.count_nonzero((predict_array_dense2_cum[full_mask] < actual_array_cum[full_mask] * 1.1) & \\\n",
    "                    (predict_array_dense2_cum[full_mask] > actual_array_cum[full_mask] * 0.9))/np.count_nonzero(full_mask)*100)\n",
    "        \n",
    "    percentage_dense_predict.append(np.count_nonzero((predict_array_dense_cum[full_mask] < actual_array_cum[full_mask] * 1.1) & \\\n",
    "                    (predict_array_dense_cum[full_mask] > actual_array_cum[full_mask] * 0.9))/np.count_nonzero(full_mask)*100)\n",
    "    \n",
    "    percentage_sparse_predict.append(np.count_nonzero((predict_array_sparse_cum[full_mask] < actual_array_cum[full_mask] * 1.1) & \\\n",
    "                    (predict_array_sparse_cum[full_mask] > actual_array_cum[full_mask] * 0.9))/np.count_nonzero(full_mask)*100)\n",
    "    \n",
    "    percentage_sparse2_predict.append(np.count_nonzero((predict_array_sparse2_cum[full_mask] < actual_array_cum[full_mask] * 1.1) & \\\n",
    "                    (predict_array_sparse2_cum[full_mask] > actual_array_cum[full_mask] * 0.9))/np.count_nonzero(full_mask)*100)\n",
    "    "
   ]
  },
  {
   "cell_type": "code",
   "execution_count": null,
   "metadata": {},
   "outputs": [],
   "source": [
    "percentage_dense_predict = np.array(percentage_dense_predict)\n",
    "percentage_dense2_predict = np.array(percentage_dense2_predict)\n",
    "percentages_baseline = np.array(percentages_baseline)\n",
    "percentage_sparse_predict = np.array(percentage_sparse_predict)\n",
    "percentage_sparse2_predict = np.array(percentage_sparse2_predict)\n",
    "\n",
    "\n",
    "# plt.plot(x, percentages_baseline, label=\"mean\")\n",
    "plt.plot(x, percentage_dense_predict-percentages_baseline, label=\"predict (d)\")\n",
    "plt.plot(x, percentage_dense2_predict-percentages_baseline, label=\"predict (v_d)\")\n",
    "plt.plot(x, percentage_sparse_predict-percentages_baseline, label=\"predict (s)\")\n",
    "plt.plot(x, percentage_sparse2_predict-percentages_baseline, label=\"predict (v_s)\", ls=\":\")\n",
    "plt.xlabel(\"Density of data points close to event\")\n",
    "plt.ylabel(\"Change in % of events within 10% of true\\nCompared to Baseline\")\n",
    "plt.legend(loc=1)\n",
    "# plt.ylim(35,47)\n",
    "\n",
    "ax = plt.gca()\n",
    "\n",
    "ax2 = ax.twinx()\n",
    " \n",
    "ax2.plot(x, freqeuncy, c=\"grey\", ls=\":\")\n",
    "ax2.set_ylabel(\"Frequency\")\n",
    "plt.title(\"How prediction accuracy varies with data density\\n(just using means)\")\n",
    "# plt.savefig(\"accuracy vs density_2m_forward.pdf\")\n",
    "plt.show()\n"
   ]
  },
  {
   "cell_type": "code",
   "execution_count": null,
   "metadata": {},
   "outputs": [],
   "source": []
  },
  {
   "cell_type": "code",
   "execution_count": null,
   "metadata": {},
   "outputs": [],
   "source": [
    "# baseline_array_cum, actual_array_cum, baseline_pass_count = calc_baseline_and_actual(500000)"
   ]
  },
  {
   "cell_type": "code",
   "execution_count": null,
   "metadata": {},
   "outputs": [],
   "source": [
    "# with open(\"post_noise_width_time_threshold_test3.csv\", \"w\") as f: \n",
    "#     f.write(\"width,time,threshold,threshold_pass_fraction,mean_weights,pass_count,pass_fraction\\n\")\n",
    "#     for width in range(0,12,2):\n",
    "#         for time in range(2,24,3):\n",
    "#             for threshold in [0,20,40,60,80,100,120,140,160,180,200,250,300]:\n",
    "#                 print(f\"w: {width}, t:20-{(time+3)*10}, t:{threshold}\")\n",
    "#     #             _, _, _, pass_count = full_test(np.s_[:,1:time+2,7-width:7+width+1], threshold, number_of_rows=50000)\n",
    "#                 predict_array_cum, pass_count, pass_fraction, threshold_pass_fraction, mean_weights = full_test(np.s_[:,2:time+3,11-width:11+width+1], threshold, baseline_array_cum, actual_array_cum, number_of_rows=500000)\n",
    "        \n",
    "#                 f.write(f\"{width},{(time+3)*10},{threshold},{threshold_pass_fraction},{mean_weights},{pass_count},{pass_fraction}\\n\")\n",
    "#                 f.flush()\n",
    "    \n",
    "            \n",
    "            "
   ]
  },
  {
   "cell_type": "code",
   "execution_count": null,
   "metadata": {},
   "outputs": [],
   "source": []
  }
 ],
 "metadata": {
  "kernelspec": {
   "display_name": "busses",
   "language": "python",
   "name": "busses"
  },
  "language_info": {
   "codemirror_mode": {
    "name": "ipython",
    "version": 3
   },
   "file_extension": ".py",
   "mimetype": "text/x-python",
   "name": "python",
   "nbconvert_exporter": "python",
   "pygments_lexer": "ipython3",
   "version": "3.7.1"
  }
 },
 "nbformat": 4,
 "nbformat_minor": 2
}
