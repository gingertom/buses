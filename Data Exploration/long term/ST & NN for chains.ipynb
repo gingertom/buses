{
 "cells": [
  {
   "cell_type": "code",
   "execution_count": 1,
   "metadata": {},
   "outputs": [
    {
     "name": "stderr",
     "output_type": "stream",
     "text": [
      "Using TensorFlow backend.\n"
     ]
    }
   ],
   "source": [
    "import numpy as np\n",
    "import numpy.ma as ma\n",
    "import pandas as pd\n",
    "import datetime\n",
    "\n",
    "import matplotlib.pyplot as plt\n",
    "import matplotlib.colors as colors\n",
    "from matplotlib.ticker import MaxNLocator\n",
    "\n",
    "import feather\n",
    "\n",
    "from tqdm import tqdm_notebook as tqdm\n",
    "\n",
    "from tqdm import tqdm_pandas\n",
    "\n",
    "from scipy.sparse import csr_matrix\n",
    "from pandas.api.types import CategoricalDtype\n",
    "\n",
    "from multiprocessing import Pool\n",
    "\n",
    "from sklearn.metrics import mean_absolute_error\n",
    "from sklearn.metrics import mean_squared_error\n",
    "\n",
    "from sklearn import preprocessing\n",
    "\n",
    "from pathlib import Path\n",
    "\n",
    "import keras\n",
    "from keras.preprocessing import sequence\n",
    "from keras import layers, Input, Model\n",
    "from keras.models import Sequential\n",
    "from keras.layers import Flatten, Dense, Lambda, LSTM"
   ]
  },
  {
   "cell_type": "code",
   "execution_count": null,
   "metadata": {},
   "outputs": [],
   "source": []
  },
  {
   "cell_type": "markdown",
   "metadata": {},
   "source": [
    "## Loading and setting up the data"
   ]
  },
  {
   "cell_type": "code",
   "execution_count": 2,
   "metadata": {},
   "outputs": [],
   "source": [
    "se = feather.read_dataframe(\"../../data_files/B/once/75days/stop_events_with_geo_train_test_averages_prev_next_dwell.feather\")\n",
    "se = se.set_index(se.columns[0])"
   ]
  },
  {
   "cell_type": "code",
   "execution_count": 3,
   "metadata": {},
   "outputs": [],
   "source": [
    " # And now for just segments:\n",
    "se[\"diff_segment_and_mean_by_segment_code\"] = (\n",
    "    se[\"segment_duration\"]\n",
    "    - se[\"mean_durations_by_segment_code\"]\n",
    ")\n",
    "se[\"diff_segment_and_mean_by_segment_code_and_hour_and_day\"] = (\n",
    "    se[\"segment_duration\"]\n",
    "    - se[\"mean_durations_by_segment_code_and_hour_and_day\"]\n",
    ")\n",
    "\n",
    "se[\"diff_percent_segment_and_mean_by_segment_code\"] = (\n",
    "    se[\"diff_segment_and_mean_by_segment_code\"]\n",
    "    * 100\n",
    "    / se[\"mean_durations_by_segment_code\"]\n",
    ")\n",
    "\n",
    "se[\"diff_percent_segment_and_mean_by_segment_code_and_hour_and_day\"] = (\n",
    "    se[\"diff_segment_and_mean_by_segment_code_and_hour_and_day\"]\n",
    "    * 100\n",
    "    / se[\"mean_durations_by_segment_code_and_hour_and_day\"]\n",
    ")"
   ]
  },
  {
   "cell_type": "markdown",
   "metadata": {},
   "source": [
    "## Settings"
   ]
  },
  {
   "cell_type": "code",
   "execution_count": 4,
   "metadata": {},
   "outputs": [],
   "source": [
    "data_size = 2000000\n",
    "data_mask = np.zeros(se.shape[0]).astype(bool)\n",
    "\n",
    "data_mask[:data_size] = True\n",
    "\n",
    "train = False\n",
    "test = False\n",
    "\n",
    "if train:\n",
    "    data_mask = se['train']\n",
    "    \n",
    "if test: \n",
    "    data_mask = se['test']\n",
    "\n",
    "data_size = np.count_nonzero(data_mask)\n"
   ]
  },
  {
   "cell_type": "code",
   "execution_count": 5,
   "metadata": {},
   "outputs": [
    {
     "name": "stdout",
     "output_type": "stream",
     "text": [
      "2000000\n"
     ]
    }
   ],
   "source": [
    "print(data_size)"
   ]
  },
  {
   "cell_type": "code",
   "execution_count": 6,
   "metadata": {},
   "outputs": [],
   "source": [
    "test_matrix = np.load(f\"percentage_offsets_check.npy\").T"
   ]
  },
  {
   "cell_type": "code",
   "execution_count": 7,
   "metadata": {},
   "outputs": [
    {
     "data": {
      "text/plain": [
       "(3920087, 2)"
      ]
     },
     "execution_count": 7,
     "metadata": {},
     "output_type": "execute_result"
    }
   ],
   "source": [
    "test_matrix.shape"
   ]
  },
  {
   "cell_type": "code",
   "execution_count": 8,
   "metadata": {},
   "outputs": [
    {
     "data": {
      "text/plain": [
       "True"
      ]
     },
     "execution_count": 8,
     "metadata": {},
     "output_type": "execute_result"
    }
   ],
   "source": [
    "(test_matrix[:,0].astype(int)[500000:2000000] == se.index.values[500000:2000000]).all()"
   ]
  },
  {
   "cell_type": "code",
   "execution_count": 9,
   "metadata": {},
   "outputs": [
    {
     "data": {
      "text/plain": [
       "True"
      ]
     },
     "execution_count": 9,
     "metadata": {},
     "output_type": "execute_result"
    }
   ],
   "source": [
    "(test_matrix[data_mask,1] == se.loc[:,'diff_percent_segment_and_mean_by_segment_code_and_hour_and_day'][data_mask].values).all()\n"
   ]
  },
  {
   "cell_type": "code",
   "execution_count": 10,
   "metadata": {},
   "outputs": [],
   "source": [
    "# test_length = np.count_nonzero(se['test'])\n",
    "\n",
    "# test_mask = se['test']"
   ]
  },
  {
   "cell_type": "code",
   "execution_count": 11,
   "metadata": {},
   "outputs": [
    {
     "data": {
      "application/vnd.jupyter.widget-view+json": {
       "model_id": "d8c0c08b06be42319d91f00e48176621",
       "version_major": 2,
       "version_minor": 0
      },
      "text/plain": [
       "HBox(children=(IntProgress(value=0, max=23), HTML(value='')))"
      ]
     },
     "metadata": {},
     "output_type": "display_data"
    },
    {
     "name": "stdout",
     "output_type": "stream",
     "text": [
      "\n"
     ]
    }
   ],
   "source": [
    "# 1st dimention is number of data points\n",
    "# 2nd dimention is going back in time (in 10 min increments)\n",
    "# 3rd dimention is prev-next segments\n",
    "\n",
    "width_array = [\n",
    "             'prev_segment_code_11',\n",
    "             'prev_segment_code_10',\n",
    "             'prev_segment_code_9',\n",
    "             'prev_segment_code_8',\n",
    "             'prev_segment_code_7',\n",
    "             'prev_segment_code_6',\n",
    "             'prev_segment_code_5', \n",
    "             'prev_segment_code_4', \n",
    "             'prev_segment_code_3', \n",
    "             'prev_segment_code_2', \n",
    "             'prev_segment_code_1', \n",
    "             'segment_code',\n",
    "             'next_segment_code_1',\n",
    "             'next_segment_code_2',\n",
    "             'next_segment_code_3',\n",
    "             'next_segment_code_4',\n",
    "             'next_segment_code_5',\n",
    "             'next_segment_code_6',\n",
    "             'next_segment_code_7',\n",
    "             'next_segment_code_8',\n",
    "             'next_segment_code_9',\n",
    "             'next_segment_code_10',\n",
    "             'next_segment_code_11',\n",
    "            ]\n",
    "\n",
    "means = np.empty((data_size, 25, len(width_array))).astype(float)\n",
    "counts = np.empty((data_size, 25, len(width_array))).astype(int)\n",
    "\n",
    "index = np.empty((data_size)).astype(int)\n",
    "\n",
    "for idx, code in enumerate(tqdm(width_array)):\n",
    "    \n",
    "    matrix = np.load(f\"mtx_{code}_last_25_10_2nd.npy\")\n",
    "    \n",
    "#     matrix = matrix[se.index.values[:np.argmax(se.index.values>=3920086)],:]\n",
    "    \n",
    "\n",
    "    means[:,:,idx] = matrix[data_mask,1:26].astype(float)\n",
    "    counts[:,:,idx] = matrix[data_mask,26:].astype(int)\n",
    "    \n",
    "    if idx == 0:\n",
    "        index = matrix[data_mask,0].astype(int)\n",
    "            \n",
    "#     print(\".\", end=\"\", flush=True)\n",
    "        \n",
    "  \n",
    "    "
   ]
  },
  {
   "cell_type": "code",
   "execution_count": 12,
   "metadata": {},
   "outputs": [],
   "source": [
    "# se = se[:np.argmax(se.index.values>=3920086)]"
   ]
  },
  {
   "cell_type": "code",
   "execution_count": 13,
   "metadata": {},
   "outputs": [
    {
     "name": "stdout",
     "output_type": "stream",
     "text": [
      "True\n"
     ]
    }
   ],
   "source": [
    "\n",
    "print((index == se.index[data_mask]).all())\n"
   ]
  },
  {
   "cell_type": "code",
   "execution_count": 14,
   "metadata": {},
   "outputs": [],
   "source": [
    "def calc_slice(width, time, width_offset=0, time_offset=0):\n",
    "    centre = int(len(width_array)/2) + 1\n",
    "    centre += width_offset\n",
    "    \n",
    "    return np.s_[:,2+time_offset:time+3+time_offset,centre-width:centre+width+1]\n"
   ]
  },
  {
   "cell_type": "code",
   "execution_count": 15,
   "metadata": {},
   "outputs": [],
   "source": [
    "def calc_offsets(means, counts, slices, axis, column_name, mask_threshold):\n",
    "    \n",
    "    mask = np.sum(counts[slices], axis=axis) > mask_threshold\n",
    "    \n",
    "    threshold_pass_fraction = np.count_nonzero(mask)/len(mask)\n",
    "    \n",
    "    if  threshold_pass_fraction < 0.25:\n",
    "        raise ValueError('not enough data passing threshold')\n",
    "    \n",
    "    print(f\"Approximately {threshold_pass_fraction*100:0.2f}% pass the threshold\")\n",
    "    \n",
    "    data = means[slices][mask]\n",
    "    \n",
    "    weights = counts[slices][mask]\n",
    "    \n",
    "    masked_data = np.ma.masked_array(data, np.isnan(data))\n",
    "    \n",
    "    if column_name is not None:    \n",
    "        se[column_name] = 0\n",
    "\n",
    "        se.loc[mask, column_name] = np.ma.average(masked_data, axis=axis, weights=weights)\n",
    "        \n",
    "        return\n",
    "    \n",
    "    offsets = np.zeros(counts.shape[0])\n",
    "    \n",
    "    offsets[mask] = np.ma.average(masked_data, axis=axis, weights=weights)\n",
    "    \n",
    "    return offsets, threshold_pass_fraction, np.mean(np.sum(weights, axis=axis))"
   ]
  },
  {
   "cell_type": "code",
   "execution_count": 16,
   "metadata": {},
   "outputs": [
    {
     "data": {
      "image/png": "[encoded data removed]",
      "text/plain": [
       "<Figure size 432x288 with 1 Axes>"
      ]
     },
     "metadata": {
      "needs_background": "light"
     },
     "output_type": "display_data"
    }
   ],
   "source": [
    "plt.hist(se['diff_percent_segment_and_mean_by_segment_code_and_hour_and_day'], bins=100, range=(-150,150));\n",
    "# plt.hist(se['full_mean_minus_recent_15'], bins=100, range=(-150,150), alpha=0.5);"
   ]
  },
  {
   "cell_type": "code",
   "execution_count": 17,
   "metadata": {},
   "outputs": [
    {
     "name": "stdout",
     "output_type": "stream",
     "text": [
      "Fraction over 40: 0.613744\n"
     ]
    }
   ],
   "source": [
    "#Width of 2 and time of 100 with a threshold of 40\n",
    "\n",
    "calc_slice(2,10)\n",
    "\n",
    "bus_counts = np.sum(counts[calc_slice(2,10)], axis=(1,2))\n",
    "\n",
    "dense_mask = (bus_counts>=40)\n",
    "\n",
    "print(f\"Fraction over 40: {(bus_counts>=40).sum()/bus_counts.shape[0]}\")"
   ]
  },
  {
   "cell_type": "code",
   "execution_count": 18,
   "metadata": {},
   "outputs": [
    {
     "data": {
      "text/plain": [
       "Text(0.5, 1.0, 'Number of data points for last 220 mins (minus the most recent 20)\\nincl 2 prev & 2 next segments')"
      ]
     },
     "execution_count": 18,
     "metadata": {},
     "output_type": "execute_result"
    },
    {
     "data": {
      "image/png": "[encoded data removed]",
      "text/plain": [
       "<Figure size 432x288 with 1 Axes>"
      ]
     },
     "metadata": {
      "needs_background": "light"
     },
     "output_type": "display_data"
    }
   ],
   "source": [
    "plt.hist(bus_counts, bins=20, range=(0,200), density=True);\n",
    "plt.xlabel(\"Number of buses\")\n",
    "plt.ylabel(\"Fraction\")\n",
    "plt.title(\"Number of data points for last 220 mins (minus the most recent 20)\\nincl 2 prev & 2 next segments\")"
   ]
  },
  {
   "cell_type": "code",
   "execution_count": null,
   "metadata": {},
   "outputs": [],
   "source": [
    "# 1st Dimension is length of data points\n",
    "# 2nd dimension is going back in time\n",
    "# 3rd dimention is prev-next\n",
    "\n",
    "# Thoughts on the defaults:\n",
    "# - Set to zero (fast but doesn't contain much data)\n",
    "# - Set to v sparce prediction (probably better)\n",
    "# - Try to predict diff between v sparse mean and truth, \n",
    "#              set empty to zero and values to diff from \n",
    "#              v sparse mean\n",
    "\n",
    "# Other ideas:\n",
    "# - When making the offsets going one stop furhter previous than next \n",
    "#              (as prev' seems to be a better predictor)\n",
    "# - Try a stride length of 2 both in time and down the road\n",
    "# - Try a little less dense...\n",
    "st_offsets_dense = np.zeros((data_size, 7, 7))\n",
    "\n",
    "for i in range(7):\n",
    "    for j in range(-3,4,1):\n",
    "\n",
    "        st_offsets_dense[:,i,j+3], _, _ = calc_offsets(means, counts, calc_slice(2,10,j,i), (1,2), None, 60)\n",
    "\n",
    "\n"
   ]
  },
  {
   "cell_type": "code",
   "execution_count": 19,
   "metadata": {},
   "outputs": [
    {
     "name": "stdout",
     "output_type": "stream",
     "text": [
      "Approximately 94.45% pass the threshold\n"
     ]
    }
   ],
   "source": [
    "offsets_sparse2, _, _ = calc_offsets(means, counts, calc_slice(10,20), (1,2), None, 40)"
   ]
  },
  {
   "cell_type": "code",
   "execution_count": null,
   "metadata": {},
   "outputs": [],
   "source": [
    "np.save(\"st_offsets_dense(2,10)_t_off(0,7)_w_off(-3,3)\", st_offsets_dense)"
   ]
  },
  {
   "cell_type": "code",
   "execution_count": 20,
   "metadata": {},
   "outputs": [],
   "source": [
    "st_offsets_dense = np.load(\"st_offsets_dense(2,10)_t_off(0,7)_w_off(-3,3).npy\")"
   ]
  },
  {
   "cell_type": "code",
   "execution_count": 21,
   "metadata": {},
   "outputs": [],
   "source": [
    "def create_LSTM_large(input_shape, dropout, recurant_dropout):\n",
    "\n",
    "    model = Sequential()\n",
    "\n",
    "    # New Start\n",
    "    model.add(LSTM(80, input_shape=input_shape, recurrent_dropout=recurant_dropout))\n",
    "\n",
    "    # Old start\n",
    "    # model.add(LSTM(40, input_shape=input_shape))\n",
    "    model.add(layers.Dropout(rate=dropout))\n",
    "    model.add(Dense(128, activation=\"relu\"))\n",
    "    model.add(layers.Dropout(rate=dropout))\n",
    "    model.add(Dense(64, activation=\"relu\"))\n",
    "    model.add(layers.Dropout(rate=dropout))\n",
    "    model.add(Dense(32, activation=\"relu\"))\n",
    "    model.add(layers.Dropout(rate=dropout))\n",
    "    model.add(Dense(12, activation=\"relu\"))\n",
    "    model.add(layers.Dropout(rate=dropout))\n",
    "    model.add(Dense(12, activation=\"relu\"))\n",
    "    model.add(layers.Dropout(rate=dropout))\n",
    "    model.add(Dense(1, activation=\"tanh\"))\n",
    "    model.summary()\n",
    "\n",
    "    return model"
   ]
  },
  {
   "cell_type": "code",
   "execution_count": 22,
   "metadata": {},
   "outputs": [],
   "source": [
    "cut_point = int(data_size*3/4)\n",
    "train_matrix_st = st_offsets_dense[:cut_point,:,:]\n",
    "test_matrix_st = st_offsets_dense[cut_point:,:,:]\n",
    "\n",
    "test_mask = np.zeros(data_size).astype(bool)\n",
    "test_mask[cut_point:] = True\n",
    "\n",
    "target = se.loc[data_mask, 'diff_percent_segment_and_mean_by_segment_code_and_hour_and_day'].values\n",
    "\n",
    "train_target = target[:cut_point]\n",
    "test_target = target[cut_point:]\n",
    "\n",
    "scaler_target = preprocessing.StandardScaler().fit(train_target[:, None])\n",
    "\n",
    "train_target_scaled = scaler_target.transform(train_target[:, None])\n",
    "test_target_scaled = scaler_target.transform(test_target[:, None])\n",
    "\n",
    "st_scaler = preprocessing.StandardScaler()\n",
    "train_matrix_st_shape = train_matrix_st.shape\n",
    "test_matrix_st_shape = test_matrix_st.shape\n",
    "train_matrix_st = st_scaler.fit_transform(\n",
    "    train_matrix_st.reshape(len(train_target_scaled), -1)\n",
    ").reshape(train_matrix_st_shape)\n",
    "\n",
    "test_matrix_st = st_scaler.transform(\n",
    "    test_matrix_st.reshape(len(test_target_scaled), -1)\n",
    ").reshape(test_matrix_st_shape)"
   ]
  },
  {
   "cell_type": "code",
   "execution_count": 23,
   "metadata": {},
   "outputs": [
    {
     "name": "stdout",
     "output_type": "stream",
     "text": [
      "WARNING:tensorflow:From /Users/tommelamed/.local/lib/python3.7/site-packages/tensorflow/python/framework/op_def_library.py:263: colocate_with (from tensorflow.python.framework.ops) is deprecated and will be removed in a future version.\n",
      "Instructions for updating:\n",
      "Colocations handled automatically by placer.\n",
      "WARNING:tensorflow:From /Users/tommelamed/anaconda3/envs/busses/lib/python3.7/site-packages/keras/backend/tensorflow_backend.py:3445: calling dropout (from tensorflow.python.ops.nn_ops) with keep_prob is deprecated and will be removed in a future version.\n",
      "Instructions for updating:\n",
      "Please use `rate` instead of `keep_prob`. Rate should be set to `rate = 1 - keep_prob`.\n",
      "_________________________________________________________________\n",
      "Layer (type)                 Output Shape              Param #   \n",
      "=================================================================\n",
      "lstm_1 (LSTM)                (None, 80)                28160     \n",
      "_________________________________________________________________\n",
      "dropout_1 (Dropout)          (None, 80)                0         \n",
      "_________________________________________________________________\n",
      "dense_1 (Dense)              (None, 128)               10368     \n",
      "_________________________________________________________________\n",
      "dropout_2 (Dropout)          (None, 128)               0         \n",
      "_________________________________________________________________\n",
      "dense_2 (Dense)              (None, 64)                8256      \n",
      "_________________________________________________________________\n",
      "dropout_3 (Dropout)          (None, 64)                0         \n",
      "_________________________________________________________________\n",
      "dense_3 (Dense)              (None, 32)                2080      \n",
      "_________________________________________________________________\n",
      "dropout_4 (Dropout)          (None, 32)                0         \n",
      "_________________________________________________________________\n",
      "dense_4 (Dense)              (None, 12)                396       \n",
      "_________________________________________________________________\n",
      "dropout_5 (Dropout)          (None, 12)                0         \n",
      "_________________________________________________________________\n",
      "dense_5 (Dense)              (None, 12)                156       \n",
      "_________________________________________________________________\n",
      "dropout_6 (Dropout)          (None, 12)                0         \n",
      "_________________________________________________________________\n",
      "dense_6 (Dense)              (None, 1)                 13        \n",
      "=================================================================\n",
      "Total params: 49,429\n",
      "Trainable params: 49,429\n",
      "Non-trainable params: 0\n",
      "_________________________________________________________________\n",
      "WARNING:tensorflow:From /Users/tommelamed/.local/lib/python3.7/site-packages/tensorflow/python/ops/math_ops.py:3066: to_int32 (from tensorflow.python.ops.math_ops) is deprecated and will be removed in a future version.\n",
      "Instructions for updating:\n",
      "Use tf.cast instead.\n",
      "Train on 1500000 samples, validate on 500000 samples\n",
      "Epoch 1/100\n",
      "1500000/1500000 [==============================] - 58s 39us/step - loss: 0.9998 - val_loss: 1.1862\n",
      "Epoch 2/100\n",
      "1500000/1500000 [==============================] - 70s 47us/step - loss: 0.9996 - val_loss: 1.1861\n",
      "Epoch 3/100\n",
      "1500000/1500000 [==============================] - 75s 50us/step - loss: 0.9996 - val_loss: 1.1862\n",
      "Epoch 4/100\n",
      "1500000/1500000 [==============================] - 76s 51us/step - loss: 0.9995 - val_loss: 1.1860\n",
      "Epoch 5/100\n",
      "1500000/1500000 [==============================] - 75s 50us/step - loss: 0.9995 - val_loss: 1.1861\n",
      "Epoch 6/100\n",
      "1500000/1500000 [==============================] - 73s 48us/step - loss: 0.9995 - val_loss: 1.1864\n"
     ]
    }
   ],
   "source": [
    "model = create_LSTM_large(\n",
    "        (train_matrix_st.shape[1], train_matrix_st.shape[2]),\n",
    "        0.2,\n",
    "        0.2,\n",
    "    )\n",
    "\n",
    "Path(f\"ST_models\").mkdir(parents=True, exist_ok=True)\n",
    "\n",
    "callbacks_list = [\n",
    "    keras.callbacks.EarlyStopping(monitor=\"val_loss\", patience=2),\n",
    "    keras.callbacks.ModelCheckpoint(\n",
    "        filepath=f\"ST_models/lstm_model.h5\",\n",
    "        monitor=\"val_loss\",\n",
    "        save_best_only=True,\n",
    "    ),\n",
    "]\n",
    "\n",
    "# model.compile(optimizer=\"rmsprop\", loss=\"mean_absolute_error\")\n",
    "model.compile(optimizer=\"rmsprop\", loss=\"mean_squared_error\")\n",
    "model.fit(\n",
    "    train_matrix_st,\n",
    "    train_target_scaled,\n",
    "    epochs=100,\n",
    "    callbacks=callbacks_list,\n",
    "    batch_size=512,\n",
    "    validation_data=(test_matrix_st, test_target_scaled),\n",
    ")\n",
    "\n",
    "test_y_scaled = model.predict(test_matrix_st)"
   ]
  },
  {
   "cell_type": "code",
   "execution_count": 52,
   "metadata": {},
   "outputs": [
    {
     "name": "stdout",
     "output_type": "stream",
     "text": [
      "_________________________________________________________________\n",
      "Layer (type)                 Output Shape              Param #   \n",
      "=================================================================\n",
      "lstm_2 (LSTM)                (None, 80)                28160     \n",
      "_________________________________________________________________\n",
      "dropout_7 (Dropout)          (None, 80)                0         \n",
      "_________________________________________________________________\n",
      "dense_7 (Dense)              (None, 128)               10368     \n",
      "_________________________________________________________________\n",
      "dropout_8 (Dropout)          (None, 128)               0         \n",
      "_________________________________________________________________\n",
      "dense_8 (Dense)              (None, 64)                8256      \n",
      "_________________________________________________________________\n",
      "dropout_9 (Dropout)          (None, 64)                0         \n",
      "_________________________________________________________________\n",
      "dense_9 (Dense)              (None, 32)                2080      \n",
      "_________________________________________________________________\n",
      "dropout_10 (Dropout)         (None, 32)                0         \n",
      "_________________________________________________________________\n",
      "dense_10 (Dense)             (None, 12)                396       \n",
      "_________________________________________________________________\n",
      "dropout_11 (Dropout)         (None, 12)                0         \n",
      "_________________________________________________________________\n",
      "dense_11 (Dense)             (None, 12)                156       \n",
      "_________________________________________________________________\n",
      "dropout_12 (Dropout)         (None, 12)                0         \n",
      "_________________________________________________________________\n",
      "dense_12 (Dense)             (None, 1)                 13        \n",
      "=================================================================\n",
      "Total params: 49,429\n",
      "Trainable params: 49,429\n",
      "Non-trainable params: 0\n",
      "_________________________________________________________________\n"
     ]
    }
   ],
   "source": [
    "model_to_load = 'ST_models/lstm_model_good_dropout_0.1_0.1_80_128_64_32_12_12_1.h5'\n",
    "\n",
    "# Create the network and load the weights into it\n",
    "model = create_LSTM_large(\n",
    "        (train_matrix_st.shape[1], train_matrix_st.shape[2]),\n",
    "        0.2,\n",
    "        0.2,\n",
    "    )\n",
    "model.load_weights(model_to_load)\n",
    "\n",
    "model.compile(optimizer=\"rmsprop\", loss=\"mean_squared_error\")\n",
    "test_y_scaled = model.predict(test_matrix_st)\n"
   ]
  },
  {
   "cell_type": "code",
   "execution_count": 53,
   "metadata": {},
   "outputs": [],
   "source": [
    "test_y = scaler_target.inverse_transform(test_y_scaled)"
   ]
  },
  {
   "cell_type": "code",
   "execution_count": 54,
   "metadata": {},
   "outputs": [
    {
     "data": {
      "text/plain": [
       "29.778600174918992"
      ]
     },
     "execution_count": 54,
     "metadata": {},
     "output_type": "execute_result"
    }
   ],
   "source": [
    "mean_absolute_error(test_target, test_y)"
   ]
  },
  {
   "cell_type": "code",
   "execution_count": 55,
   "metadata": {},
   "outputs": [
    {
     "data": {
      "text/plain": [
       "30.02980056208667"
      ]
     },
     "execution_count": 55,
     "metadata": {},
     "output_type": "execute_result"
    }
   ],
   "source": [
    "mean_absolute_error(test_target, st_offsets_dense[cut_point:,0,3])"
   ]
  },
  {
   "cell_type": "code",
   "execution_count": 56,
   "metadata": {},
   "outputs": [
    {
     "data": {
      "text/plain": [
       "29.998359191835657"
      ]
     },
     "execution_count": 56,
     "metadata": {},
     "output_type": "execute_result"
    }
   ],
   "source": [
    "mean_absolute_error(test_target, offsets_sparse2[cut_point:])"
   ]
  },
  {
   "cell_type": "code",
   "execution_count": 57,
   "metadata": {},
   "outputs": [
    {
     "data": {
      "text/plain": [
       "30.024624618099693"
      ]
     },
     "execution_count": 57,
     "metadata": {},
     "output_type": "execute_result"
    }
   ],
   "source": [
    "mean_absolute_error(test_target, [0] * len(test_target))"
   ]
  },
  {
   "cell_type": "code",
   "execution_count": 58,
   "metadata": {},
   "outputs": [],
   "source": [
    "# offsets_dense2, _, mean_weights_dense2 = calc_offsets(means, counts, calc_slice(1,8), (1,2), None, 40)\n",
    "\n",
    "# offsets_dense, _, mean_weights_dense = calc_offsets(means, counts, calc_slice(2,10), (1,2), None, 40)\n",
    "\n",
    "# offsets_sparse, _, mean_weights_sparse = calc_offsets(means, counts, calc_slice(8,15), (1,2), None, 60)\n",
    "\n",
    "# offsets_sparse2, _, mean_weights_sparse2 = calc_offsets(means, counts, calc_slice(10,20), (1,2), None, 40)\n",
    "\n"
   ]
  },
  {
   "cell_type": "code",
   "execution_count": 59,
   "metadata": {},
   "outputs": [
    {
     "name": "stdout",
     "output_type": "stream",
     "text": [
      "MAE dense2: 30.02980056208667\n",
      "MAE dense2_prev: 30.03315964783844\n",
      "MAE dense2_next: 30.042105984021408\n",
      "MAE sparse2: 29.998359191835657\n",
      "MAE RNN: 29.778600174918992\n"
     ]
    }
   ],
   "source": [
    "# target = se.loc[data_mask, 'diff_percent_segment_and_mean_by_segment_code_and_hour_and_day']\n",
    "\n",
    "print(f\"MAE dense2: {mean_absolute_error(test_target, st_offsets_dense[cut_point:,0,3])}\")\n",
    "\n",
    "print(f\"MAE dense2_prev: {mean_absolute_error(test_target, st_offsets_dense[cut_point:,0,2])}\")\n",
    "\n",
    "print(f\"MAE dense2_next: {mean_absolute_error(test_target, st_offsets_dense[cut_point:,0,4])}\")\n",
    "      \n",
    "print(f\"MAE sparse2: {mean_absolute_error(test_target, offsets_sparse2[cut_point:])}\")\n",
    "            \n",
    "print(f\"MAE RNN: {mean_absolute_error(test_target, test_y)}\")\n",
    "      \n",
    "      "
   ]
  },
  {
   "cell_type": "code",
   "execution_count": 60,
   "metadata": {},
   "outputs": [
    {
     "name": "stdout",
     "output_type": "stream",
     "text": [
      "RMSE dense2: 57.525031434531876\n",
      "RMSE dense2_prev: 57.52724189078178\n",
      "RMSE dense2_next: 57.529510982995575\n",
      "RMSE sparse2: 57.51963372874016\n",
      "RMSE RNN: 57.370701321175254\n"
     ]
    }
   ],
   "source": [
    "# target = se.loc[data_mask, 'diff_percent_segment_and_mean_by_segment_code_and_hour_and_day']\n",
    "\n",
    "print(f\"RMSE dense2: {np.sqrt(mean_squared_error(test_target, st_offsets_dense[cut_point:,0,3]))}\")\n",
    "\n",
    "print(f\"RMSE dense2_prev: {np.sqrt(mean_squared_error(test_target, st_offsets_dense[cut_point:,0,2]))}\")\n",
    "\n",
    "print(f\"RMSE dense2_next: {np.sqrt(mean_squared_error(test_target, st_offsets_dense[cut_point:,0,4]))}\")\n",
    "      \n",
    "print(f\"RMSE sparse2: {np.sqrt(mean_squared_error(test_target, offsets_sparse2[cut_point:]))}\")\n",
    "            \n",
    "print(f\"RMSE RNN: {np.sqrt(mean_squared_error(test_target, test_y))}\")\n",
    "      \n",
    "# print(f\"RMSE sparse2: {np.sqrt(mean_squared_error(target, offsets_sparse2))}\")\n",
    "      \n",
    "      "
   ]
  },
  {
   "cell_type": "code",
   "execution_count": 61,
   "metadata": {},
   "outputs": [],
   "source": [
    "MAE_baseline = []\n",
    "MAE_dense2_predict = []\n",
    "# MAE_dense_predict = []\n",
    "# MAE_sparse_predict = []\n",
    "MAE_RNN_predict = []\n",
    "MAE_sparse2_predict = []\n",
    "\n",
    "RMSE_baseline = []\n",
    "RMSE_dense2_predict = []\n",
    "# RMSE_dense_predict = []\n",
    "# RMSE_sparse_predict = []\n",
    "RMSE_RNN_predict = []\n",
    "RMSE_sparse2_predict = []\n",
    "\n",
    "\n",
    "\n",
    "freqeuncy = []\n",
    "\n",
    "x = np.array(range(20))*10\n",
    "\n",
    "# target = se.loc[data_mask, 'diff_percent_segment_and_mean_by_segment_code_and_hour_and_day'].values[cut_point:]\n",
    "baseline = np.zeros(data_size)[cut_point:]\n",
    "\n",
    "for i in x:\n",
    "\n",
    "\n",
    "    full_mask = (bus_counts>i)[cut_point:] & (bus_counts<i+10)[cut_point:]\n",
    "    \n",
    "    freqeuncy.append(np.count_nonzero(full_mask))\n",
    "    \n",
    "    MAE_baseline.append(mean_absolute_error(test_target[full_mask], baseline[full_mask]))\n",
    "    \n",
    "    MAE_dense2_predict.append(mean_absolute_error(test_target[full_mask], st_offsets_dense[cut_point:,0,3][full_mask]))\n",
    "        \n",
    "#     MAE_dense_predict.append(mean_absolute_error(target[full_mask], offsets_dense[full_mask]))\n",
    "    \n",
    "#     MAE_sparse_predict.append(mean_absolute_error(target[full_mask], offsets_sparse[full_mask]))\n",
    "\n",
    "    MAE_RNN_predict.append(mean_absolute_error(test_target[full_mask], test_y[full_mask]))\n",
    "    \n",
    "    MAE_sparse2_predict.append(mean_absolute_error(test_target[full_mask], offsets_sparse2[cut_point:][full_mask]))\n",
    "    \n",
    "    RMSE_baseline.append(mean_squared_error(test_target[full_mask], baseline[full_mask]))\n",
    "    \n",
    "    RMSE_dense2_predict.append(mean_squared_error(test_target[full_mask], st_offsets_dense[cut_point:,0,3][full_mask]))\n",
    "        \n",
    "#     RMSE_dense_predict.append(mean_squared_error(target[full_mask], offsets_dense[full_mask]))\n",
    "    \n",
    "#     RMSE_sparse_predict.append(mean_squared_error(target[full_mask], offsets_sparse[full_mask]))\n",
    "\n",
    "    RMSE_RNN_predict.append(mean_squared_error(test_target[full_mask], test_y[full_mask]))\n",
    "    \n",
    "    RMSE_sparse2_predict.append(mean_squared_error(test_target[full_mask], offsets_sparse2[cut_point:][full_mask]))\n",
    "    "
   ]
  },
  {
   "cell_type": "code",
   "execution_count": 62,
   "metadata": {},
   "outputs": [
    {
     "data": {
      "image/png": "[encoded data removed]",
      "text/plain": [
       "<Figure size 432x288 with 2 Axes>"
      ]
     },
     "metadata": {
      "needs_background": "light"
     },
     "output_type": "display_data"
    }
   ],
   "source": [
    "# MAE_dense_predict = np.array(MAE_dense_predict)\n",
    "MAE_dense2_predict = np.array(MAE_dense2_predict)\n",
    "MAE_baseline = np.array(MAE_baseline)\n",
    "# MAE_sparse_predict = np.array(MAE_sparse_predict)\n",
    "MAE_sparse2_predict = np.array(MAE_sparse2_predict)\n",
    "MAE_RNN_predict = np.array(MAE_RNN_predict)\n",
    "\n",
    "\n",
    "# plt.plot(x, percentages_baseline, label=\"baseline\")\n",
    "# plt.plot(x, MAE_dense_predict-MAE_baseline, label=\"predict (d)\")\n",
    "plt.plot(x, MAE_dense2_predict-MAE_baseline, label=\"predict (v_d)\")\n",
    "# plt.plot(x, MAE_sparse_predict-MAE_baseline, label=\"predict (s)\")\n",
    "plt.plot(x, MAE_sparse2_predict-MAE_baseline, label=\"predict (v_s)\")\n",
    "plt.plot(x, MAE_RNN_predict-MAE_baseline, label=\"RNN\")\n",
    "\n",
    "plt.xlabel(\"Density of data points close to event\")\n",
    "plt.ylabel(\"Change in MAE of events compared to baseline\")\n",
    "plt.legend(loc=1)\n",
    "# plt.ylim(35,47)\n",
    "\n",
    "ax = plt.gca()\n",
    "\n",
    "ax2 = ax.twinx()\n",
    " \n",
    "ax2.plot(x, freqeuncy, c=\"grey\", ls=\":\")\n",
    "# ax2.set_yscale(\"log\")\n",
    "ax2.set_ylabel(\"Frequency\")\n",
    "plt.title(\"How prediction accuracy varies with data density\\n(just using means)\")\n",
    "# plt.savefig(\"accuracy vs density_2m_forward.pdf\")\n",
    "plt.show()\n",
    "\n"
   ]
  },
  {
   "cell_type": "code",
   "execution_count": 63,
   "metadata": {},
   "outputs": [
    {
     "data": {
      "image/png": "[encoded data removed]",
      "text/plain": [
       "<Figure size 432x288 with 2 Axes>"
      ]
     },
     "metadata": {
      "needs_background": "light"
     },
     "output_type": "display_data"
    }
   ],
   "source": [
    "# RMSE_dense_predict = np.array(RMSE_dense_predict)\n",
    "RMSE_dense2_predict = np.array(RMSE_dense2_predict)\n",
    "RMSE_baseline = np.array(RMSE_baseline)\n",
    "# RMSE_sparse_predict = np.array(RMSE_sparse_predict)\n",
    "RMSE_sparse2_predict = np.array(RMSE_sparse2_predict)\n",
    "RMSE_RNN_predict = np.array(RMSE_RNN_predict)\n",
    "\n",
    "\n",
    "# plt.plot(x, percentages_baseline, label=\"mean\")\n",
    "# plt.plot(x, RMSE_dense_predict-RMSE_baseline, label=\"predict (d)\")\n",
    "plt.plot(x, RMSE_dense2_predict-RMSE_baseline, label=\"predict (v_d)\")\n",
    "# plt.plot(x, RMSE_sparse_predict-RMSE_baseline, label=\"predict (s)\")\n",
    "plt.plot(x, RMSE_sparse2_predict-RMSE_baseline, label=\"predict (v_s)\")\n",
    "plt.plot(x, RMSE_RNN_predict-RMSE_baseline, label=\"RNN\")\n",
    "plt.xlabel(\"Density of data points close to event\")\n",
    "plt.ylabel(\"Change in RMSE of events compared to baseline\")\n",
    "plt.legend(loc=1)\n",
    "# plt.ylim(35,47)\n",
    "\n",
    "ax = plt.gca()\n",
    "\n",
    "ax2 = ax.twinx()\n",
    " \n",
    "ax2.plot(x, freqeuncy, c=\"grey\", ls=\":\")\n",
    "ax2.set_ylabel(\"Frequency\")\n",
    "plt.title(\"How prediction accuracy varies with data density\\n(just using means)\")\n",
    "# plt.savefig(\"accuracy vs density_2m_forward.pdf\")\n",
    "plt.show()\n",
    "\n"
   ]
  },
  {
   "cell_type": "code",
   "execution_count": 64,
   "metadata": {},
   "outputs": [
    {
     "data": {
      "image/png": "[encoded data removed]",
      "text/plain": [
       "<Figure size 432x288 with 1 Axes>"
      ]
     },
     "metadata": {
      "needs_background": "light"
     },
     "output_type": "display_data"
    }
   ],
   "source": [
    "plt.hist(test_target, bins=100, range=(-100,100), label=\"target\");\n",
    "plt.hist(test_y, bins=100, range=(-100,100), alpha=0.5, label=\"RNN\");\n",
    "# plt.hist(st_offsets_dense[cut_point:,0,3], bins=100, range=(-100,100), alpha=0.5, label=\"Dense\");\n",
    "# plt.hist(offsets_sparse2[cut_point:], bins=100, range=(-100,100), alpha=0.5, label=\"Sparse\");\n",
    "plt.legend()\n",
    "plt.yscale(\"log\")\n"
   ]
  },
  {
   "cell_type": "code",
   "execution_count": 73,
   "metadata": {},
   "outputs": [
    {
     "name": "stderr",
     "output_type": "stream",
     "text": [
      "/Users/tommelamed/anaconda3/envs/busses/lib/python3.7/site-packages/ipykernel_launcher.py:40: RuntimeWarning: invalid value encountered in less\n"
     ]
    }
   ],
   "source": [
    "test_baseline_array_cum, test_actual_array_cum, baseline_pass_count, baseline_pass_fraction = calc_baseline_and_actual(test_mask)"
   ]
  },
  {
   "cell_type": "code",
   "execution_count": 66,
   "metadata": {},
   "outputs": [
    {
     "name": "stderr",
     "output_type": "stream",
     "text": [
      "/Users/tommelamed/anaconda3/envs/busses/lib/python3.7/site-packages/ipykernel_launcher.py:36: RuntimeWarning: invalid value encountered in less\n"
     ]
    },
    {
     "name": "stdout",
     "output_type": "stream",
     "text": [
      "Approximately 1.95% improvment on baseline\n",
      "Approximately 40.68% are in 10%\n"
     ]
    }
   ],
   "source": [
    "predict_array_RNN_cum, _, pass_fraction = calc_prediction_cum_journeys(offsets=test_y.squeeze(), baseline_array_cum=test_baseline_array_cum, actual_array_cum=test_actual_array_cum, calc_mask=test_mask)\n"
   ]
  },
  {
   "cell_type": "code",
   "execution_count": 67,
   "metadata": {},
   "outputs": [
    {
     "name": "stdout",
     "output_type": "stream",
     "text": [
      "............................................................................."
     ]
    },
    {
     "data": {
      "image/png": "[encoded data removed]",
      "text/plain": [
       "<Figure size 432x288 with 2 Axes>"
      ]
     },
     "metadata": {
      "needs_background": "light"
     },
     "output_type": "display_data"
    }
   ],
   "source": [
    "show_accuracy_minutes(predict_array_RNN_cum, test_actual_array_cum, title=\"RNN\")"
   ]
  },
  {
   "cell_type": "code",
   "execution_count": 68,
   "metadata": {},
   "outputs": [
    {
     "name": "stdout",
     "output_type": "stream",
     "text": [
      "............................................................................."
     ]
    },
    {
     "data": {
      "image/png": "[encoded data removed]",
      "text/plain": [
       "<Figure size 432x288 with 2 Axes>"
      ]
     },
     "metadata": {
      "needs_background": "light"
     },
     "output_type": "display_data"
    }
   ],
   "source": [
    "show_accuracy_minutes(test_baseline_array_cum, test_actual_array_cum, title=\"Baseline\")"
   ]
  },
  {
   "cell_type": "code",
   "execution_count": 74,
   "metadata": {},
   "outputs": [
    {
     "data": {
      "text/plain": [
       "0.3990746501786633"
      ]
     },
     "execution_count": 74,
     "metadata": {},
     "output_type": "execute_result"
    }
   ],
   "source": [
    "baseline_pass_fraction"
   ]
  },
  {
   "cell_type": "code",
   "execution_count": 75,
   "metadata": {},
   "outputs": [],
   "source": [
    "def full_test(dropout, rdropout, loss, filename):\n",
    "    \n",
    "    model = create_LSTM_large(\n",
    "        (train_matrix_st.shape[1], train_matrix_st.shape[2]),\n",
    "        dropout,\n",
    "        rdropout,\n",
    "    )\n",
    "\n",
    "    Path(f\"ST_models\").mkdir(parents=True, exist_ok=True)\n",
    "\n",
    "    callbacks_list = [\n",
    "        keras.callbacks.EarlyStopping(monitor=\"val_loss\", patience=2),\n",
    "        keras.callbacks.ModelCheckpoint(\n",
    "            filepath=f\"ST_models/\" + filename,\n",
    "            monitor=\"val_loss\",\n",
    "            save_best_only=True,\n",
    "        ),\n",
    "    ]\n",
    "\n",
    "    # model.compile(optimizer=\"rmsprop\", loss=\"mean_absolute_error\")\n",
    "    model.compile(optimizer=\"rmsprop\", loss=loss)\n",
    "    model.fit(\n",
    "        train_matrix_st,\n",
    "        train_target_scaled,\n",
    "        epochs=100,\n",
    "        callbacks=callbacks_list,\n",
    "        batch_size=512,\n",
    "        validation_data=(test_matrix_st, test_target_scaled),\n",
    "    )\n",
    "\n",
    "    test_y_scaled = model.predict(test_matrix_st)\n",
    "    \n",
    "    test_y = scaler_target.inverse_transform(test_y_scaled)\n",
    "    \n",
    "    print(f\"MAE RNN: {mean_absolute_error(test_target, test_y)}\")\n",
    "    print(f\"RMSE RNN: {np.sqrt(mean_squared_error(test_target, test_y))}\")\n",
    "    \n",
    "    predict_array_RNN_cum, _, pass_fraction = calc_prediction_cum_journeys(offsets=test_y.squeeze(), baseline_array_cum=test_baseline_array_cum, actual_array_cum=test_actual_array_cum, calc_mask=test_mask)\n",
    "    \n",
    "    return pass_fraction, mean_absolute_error(test_target, test_y), np.sqrt(mean_squared_error(test_target, test_y))"
   ]
  },
  {
   "cell_type": "code",
   "execution_count": null,
   "metadata": {},
   "outputs": [
    {
     "name": "stdout",
     "output_type": "stream",
     "text": [
      "_________________________________________________________________\n",
      "Layer (type)                 Output Shape              Param #   \n",
      "=================================================================\n",
      "lstm_4 (LSTM)                (None, 80)                28160     \n",
      "_________________________________________________________________\n",
      "dropout_19 (Dropout)         (None, 80)                0         \n",
      "_________________________________________________________________\n",
      "dense_19 (Dense)             (None, 128)               10368     \n",
      "_________________________________________________________________\n",
      "dropout_20 (Dropout)         (None, 128)               0         \n",
      "_________________________________________________________________\n",
      "dense_20 (Dense)             (None, 64)                8256      \n",
      "_________________________________________________________________\n",
      "dropout_21 (Dropout)         (None, 64)                0         \n",
      "_________________________________________________________________\n",
      "dense_21 (Dense)             (None, 32)                2080      \n",
      "_________________________________________________________________\n",
      "dropout_22 (Dropout)         (None, 32)                0         \n",
      "_________________________________________________________________\n",
      "dense_22 (Dense)             (None, 12)                396       \n",
      "_________________________________________________________________\n",
      "dropout_23 (Dropout)         (None, 12)                0         \n",
      "_________________________________________________________________\n",
      "dense_23 (Dense)             (None, 12)                156       \n",
      "_________________________________________________________________\n",
      "dropout_24 (Dropout)         (None, 12)                0         \n",
      "_________________________________________________________________\n",
      "dense_24 (Dense)             (None, 1)                 13        \n",
      "=================================================================\n",
      "Total params: 49,429\n",
      "Trainable params: 49,429\n",
      "Non-trainable params: 0\n",
      "_________________________________________________________________\n",
      "Train on 1500000 samples, validate on 500000 samples\n",
      "Epoch 1/100\n",
      "1500000/1500000 [==============================] - 52s 35us/step - loss: 0.5250 - val_loss: 0.5368\n",
      "Epoch 2/100\n",
      "1500000/1500000 [==============================] - 56s 37us/step - loss: 0.5247 - val_loss: 0.5364\n",
      "Epoch 3/100\n",
      "1500000/1500000 [==============================] - 63s 42us/step - loss: 0.5245 - val_loss: 0.5362\n",
      "Epoch 4/100\n",
      "1500000/1500000 [==============================] - 60s 40us/step - loss: 0.5244 - val_loss: 0.5363\n",
      "Epoch 5/100\n",
      "1500000/1500000 [==============================] - 60s 40us/step - loss: 0.5242 - val_loss: 0.5362\n",
      "Epoch 6/100\n",
      "1500000/1500000 [==============================] - 63s 42us/step - loss: 0.5241 - val_loss: 0.5364\n",
      "Epoch 7/100\n",
      "1500000/1500000 [==============================] - 58s 39us/step - loss: 0.5240 - val_loss: 0.5362\n",
      "Epoch 8/100\n",
      "1500000/1500000 [==============================] - 56s 37us/step - loss: 0.5238 - val_loss: 0.5362\n",
      "Epoch 9/100\n",
      "1500000/1500000 [==============================] - 59s 39us/step - loss: 0.5238 - val_loss: 0.5362\n",
      "Epoch 10/100\n",
      "1500000/1500000 [==============================] - 60s 40us/step - loss: 0.5237 - val_loss: 0.5362\n",
      "Epoch 11/100\n",
      "1500000/1500000 [==============================] - 59s 39us/step - loss: 0.5235 - val_loss: 0.5363\n",
      "MAE RNN: 28.25222257825191\n",
      "RMSE RNN: 58.10087015241691\n"
     ]
    },
    {
     "name": "stderr",
     "output_type": "stream",
     "text": [
      "/Users/tommelamed/anaconda3/envs/busses/lib/python3.7/site-packages/ipykernel_launcher.py:36: RuntimeWarning: invalid value encountered in less\n"
     ]
    },
    {
     "name": "stdout",
     "output_type": "stream",
     "text": [
      "Approximately 9.61% improvment on baseline\n",
      "Approximately 43.74% are in 10%\n",
      "_________________________________________________________________\n",
      "Layer (type)                 Output Shape              Param #   \n",
      "=================================================================\n",
      "lstm_5 (LSTM)                (None, 80)                28160     \n",
      "_________________________________________________________________\n",
      "dropout_25 (Dropout)         (None, 80)                0         \n",
      "_________________________________________________________________\n",
      "dense_25 (Dense)             (None, 128)               10368     \n",
      "_________________________________________________________________\n",
      "dropout_26 (Dropout)         (None, 128)               0         \n",
      "_________________________________________________________________\n",
      "dense_26 (Dense)             (None, 64)                8256      \n",
      "_________________________________________________________________\n",
      "dropout_27 (Dropout)         (None, 64)                0         \n",
      "_________________________________________________________________\n",
      "dense_27 (Dense)             (None, 32)                2080      \n",
      "_________________________________________________________________\n",
      "dropout_28 (Dropout)         (None, 32)                0         \n",
      "_________________________________________________________________\n",
      "dense_28 (Dense)             (None, 12)                396       \n",
      "_________________________________________________________________\n",
      "dropout_29 (Dropout)         (None, 12)                0         \n",
      "_________________________________________________________________\n",
      "dense_29 (Dense)             (None, 12)                156       \n",
      "_________________________________________________________________\n",
      "dropout_30 (Dropout)         (None, 12)                0         \n",
      "_________________________________________________________________\n",
      "dense_30 (Dense)             (None, 1)                 13        \n",
      "=================================================================\n",
      "Total params: 49,429\n",
      "Trainable params: 49,429\n",
      "Non-trainable params: 0\n",
      "_________________________________________________________________\n",
      "Train on 1500000 samples, validate on 500000 samples\n",
      "Epoch 1/100\n",
      "1500000/1500000 [==============================] - 60s 40us/step - loss: 0.9993 - val_loss: 1.1862\n",
      "Epoch 2/100\n",
      "1500000/1500000 [==============================] - 58s 38us/step - loss: 0.9991 - val_loss: 1.1860\n",
      "Epoch 3/100\n",
      "1500000/1500000 [==============================] - 58s 39us/step - loss: 0.9991 - val_loss: 1.1861\n",
      "Epoch 4/100\n",
      "1500000/1500000 [==============================] - 57s 38us/step - loss: 0.9989 - val_loss: 1.1858\n",
      "Epoch 5/100\n",
      "1500000/1500000 [==============================] - 62s 41us/step - loss: 0.9989 - val_loss: 1.1857\n",
      "Epoch 6/100\n",
      "1500000/1500000 [==============================] - 62s 41us/step - loss: 0.9990 - val_loss: 1.1862\n",
      "Epoch 7/100\n",
      "1500000/1500000 [==============================] - 59s 39us/step - loss: 0.9989 - val_loss: 1.1858\n",
      "MAE RNN: 29.668206729931917\n",
      "RMSE RNN: 57.368290540867434\n"
     ]
    },
    {
     "name": "stderr",
     "output_type": "stream",
     "text": [
      "/Users/tommelamed/anaconda3/envs/busses/lib/python3.7/site-packages/ipykernel_launcher.py:36: RuntimeWarning: invalid value encountered in less\n"
     ]
    },
    {
     "name": "stdout",
     "output_type": "stream",
     "text": [
      "Approximately 2.97% improvment on baseline\n",
      "Approximately 41.09% are in 10%\n",
      "_________________________________________________________________\n",
      "Layer (type)                 Output Shape              Param #   \n",
      "=================================================================\n",
      "lstm_6 (LSTM)                (None, 80)                28160     \n",
      "_________________________________________________________________\n",
      "dropout_31 (Dropout)         (None, 80)                0         \n",
      "_________________________________________________________________\n",
      "dense_31 (Dense)             (None, 128)               10368     \n",
      "_________________________________________________________________\n",
      "dropout_32 (Dropout)         (None, 128)               0         \n",
      "_________________________________________________________________\n",
      "dense_32 (Dense)             (None, 64)                8256      \n",
      "_________________________________________________________________\n",
      "dropout_33 (Dropout)         (None, 64)                0         \n",
      "_________________________________________________________________\n",
      "dense_33 (Dense)             (None, 32)                2080      \n",
      "_________________________________________________________________\n",
      "dropout_34 (Dropout)         (None, 32)                0         \n",
      "_________________________________________________________________\n",
      "dense_34 (Dense)             (None, 12)                396       \n",
      "_________________________________________________________________\n",
      "dropout_35 (Dropout)         (None, 12)                0         \n",
      "_________________________________________________________________\n",
      "dense_35 (Dense)             (None, 12)                156       \n",
      "_________________________________________________________________\n",
      "dropout_36 (Dropout)         (None, 12)                0         \n",
      "_________________________________________________________________\n",
      "dense_36 (Dense)             (None, 1)                 13        \n",
      "=================================================================\n",
      "Total params: 49,429\n",
      "Trainable params: 49,429\n",
      "Non-trainable params: 0\n",
      "_________________________________________________________________\n",
      "Train on 1500000 samples, validate on 500000 samples\n",
      "Epoch 1/100\n",
      "1500000/1500000 [==============================] - 68s 45us/step - loss: 0.5250 - val_loss: 0.5365\n",
      "Epoch 2/100\n",
      "1500000/1500000 [==============================] - 69s 46us/step - loss: 0.5246 - val_loss: 0.5363\n",
      "Epoch 3/100\n",
      "1500000/1500000 [==============================] - 64s 43us/step - loss: 0.5245 - val_loss: 0.5362\n",
      "Epoch 4/100\n",
      "1500000/1500000 [==============================] - 64s 43us/step - loss: 0.5244 - val_loss: 0.5361\n",
      "Epoch 5/100\n",
      "1500000/1500000 [==============================] - 65s 44us/step - loss: 0.5243 - val_loss: 0.5363\n",
      "Epoch 6/100\n",
      "1500000/1500000 [==============================] - 64s 43us/step - loss: 0.5242 - val_loss: 0.5361\n",
      "MAE RNN: 28.245118547509545\n",
      "RMSE RNN: 58.16113742901461\n"
     ]
    },
    {
     "name": "stderr",
     "output_type": "stream",
     "text": [
      "/Users/tommelamed/anaconda3/envs/busses/lib/python3.7/site-packages/ipykernel_launcher.py:36: RuntimeWarning: invalid value encountered in less\n"
     ]
    },
    {
     "name": "stdout",
     "output_type": "stream",
     "text": [
      "Approximately 8.84% improvment on baseline\n",
      "Approximately 43.44% are in 10%\n",
      "_________________________________________________________________\n",
      "Layer (type)                 Output Shape              Param #   \n",
      "=================================================================\n",
      "lstm_7 (LSTM)                (None, 80)                28160     \n",
      "_________________________________________________________________\n",
      "dropout_37 (Dropout)         (None, 80)                0         \n",
      "_________________________________________________________________\n",
      "dense_37 (Dense)             (None, 128)               10368     \n",
      "_________________________________________________________________\n",
      "dropout_38 (Dropout)         (None, 128)               0         \n",
      "_________________________________________________________________\n",
      "dense_38 (Dense)             (None, 64)                8256      \n",
      "_________________________________________________________________\n",
      "dropout_39 (Dropout)         (None, 64)                0         \n",
      "_________________________________________________________________\n",
      "dense_39 (Dense)             (None, 32)                2080      \n",
      "_________________________________________________________________\n",
      "dropout_40 (Dropout)         (None, 32)                0         \n",
      "_________________________________________________________________\n",
      "dense_40 (Dense)             (None, 12)                396       \n",
      "_________________________________________________________________\n",
      "dropout_41 (Dropout)         (None, 12)                0         \n",
      "_________________________________________________________________\n",
      "dense_41 (Dense)             (None, 12)                156       \n",
      "_________________________________________________________________\n",
      "dropout_42 (Dropout)         (None, 12)                0         \n",
      "_________________________________________________________________\n",
      "dense_42 (Dense)             (None, 1)                 13        \n",
      "=================================================================\n",
      "Total params: 49,429\n",
      "Trainable params: 49,429\n",
      "Non-trainable params: 0\n",
      "_________________________________________________________________\n",
      "Train on 1500000 samples, validate on 500000 samples\n",
      "Epoch 1/100\n",
      "1500000/1500000 [==============================] - 60s 40us/step - loss: 0.9996 - val_loss: 1.1870\n",
      "Epoch 2/100\n",
      "1500000/1500000 [==============================] - 65s 43us/step - loss: 0.9994 - val_loss: 1.1861\n",
      "Epoch 3/100\n",
      "1500000/1500000 [==============================] - 65s 43us/step - loss: 0.9992 - val_loss: 1.1860\n",
      "Epoch 4/100\n",
      "1500000/1500000 [==============================] - 65s 43us/step - loss: 0.9991 - val_loss: 1.1866\n",
      "Epoch 5/100\n",
      "1500000/1500000 [==============================] - 64s 43us/step - loss: 0.9990 - val_loss: 1.1858\n",
      "Epoch 6/100\n",
      "1500000/1500000 [==============================] - 64s 43us/step - loss: 0.9989 - val_loss: 1.1863\n",
      "Epoch 7/100\n",
      "1500000/1500000 [==============================] - 64s 42us/step - loss: 0.9990 - val_loss: 1.1965\n",
      "MAE RNN: 28.90501566332018\n",
      "RMSE RNN: 57.62727577348595\n"
     ]
    },
    {
     "name": "stderr",
     "output_type": "stream",
     "text": [
      "/Users/tommelamed/anaconda3/envs/busses/lib/python3.7/site-packages/ipykernel_launcher.py:36: RuntimeWarning: invalid value encountered in less\n"
     ]
    },
    {
     "name": "stdout",
     "output_type": "stream",
     "text": [
      "Approximately 8.81% improvment on baseline\n",
      "Approximately 43.42% are in 10%\n",
      "_________________________________________________________________\n",
      "Layer (type)                 Output Shape              Param #   \n",
      "=================================================================\n",
      "lstm_8 (LSTM)                (None, 80)                28160     \n",
      "_________________________________________________________________\n",
      "dropout_43 (Dropout)         (None, 80)                0         \n",
      "_________________________________________________________________\n",
      "dense_43 (Dense)             (None, 128)               10368     \n",
      "_________________________________________________________________\n",
      "dropout_44 (Dropout)         (None, 128)               0         \n",
      "_________________________________________________________________\n",
      "dense_44 (Dense)             (None, 64)                8256      \n",
      "_________________________________________________________________\n",
      "dropout_45 (Dropout)         (None, 64)                0         \n",
      "_________________________________________________________________\n",
      "dense_45 (Dense)             (None, 32)                2080      \n",
      "_________________________________________________________________\n",
      "dropout_46 (Dropout)         (None, 32)                0         \n",
      "_________________________________________________________________\n",
      "dense_46 (Dense)             (None, 12)                396       \n",
      "_________________________________________________________________\n",
      "dropout_47 (Dropout)         (None, 12)                0         \n",
      "_________________________________________________________________\n",
      "dense_47 (Dense)             (None, 12)                156       \n",
      "_________________________________________________________________\n",
      "dropout_48 (Dropout)         (None, 12)                0         \n",
      "_________________________________________________________________\n",
      "dense_48 (Dense)             (None, 1)                 13        \n",
      "=================================================================\n",
      "Total params: 49,429\n",
      "Trainable params: 49,429\n",
      "Non-trainable params: 0\n",
      "_________________________________________________________________\n",
      "Train on 1500000 samples, validate on 500000 samples\n",
      "Epoch 1/100\n",
      "1500000/1500000 [==============================] - 58s 39us/step - loss: 0.5250 - val_loss: 0.5367\n",
      "Epoch 2/100\n",
      "1500000/1500000 [==============================] - 61s 41us/step - loss: 0.5247 - val_loss: 0.5365\n",
      "Epoch 3/100\n",
      "1500000/1500000 [==============================] - 65s 44us/step - loss: 0.5246 - val_loss: 0.5364\n",
      "Epoch 4/100\n",
      "1500000/1500000 [==============================] - 72s 48us/step - loss: 0.5245 - val_loss: 0.5366\n",
      "Epoch 5/100\n",
      "1500000/1500000 [==============================] - 60s 40us/step - loss: 0.5244 - val_loss: 0.5362\n",
      "Epoch 6/100\n",
      " 578048/1500000 [==========>...................] - ETA: 34s - loss: 0.5249"
     ]
    }
   ],
   "source": [
    "with open(\"lstm_test1.csv\", \"w\") as f: \n",
    "    f.write(\"dropout,rdropout,loss,pass_fraction,MSE,RMSE\\n\")\n",
    "    for runs in range(5):\n",
    "        for i in np.linspace(0,.3,4):\n",
    "            for j in np.linspace(0,.3,4):\n",
    "                for loss in ['mean_absolute_error', 'mean_squared_error']:\n",
    "                    pass_frac, MSE, RMSE = full_test(i,j,loss,f\"lstm_run_{runs}_dropout_{i}_{j}_{loss}_80_128_64_32_12_12_1.h5\")\n",
    "\n",
    "                    f.write(f\"{i},{j},{loss},{pass_frac},{MSE},{RMSE}\\n\")\n",
    "                    f.flush()\n",
    "\n"
   ]
  },
  {
   "cell_type": "code",
   "execution_count": null,
   "metadata": {},
   "outputs": [],
   "source": []
  },
  {
   "cell_type": "code",
   "execution_count": null,
   "metadata": {},
   "outputs": [],
   "source": [
    "show_accuracy_minutes(predict_array_RNN_cum, actual_array_cum, \"means\")"
   ]
  },
  {
   "cell_type": "code",
   "execution_count": 37,
   "metadata": {},
   "outputs": [],
   "source": [
    "def percent_in_x_percent(predict, actual, threshold):\n",
    "    \n",
    "    if np.count_nonzero(~np.isnan(actual)) == 0:\n",
    "        return 0, 0\n",
    "    \n",
    "    threshold = threshold/100\n",
    "    \n",
    "    mask = (~np.isnan(predict) & ~np.isnan(actual))\n",
    "    \n",
    "    pass_count = np.count_nonzero((predict[mask] < actual[mask] * (1 + threshold)) & (predict[mask] > actual[mask] * (1-threshold)))\n",
    "    \n",
    "    over_count = np.count_nonzero(predict[mask] > actual[mask] * (1+threshold))\n",
    "    \n",
    "    under_count = np.count_nonzero(predict[mask] < actual[mask] * (1-threshold))\n",
    "    \n",
    "    pass_percent = pass_count/np.count_nonzero(mask) * 100\n",
    "    \n",
    "    if over_count + under_count == 0:\n",
    "        drift = 0.5\n",
    "    else:\n",
    "        drift = over_count / (over_count + under_count)\n",
    "    \n",
    "    return pass_percent, drift\n",
    "\n",
    "def make_accuracy_matrix_minutes(predict, actual, max_threshold = 50):\n",
    "\n",
    "    actual_ints = np.array(actual/60).astype(int)\n",
    "    \n",
    "    rows = int(max_threshold/10)\n",
    "    \n",
    "    max_a = np.nanmax(actual)/60\n",
    "\n",
    "    accuracies_table = np.empty((rows, int(max_a)))\n",
    "    drift_table = np.empty((rows, int(max_a)))\n",
    "    frequency = np.empty(int(max_a))\n",
    "\n",
    "    for i in range(int(max_a)):\n",
    "        print(\".\", end=\"\", flush=True)\n",
    "        mask = (actual_ints == i)\n",
    "        \n",
    "        frequency[i] = np.count_nonzero(mask)\n",
    "        \n",
    "        for j in range(1, rows+1):\n",
    "            accuracy, drift = percent_in_x_percent(predict[mask], actual[mask], j * 10)\n",
    "            accuracies_table[j-1,i] = accuracy\n",
    "            drift_table[j-1, i] = drift\n",
    "\n",
    "    return accuracies_table, frequency, drift_table\n",
    "\n",
    "def show_accuracy_minutes(predict, actual, title):\n",
    "    results, frequency, drift = make_accuracy_matrix_minutes(predict, actual)\n",
    "    \n",
    "    for i in range(results.shape[0]):\n",
    "        plt.plot(results[i,:], label=f\"{(i+1)*10}%\")\n",
    "        \n",
    "        \n",
    "    plt.xlabel(\"minutes ahead\")\n",
    "    plt.ylabel(\"percentage within threshold\")\n",
    "    plt.legend()\n",
    "    plt.title(title)\n",
    "    plt.xlim(0,20)\n",
    "    plt.ylim(0,100)\n",
    "    plt.gca().yaxis.grid(True, linewidth=\"0.2\")\n",
    "    \n",
    "    ax = plt.gca()\n",
    "    \n",
    "    ax2 = ax.twinx()\n",
    "    ax2.plot(drift[0,:], label=\"fraction over\", linestyle=\":\")\n",
    "    ax2.set_ylim(0,1)\n",
    "   \n",
    "    plt.show()"
   ]
  },
  {
   "cell_type": "code",
   "execution_count": 38,
   "metadata": {},
   "outputs": [],
   "source": [
    "# From: https://stackoverflow.com/questions/51597849/padding-a-numpy-array-with-offsets-for-each-data-column\n",
    "\n",
    "def create_padded_array(a, row_start, n_rows):\n",
    "    r = np.arange(n_rows)[:,None]\n",
    "    row_start = np.asarray(row_start)\n",
    "    mask = (r >= row_start) & (r < row_start+a.shape[0])\n",
    "\n",
    "    out = np.zeros(mask.shape, dtype=a.dtype)\n",
    "    out[:] = np.nan\n",
    "    out.T[mask.T] = a.ravel('F')\n",
    "    return out   \n",
    "\n",
    "def create_triangle(input_array, max_width=70):\n",
    "    \n",
    "    filled_values = np.empty((input_array.shape[0],70)).astype(float)\n",
    "    \n",
    "    filled_values[:] = input_array[:,None]\n",
    "    \n",
    "    return create_padded_array(filled_values, list(range(70)), input_array.shape[0]+71)[:input_array.shape[0],:]\n",
    "    \n",
    "    \n",
    "    "
   ]
  },
  {
   "cell_type": "code",
   "execution_count": 72,
   "metadata": {},
   "outputs": [],
   "source": [
    "def calc_baseline_and_actual(calc_mask):\n",
    "    \n",
    "    if len(calc_mask) == len(data_mask):\n",
    "        se_min = se[data_mask].copy()\n",
    "    else:\n",
    "        se_min = se[data_mask][calc_mask].copy()\n",
    "    \n",
    "    baseline_array = np.empty((se_min.shape[0],70)).astype(float)\n",
    "    baseline_array[:] = np.nan\n",
    "    \n",
    "    actual_array = np.empty((se_min.shape[0],70)).astype(float)\n",
    "    actual_array[:] = np.nan\n",
    "    \n",
    "    se_min = se_min.reset_index(drop=True)\n",
    "    \n",
    "    runs = se_min.groupby(['date','workid'])\n",
    "    \n",
    "    actual_index = se_min.columns.get_loc(\"segment_duration\")\n",
    "    baseline_index = se_min.columns.get_loc(\"mean_durations_by_segment_code_and_hour_and_day\")\n",
    "\n",
    "    for name, run in runs:\n",
    "        run = run.sort_values(\"actualArrival\")\n",
    "        \n",
    "        baseline_array[run.index,:] = create_triangle(run.iloc[:, baseline_index])\n",
    "        actual_array[run.index,:] = create_triangle(run.iloc[:, actual_index])\n",
    "\n",
    "#         run_length = len(run)\n",
    "\n",
    "#         for i in range(min([run_length, 70])):\n",
    " \n",
    "#             baseline_array[run.iloc[i:].index,i] = run.iloc[:run_length-i, baseline_index]\n",
    "\n",
    "#             actual_array[run.iloc[i:].index,i] = run.iloc[:run_length-i, actual_index]\n",
    "            \n",
    "    baseline_array_cum = np.cumsum(baseline_array, axis=1)\n",
    "    actual_array_cum = np.cumsum(actual_array, axis=1)\n",
    "    \n",
    "    actual_array_cum = np.clip(actual_array_cum, 0, 2*60*60)\n",
    "    \n",
    "    first_20mins_mask = actual_array_cum < 20*60\n",
    "    \n",
    "    baseline_pass_count = np.count_nonzero((baseline_array_cum[first_20mins_mask] < actual_array_cum[first_20mins_mask] * 1.1) & \\\n",
    "                    (baseline_array_cum[first_20mins_mask] > actual_array_cum[first_20mins_mask] * 0.9))\n",
    "    \n",
    "    pass_fraction = baseline_pass_count/np.count_nonzero(first_20mins_mask)\n",
    "    \n",
    "    return baseline_array_cum, actual_array_cum, baseline_pass_count, pass_fraction\n"
   ]
  },
  {
   "cell_type": "code",
   "execution_count": null,
   "metadata": {},
   "outputs": [],
   "source": [
    "baseline_array_cum, actual_array_cum, baseline_pass_count = calc_baseline_and_actual(data_mask)"
   ]
  },
  {
   "cell_type": "code",
   "execution_count": 47,
   "metadata": {},
   "outputs": [],
   "source": [
    "def calc_prediction_cum_journeys(column_name=None, offsets=None, baseline_array_cum=test_baseline_array_cum, actual_array_cum=test_actual_array_cum, calc_mask=data_mask):\n",
    "    \n",
    "    if len(calc_mask) == len(data_mask):\n",
    "        se_min = se[data_mask].copy()\n",
    "    else:\n",
    "        se_min = se[data_mask][calc_mask].copy()\n",
    "    \n",
    "    if column_name is not None:\n",
    "        se_min['prediction'] = se_min['mean_durations_by_segment_code_and_hour_and_day'] * (1 + (se_min[column_name]/100))\n",
    "    \n",
    "    if offsets is not None:\n",
    "        se_min['prediction'] = se_min['mean_durations_by_segment_code_and_hour_and_day'] * (1 + (offsets.squeeze()/100))\n",
    "    \n",
    "    predict_array = np.empty((se_min.shape[0],70)).astype(float)\n",
    "    predict_array[:] = np.nan\n",
    "    \n",
    "    se_min = se_min.reset_index(drop=True)\n",
    "    \n",
    "    runs = se_min.groupby(['date','workid'])\n",
    "    \n",
    "    prediction_index = se_min.columns.get_loc(\"prediction\")\n",
    "    \n",
    "    for name, run in runs:\n",
    "        run = run.sort_values(\"actualArrival\")\n",
    "        \n",
    "        predict_array[run.index,:] = create_triangle(run.iloc[:, prediction_index])\n",
    "\n",
    "#         run_length = len(run)\n",
    "\n",
    "#         for i in range(min([run_length, 70])):\n",
    "\n",
    "#             predict_array[run.iloc[i:].index,i] = run.iloc[:run_length-i, prediction_index]\n",
    "            \n",
    "    predict_array_cum = np.cumsum(predict_array, axis=1)\n",
    "    \n",
    "    first_20mins_mask = actual_array_cum < 20*60\n",
    "    \n",
    "    baseline_pass_count = np.count_nonzero((baseline_array_cum[first_20mins_mask] < actual_array_cum[first_20mins_mask] * 1.1) & \\\n",
    "                    (baseline_array_cum[first_20mins_mask] > actual_array_cum[first_20mins_mask] * 0.9))\n",
    "    \n",
    "    \n",
    "    pass_count = np.count_nonzero((predict_array_cum[first_20mins_mask] < actual_array_cum[first_20mins_mask] * 1.1) & \\\n",
    "                    (predict_array_cum[first_20mins_mask] > actual_array_cum[first_20mins_mask] * 0.9))\n",
    "    \n",
    "    pass_fraction = pass_count/np.count_nonzero(first_20mins_mask)\n",
    "        \n",
    "    print(f\"Approximately {(pass_count - baseline_pass_count)/baseline_pass_count*100:0.2f}% improvment on baseline\")\n",
    "    \n",
    "    print(f\"Approximately {pass_fraction*100:0.2f}% are in 10%\")\n",
    "    \n",
    "    return predict_array_cum, pass_count, pass_fraction\n",
    "    "
   ]
  },
  {
   "cell_type": "code",
   "execution_count": null,
   "metadata": {},
   "outputs": [],
   "source": [
    "def full_test(slices, threshold, baseline_array_cum, actual_array_cum, column_name=None, axis=(1,2), means=means, counts=counts, data_mask):\n",
    "    try:\n",
    "        offsets, threshold_pass_fraction, mean_weights = calc_offsets(means, counts, slices, axis, column_name, threshold)\n",
    "    except ValueError:\n",
    "        print(\"Not enough values passed threshold\")\n",
    "        return [], 0, 0, 0, 0\n",
    "    \n",
    "    predict_array_cum, pass_count, pass_fraction = calc_prediction_cum_journeys(offsets=offsets, baseline_array_cum=baseline_array_cum, actual_array_cum=actual_array_cum, data_mask=data_mask)\n",
    "    \n",
    "    return predict_array_cum, pass_count, pass_fraction, threshold_pass_fraction, mean_weights\n"
   ]
  },
  {
   "cell_type": "code",
   "execution_count": null,
   "metadata": {},
   "outputs": [],
   "source": [
    "show_accuracy_minutes(baseline_array_cum, actual_array_cum, \"means\")"
   ]
  },
  {
   "cell_type": "code",
   "execution_count": null,
   "metadata": {},
   "outputs": [],
   "source": [
    "offsets, threshold_pass_fraction, mean_weights = calc_offsets(means, counts, calc_slice(1,8), (1,2), None, 40)\n",
    "\n",
    "predict_array_dense2_cum, _, pass_fraction = calc_prediction_cum_journeys(offsets=offsets, baseline_array_cum=baseline_array_cum, actual_array_cum=actual_array_cum, number_of_rows=data_size)\n",
    "\n",
    "show_accuracy_minutes(predict_array_dense2_cum, actual_array_cum, \"means\")\n",
    "\n"
   ]
  },
  {
   "cell_type": "code",
   "execution_count": null,
   "metadata": {},
   "outputs": [],
   "source": [
    "offsets, threshold_pass_fraction, mean_weights = calc_offsets(means, counts, calc_slice(2,10), (1,2), None, 40)\n",
    "\n",
    "predict_array_dense_cum, _, pass_fraction = calc_prediction_cum_journeys(offsets=offsets, baseline_array_cum=baseline_array_cum, actual_array_cum=actual_array_cum, number_of_rows=data_size)\n",
    "\n",
    "show_accuracy_minutes(predict_array_dense_cum, actual_array_cum, \"means\")\n"
   ]
  },
  {
   "cell_type": "code",
   "execution_count": null,
   "metadata": {},
   "outputs": [],
   "source": [
    "offsets, threshold_pass_fraction, mean_weights = calc_offsets(means, counts, calc_slice(8,15), (1,2), None, 60)\n",
    "\n",
    "predict_array_sparse_cum, _, pass_fraction = calc_prediction_cum_journeys(offsets=offsets, baseline_array_cum=baseline_array_cum, actual_array_cum=actual_array_cum, number_of_rows=500000)\n",
    "\n",
    "show_accuracy_minutes(predict_array_sparse_cum, actual_array_cum, \"means\")\n",
    "\n"
   ]
  },
  {
   "cell_type": "code",
   "execution_count": null,
   "metadata": {},
   "outputs": [],
   "source": [
    "offsets, threshold_pass_fraction, mean_weights = calc_offsets(means, counts, calc_slice(10,20), (1,2), None, 40)\n",
    "\n",
    "predict_array_sparse2_cum, _, pass_fraction = calc_prediction_cum_journeys(offsets=offsets, baseline_array_cum=baseline_array_cum, actual_array_cum=actual_array_cum, number_of_rows=500000)\n",
    "\n",
    "show_accuracy_minutes(predict_array_sparse2_cum, actual_array_cum, \"means\")\n"
   ]
  },
  {
   "cell_type": "code",
   "execution_count": null,
   "metadata": {},
   "outputs": [],
   "source": [
    "# dense_mask = (bus_counts>40)\n",
    "\n",
    "# plt.plot(make_accuracy_matrix_minutes(baseline_array_cum[~dense_mask, :], actual_array_cum[~dense_mask, :])[0][0,:], label=\"mean sparse\")\n",
    "# plt.plot(make_accuracy_matrix_minutes(predict_array_cum[~dense_mask, :], actual_array_cum[~dense_mask, :])[0][0,:], label=\"predict sparse\")\n",
    "# plt.plot(make_accuracy_matrix_minutes(baseline_array_cum[dense_mask, :], actual_array_cum[dense_mask, :])[0][0,:], label=\"mean dense\")\n",
    "# plt.plot(make_accuracy_matrix_minutes(predict_array_cum[dense_mask, :], actual_array_cum[dense_mask, :])[0][0,:], label=\"predict dense\")\n",
    "\n",
    "\n",
    "# # plt.plot(results_enh7[0,:], label=\"mean_enh7\")\n",
    "# # plt.plot(predict_array_cum[0,:], label=\"mean_enh_all\")\n",
    "# # plt.plot(with_15_90[0,:], label=\"with_15_90\")\n",
    "# # plt.plot(narrow_15_90[0,:], label=\"narrow_15_90\")\n",
    "# # plt.plot(narrow_15_90_t40[0,:], label=\"narrow_15_90_t40\")\n",
    "# # plt.plot(wide_15_45_t20[0,:], label=\"wide_15_45_t20\")\n",
    "\n",
    "# plt.legend()\n",
    "# plt.xlim(0,20)\n",
    "# plt.ylim(25,60)\n",
    "# plt.title(\"Percentage of predictions within 10%\")\n",
    "# plt.xlabel(\"minutes ahead\")\n",
    "# plt.ylabel(\"percent within 10%\")\n",
    "# plt.show()"
   ]
  },
  {
   "cell_type": "code",
   "execution_count": null,
   "metadata": {},
   "outputs": [],
   "source": [
    "first_20mins_mask = actual_array_cum < 20*60"
   ]
  },
  {
   "cell_type": "code",
   "execution_count": null,
   "metadata": {},
   "outputs": [],
   "source": [
    "percentages_baseline = []\n",
    "percentage_dense2_predict = []\n",
    "percentage_dense_predict = []\n",
    "percentage_sparse_predict = []\n",
    "percentage_sparse2_predict = []\n",
    "percentage_ave_predict = []\n",
    "\n",
    "freqeuncy = []\n",
    "\n",
    "x = np.array(range(27))*10\n",
    "\n",
    "for i in x:\n",
    "\n",
    "    if forwards: \n",
    "        full_mask = first_20mins_mask & (bus_counts>i)[:data_size,None] & (bus_counts<i+10)[:data_size,None]\n",
    "    else:\n",
    "        full_mask = first_20mins_mask & (bus_counts>i)[-data_size:,None] & (bus_counts<i+10)[-data_size:,None]\n",
    "    \n",
    "    freqeuncy.append(np.count_nonzero(full_mask))\n",
    "    \n",
    "    percentages_baseline.append(np.count_nonzero((baseline_array_cum[full_mask] < actual_array_cum[full_mask] * 1.1) & \\\n",
    "                    (baseline_array_cum[full_mask] > actual_array_cum[full_mask] * 0.9))/np.count_nonzero(full_mask)*100)\n",
    "    \n",
    "    percentage_dense2_predict.append(np.count_nonzero((predict_array_dense2_cum[full_mask] < actual_array_cum[full_mask] * 1.1) & \\\n",
    "                    (predict_array_dense2_cum[full_mask] > actual_array_cum[full_mask] * 0.9))/np.count_nonzero(full_mask)*100)\n",
    "        \n",
    "    percentage_dense_predict.append(np.count_nonzero((predict_array_dense_cum[full_mask] < actual_array_cum[full_mask] * 1.1) & \\\n",
    "                    (predict_array_dense_cum[full_mask] > actual_array_cum[full_mask] * 0.9))/np.count_nonzero(full_mask)*100)\n",
    "    \n",
    "    percentage_sparse_predict.append(np.count_nonzero((predict_array_sparse_cum[full_mask] < actual_array_cum[full_mask] * 1.1) & \\\n",
    "                    (predict_array_sparse_cum[full_mask] > actual_array_cum[full_mask] * 0.9))/np.count_nonzero(full_mask)*100)\n",
    "    \n",
    "    percentage_sparse2_predict.append(np.count_nonzero((predict_array_sparse2_cum[full_mask] < actual_array_cum[full_mask] * 1.1) & \\\n",
    "                    (predict_array_sparse2_cum[full_mask] > actual_array_cum[full_mask] * 0.9))/np.count_nonzero(full_mask)*100)\n",
    "    "
   ]
  },
  {
   "cell_type": "code",
   "execution_count": null,
   "metadata": {},
   "outputs": [],
   "source": [
    "percentage_dense_predict = np.array(percentage_dense_predict)\n",
    "percentage_dense2_predict = np.array(percentage_dense2_predict)\n",
    "percentages_baseline = np.array(percentages_baseline)\n",
    "percentage_sparse_predict = np.array(percentage_sparse_predict)\n",
    "percentage_sparse2_predict = np.array(percentage_sparse2_predict)\n",
    "\n",
    "\n",
    "# plt.plot(x, percentages_baseline, label=\"mean\")\n",
    "plt.plot(x, percentage_dense_predict-percentages_baseline, label=\"predict (d)\")\n",
    "plt.plot(x, percentage_dense2_predict-percentages_baseline, label=\"predict (v_d)\")\n",
    "plt.plot(x, percentage_sparse_predict-percentages_baseline, label=\"predict (s)\")\n",
    "plt.plot(x, percentage_sparse2_predict-percentages_baseline, label=\"predict (v_s)\", ls=\":\")\n",
    "plt.xlabel(\"Density of data points close to event\")\n",
    "plt.ylabel(\"Change in % of events within 10% of true\\nCompared to Baseline\")\n",
    "plt.legend(loc=1)\n",
    "# plt.ylim(35,47)\n",
    "\n",
    "ax = plt.gca()\n",
    "\n",
    "ax2 = ax.twinx()\n",
    " \n",
    "ax2.plot(x, freqeuncy, c=\"grey\", ls=\":\")\n",
    "ax2.set_ylabel(\"Frequency\")\n",
    "plt.title(\"How prediction accuracy varies with data density\\n(just using means)\")\n",
    "# plt.savefig(\"accuracy vs density_2m_forward.pdf\")\n",
    "plt.show()\n"
   ]
  },
  {
   "cell_type": "code",
   "execution_count": null,
   "metadata": {},
   "outputs": [],
   "source": []
  },
  {
   "cell_type": "code",
   "execution_count": null,
   "metadata": {},
   "outputs": [],
   "source": [
    "# baseline_array_cum, actual_array_cum, baseline_pass_count = calc_baseline_and_actual(500000)"
   ]
  },
  {
   "cell_type": "code",
   "execution_count": null,
   "metadata": {},
   "outputs": [],
   "source": [
    "# with open(\"post_noise_width_time_threshold_test3.csv\", \"w\") as f: \n",
    "#     f.write(\"width,time,threshold,threshold_pass_fraction,mean_weights,pass_count,pass_fraction\\n\")\n",
    "#     for width in range(0,12,2):\n",
    "#         for time in range(2,24,3):\n",
    "#             for threshold in [0,20,40,60,80,100,120,140,160,180,200,250,300]:\n",
    "#                 print(f\"w: {width}, t:20-{(time+3)*10}, t:{threshold}\")\n",
    "#     #             _, _, _, pass_count = full_test(np.s_[:,1:time+2,7-width:7+width+1], threshold, number_of_rows=50000)\n",
    "#                 predict_array_cum, pass_count, pass_fraction, threshold_pass_fraction, mean_weights = full_test(np.s_[:,2:time+3,11-width:11+width+1], threshold, baseline_array_cum, actual_array_cum, number_of_rows=500000)\n",
    "        \n",
    "#                 f.write(f\"{width},{(time+3)*10},{threshold},{threshold_pass_fraction},{mean_weights},{pass_count},{pass_fraction}\\n\")\n",
    "#                 f.flush()\n",
    "    \n",
    "            \n",
    "            "
   ]
  },
  {
   "cell_type": "code",
   "execution_count": null,
   "metadata": {},
   "outputs": [],
   "source": []
  }
 ],
 "metadata": {
  "kernelspec": {
   "display_name": "busses",
   "language": "python",
   "name": "busses"
  },
  "language_info": {
   "codemirror_mode": {
    "name": "ipython",
    "version": 3
   },
   "file_extension": ".py",
   "mimetype": "text/x-python",
   "name": "python",
   "nbconvert_exporter": "python",
   "pygments_lexer": "ipython3",
   "version": "3.7.1"
  }
 },
 "nbformat": 4,
 "nbformat_minor": 2
}
