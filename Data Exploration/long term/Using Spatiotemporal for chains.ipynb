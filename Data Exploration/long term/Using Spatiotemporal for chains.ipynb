{
 "cells": [
  {
   "cell_type": "code",
   "execution_count": 1,
   "metadata": {},
   "outputs": [],
   "source": [
    "import numpy as np\n",
    "import numpy.ma as ma\n",
    "import pandas as pd\n",
    "import datetime\n",
    "\n",
    "import matplotlib.pyplot as plt\n",
    "import matplotlib.colors as colors\n",
    "from matplotlib.ticker import MaxNLocator\n",
    "\n",
    "import feather\n",
    "\n",
    "from tqdm import tqdm_notebook as tqdm\n",
    "\n",
    "from tqdm import tqdm_pandas\n",
    "\n",
    "from scipy.sparse import csr_matrix\n",
    "from pandas.api.types import CategoricalDtype\n",
    "\n",
    "from multiprocessing import Pool\n",
    "\n",
    "from sklearn.metrics import mean_absolute_error\n",
    "from sklearn.metrics import mean_squared_error\n",
    "\n",
    "# import keras\n",
    "# from keras.preprocessing import sequence\n",
    "# from keras import layers, Input, Model\n",
    "# from keras.models import Sequential\n",
    "# from keras.layers import Flatten, Dense, Lambda, LSTM"
   ]
  },
  {
   "cell_type": "code",
   "execution_count": null,
   "metadata": {},
   "outputs": [],
   "source": []
  },
  {
   "cell_type": "markdown",
   "metadata": {},
   "source": [
    "## Loading and setting up the data"
   ]
  },
  {
   "cell_type": "code",
   "execution_count": 2,
   "metadata": {},
   "outputs": [],
   "source": [
    "se = feather.read_dataframe(\"../../data_files/B/once/75days/stop_events_with_geo_train_test_averages_prev_next_dwell.feather\")\n",
    "se = se.set_index(se.columns[0])"
   ]
  },
  {
   "cell_type": "code",
   "execution_count": 3,
   "metadata": {},
   "outputs": [],
   "source": [
    " # And now for just segments:\n",
    "se[\"diff_segment_and_mean_by_segment_code\"] = (\n",
    "    se[\"segment_duration\"]\n",
    "    - se[\"mean_durations_by_segment_code\"]\n",
    ")\n",
    "se[\"diff_segment_and_mean_by_segment_code_and_hour_and_day\"] = (\n",
    "    se[\"segment_duration\"]\n",
    "    - se[\"mean_durations_by_segment_code_and_hour_and_day\"]\n",
    ")\n",
    "\n",
    "se[\"diff_percent_segment_and_mean_by_segment_code\"] = (\n",
    "    se[\"diff_segment_and_mean_by_segment_code\"]\n",
    "    * 100\n",
    "    / se[\"mean_durations_by_segment_code\"]\n",
    ")\n",
    "\n",
    "se[\"diff_percent_segment_and_mean_by_segment_code_and_hour_and_day\"] = (\n",
    "    se[\"diff_segment_and_mean_by_segment_code_and_hour_and_day\"]\n",
    "    * 100\n",
    "    / se[\"mean_durations_by_segment_code_and_hour_and_day\"]\n",
    ")"
   ]
  },
  {
   "cell_type": "markdown",
   "metadata": {},
   "source": [
    "## Settings"
   ]
  },
  {
   "cell_type": "code",
   "execution_count": 28,
   "metadata": {},
   "outputs": [],
   "source": [
    "data_size = 2000000\n",
    "data_mask = np.zeros(se.shape[0]).astype(bool)\n",
    "\n",
    "data_mask[:data_size] = True\n",
    "\n",
    "train = False\n",
    "test = False\n",
    "\n",
    "if train:\n",
    "    data_mask = se['train']\n",
    "    \n",
    "if test: \n",
    "    data_mask = se['test']\n",
    "\n",
    "data_size = np.count_nonzero(data_mask)\n"
   ]
  },
  {
   "cell_type": "code",
   "execution_count": 29,
   "metadata": {},
   "outputs": [
    {
     "name": "stdout",
     "output_type": "stream",
     "text": [
      "2000000\n"
     ]
    }
   ],
   "source": [
    "print(data_size)"
   ]
  },
  {
   "cell_type": "code",
   "execution_count": 30,
   "metadata": {},
   "outputs": [],
   "source": [
    "test_matrix = np.load(f\"percentage_offsets_check.npy\").T"
   ]
  },
  {
   "cell_type": "code",
   "execution_count": 31,
   "metadata": {},
   "outputs": [
    {
     "data": {
      "text/plain": [
       "(3920087, 2)"
      ]
     },
     "execution_count": 31,
     "metadata": {},
     "output_type": "execute_result"
    }
   ],
   "source": [
    "test_matrix.shape"
   ]
  },
  {
   "cell_type": "code",
   "execution_count": 32,
   "metadata": {},
   "outputs": [
    {
     "data": {
      "text/plain": [
       "True"
      ]
     },
     "execution_count": 32,
     "metadata": {},
     "output_type": "execute_result"
    }
   ],
   "source": [
    "(test_matrix[:,0].astype(int)[500000:2000000] == se.index.values[500000:2000000]).all()"
   ]
  },
  {
   "cell_type": "code",
   "execution_count": 33,
   "metadata": {},
   "outputs": [
    {
     "data": {
      "text/plain": [
       "True"
      ]
     },
     "execution_count": 33,
     "metadata": {},
     "output_type": "execute_result"
    }
   ],
   "source": [
    "(test_matrix[data_mask,1] == se.loc[:,'diff_percent_segment_and_mean_by_segment_code_and_hour_and_day'][data_mask].values).all()\n"
   ]
  },
  {
   "cell_type": "code",
   "execution_count": 34,
   "metadata": {},
   "outputs": [],
   "source": [
    "# test_length = np.count_nonzero(se['test'])\n",
    "\n",
    "# test_mask = se['test']"
   ]
  },
  {
   "cell_type": "code",
   "execution_count": 35,
   "metadata": {},
   "outputs": [
    {
     "data": {
      "application/vnd.jupyter.widget-view+json": {
       "model_id": "42ca87889b054dd0b966b1d6fd5d1834",
       "version_major": 2,
       "version_minor": 0
      },
      "text/plain": [
       "HBox(children=(IntProgress(value=1, bar_style='info', max=1), HTML(value='')))"
      ]
     },
     "metadata": {},
     "output_type": "display_data"
    },
    {
     "name": "stdout",
     "output_type": "stream",
     "text": [
      "\n"
     ]
    }
   ],
   "source": [
    "# 1st dimention is number of data points\n",
    "# 2nd dimention is going back in time (in 10 min increments)\n",
    "# 3rd dimention is prev-next segments\n",
    "\n",
    "width_array = [\n",
    "             'next_segment_code_11',\n",
    "             'next_segment_code_10',\n",
    "             'next_segment_code_9',\n",
    "             'next_segment_code_8',\n",
    "             'next_segment_code_7',\n",
    "             'next_segment_code_6',\n",
    "             'next_segment_code_5', \n",
    "             'next_segment_code_4', \n",
    "             'next_segment_code_3', \n",
    "             'next_segment_code_2', \n",
    "             'next_segment_code_1', \n",
    "             'segment_code',\n",
    "             'prev_segment_code_1',\n",
    "             'prev_segment_code_2',\n",
    "             'prev_segment_code_3',\n",
    "             'prev_segment_code_4',\n",
    "             'prev_segment_code_5',\n",
    "             'prev_segment_code_6',\n",
    "             'prev_segment_code_7',\n",
    "             'prev_segment_code_8',\n",
    "             'prev_segment_code_9',\n",
    "             'prev_segment_code_10',\n",
    "             'prev_segment_code_11',\n",
    "            ]\n",
    "\n",
    "means = np.empty((data_size, 25, len(width_array))).astype(float)\n",
    "counts = np.empty((data_size, 25, len(width_array))).astype(int)\n",
    "\n",
    "index = np.empty((data_size)).astype(int)\n",
    "\n",
    "for idx, code in enumerate(tqdm(width_array)):\n",
    "    \n",
    "    matrix = np.load(f\"mtx_{code}_last_25_10_2nd.npy\")\n",
    "    \n",
    "#     matrix = matrix[se.index.values[:np.argmax(se.index.values>=3920086)],:]\n",
    "    \n",
    "\n",
    "    means[:,:,idx] = matrix[data_mask,1:26].astype(float)\n",
    "    counts[:,:,idx] = matrix[data_mask,26:].astype(int)\n",
    "    \n",
    "    if idx == 0:\n",
    "        index = matrix[data_mask,0].astype(int)\n",
    "            \n",
    "#     print(\".\", end=\"\", flush=True)\n",
    "        \n",
    "  \n",
    "    "
   ]
  },
  {
   "cell_type": "code",
   "execution_count": null,
   "metadata": {},
   "outputs": [],
   "source": [
    "# se = se[:np.argmax(se.index.values>=3920086)]"
   ]
  },
  {
   "cell_type": "code",
   "execution_count": 36,
   "metadata": {},
   "outputs": [
    {
     "name": "stdout",
     "output_type": "stream",
     "text": [
      "True\n"
     ]
    }
   ],
   "source": [
    "\n",
    "print((index == se.index[data_mask]).all())\n"
   ]
  },
  {
   "cell_type": "code",
   "execution_count": 37,
   "metadata": {},
   "outputs": [],
   "source": [
    "def calc_slice(width, time):\n",
    "    centre = int(len(width_array)/2) + 1\n",
    "    return np.s_[:,2:time+3,centre-width:centre+width+1]\n"
   ]
  },
  {
   "cell_type": "code",
   "execution_count": 38,
   "metadata": {},
   "outputs": [],
   "source": [
    "def calc_offsets(means, counts, slices, axis, column_name, mask_threshold):\n",
    "    \n",
    "    mask = np.sum(counts[slices], axis=axis) > mask_threshold\n",
    "    \n",
    "    threshold_pass_fraction = np.count_nonzero(mask)/len(mask)\n",
    "    \n",
    "    if  threshold_pass_fraction < 0.25:\n",
    "        raise ValueError('not enough data passing threshold')\n",
    "    \n",
    "    print(f\"Approximately {threshold_pass_fraction*100:0.2f}% pass the threshold\")\n",
    "    \n",
    "    data = means[slices][mask]\n",
    "    \n",
    "    weights = counts[slices][mask]\n",
    "    \n",
    "    masked_data = np.ma.masked_array(data, np.isnan(data))\n",
    "    \n",
    "    if column_name is not None:    \n",
    "        se[column_name] = 0\n",
    "\n",
    "        se.loc[mask, column_name] = np.ma.average(masked_data, axis=axis, weights=weights)\n",
    "        \n",
    "        return\n",
    "    \n",
    "    offsets = np.zeros(counts.shape[0])\n",
    "    \n",
    "    offsets[mask] = np.ma.average(masked_data, axis=axis, weights=weights)\n",
    "    \n",
    "    return offsets, threshold_pass_fraction, np.mean(np.sum(weights, axis=axis))"
   ]
  },
  {
   "cell_type": "code",
   "execution_count": 39,
   "metadata": {},
   "outputs": [
    {
     "data": {
      "image/png": "[encoded data removed]",
      "text/plain": [
       "<Figure size 432x288 with 1 Axes>"
      ]
     },
     "metadata": {
      "needs_background": "light"
     },
     "output_type": "display_data"
    }
   ],
   "source": [
    "plt.hist(se['diff_percent_segment_and_mean_by_segment_code_and_hour_and_day'], bins=100, range=(-150,150));\n",
    "# plt.hist(se['full_mean_minus_recent_15'], bins=100, range=(-150,150), alpha=0.5);"
   ]
  },
  {
   "cell_type": "code",
   "execution_count": 40,
   "metadata": {},
   "outputs": [
    {
     "name": "stdout",
     "output_type": "stream",
     "text": [
      "Fraction over 40: 0.6075215\n"
     ]
    }
   ],
   "source": [
    "#Width of 2 and time of 100 with a threshold of 40\n",
    "\n",
    "calc_slice(2,10)\n",
    "\n",
    "bus_counts = np.sum(counts[calc_slice(2,10)], axis=(1,2))\n",
    "\n",
    "dense_mask = (bus_counts>=40)\n",
    "\n",
    "print(f\"Fraction over 40: {(bus_counts>=40).sum()/bus_counts.shape[0]}\")"
   ]
  },
  {
   "cell_type": "code",
   "execution_count": 41,
   "metadata": {},
   "outputs": [
    {
     "data": {
      "text/plain": [
       "Text(0.5, 1.0, 'Number of data points for last 220 mins (minus the most recent 20)\\nincl 2 prev & 2 next segments')"
      ]
     },
     "execution_count": 41,
     "metadata": {},
     "output_type": "execute_result"
    },
    {
     "data": {
      "image/png": "[encoded data removed]",
      "text/plain": [
       "<Figure size 432x288 with 1 Axes>"
      ]
     },
     "metadata": {
      "needs_background": "light"
     },
     "output_type": "display_data"
    }
   ],
   "source": [
    "plt.hist(bus_counts, bins=20, range=(0,200), density=True);\n",
    "plt.xlabel(\"Number of buses\")\n",
    "plt.ylabel(\"Fraction\")\n",
    "plt.title(\"Number of data points for last 220 mins (minus the most recent 20)\\nincl 2 prev & 2 next segments\")"
   ]
  },
  {
   "cell_type": "code",
   "execution_count": 42,
   "metadata": {},
   "outputs": [
    {
     "name": "stdout",
     "output_type": "stream",
     "text": [
      "Approximately 29.54% pass the threshold\n",
      "Approximately 59.76% pass the threshold\n",
      "Approximately 88.30% pass the threshold\n",
      "Approximately 94.43% pass the threshold\n"
     ]
    }
   ],
   "source": [
    "offsets_dense2, _, mean_weights_dense2 = calc_offsets(means, counts, calc_slice(1,8), (1,2), None, 40)\n",
    "\n",
    "offsets_dense, _, mean_weights_dense = calc_offsets(means, counts, calc_slice(2,10), (1,2), None, 40)\n",
    "\n",
    "offsets_sparse, _, mean_weights_sparse = calc_offsets(means, counts, calc_slice(8,15), (1,2), None, 60)\n",
    "\n",
    "offsets_sparse2, _, mean_weights_sparse2 = calc_offsets(means, counts, calc_slice(10,20), (1,2), None, 40)\n"
   ]
  },
  {
   "cell_type": "code",
   "execution_count": 43,
   "metadata": {},
   "outputs": [
    {
     "name": "stdout",
     "output_type": "stream",
     "text": [
      "MAE dense2: 29.591291095971297\n",
      "MAE dense: 29.658475353480625\n",
      "MAE sparse: 29.53667499699875\n",
      "MAE sparse2: 29.49913864906077\n"
     ]
    }
   ],
   "source": [
    "target = se.loc[data_mask, 'diff_percent_segment_and_mean_by_segment_code_and_hour_and_day']\n",
    "\n",
    "print(f\"MAE dense2: {mean_absolute_error(target, offsets_dense2)}\")\n",
    "      \n",
    "print(f\"MAE dense: {mean_absolute_error(target, offsets_dense)}\")\n",
    "            \n",
    "print(f\"MAE sparse: {mean_absolute_error(target, offsets_sparse)}\")\n",
    "      \n",
    "print(f\"MAE sparse2: {mean_absolute_error(target, offsets_sparse2)}\")\n",
    "      \n",
    "      "
   ]
  },
  {
   "cell_type": "code",
   "execution_count": 44,
   "metadata": {},
   "outputs": [
    {
     "name": "stdout",
     "output_type": "stream",
     "text": [
      "RMSE dense2: 54.0630986979198\n",
      "RMSE dense: 54.13390821426494\n",
      "RMSE sparse: 54.03049272509945\n",
      "RMSE sparse2: 54.01494588820941\n"
     ]
    }
   ],
   "source": [
    "target = se.loc[data_mask, 'diff_percent_segment_and_mean_by_segment_code_and_hour_and_day']\n",
    "\n",
    "print(f\"RMSE dense2: {np.sqrt(mean_squared_error(target, offsets_dense2))}\")\n",
    "      \n",
    "print(f\"RMSE dense: {np.sqrt(mean_squared_error(target, offsets_dense))}\")\n",
    "            \n",
    "print(f\"RMSE sparse: {np.sqrt(mean_squared_error(target, offsets_sparse))}\")\n",
    "      \n",
    "print(f\"RMSE sparse2: {np.sqrt(mean_squared_error(target, offsets_sparse2))}\")\n",
    "      \n",
    "      "
   ]
  },
  {
   "cell_type": "code",
   "execution_count": 45,
   "metadata": {},
   "outputs": [],
   "source": [
    "MAE_baseline = []\n",
    "MAE_dense2_predict = []\n",
    "MAE_dense_predict = []\n",
    "MAE_sparse_predict = []\n",
    "MAE_sparse2_predict = []\n",
    "\n",
    "RMSE_baseline = []\n",
    "RMSE_dense2_predict = []\n",
    "RMSE_dense_predict = []\n",
    "RMSE_sparse_predict = []\n",
    "RMSE_sparse2_predict = []\n",
    "\n",
    "\n",
    "\n",
    "freqeuncy = []\n",
    "\n",
    "x = np.array(range(30))*10\n",
    "\n",
    "target = se.loc[data_mask, 'diff_percent_segment_and_mean_by_segment_code_and_hour_and_day'].values\n",
    "baseline = np.zeros(data_size)\n",
    "\n",
    "for i in x:\n",
    "\n",
    "\n",
    "    full_mask = (bus_counts>i) & (bus_counts<i+10)\n",
    "    \n",
    "    freqeuncy.append(np.count_nonzero(full_mask))\n",
    "    \n",
    "    MAE_baseline.append(mean_absolute_error(target[full_mask], baseline[full_mask]))\n",
    "    \n",
    "    MAE_dense2_predict.append(mean_absolute_error(target[full_mask], offsets_dense2[full_mask]))\n",
    "        \n",
    "    MAE_dense_predict.append(mean_absolute_error(target[full_mask], offsets_dense[full_mask]))\n",
    "    \n",
    "    MAE_sparse_predict.append(mean_absolute_error(target[full_mask], offsets_sparse[full_mask]))\n",
    "    \n",
    "    MAE_sparse2_predict.append(mean_absolute_error(target[full_mask], offsets_sparse2[full_mask]))\n",
    "    \n",
    "    RMSE_baseline.append(np.sqrt(mean_squared_error(target[full_mask], baseline[full_mask])))\n",
    "    \n",
    "    RMSE_dense2_predict.append(np.sqrt(mean_squared_error(target[full_mask], offsets_dense2[full_mask])))\n",
    "        \n",
    "    RMSE_dense_predict.append(np.sqrt(mean_squared_error(target[full_mask], offsets_dense[full_mask])))\n",
    "    \n",
    "    RMSE_sparse_predict.append(np.sqrt(mean_squared_error(target[full_mask], offsets_sparse[full_mask])))\n",
    "    \n",
    "    RMSE_sparse2_predict.append(np.sqrt(mean_squared_error(target[full_mask], offsets_sparse2[full_mask])))\n",
    "    "
   ]
  },
  {
   "cell_type": "code",
   "execution_count": 46,
   "metadata": {},
   "outputs": [
    {
     "data": {
      "image/png": "[encoded data removed]",
      "text/plain": [
       "<Figure size 432x288 with 2 Axes>"
      ]
     },
     "metadata": {
      "needs_background": "light"
     },
     "output_type": "display_data"
    }
   ],
   "source": [
    "MAE_dense_predict = np.array(MAE_dense_predict)\n",
    "MAE_dense2_predict = np.array(MAE_dense2_predict)\n",
    "MAE_baseline = np.array(MAE_baseline)\n",
    "MAE_sparse_predict = np.array(MAE_sparse_predict)\n",
    "MAE_sparse2_predict = np.array(MAE_sparse2_predict)\n",
    "\n",
    "\n",
    "# plt.plot(x, percentages_baseline, label=\"baseline\")\n",
    "# plt.plot(x, MAE_dense_predict-MAE_baseline, label=\"predict (d)\")\n",
    "plt.plot(x, MAE_dense2_predict-MAE_baseline, label=\"predict (v_d)\")\n",
    "# plt.plot(x, MAE_sparse_predict-MAE_baseline, label=\"predict (s)\")\n",
    "plt.plot(x, MAE_sparse2_predict-MAE_baseline, label=\"predict (v_s)\", ls=\":\")\n",
    "plt.xlabel(\"Density of data points close to event\")\n",
    "plt.ylabel(\"Change in MAE of events compared to baseline\")\n",
    "plt.legend(loc=1)\n",
    "# plt.ylim(35,47)\n",
    "\n",
    "ax = plt.gca()\n",
    "\n",
    "ax2 = ax.twinx()\n",
    " \n",
    "ax2.plot(x, freqeuncy, c=\"grey\", ls=\":\")\n",
    "# ax2.set_yscale(\"log\")\n",
    "ax2.set_ylabel(\"Frequency\")\n",
    "plt.title(\"How prediction accuracy varies with data density\\n(just using means)\")\n",
    "# plt.savefig(\"accuracy vs density_2m_forward.pdf\")\n",
    "plt.show()\n",
    "\n"
   ]
  },
  {
   "cell_type": "code",
   "execution_count": 47,
   "metadata": {},
   "outputs": [
    {
     "data": {
      "image/png": "[encoded data removed]",
      "text/plain": [
       "<Figure size 432x288 with 2 Axes>"
      ]
     },
     "metadata": {
      "needs_background": "light"
     },
     "output_type": "display_data"
    }
   ],
   "source": [
    "RMSE_dense_predict = np.array(RMSE_dense_predict)\n",
    "RMSE_dense2_predict = np.array(RMSE_dense2_predict)\n",
    "RMSE_baseline = np.array(RMSE_baseline)\n",
    "RMSE_sparse_predict = np.array(RMSE_sparse_predict)\n",
    "RMSE_sparse2_predict = np.array(RMSE_sparse2_predict)\n",
    "\n",
    "\n",
    "# plt.plot(x, percentages_baseline, label=\"mean\")\n",
    "plt.plot(x, RMSE_dense_predict-RMSE_baseline, label=\"predict (d)\")\n",
    "# plt.plot(x, RMSE_dense2_predict-RMSE_baseline, label=\"predict (v_d)\")\n",
    "plt.plot(x, RMSE_sparse_predict-RMSE_baseline, label=\"predict (s)\")\n",
    "# plt.plot(x, RMSE_sparse2_predict-RMSE_baseline, label=\"predict (v_s)\", ls=\":\")\n",
    "plt.xlabel(\"Density of data points close to event\")\n",
    "plt.ylabel(\"Change in RMSE of events compared to baseline\")\n",
    "plt.legend(loc=1)\n",
    "# plt.ylim(35,47)\n",
    "\n",
    "ax = plt.gca()\n",
    "\n",
    "ax2 = ax.twinx()\n",
    " \n",
    "ax2.plot(x, freqeuncy, c=\"grey\", ls=\":\")\n",
    "ax2.set_ylabel(\"Frequency\")\n",
    "plt.title(\"How prediction accuracy varies with data density\\n(just using means)\")\n",
    "# plt.savefig(\"accuracy vs density_2m_forward.pdf\")\n",
    "plt.show()\n",
    "\n"
   ]
  },
  {
   "cell_type": "code",
   "execution_count": null,
   "metadata": {},
   "outputs": [],
   "source": []
  },
  {
   "cell_type": "code",
   "execution_count": null,
   "metadata": {},
   "outputs": [],
   "source": []
  },
  {
   "cell_type": "code",
   "execution_count": null,
   "metadata": {},
   "outputs": [],
   "source": []
  },
  {
   "cell_type": "code",
   "execution_count": null,
   "metadata": {},
   "outputs": [],
   "source": [
    "def percent_in_x_percent(predict, actual, threshold):\n",
    "    \n",
    "    if np.count_nonzero(~np.isnan(actual)) == 0:\n",
    "        return 0, 0\n",
    "    \n",
    "    threshold = threshold/100\n",
    "    \n",
    "    mask = (~np.isnan(predict) & ~np.isnan(actual))\n",
    "    \n",
    "    pass_count = np.count_nonzero((predict[mask] < actual[mask] * (1 + threshold)) & (predict[mask] > actual[mask] * (1-threshold)))\n",
    "    \n",
    "    over_count = np.count_nonzero(predict[mask] > actual[mask] * (1+threshold))\n",
    "    \n",
    "    under_count = np.count_nonzero(predict[mask] < actual[mask] * (1-threshold))\n",
    "    \n",
    "    pass_percent = pass_count/np.count_nonzero(mask) * 100\n",
    "    \n",
    "    if over_count + under_count == 0:\n",
    "        drift = 0.5\n",
    "    else:\n",
    "        drift = over_count / (over_count + under_count)\n",
    "    \n",
    "    return pass_percent, drift\n",
    "\n",
    "def make_accuracy_matrix_minutes(predict, actual, max_threshold = 50):\n",
    "\n",
    "    actual_ints = np.array(actual/60).astype(int)\n",
    "    \n",
    "    rows = int(max_threshold/10)\n",
    "    \n",
    "    max_a = np.nanmax(actual)/60\n",
    "\n",
    "    accuracies_table = np.empty((rows, int(max_a)))\n",
    "    drift_table = np.empty((rows, int(max_a)))\n",
    "    frequency = np.empty(int(max_a))\n",
    "\n",
    "    for i in range(int(max_a)):\n",
    "        print(\".\", end=\"\", flush=True)\n",
    "        mask = (actual_ints == i)\n",
    "        \n",
    "        frequency[i] = np.count_nonzero(mask)\n",
    "        \n",
    "        for j in range(1, rows+1):\n",
    "            accuracy, drift = percent_in_x_percent(predict[mask], actual[mask], j * 10)\n",
    "            accuracies_table[j-1,i] = accuracy\n",
    "            drift_table[j-1, i] = drift\n",
    "\n",
    "    return accuracies_table, frequency, drift_table\n",
    "\n",
    "def show_accuracy_minutes(predict, actual, title):\n",
    "    results, frequency, drift = make_accuracy_matrix_minutes(predict, actual)\n",
    "    \n",
    "    for i in range(results.shape[0]):\n",
    "        plt.plot(results[i,:], label=f\"{(i+1)*10}%\")\n",
    "        \n",
    "        \n",
    "    plt.xlabel(\"minutes ahead\")\n",
    "    plt.ylabel(\"percentage within threshold\")\n",
    "    plt.legend()\n",
    "    plt.title(title)\n",
    "    plt.xlim(0,20)\n",
    "    plt.ylim(0,100)\n",
    "    plt.gca().yaxis.grid(True, linewidth=\"0.2\")\n",
    "    \n",
    "    ax = plt.gca()\n",
    "    \n",
    "    ax2 = ax.twinx()\n",
    "    ax2.plot(drift[0,:], label=\"fraction over\", linestyle=\":\")\n",
    "    ax2.set_ylim(0,1)\n",
    "   \n",
    "    plt.show()"
   ]
  },
  {
   "cell_type": "code",
   "execution_count": null,
   "metadata": {},
   "outputs": [],
   "source": [
    "# From: https://stackoverflow.com/questions/51597849/padding-a-numpy-array-with-offsets-for-each-data-column\n",
    "\n",
    "def create_padded_array(a, row_start, n_rows):\n",
    "    r = np.arange(n_rows)[:,None]\n",
    "    row_start = np.asarray(row_start)\n",
    "    mask = (r >= row_start) & (r < row_start+a.shape[0])\n",
    "\n",
    "    out = np.zeros(mask.shape, dtype=a.dtype)\n",
    "    out[:] = np.nan\n",
    "    out.T[mask.T] = a.ravel('F')\n",
    "    return out   \n",
    "\n",
    "def create_triangle(input_array, max_width=70):\n",
    "    \n",
    "    filled_values = np.empty((input_array.shape[0],70)).astype(float)\n",
    "    \n",
    "    filled_values[:] = input_array[:,None]\n",
    "    \n",
    "    return create_padded_array(filled_values, list(range(70)), input_array.shape[0]+71)[:input_array.shape[0],:]\n",
    "    \n",
    "    \n",
    "    "
   ]
  },
  {
   "cell_type": "code",
   "execution_count": null,
   "metadata": {},
   "outputs": [],
   "source": [
    "def calc_baseline_and_actual(number_of_rows=10000):\n",
    "    \n",
    "#     se_min = se[se['test']][:number_of_rows].copy()\n",
    "\n",
    "    se_min = se[data_mask].copy()\n",
    "    \n",
    "    baseline_array = np.empty((se_min.shape[0],70)).astype(float)\n",
    "    baseline_array[:] = np.nan\n",
    "    \n",
    "    actual_array = np.empty((se_min.shape[0],70)).astype(float)\n",
    "    actual_array[:] = np.nan\n",
    "    \n",
    "    se_min = se_min.reset_index(drop=True)\n",
    "    \n",
    "    runs = se_min.groupby(['date','workid'])\n",
    "    \n",
    "    actual_index = se_min.columns.get_loc(\"segment_duration\")\n",
    "    baseline_index = se_min.columns.get_loc(\"mean_durations_by_segment_code_and_hour_and_day\")\n",
    "\n",
    "    for name, run in runs:\n",
    "        run = run.sort_values(\"actualArrival\")\n",
    "        \n",
    "        baseline_array[run.index,:] = create_triangle(run.iloc[:, baseline_index])\n",
    "        actual_array[run.index,:] = create_triangle(run.iloc[:, actual_index])\n",
    "\n",
    "#         run_length = len(run)\n",
    "\n",
    "#         for i in range(min([run_length, 70])):\n",
    " \n",
    "#             baseline_array[run.iloc[i:].index,i] = run.iloc[:run_length-i, baseline_index]\n",
    "\n",
    "#             actual_array[run.iloc[i:].index,i] = run.iloc[:run_length-i, actual_index]\n",
    "            \n",
    "    baseline_array_cum = np.cumsum(baseline_array, axis=1)\n",
    "    actual_array_cum = np.cumsum(actual_array, axis=1)\n",
    "    \n",
    "    actual_array_cum = np.clip(actual_array_cum, 0, 2*60*60)\n",
    "    \n",
    "    first_15mins_mask = actual_array_cum < 15*60\n",
    "    \n",
    "    baseline_pass_count = np.count_nonzero((baseline_array_cum[first_15mins_mask] < actual_array_cum[first_15mins_mask] * 1.1) & \\\n",
    "                    (baseline_array_cum[first_15mins_mask] > actual_array_cum[first_15mins_mask] * 0.9))\n",
    "    \n",
    "    return baseline_array_cum, actual_array_cum, baseline_pass_count\n"
   ]
  },
  {
   "cell_type": "code",
   "execution_count": null,
   "metadata": {},
   "outputs": [],
   "source": [
    "baseline_array_cum, actual_array_cum, baseline_pass_count = calc_baseline_and_actual(data_size)"
   ]
  },
  {
   "cell_type": "code",
   "execution_count": null,
   "metadata": {},
   "outputs": [],
   "source": [
    "def calc_prediction_cum_journeys(column_name=None, offsets=None, baseline_array_cum=baseline_array_cum, actual_array_cum=actual_array_cum, number_of_rows = 10000):\n",
    "    \n",
    "    se_min = se[data_mask].copy()\n",
    "    \n",
    "    if column_name is not None:\n",
    "        se_min['prediction'] = se_min['mean_durations_by_segment_code_and_hour_and_day'] * (1 + (se_min[column_name]/100))\n",
    "    \n",
    "    if offsets is not None:\n",
    "        if forwards:\n",
    "            se_min['prediction'] = se_min['mean_durations_by_segment_code_and_hour_and_day'] * (1 + (offsets[:data_size]/100))\n",
    "        else:\n",
    "            se_min['prediction'] = se_min['mean_durations_by_segment_code_and_hour_and_day'] * (1 + (offsets[-data_size:]/100))\n",
    "    \n",
    "    predict_array = np.empty((se_min.shape[0],70)).astype(float)\n",
    "    predict_array[:] = np.nan\n",
    "    \n",
    "    se_min = se_min.reset_index(drop=True)\n",
    "    \n",
    "    runs = se_min.groupby(['date','workid'])\n",
    "    \n",
    "    prediction_index = se_min.columns.get_loc(\"prediction\")\n",
    "    \n",
    "    for name, run in runs:\n",
    "        run = run.sort_values(\"actualArrival\")\n",
    "        \n",
    "        predict_array[run.index,:] = create_triangle(run.iloc[:, prediction_index])\n",
    "\n",
    "#         run_length = len(run)\n",
    "\n",
    "#         for i in range(min([run_length, 70])):\n",
    "\n",
    "#             predict_array[run.iloc[i:].index,i] = run.iloc[:run_length-i, prediction_index]\n",
    "            \n",
    "    predict_array_cum = np.cumsum(predict_array, axis=1)\n",
    "    \n",
    "    first_20mins_mask = actual_array_cum < 20*60\n",
    "    \n",
    "    baseline_pass_count = np.count_nonzero((baseline_array_cum[first_20mins_mask] < actual_array_cum[first_20mins_mask] * 1.1) & \\\n",
    "                    (baseline_array_cum[first_20mins_mask] > actual_array_cum[first_20mins_mask] * 0.9))\n",
    "    \n",
    "    \n",
    "    pass_count = np.count_nonzero((predict_array_cum[first_20mins_mask] < actual_array_cum[first_20mins_mask] * 1.1) & \\\n",
    "                    (predict_array_cum[first_20mins_mask] > actual_array_cum[first_20mins_mask] * 0.9))\n",
    "    \n",
    "    pass_fraction = pass_count/np.count_nonzero(first_20mins_mask)\n",
    "        \n",
    "    print(f\"Approximately {(pass_count - baseline_pass_count)/baseline_pass_count*100:0.2f}% improvment on baseline\")\n",
    "    \n",
    "    print(f\"Approximately {pass_fraction*100:0.2f}% are in 10%\")\n",
    "    \n",
    "    return predict_array_cum, pass_count, pass_fraction\n",
    "    "
   ]
  },
  {
   "cell_type": "code",
   "execution_count": null,
   "metadata": {},
   "outputs": [],
   "source": [
    "def full_test(slices, threshold, baseline_array_cum, actual_array_cum, column_name=None, axis=(1,2), means=means, counts=counts, number_of_rows=10000):\n",
    "    try:\n",
    "        offsets, threshold_pass_fraction, mean_weights = calc_offsets(means, counts, slices, axis, column_name, threshold)\n",
    "    except ValueError:\n",
    "        print(\"Not enough values passed threshold\")\n",
    "        return [], 0, 0, 0, 0\n",
    "    \n",
    "    predict_array_cum, pass_count, pass_fraction = calc_prediction_cum_journeys(offsets=offsets, number_of_rows=number_of_rows, baseline_array_cum=baseline_array_cum, actual_array_cum=actual_array_cum)\n",
    "    \n",
    "    return predict_array_cum, pass_count, pass_fraction, threshold_pass_fraction, mean_weights\n"
   ]
  },
  {
   "cell_type": "code",
   "execution_count": null,
   "metadata": {},
   "outputs": [],
   "source": [
    "show_accuracy_minutes(baseline_array_cum, actual_array_cum, \"means\")"
   ]
  },
  {
   "cell_type": "code",
   "execution_count": null,
   "metadata": {},
   "outputs": [],
   "source": [
    "offsets, threshold_pass_fraction, mean_weights = calc_offsets(means, counts, calc_slice(1,8), (1,2), None, 40)\n",
    "\n",
    "predict_array_dense2_cum, _, pass_fraction = calc_prediction_cum_journeys(offsets=offsets, baseline_array_cum=baseline_array_cum, actual_array_cum=actual_array_cum, number_of_rows=data_size)\n",
    "\n",
    "show_accuracy_minutes(predict_array_dense2_cum, actual_array_cum, \"means\")\n",
    "\n"
   ]
  },
  {
   "cell_type": "code",
   "execution_count": null,
   "metadata": {},
   "outputs": [],
   "source": [
    "offsets, threshold_pass_fraction, mean_weights = calc_offsets(means, counts, calc_slice(2,10), (1,2), None, 40)\n",
    "\n",
    "predict_array_dense_cum, _, pass_fraction = calc_prediction_cum_journeys(offsets=offsets, baseline_array_cum=baseline_array_cum, actual_array_cum=actual_array_cum, number_of_rows=data_size)\n",
    "\n",
    "show_accuracy_minutes(predict_array_dense_cum, actual_array_cum, \"means\")\n"
   ]
  },
  {
   "cell_type": "code",
   "execution_count": null,
   "metadata": {},
   "outputs": [],
   "source": [
    "offsets, threshold_pass_fraction, mean_weights = calc_offsets(means, counts, calc_slice(8,15), (1,2), None, 60)\n",
    "\n",
    "predict_array_sparse_cum, _, pass_fraction = calc_prediction_cum_journeys(offsets=offsets, baseline_array_cum=baseline_array_cum, actual_array_cum=actual_array_cum, number_of_rows=500000)\n",
    "\n",
    "show_accuracy_minutes(predict_array_sparse_cum, actual_array_cum, \"means\")\n",
    "\n"
   ]
  },
  {
   "cell_type": "code",
   "execution_count": null,
   "metadata": {},
   "outputs": [],
   "source": [
    "offsets, threshold_pass_fraction, mean_weights = calc_offsets(means, counts, calc_slice(10,20), (1,2), None, 40)\n",
    "\n",
    "predict_array_sparse2_cum, _, pass_fraction = calc_prediction_cum_journeys(offsets=offsets, baseline_array_cum=baseline_array_cum, actual_array_cum=actual_array_cum, number_of_rows=500000)\n",
    "\n",
    "show_accuracy_minutes(predict_array_sparse2_cum, actual_array_cum, \"means\")\n"
   ]
  },
  {
   "cell_type": "code",
   "execution_count": null,
   "metadata": {},
   "outputs": [],
   "source": [
    "# dense_mask = (bus_counts>40)\n",
    "\n",
    "# plt.plot(make_accuracy_matrix_minutes(baseline_array_cum[~dense_mask, :], actual_array_cum[~dense_mask, :])[0][0,:], label=\"mean sparse\")\n",
    "# plt.plot(make_accuracy_matrix_minutes(predict_array_cum[~dense_mask, :], actual_array_cum[~dense_mask, :])[0][0,:], label=\"predict sparse\")\n",
    "# plt.plot(make_accuracy_matrix_minutes(baseline_array_cum[dense_mask, :], actual_array_cum[dense_mask, :])[0][0,:], label=\"mean dense\")\n",
    "# plt.plot(make_accuracy_matrix_minutes(predict_array_cum[dense_mask, :], actual_array_cum[dense_mask, :])[0][0,:], label=\"predict dense\")\n",
    "\n",
    "\n",
    "# # plt.plot(results_enh7[0,:], label=\"mean_enh7\")\n",
    "# # plt.plot(predict_array_cum[0,:], label=\"mean_enh_all\")\n",
    "# # plt.plot(with_15_90[0,:], label=\"with_15_90\")\n",
    "# # plt.plot(narrow_15_90[0,:], label=\"narrow_15_90\")\n",
    "# # plt.plot(narrow_15_90_t40[0,:], label=\"narrow_15_90_t40\")\n",
    "# # plt.plot(wide_15_45_t20[0,:], label=\"wide_15_45_t20\")\n",
    "\n",
    "# plt.legend()\n",
    "# plt.xlim(0,20)\n",
    "# plt.ylim(25,60)\n",
    "# plt.title(\"Percentage of predictions within 10%\")\n",
    "# plt.xlabel(\"minutes ahead\")\n",
    "# plt.ylabel(\"percent within 10%\")\n",
    "# plt.show()"
   ]
  },
  {
   "cell_type": "code",
   "execution_count": null,
   "metadata": {},
   "outputs": [],
   "source": [
    "first_20mins_mask = actual_array_cum < 20*60"
   ]
  },
  {
   "cell_type": "code",
   "execution_count": null,
   "metadata": {},
   "outputs": [],
   "source": [
    "percentages_baseline = []\n",
    "percentage_dense2_predict = []\n",
    "percentage_dense_predict = []\n",
    "percentage_sparse_predict = []\n",
    "percentage_sparse2_predict = []\n",
    "percentage_ave_predict = []\n",
    "\n",
    "freqeuncy = []\n",
    "\n",
    "x = np.array(range(27))*10\n",
    "\n",
    "for i in x:\n",
    "\n",
    "    if forwards: \n",
    "        full_mask = first_20mins_mask & (bus_counts>i)[:data_size,None] & (bus_counts<i+10)[:data_size,None]\n",
    "    else:\n",
    "        full_mask = first_20mins_mask & (bus_counts>i)[-data_size:,None] & (bus_counts<i+10)[-data_size:,None]\n",
    "    \n",
    "    freqeuncy.append(np.count_nonzero(full_mask))\n",
    "    \n",
    "    percentages_baseline.append(np.count_nonzero((baseline_array_cum[full_mask] < actual_array_cum[full_mask] * 1.1) & \\\n",
    "                    (baseline_array_cum[full_mask] > actual_array_cum[full_mask] * 0.9))/np.count_nonzero(full_mask)*100)\n",
    "    \n",
    "    percentage_dense2_predict.append(np.count_nonzero((predict_array_dense2_cum[full_mask] < actual_array_cum[full_mask] * 1.1) & \\\n",
    "                    (predict_array_dense2_cum[full_mask] > actual_array_cum[full_mask] * 0.9))/np.count_nonzero(full_mask)*100)\n",
    "        \n",
    "    percentage_dense_predict.append(np.count_nonzero((predict_array_dense_cum[full_mask] < actual_array_cum[full_mask] * 1.1) & \\\n",
    "                    (predict_array_dense_cum[full_mask] > actual_array_cum[full_mask] * 0.9))/np.count_nonzero(full_mask)*100)\n",
    "    \n",
    "    percentage_sparse_predict.append(np.count_nonzero((predict_array_sparse_cum[full_mask] < actual_array_cum[full_mask] * 1.1) & \\\n",
    "                    (predict_array_sparse_cum[full_mask] > actual_array_cum[full_mask] * 0.9))/np.count_nonzero(full_mask)*100)\n",
    "    \n",
    "    percentage_sparse2_predict.append(np.count_nonzero((predict_array_sparse2_cum[full_mask] < actual_array_cum[full_mask] * 1.1) & \\\n",
    "                    (predict_array_sparse2_cum[full_mask] > actual_array_cum[full_mask] * 0.9))/np.count_nonzero(full_mask)*100)\n",
    "    "
   ]
  },
  {
   "cell_type": "code",
   "execution_count": null,
   "metadata": {},
   "outputs": [],
   "source": [
    "percentage_dense_predict = np.array(percentage_dense_predict)\n",
    "percentage_dense2_predict = np.array(percentage_dense2_predict)\n",
    "percentages_baseline = np.array(percentages_baseline)\n",
    "percentage_sparse_predict = np.array(percentage_sparse_predict)\n",
    "percentage_sparse2_predict = np.array(percentage_sparse2_predict)\n",
    "\n",
    "\n",
    "# plt.plot(x, percentages_baseline, label=\"mean\")\n",
    "plt.plot(x, percentage_dense_predict-percentages_baseline, label=\"predict (d)\")\n",
    "plt.plot(x, percentage_dense2_predict-percentages_baseline, label=\"predict (v_d)\")\n",
    "plt.plot(x, percentage_sparse_predict-percentages_baseline, label=\"predict (s)\")\n",
    "plt.plot(x, percentage_sparse2_predict-percentages_baseline, label=\"predict (v_s)\", ls=\":\")\n",
    "plt.xlabel(\"Density of data points close to event\")\n",
    "plt.ylabel(\"Change in % of events within 10% of true\\nCompared to Baseline\")\n",
    "plt.legend(loc=1)\n",
    "# plt.ylim(35,47)\n",
    "\n",
    "ax = plt.gca()\n",
    "\n",
    "ax2 = ax.twinx()\n",
    " \n",
    "ax2.plot(x, freqeuncy, c=\"grey\", ls=\":\")\n",
    "ax2.set_ylabel(\"Frequency\")\n",
    "plt.title(\"How prediction accuracy varies with data density\\n(just using means)\")\n",
    "# plt.savefig(\"accuracy vs density_2m_forward.pdf\")\n",
    "plt.show()\n"
   ]
  },
  {
   "cell_type": "code",
   "execution_count": null,
   "metadata": {},
   "outputs": [],
   "source": []
  },
  {
   "cell_type": "code",
   "execution_count": null,
   "metadata": {},
   "outputs": [],
   "source": [
    "# baseline_array_cum, actual_array_cum, baseline_pass_count = calc_baseline_and_actual(500000)"
   ]
  },
  {
   "cell_type": "code",
   "execution_count": null,
   "metadata": {},
   "outputs": [],
   "source": [
    "# with open(\"post_noise_width_time_threshold_test3.csv\", \"w\") as f: \n",
    "#     f.write(\"width,time,threshold,threshold_pass_fraction,mean_weights,pass_count,pass_fraction\\n\")\n",
    "#     for width in range(0,12,2):\n",
    "#         for time in range(2,24,3):\n",
    "#             for threshold in [0,20,40,60,80,100,120,140,160,180,200,250,300]:\n",
    "#                 print(f\"w: {width}, t:20-{(time+3)*10}, t:{threshold}\")\n",
    "#     #             _, _, _, pass_count = full_test(np.s_[:,1:time+2,7-width:7+width+1], threshold, number_of_rows=50000)\n",
    "#                 predict_array_cum, pass_count, pass_fraction, threshold_pass_fraction, mean_weights = full_test(np.s_[:,2:time+3,11-width:11+width+1], threshold, baseline_array_cum, actual_array_cum, number_of_rows=500000)\n",
    "        \n",
    "#                 f.write(f\"{width},{(time+3)*10},{threshold},{threshold_pass_fraction},{mean_weights},{pass_count},{pass_fraction}\\n\")\n",
    "#                 f.flush()\n",
    "    \n",
    "            \n",
    "            "
   ]
  },
  {
   "cell_type": "code",
   "execution_count": null,
   "metadata": {},
   "outputs": [],
   "source": []
  }
 ],
 "metadata": {
  "kernelspec": {
   "display_name": "busses",
   "language": "python",
   "name": "busses"
  },
  "language_info": {
   "codemirror_mode": {
    "name": "ipython",
    "version": 3
   },
   "file_extension": ".py",
   "mimetype": "text/x-python",
   "name": "python",
   "nbconvert_exporter": "python",
   "pygments_lexer": "ipython3",
   "version": "3.7.1"
  }
 },
 "nbformat": 4,
 "nbformat_minor": 2
}
