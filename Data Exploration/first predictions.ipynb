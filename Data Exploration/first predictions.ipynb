{
 "cells": [
  {
   "cell_type": "code",
   "execution_count": 1,
   "metadata": {},
   "outputs": [
    {
     "name": "stderr",
     "output_type": "stream",
     "text": [
      "Using TensorFlow backend.\n"
     ]
    }
   ],
   "source": [
    "import numpy as np\n",
    "import numpy.ma as ma\n",
    "import pandas as pd\n",
    "import datetime\n",
    "\n",
    "import matplotlib.pyplot as plt\n",
    "\n",
    "from tqdm import tqdm\n",
    "\n",
    "import feather\n",
    "\n",
    "from sklearn.linear_model import LinearRegression\n",
    "\n",
    "from sklearn.metrics import mean_squared_error, mean_absolute_error\n",
    "\n",
    "import os\n",
    "os.environ['KMP_DUPLICATE_LIB_OK']='True'\n",
    "\n",
    "import xgboost as xgb\n",
    "\n",
    "import keras\n",
    "from keras.preprocessing import sequence\n",
    "from keras import layers, Input, Model\n",
    "from keras.models import Sequential\n",
    "from keras.layers import Embedding, Flatten, Dense, Lambda\n",
    "\n",
    "from sklearn import preprocessing\n",
    "\n"
   ]
  },
  {
   "cell_type": "code",
   "execution_count": 41,
   "metadata": {},
   "outputs": [],
   "source": [
    "# Load in the time_series from the previous stage in the pipeline\n",
    "correlations = feather.read_dataframe(\"../data_files/B/once/35days/5mins/best_correlations_5mins_code_hour_day.feather\")\n",
    "correlations = correlations.set_index(correlations.columns[0])\n"
   ]
  },
  {
   "cell_type": "code",
   "execution_count": 42,
   "metadata": {},
   "outputs": [],
   "source": [
    "# time_series = feather.read_dataframe(\"../data_files/B/once/35days/10mins/diff_percent_from_code_hour_day_-_full_segment_time_series.feather\")\n",
    "# time_series = time_series.set_index(time_series.columns[0])\n",
    "\n",
    "# time_series = time_series.rename(renamer, axis=\"columns\")"
   ]
  },
  {
   "cell_type": "code",
   "execution_count": 43,
   "metadata": {},
   "outputs": [],
   "source": [
    "stop_events = feather.read_dataframe(\"../data_files/B/once/35days/stop_events_with_geo_train_test_averages.feather\")\n",
    "stop_events = stop_events.set_index(stop_events.columns[0])"
   ]
  },
  {
   "cell_type": "code",
   "execution_count": 44,
   "metadata": {},
   "outputs": [],
   "source": [
    "# stop_events[\"arrival_1hour\"] = stop_events[\"date\"] + pd.to_timedelta(stop_events[\"arrival_hour\"].values, unit=\"h\")\n",
    "# stop_events['offset_timestamp'] = stop_events[\"arrival_1hour\"] - pd.Timedelta(\"1 hour\")\n",
    "\n",
    "stop_events[\"arrival_5mins\"] = stop_events[\"actualArrival\"].dt.round(\"5min\")\n",
    "stop_events['offset_timestamp'] = stop_events[\"arrival_5mins\"] - pd.Timedelta(\"5 min\")\n",
    "# stop_events[\"offset_timestamp\"] = stop_events[\"arrival_10mins\"]\n",
    "\n",
    "# print(\"##########################\")\n",
    "# print(\"##########################\")\n",
    "# print(\"    THIS IS A HACK!!!\")\n",
    "# print(\"##########################\")\n",
    "# print(\"##########################\")\n"
   ]
  },
  {
   "cell_type": "code",
   "execution_count": 45,
   "metadata": {},
   "outputs": [],
   "source": [
    "# We need to generate this from scratch as we need both test and train data. \n",
    "time_series = stop_events.pivot_table(\n",
    "        index=\"arrival_5mins\",\n",
    "        columns=\"segment_code\",\n",
    "        values=\"diff_percent_full_segment_and_median_by_segment_code_and_hour_and_day\",\n",
    "        aggfunc=np.median,\n",
    "    )"
   ]
  },
  {
   "cell_type": "code",
   "execution_count": 46,
   "metadata": {},
   "outputs": [],
   "source": [
    "time_series_interp = time_series.interpolate(method='time', axis=0)"
   ]
  },
  {
   "cell_type": "code",
   "execution_count": 104,
   "metadata": {},
   "outputs": [],
   "source": [
    "weather = pd.read_csv(\"../weather/CDO9610867945337_weather.csv\")\n",
    "\n",
    "\n",
    "weather['date'] = pd.to_datetime(weather[' YEARMODA'], format=\"%Y%m%d\")\n",
    "weather['rain'] = weather['PRCP  '].apply(lambda x: float(x[:-1]))\n",
    "\n",
    "just_rain = weather[['date', 'rain']]"
   ]
  },
  {
   "cell_type": "code",
   "execution_count": 105,
   "metadata": {},
   "outputs": [],
   "source": [
    "stop_events = stop_events.merge(just_rain, left_on=\"date\", right_on=\"date\")"
   ]
  },
  {
   "cell_type": "code",
   "execution_count": null,
   "metadata": {},
   "outputs": [],
   "source": []
  },
  {
   "cell_type": "code",
   "execution_count": 48,
   "metadata": {},
   "outputs": [],
   "source": [
    "# stop_events[['best_0']]"
   ]
  },
  {
   "cell_type": "code",
   "execution_count": 106,
   "metadata": {},
   "outputs": [],
   "source": [
    "stop_events = stop_events[['date', 'stopCode', 'aimedArrival', 'aimedDeparture', 'actualArrival', 'actualDeparture', 'prev_stopCode', 'prev_aimedArrival',\n",
    "       'prev_aimedDeparture', 'prev_actualArrival', 'prev_actualDeparture',\n",
    "       'timingPoint', 'prev_timingPoint', 'arrival_hour', 'segment_code', 'segment_name', 'line_distance', 'to_centre_dist', 'direction_degrees', 'train', 'test','full_duration','median_full_durations_by_segment_code',\n",
    "       'median_full_durations_by_segment_code_and_hour',\n",
    "       'median_full_durations_by_segment_code_and_hour_and_day',\n",
    "       'diff_full_segment_and_median_by_segment_code',\n",
    "       'diff_full_segment_and_median_by_segment_code_and_hour_and_day',\n",
    "       'diff_percent_full_segment_and_median_by_segment_code',\n",
    "       'diff_percent_full_segment_and_median_by_segment_code_and_hour_and_day',\n",
    "       'offset_timestamp', 'arrival_5mins', 'rain']]\n"
   ]
  },
  {
   "cell_type": "code",
   "execution_count": 107,
   "metadata": {},
   "outputs": [],
   "source": [
    "stop_events = stop_events.merge(correlations, left_on=\"segment_code\", right_index=True)"
   ]
  },
  {
   "cell_type": "code",
   "execution_count": 108,
   "metadata": {},
   "outputs": [],
   "source": [
    "def best(row):\n",
    "    try:\n",
    "        value = time_series_interp.loc[row[0],row[1]] \n",
    "    except: \n",
    "#         print(\"--------------\")\n",
    "#         print(row.name)\n",
    "#         print(row[0])\n",
    "#         print(row[1])\n",
    "        value = np.nan\n",
    "    return value"
   ]
  },
  {
   "cell_type": "code",
   "execution_count": 109,
   "metadata": {},
   "outputs": [],
   "source": [
    "stop_events['best_0'] = stop_events[['offset_timestamp', '0']].apply(best, axis=1)\n",
    "stop_events['self_offset'] = stop_events[['offset_timestamp', 'segment_code']].apply(best, axis=1)"
   ]
  },
  {
   "cell_type": "code",
   "execution_count": 110,
   "metadata": {},
   "outputs": [],
   "source": [
    "# stop_events = stop_events.dropna(subset=['best_0'])\n",
    "\n",
    "# stop_events['best_0'] = stop_events['best_0'].replace([np.nan, -np.inf], 0)"
   ]
  },
  {
   "cell_type": "code",
   "execution_count": 111,
   "metadata": {},
   "outputs": [],
   "source": [
    "# stop_events['best_1'] = stop_events[['offset_timestamp', '1']].apply(best, axis=1)\n",
    "# # stop_events['best_1'] = stop_events['best_1'].replace([np.nan, -np.inf], 0)\n",
    "# stop_events['best_2'] = stop_events[['offset_timestamp', '2']].apply(best, axis=1)\n",
    "# # stop_events['best_2'] = stop_events['best_2'].replace([np.nan, -np.inf], 0)\n",
    "# stop_events['best_3'] = stop_events[['offset_timestamp', '3']].apply(best, axis=1)\n",
    "# # stop_events['best_3'] = stop_events['best_3'].replace([np.nan, -np.inf], 0)\n",
    "# stop_events['best_4'] = stop_events[['offset_timestamp', '4']].apply(best, axis=1)"
   ]
  },
  {
   "cell_type": "code",
   "execution_count": 112,
   "metadata": {},
   "outputs": [
    {
     "name": "stdout",
     "output_type": "stream",
     "text": [
      "percent nan for best_0: 0.36251471145445974\n",
      "percent nan for self_offset: 0.05921729162396539\n"
     ]
    }
   ],
   "source": [
    "print(f\"percent nan for best_0: {stop_events['best_0'].isna().sum()/stop_events.shape[0]*100}\")\n",
    "print(f\"percent nan for self_offset: {stop_events['self_offset'].isna().sum()/stop_events.shape[0]*100}\")"
   ]
  },
  {
   "cell_type": "code",
   "execution_count": 113,
   "metadata": {},
   "outputs": [],
   "source": [
    "stop_events['best_0'] = stop_events['best_0'].replace([np.nan, -np.inf], 0)\n",
    "stop_events['self_offset'] = stop_events['self_offset'].replace([np.nan, -np.inf], 0)"
   ]
  },
  {
   "cell_type": "code",
   "execution_count": 114,
   "metadata": {},
   "outputs": [],
   "source": [
    "stop_events = stop_events.dropna(axis=0)"
   ]
  },
  {
   "cell_type": "code",
   "execution_count": 127,
   "metadata": {},
   "outputs": [],
   "source": [
    "# train_matrix = stop_events[stop_events['train']][['line_distance', 'to_centre_dist', 'direction_degrees', 'best_0', 'best_1', 'best_2', 'best_3', 'best_4', 'best_5', 'best_6', 'best_7', 'best_8', 'best_9', '30', '31', '32', '33', '34', '35', '36', '37', '38', '39']].values\n",
    "train_matrix = stop_events[stop_events['train']][['arrival_hour', 'line_distance', 'to_centre_dist', 'direction_degrees', 'best_0', '30', 'self_offset', 'rain']]\n",
    "train_target = stop_events[stop_events['train']]['diff_percent_full_segment_and_median_by_segment_code_and_hour_and_day'].values\n",
    "\n",
    "# test_matrix = stop_events[stop_events['test']][['line_distance', 'to_centre_dist', 'direction_degrees', 'best_0', 'best_1', 'best_2', 'best_3', 'best_4', 'best_5', 'best_6', 'best_7', 'best_8', 'best_9', '30', '31', '32', '33', '34', '35', '36', '37', '38', '39']].values\n",
    "test_matrix = stop_events[stop_events['test']][['arrival_hour', 'line_distance', 'to_centre_dist', 'direction_degrees', 'best_0', '30', 'self_offset', 'rain']]\n",
    "test_target = stop_events[stop_events['test']]['diff_percent_full_segment_and_median_by_segment_code_and_hour_and_day'].values\n",
    "\n",
    "test_target = np.nan_to_num(test_target)"
   ]
  },
  {
   "cell_type": "code",
   "execution_count": null,
   "metadata": {},
   "outputs": [],
   "source": []
  },
  {
   "cell_type": "code",
   "execution_count": 128,
   "metadata": {},
   "outputs": [
    {
     "data": {
      "text/plain": [
       "0"
      ]
     },
     "execution_count": 128,
     "metadata": {},
     "output_type": "execute_result"
    }
   ],
   "source": [
    "stop_events.isna().sum(axis=0).max()"
   ]
  },
  {
   "cell_type": "code",
   "execution_count": 129,
   "metadata": {},
   "outputs": [
    {
     "name": "stdout",
     "output_type": "stream",
     "text": [
      "(1657382, 94)\n",
      "(1657382, 8)\n",
      "(1657382,)\n"
     ]
    }
   ],
   "source": [
    "print(stop_events[stop_events['train']].shape)\n",
    "print(train_matrix.shape)\n",
    "print(train_target.shape)"
   ]
  },
  {
   "cell_type": "code",
   "execution_count": 130,
   "metadata": {},
   "outputs": [],
   "source": [
    "# stop_events['30']"
   ]
  },
  {
   "cell_type": "code",
   "execution_count": 131,
   "metadata": {},
   "outputs": [],
   "source": [
    "reg = LinearRegression().fit(train_matrix, train_target)\n"
   ]
  },
  {
   "cell_type": "code",
   "execution_count": 132,
   "metadata": {},
   "outputs": [
    {
     "data": {
      "text/plain": [
       "0.4889089200774492"
      ]
     },
     "execution_count": 132,
     "metadata": {},
     "output_type": "execute_result"
    }
   ],
   "source": [
    "reg.score(test_matrix, test_target)\n",
    "\n"
   ]
  },
  {
   "cell_type": "code",
   "execution_count": 133,
   "metadata": {},
   "outputs": [],
   "source": [
    "rmse_lr = np.sqrt(mean_squared_error(test_target, reg.predict(test_matrix)))\n",
    "mae_lr = mean_absolute_error(test_target, reg.predict(test_matrix))\n"
   ]
  },
  {
   "cell_type": "code",
   "execution_count": 134,
   "metadata": {},
   "outputs": [
    {
     "name": "stdout",
     "output_type": "stream",
     "text": [
      "62.37456233132572\n",
      "31.15622596474333\n"
     ]
    }
   ],
   "source": [
    "print(rmse_lr)\n",
    "print(mae_lr)\n"
   ]
  },
  {
   "cell_type": "code",
   "execution_count": 135,
   "metadata": {},
   "outputs": [
    {
     "data": {
      "text/plain": [
       "array([-2.41864210e-02, -1.08586403e+01, -8.12658656e-02, -2.18121647e-03,\n",
       "        4.50757057e-03,  7.28262561e-01,  7.76921088e-01,  8.09615436e-01])"
      ]
     },
     "execution_count": 135,
     "metadata": {},
     "output_type": "execute_result"
    }
   ],
   "source": [
    "reg.coef_"
   ]
  },
  {
   "cell_type": "code",
   "execution_count": 136,
   "metadata": {},
   "outputs": [],
   "source": [
    "data_dmatrix = xgb.DMatrix(data=train_matrix,label=train_target)\n"
   ]
  },
  {
   "cell_type": "code",
   "execution_count": 137,
   "metadata": {},
   "outputs": [],
   "source": [
    "xg_reg = xgb.XGBRegressor(objective ='reg:linear', eval_metric='mae', booster='gblinear', n_jobs=8, max_depth=5)"
   ]
  },
  {
   "cell_type": "code",
   "execution_count": 138,
   "metadata": {},
   "outputs": [
    {
     "data": {
      "text/plain": [
       "XGBRegressor(base_score=0.5, booster='gblinear', colsample_bylevel=1,\n",
       "       colsample_bytree=1, eval_metric='mae', gamma=0,\n",
       "       importance_type='gain', learning_rate=0.1, max_delta_step=0,\n",
       "       max_depth=5, min_child_weight=1, missing=None, n_estimators=100,\n",
       "       n_jobs=8, nthread=None, objective='reg:linear', random_state=0,\n",
       "       reg_alpha=0, reg_lambda=1, scale_pos_weight=1, seed=None,\n",
       "       silent=True, subsample=1)"
      ]
     },
     "execution_count": 138,
     "metadata": {},
     "output_type": "execute_result"
    }
   ],
   "source": [
    "xg_reg.fit(train_matrix, train_target)\n"
   ]
  },
  {
   "cell_type": "code",
   "execution_count": 139,
   "metadata": {},
   "outputs": [],
   "source": [
    "rmse_xg = np.sqrt(mean_squared_error(test_target, xg_reg.predict(test_matrix)))\n",
    "mae_xg = mean_absolute_error(test_target, xg_reg.predict(test_matrix))"
   ]
  },
  {
   "cell_type": "code",
   "execution_count": 140,
   "metadata": {},
   "outputs": [
    {
     "name": "stdout",
     "output_type": "stream",
     "text": [
      "62.381263010283206\n",
      "31.12264945139358\n"
     ]
    }
   ],
   "source": [
    "print(rmse_xg)\n",
    "print(mae_xg)"
   ]
  },
  {
   "cell_type": "code",
   "execution_count": 141,
   "metadata": {},
   "outputs": [],
   "source": [
    "# xg_reg.feature_importances_"
   ]
  },
  {
   "cell_type": "code",
   "execution_count": 154,
   "metadata": {},
   "outputs": [
    {
     "name": "stderr",
     "output_type": "stream",
     "text": [
      "/Users/tommelamed/anaconda3/envs/busses/lib/python3.7/site-packages/sklearn/preprocessing/data.py:625: DataConversionWarning: Data with input dtype int64, float64 were all converted to float64 by StandardScaler.\n",
      "  return self.partial_fit(X, y)\n",
      "/Users/tommelamed/anaconda3/envs/busses/lib/python3.7/site-packages/ipykernel_launcher.py:3: DataConversionWarning: Data with input dtype int64, float64 were all converted to float64 by StandardScaler.\n",
      "  This is separate from the ipykernel package so we can avoid doing imports until\n",
      "/Users/tommelamed/anaconda3/envs/busses/lib/python3.7/site-packages/ipykernel_launcher.py:4: DataConversionWarning: Data with input dtype int64, float64 were all converted to float64 by StandardScaler.\n",
      "  after removing the cwd from sys.path.\n"
     ]
    }
   ],
   "source": [
    "scaler_matrix = preprocessing.StandardScaler().fit(train_matrix)\n",
    "\n",
    "train_matrix_scaled = scaler_matrix.transform(train_matrix)\n",
    "test_matrix_scaled = scaler_matrix.transform(test_matrix)\n",
    "\n",
    "scaler_target = preprocessing.StandardScaler().fit(train_target[:,None])\n",
    "\n",
    "train_target_scaled = scaler_target.transform(train_target[:,None])\n",
    "test_target_scaled = scaler_target.transform(test_target[:,None])\n",
    "\n",
    "\n"
   ]
  },
  {
   "cell_type": "code",
   "execution_count": 155,
   "metadata": {},
   "outputs": [],
   "source": [
    "def create_fully_connected(input_width):\n",
    "    model = Sequential()\n",
    "    \n",
    "    model.add(Dense(32, input_dim=input_width, activation='relu'))\n",
    "    model.add(layers.Dropout(0.2))\n",
    "    model.add(Dense(12, activation='relu'))\n",
    "    model.add(layers.Dropout(0.2))\n",
    "    model.add(Dense(12, activation='relu'))\n",
    "    model.add(layers.Dropout(0.2))\n",
    "    model.add(Dense(1, activation='tanh'))\n",
    "    model.summary()\n",
    "    \n",
    "    return model"
   ]
  },
  {
   "cell_type": "code",
   "execution_count": 156,
   "metadata": {},
   "outputs": [
    {
     "name": "stdout",
     "output_type": "stream",
     "text": [
      "WARNING:tensorflow:From /Users/tommelamed/anaconda3/envs/busses/lib/python3.7/site-packages/tensorflow/python/framework/op_def_library.py:263: colocate_with (from tensorflow.python.framework.ops) is deprecated and will be removed in a future version.\n",
      "Instructions for updating:\n",
      "Colocations handled automatically by placer.\n",
      "WARNING:tensorflow:From /Users/tommelamed/anaconda3/envs/busses/lib/python3.7/site-packages/keras/backend/tensorflow_backend.py:3445: calling dropout (from tensorflow.python.ops.nn_ops) with keep_prob is deprecated and will be removed in a future version.\n",
      "Instructions for updating:\n",
      "Please use `rate` instead of `keep_prob`. Rate should be set to `rate = 1 - keep_prob`.\n",
      "_________________________________________________________________\n",
      "Layer (type)                 Output Shape              Param #   \n",
      "=================================================================\n",
      "dense_1 (Dense)              (None, 32)                288       \n",
      "_________________________________________________________________\n",
      "dropout_1 (Dropout)          (None, 32)                0         \n",
      "_________________________________________________________________\n",
      "dense_2 (Dense)              (None, 12)                396       \n",
      "_________________________________________________________________\n",
      "dropout_2 (Dropout)          (None, 12)                0         \n",
      "_________________________________________________________________\n",
      "dense_3 (Dense)              (None, 12)                156       \n",
      "_________________________________________________________________\n",
      "dropout_3 (Dropout)          (None, 12)                0         \n",
      "_________________________________________________________________\n",
      "dense_4 (Dense)              (None, 1)                 13        \n",
      "=================================================================\n",
      "Total params: 853\n",
      "Trainable params: 853\n",
      "Non-trainable params: 0\n",
      "_________________________________________________________________\n",
      "WARNING:tensorflow:From /Users/tommelamed/anaconda3/envs/busses/lib/python3.7/site-packages/tensorflow/python/ops/math_ops.py:3066: to_int32 (from tensorflow.python.ops.math_ops) is deprecated and will be removed in a future version.\n",
      "Instructions for updating:\n",
      "Use tf.cast instead.\n",
      "Train on 1657382 samples, validate on 630801 samples\n",
      "Epoch 1/10\n",
      "1657382/1657382 [==============================] - 22s 13us/step - loss: 0.3785 - mean_absolute_error: 0.3785 - val_loss: 0.3771 - val_mean_absolute_error: 0.3771\n",
      "Epoch 2/10\n",
      "1657382/1657382 [==============================] - 23s 14us/step - loss: 0.3679 - mean_absolute_error: 0.3679 - val_loss: 0.3769 - val_mean_absolute_error: 0.3769\n",
      "Epoch 3/10\n",
      "1657382/1657382 [==============================] - 24s 14us/step - loss: 0.3665 - mean_absolute_error: 0.3665 - val_loss: 0.3748 - val_mean_absolute_error: 0.3748\n",
      "Epoch 4/10\n",
      "1657382/1657382 [==============================] - 24s 14us/step - loss: 0.3658 - mean_absolute_error: 0.3658 - val_loss: 0.3747 - val_mean_absolute_error: 0.3747\n",
      "Epoch 5/10\n",
      "1657382/1657382 [==============================] - 24s 14us/step - loss: 0.3653 - mean_absolute_error: 0.3653 - val_loss: 0.3769 - val_mean_absolute_error: 0.3769\n",
      "Epoch 6/10\n",
      "1657382/1657382 [==============================] - 23s 14us/step - loss: 0.3652 - mean_absolute_error: 0.3652 - val_loss: 0.3750 - val_mean_absolute_error: 0.3750\n"
     ]
    }
   ],
   "source": [
    "model = create_fully_connected(train_matrix.shape[1])\n",
    "\n",
    "callbacks_list = [\n",
    "    keras.callbacks.EarlyStopping(monitor='val_loss', patience=2),\n",
    "    keras.callbacks.ModelCheckpoint(filepath='full_conn_model.h5', monitor='val_loss', save_best_only=True)\n",
    "]\n",
    "\n",
    "model.compile(optimizer='rmsprop',\n",
    "              loss='mean_absolute_error',\n",
    "              metrics=['MAE'])\n",
    "history = model.fit(train_matrix_scaled, train_target_scaled,\n",
    "                    epochs=10,\n",
    "                    callbacks=callbacks_list,\n",
    "                    batch_size=512,\n",
    "                    validation_data=(test_matrix_scaled, test_target_scaled))"
   ]
  },
  {
   "cell_type": "code",
   "execution_count": 157,
   "metadata": {},
   "outputs": [
    {
     "name": "stdout",
     "output_type": "stream",
     "text": [
      "_________________________________________________________________\n",
      "Layer (type)                 Output Shape              Param #   \n",
      "=================================================================\n",
      "dense_5 (Dense)              (None, 32)                288       \n",
      "_________________________________________________________________\n",
      "dropout_4 (Dropout)          (None, 32)                0         \n",
      "_________________________________________________________________\n",
      "dense_6 (Dense)              (None, 12)                396       \n",
      "_________________________________________________________________\n",
      "dropout_5 (Dropout)          (None, 12)                0         \n",
      "_________________________________________________________________\n",
      "dense_7 (Dense)              (None, 12)                156       \n",
      "_________________________________________________________________\n",
      "dropout_6 (Dropout)          (None, 12)                0         \n",
      "_________________________________________________________________\n",
      "dense_8 (Dense)              (None, 1)                 13        \n",
      "=================================================================\n",
      "Total params: 853\n",
      "Trainable params: 853\n",
      "Non-trainable params: 0\n",
      "_________________________________________________________________\n"
     ]
    }
   ],
   "source": [
    "model_to_load = 'full_conn_model.h5'\n",
    "\n",
    "# Create the network and load the weights into it\n",
    "model = create_fully_connected(test_matrix.shape[1])\n",
    "model.load_weights(model_to_load)\n",
    "\n",
    "model.compile(optimizer='rmsprop',\n",
    "              loss='binary_crossentropy',\n",
    "              metrics=['acc'])\n",
    "test_y_scaled = model.predict(test_matrix_scaled)"
   ]
  },
  {
   "cell_type": "code",
   "execution_count": 158,
   "metadata": {},
   "outputs": [],
   "source": [
    "rmse_NN = np.sqrt(mean_squared_error(test_target, scaler_target.inverse_transform(test_y_scaled)))\n",
    "mae_NN = mean_absolute_error(test_target, scaler_target.inverse_transform(test_y_scaled))\n"
   ]
  },
  {
   "cell_type": "code",
   "execution_count": 159,
   "metadata": {},
   "outputs": [
    {
     "name": "stdout",
     "output_type": "stream",
     "text": [
      "77.92767603598492\n",
      "31.253416523818295\n"
     ]
    }
   ],
   "source": [
    "print(rmse_NN)\n",
    "print(mae_NN)"
   ]
  },
  {
   "cell_type": "code",
   "execution_count": 160,
   "metadata": {},
   "outputs": [],
   "source": [
    "rmse_best_0 = np.sqrt(mean_squared_error(test_target, stop_events[stop_events['test']]['best_0']))\n",
    "mae_best_0 = mean_absolute_error(test_target, stop_events[stop_events['test']]['best_0'])"
   ]
  },
  {
   "cell_type": "code",
   "execution_count": 161,
   "metadata": {},
   "outputs": [
    {
     "name": "stdout",
     "output_type": "stream",
     "text": [
      "118.93466191528725\n",
      "59.49860991995997\n"
     ]
    }
   ],
   "source": [
    "print(rmse_best_0)\n",
    "print(mae_best_0)"
   ]
  },
  {
   "cell_type": "code",
   "execution_count": 162,
   "metadata": {},
   "outputs": [
    {
     "data": {
      "image/png": "[encoded data removed]",
      "text/plain": [
       "<Figure size 432x288 with 1 Axes>"
      ]
     },
     "metadata": {
      "needs_background": "light"
     },
     "output_type": "display_data"
    }
   ],
   "source": [
    "# plt.hist(scaler_target.inverse_transform(test_y_scaled), alpha=0.5, bins=100, label=\"NN\", range=(-100, 100))\n",
    "plt.hist(xg_reg.predict(test_matrix), bins=100, label=\"XGB\", alpha=0.5,  range=(-100, 100))\n",
    "# plt.hist(reg.predict(test_matrix), bins=100, label=\"Linear\", alpha=0.5,  range=(-100, 100))\n",
    "plt.hist(stop_events[stop_events['test']]['best_0'], bins=100, alpha=0.5,  label=\"best_0\", range=(-100, 100))\n",
    "# plt.hist(stop_events['diff_percent_full_segment_and_median_by_segment_code_and_hour_and_day'], bins=200, label=\"target\", range=(-100, 100))\n",
    "# plt.hist(train_target, bins=200, label=\"train\", range=(-100, 100))\n",
    "plt.hist(test_target, bins=100, label=\"target\", alpha=0.5,  range=(-100, 100))\n",
    "# plt.yscale(\"log\")\n",
    "plt.legend()\n",
    "\n",
    "plt.show()\n"
   ]
  },
  {
   "cell_type": "code",
   "execution_count": 151,
   "metadata": {},
   "outputs": [],
   "source": [
    "def MAPE(forecast, actual):\n",
    "    \n",
    "    if(len(forecast) != len(actual)):\n",
    "        raise ValueError('Could not calculate MAPE, forecast and actual arrays are different length')\n",
    "        \n",
    "    forecast = np.asarray(forecast)\n",
    "    actual = np.asarray(actual)\n",
    "    \n",
    "    with np.errstate(divide='ignore', invalid='ignore'):\n",
    "        \n",
    "        division = (actual-forecast)/actual\n",
    "        \n",
    "        division[actual == 0] = 0\n",
    "        \n",
    "        # Instead of dividing by n we count by the number of non-zero values. \n",
    "        # Essentially ignoring all cases where the actual value is zero. \n",
    "        mape = 100 / np.count_nonzero(actual) * np.sum(np.abs(division))\n",
    "    \n",
    "    return mape"
   ]
  },
  {
   "cell_type": "code",
   "execution_count": null,
   "metadata": {},
   "outputs": [],
   "source": [
    "predict_reg = stop_events[stop_events['test']][\"median_full_durations_by_segment_code_and_hour_and_day\"] * (1+(reg.predict(test_matrix)/100))\n",
    "\n",
    "predict_xg = stop_events[stop_events['test']][\"median_full_durations_by_segment_code_and_hour_and_day\"] * (1+(xg_reg.predict(test_matrix)/100))\n",
    "\n",
    "predict_NN = stop_events[stop_events['test']][\"median_full_durations_by_segment_code_and_hour_and_day\"] * (1+(scaler_target.inverse_transform(test_y_scaled)))\n",
    "\n",
    "predict_best_0 = stop_events[stop_events['test']][\"median_full_durations_by_segment_code_and_hour_and_day\"] * (1+(stop_events[stop_events['test']]['best_0']/100))\n",
    "\n",
    "predict_self_offset = stop_events[stop_events['test']][\"median_full_durations_by_segment_code_and_hour_and_day\"] * (1+(stop_events[stop_events['test']]['self_offset']/100))\n"
   ]
  },
  {
   "cell_type": "code",
   "execution_count": 153,
   "metadata": {},
   "outputs": [
    {
     "name": "stdout",
     "output_type": "stream",
     "text": [
      "Linear MAPE: 31.13022220051427\n",
      "XGBoost MAPE: 31.04338071758727\n",
      "Best_0 MAPE: 59.03961199935938\n",
      "self_offset MAPE: 29.95931256296026\n"
     ]
    }
   ],
   "source": [
    "print(f\"Linear MAPE: {MAPE(predict_reg, stop_events[stop_events['test']]['full_duration'])}\")\n",
    "      \n",
    "print(f\"XGBoost MAPE: {MAPE(predict_xg, stop_events[stop_events['test']]['full_duration'])}\")\n",
    "      \n",
    "print(f\"NN MAPE: {MAPE(predict_NN, stop_events[stop_events['test']]['full_duration'])}\")\n",
    "            \n",
    "print(f\"Best_0 MAPE: {MAPE(predict_best_0, stop_events[stop_events['test']]['full_duration'])}\")\n",
    "      \n",
    "print(f\"self_offset MAPE: {MAPE(predict_self_offset, stop_events[stop_events['test']]['full_duration'])}\")"
   ]
  },
  {
   "cell_type": "code",
   "execution_count": 84,
   "metadata": {},
   "outputs": [
    {
     "data": {
      "image/png": "[encoded data removed]",
      "text/plain": [
       "<Figure size 432x288 with 1 Axes>"
      ]
     },
     "metadata": {
      "needs_background": "light"
     },
     "output_type": "display_data"
    }
   ],
   "source": [
    "plt.hist(stop_events['30'], bins=100);"
   ]
  },
  {
   "cell_type": "code",
   "execution_count": 40,
   "metadata": {},
   "outputs": [
    {
     "data": {
      "text/plain": [
       "35.93016482368263"
      ]
     },
     "execution_count": 40,
     "metadata": {},
     "output_type": "execute_result"
    }
   ],
   "source": [
    "MAPE(stop_events[stop_events['test']]['median_full_durations_by_segment_code_and_hour_and_day'], stop_events[stop_events['test']]['full_duration'])\n"
   ]
  },
  {
   "cell_type": "code",
   "execution_count": null,
   "metadata": {},
   "outputs": [],
   "source": []
  },
  {
   "cell_type": "code",
   "execution_count": null,
   "metadata": {},
   "outputs": [],
   "source": []
  },
  {
   "cell_type": "code",
   "execution_count": null,
   "metadata": {},
   "outputs": [],
   "source": []
  },
  {
   "cell_type": "code",
   "execution_count": null,
   "metadata": {},
   "outputs": [],
   "source": []
  },
  {
   "cell_type": "code",
   "execution_count": null,
   "metadata": {},
   "outputs": [],
   "source": []
  },
  {
   "cell_type": "code",
   "execution_count": null,
   "metadata": {},
   "outputs": [],
   "source": []
  },
  {
   "cell_type": "code",
   "execution_count": null,
   "metadata": {},
   "outputs": [],
   "source": []
  },
  {
   "cell_type": "code",
   "execution_count": null,
   "metadata": {},
   "outputs": [],
   "source": []
  },
  {
   "cell_type": "code",
   "execution_count": null,
   "metadata": {},
   "outputs": [],
   "source": []
  },
  {
   "cell_type": "code",
   "execution_count": null,
   "metadata": {},
   "outputs": [],
   "source": []
  },
  {
   "cell_type": "code",
   "execution_count": null,
   "metadata": {},
   "outputs": [],
   "source": []
  },
  {
   "cell_type": "code",
   "execution_count": null,
   "metadata": {},
   "outputs": [],
   "source": []
  },
  {
   "cell_type": "code",
   "execution_count": null,
   "metadata": {},
   "outputs": [],
   "source": []
  },
  {
   "cell_type": "code",
   "execution_count": null,
   "metadata": {},
   "outputs": [],
   "source": []
  },
  {
   "cell_type": "code",
   "execution_count": null,
   "metadata": {},
   "outputs": [],
   "source": []
  },
  {
   "cell_type": "code",
   "execution_count": null,
   "metadata": {},
   "outputs": [],
   "source": []
  },
  {
   "cell_type": "code",
   "execution_count": null,
   "metadata": {},
   "outputs": [],
   "source": []
  },
  {
   "cell_type": "code",
   "execution_count": null,
   "metadata": {},
   "outputs": [],
   "source": [
    "# stop_events_dropped = stop_events[stop_events['best_0'] != 0]\n",
    "\n",
    "# plt.hist(stop_events_dropped['best_0'], bins=100, range=(-100,100), alpha=0.5, label=\"0\")\n",
    "# plt.hist(stop_events_dropped['best_1'], bins=100, range=(-100,100), alpha=0.5, label=\"1\")\n",
    "# plt.hist(stop_events_dropped['best_2'], bins=100, range=(-100,100), alpha=0.5, label=\"2\")\n",
    "# plt.legend()\n",
    "# plt.yscale(\"log\")"
   ]
  },
  {
   "cell_type": "code",
   "execution_count": null,
   "metadata": {},
   "outputs": [],
   "source": [
    "np.mean(stop_events['best_0']**2)"
   ]
  },
  {
   "cell_type": "code",
   "execution_count": null,
   "metadata": {},
   "outputs": [],
   "source": [
    "events_per_segment = stop_events.groupby(\"segment_code\").size()"
   ]
  },
  {
   "cell_type": "code",
   "execution_count": null,
   "metadata": {},
   "outputs": [],
   "source": [
    "events_per_segment.median()"
   ]
  },
  {
   "cell_type": "code",
   "execution_count": null,
   "metadata": {},
   "outputs": [],
   "source": [
    "events_per_segment[events_per_segment > events_per_segment.median()].index"
   ]
  },
  {
   "cell_type": "code",
   "execution_count": null,
   "metadata": {},
   "outputs": [],
   "source": [
    "plt.scatter(stop_events['diff_percent_full_segment_and_median_by_segment_code_and_hour_and_day'], stop_events['best_0'])\n"
   ]
  },
  {
   "cell_type": "code",
   "execution_count": null,
   "metadata": {},
   "outputs": [],
   "source": [
    "plt.hist2d(stop_events[stop_events['test']]['diff_percent_full_segment_and_median_by_segment_code_and_hour_and_day'], stop_events[stop_events['test']]['best_0'], bins=(100, 100), range=[[-50, 50], [-50, 50]], cmap=plt.cm.jet)\n",
    "plt.colorbar()\n",
    "\n"
   ]
  },
  {
   "cell_type": "code",
   "execution_count": null,
   "metadata": {},
   "outputs": [],
   "source": [
    "events_per_segment = events_per_segment.to_frame().merge(stop_events.drop_duplicates(subset='segment_code'), how=\"left\", on=\"segment_code\")\n"
   ]
  },
  {
   "cell_type": "code",
   "execution_count": null,
   "metadata": {},
   "outputs": [],
   "source": [
    "events_per_segment.shape"
   ]
  },
  {
   "cell_type": "code",
   "execution_count": null,
   "metadata": {},
   "outputs": [],
   "source": []
  },
  {
   "cell_type": "code",
   "execution_count": null,
   "metadata": {},
   "outputs": [],
   "source": [
    "plt.scatter(events_per_segment[0], events_per_segment['to_centre_dist'], alpha=0.3, marker=\".\")"
   ]
  },
  {
   "cell_type": "code",
   "execution_count": null,
   "metadata": {},
   "outputs": [],
   "source": [
    "plt.scatter(events_per_segment[0], events_per_segment['30'], alpha=0.3, marker=\".\")"
   ]
  },
  {
   "cell_type": "code",
   "execution_count": null,
   "metadata": {},
   "outputs": [],
   "source": [
    "plt.scatter(events_per_segment['to_centre_dist'], events_per_segment['30'], alpha=0.3, marker=\".\")"
   ]
  },
  {
   "cell_type": "code",
   "execution_count": null,
   "metadata": {},
   "outputs": [],
   "source": [
    "plt.hist2d(events_per_segment[0], events_per_segment['30'], bins=(100, 30), range=[[0, 10000], [0, 1]], cmap=plt.cm.jet)\n",
    "plt.colorbar()\n",
    "\n"
   ]
  },
  {
   "cell_type": "code",
   "execution_count": null,
   "metadata": {},
   "outputs": [],
   "source": [
    "plt.hist2d(events_per_segment['to_centre_dist'], events_per_segment['30'], bins=(100, 30), range=[[0, 10], [0, 1]], cmap=plt.cm.jet)\n",
    "plt.colorbar()"
   ]
  },
  {
   "cell_type": "code",
   "execution_count": null,
   "metadata": {},
   "outputs": [],
   "source": [
    "plt.hist(events_per_segment[0], cumulative=True, bins=100, range=(0,10000));"
   ]
  },
  {
   "cell_type": "code",
   "execution_count": null,
   "metadata": {},
   "outputs": [],
   "source": [
    "np.count_nonzero(events_per_segment[0] > events_per_segment[0].median())"
   ]
  },
  {
   "cell_type": "code",
   "execution_count": null,
   "metadata": {},
   "outputs": [],
   "source": [
    "plt.hist(time_series.count()/time_series.shape[0], bins=20);"
   ]
  },
  {
   "cell_type": "code",
   "execution_count": null,
   "metadata": {},
   "outputs": [],
   "source": [
    "time_series.shape[0]"
   ]
  },
  {
   "cell_type": "code",
   "execution_count": null,
   "metadata": {},
   "outputs": [],
   "source": [
    "time_series.columns[(time_series.count()>(5760/3))]"
   ]
  },
  {
   "cell_type": "code",
   "execution_count": null,
   "metadata": {},
   "outputs": [],
   "source": []
  }
 ],
 "metadata": {
  "kernelspec": {
   "display_name": "busses",
   "language": "python",
   "name": "busses"
  },
  "language_info": {
   "codemirror_mode": {
    "name": "ipython",
    "version": 3
   },
   "file_extension": ".py",
   "mimetype": "text/x-python",
   "name": "python",
   "nbconvert_exporter": "python",
   "pygments_lexer": "ipython3",
   "version": "3.7.1"
  }
 },
 "nbformat": 4,
 "nbformat_minor": 2
}
