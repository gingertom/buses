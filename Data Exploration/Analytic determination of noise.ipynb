{
 "cells": [
  {
   "cell_type": "code",
   "execution_count": 122,
   "metadata": {},
   "outputs": [],
   "source": [
    "import numpy as np\n",
    "import numpy.ma as ma\n",
    "import pandas as pd\n",
    "import datetime\n",
    "\n",
    "import matplotlib.pyplot as plt\n",
    "import matplotlib.colors as colors\n",
    "\n",
    "import feather\n",
    "\n",
    "from sklearn.metrics import mean_squared_error, mean_absolute_error\n",
    "\n",
    "from scipy import stats\n",
    "\n",
    "import warnings"
   ]
  },
  {
   "cell_type": "code",
   "execution_count": 2,
   "metadata": {},
   "outputs": [],
   "source": [
    "se = feather.read_dataframe(\"../data_files/B/once/75days/stop_events_with_geo_train_test_averages_prev_next_offsets_noninterp.feather\")\n",
    "se = se.set_index(se.columns[0])"
   ]
  },
  {
   "cell_type": "code",
   "execution_count": 326,
   "metadata": {},
   "outputs": [],
   "source": [
    "se = se.dropna(subset=['median_durations_by_segment_code_and_hour_and_day'])\n",
    "\n"
   ]
  },
  {
   "cell_type": "code",
   "execution_count": 327,
   "metadata": {},
   "outputs": [],
   "source": [
    "se['prev_timingPoint'] = se['prev_timingPoint'].astype(float).astype(int)"
   ]
  },
  {
   "cell_type": "code",
   "execution_count": 5,
   "metadata": {},
   "outputs": [],
   "source": [
    "# se.iloc[1978]"
   ]
  },
  {
   "cell_type": "code",
   "execution_count": 4,
   "metadata": {},
   "outputs": [
    {
     "name": "stdout",
     "output_type": "stream",
     "text": [
      "Calculating rare segments...\n",
      "\tCalculated\n"
     ]
    }
   ],
   "source": [
    "def filter_rare(stop_events):\n",
    "\n",
    "    print(\"Calculating rare segments...\")\n",
    "\n",
    "    segment_counts = stop_events.groupby(\"segment_code\").size()\n",
    "\n",
    "    filtered_stop_events = stop_events.drop(\n",
    "        stop_events[\n",
    "            stop_events[\"segment_code\"].isin(\n",
    "                segment_counts[segment_counts < 120].index.values\n",
    "            )\n",
    "        ].index\n",
    "    )\n",
    "\n",
    "    print(\"\\tCalculated\")\n",
    "\n",
    "    return filtered_stop_events\n",
    "\n",
    "se = filter_rare(se)"
   ]
  },
  {
   "cell_type": "code",
   "execution_count": 5,
   "metadata": {},
   "outputs": [],
   "source": [
    "def MAPE(forecast, actual):\n",
    "    \n",
    "    if(len(forecast) != len(actual)):\n",
    "        raise ValueError('Could not calculate MAPE, forecast and actual arrays are different length')\n",
    "        \n",
    "    forecast = np.asarray(forecast)\n",
    "    actual = np.asarray(actual)\n",
    "    \n",
    "    with np.errstate(divide='ignore', invalid='ignore'):\n",
    "        \n",
    "        division = (actual-forecast)/actual\n",
    "        \n",
    "        division[actual == 0] = 0\n",
    "        \n",
    "        # Instead of dividing by n we count by the number of non-zero values. \n",
    "        # Essentially ignoring all cases where the actual value is zero. \n",
    "        mape = 100 / np.count_nonzero(actual) * np.sum(np.abs(division))\n",
    "    \n",
    "    return mape"
   ]
  },
  {
   "cell_type": "code",
   "execution_count": 6,
   "metadata": {},
   "outputs": [],
   "source": [
    "def make_prediction(medians, results):\n",
    "    return medians * (1 + (results / 100))\n",
    "\n",
    "\n"
   ]
  },
  {
   "cell_type": "markdown",
   "metadata": {},
   "source": [
    "## Looking at Noise now"
   ]
  },
  {
   "cell_type": "markdown",
   "metadata": {},
   "source": [
    "Starting by making some more medians to compare"
   ]
  },
  {
   "cell_type": "code",
   "execution_count": 7,
   "metadata": {},
   "outputs": [],
   "source": [
    "se['dry'] = (se['rain'] == 0)\n",
    "se['weekend'] = (se['arrival_day'] > 4)"
   ]
  },
  {
   "cell_type": "code",
   "execution_count": 8,
   "metadata": {},
   "outputs": [],
   "source": [
    "segment_code_and_hour_and_daytype_groups = se[se[\"train\"]].groupby(\n",
    "    [\"segment_code\", \"arrival_hour\", \"weekend\"]\n",
    ")\n",
    "\n",
    "median_durations_by_segment_code_and_hour_and_daytype = (\n",
    "    segment_code_and_hour_and_daytype_groups[\"segment_duration\"]\n",
    "    .median()\n",
    "    .rename(\"median_durations_by_segment_code_and_hour_and_daytype\")\n",
    ")\n",
    "\n",
    "se = se.merge(\n",
    "    median_durations_by_segment_code_and_hour_and_daytype.to_frame(),\n",
    "    \"left\",\n",
    "    left_on=[\"segment_code\", \"arrival_hour\", \"weekend\"],\n",
    "    right_index=True,\n",
    ")"
   ]
  },
  {
   "cell_type": "code",
   "execution_count": 312,
   "metadata": {},
   "outputs": [],
   "source": [
    "median_prev_dwell_by_segment_code_and_hour_and_daytype = (\n",
    "    segment_code_and_hour_and_daytype_groups[\"dwell_duration_prev\"]\n",
    "    .median()\n",
    "    .rename(\"median_prev_dwell_by_segment_code_and_hour_and_daytype\")\n",
    ")\n",
    "\n",
    "se = se.merge(\n",
    "    median_prev_dwell_by_segment_code_and_hour_and_daytype.to_frame(),\n",
    "    \"left\",\n",
    "    left_on=[\"segment_code\", \"arrival_hour\", \"weekend\"],\n",
    "    right_index=True,\n",
    ")"
   ]
  },
  {
   "cell_type": "code",
   "execution_count": 355,
   "metadata": {},
   "outputs": [],
   "source": [
    "prev_stopCode_and_public_name_groups = se[se[\"train\"]].groupby(\n",
    "    [\"prev_stopCode\", \"publicName\"]\n",
    ")\n",
    "\n",
    "median_durations_by_prev_stop_code_public_name = (\n",
    "    segment_code_and_public_name_groups[\"dwell_duration_prev\"]\n",
    "    .median()\n",
    "    .rename(\"median_durations_by_prev_stop_code_public_name\")\n",
    ")\n",
    "\n",
    "se = se.merge(\n",
    "    median_durations_by_prev_stop_code_public_name.to_frame(),\n",
    "    \"left\",\n",
    "    left_on=[\"prev_stopCode\", \"publicName\"],\n",
    "    right_index=True,\n",
    ")\n",
    "\n",
    "\n"
   ]
  },
  {
   "cell_type": "code",
   "execution_count": 356,
   "metadata": {},
   "outputs": [],
   "source": [
    "prev_stopCode_and_public_name_and_hour_and_daytype_groups = se[se[\"train\"]].groupby(\n",
    "    [\"prev_stopCode\", \"arrival_hour\", \"weekend\", \"publicName\"]\n",
    ")\n",
    "\n",
    "median_durations_by_prev_stop_code_and_public_name_and_hour_and_daytype = (\n",
    "    prev_stopCode_and_public_name_and_hour_and_daytype_groups[\"segment_duration\"]\n",
    "    .median()\n",
    "    .rename(\"median_durations_by_prev_stop_code_and_public_name_and_hour_and_daytype\")\n",
    ")\n",
    "\n",
    "se = se.merge(\n",
    "    median_durations_by_prev_stop_code_and_public_name_and_hour_and_daytype.to_frame(),\n",
    "    \"left\",\n",
    "    left_on=[\"prev_stopCode\", \"arrival_hour\", \"weekend\", \"publicName\"],\n",
    "    right_index=True,\n",
    ")"
   ]
  },
  {
   "cell_type": "code",
   "execution_count": 9,
   "metadata": {},
   "outputs": [],
   "source": [
    "segment_code_and_hour_and_daytype_dry_groups = se[se[\"train\"]].groupby(\n",
    "    [\"segment_code\", \"arrival_hour\", \"weekend\", \"dry\"]\n",
    ")\n",
    "\n",
    "median_durations_by_segment_code_and_hour_and_daytype_and_dry = (\n",
    "    segment_code_and_hour_and_daytype_dry_groups[\"segment_duration\"]\n",
    "    .median()\n",
    "    .rename(\"median_durations_by_segment_code_and_hour_and_daytype_and_dry\")\n",
    ")\n",
    "\n",
    "se = se.merge(\n",
    "    median_durations_by_segment_code_and_hour_and_daytype_and_dry.to_frame(),\n",
    "    \"left\",\n",
    "    left_on=[\"segment_code\", \"arrival_hour\", \"weekend\", \"dry\"],\n",
    "    right_index=True,\n",
    ")"
   ]
  },
  {
   "cell_type": "code",
   "execution_count": 313,
   "metadata": {},
   "outputs": [],
   "source": [
    "median_prev_dwell_by_segment_code_and_hour_and_daytype_and_dry = (\n",
    "    segment_code_and_hour_and_daytype_dry_groups[\"dwell_duration_prev\"]\n",
    "    .median()\n",
    "    .rename(\"median_prev_dwell_by_segment_code_and_hour_and_daytype_and_dry\")\n",
    ")\n",
    "\n",
    "se = se.merge(\n",
    "    median_prev_dwell_by_segment_code_and_hour_and_daytype_and_dry.to_frame(),\n",
    "    \"left\",\n",
    "    left_on=[\"segment_code\", \"arrival_hour\", \"weekend\", \"dry\"],\n",
    "    right_index=True,\n",
    ")"
   ]
  },
  {
   "cell_type": "code",
   "execution_count": 382,
   "metadata": {},
   "outputs": [],
   "source": [
    "segment_code_groups = se[se[\"train\"]].groupby(\n",
    "    [\"segment_code\"]\n",
    ")\n",
    "\n",
    "median_prev_dwell_by_segment_code = (\n",
    "    segment_code_groups[\"dwell_duration_prev\"]\n",
    "    .median()\n",
    "    .rename(\"median_prev_dwell_by_segment_code\")\n",
    ")\n",
    "\n",
    "se = se.merge(\n",
    "    median_prev_dwell_by_segment_code.to_frame(),\n",
    "    \"left\",\n",
    "    left_on=[\"segment_code\"],\n",
    "    right_index=True,\n",
    ")"
   ]
  },
  {
   "cell_type": "code",
   "execution_count": 10,
   "metadata": {},
   "outputs": [],
   "source": [
    "se['diff_segment_and_mediun_by_segment_code_and_hour_and_daytype'] = se['segment_duration'] - se['median_durations_by_segment_code_and_hour_and_daytype']\n"
   ]
  },
  {
   "cell_type": "code",
   "execution_count": 364,
   "metadata": {},
   "outputs": [],
   "source": [
    "se['diff_prev_dwell_and_median_by_segment_code_and_hour_and_daytype'] = se['dwell_duration_prev'] - se['median_prev_dwell_by_segment_code_and_hour_and_daytype']\n",
    "se['diff_prev_dwell_and_median_durations_by_prev_stop_code_and_public_name_and_hour_and_daytype'] = se['dwell_duration_prev'] - se['median_durations_by_prev_stop_code_and_public_name_and_hour_and_daytype']\n"
   ]
  },
  {
   "cell_type": "code",
   "execution_count": 358,
   "metadata": {},
   "outputs": [],
   "source": [
    "segment_code_and_hour_and_daytype_groups = None\n",
    "median_durations_by_segment_code_and_hour_and_daytype = None\n",
    "median_prev_dwell_by_segment_code_and_hour_and_daytype = None\n",
    "prev_stopCode_and_public_name_groups = None\n",
    "median_durations_by_prev_stop_code_public_name = None\n",
    "segment_code_and_hour_and_daytype_dry_groups = None\n",
    "median_durations_by_segment_code_and_hour_and_daytype_and_dry = None\n",
    "median_prev_dwell_by_segment_code_and_hour_and_daytype_and_dry = None\n",
    "segment_code_groups = None\n",
    "median_prev_dwell_by_segment_code = None"
   ]
  },
  {
   "cell_type": "markdown",
   "metadata": {},
   "source": [
    "## Mapes of various dwell predictions"
   ]
  },
  {
   "cell_type": "code",
   "execution_count": 318,
   "metadata": {},
   "outputs": [
    {
     "name": "stdout",
     "output_type": "stream",
     "text": [
      "Mean prev dwell: 21.11332187064006\n",
      "Median prev dwell: 7.0\n",
      "Std prev dwell: 34.1452858927977\n"
     ]
    }
   ],
   "source": [
    "print(f\"Mean prev dwell: {np.mean(se['dwell_duration_prev'])}\")\n",
    "print(f\"Median prev dwell: {np.median(se['dwell_duration_prev'])}\")\n",
    "print(f\"Std prev dwell: {np.std(se['dwell_duration_prev'])}\")"
   ]
  },
  {
   "cell_type": "code",
   "execution_count": 331,
   "metadata": {},
   "outputs": [
    {
     "data": {
      "image/png": "[encoded data removed]",
      "text/plain": [
       "<Figure size 432x288 with 1 Axes>"
      ]
     },
     "metadata": {
      "needs_background": "light"
     },
     "output_type": "display_data"
    }
   ],
   "source": [
    "plt.hist([se.loc[se['prev_timingPoint'] == 0, 'dwell_duration_prev'], se.loc[se['prev_timingPoint'] == 1, 'dwell_duration_prev']], bins=100, stacked=True, range=(0,100));"
   ]
  },
  {
   "cell_type": "code",
   "execution_count": 365,
   "metadata": {},
   "outputs": [],
   "source": [
    "# np.count_nonzero(np.isnan(se['median_durations_by_prev_stop_code_and_public_name_and_hour_and_daytype']))\n",
    "se = se.dropna(subset=['median_durations_by_prev_stop_code_and_public_name_and_hour_and_daytype'])"
   ]
  },
  {
   "cell_type": "code",
   "execution_count": 371,
   "metadata": {},
   "outputs": [
    {
     "name": "stdout",
     "output_type": "stream",
     "text": [
      "MAPE median by code, hour, daytype, publicName: 84.54449026864724\n"
     ]
    }
   ],
   "source": [
    "print(f\"MAPE median by code, hour, daytype, publicName: {MAPE(se['median_prev_dwell_by_segment_code_and_hour_and_daytype'], se['dwell_duration_prev'])}\")\n",
    "      "
   ]
  },
  {
   "cell_type": "code",
   "execution_count": 372,
   "metadata": {},
   "outputs": [
    {
     "data": {
      "image/png": "[encoded data removed]",
      "text/plain": [
       "<Figure size 432x288 with 1 Axes>"
      ]
     },
     "metadata": {
      "needs_background": "light"
     },
     "output_type": "display_data"
    }
   ],
   "source": [
    "plt.hist(se['diff_prev_dwell_and_median_by_segment_code_and_hour_and_daytype'], bins=100, range=(-50, 50));\n"
   ]
  },
  {
   "cell_type": "code",
   "execution_count": 373,
   "metadata": {},
   "outputs": [
    {
     "data": {
      "text/plain": [
       "6.700222720447034"
      ]
     },
     "execution_count": 373,
     "metadata": {},
     "output_type": "execute_result"
    }
   ],
   "source": [
    "np.mean(se['diff_prev_dwell_and_median_by_segment_code_and_hour_and_daytype'])\n"
   ]
  },
  {
   "cell_type": "code",
   "execution_count": 374,
   "metadata": {},
   "outputs": [
    {
     "data": {
      "text/plain": [
       "30.592716820478085"
      ]
     },
     "execution_count": 374,
     "metadata": {},
     "output_type": "execute_result"
    }
   ],
   "source": [
    "np.std(se['diff_prev_dwell_and_median_by_segment_code_and_hour_and_daytype'])\n"
   ]
  },
  {
   "cell_type": "code",
   "execution_count": 376,
   "metadata": {},
   "outputs": [
    {
     "data": {
      "text/plain": [
       "36.94342218136824"
      ]
     },
     "execution_count": 376,
     "metadata": {},
     "output_type": "execute_result"
    }
   ],
   "source": [
    "(se['median_prev_dwell_by_segment_code_and_hour_and_daytype'] - se['median_dwell_prev_durations_by_stop_code']).std()\n"
   ]
  },
  {
   "cell_type": "markdown",
   "metadata": {},
   "source": [
    "## Looking at the bayesian esimates of some means and standard deviations travel times"
   ]
  },
  {
   "cell_type": "code",
   "execution_count": 11,
   "metadata": {},
   "outputs": [
    {
     "data": {
      "text/plain": [
       "(Mean(statistic=6.519246219417394, minmax=(6.490571141811569, 6.54792129702322)),\n",
       " Variance(statistic=1190.4587730594515, minmax=(1189.059582778715, 1191.857963340188)),\n",
       " Std_dev(statistic=34.50302556384659, minmax=(34.48274922202046, 34.523301905672724)))"
      ]
     },
     "execution_count": 11,
     "metadata": {},
     "output_type": "execute_result"
    }
   ],
   "source": [
    "stats.bayes_mvs(se['diff_segment_and_mediun_by_segment_code_and_hour_and_daytype'], alpha=0.9)"
   ]
  },
  {
   "cell_type": "code",
   "execution_count": 12,
   "metadata": {},
   "outputs": [
    {
     "data": {
      "text/plain": [
       "(Mean(statistic=39.51899909498335, minmax=(39.49646891067825, 39.54152927928845)),\n",
       " Variance(statistic=734.910825691202, minmax=(734.0470577827406, 735.7745935996635)),\n",
       " Std_dev(statistic=27.109238751599094, minmax=(27.093307505495577, 27.12516999770261)))"
      ]
     },
     "execution_count": 12,
     "metadata": {},
     "output_type": "execute_result"
    }
   ],
   "source": [
    "stats.bayes_mvs(se['median_durations_by_segment_code_and_hour_and_daytype'], alpha=0.9)"
   ]
  },
  {
   "cell_type": "code",
   "execution_count": 13,
   "metadata": {},
   "outputs": [
    {
     "data": {
      "text/plain": [
       "(Mean(statistic=46.03824531440074, minmax=(46.000698393453874, 46.075792235347606)),\n",
       " Variance(statistic=2041.0507928807974, minmax=(2038.6518703002623, 2043.4497154613325)),\n",
       " Std_dev(statistic=45.17799013768538, minmax=(45.15144045527118, 45.204539820099576)))"
      ]
     },
     "execution_count": 13,
     "metadata": {},
     "output_type": "execute_result"
    }
   ],
   "source": [
    "stats.bayes_mvs(se['segment_duration'], alpha=0.9)"
   ]
  },
  {
   "cell_type": "code",
   "execution_count": 14,
   "metadata": {},
   "outputs": [
    {
     "data": {
      "text/plain": [
       "9.884577531897612"
      ]
     },
     "execution_count": 14,
     "metadata": {},
     "output_type": "execute_result"
    }
   ],
   "source": [
    "(se['median_durations_by_segment_code_and_hour_and_daytype'] - se['median_durations_by_segment_code']).std()"
   ]
  },
  {
   "cell_type": "code",
   "execution_count": 381,
   "metadata": {},
   "outputs": [
    {
     "data": {
      "text/plain": [
       "30.62373787917237"
      ]
     },
     "execution_count": 381,
     "metadata": {},
     "output_type": "execute_result"
    }
   ],
   "source": [
    "(se['median_durations_by_segment_code_and_hour_and_daytype'] - se['median_dwell_prev_durations_by_stop_code']).abs().mean()\n"
   ]
  },
  {
   "cell_type": "markdown",
   "metadata": {},
   "source": [
    "### Same with dwell times"
   ]
  },
  {
   "cell_type": "code",
   "execution_count": 378,
   "metadata": {},
   "outputs": [
    {
     "data": {
      "text/plain": [
       "(Mean(statistic=6.700222720447034, minmax=(6.674797336501881, 6.725648104392186)),\n",
       " Variance(statistic=935.914322483505, minmax=(934.8143025264181, 937.0143424405918)),\n",
       " Std_dev(statistic=30.59271682089554, minmax=(30.57473835949365, 30.610695282297428)))"
      ]
     },
     "execution_count": 378,
     "metadata": {},
     "output_type": "execute_result"
    }
   ],
   "source": [
    "stats.bayes_mvs(se['diff_prev_dwell_and_median_by_segment_code_and_hour_and_daytype'], alpha=0.9)"
   ]
  },
  {
   "cell_type": "code",
   "execution_count": 379,
   "metadata": {},
   "outputs": [
    {
     "data": {
      "text/plain": [
       "(Mean(statistic=14.413174767131528, minmax=(14.400136413893037, 14.426213120370019)),\n",
       " Variance(statistic=246.11979204221217, minmax=(245.83051697014994, 246.4090671142744)),\n",
       " Std_dev(statistic=15.688205507393514, minmax=(15.678985999403071, 15.697425015383956)))"
      ]
     },
     "execution_count": 379,
     "metadata": {},
     "output_type": "execute_result"
    }
   ],
   "source": [
    "stats.bayes_mvs(se['median_prev_dwell_by_segment_code_and_hour_and_daytype'], alpha=0.9)"
   ]
  },
  {
   "cell_type": "code",
   "execution_count": 380,
   "metadata": {},
   "outputs": [
    {
     "data": {
      "text/plain": [
       "(Mean(statistic=21.11339748757856, minmax=(21.085019517505543, 21.141775457651576)),\n",
       " Variance(statistic=1165.9064541199377, minmax=(1164.536114616825, 1167.2767936230505)),\n",
       " Std_dev(statistic=34.145372367568896, minmax=(34.12530611249396, 34.16543862264383)))"
      ]
     },
     "execution_count": 380,
     "metadata": {},
     "output_type": "execute_result"
    }
   ],
   "source": [
    "stats.bayes_mvs(se['dwell_duration_prev'], alpha=0.9)"
   ]
  },
  {
   "cell_type": "code",
   "execution_count": 383,
   "metadata": {},
   "outputs": [
    {
     "data": {
      "text/plain": [
       "7.290213719226019"
      ]
     },
     "execution_count": 383,
     "metadata": {},
     "output_type": "execute_result"
    }
   ],
   "source": [
    "(se['median_prev_dwell_by_segment_code_and_hour_and_daytype'] - se['median_prev_dwell_by_segment_code']).std()"
   ]
  },
  {
   "cell_type": "code",
   "execution_count": 384,
   "metadata": {},
   "outputs": [
    {
     "data": {
      "text/plain": [
       "3.426111521570746"
      ]
     },
     "execution_count": 384,
     "metadata": {},
     "output_type": "execute_result"
    }
   ],
   "source": [
    "(se['median_prev_dwell_by_segment_code_and_hour_and_daytype'] - se['median_prev_dwell_by_segment_code']).abs().mean()"
   ]
  },
  {
   "cell_type": "code",
   "execution_count": null,
   "metadata": {},
   "outputs": [],
   "source": []
  },
  {
   "cell_type": "markdown",
   "metadata": {},
   "source": [
    "### Find the mean absolute difference and the standard devations of each pair of buses that do the same segment within 5 mins of each other."
   ]
  },
  {
   "cell_type": "code",
   "execution_count": 16,
   "metadata": {},
   "outputs": [],
   "source": [
    "se_segment_name_groups = se.groupby(\"segment_name\")"
   ]
  },
  {
   "cell_type": "code",
   "execution_count": 17,
   "metadata": {},
   "outputs": [],
   "source": [
    "differences = []\n",
    "arrival_hours = []\n",
    "weekend = []\n",
    "dry = []\n",
    "length = []\n",
    "distance = []\n",
    "\n",
    "for name, segment in se_segment_name_groups:\n",
    "    \n",
    "    segment = segment.sort_values(\"actualArrival\")\n",
    "    \n",
    "    previous_bus = segment.shift(1)\n",
    "    \n",
    "    mask = (segment['actualArrival'] - previous_bus['actualArrival']) < pd.Timedelta(\"5 minute\")\n",
    "    \n",
    "    differences.extend(segment[mask]['segment_duration'] - previous_bus[mask]['segment_duration'])\n",
    "    \n",
    "    arrival_hours.extend(segment[mask]['arrival_hour'])\n",
    "    \n",
    "    weekend.extend(segment[mask]['weekend'])\n",
    "    \n",
    "    dry.extend(segment[mask]['dry'])\n",
    "    \n",
    "    length.extend(segment[mask]['line_distance'])\n",
    "    \n",
    "    distance.extend(segment[mask]['to_centre_dist'])\n",
    "    "
   ]
  },
  {
   "cell_type": "code",
   "execution_count": 18,
   "metadata": {},
   "outputs": [],
   "source": [
    "differences = np.array(differences)\n",
    "arrival_hours = np.array(arrival_hours)\n",
    "weekend = np.array(weekend)\n",
    "dry = np.array(dry)\n",
    "length = np.array(length)\n",
    "distance = np.array(distance)"
   ]
  },
  {
   "cell_type": "code",
   "execution_count": 19,
   "metadata": {},
   "outputs": [
    {
     "name": "stdout",
     "output_type": "stream",
     "text": [
      "1162208\n",
      "1138964\n"
     ]
    }
   ],
   "source": [
    "length = len(differences)\n",
    "\n",
    "print(length)\n",
    "\n",
    "differences_filtered = np.sort(differences)[int(length/100):-int(length/100)]\n",
    "\n",
    "print(len(differences_filtered))"
   ]
  },
  {
   "cell_type": "code",
   "execution_count": 20,
   "metadata": {},
   "outputs": [
    {
     "data": {
      "text/plain": [
       "(Mean(statistic=-0.5940287797020843, minmax=(-0.6577734855331612, -0.5302840738710075)),\n",
       " Variance(statistic=1745.4909021800968, minmax=(1741.7245761318652, 1749.2572282283284)),\n",
       " Std_dev(statistic=41.77907253853413, minmax=(41.733998224776236, 41.824146852292024)))"
      ]
     },
     "execution_count": 20,
     "metadata": {},
     "output_type": "execute_result"
    }
   ],
   "source": [
    "stats.bayes_mvs(differences, alpha=0.9)"
   ]
  },
  {
   "cell_type": "code",
   "execution_count": 21,
   "metadata": {},
   "outputs": [
    {
     "data": {
      "text/plain": [
       "(Mean(statistic=-0.3783763139133458, minmax=(-0.41561192097219857, -0.3411407068544931)),\n",
       " Variance(statistic=583.6767053909387, minmax=(582.4044930124313, 584.948917769446)),\n",
       " Std_dev(statistic=24.159402008140404, minmax=(24.13307245788749, 24.185731558393318)))"
      ]
     },
     "execution_count": 21,
     "metadata": {},
     "output_type": "execute_result"
    }
   ],
   "source": [
    "stats.bayes_mvs(differences_filtered, alpha=0.9)"
   ]
  },
  {
   "cell_type": "code",
   "execution_count": 22,
   "metadata": {},
   "outputs": [
    {
     "data": {
      "text/plain": [
       "18.614040688069604"
      ]
     },
     "execution_count": 22,
     "metadata": {},
     "output_type": "execute_result"
    }
   ],
   "source": [
    "np.mean(np.abs(differences))"
   ]
  },
  {
   "cell_type": "code",
   "execution_count": 23,
   "metadata": {},
   "outputs": [
    {
     "data": {
      "text/plain": [
       "8.0"
      ]
     },
     "execution_count": 23,
     "metadata": {},
     "output_type": "execute_result"
    }
   ],
   "source": [
    "np.median(np.abs(differences))"
   ]
  },
  {
   "cell_type": "code",
   "execution_count": 24,
   "metadata": {},
   "outputs": [
    {
     "data": {
      "text/plain": [
       "14.820170786785184"
      ]
     },
     "execution_count": 24,
     "metadata": {},
     "output_type": "execute_result"
    }
   ],
   "source": [
    "np.mean(np.abs(differences_filtered))"
   ]
  },
  {
   "cell_type": "code",
   "execution_count": 25,
   "metadata": {},
   "outputs": [
    {
     "data": {
      "text/plain": [
       "7.0"
      ]
     },
     "execution_count": 25,
     "metadata": {},
     "output_type": "execute_result"
    }
   ],
   "source": [
    "np.median(np.abs(differences_filtered))"
   ]
  },
  {
   "cell_type": "code",
   "execution_count": 26,
   "metadata": {},
   "outputs": [
    {
     "data": {
      "image/png": "[encoded data removed]",
      "text/plain": [
       "<Figure size 432x288 with 1 Axes>"
      ]
     },
     "metadata": {
      "needs_background": "light"
     },
     "output_type": "display_data"
    }
   ],
   "source": [
    "plt.hist(differences, bins=100, range=(-150, 150));"
   ]
  },
  {
   "cell_type": "markdown",
   "metadata": {},
   "source": [
    "## Approach one, subtract the mean for each segment/hour/daytype"
   ]
  },
  {
   "cell_type": "markdown",
   "metadata": {},
   "source": [
    "Try using both the mean and the median"
   ]
  },
  {
   "cell_type": "code",
   "execution_count": 27,
   "metadata": {},
   "outputs": [],
   "source": [
    "mean_durations_by_segment_code_and_hour_and_daytype = (\n",
    "    segment_code_and_hour_and_daytype_groups[\"segment_duration\"]\n",
    "    .mean()\n",
    "    .rename(\"mean_durations_by_segment_code_and_hour_and_daytype\")\n",
    ")\n",
    "\n",
    "se = se.merge(\n",
    "    mean_durations_by_segment_code_and_hour_and_daytype.to_frame(),\n",
    "    \"left\",\n",
    "    left_on=[\"segment_code\", \"arrival_hour\", \"weekend\"],\n",
    "    right_index=True,\n",
    ")"
   ]
  },
  {
   "cell_type": "code",
   "execution_count": 295,
   "metadata": {},
   "outputs": [],
   "source": [
    "just_noise = se['segment_duration'] - se['median_durations_by_segment_code_and_hour_and_daytype']"
   ]
  },
  {
   "cell_type": "code",
   "execution_count": 296,
   "metadata": {},
   "outputs": [],
   "source": [
    "min_p, max_p = np.percentile(just_noise, [0.01,99.99])\n",
    "just_noise_2_in_10000 = just_noise[(just_noise < max_p) & (just_noise > min_p)]"
   ]
  },
  {
   "cell_type": "code",
   "execution_count": 340,
   "metadata": {},
   "outputs": [],
   "source": [
    "# From: https://stackoverflow.com/questions/6620471/fitting-empirical-distribution-to-theoretical-ones-with-scipy-python\n",
    "# And then improved...\n",
    "\n",
    "# Create models from data\n",
    "def best_fit_distribution(data, bins=200, ax=None):\n",
    "    \"\"\"Model data by finding best fit distribution to data\"\"\"\n",
    "    # Get histogram of original data\n",
    "    y, x = np.histogram(data, bins=bins, density=True, range=(-100, 100))\n",
    "    x = (x + np.roll(x, -1))[:-1] / 2.0\n",
    " \n",
    "    dist_continu = [d for d in dir(stats) if isinstance(getattr(stats, d), stats.rv_continuous)]\n",
    "#     dist_continu = [\"cauchy\", \"johnsonsu\", \"tukeylambda\", \"norminvgauss\", \"t\"] \n",
    "\n",
    "    # Best holders\n",
    "    best_distribution = st.norm\n",
    "    best_params = (0.0, 1.0)\n",
    "    best_sse = np.inf\n",
    "    \n",
    "    dist_results_name = []\n",
    "    dist_results_p = []\n",
    "    dist_results_D = []\n",
    "    dist_results_sse = []\n",
    "    dist_results_chi2_score = []\n",
    "    dist_results_chi2_p = []\n",
    "    params = {}\n",
    "\n",
    "    # Estimate distribution parameters from data\n",
    "    for dist_name in dist_continu:\n",
    "        \n",
    "        # Try to fit the distribution\n",
    "        try:\n",
    "            # Ignore warnings from data that can't be fit\n",
    "            with warnings.catch_warnings():\n",
    "                warnings.filterwarnings('ignore')\n",
    "                \n",
    "                dist = getattr(stats, dist_name)\n",
    "                param = dist.fit(data)\n",
    "                \n",
    "                params[dist_name] = param\n",
    "                D, p = stats.kstest(data, dist_name, args=param)\n",
    "\n",
    "                # Separate parts of parameters\n",
    "                arg = param[:-2]\n",
    "                loc = param[-2]\n",
    "                scale = param[-1]\n",
    "                \n",
    "                print(\".\", end=\"\", flush=True)\n",
    "\n",
    "                # Calculate fitted PDF and error with fit in distribution\n",
    "                pdf = dist.pdf(x, loc=loc, scale=scale, *arg)\n",
    "                sse = np.sum(np.power(y - pdf, 2.0))\n",
    "                chi2 = stats.chisquare(y, pdf)\n",
    "                \n",
    "                dist_results_name.append(dist_name)\n",
    "                dist_results_p.append(p)\n",
    "                dist_results_D.append(D)\n",
    "                dist_results_sse.append(sse)\n",
    "                dist_results_chi2_score.append(chi2[0])\n",
    "                dist_results_chi2_p.append(chi2[1])\n",
    "                \n",
    "                # if axis pass in add to plot\n",
    "                try:\n",
    "                    if ax:\n",
    "                        pd.Series(pdf, x).plot(ax=ax)\n",
    "                    end\n",
    "                except Exception:\n",
    "                    pass\n",
    "\n",
    "                # identify if this distribution is better\n",
    "                if best_sse > sse > 0:\n",
    "                    best_distribution = dist_name\n",
    "                    best_params = param\n",
    "                    best_sse = sse\n",
    "\n",
    "        except Exception:\n",
    "            pass\n",
    "        \n",
    "    sorted_idx = np.argsort(dist_results_sse)\n",
    "    \n",
    "    print(\"\\nResults\")\n",
    "    for i in range(len(sorted_idx)):\n",
    "        print(f\"{dist_results_name[sorted_idx[i]]: <14},sse:{dist_results_sse[sorted_idx[i]]:0.6f} chi2:{dist_results_chi2_score[sorted_idx[i]]:0.6f} chi1_p:{dist_results_chi2_p[sorted_idx[i]]:0.6f} p:{dist_results_p[sorted_idx[i]]:0.4f} D:{dist_results_D[sorted_idx[i]]:0.4f}\")\n",
    "        \n",
    "\n",
    "    return (best_distribution, best_params)"
   ]
  },
  {
   "cell_type": "code",
   "execution_count": 341,
   "metadata": {},
   "outputs": [
    {
     "name": "stdout",
     "output_type": "stream",
     "text": [
      ".................................................................................................\n",
      "Results\n",
      "gennorm       ,sse:0.004724 chi2:0.309691 chi1_p:1.000000 p:0.0000 D:0.1351\n",
      "t             ,sse:0.006084 chi2:0.556275 chi1_p:1.000000 p:0.0000 D:0.1455\n",
      "johnsonsu     ,sse:0.006630 chi2:0.319676 chi1_p:1.000000 p:0.0000 D:0.0843\n",
      "nct           ,sse:0.007967 chi2:0.422601 chi1_p:1.000000 p:0.0000 D:0.0937\n",
      "dweibull      ,sse:0.010400 chi2:0.295870 chi1_p:1.000000 p:0.0000 D:0.1406\n",
      "cauchy        ,sse:0.012794 chi2:0.635870 chi1_p:1.000000 p:0.0000 D:0.1560\n",
      "norminvgauss  ,sse:0.014339 chi2:0.483246 chi1_p:1.000000 p:0.0000 D:0.1205\n",
      "tukeylambda   ,sse:0.014819 chi2:0.839085 chi1_p:1.000000 p:0.0000 D:0.1739\n",
      "dgamma        ,sse:0.016156 chi2:0.525603 chi1_p:1.000000 p:0.0000 D:0.2028\n",
      "laplace       ,sse:0.026198 chi2:0.942975 chi1_p:1.000000 p:0.0000 D:0.2126\n",
      "hypsecant     ,sse:0.031944 chi2:1.413321 chi1_p:1.000000 p:0.0000 D:0.1745\n",
      "genlogistic   ,sse:0.032943 chi2:2.358420 chi1_p:1.000000 p:0.0000 D:0.2011\n",
      "exponnorm     ,sse:0.033406 chi2:186548.824417 chi1_p:0.000000 p:0.0000 D:0.1959\n",
      "logistic      ,sse:0.033549 chi2:1.676353 chi1_p:1.000000 p:0.0000 D:0.1909\n",
      "lognorm       ,sse:0.036721 chi2:10.649484 chi1_p:1.000000 p:0.0000 D:0.2121\n",
      "skewnorm      ,sse:0.036949 chi2:406.182465 chi1_p:0.000000 p:0.0000 D:0.2461\n",
      "fatiguelife   ,sse:0.036965 chi2:5.401795 chi1_p:1.000000 p:0.0000 D:0.2140\n",
      "invgamma      ,sse:0.037292 chi2:2.502242 chi1_p:1.000000 p:0.0000 D:0.2166\n",
      "betaprime     ,sse:0.037312 chi2:2.503383 chi1_p:1.000000 p:0.0000 D:0.2166\n",
      "exponweib     ,sse:0.037371 chi2:95.436626 chi1_p:1.000000 p:0.0000 D:0.2241\n",
      "beta          ,sse:0.037670 chi2:2.636031 chi1_p:1.000000 p:0.0000 D:0.2123\n",
      "pearson3      ,sse:0.038055 chi2:2.694592 chi1_p:1.000000 p:0.0000 D:0.2195\n",
      "powernorm     ,sse:0.038351 chi2:18.318370 chi1_p:1.000000 p:0.0000 D:0.2349\n",
      "chi           ,sse:0.038567 chi2:2.868651 chi1_p:1.000000 p:0.0000 D:0.2221\n",
      "vonmises_line ,sse:0.039006 chi2:3.031681 chi1_p:1.000000 p:0.0000 D:0.2217\n",
      "johnsonsb     ,sse:0.039292 chi2:3.143812 chi1_p:1.000000 p:0.0000 D:0.2229\n",
      "crystalball   ,sse:0.039412 chi2:3.190612 chi1_p:1.000000 p:0.0000 D:0.2386\n",
      "norm          ,sse:0.039554 chi2:3.250603 chi1_p:1.000000 p:0.0000 D:0.2218\n",
      "moyal         ,sse:0.041614 chi2:274.883009 chi1_p:0.000293 p:0.0000 D:0.2620\n",
      "rdist         ,sse:0.042645 chi2:4.892917 chi1_p:1.000000 p:0.0000 D:0.2494\n",
      "gumbel_r      ,sse:0.042655 chi2:4.954627 chi1_p:1.000000 p:0.0000 D:0.2721\n",
      "burr          ,sse:0.044394 chi2:6.367175 chi1_p:1.000000 p:0.0000 D:0.2915\n",
      "invgauss      ,sse:0.045205 chi2:6.925477 chi1_p:1.000000 p:0.0000 D:0.3222\n",
      "ncf           ,sse:0.045572 chi2:7.850919 chi1_p:1.000000 p:0.0000 D:0.3769\n",
      "invweibull    ,sse:0.046125 chi2:8.467950 chi1_p:1.000000 p:0.0000 D:0.3177\n",
      "rayleigh      ,sse:0.048003 chi2:11.760975 chi1_p:1.000000 p:0.0000 D:0.4626\n",
      "gumbel_l      ,sse:0.049248 chi2:19.892771 chi1_p:1.000000 p:0.0000 D:0.4646\n",
      "kappa3        ,sse:0.049344 chi2:20.602176 chi1_p:1.000000 p:0.0000 D:0.7331\n",
      "halfnorm      ,sse:0.049408 chi2:18.294718 chi1_p:1.000000 p:0.0000 D:0.5590\n",
      "gausshyper    ,sse:0.049471 chi2:21.737814 chi1_p:1.000000 p:0.0000 D:0.4954\n",
      "loggamma      ,sse:0.049481 chi2:21.665781 chi1_p:1.000000 p:0.0000 D:0.4221\n",
      "genhalflogistic,sse:0.050616 chi2:33.988215 chi1_p:1.000000 p:0.0000 D:0.5874\n",
      "triang        ,sse:0.050827 chi2:39.165769 chi1_p:1.000000 p:0.0000 D:0.6725\n",
      "wald          ,sse:0.050869 chi2:38.560406 chi1_p:1.000000 p:0.0000 D:0.4426\n",
      "halflogistic  ,sse:0.050871 chi2:38.673943 chi1_p:1.000000 p:0.0000 D:0.5811\n",
      "recipinvgauss ,sse:0.050942 chi2:37.658805 chi1_p:1.000000 p:0.0000 D:0.6130\n",
      "gilbrat       ,sse:0.051084 chi2:43.587812 chi1_p:1.000000 p:0.0000 D:0.4405\n",
      "genpareto     ,sse:0.051125 chi2:44.687640 chi1_p:1.000000 p:0.0000 D:0.5965\n",
      "gengamma      ,sse:0.051212 chi2:47.138762 chi1_p:1.000000 p:0.0000 D:0.9851\n",
      "expon         ,sse:0.051221 chi2:47.391560 chi1_p:1.000000 p:0.0000 D:0.5751\n",
      "pareto        ,sse:0.051254 chi2:48.682986 chi1_p:1.000000 p:0.0000 D:0.4961\n",
      "kappa4        ,sse:0.051313 chi2:50.625265 chi1_p:1.000000 p:0.0000 D:0.5657\n",
      "cosine        ,sse:0.051433 chi2:56.126592 chi1_p:1.000000 p:0.0000 D:0.5838\n",
      "halfcauchy    ,sse:0.051446 chi2:55.016378 chi1_p:1.000000 p:0.0000 D:0.4499\n",
      "bradford      ,sse:0.051545 chi2:59.653949 chi1_p:1.000000 p:0.0000 D:0.4897\n",
      "truncexpon    ,sse:0.051580 chi2:61.679377 chi1_p:1.000000 p:0.0000 D:0.6003\n",
      "anglit        ,sse:0.051685 chi2:67.471928 chi1_p:1.000000 p:0.0000 D:0.6484\n",
      "alpha         ,sse:0.051773 chi2:68.308426 chi1_p:1.000000 p:0.0000 D:0.7296\n",
      "powerlaw      ,sse:0.051782 chi2:72.158673 chi1_p:1.000000 p:0.0000 D:0.5670\n",
      "semicircular  ,sse:0.051805 chi2:74.401239 chi1_p:1.000000 p:0.0000 D:0.7355\n",
      "levy          ,sse:0.051815 chi2:73.157266 chi1_p:1.000000 p:0.0000 D:0.6166\n",
      "uniform       ,sse:0.051883 chi2:79.277742 chi1_p:1.000000 p:0.0000 D:0.7090\n",
      "argus         ,sse:0.051997 chi2:88.723434 chi1_p:1.000000 p:0.0000 D:0.8210\n",
      "halfgennorm   ,sse:0.052029 chi2:89.191295 chi1_p:1.000000 p:0.0000 D:0.5722\n",
      "erlang        ,sse:0.052031 chi2:89.957865 chi1_p:1.000000 p:0.0000 D:0.4648\n",
      "arcsine       ,sse:0.052161 chi2:104.191732 chi1_p:1.000000 p:0.0000 D:0.6316\n",
      "powerlognorm  ,sse:0.052330 chi2:126.651222 chi1_p:0.999984 p:0.0000 D:0.6047\n",
      "mielke        ,sse:0.052457 chi2:153.482960 chi1_p:0.992839 p:0.0000 D:0.4833\n",
      "trapz         ,sse:0.052504 chi2:170.428289 chi1_p:0.929659 p:0.0000 D:0.8770\n",
      "burr12        ,sse:0.052586 chi2:193.597290 chi1_p:0.594758 p:0.0000 D:0.6166\n",
      "lomax         ,sse:0.052704 chi2:252.233977 chi1_p:0.006306 p:0.0000 D:0.5960\n",
      "levy_l        ,sse:0.052707 chi2:259.591338 chi1_p:0.002501 p:0.0000 D:0.6657\n",
      "f             ,sse:0.052835 chi2:377.348773 chi1_p:0.000000 p:0.0000 D:0.6685\n",
      "fisk          ,sse:0.052865 chi2:424.866359 chi1_p:0.000000 p:0.0000 D:0.8118\n",
      "frechet_r     ,sse:0.052894 chi2:484.230014 chi1_p:0.000000 p:0.0000 D:0.8825\n",
      "weibull_min   ,sse:0.052894 chi2:484.230014 chi1_p:0.000000 p:0.0000 D:0.8825\n",
      "loglaplace    ,sse:0.052901 chi2:502.854525 chi1_p:0.000000 p:0.0000 D:0.7999\n",
      "genextreme    ,sse:0.052928 chi2:579.617591 chi1_p:0.000000 p:0.0000 D:0.8287\n",
      "frechet_l     ,sse:0.053057 chi2:2136.057078 chi1_p:0.000000 p:0.0000 D:0.8854\n",
      "weibull_max   ,sse:0.053057 chi2:2136.057078 chi1_p:0.000000 p:0.0000 D:0.8854\n",
      "foldcauchy    ,sse:0.053082 chi2:4160.133755 chi1_p:0.000000 p:0.0000 D:0.9932\n",
      "ncx2          ,sse:0.053106 chi2:1874520.006154 chi1_p:0.000000 p:0.0000 D:0.9987\n",
      "gamma         ,sse:0.053107 chi2:56116798396555546174553063424.000000 chi1_p:0.000000 p:0.0000 D:0.9995\n",
      "chi2          ,sse:0.053107 chi2:5516205690691096936448.000000 chi1_p:0.000000 p:0.0000 D:0.9998\n",
      "truncnorm     ,sse:0.053107 chi2:nan chi1_p:nan p:0.0000 D:0.6323\n",
      "foldnorm      ,sse:0.053107 chi2:nan chi1_p:nan p:0.0000 D:1.0000\n",
      "rice          ,sse:0.053107 chi2:nan chi1_p:nan p:0.0000 D:1.0000\n",
      "reciprocal    ,sse:0.053107 chi2:nan chi1_p:nan p:0.0000 D:0.5647\n",
      "gompertz      ,sse:0.053107 chi2:nan chi1_p:nan p:0.0000 D:1.0000\n",
      "nakagami      ,sse:0.053107 chi2:nan chi1_p:nan p:0.0000 D:1.0000\n",
      "maxwell       ,sse:0.053107 chi2:nan chi1_p:nan p:0.0000 D:1.0000\n",
      "exponpow      ,sse:0.053107 chi2:nan chi1_p:nan p:0.0000 D:1.0000\n",
      "genexpon      ,sse:0.053189 chi2:644444310089996959744.000000 chi1_p:0.000000 p:0.0000 D:0.9987\n",
      "kstwobign     ,sse:2281771080413403366695632156458758513000185856.000000 chi2:675539944105957725831168.000000 chi1_p:0.000000 p:0.0000 D:1.0000\n",
      "vonmises      ,sse:9858390813185644348240457643839508420437992469172555440193536.000000 chi2:33441105830727708787745090437120.000000 chi1_p:0.000000 p:0.0000 D:192939555899758330649459841564672.0000\n",
      "ksone         ,sse:nan chi2:nan chi1_p:nan p:nan D:nan\n",
      "wrapcauchy    ,sse:nan chi2:nan chi1_p:nan p:nan D:nan\n"
     ]
    },
    {
     "data": {
      "image/png": "[encoded data removed]",
      "text/plain": [
       "<Figure size 864x576 with 1 Axes>"
      ]
     },
     "metadata": {
      "needs_background": "light"
     },
     "output_type": "display_data"
    },
    {
     "name": "stdout",
     "output_type": "stream",
     "text": [
      "(0.3744386408189616, -9.141857720397791e-20, 0.40193944799129655)\n"
     ]
    }
   ],
   "source": [
    "plt.figure(figsize=(12,8))\n",
    "ax = plt.gca()\n",
    "ax.hist(se['diff_prev_dwell_and_mediun_by_segment_code_and_hour_and_daytype'], bins=200, density=True, alpha=0.5, range=(-100, 100))\n",
    "# Save plot limits\n",
    "dataYLim = ax.get_ylim()\n",
    "\n",
    "one_percent_data = np.random.choice(se['diff_prev_dwell_and_mediun_by_segment_code_and_hour_and_daytype'], int(se.shape[0]/100), replace=False)\n",
    "\n",
    "st = stats\n",
    "best_dist, best_params = best_fit_distribution(one_percent_data, 200, ax)\n",
    "\n",
    "ax.set_ylim(dataYLim);\n",
    "\n",
    "plt.show()\n",
    "\n",
    "print(best_params)"
   ]
  },
  {
   "cell_type": "code",
   "execution_count": 310,
   "metadata": {},
   "outputs": [
    {
     "data": {
      "text/plain": [
       "(0.9775821290798283, -0.3946359644175342, 4.686630878944959)"
      ]
     },
     "execution_count": 310,
     "metadata": {},
     "output_type": "execute_result"
    }
   ],
   "source": [
    "stats.cauchy.fit(just_noise)"
   ]
  },
  {
   "cell_type": "code",
   "execution_count": 307,
   "metadata": {},
   "outputs": [
    {
     "data": {
      "text/plain": [
       "(-0.30933567903934067,\n",
       " 0.5603583009365332,\n",
       " -1.548913931561055,\n",
       " 2.9268979929733177)"
      ]
     },
     "execution_count": 307,
     "metadata": {},
     "output_type": "execute_result"
    }
   ],
   "source": [
    "best_params"
   ]
  },
  {
   "cell_type": "code",
   "execution_count": 300,
   "metadata": {},
   "outputs": [
    {
     "data": {
      "text/plain": [
       "<matplotlib.legend.Legend at 0x1a696ee4e0>"
      ]
     },
     "execution_count": 300,
     "metadata": {},
     "output_type": "execute_result"
    },
    {
     "data": {
      "image/png": "[encoded data removed]",
      "text/plain": [
       "<Figure size 432x288 with 1 Axes>"
      ]
     },
     "metadata": {
      "needs_background": "light"
     },
     "output_type": "display_data"
    }
   ],
   "source": [
    "fig, ax1 = plt.subplots()\n",
    "\n",
    "granularity = 300\n",
    "\n",
    "ax1.hist(just_noise, bins=granularity, range=(-150, 150));\n",
    "\n",
    "# ax2 = ax1.twinx()\n",
    "x = np.linspace(-150, 150, granularity)\n",
    "ax1.plot(x, stats.cauchy.pdf(x, -0.3848045122209864, 4.753788866524921) * len(just_noise), label=\"just noise\")\n",
    "ax1.plot(x, stats.cauchy.pdf(x, 0, 7.488655070821551/2) * len(just_noise), label=\"diffs\")\n",
    "ax1.legend()"
   ]
  },
  {
   "cell_type": "code",
   "execution_count": 311,
   "metadata": {},
   "outputs": [
    {
     "data": {
      "text/plain": [
       "((array([-11679837.34899335,  -4714931.97611849,  -2925803.35328832, ...,\n",
       "           2925802.56378817,   4714931.18687263,  11679836.55972142]),\n",
       "  array([-3583. , -2265. , -1815. , ...,  2853.5,  3541. ,  3553.5])),\n",
       " (0.0005999621015737456, 6.519482986040019, 0.16918992439742))"
      ]
     },
     "execution_count": 311,
     "metadata": {},
     "output_type": "execute_result"
    },
    {
     "data": {
      "image/png": "[encoded data removed]",
      "text/plain": [
       "<Figure size 432x288 with 1 Axes>"
      ]
     },
     "metadata": {
      "needs_background": "light"
     },
     "output_type": "display_data"
    }
   ],
   "source": [
    "stats.probplot(just_noise, sparams=(-0.3848045122209864, 4.753788866524921), dist=\"cauchy\", plot=plt)"
   ]
  },
  {
   "cell_type": "code",
   "execution_count": 196,
   "metadata": {},
   "outputs": [
    {
     "data": {
      "text/plain": [
       "(0.07997091972321868, 7.488655070821551)"
      ]
     },
     "execution_count": 196,
     "metadata": {},
     "output_type": "execute_result"
    }
   ],
   "source": [
    "stats.cauchy.fit(differences)"
   ]
  },
  {
   "cell_type": "code",
   "execution_count": 200,
   "metadata": {},
   "outputs": [],
   "source": [
    "rv = stats.cauchy(loc=0, scale=7.488655070821551/2)"
   ]
  },
  {
   "cell_type": "code",
   "execution_count": 266,
   "metadata": {},
   "outputs": [
    {
     "data": {
      "text/plain": [
       "[<matplotlib.lines.Line2D at 0x1b8a554e10>]"
      ]
     },
     "execution_count": 266,
     "metadata": {},
     "output_type": "execute_result"
    },
    {
     "data": {
      "image/png": "[encoded data removed]",
      "text/plain": [
       "<Figure size 432x288 with 1 Axes>"
      ]
     },
     "metadata": {
      "needs_background": "light"
     },
     "output_type": "display_data"
    }
   ],
   "source": [
    "min_p, max_p = np.percentile(just_noise, [0.1,99.9])\n",
    "\n",
    "x = np.linspace(-100,100, 200)\n",
    "plt.plot(x, np.clip(rv.pdf(x), min_p, max_p))"
   ]
  },
  {
   "cell_type": "markdown",
   "metadata": {},
   "source": [
    "## Analytic Noise Standard Deviation using distribution found from differences"
   ]
  },
  {
   "cell_type": "code",
   "execution_count": 377,
   "metadata": {},
   "outputs": [
    {
     "data": {
      "text/plain": [
       "22.796971394987445"
      ]
     },
     "execution_count": 377,
     "metadata": {},
     "output_type": "execute_result"
    }
   ],
   "source": [
    "min_p, max_p = np.percentile(just_noise, [0.1,99.9])\n",
    "\n",
    "samples = stats.cauchy.rvs(loc=0, scale=7.488655070821551/2, size=100000000)\n",
    "\n",
    "samples_truncated = samples[(samples > min_p) & (samples < max_p)]\n",
    "\n",
    "np.std(samples_truncated)"
   ]
  },
  {
   "cell_type": "code",
   "execution_count": 339,
   "metadata": {},
   "outputs": [
    {
     "data": {
      "text/plain": [
       "0.98324377"
      ]
     },
     "execution_count": 339,
     "metadata": {},
     "output_type": "execute_result"
    }
   ],
   "source": [
    "len(samples_truncated)/len(samples)"
   ]
  },
  {
   "cell_type": "markdown",
   "metadata": {},
   "source": [
    "## Analytic Noise Standard Deviation using Just Noise"
   ]
  },
  {
   "cell_type": "code",
   "execution_count": 301,
   "metadata": {},
   "outputs": [
    {
     "data": {
      "text/plain": [
       "34.50302556417721"
      ]
     },
     "execution_count": 301,
     "metadata": {},
     "output_type": "execute_result"
    }
   ],
   "source": [
    "np.std(just_noise)"
   ]
  },
  {
   "cell_type": "code",
   "execution_count": 302,
   "metadata": {},
   "outputs": [
    {
     "data": {
      "text/plain": [
       "32.31197290694672"
      ]
     },
     "execution_count": 302,
     "metadata": {},
     "output_type": "execute_result"
    }
   ],
   "source": [
    "np.std(just_noise_2_in_10000)"
   ]
  },
  {
   "cell_type": "code",
   "execution_count": null,
   "metadata": {},
   "outputs": [],
   "source": []
  },
  {
   "cell_type": "code",
   "execution_count": 393,
   "metadata": {},
   "outputs": [
    {
     "data": {
      "text/plain": [
       "train                                                                     3917018\n",
       "test                                                                      3917018\n",
       "Index                                                                    31336144\n",
       "diff_percent_full_segment_and_median_by_segment_code_and_hour_and_day    31336144\n",
       "diff_percent_full_segment_and_median_by_segment_code                     31336144\n",
       "diff_full_segment_and_median_by_segment_code_and_hour_and_day            31336144\n",
       "diff_full_segment_and_median_by_segment_code                             31336144\n",
       "median_full_durations_by_segment_code_and_hour_and_day                   31336144\n",
       "median_full_durations_by_segment_code_and_hour                           31336144\n",
       "diff_segment_and_median_by_segment_code                                  31336144\n",
       "median_full_durations_by_segment_code                                    31336144\n",
       "median_dwell_dest_by_stop_code_and_hour_and_day                          31336144\n",
       "median_dwell_prev_by_stop_code_and_hour                                  31336144\n",
       "median_dwell_dest_by_stop_code_and_hour                                  31336144\n",
       "median_dwell_prev_durations_by_stop_code                                 31336144\n",
       "median_dwell_dest_durations_by_stop_code                                 31336144\n",
       "median_durations_by_segment_code_and_hour_and_day                        31336144\n",
       "median_durations_by_segment_code_and_hour                                31336144\n",
       "median_durations_by_segment_code                                         31336144\n",
       "median_dwell_prev_by_stop_code_and_hour_and_day                          31336144\n",
       "diff_segment_and_median_by_segment_code_and_hour_and_day                 31336144\n",
       "diff_percent_segment_and_median_by_segment_code                          31336144\n",
       "diff_percent_segment_and_median_by_segment_code_and_hour_and_day         31336144\n",
       "diff_prev_dwell_and_mediun_by_segment_code_and_hour_and_daytype          31336144\n",
       "median_prev_dwell_by_segment_code_and_hour_and_daytype_and_dry           31336144\n",
       "median_prev_dwell_by_segment_code_and_hour_and_daytype                   31336144\n",
       "mean_durations_by_segment_code_and_hour_and_daytype                      31336144\n",
       "diff_segment_and_mediun_by_segment_code_and_hour_and_daytype             31336144\n",
       "median_durations_by_segment_code_and_hour_and_daytype_and_dry            31336144\n",
       "median_durations_by_segment_code_and_hour_and_daytype                    31336144\n",
       "                                                                           ...   \n",
       "actualArrival                                                            31336144\n",
       "aimedDeparture                                                           31336144\n",
       "aimedArrival                                                             31336144\n",
       "stopCode                                                                 31336144\n",
       "date                                                                     31336144\n",
       "id                                                                       31336144\n",
       "workid                                                                   31336144\n",
       "mean_dwell_prev_by_stop_code_and_hour                                    31336144\n",
       "segment_code                                                             31336144\n",
       "line_distance                                                            31336144\n",
       "mean_dwell_prev_durations_by_stop_code                                   31336144\n",
       "mean_dwell_dest_durations_by_stop_code                                   31336144\n",
       "mean_durations_by_segment_code_and_hour_and_day                          31336144\n",
       "mean_durations_by_segment_code_and_hour                                  31336144\n",
       "mean_durations_by_segment_code                                           31336144\n",
       "arrival_day                                                              31336144\n",
       "arrival_hour                                                             31336144\n",
       "full_duration                                                            31336144\n",
       "segment_name                                                             31336144\n",
       "timetable_segment_duration                                               31336144\n",
       "dwell_duration_prev                                                      31336144\n",
       "dwell_duration_dest                                                      31336144\n",
       "rain                                                                     31336144\n",
       "direction_degrees                                                        31336144\n",
       "direction                                                                31336144\n",
       "to_centre_dist                                                           31336144\n",
       "midpoint_lon                                                             31336144\n",
       "midpoint_lat                                                             31336144\n",
       "segment_duration                                                         31336144\n",
       "median_prev_dwell_by_segment_code                                        31336144\n",
       "Length: 88, dtype: int64"
      ]
     },
     "execution_count": 393,
     "metadata": {},
     "output_type": "execute_result"
    }
   ],
   "source": [
    "se.memory_usage().sort_values()"
   ]
  },
  {
   "cell_type": "code",
   "execution_count": 386,
   "metadata": {},
   "outputs": [],
   "source": [
    "def exclude_columns_containing(se, to_remove):\n",
    "\n",
    "    min_cols = [c for c in se.columns if not any(x in c for x in to_remove)]\n",
    "\n",
    "    se_min = se[min_cols]\n",
    "\n",
    "    return se_min\n"
   ]
  },
  {
   "cell_type": "code",
   "execution_count": 387,
   "metadata": {},
   "outputs": [],
   "source": [
    "se = exclude_columns_containing(se, [\"prev_segment_code_\",\n",
    "            \"next_segment_code_\",\n",
    "            \"prev_event_index_\",\n",
    "            \"next_event_index_\",\n",
    "            \"offset_timestamp_5_\"])\n",
    "\n",
    "se = exclude_columns_containing(se, [\"prev_stop_\", \"next_stop_\", \"road\"])"
   ]
  },
  {
   "cell_type": "code",
   "execution_count": 388,
   "metadata": {},
   "outputs": [
    {
     "data": {
      "text/plain": [
       "[('se', 4854970495),\n",
       " ('samples', 800000096),\n",
       " ('samples_truncated', 786615496),\n",
       " ('just_noise', 62672904),\n",
       " ('scaled_durations', 62672904),\n",
       " ('just_noise_2_in_10000', 62660232),\n",
       " ('scaled_durations_2_in_10000', 62614600),\n",
       " ('arrival_hours', 9297760),\n",
       " ('differences', 9297760),\n",
       " ('distance', 9297760),\n",
       " ('previous_bus', 1719446),\n",
       " ('segment', 1687449),\n",
       " ('dry', 1162304),\n",
       " ('weekend', 1162304),\n",
       " ('median_durations_by_prev_stop_code_and_public_name_and_hour_and_daytype',\n",
       "  678052),\n",
       " ('mean_durations_by_segment_code_and_hour_and_daytype', 431394),\n",
       " ('one_percent_data', 313456),\n",
       " ('median_prev_dwell_by_segment_code', 93680),\n",
       " ('mask', 4533),\n",
       " ('dist_continu', 912),\n",
       " ('MAPE', 136),\n",
       " ('best_fit_distribution', 136),\n",
       " ('exclude_columns_containing', 136),\n",
       " ('filter_rare', 136),\n",
       " ('get_best_distribution', 136),\n",
       " ('make_prediction', 136),\n",
       " ('mean_absolute_error', 136),\n",
       " ('mean_squared_error', 136),\n",
       " ('differences_filtered', 96),\n",
       " ('x', 96),\n",
       " ('colors', 80),\n",
       " ('ma', 80),\n",
       " ('np', 80),\n",
       " ('pd', 80),\n",
       " ('plt', 80),\n",
       " ('st', 80),\n",
       " ('stats', 80),\n",
       " ('name', 74),\n",
       " ('best_params', 72),\n",
       " ('dataYLim', 64),\n",
       " ('dist', 59),\n",
       " ('ax', 56),\n",
       " ('ax1', 56),\n",
       " ('ax2', 56),\n",
       " ('best_dist', 56),\n",
       " ('fig', 56),\n",
       " ('prev_stopCode_and_public_name_and_hour_and_daytype_groups', 56),\n",
       " ('rv', 56),\n",
       " ('se_segment_name_groups', 56),\n",
       " ('segment_code_and_public_name_groups', 56),\n",
       " ('segment_code_groups', 56),\n",
       " ('max', 32),\n",
       " ('max_p', 32),\n",
       " ('min', 32),\n",
       " ('min_p', 32),\n",
       " ('granularity', 28),\n",
       " ('length', 28),\n",
       " ('median_durations_by_prev_stop_code_public_name', 16),\n",
       " ('median_durations_by_segment_code_and_hour_and_daytype', 16),\n",
       " ('median_durations_by_segment_code_and_hour_and_daytype_and_dry', 16),\n",
       " ('median_prev_dwell_by_segment_code_and_hour_and_daytype', 16),\n",
       " ('median_prev_dwell_by_segment_code_and_hour_and_daytype_and_dry', 16),\n",
       " ('prev_stopCode_and_public_name_groups', 16),\n",
       " ('segment_code_and_hour_and_daytype_dry_groups', 16),\n",
       " ('segment_code_and_hour_and_daytype_groups', 16)]"
      ]
     },
     "execution_count": 388,
     "metadata": {},
     "output_type": "execute_result"
    }
   ],
   "source": [
    "import sys\n",
    "\n",
    "# These are the usual ipython objects, including this one you are creating\n",
    "ipython_vars = ['In', 'Out', 'exit', 'quit', 'get_ipython', 'ipython_vars']\n",
    "\n",
    "# Get a sorted list of the objects and their sizes\n",
    "sorted([(x, sys.getsizeof(globals().get(x))) for x in dir() if not x.startswith('_') and x not in sys.modules and x not in ipython_vars], key=lambda x: x[1], reverse=True)"
   ]
  },
  {
   "cell_type": "code",
   "execution_count": 389,
   "metadata": {},
   "outputs": [
    {
     "data": {
      "text/plain": [
       "8294279609"
      ]
     },
     "execution_count": 389,
     "metadata": {},
     "output_type": "execute_result"
    }
   ],
   "source": [
    "13149250104 - 4854970495"
   ]
  },
  {
   "cell_type": "code",
   "execution_count": null,
   "metadata": {},
   "outputs": [],
   "source": []
  }
 ],
 "metadata": {
  "kernelspec": {
   "display_name": "busses",
   "language": "python",
   "name": "busses"
  },
  "language_info": {
   "codemirror_mode": {
    "name": "ipython",
    "version": 3
   },
   "file_extension": ".py",
   "mimetype": "text/x-python",
   "name": "python",
   "nbconvert_exporter": "python",
   "pygments_lexer": "ipython3",
   "version": "3.7.1"
  }
 },
 "nbformat": 4,
 "nbformat_minor": 2
}
