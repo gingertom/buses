{
 "cells": [
  {
   "cell_type": "code",
   "execution_count": 1,
   "metadata": {},
   "outputs": [],
   "source": [
    "import numpy as np\n",
    "import numpy.ma as ma\n",
    "import pandas as pd\n",
    "import datetime\n",
    "\n",
    "import matplotlib.pyplot as plt\n",
    "import matplotlib.colors as colors\n",
    "\n",
    "import feather\n",
    "\n",
    "from sklearn.metrics import mean_squared_error, mean_absolute_error\n",
    "\n",
    "from scipy import stats\n",
    "\n",
    "import warnings"
   ]
  },
  {
   "cell_type": "code",
   "execution_count": 2,
   "metadata": {},
   "outputs": [],
   "source": [
    "se = feather.read_dataframe(\"../data_files/B/once/75days/stop_events_with_geo_train_test_averages_prev_next_dwell.feather\")\n",
    "se = se.set_index(se.columns[0])"
   ]
  },
  {
   "cell_type": "code",
   "execution_count": 3,
   "metadata": {},
   "outputs": [],
   "source": [
    "se = se.dropna(subset=['median_durations_by_segment_code_and_hour_and_day'])\n",
    "\n"
   ]
  },
  {
   "cell_type": "code",
   "execution_count": 4,
   "metadata": {},
   "outputs": [],
   "source": [
    "se['prev_timingPoint'] = se['prev_timingPoint'].astype(float).astype(int)"
   ]
  },
  {
   "cell_type": "code",
   "execution_count": 5,
   "metadata": {},
   "outputs": [],
   "source": [
    "# se.iloc[1978]"
   ]
  },
  {
   "cell_type": "code",
   "execution_count": 6,
   "metadata": {},
   "outputs": [
    {
     "name": "stdout",
     "output_type": "stream",
     "text": [
      "Calculating rare segments...\n",
      "\tCalculated\n"
     ]
    }
   ],
   "source": [
    "def filter_rare(stop_events):\n",
    "\n",
    "    print(\"Calculating rare segments...\")\n",
    "\n",
    "    segment_counts = stop_events.groupby(\"segment_code\").size()\n",
    "\n",
    "    filtered_stop_events = stop_events.drop(\n",
    "        stop_events[\n",
    "            stop_events[\"segment_code\"].isin(\n",
    "                segment_counts[segment_counts < 120].index.values\n",
    "            )\n",
    "        ].index\n",
    "    )\n",
    "\n",
    "    print(\"\\tCalculated\")\n",
    "\n",
    "    return filtered_stop_events\n",
    "\n",
    "se = filter_rare(se)"
   ]
  },
  {
   "cell_type": "code",
   "execution_count": 7,
   "metadata": {},
   "outputs": [],
   "source": [
    "def MAPE(forecast, actual):\n",
    "    \n",
    "    if(len(forecast) != len(actual)):\n",
    "        raise ValueError('Could not calculate MAPE, forecast and actual arrays are different length')\n",
    "        \n",
    "    forecast = np.asarray(forecast)\n",
    "    actual = np.asarray(actual)\n",
    "    \n",
    "    with np.errstate(divide='ignore', invalid='ignore'):\n",
    "        \n",
    "        division = (actual-forecast)/actual\n",
    "        \n",
    "        division[actual == 0] = 0\n",
    "        \n",
    "        # Instead of dividing by n we count by the number of non-zero values. \n",
    "        # Essentially ignoring all cases where the actual value is zero. \n",
    "        mape = 100 / np.count_nonzero(actual) * np.sum(np.abs(division))\n",
    "    \n",
    "    return mape"
   ]
  },
  {
   "cell_type": "code",
   "execution_count": 8,
   "metadata": {},
   "outputs": [],
   "source": [
    "def make_prediction(medians, results):\n",
    "    return medians * (1 + (results / 100))\n",
    "\n",
    "\n"
   ]
  },
  {
   "cell_type": "markdown",
   "metadata": {},
   "source": [
    "## Looking at Noise now"
   ]
  },
  {
   "cell_type": "markdown",
   "metadata": {},
   "source": [
    "Starting by making some more medians to compare"
   ]
  },
  {
   "cell_type": "code",
   "execution_count": 9,
   "metadata": {},
   "outputs": [],
   "source": [
    "se['dry'] = (se['rain'] == 0)\n",
    "se['weekend'] = (se['arrival_day'] > 4)"
   ]
  },
  {
   "cell_type": "code",
   "execution_count": 10,
   "metadata": {},
   "outputs": [],
   "source": [
    "segment_code_and_hour_and_daytype_groups = se[se[\"train\"]].groupby(\n",
    "    [\"segment_code\", \"arrival_hour\", \"weekend\"]\n",
    ")\n",
    "\n",
    "median_durations_by_segment_code_and_hour_and_daytype = (\n",
    "    segment_code_and_hour_and_daytype_groups[\"segment_duration\"]\n",
    "    .median()\n",
    "    .rename(\"median_durations_by_segment_code_and_hour_and_daytype\")\n",
    ")\n",
    "\n",
    "se = se.merge(\n",
    "    median_durations_by_segment_code_and_hour_and_daytype.to_frame(),\n",
    "    \"left\",\n",
    "    left_on=[\"segment_code\", \"arrival_hour\", \"weekend\"],\n",
    "    right_index=True,\n",
    ")"
   ]
  },
  {
   "cell_type": "code",
   "execution_count": 17,
   "metadata": {},
   "outputs": [],
   "source": [
    "mean_durations_by_segment_code_and_hour_and_daytype = (\n",
    "    segment_code_and_hour_and_daytype_groups[\"segment_duration\"]\n",
    "    .mean()\n",
    "    .rename(\"mean_durations_by_segment_code_and_hour_and_daytype\")\n",
    ")\n",
    "\n",
    "se = se.merge(\n",
    "    mean_durations_by_segment_code_and_hour_and_daytype.to_frame(),\n",
    "    \"left\",\n",
    "    left_on=[\"segment_code\", \"arrival_hour\", \"weekend\"],\n",
    "    right_index=True,\n",
    ")"
   ]
  },
  {
   "cell_type": "code",
   "execution_count": 15,
   "metadata": {},
   "outputs": [],
   "source": [
    "median_prev_dwell_by_segment_code_and_hour_and_daytype = (\n",
    "    segment_code_and_hour_and_daytype_groups[\"dwell_duration_prev\"]\n",
    "    .median()\n",
    "    .rename(\"median_prev_dwell_by_segment_code_and_hour_and_daytype\")\n",
    ")\n",
    "\n",
    "se = se.merge(\n",
    "    median_prev_dwell_by_segment_code_and_hour_and_daytype.to_frame(),\n",
    "    \"left\",\n",
    "    left_on=[\"segment_code\", \"arrival_hour\", \"weekend\"],\n",
    "    right_index=True,\n",
    ")"
   ]
  },
  {
   "cell_type": "code",
   "execution_count": 21,
   "metadata": {},
   "outputs": [],
   "source": [
    "mean_prev_dwell_by_segment_code_and_hour_and_daytype = (\n",
    "    segment_code_and_hour_and_daytype_groups[\"dwell_duration_prev\"]\n",
    "    .mean()\n",
    "    .rename(\"mean_prev_dwell_by_segment_code_and_hour_and_daytype\")\n",
    ")\n",
    "\n",
    "se = se.merge(\n",
    "    mean_prev_dwell_by_segment_code_and_hour_and_daytype.to_frame(),\n",
    "    \"left\",\n",
    "    left_on=[\"segment_code\", \"arrival_hour\", \"weekend\"],\n",
    "    right_index=True,\n",
    ")"
   ]
  },
  {
   "cell_type": "code",
   "execution_count": null,
   "metadata": {},
   "outputs": [],
   "source": [
    "# prev_stopCode_and_public_name_and_hour_and_daytype_groups = se[se[\"train\"]].groupby(\n",
    "#     [\"prev_stopCode\", \"arrival_hour\", \"weekend\", \"publicName\"]\n",
    "# )\n",
    "\n",
    "# median_durations_by_prev_stop_code_and_public_name_and_hour_and_daytype = (\n",
    "#     prev_stopCode_and_public_name_and_hour_and_daytype_groups[\"segment_duration\"]\n",
    "#     .median()\n",
    "#     .rename(\"median_durations_by_prev_stop_code_and_public_name_and_hour_and_daytype\")\n",
    "# )\n",
    "\n",
    "# se = se.merge(\n",
    "#     median_durations_by_prev_stop_code_and_public_name_and_hour_and_daytype.to_frame(),\n",
    "#     \"left\",\n",
    "#     left_on=[\"prev_stopCode\", \"arrival_hour\", \"weekend\", \"publicName\"],\n",
    "#     right_index=True,\n",
    "# )"
   ]
  },
  {
   "cell_type": "code",
   "execution_count": null,
   "metadata": {},
   "outputs": [],
   "source": [
    "# segment_code_and_hour_and_daytype_dry_groups = se[se[\"train\"]].groupby(\n",
    "#     [\"segment_code\", \"arrival_hour\", \"weekend\", \"dry\"]\n",
    "# )\n",
    "\n",
    "# median_durations_by_segment_code_and_hour_and_daytype_and_dry = (\n",
    "#     segment_code_and_hour_and_daytype_dry_groups[\"segment_duration\"]\n",
    "#     .median()\n",
    "#     .rename(\"median_durations_by_segment_code_and_hour_and_daytype_and_dry\")\n",
    "# )\n",
    "\n",
    "# se = se.merge(\n",
    "#     median_durations_by_segment_code_and_hour_and_daytype_and_dry.to_frame(),\n",
    "#     \"left\",\n",
    "#     left_on=[\"segment_code\", \"arrival_hour\", \"weekend\", \"dry\"],\n",
    "#     right_index=True,\n",
    "# )"
   ]
  },
  {
   "cell_type": "code",
   "execution_count": null,
   "metadata": {},
   "outputs": [],
   "source": [
    "# median_prev_dwell_by_segment_code_and_hour_and_daytype_and_dry = (\n",
    "#     segment_code_and_hour_and_daytype_dry_groups[\"dwell_duration_prev\"]\n",
    "#     .median()\n",
    "#     .rename(\"median_prev_dwell_by_segment_code_and_hour_and_daytype_and_dry\")\n",
    "# )\n",
    "\n",
    "# se = se.merge(\n",
    "#     median_prev_dwell_by_segment_code_and_hour_and_daytype_and_dry.to_frame(),\n",
    "#     \"left\",\n",
    "#     left_on=[\"segment_code\", \"arrival_hour\", \"weekend\", \"dry\"],\n",
    "#     right_index=True,\n",
    "# )"
   ]
  },
  {
   "cell_type": "code",
   "execution_count": 42,
   "metadata": {},
   "outputs": [],
   "source": [
    "segment_code_groups = se[se[\"train\"]].groupby(\n",
    "    [\"segment_code\"]\n",
    ")\n",
    "\n",
    "median_prev_dwell_by_segment_code = (\n",
    "    segment_code_groups[\"dwell_duration_prev\"]\n",
    "    .median()\n",
    "    .rename(\"median_prev_dwell_by_segment_code\")\n",
    ")\n",
    "\n",
    "se = se.merge(\n",
    "    median_prev_dwell_by_segment_code.to_frame(),\n",
    "    \"left\",\n",
    "    left_on=[\"segment_code\"],\n",
    "    right_index=True,\n",
    ")"
   ]
  },
  {
   "cell_type": "code",
   "execution_count": 43,
   "metadata": {},
   "outputs": [],
   "source": [
    "mean_prev_dwell_by_segment_code = (\n",
    "    segment_code_groups[\"dwell_duration_prev\"]\n",
    "    .mean()\n",
    "    .rename(\"mean_prev_dwell_by_segment_code\")\n",
    ")\n",
    "\n",
    "se = se.merge(\n",
    "    mean_prev_dwell_by_segment_code.to_frame(),\n",
    "    \"left\",\n",
    "    left_on=[\"segment_code\"],\n",
    "    right_index=True,\n",
    ")"
   ]
  },
  {
   "cell_type": "code",
   "execution_count": 59,
   "metadata": {},
   "outputs": [],
   "source": [
    "mean_durations_by_segment_code = (\n",
    "    segment_code_groups[\"segment_duration\"]\n",
    "    .mean()\n",
    "    .rename(\"mean_durations_by_segment_code\")\n",
    ")\n",
    "\n",
    "se = se.merge(\n",
    "    mean_durations_by_segment_code.to_frame(),\n",
    "    \"left\",\n",
    "    left_on=[\"segment_code\"],\n",
    "    right_index=True,\n",
    ")"
   ]
  },
  {
   "cell_type": "code",
   "execution_count": 19,
   "metadata": {},
   "outputs": [],
   "source": [
    "se['diff_segment_and_median_by_segment_code_and_hour_and_daytype'] = se['segment_duration'] - se['median_durations_by_segment_code_and_hour_and_daytype']\n",
    "se['diff_segment_and_mean_by_segment_code_and_hour_and_daytype'] = se['segment_duration'] - se['mean_durations_by_segment_code_and_hour_and_daytype']\n"
   ]
  },
  {
   "cell_type": "code",
   "execution_count": 72,
   "metadata": {},
   "outputs": [],
   "source": [
    "se['diff_prev_dwell_and_median_by_segment_code_and_hour_and_daytype'] = se['dwell_duration_prev'] - se['median_prev_dwell_by_segment_code_and_hour_and_daytype']\n",
    "se['diff_prev_dwell_and_mean_by_segment_code_and_hour_and_daytype'] = se['dwell_duration_prev'] - se['mean_prev_dwell_by_segment_code_and_hour_and_daytype']\n",
    "se['diff_prev_dwell_and_dwell_predict_rules_mean'] = se['dwell_duration_prev'] - se['dwell_predict_rules_mean']\n"
   ]
  },
  {
   "cell_type": "code",
   "execution_count": 23,
   "metadata": {},
   "outputs": [],
   "source": [
    "segment_code_and_hour_and_daytype_groups = None\n",
    "median_durations_by_segment_code_and_hour_and_daytype = None\n",
    "median_prev_dwell_by_segment_code_and_hour_and_daytype = None\n",
    "mean_durations_by_segment_code_and_hour_and_daytype = None\n",
    "mean_prev_dwell_by_segment_code_and_hour_and_daytype = None\n",
    "\n",
    "# prev_stopCode_and_public_name_groups = None\n",
    "# median_durations_by_prev_stop_code_public_name = None\n",
    "# segment_code_and_hour_and_daytype_dry_groups = None\n",
    "# median_durations_by_segment_code_and_hour_and_daytype_and_dry = None\n",
    "# median_prev_dwell_by_segment_code_and_hour_and_daytype_and_dry = None\n",
    "# segment_code_groups = None\n",
    "# median_prev_dwell_by_segment_code = None"
   ]
  },
  {
   "cell_type": "code",
   "execution_count": 24,
   "metadata": {},
   "outputs": [
    {
     "data": {
      "text/plain": [
       "Index(['id', 'date', 'stopCode', 'aimedArrival', 'aimedDeparture',\n",
       "       'actualArrival', 'actualDeparture', 'vehicle', 'workid', 'patternId',\n",
       "       ...\n",
       "       'median_prev_dwell_by_segment_code_and_hour_and_daytype_y',\n",
       "       'diff_segment_and_mediun_by_segment_code_and_hour_and_daytype',\n",
       "       'median_prev_dwell_by_segment_code_and_hour_and_daytype',\n",
       "       'diff_prev_dwell_and_median_by_segment_code_and_hour_and_daytype',\n",
       "       'mean_durations_by_segment_code_and_hour_and_daytype',\n",
       "       'mean_prev_dwell_by_segment_code_and_hour_and_daytype_y',\n",
       "       'diff_segment_and_median_by_segment_code_and_hour_and_daytype',\n",
       "       'diff_segment_and_mean_by_segment_code_and_hour_and_daytype',\n",
       "       'mean_prev_dwell_by_segment_code_and_hour_and_daytype',\n",
       "       'diff_prev_dwell_and_mean_by_segment_code_and_hour_and_daytype'],\n",
       "      dtype='object', length=123)"
      ]
     },
     "execution_count": 24,
     "metadata": {},
     "output_type": "execute_result"
    }
   ],
   "source": [
    "se.columnsumns"
   ]
  },
  {
   "cell_type": "markdown",
   "metadata": {},
   "source": [
    "## Mapes of various dwell predictions"
   ]
  },
  {
   "cell_type": "code",
   "execution_count": 25,
   "metadata": {},
   "outputs": [
    {
     "name": "stdout",
     "output_type": "stream",
     "text": [
      "Mean prev dwell: 21.110430054021318\n",
      "Median prev dwell: 7.0\n",
      "Std prev dwell: 34.13694693912832\n"
     ]
    }
   ],
   "source": [
    "print(f\"Mean prev dwell: {np.mean(se['dwell_duration_prev'])}\")\n",
    "print(f\"Median prev dwell: {np.median(se['dwell_duration_prev'])}\")\n",
    "print(f\"Std prev dwell: {np.std(se['dwell_duration_prev'])}\")"
   ]
  },
  {
   "cell_type": "code",
   "execution_count": 26,
   "metadata": {},
   "outputs": [
    {
     "data": {
      "image/png": "[encoded data removed]",
      "text/plain": [
       "<Figure size 432x288 with 1 Axes>"
      ]
     },
     "metadata": {
      "needs_background": "light"
     },
     "output_type": "display_data"
    }
   ],
   "source": [
    "plt.hist([se.loc[se['prev_timingPoint'] == 0, 'dwell_duration_prev'], se.loc[se['prev_timingPoint'] == 1, 'dwell_duration_prev']], bins=100, stacked=True, range=(0,100));"
   ]
  },
  {
   "cell_type": "code",
   "execution_count": 28,
   "metadata": {},
   "outputs": [
    {
     "data": {
      "image/png": "[encoded data removed]",
      "text/plain": [
       "<Figure size 432x288 with 1 Axes>"
      ]
     },
     "metadata": {
      "needs_background": "light"
     },
     "output_type": "display_data"
    }
   ],
   "source": [
    "plt.hist(se['diff_prev_dwell_and_median_by_segment_code_and_hour_and_daytype'], bins=100, range=(-50, 50));\n"
   ]
  },
  {
   "cell_type": "code",
   "execution_count": 29,
   "metadata": {},
   "outputs": [
    {
     "data": {
      "text/plain": [
       "6.699865859440403"
      ]
     },
     "execution_count": 29,
     "metadata": {},
     "output_type": "execute_result"
    }
   ],
   "source": [
    "np.mean(se['diff_prev_dwell_and_median_by_segment_code_and_hour_and_daytype'])\n"
   ]
  },
  {
   "cell_type": "code",
   "execution_count": 30,
   "metadata": {},
   "outputs": [
    {
     "data": {
      "text/plain": [
       "30.59059254678719"
      ]
     },
     "execution_count": 30,
     "metadata": {},
     "output_type": "execute_result"
    }
   ],
   "source": [
    "np.std(se['diff_prev_dwell_and_median_by_segment_code_and_hour_and_daytype'])\n"
   ]
  },
  {
   "cell_type": "code",
   "execution_count": 31,
   "metadata": {},
   "outputs": [
    {
     "data": {
      "text/plain": [
       "36.939576731357434"
      ]
     },
     "execution_count": 31,
     "metadata": {},
     "output_type": "execute_result"
    }
   ],
   "source": [
    "(se['median_prev_dwell_by_segment_code_and_hour_and_daytype'] - se['median_dwell_prev_durations_by_stop_code']).std()\n"
   ]
  },
  {
   "cell_type": "markdown",
   "metadata": {},
   "source": [
    "## Looking at the bayesian esimates of some means and standard deviations travel times (median model)"
   ]
  },
  {
   "cell_type": "code",
   "execution_count": 32,
   "metadata": {},
   "outputs": [
    {
     "data": {
      "text/plain": [
       "(Mean(statistic=6.519326427502951, minmax=(6.490650088002942, 6.548002767002959)),\n",
       " Variance(statistic=1190.4820947086864, minmax=(1189.082829148334, 1191.8813602690389)),\n",
       " Std_dev(statistic=34.50336352746912, minmax=(34.483086293349054, 34.523640761589185)))"
      ]
     },
     "execution_count": 32,
     "metadata": {},
     "output_type": "execute_result"
    }
   ],
   "source": [
    "stats.bayes_mvs(se['diff_segment_and_mediun_by_segment_code_and_hour_and_daytype'], alpha=0.9)"
   ]
  },
  {
   "cell_type": "code",
   "execution_count": 33,
   "metadata": {},
   "outputs": [
    {
     "data": {
      "text/plain": [
       "(Mean(statistic=39.518300841991156, minmax=(39.4957706311002, 39.54083105288211)),\n",
       " Variance(statistic=734.8622783001719, minmax=(733.998537902733, 735.7260186976107)),\n",
       " Std_dev(statistic=27.108343333744536, minmax=(27.092412068841977, 27.124274598647094)))"
      ]
     },
     "execution_count": 33,
     "metadata": {},
     "output_type": "execute_result"
    }
   ],
   "source": [
    "stats.bayes_mvs(se['median_durations_by_segment_code_and_hour_and_daytype'], alpha=0.9)"
   ]
  },
  {
   "cell_type": "code",
   "execution_count": 34,
   "metadata": {},
   "outputs": [
    {
     "data": {
      "text/plain": [
       "(Mean(statistic=46.0376272694941, minmax=(46.00007918648389, 46.07517535250432)),\n",
       " Variance(statistic=2041.037479589336, minmax=(2038.6384905870893, 2043.4364685915828)),\n",
       " Std_dev(statistic=45.17784279477426, minmax=(45.15129229065718, 45.20439329889133)))"
      ]
     },
     "execution_count": 34,
     "metadata": {},
     "output_type": "execute_result"
    }
   ],
   "source": [
    "stats.bayes_mvs(se['segment_duration'], alpha=0.9)"
   ]
  },
  {
   "cell_type": "code",
   "execution_count": 35,
   "metadata": {},
   "outputs": [
    {
     "data": {
      "text/plain": [
       "9.884052374862756"
      ]
     },
     "execution_count": 35,
     "metadata": {},
     "output_type": "execute_result"
    }
   ],
   "source": [
    "(se['median_durations_by_segment_code_and_hour_and_daytype'] - se['median_durations_by_segment_code']).std()\n"
   ]
  },
  {
   "cell_type": "code",
   "execution_count": 54,
   "metadata": {},
   "outputs": [
    {
     "data": {
      "text/plain": [
       "43.41658669218482"
      ]
     },
     "execution_count": 54,
     "metadata": {},
     "output_type": "execute_result"
    }
   ],
   "source": [
    "# The standard devations of the diff_segment... and median_durations... roughly adds up \n",
    "# to the std of the raw segment_durations. This is probably a good thing. \n",
    "\n",
    "np.sqrt(34**2+27**2)"
   ]
  },
  {
   "cell_type": "markdown",
   "metadata": {},
   "source": [
    "## Looking at the bayesian esimates of some means and standard deviations travel times (mean model)"
   ]
  },
  {
   "cell_type": "code",
   "execution_count": 55,
   "metadata": {},
   "outputs": [
    {
     "data": {
      "text/plain": [
       "(Mean(statistic=0.1833254508219258, minmax=(0.15561127005849357, 0.21103963158535805)),\n",
       " Variance(statistic=1111.935335643217, minmax=(1110.628392155852, 1113.2422791305821)),\n",
       " Std_dev(statistic=33.34569440937191, minmax=(33.32609752421906, 33.36529129452476)))"
      ]
     },
     "execution_count": 55,
     "metadata": {},
     "output_type": "execute_result"
    }
   ],
   "source": [
    "stats.bayes_mvs(se['diff_segment_and_mean_by_segment_code_and_hour_and_daytype'], alpha=0.9)"
   ]
  },
  {
   "cell_type": "code",
   "execution_count": 56,
   "metadata": {},
   "outputs": [
    {
     "data": {
      "text/plain": [
       "(Mean(statistic=45.85430181867216, minmax=(45.82899711060366, 45.879606526740666)),\n",
       " Variance(statistic=926.9965201367368, minmax=(925.9069495241597, 928.0860907493138)),\n",
       " Std_dev(statistic=30.446617548370405, minmax=(30.42872441769922, 30.464510679041588)))"
      ]
     },
     "execution_count": 56,
     "metadata": {},
     "output_type": "execute_result"
    }
   ],
   "source": [
    "stats.bayes_mvs(se['mean_durations_by_segment_code_and_hour_and_daytype'], alpha=0.9)"
   ]
  },
  {
   "cell_type": "code",
   "execution_count": 60,
   "metadata": {},
   "outputs": [
    {
     "data": {
      "text/plain": [
       "11.3157622683631"
      ]
     },
     "execution_count": 60,
     "metadata": {},
     "output_type": "execute_result"
    }
   ],
   "source": [
    "(se['mean_durations_by_segment_code_and_hour_and_daytype'] - se['mean_durations_by_segment_code']).std()"
   ]
  },
  {
   "cell_type": "code",
   "execution_count": 62,
   "metadata": {},
   "outputs": [
    {
     "data": {
      "text/plain": [
       "44.598206241955516"
      ]
     },
     "execution_count": 62,
     "metadata": {},
     "output_type": "execute_result"
    }
   ],
   "source": [
    "# Intesrtingly this model gets a little closer to the actual std of the segment durations\n",
    "\n",
    "np.sqrt(33**2+30**2)"
   ]
  },
  {
   "cell_type": "code",
   "execution_count": null,
   "metadata": {},
   "outputs": [],
   "source": []
  },
  {
   "cell_type": "markdown",
   "metadata": {},
   "source": [
    "### Same with dwell times (median model)"
   ]
  },
  {
   "cell_type": "code",
   "execution_count": 63,
   "metadata": {},
   "outputs": [
    {
     "data": {
      "text/plain": [
       "(Mean(statistic=6.699865859440403, minmax=(6.674441491271892, 6.725290227608914)),\n",
       " Variance(statistic=935.7843523555207, minmax=(934.6844527249528, 936.8842519860885)),\n",
       " Std_dev(statistic=30.59059254665592, minmax=(30.572614803516583, 30.608570289795257)))"
      ]
     },
     "execution_count": 63,
     "metadata": {},
     "output_type": "execute_result"
    }
   ],
   "source": [
    "stats.bayes_mvs(se['diff_prev_dwell_and_median_by_segment_code_and_hour_and_daytype'], alpha=0.9)"
   ]
  },
  {
   "cell_type": "code",
   "execution_count": 64,
   "metadata": {},
   "outputs": [
    {
     "data": {
      "text/plain": [
       "(Mean(statistic=14.410564194580916, minmax=(14.397537880940696, 14.423590508221135)),\n",
       " Variance(statistic=245.6509807778483, minmax=(245.36224820572733, 245.93971334996928)),\n",
       " Std_dev(statistic=15.673256865688392, minmax=(15.66404587097953, 15.682467860397255)))"
      ]
     },
     "execution_count": 64,
     "metadata": {},
     "output_type": "execute_result"
    }
   ],
   "source": [
    "stats.bayes_mvs(se['median_prev_dwell_by_segment_code_and_hour_and_daytype'], alpha=0.9)"
   ]
  },
  {
   "cell_type": "code",
   "execution_count": 65,
   "metadata": {},
   "outputs": [
    {
     "data": {
      "text/plain": [
       "(Mean(statistic=21.110430054021318, minmax=(21.0820582496569, 21.138801858385737)),\n",
       " Variance(statistic=1165.3311463141363, minmax=(1163.9614426061253, 1166.7008500221473)),\n",
       " Std_dev(statistic=34.136946938971214, minmax=(34.11688504371064, 34.15700883423179)))"
      ]
     },
     "execution_count": 65,
     "metadata": {},
     "output_type": "execute_result"
    }
   ],
   "source": [
    "stats.bayes_mvs(se['dwell_duration_prev'], alpha=0.9)"
   ]
  },
  {
   "cell_type": "code",
   "execution_count": 66,
   "metadata": {},
   "outputs": [
    {
     "data": {
      "text/plain": [
       "7.275457025428193"
      ]
     },
     "execution_count": 66,
     "metadata": {},
     "output_type": "execute_result"
    }
   ],
   "source": [
    "(se['median_prev_dwell_by_segment_code_and_hour_and_daytype'] - se['median_prev_dwell_by_segment_code']).std()"
   ]
  },
  {
   "cell_type": "code",
   "execution_count": 67,
   "metadata": {},
   "outputs": [
    {
     "data": {
      "text/plain": [
       "3.4243510050457173"
      ]
     },
     "execution_count": 67,
     "metadata": {},
     "output_type": "execute_result"
    }
   ],
   "source": [
    "(se['median_prev_dwell_by_segment_code_and_hour_and_daytype'] - se['median_prev_dwell_by_segment_code']).abs().mean()"
   ]
  },
  {
   "cell_type": "code",
   "execution_count": null,
   "metadata": {},
   "outputs": [],
   "source": [
    "stats.bayes_mvs(se.loc[se['prev_dwell_type_normal'], 'diff_prev_dwell_and_median_by_segment_code_and_hour_and_daytype'], alpha=0.9)"
   ]
  },
  {
   "cell_type": "code",
   "execution_count": null,
   "metadata": {},
   "outputs": [],
   "source": [
    "stats.bayes_mvs(se.loc[se['prev_dwell_type_normal'], 'median_prev_dwell_by_segment_code_and_hour_and_daytype'], alpha=0.9)"
   ]
  },
  {
   "cell_type": "code",
   "execution_count": null,
   "metadata": {},
   "outputs": [],
   "source": [
    "stats.bayes_mvs(se.loc[se['prev_dwell_type_normal'], 'dwell_duration_prev'], alpha=0.9)"
   ]
  },
  {
   "cell_type": "markdown",
   "metadata": {},
   "source": [
    "### Same with dwell times (mean model)"
   ]
  },
  {
   "cell_type": "code",
   "execution_count": 77,
   "metadata": {},
   "outputs": [
    {
     "data": {
      "text/plain": [
       "(Mean(statistic=-0.0637650065347085, minmax=(-0.0883780577567293, -0.0391519553126877)),\n",
       " Variance(statistic=877.0136484940496, minmax=(875.9828266112585, 878.0444703768406)),\n",
       " Std_dev(statistic=29.614416227473566, minmax=(29.59701217204878, 29.63182028289835)))"
      ]
     },
     "execution_count": 77,
     "metadata": {},
     "output_type": "execute_result"
    }
   ],
   "source": [
    "stats.bayes_mvs(se['diff_prev_dwell_and_mean_by_segment_code_and_hour_and_daytype'], alpha=0.9)"
   ]
  },
  {
   "cell_type": "code",
   "execution_count": 76,
   "metadata": {},
   "outputs": [
    {
     "data": {
      "text/plain": [
       "(Mean(statistic=21.17419506055603, minmax=(21.159927771898083, 21.188462349213978)),\n",
       " Variance(statistic=294.6852084131716, minmax=(294.338842125841, 295.03157470050223)),\n",
       " Std_dev(statistic=17.166397653939267, minmax=(17.156309157380086, 17.176486150498448)))"
      ]
     },
     "execution_count": 76,
     "metadata": {},
     "output_type": "execute_result"
    }
   ],
   "source": [
    "stats.bayes_mvs(se['mean_prev_dwell_by_segment_code_and_hour_and_daytype'], alpha=0.9)"
   ]
  },
  {
   "cell_type": "code",
   "execution_count": 70,
   "metadata": {},
   "outputs": [
    {
     "data": {
      "text/plain": [
       "7.616998248805968"
      ]
     },
     "execution_count": 70,
     "metadata": {},
     "output_type": "execute_result"
    }
   ],
   "source": [
    "(se['mean_prev_dwell_by_segment_code_and_hour_and_daytype'] - se['mean_prev_dwell_by_segment_code']).std()"
   ]
  },
  {
   "cell_type": "code",
   "execution_count": 71,
   "metadata": {},
   "outputs": [
    {
     "data": {
      "text/plain": [
       "4.067628745573474"
      ]
     },
     "execution_count": 71,
     "metadata": {},
     "output_type": "execute_result"
    }
   ],
   "source": [
    "(se['mean_prev_dwell_by_segment_code_and_hour_and_daytype'] - se['mean_prev_dwell_by_segment_code']).abs().mean()"
   ]
  },
  {
   "cell_type": "code",
   "execution_count": null,
   "metadata": {},
   "outputs": [],
   "source": [
    "stats.bayes_mvs(se.loc[se['prev_dwell_type_normal'], 'diff_prev_dwell_and_mean_by_segment_code_and_hour_and_daytype'], alpha=0.9)\n"
   ]
  },
  {
   "cell_type": "code",
   "execution_count": null,
   "metadata": {},
   "outputs": [],
   "source": [
    "stats.bayes_mvs(se.loc[se['prev_dwell_type_normal'], 'mean_prev_dwell_by_segment_code_and_hour_and_daytype'], alpha=0.9)"
   ]
  },
  {
   "cell_type": "markdown",
   "metadata": {},
   "source": [
    "### Same with dwell times (rules model)"
   ]
  },
  {
   "cell_type": "code",
   "execution_count": 78,
   "metadata": {},
   "outputs": [
    {
     "data": {
      "text/plain": [
       "(Mean(statistic=0.2879116850937417, minmax=(0.26360429834201765, 0.31221907184546577)),\n",
       " Variance(statistic=855.3659994751732, minmax=(854.3606217463677, 856.3713772039788)),\n",
       " Std_dev(statistic=29.24664082377963, minmax=(29.22945290577456, 29.263828741784696)))"
      ]
     },
     "execution_count": 78,
     "metadata": {},
     "output_type": "execute_result"
    }
   ],
   "source": [
    "stats.bayes_mvs(se['diff_prev_dwell_and_dwell_predict_rules_mean'], alpha=0.9)"
   ]
  },
  {
   "cell_type": "code",
   "execution_count": 79,
   "metadata": {},
   "outputs": [
    {
     "data": {
      "text/plain": [
       "(Mean(statistic=20.822518368927575, minmax=(20.808877036626484, 20.836159701228667)),\n",
       " Variance(statistic=269.3946817924847, minmax=(269.07804141456575, 269.7113221704036)),\n",
       " Std_dev(statistic=16.413247143465693, minmax=(16.403601264891172, 16.422893022040213)))"
      ]
     },
     "execution_count": 79,
     "metadata": {},
     "output_type": "execute_result"
    }
   ],
   "source": [
    "stats.bayes_mvs(se['dwell_predict_rules_mean'], alpha=0.9)"
   ]
  },
  {
   "cell_type": "code",
   "execution_count": null,
   "metadata": {},
   "outputs": [],
   "source": [
    "stats.bayes_mvs(se.loc[se['prev_dwell_type_normal'], 'diff_prev_dwell_and_dwell_predict_rules_mean'], alpha=0.9)"
   ]
  },
  {
   "cell_type": "code",
   "execution_count": null,
   "metadata": {},
   "outputs": [],
   "source": [
    "stats.bayes_mvs(se.loc[se['prev_dwell_type_normal'], 'dwell_predict_rules_mean'], alpha=0.9)"
   ]
  },
  {
   "cell_type": "code",
   "execution_count": null,
   "metadata": {},
   "outputs": [],
   "source": []
  },
  {
   "cell_type": "markdown",
   "metadata": {},
   "source": [
    "### Find the mean absolute difference and the standard devations of each pair of buses that do the same segment within 5 mins of each other."
   ]
  },
  {
   "cell_type": "code",
   "execution_count": 80,
   "metadata": {},
   "outputs": [],
   "source": [
    "se_segment_name_groups = se.groupby(\"segment_name\")"
   ]
  },
  {
   "cell_type": "code",
   "execution_count": 81,
   "metadata": {},
   "outputs": [],
   "source": [
    "differences = []\n",
    "arrival_hours = []\n",
    "weekend = []\n",
    "dry = []\n",
    "length = []\n",
    "distance = []\n",
    "\n",
    "for name, segment in se_segment_name_groups:\n",
    "    \n",
    "    segment = segment.sort_values(\"actualArrival\")\n",
    "    \n",
    "    previous_bus = segment.shift(1)\n",
    "    \n",
    "    mask = (segment['actualArrival'] - previous_bus['actualArrival']) < pd.Timedelta(\"5 minute\")\n",
    "    \n",
    "    differences.extend(segment[mask]['segment_duration'] - previous_bus[mask]['segment_duration'])\n",
    "    \n",
    "    arrival_hours.extend(segment[mask]['arrival_hour'])\n",
    "    \n",
    "    weekend.extend(segment[mask]['weekend'])\n",
    "    \n",
    "    dry.extend(segment[mask]['dry'])\n",
    "    \n",
    "    length.extend(segment[mask]['line_distance'])\n",
    "    \n",
    "    distance.extend(segment[mask]['to_centre_dist'])\n",
    "    "
   ]
  },
  {
   "cell_type": "code",
   "execution_count": 82,
   "metadata": {},
   "outputs": [],
   "source": [
    "differences = np.array(differences)\n",
    "arrival_hours = np.array(arrival_hours)\n",
    "weekend = np.array(weekend)\n",
    "dry = np.array(dry)\n",
    "length = np.array(length)\n",
    "distance = np.array(distance)"
   ]
  },
  {
   "cell_type": "code",
   "execution_count": 83,
   "metadata": {},
   "outputs": [
    {
     "name": "stdout",
     "output_type": "stream",
     "text": [
      "1162190\n",
      "1138948\n"
     ]
    }
   ],
   "source": [
    "length = len(differences)\n",
    "\n",
    "print(length)\n",
    "\n",
    "differences_filtered = np.sort(differences)[int(length/100):-int(length/100)]\n",
    "\n",
    "print(len(differences_filtered))"
   ]
  },
  {
   "cell_type": "code",
   "execution_count": 84,
   "metadata": {},
   "outputs": [
    {
     "data": {
      "text/plain": [
       "(Mean(statistic=-0.5941722093633571, minmax=(-0.6579173251373018, -0.5304270935894124)),\n",
       " Variance(statistic=1745.4863186986408, minmax=(1741.7199733741568, 1749.252664023125)),\n",
       " Std_dev(statistic=41.779017684701984, minmax=(41.733943081070706, 41.82409228833326)))"
      ]
     },
     "execution_count": 84,
     "metadata": {},
     "output_type": "execute_result"
    }
   ],
   "source": [
    "stats.bayes_mvs(differences, alpha=0.9)"
   ]
  },
  {
   "cell_type": "code",
   "execution_count": 85,
   "metadata": {},
   "outputs": [
    {
     "data": {
      "text/plain": [
       "(Mean(statistic=-0.3785221098768337, minmax=(-0.4157580492624969, -0.3412861704911706)),\n",
       " Variance(statistic=583.6789244843095, minmax=(582.4066983328948, 584.9511506357242)),\n",
       " Std_dev(statistic=24.159447934179074, minmax=(24.13311814893562, 24.18577771942253)))"
      ]
     },
     "execution_count": 85,
     "metadata": {},
     "output_type": "execute_result"
    }
   ],
   "source": [
    "stats.bayes_mvs(differences_filtered, alpha=0.9)"
   ]
  },
  {
   "cell_type": "code",
   "execution_count": 86,
   "metadata": {},
   "outputs": [
    {
     "data": {
      "text/plain": [
       "18.613852296096162"
      ]
     },
     "execution_count": 86,
     "metadata": {},
     "output_type": "execute_result"
    }
   ],
   "source": [
    "np.mean(np.abs(differences))"
   ]
  },
  {
   "cell_type": "code",
   "execution_count": 87,
   "metadata": {},
   "outputs": [
    {
     "data": {
      "text/plain": [
       "8.0"
      ]
     },
     "execution_count": 87,
     "metadata": {},
     "output_type": "execute_result"
    }
   ],
   "source": [
    "np.median(np.abs(differences))"
   ]
  },
  {
   "cell_type": "code",
   "execution_count": 88,
   "metadata": {},
   "outputs": [
    {
     "data": {
      "text/plain": [
       "14.820106800310462"
      ]
     },
     "execution_count": 88,
     "metadata": {},
     "output_type": "execute_result"
    }
   ],
   "source": [
    "np.mean(np.abs(differences_filtered))"
   ]
  },
  {
   "cell_type": "code",
   "execution_count": 89,
   "metadata": {},
   "outputs": [
    {
     "data": {
      "text/plain": [
       "7.0"
      ]
     },
     "execution_count": 89,
     "metadata": {},
     "output_type": "execute_result"
    }
   ],
   "source": [
    "np.median(np.abs(differences_filtered))"
   ]
  },
  {
   "cell_type": "code",
   "execution_count": 90,
   "metadata": {},
   "outputs": [
    {
     "data": {
      "image/png": "[encoded data removed]",
      "text/plain": [
       "<Figure size 432x288 with 1 Axes>"
      ]
     },
     "metadata": {
      "needs_background": "light"
     },
     "output_type": "display_data"
    }
   ],
   "source": [
    "plt.hist(differences, bins=100, range=(-150, 150));"
   ]
  },
  {
   "cell_type": "markdown",
   "metadata": {},
   "source": [
    "## Approach one, subtract the mean for each segment/hour/daytype"
   ]
  },
  {
   "cell_type": "markdown",
   "metadata": {},
   "source": [
    "Try using both the mean and the median"
   ]
  },
  {
   "cell_type": "code",
   "execution_count": null,
   "metadata": {},
   "outputs": [],
   "source": [
    "# mean_durations_by_segment_code_and_hour_and_daytype = (\n",
    "#     segment_code_and_hour_and_daytype_groups[\"segment_duration\"]\n",
    "#     .mean()\n",
    "#     .rename(\"mean_durations_by_segment_code_and_hour_and_daytype\")\n",
    "# )\n",
    "\n",
    "# se = se.merge(\n",
    "#     mean_durations_by_segment_code_and_hour_and_daytype.to_frame(),\n",
    "#     \"left\",\n",
    "#     left_on=[\"segment_code\", \"arrival_hour\", \"weekend\"],\n",
    "#     right_index=True,\n",
    "# )"
   ]
  },
  {
   "cell_type": "code",
   "execution_count": 91,
   "metadata": {},
   "outputs": [],
   "source": [
    "just_noise_median = se['diff_segment_and_median_by_segment_code_and_hour_and_daytype'].values"
   ]
  },
  {
   "cell_type": "code",
   "execution_count": 93,
   "metadata": {},
   "outputs": [],
   "source": [
    "just_noise_mean = se['diff_segment_and_mean_by_segment_code_and_hour_and_daytype'].values"
   ]
  },
  {
   "cell_type": "code",
   "execution_count": 94,
   "metadata": {},
   "outputs": [],
   "source": [
    "min_p, max_p = np.percentile(just_noise_median, [0.01,99.99])\n",
    "just_noise_median_2_in_10000 = just_noise_median[(just_noise_median < max_p) & (just_noise_median > min_p)]"
   ]
  },
  {
   "cell_type": "code",
   "execution_count": 95,
   "metadata": {},
   "outputs": [],
   "source": [
    "min_p, max_p = np.percentile(just_noise_mean, [0.01,99.99])\n",
    "just_noise_mean_2_in_10000 = just_noise_mean[(just_noise_mean < max_p) & (just_noise_mean > min_p)]"
   ]
  },
  {
   "cell_type": "code",
   "execution_count": 98,
   "metadata": {},
   "outputs": [],
   "source": [
    "just_noise_dwell_median = se['diff_prev_dwell_and_median_by_segment_code_and_hour_and_daytype'].values"
   ]
  },
  {
   "cell_type": "code",
   "execution_count": 99,
   "metadata": {},
   "outputs": [],
   "source": [
    "just_noise_dwell_mean = se['diff_prev_dwell_and_mean_by_segment_code_and_hour_and_daytype'].values"
   ]
  },
  {
   "cell_type": "code",
   "execution_count": 100,
   "metadata": {},
   "outputs": [],
   "source": [
    "just_noise_dwell_rules = se['diff_prev_dwell_and_dwell_predict_rules_mean'].values"
   ]
  },
  {
   "cell_type": "code",
   "execution_count": 96,
   "metadata": {},
   "outputs": [],
   "source": [
    "# From: https://stackoverflow.com/questions/6620471/fitting-empirical-distribution-to-theoretical-ones-with-scipy-python\n",
    "# And then improved...\n",
    "\n",
    "# Create models from data\n",
    "def best_fit_distribution(data, bins=200, ax=None):\n",
    "    \"\"\"Model data by finding best fit distribution to data\"\"\"\n",
    "    # Get histogram of original data\n",
    "    y, x = np.histogram(data, bins=bins, density=True, range=(-100, 100))\n",
    "    x = (x + np.roll(x, -1))[:-1] / 2.0\n",
    " \n",
    "    dist_continu = [d for d in dir(stats) if isinstance(getattr(stats, d), stats.rv_continuous)]\n",
    "#     dist_continu = [\"cauchy\", \"johnsonsu\", \"tukeylambda\", \"norminvgauss\", \"t\"] \n",
    "\n",
    "    # Best holders\n",
    "    best_distribution = st.norm\n",
    "    best_params = (0.0, 1.0)\n",
    "    best_sse = np.inf\n",
    "    \n",
    "    dist_results_name = []\n",
    "    dist_results_p = []\n",
    "    dist_results_D = []\n",
    "    dist_results_sse = []\n",
    "    dist_results_chi2_score = []\n",
    "    dist_results_chi2_p = []\n",
    "    params = {}\n",
    "\n",
    "    # Estimate distribution parameters from data\n",
    "    for dist_name in dist_continu:\n",
    "        \n",
    "        # Try to fit the distribution\n",
    "        try:\n",
    "            # Ignore warnings from data that can't be fit\n",
    "            with warnings.catch_warnings():\n",
    "                warnings.filterwarnings('ignore')\n",
    "                \n",
    "                dist = getattr(stats, dist_name)\n",
    "                param = dist.fit(data)\n",
    "                \n",
    "                params[dist_name] = param\n",
    "                D, p = stats.kstest(data, dist_name, args=param)\n",
    "\n",
    "                # Separate parts of parameters\n",
    "                arg = param[:-2]\n",
    "                loc = param[-2]\n",
    "                scale = param[-1]\n",
    "                \n",
    "                print(\".\", end=\"\", flush=True)\n",
    "\n",
    "                # Calculate fitted PDF and error with fit in distribution\n",
    "                pdf = dist.pdf(x, loc=loc, scale=scale, *arg)\n",
    "                sse = np.sum(np.power(y - pdf, 2.0))\n",
    "                chi2 = stats.chisquare(y, pdf)\n",
    "                \n",
    "                dist_results_name.append(dist_name)\n",
    "                dist_results_p.append(p)\n",
    "                dist_results_D.append(D)\n",
    "                dist_results_sse.append(sse)\n",
    "                dist_results_chi2_score.append(chi2[0])\n",
    "                dist_results_chi2_p.append(chi2[1])\n",
    "                \n",
    "                # if axis pass in add to plot\n",
    "                try:\n",
    "                    if ax:\n",
    "                        pd.Series(pdf, x).plot(ax=ax)\n",
    "                    end\n",
    "                except Exception:\n",
    "                    pass\n",
    "\n",
    "                # identify if this distribution is better\n",
    "                if best_sse > sse > 0:\n",
    "                    best_distribution = dist_name\n",
    "                    best_params = param\n",
    "                    best_sse = sse\n",
    "\n",
    "        except Exception:\n",
    "            pass\n",
    "        \n",
    "    sorted_idx = np.argsort(dist_results_sse)\n",
    "    \n",
    "    print(\"\\nResults\")\n",
    "    for i in range(len(sorted_idx)):\n",
    "        print(f\"{dist_results_name[sorted_idx[i]]: <14},sse:{dist_results_sse[sorted_idx[i]]:0.6f} chi2:{dist_results_chi2_score[sorted_idx[i]]:0.6f} chi1_p:{dist_results_chi2_p[sorted_idx[i]]:0.6f} p:{dist_results_p[sorted_idx[i]]:0.4f} D:{dist_results_D[sorted_idx[i]]:0.4f}\")\n",
    "        \n",
    "\n",
    "    return (best_distribution, best_params)"
   ]
  },
  {
   "cell_type": "markdown",
   "metadata": {},
   "source": [
    "## Distribution fitting journey diffs, median model"
   ]
  },
  {
   "cell_type": "code",
   "execution_count": 97,
   "metadata": {},
   "outputs": [
    {
     "name": "stdout",
     "output_type": "stream",
     "text": [
      ".................................................................................................\n",
      "Results\n",
      "gennorm       ,sse:0.000698 chi2:0.074255 chi1_p:1.000000 p:0.0000 D:0.0732\n",
      "tukeylambda   ,sse:0.000763 chi2:0.093113 chi1_p:1.000000 p:0.0000 D:0.0869\n",
      "johnsonsu     ,sse:0.000787 chi2:0.029779 chi1_p:1.000000 p:0.0000 D:0.0442\n",
      "t             ,sse:0.000912 chi2:0.101834 chi1_p:1.000000 p:0.0000 D:0.0875\n",
      "cauchy        ,sse:0.000968 chi2:0.103575 chi1_p:1.000000 p:0.0000 D:0.0877\n",
      "nct           ,sse:0.001290 chi2:0.054399 chi1_p:1.000000 p:0.0000 D:0.0480\n",
      "norminvgauss  ,sse:0.001361 chi2:0.054237 chi1_p:1.000000 p:0.0000 D:0.0859\n",
      "dweibull      ,sse:0.002928 chi2:0.139774 chi1_p:1.000000 p:0.0000 D:0.1365\n",
      "dgamma        ,sse:0.005119 chi2:0.243830 chi1_p:1.000000 p:0.0000 D:0.1502\n",
      "laplace       ,sse:0.008722 chi2:0.400338 chi1_p:1.000000 p:0.0000 D:0.1680\n",
      "hypsecant     ,sse:0.012600 chi2:0.663808 chi1_p:1.000000 p:0.0000 D:0.1574\n",
      "genlogistic   ,sse:0.014110 chi2:3.080069 chi1_p:1.000000 p:0.0000 D:0.1773\n",
      "logistic      ,sse:0.014635 chi2:0.855938 chi1_p:1.000000 p:0.0000 D:0.1601\n",
      "exponnorm     ,sse:0.017245 chi2:11.769791 chi1_p:1.000000 p:0.0000 D:0.2102\n",
      "recipinvgauss ,sse:0.018614 chi2:967.308278 chi1_p:0.000000 p:0.0000 D:0.2090\n",
      "lognorm       ,sse:0.019516 chi2:3.664144 chi1_p:1.000000 p:0.0000 D:0.2163\n",
      "fatiguelife   ,sse:0.020164 chi2:3.023130 chi1_p:1.000000 p:0.0000 D:0.2186\n",
      "skewnorm      ,sse:0.020328 chi2:6.122750 chi1_p:1.000000 p:0.0000 D:0.2737\n",
      "ncx2          ,sse:0.020754 chi2:1.608405 chi1_p:1.000000 p:0.0000 D:0.2140\n",
      "beta          ,sse:0.021323 chi2:1.733050 chi1_p:1.000000 p:0.0000 D:0.2328\n",
      "invgamma      ,sse:0.021660 chi2:1.800487 chi1_p:1.000000 p:0.0000 D:0.2387\n",
      "betaprime     ,sse:0.021784 chi2:1.829544 chi1_p:1.000000 p:0.0000 D:0.2381\n",
      "powernorm     ,sse:0.021895 chi2:2.168016 chi1_p:1.000000 p:0.0000 D:0.2632\n",
      "pearson3      ,sse:0.022259 chi2:1.945586 chi1_p:1.000000 p:0.0000 D:0.2445\n",
      "vonmises_line ,sse:0.022793 chi2:2.086077 chi1_p:1.000000 p:0.0000 D:0.2488\n",
      "crystalball   ,sse:0.023270 chi2:2.221666 chi1_p:1.000000 p:0.0000 D:0.2790\n",
      "norm          ,sse:0.023325 chi2:2.240580 chi1_p:1.000000 p:0.0000 D:0.2539\n",
      "johnsonsb     ,sse:0.023524 chi2:2.300697 chi1_p:1.000000 p:0.0000 D:0.2556\n",
      "moyal         ,sse:0.023671 chi2:5578.335266 chi1_p:0.000000 p:0.0000 D:0.2909\n",
      "alpha         ,sse:0.026054 chi2:3.266023 chi1_p:1.000000 p:0.0000 D:0.3023\n",
      "gumbel_r      ,sse:0.028959 chi2:5.470995 chi1_p:1.000000 p:0.0000 D:0.3700\n",
      "loglaplace    ,sse:0.029384 chi2:6.423645 chi1_p:1.000000 p:0.0000 D:0.3718\n",
      "weibull_min   ,sse:0.030344 chi2:7.339504 chi1_p:1.000000 p:0.0000 D:0.4024\n",
      "frechet_r     ,sse:0.030344 chi2:7.339504 chi1_p:1.000000 p:0.0000 D:0.4024\n",
      "rayleigh      ,sse:0.030666 chi2:7.150937 chi1_p:1.000000 p:0.0000 D:0.4604\n",
      "invgauss      ,sse:0.030877 chi2:6.114347 chi1_p:1.000000 p:0.0000 D:0.5071\n",
      "invweibull    ,sse:0.031159 chi2:9.396274 chi1_p:1.000000 p:0.0000 D:0.4574\n",
      "genextreme    ,sse:0.031534 chi2:10.271000 chi1_p:1.000000 p:0.0000 D:0.4159\n",
      "rdist         ,sse:0.031794 chi2:11.348448 chi1_p:1.000000 p:0.0000 D:0.3795\n",
      "gumbel_l      ,sse:0.032150 chi2:12.889058 chi1_p:1.000000 p:0.0000 D:0.4599\n",
      "halfnorm      ,sse:0.032177 chi2:11.280833 chi1_p:1.000000 p:0.0000 D:0.5536\n",
      "halflogistic  ,sse:0.032391 chi2:12.251524 chi1_p:1.000000 p:0.0000 D:0.5321\n",
      "loggamma      ,sse:0.032627 chi2:15.429822 chi1_p:1.000000 p:0.0000 D:0.3968\n",
      "erlang        ,sse:0.033654 chi2:24.368048 chi1_p:1.000000 p:0.0000 D:0.4442\n",
      "triang        ,sse:0.033944 chi2:28.925801 chi1_p:1.000000 p:0.0000 D:0.5512\n",
      "fisk          ,sse:0.033988 chi2:29.578916 chi1_p:1.000000 p:0.0000 D:0.4392\n",
      "gausshyper    ,sse:0.034122 chi2:32.223402 chi1_p:1.000000 p:0.0000 D:0.5704\n",
      "cosine        ,sse:0.034259 chi2:35.099460 chi1_p:1.000000 p:0.0000 D:0.5739\n",
      "genhalflogistic,sse:0.034283 chi2:35.315641 chi1_p:1.000000 p:0.0000 D:0.5921\n",
      "anglit        ,sse:0.034523 chi2:42.312430 chi1_p:1.000000 p:0.0000 D:0.6373\n",
      "wald          ,sse:0.034588 chi2:43.920663 chi1_p:1.000000 p:0.0000 D:0.4602\n",
      "kappa4        ,sse:0.034695 chi2:48.329220 chi1_p:1.000000 p:0.0000 D:0.5567\n",
      "semicircular  ,sse:0.034698 chi2:48.528529 chi1_p:1.000000 p:0.0000 D:0.6212\n",
      "gengamma      ,sse:0.034712 chi2:48.607983 chi1_p:1.000000 p:0.0000 D:0.5785\n",
      "gilbrat       ,sse:0.034736 chi2:49.646475 chi1_p:1.000000 p:0.0000 D:0.4573\n",
      "truncexpon    ,sse:0.034770 chi2:51.409252 chi1_p:1.000000 p:0.0000 D:0.4525\n",
      "bradford      ,sse:0.034824 chi2:54.006866 chi1_p:1.000000 p:0.0000 D:0.4707\n",
      "expon         ,sse:0.034829 chi2:53.974629 chi1_p:1.000000 p:0.0000 D:0.5913\n",
      "lomax         ,sse:0.034830 chi2:53.984554 chi1_p:1.000000 p:0.0000 D:0.6033\n",
      "argus         ,sse:0.034867 chi2:56.586759 chi1_p:1.000000 p:0.0000 D:0.7067\n",
      "uniform       ,sse:0.034911 chi2:58.825232 chi1_p:1.000000 p:0.0000 D:0.5891\n",
      "powerlaw      ,sse:0.034912 chi2:58.871956 chi1_p:1.000000 p:0.0000 D:0.5629\n",
      "halfcauchy    ,sse:0.034981 chi2:62.652645 chi1_p:1.000000 p:0.0000 D:0.4639\n",
      "f             ,sse:0.035042 chi2:66.517494 chi1_p:1.000000 p:0.0000 D:0.6382\n",
      "ncf           ,sse:0.035162 chi2:77.060893 chi1_p:1.000000 p:0.0000 D:0.4765\n",
      "levy          ,sse:0.035223 chi2:83.285978 chi1_p:1.000000 p:0.0000 D:0.6257\n",
      "arcsine       ,sse:0.035262 chi2:88.317044 chi1_p:1.000000 p:0.0000 D:0.5475\n",
      "trapz         ,sse:0.035294 chi2:93.036986 chi1_p:1.000000 p:0.0000 D:0.7951\n",
      "burr12        ,sse:0.035303 chi2:92.671386 chi1_p:1.000000 p:0.0000 D:0.6035\n",
      "halfgennorm   ,sse:0.035378 chi2:104.582094 chi1_p:1.000000 p:0.0000 D:0.5775\n",
      "powerlognorm  ,sse:0.035563 chi2:148.417911 chi1_p:0.997065 p:0.0000 D:0.6177\n",
      "levy_l        ,sse:0.035603 chi2:164.627631 chi1_p:0.964036 p:0.0000 D:0.6630\n",
      "mielke        ,sse:0.035665 chi2:191.948958 chi1_p:0.627097 p:0.0000 D:0.5141\n",
      "exponweib     ,sse:0.035785 chi2:289.582551 chi1_p:0.000029 p:0.0000 D:0.7494\n",
      "pareto        ,sse:0.035806 chi2:317.451958 chi1_p:0.000000 p:0.0000 D:0.6099\n",
      "burr          ,sse:0.035817 chi2:334.216867 chi1_p:0.000000 p:0.0000 D:0.6952\n",
      "kappa3        ,sse:0.035871 chi2:450.951140 chi1_p:0.000000 p:0.0000 D:0.7818\n",
      "genpareto     ,sse:0.035926 chi2:697.988698 chi1_p:0.000000 p:0.0000 D:0.8647\n",
      "weibull_max   ,sse:0.035974 chi2:1344.703978 chi1_p:0.000000 p:0.0000 D:0.8822\n",
      "frechet_l     ,sse:0.035974 chi2:1344.703978 chi1_p:0.000000 p:0.0000 D:0.8822\n",
      "foldcauchy    ,sse:0.036017 chi2:6715.899789 chi1_p:0.000000 p:0.0000 D:0.9959\n",
      "chi2          ,sse:0.036028 chi2:19198124168241.937500 chi1_p:0.000000 p:0.0000 D:0.9997\n",
      "gamma         ,sse:0.036028 chi2:2438880137016581632.000000 chi1_p:0.000000 p:0.0000 D:0.9996\n",
      "truncnorm     ,sse:0.036028 chi2:nan chi1_p:nan p:0.0000 D:0.5915\n",
      "nakagami      ,sse:0.036028 chi2:nan chi1_p:nan p:0.0000 D:1.0000\n",
      "reciprocal    ,sse:0.036028 chi2:nan chi1_p:nan p:0.0000 D:0.5915\n",
      "exponpow      ,sse:0.036028 chi2:nan chi1_p:nan p:0.0000 D:1.0000\n",
      "maxwell       ,sse:0.036028 chi2:nan chi1_p:nan p:0.0000 D:1.0000\n",
      "foldnorm      ,sse:0.036028 chi2:nan chi1_p:nan p:0.0000 D:1.0000\n",
      "gompertz      ,sse:0.036028 chi2:nan chi1_p:nan p:0.0000 D:1.0000\n",
      "rice          ,sse:0.036028 chi2:nan chi1_p:nan p:0.0000 D:1.0000\n",
      "chi           ,sse:0.048289 chi2:4269831.789798 chi1_p:0.000000 p:0.0000 D:0.8788\n",
      "genexpon      ,sse:0.054844 chi2:38557891253.587845 chi1_p:0.000000 p:0.0000 D:0.9737\n",
      "kstwobign     ,sse:2281771080413403366695632156458758513000185856.000000 chi2:675539944105957725831168.000000 chi1_p:0.000000 p:0.0000 D:1.0000\n",
      "vonmises      ,sse:96545153280742538407197388494054820495011052289123155968000.000000 chi2:3267313113585213273716348157952.000000 chi1_p:0.000000 p:0.0000 D:17890140740175823904711070711808.0000\n",
      "ksone         ,sse:nan chi2:nan chi1_p:nan p:nan D:nan\n",
      "wrapcauchy    ,sse:nan chi2:nan chi1_p:nan p:nan D:nan\n"
     ]
    },
    {
     "data": {
      "image/png": "[encoded data removed]",
      "text/plain": [
       "<Figure size 864x576 with 1 Axes>"
      ]
     },
     "metadata": {
      "needs_background": "light"
     },
     "output_type": "display_data"
    },
    {
     "name": "stdout",
     "output_type": "stream",
     "text": [
      "(0.5107187431289126, 5.644402672853895e-14, 1.9680290127324336)\n"
     ]
    }
   ],
   "source": [
    "plt.figure(figsize=(12,8))\n",
    "ax = plt.gca()\n",
    "ax.hist(just_noise_median, bins=200, density=True, alpha=0.5, range=(-100, 100))\n",
    "# Save plot limits\n",
    "dataYLim = ax.get_ylim()\n",
    "\n",
    "one_percent_data = np.random.choice(just_noise_median, int(se.shape[0]/100), replace=False)\n",
    "\n",
    "st = stats\n",
    "best_dist, best_params = best_fit_distribution(one_percent_data, 200, ax)\n",
    "\n",
    "ax.set_ylim(dataYLim);\n",
    "\n",
    "plt.show()\n",
    "\n",
    "print(best_params)"
   ]
  },
  {
   "cell_type": "code",
   "execution_count": null,
   "metadata": {},
   "outputs": [],
   "source": [
    "stats.cauchy.fit(just_noise_median)"
   ]
  },
  {
   "cell_type": "code",
   "execution_count": null,
   "metadata": {},
   "outputs": [],
   "source": [
    "best_params"
   ]
  },
  {
   "cell_type": "markdown",
   "metadata": {},
   "source": [
    "## Distribution fitting journey diffs, mean model"
   ]
  },
  {
   "cell_type": "code",
   "execution_count": 101,
   "metadata": {},
   "outputs": [
    {
     "name": "stdout",
     "output_type": "stream",
     "text": [
      ".................................................................................................\n",
      "Results\n",
      "cauchy        ,sse:0.000383 chi2:0.035326 chi1_p:1.000000 p:0.0000 D:0.0282\n",
      "johnsonsu     ,sse:0.000409 chi2:0.024824 chi1_p:1.000000 p:0.0000 D:0.0209\n",
      "tukeylambda   ,sse:0.000489 chi2:0.036119 chi1_p:1.000000 p:0.0000 D:0.0317\n",
      "t             ,sse:0.000599 chi2:0.042852 chi1_p:1.000000 p:0.0000 D:0.0336\n",
      "nct           ,sse:0.000734 chi2:0.042695 chi1_p:1.000000 p:0.0000 D:0.0230\n",
      "gennorm       ,sse:0.000758 chi2:0.032076 chi1_p:1.000000 p:0.0000 D:0.0227\n",
      "dweibull      ,sse:0.001151 chi2:0.050965 chi1_p:1.000000 p:0.0000 D:0.0304\n",
      "dgamma        ,sse:0.001746 chi2:0.089220 chi1_p:1.000000 p:0.0000 D:0.0483\n",
      "laplace       ,sse:0.004077 chi2:0.211815 chi1_p:1.000000 p:0.0000 D:0.0884\n",
      "norminvgauss  ,sse:0.004472 chi2:0.177832 chi1_p:1.000000 p:0.0000 D:0.1731\n",
      "hypsecant     ,sse:0.006610 chi2:0.391369 chi1_p:1.000000 p:0.0000 D:0.1138\n",
      "fisk          ,sse:0.007734 chi2:0.494503 chi1_p:1.000000 p:0.0000 D:0.1292\n",
      "logistic      ,sse:0.008094 chi2:0.532722 chi1_p:1.000000 p:0.0000 D:0.1342\n",
      "genlogistic   ,sse:0.008160 chi2:0.548307 chi1_p:1.000000 p:0.0000 D:0.1447\n",
      "exponnorm     ,sse:0.009991 chi2:2.667268 chi1_p:1.000000 p:0.0000 D:0.1627\n",
      "chi2          ,sse:0.012727 chi2:1.075984 chi1_p:1.000000 p:0.0000 D:0.1996\n",
      "skewnorm      ,sse:0.013051 chi2:1.170144 chi1_p:1.000000 p:0.0000 D:0.2339\n",
      "fatiguelife   ,sse:0.013298 chi2:1.129549 chi1_p:1.000000 p:0.0000 D:0.2097\n",
      "invgamma      ,sse:0.013476 chi2:1.160474 chi1_p:1.000000 p:0.0000 D:0.2127\n",
      "betaprime     ,sse:0.013651 chi2:1.193673 chi1_p:1.000000 p:0.0000 D:0.2152\n",
      "lognorm       ,sse:0.013819 chi2:1.227346 chi1_p:1.000000 p:0.0000 D:0.2192\n",
      "pearson3      ,sse:0.013906 chi2:1.243363 chi1_p:1.000000 p:0.0000 D:0.2201\n",
      "powernorm     ,sse:0.014118 chi2:1.292866 chi1_p:1.000000 p:0.0000 D:0.2328\n",
      "crystalball   ,sse:0.014644 chi2:1.404080 chi1_p:1.000000 p:0.0000 D:0.2263\n",
      "truncnorm     ,sse:0.014781 chi2:1.434285 chi1_p:1.000000 p:0.0000 D:0.2326\n",
      "norm          ,sse:0.014781 chi2:1.434285 chi1_p:1.000000 p:0.0000 D:0.2326\n",
      "johnsonsb     ,sse:0.016256 chi2:1.835907 chi1_p:1.000000 p:0.0000 D:0.2474\n",
      "beta          ,sse:0.018480 chi2:2.683181 chi1_p:1.000000 p:0.0000 D:0.2753\n",
      "burr          ,sse:0.018705 chi2:2.877295 chi1_p:1.000000 p:0.0000 D:0.3350\n",
      "genextreme    ,sse:0.018745 chi2:2.874980 chi1_p:1.000000 p:0.0000 D:0.3263\n",
      "vonmises_line ,sse:0.019653 chi2:3.371808 chi1_p:1.000000 p:0.0000 D:0.2917\n",
      "gumbel_r      ,sse:0.019927 chi2:3.640329 chi1_p:1.000000 p:0.0000 D:0.3526\n",
      "moyal         ,sse:0.020372 chi2:4.043101 chi1_p:1.000000 p:0.0000 D:0.3834\n",
      "loggamma      ,sse:0.023082 chi2:8.467392 chi1_p:1.000000 p:0.0000 D:0.4109\n",
      "gumbel_l      ,sse:0.023296 chi2:9.362906 chi1_p:1.000000 p:0.0000 D:0.4395\n",
      "rayleigh      ,sse:0.023799 chi2:11.296696 chi1_p:1.000000 p:0.0000 D:0.5114\n",
      "chi           ,sse:0.023824 chi2:11.507162 chi1_p:1.000000 p:0.0000 D:0.4953\n",
      "halfnorm      ,sse:0.024766 chi2:17.861394 chi1_p:1.000000 p:0.0000 D:0.5914\n",
      "halflogistic  ,sse:0.024918 chi2:19.421986 chi1_p:1.000000 p:0.0000 D:0.5629\n",
      "gengamma      ,sse:0.024961 chi2:19.800211 chi1_p:1.000000 p:0.0000 D:0.5462\n",
      "triang        ,sse:0.024980 chi2:20.348993 chi1_p:1.000000 p:0.0000 D:0.5631\n",
      "cosine        ,sse:0.025332 chi2:25.197511 chi1_p:1.000000 p:0.0000 D:0.5736\n",
      "genhalflogistic,sse:0.025373 chi2:25.864765 chi1_p:1.000000 p:0.0000 D:0.4764\n",
      "rdist         ,sse:0.025400 chi2:26.299753 chi1_p:1.000000 p:0.0000 D:0.7537\n",
      "gausshyper    ,sse:0.025474 chi2:27.699680 chi1_p:1.000000 p:0.0000 D:0.4609\n",
      "anglit        ,sse:0.025602 chi2:30.464845 chi1_p:1.000000 p:0.0000 D:0.6376\n",
      "wald          ,sse:0.025617 chi2:30.710067 chi1_p:1.000000 p:0.0000 D:0.4594\n",
      "semicircular  ,sse:0.025772 chi2:34.830281 chi1_p:1.000000 p:0.0000 D:0.6310\n",
      "gilbrat       ,sse:0.025774 chi2:34.775820 chi1_p:1.000000 p:0.0000 D:0.4429\n",
      "invgauss      ,sse:0.025786 chi2:35.069753 chi1_p:1.000000 p:0.0000 D:0.6029\n",
      "truncexpon    ,sse:0.025830 chi2:36.531896 chi1_p:1.000000 p:0.0000 D:0.4643\n",
      "kappa4        ,sse:0.025842 chi2:36.887841 chi1_p:1.000000 p:0.0000 D:0.5673\n",
      "expon         ,sse:0.025872 chi2:37.849787 chi1_p:1.000000 p:0.0000 D:0.5774\n",
      "bradford      ,sse:0.025889 chi2:38.512654 chi1_p:1.000000 p:0.0000 D:0.4985\n",
      "powerlaw      ,sse:0.025981 chi2:41.953603 chi1_p:1.000000 p:0.0000 D:0.5644\n",
      "uniform       ,sse:0.025985 chi2:42.113291 chi1_p:1.000000 p:0.0000 D:0.5979\n",
      "argus         ,sse:0.025991 chi2:42.382676 chi1_p:1.000000 p:0.0000 D:0.6605\n",
      "halfcauchy    ,sse:0.026032 chi2:44.015096 chi1_p:1.000000 p:0.0000 D:0.4515\n",
      "recipinvgauss ,sse:0.026284 chi2:58.365034 chi1_p:1.000000 p:0.0000 D:0.6422\n",
      "levy          ,sse:0.026289 chi2:58.679433 chi1_p:1.000000 p:0.0000 D:0.6261\n",
      "pareto        ,sse:0.026317 chi2:60.839448 chi1_p:1.000000 p:0.0000 D:0.5022\n",
      "arcsine       ,sse:0.026344 chi2:63.167138 chi1_p:1.000000 p:0.0000 D:0.5538\n",
      "trapz         ,sse:0.026395 chi2:67.878922 chi1_p:1.000000 p:0.0000 D:0.8019\n",
      "halfgennorm   ,sse:0.026452 chi2:73.650776 chi1_p:1.000000 p:0.0000 D:0.5688\n",
      "ncf           ,sse:0.026455 chi2:74.031731 chi1_p:1.000000 p:0.0000 D:0.5726\n",
      "mielke        ,sse:0.026599 chi2:94.852735 chi1_p:1.000000 p:0.0000 D:0.4918\n",
      "powerlognorm  ,sse:0.026610 chi2:96.958398 chi1_p:1.000000 p:0.0000 D:0.6732\n",
      "alpha         ,sse:0.026667 chi2:109.254220 chi1_p:1.000000 p:0.0000 D:0.7218\n",
      "erlang        ,sse:0.026681 chi2:112.650977 chi1_p:1.000000 p:0.0000 D:0.5781\n",
      "levy_l        ,sse:0.026707 chi2:119.929526 chi1_p:0.999998 p:0.0000 D:0.6578\n",
      "exponweib     ,sse:0.026747 chi2:132.096110 chi1_p:0.999925 p:0.0000 D:0.6517\n",
      "burr12        ,sse:0.026821 chi2:163.848828 chi1_p:0.967407 p:0.0000 D:0.6096\n",
      "lomax         ,sse:0.026911 chi2:229.249911 chi1_p:0.069617 p:0.0000 D:0.5967\n",
      "genpareto     ,sse:0.026926 chi2:245.691702 chi1_p:0.013491 p:0.0000 D:0.6156\n",
      "invweibull    ,sse:0.026968 chi2:305.016381 chi1_p:0.000002 p:0.0000 D:0.7466\n",
      "kappa3        ,sse:0.026978 chi2:323.866146 chi1_p:0.000000 p:0.0000 D:0.7610\n",
      "f             ,sse:0.026979 chi2:326.604886 chi1_p:0.000000 p:0.0000 D:0.6613\n",
      "weibull_min   ,sse:0.027016 chi2:423.402564 chi1_p:0.000000 p:0.0000 D:0.8840\n",
      "frechet_r     ,sse:0.027016 chi2:423.402564 chi1_p:0.000000 p:0.0000 D:0.8840\n",
      "loglaplace    ,sse:0.027026 chi2:458.831614 chi1_p:0.000000 p:0.0000 D:0.7973\n",
      "weibull_max   ,sse:0.027088 chi2:979.065665 chi1_p:0.000000 p:0.0000 D:0.8834\n",
      "frechet_l     ,sse:0.027088 chi2:979.065665 chi1_p:0.000000 p:0.0000 D:0.8834\n",
      "foldcauchy    ,sse:0.027131 chi2:4502.220068 chi1_p:0.000000 p:0.0000 D:0.9952\n",
      "ncx2          ,sse:0.027143 chi2:967985113704543587139584.000000 chi1_p:0.000000 p:0.0000 D:0.9990\n",
      "gamma         ,sse:0.027143 chi2:125071835051976047791702016.000000 chi1_p:0.000000 p:0.0000 D:0.9995\n",
      "nakagami      ,sse:0.027143 chi2:inf chi1_p:0.000000 p:0.0000 D:1.0000\n",
      "maxwell       ,sse:0.027143 chi2:inf chi1_p:0.000000 p:0.0000 D:1.0000\n",
      "exponpow      ,sse:0.027143 chi2:inf chi1_p:0.000000 p:0.0000 D:1.0000\n",
      "rice          ,sse:0.027143 chi2:inf chi1_p:0.000000 p:0.0000 D:1.0000\n",
      "gompertz      ,sse:0.027143 chi2:inf chi1_p:0.000000 p:0.0000 D:1.0000\n",
      "foldnorm      ,sse:0.027143 chi2:inf chi1_p:0.000000 p:0.0000 D:1.0000\n",
      "genexpon      ,sse:0.034815 chi2:567437.992839 chi1_p:0.000000 p:0.0000 D:0.9579\n",
      "reciprocal    ,sse:0.076554 chi2:inf chi1_p:0.000000 p:0.0000 D:0.6969\n",
      "kstwobign     ,sse:2281771080413403366695632156458758513000185856.000000 chi2:675539944105957725831168.000000 chi1_p:0.000000 p:0.0000 D:1.0000\n",
      "vonmises      ,sse:420258490074532444238382530569842254294181366243371515904.000000 chi2:211231479687491017732670881792.000000 chi1_p:0.000000 p:0.0000 D:1144147339913534678906779467776.0000\n",
      "ksone         ,sse:nan chi2:nan chi1_p:nan p:nan D:nan\n",
      "wrapcauchy    ,sse:nan chi2:nan chi1_p:nan p:nan D:nan\n"
     ]
    },
    {
     "data": {
      "image/png": "[encoded data removed]",
      "text/plain": [
       "<Figure size 864x576 with 1 Axes>"
      ]
     },
     "metadata": {
      "needs_background": "light"
     },
     "output_type": "display_data"
    },
    {
     "name": "stdout",
     "output_type": "stream",
     "text": [
      "(-3.3987865683988967, 6.140268348920977)\n"
     ]
    }
   ],
   "source": [
    "plt.figure(figsize=(12,8))\n",
    "ax = plt.gca()\n",
    "ax.hist(just_noise_mean, bins=200, density=True, alpha=0.5, range=(-100, 100))\n",
    "# Save plot limits\n",
    "dataYLim = ax.get_ylim()\n",
    "\n",
    "one_percent_data = np.random.choice(just_noise_mean, int(se.shape[0]/100), replace=False)\n",
    "\n",
    "st = stats\n",
    "best_dist, best_params = best_fit_distribution(one_percent_data, 200, ax)\n",
    "\n",
    "ax.set_ylim(dataYLim);\n",
    "\n",
    "plt.show()\n",
    "\n",
    "print(best_params)"
   ]
  },
  {
   "cell_type": "code",
   "execution_count": null,
   "metadata": {},
   "outputs": [],
   "source": []
  },
  {
   "cell_type": "markdown",
   "metadata": {},
   "source": [
    "## Distribution fitting dwell diffs, median model"
   ]
  },
  {
   "cell_type": "code",
   "execution_count": 102,
   "metadata": {},
   "outputs": [
    {
     "name": "stdout",
     "output_type": "stream",
     "text": [
      ".................................................................................................\n",
      "Results\n",
      "gennorm       ,sse:0.001933 chi2:0.376010 chi1_p:1.000000 p:0.0000 D:0.1555\n",
      "t             ,sse:0.005885 chi2:0.554366 chi1_p:1.000000 p:0.0000 D:0.1465\n",
      "tukeylambda   ,sse:0.005934 chi2:0.527986 chi1_p:1.000000 p:0.0000 D:0.1463\n",
      "johnsonsu     ,sse:0.006472 chi2:0.309699 chi1_p:1.000000 p:0.0000 D:0.0851\n",
      "nct           ,sse:0.007800 chi2:0.409366 chi1_p:1.000000 p:0.0000 D:0.0945\n",
      "cauchy        ,sse:0.012298 chi2:0.632882 chi1_p:1.000000 p:0.0000 D:0.1583\n",
      "norminvgauss  ,sse:0.013806 chi2:0.474492 chi1_p:1.000000 p:0.0000 D:0.1193\n",
      "dgamma        ,sse:0.015316 chi2:0.670267 chi1_p:1.000000 p:0.0000 D:0.2039\n",
      "dweibull      ,sse:0.016391 chi2:0.510498 chi1_p:1.000000 p:0.0000 D:0.2039\n",
      "loglaplace    ,sse:0.024860 chi2:0.859606 chi1_p:1.000000 p:0.0000 D:0.2045\n",
      "laplace       ,sse:0.025803 chi2:0.936124 chi1_p:1.000000 p:0.0000 D:0.2127\n",
      "hypsecant     ,sse:0.031580 chi2:1.400665 chi1_p:1.000000 p:0.0000 D:0.1744\n",
      "genlogistic   ,sse:0.032577 chi2:2.124192 chi1_p:1.000000 p:0.0000 D:0.2011\n",
      "exponnorm     ,sse:0.033064 chi2:28864.555812 chi1_p:0.000000 p:0.0000 D:0.1960\n",
      "logistic      ,sse:0.033197 chi2:1.663437 chi1_p:1.000000 p:0.0000 D:0.1909\n",
      "skewnorm      ,sse:0.036345 chi2:129.909964 chi1_p:0.999959 p:0.0000 D:0.2420\n",
      "recipinvgauss ,sse:0.036699 chi2:2.626939 chi1_p:1.000000 p:0.0000 D:0.2160\n",
      "chi2          ,sse:0.036867 chi2:2.437209 chi1_p:1.000000 p:0.0000 D:0.2217\n",
      "invgamma      ,sse:0.037123 chi2:2.481549 chi1_p:1.000000 p:0.0000 D:0.2179\n",
      "lognorm       ,sse:0.037334 chi2:2.538187 chi1_p:1.000000 p:0.0000 D:0.2192\n",
      "f             ,sse:0.037393 chi2:2.555414 chi1_p:1.000000 p:0.0000 D:0.2188\n",
      "fatiguelife   ,sse:0.037457 chi2:2.574403 chi1_p:1.000000 p:0.0000 D:0.2199\n",
      "pearson3      ,sse:0.037709 chi2:2.652201 chi1_p:1.000000 p:0.0000 D:0.2211\n",
      "powernorm     ,sse:0.037724 chi2:7.750655 chi1_p:1.000000 p:0.0000 D:0.2337\n",
      "vonmises_line ,sse:0.038297 chi2:2.851604 chi1_p:1.000000 p:0.0000 D:0.2234\n",
      "crystalball   ,sse:0.038738 chi2:3.015302 chi1_p:1.000000 p:0.0000 D:0.2129\n",
      "beta          ,sse:0.038778 chi2:3.028737 chi1_p:1.000000 p:0.0000 D:0.2155\n",
      "norm          ,sse:0.038822 chi2:3.042617 chi1_p:1.000000 p:0.0000 D:0.2239\n",
      "moyal         ,sse:0.042845 chi2:5.096082 chi1_p:1.000000 p:0.0000 D:0.2524\n",
      "burr12        ,sse:0.043058 chi2:4024382637949811451351793664.000000 chi1_p:0.000000 p:0.0000 D:0.3312\n",
      "gumbel_r      ,sse:0.043286 chi2:5.597286 chi1_p:1.000000 p:0.0000 D:0.2942\n",
      "johnsonsb     ,sse:0.045344 chi2:7.673831 chi1_p:1.000000 p:0.0000 D:0.2936\n",
      "betaprime     ,sse:0.046894 chi2:10.355868 chi1_p:1.000000 p:0.0000 D:0.3543\n",
      "gamma         ,sse:0.047390 chi2:11.739604 chi1_p:1.000000 p:0.0000 D:0.3750\n",
      "invweibull    ,sse:0.047499 chi2:12.534072 chi1_p:1.000000 p:0.0000 D:0.4361\n",
      "gumbel_l      ,sse:0.048392 chi2:16.121420 chi1_p:1.000000 p:0.0000 D:0.4434\n",
      "loggamma      ,sse:0.048462 chi2:16.364893 chi1_p:1.000000 p:0.0000 D:0.3863\n",
      "kappa3        ,sse:0.049396 chi2:22.929828 chi1_p:1.000000 p:0.0000 D:0.7496\n",
      "halflogistic  ,sse:0.049658 chi2:23.088243 chi1_p:1.000000 p:0.0000 D:0.5480\n",
      "rayleigh      ,sse:0.049798 chi2:25.961593 chi1_p:1.000000 p:0.0000 D:0.5411\n",
      "genextreme    ,sse:0.050010 chi2:29.564631 chi1_p:1.000000 p:0.0000 D:0.5124\n",
      "invgauss      ,sse:0.050585 chi2:37.538542 chi1_p:1.000000 p:0.0000 D:0.5751\n",
      "triang        ,sse:0.050592 chi2:38.419899 chi1_p:1.000000 p:0.0000 D:0.4949\n",
      "halfnorm      ,sse:0.050696 chi2:40.171655 chi1_p:1.000000 p:0.0000 D:0.6168\n",
      "cosine        ,sse:0.050745 chi2:42.559156 chi1_p:1.000000 p:0.0000 D:0.5681\n",
      "wald          ,sse:0.050834 chi2:43.410710 chi1_p:1.000000 p:0.0000 D:0.4490\n",
      "gausshyper    ,sse:0.050940 chi2:47.089467 chi1_p:1.000000 p:0.0000 D:0.4731\n",
      "genhalflogistic,sse:0.050971 chi2:48.286650 chi1_p:1.000000 p:0.0000 D:0.5321\n",
      "gilbrat       ,sse:0.051033 chi2:49.053930 chi1_p:1.000000 p:0.0000 D:0.4454\n",
      "anglit        ,sse:0.051055 chi2:51.220700 chi1_p:1.000000 p:0.0000 D:0.6340\n",
      "gengamma      ,sse:0.051073 chi2:50.290735 chi1_p:1.000000 p:0.0000 D:0.5776\n",
      "lomax         ,sse:0.051159 chi2:53.323648 chi1_p:1.000000 p:0.0000 D:0.5792\n",
      "expon         ,sse:0.051159 chi2:53.321909 chi1_p:1.000000 p:0.0000 D:0.5799\n",
      "pareto        ,sse:0.051162 chi2:53.359402 chi1_p:1.000000 p:0.0000 D:0.5992\n",
      "kappa4        ,sse:0.051166 chi2:54.006293 chi1_p:1.000000 p:0.0000 D:0.5559\n",
      "truncexpon    ,sse:0.051190 chi2:55.243659 chi1_p:1.000000 p:0.0000 D:0.4907\n",
      "semicircular  ,sse:0.051222 chi2:57.120839 chi1_p:1.000000 p:0.0000 D:0.6672\n",
      "bradford      ,sse:0.051272 chi2:58.483296 chi1_p:1.000000 p:0.0000 D:0.4977\n",
      "halfcauchy    ,sse:0.051366 chi2:61.878282 chi1_p:1.000000 p:0.0000 D:0.4541\n",
      "rdist         ,sse:0.051391 chi2:64.312443 chi1_p:1.000000 p:0.0000 D:0.6355\n",
      "powerlaw      ,sse:0.051415 chi2:65.266658 chi1_p:1.000000 p:0.0000 D:0.5593\n",
      "uniform       ,sse:0.051438 chi2:66.663983 chi1_p:1.000000 p:0.0000 D:0.6278\n",
      "argus         ,sse:0.051505 chi2:70.804061 chi1_p:1.000000 p:0.0000 D:0.6599\n",
      "levy          ,sse:0.051703 chi2:82.228848 chi1_p:1.000000 p:0.0000 D:0.6211\n",
      "ncf           ,sse:0.051788 chi2:89.453884 chi1_p:1.000000 p:0.0000 D:0.5231\n",
      "arcsine       ,sse:0.051848 chi2:96.356938 chi1_p:1.000000 p:0.0000 D:0.5747\n",
      "halfgennorm   ,sse:0.051905 chi2:101.255620 chi1_p:1.000000 p:0.0000 D:0.5723\n",
      "powerlognorm  ,sse:0.051927 chi2:103.503193 chi1_p:1.000000 p:0.0000 D:0.6162\n",
      "alpha         ,sse:0.052003 chi2:111.795899 chi1_p:1.000000 p:0.0000 D:0.7896\n",
      "trapz         ,sse:0.052003 chi2:116.747513 chi1_p:0.999999 p:0.0000 D:0.8245\n",
      "mielke        ,sse:0.052315 chi2:183.004022 chi1_p:0.785441 p:0.0000 D:0.5062\n",
      "levy_l        ,sse:0.052345 chi2:198.141144 chi1_p:0.503860 p:0.0000 D:0.6618\n",
      "exponweib     ,sse:0.052514 chi2:291.873459 chi1_p:0.000020 p:0.0000 D:0.8165\n",
      "erlang        ,sse:0.052528 chi2:307.678242 chi1_p:0.000001 p:0.0000 D:0.6525\n",
      "burr          ,sse:0.052530 chi2:306.014771 chi1_p:0.000002 p:0.0000 D:0.6771\n",
      "genpareto     ,sse:0.052549 chi2:325.654560 chi1_p:0.000000 p:0.0000 D:0.6158\n",
      "fisk          ,sse:0.052650 chi2:484.493655 chi1_p:0.000000 p:0.0000 D:0.8105\n",
      "frechet_r     ,sse:0.052678 chi2:557.565420 chi1_p:0.000000 p:0.0000 D:0.8832\n",
      "weibull_min   ,sse:0.052678 chi2:557.565420 chi1_p:0.000000 p:0.0000 D:0.8832\n",
      "weibull_max   ,sse:0.052795 chi2:1563.804875 chi1_p:0.000000 p:0.0000 D:0.8834\n",
      "frechet_l     ,sse:0.052795 chi2:1563.804875 chi1_p:0.000000 p:0.0000 D:0.8834\n",
      "foldcauchy    ,sse:0.052836 chi2:3880.955025 chi1_p:0.000000 p:0.0000 D:0.9925\n",
      "exponpow      ,sse:0.052862 chi2:nan chi1_p:nan p:0.0000 D:1.0000\n",
      "reciprocal    ,sse:0.052862 chi2:nan chi1_p:nan p:0.0000 D:0.6288\n",
      "rice          ,sse:0.052862 chi2:nan chi1_p:nan p:0.0000 D:1.0000\n",
      "nakagami      ,sse:0.052862 chi2:nan chi1_p:nan p:0.0000 D:1.0000\n",
      "foldnorm      ,sse:0.052862 chi2:nan chi1_p:nan p:0.0000 D:1.0000\n",
      "maxwell       ,sse:0.052862 chi2:nan chi1_p:nan p:0.0000 D:1.0000\n",
      "truncnorm     ,sse:0.052862 chi2:nan chi1_p:nan p:0.0000 D:0.6288\n",
      "gompertz      ,sse:0.052862 chi2:nan chi1_p:nan p:0.0000 D:0.9982\n",
      "chi           ,sse:0.052897 chi2:nan chi1_p:nan p:0.0000 D:0.9977\n",
      "ncx2          ,sse:0.052935 chi2:1121011760.751817 chi1_p:0.000000 p:0.0000 D:0.9978\n",
      "genexpon      ,sse:0.054466 chi2:61703.646388 chi1_p:0.000000 p:0.0000 D:0.9944\n",
      "kstwobign     ,sse:2281771080413403366695632156458758513000185856.000000 chi2:675539944105957725831168.000000 chi1_p:0.000000 p:0.0000 D:1.0000\n",
      "vonmises      ,sse:25486121163398909409278772264849818089441466075481972559314944.000000 chi2:53407998006597574160237595721728.000000 chi1_p:0.000000 p:0.0000 D:241583941995049508719674636894208.0000\n",
      "ksone         ,sse:nan chi2:nan chi1_p:nan p:nan D:nan\n",
      "wrapcauchy    ,sse:nan chi2:nan chi1_p:nan p:nan D:nan\n"
     ]
    },
    {
     "data": {
      "image/png": "[encoded data removed]",
      "text/plain": [
       "<Figure size 864x576 with 1 Axes>"
      ]
     },
     "metadata": {
      "needs_background": "light"
     },
     "output_type": "display_data"
    },
    {
     "name": "stdout",
     "output_type": "stream",
     "text": [
      "(0.23531435584758936, -6.018589028797858e-26, 0.007078991528151496)\n"
     ]
    }
   ],
   "source": [
    "plt.figure(figsize=(12,8))\n",
    "ax = plt.gca()\n",
    "ax.hist(just_noise_dwell_median, bins=200, density=True, alpha=0.5, range=(-100, 100))\n",
    "# Save plot limits\n",
    "dataYLim = ax.get_ylim()\n",
    "\n",
    "one_percent_data = np.random.choice(just_noise_dwell_median, int(se.shape[0]/100), replace=False)\n",
    "\n",
    "st = stats\n",
    "best_dist, best_params = best_fit_distribution(one_percent_data, 200, ax)\n",
    "\n",
    "ax.set_ylim(dataYLim);\n",
    "\n",
    "plt.show()\n",
    "\n",
    "print(best_params)"
   ]
  },
  {
   "cell_type": "markdown",
   "metadata": {},
   "source": [
    "## Distribution fitting dwell diffs, mean model"
   ]
  },
  {
   "cell_type": "code",
   "execution_count": null,
   "metadata": {},
   "outputs": [
    {
     "name": "stdout",
     "output_type": "stream",
     "text": [
      ".........................."
     ]
    }
   ],
   "source": [
    "plt.figure(figsize=(12,8))\n",
    "ax = plt.gca()\n",
    "ax.hist(just_noise_dwell_mean, bins=200, density=True, alpha=0.5, range=(-100, 100))\n",
    "# Save plot limits\n",
    "dataYLim = ax.get_ylim()\n",
    "\n",
    "one_percent_data = np.random.choice(just_noise_dwell_mean, int(se.shape[0]/100), replace=False)\n",
    "\n",
    "st = stats\n",
    "best_dist, best_params = best_fit_distribution(one_percent_data, 200, ax)\n",
    "\n",
    "ax.set_ylim(dataYLim);\n",
    "\n",
    "plt.show()\n",
    "\n",
    "print(best_params)"
   ]
  },
  {
   "cell_type": "markdown",
   "metadata": {},
   "source": [
    "## Distribution fitting dwell diffs, rules model"
   ]
  },
  {
   "cell_type": "code",
   "execution_count": null,
   "metadata": {},
   "outputs": [],
   "source": [
    "plt.figure(figsize=(12,8))\n",
    "ax = plt.gca()\n",
    "ax.hist(just_noise_dwell_rules, bins=200, density=True, alpha=0.5, range=(-100, 100))\n",
    "# Save plot limits\n",
    "dataYLim = ax.get_ylim()\n",
    "\n",
    "one_percent_data = np.random.choice(just_noise_dwell_rules, int(se.shape[0]/100), replace=False)\n",
    "\n",
    "st = stats\n",
    "best_dist, best_params = best_fit_distribution(one_percent_data, 200, ax)\n",
    "\n",
    "ax.set_ylim(dataYLim);\n",
    "\n",
    "plt.show()\n",
    "\n",
    "print(best_params)"
   ]
  },
  {
   "cell_type": "code",
   "execution_count": null,
   "metadata": {},
   "outputs": [],
   "source": []
  },
  {
   "cell_type": "markdown",
   "metadata": {},
   "source": [
    "## Using a method two on journey times"
   ]
  },
  {
   "cell_type": "code",
   "execution_count": null,
   "metadata": {},
   "outputs": [],
   "source": []
  },
  {
   "cell_type": "code",
   "execution_count": null,
   "metadata": {},
   "outputs": [],
   "source": [
    "stats.probplot(just_noise, sparams=(-0.3848045122209864, 4.753788866524921), dist=\"cauchy\", plot=plt)"
   ]
  },
  {
   "cell_type": "code",
   "execution_count": null,
   "metadata": {},
   "outputs": [],
   "source": [
    "stats.cauchy.fit(differences)"
   ]
  },
  {
   "cell_type": "code",
   "execution_count": null,
   "metadata": {},
   "outputs": [],
   "source": [
    "rv = stats.cauchy(loc=0, scale=7.488655070821551/2)"
   ]
  },
  {
   "cell_type": "code",
   "execution_count": null,
   "metadata": {},
   "outputs": [],
   "source": [
    "min_p, max_p = np.percentile(just_noise, [0.1,99.9])\n",
    "\n",
    "x = np.linspace(-100,100, 200)\n",
    "plt.plot(x, np.clip(rv.pdf(x), min_p, max_p))"
   ]
  },
  {
   "cell_type": "markdown",
   "metadata": {},
   "source": [
    "## Analytic Noise Standard Deviation using distribution found from differences"
   ]
  },
  {
   "cell_type": "code",
   "execution_count": null,
   "metadata": {},
   "outputs": [],
   "source": [
    "min_p, max_p = np.percentile(just_noise_median, [0.1,99.9])\n",
    "\n",
    "samples = stats.cauchy.rvs(loc=0, scale=7.488655070821551/2, size=100000000)\n",
    "\n",
    "# Deciding how/where to filter is quite a hack! \n",
    "\n",
    "print(\"######### HACK ##############\")\n",
    "samples_truncated = samples[(samples > min_p) & (samples < max_p)]\n",
    "print(\"####### END HACK ############\")\n",
    "\n",
    "np.std(samples_truncated)"
   ]
  },
  {
   "cell_type": "code",
   "execution_count": null,
   "metadata": {},
   "outputs": [],
   "source": [
    "len(samples_truncated)/len(samples)"
   ]
  },
  {
   "cell_type": "code",
   "execution_count": null,
   "metadata": {},
   "outputs": [],
   "source": [
    "fig, ax1 = plt.subplots()\n",
    "\n",
    "granularity = 300\n",
    "\n",
    "ax1.hist(just_noise, bins=granularity, range=(-150, 150));\n",
    "\n",
    "# ax2 = ax1.twinx()\n",
    "x = np.linspace(-150, 150, granularity)\n",
    "ax1.plot(x, stats.cauchy.pdf(x, -0.3848045122209864, 4.753788866524921) * len(just_noise), label=\"just noise\")\n",
    "ax1.plot(x, stats.cauchy.pdf(x, 0, 7.488655070821551/2) * len(just_noise), label=\"diffs\")\n",
    "ax1.legend()"
   ]
  },
  {
   "cell_type": "markdown",
   "metadata": {},
   "source": [
    "## Analytic Noise Standard Deviation using Just Noise"
   ]
  },
  {
   "cell_type": "code",
   "execution_count": null,
   "metadata": {},
   "outputs": [],
   "source": [
    "np.std(just_noise)"
   ]
  },
  {
   "cell_type": "code",
   "execution_count": null,
   "metadata": {},
   "outputs": [],
   "source": [
    "np.std(just_noise_2_in_10000)"
   ]
  },
  {
   "cell_type": "markdown",
   "metadata": {},
   "source": [
    "### Memory stuff"
   ]
  },
  {
   "cell_type": "code",
   "execution_count": null,
   "metadata": {},
   "outputs": [],
   "source": [
    "se.memory_usage().sort_values()"
   ]
  },
  {
   "cell_type": "code",
   "execution_count": null,
   "metadata": {},
   "outputs": [],
   "source": [
    "def exclude_columns_containing(se, to_remove):\n",
    "\n",
    "    min_cols = [c for c in se.columns if not any(x in c for x in to_remove)]\n",
    "\n",
    "    se_min = se[min_cols]\n",
    "\n",
    "    return se_min\n"
   ]
  },
  {
   "cell_type": "code",
   "execution_count": null,
   "metadata": {},
   "outputs": [],
   "source": [
    "se = exclude_columns_containing(se, [\"prev_segment_code_\",\n",
    "            \"next_segment_code_\",\n",
    "            \"prev_event_index_\",\n",
    "            \"next_event_index_\",\n",
    "            \"offset_timestamp_5_\"])\n",
    "\n",
    "se = exclude_columns_containing(se, [\"prev_stop_\", \"next_stop_\", \"road\"])"
   ]
  },
  {
   "cell_type": "code",
   "execution_count": null,
   "metadata": {},
   "outputs": [],
   "source": [
    "import sys\n",
    "\n",
    "# These are the usual ipython objects, including this one you are creating\n",
    "ipython_vars = ['In', 'Out', 'exit', 'quit', 'get_ipython', 'ipython_vars']\n",
    "\n",
    "# Get a sorted list of the objects and their sizes\n",
    "sorted([(x, sys.getsizeof(globals().get(x))) for x in dir() if not x.startswith('_') and x not in sys.modules and x not in ipython_vars], key=lambda x: x[1], reverse=True)"
   ]
  },
  {
   "cell_type": "code",
   "execution_count": null,
   "metadata": {},
   "outputs": [],
   "source": [
    "13149250104 - 4854970495"
   ]
  },
  {
   "cell_type": "code",
   "execution_count": null,
   "metadata": {},
   "outputs": [],
   "source": []
  }
 ],
 "metadata": {
  "kernelspec": {
   "display_name": "busses",
   "language": "python",
   "name": "busses"
  },
  "language_info": {
   "codemirror_mode": {
    "name": "ipython",
    "version": 3
   },
   "file_extension": ".py",
   "mimetype": "text/x-python",
   "name": "python",
   "nbconvert_exporter": "python",
   "pygments_lexer": "ipython3",
   "version": "3.7.1"
  }
 },
 "nbformat": 4,
 "nbformat_minor": 2
}
