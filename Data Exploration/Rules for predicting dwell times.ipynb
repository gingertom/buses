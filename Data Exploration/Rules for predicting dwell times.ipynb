{
 "cells": [
  {
   "cell_type": "code",
   "execution_count": 1,
   "metadata": {},
   "outputs": [],
   "source": [
    "import numpy as np\n",
    "import numpy.ma as ma\n",
    "import pandas as pd\n",
    "import datetime\n",
    "\n",
    "import matplotlib.pyplot as plt\n",
    "import matplotlib.colors as colors\n",
    "\n",
    "import feather\n",
    "\n",
    "from sklearn.metrics import mean_squared_error, mean_absolute_error\n",
    "\n",
    "from scipy import stats\n",
    "\n",
    "from sklearn.linear_model import LinearRegression\n",
    "\n",
    "import xgboost as xgb\n",
    "\n",
    "import os\n",
    "os.environ['KMP_DUPLICATE_LIB_OK']='True'\n",
    "\n",
    "import json\n",
    "\n",
    "from tqdm import tqdm_notebook as tqdm\n"
   ]
  },
  {
   "cell_type": "markdown",
   "metadata": {},
   "source": [
    "## Loading and setting up the data"
   ]
  },
  {
   "cell_type": "code",
   "execution_count": 2,
   "metadata": {},
   "outputs": [],
   "source": [
    "se = feather.read_dataframe(\"../data_files/B/once/75days/stop_events_with_geo_train_test_averages_prev_next_offsets_noninterp.feather\")\n",
    "se = se.set_index(se.columns[0])"
   ]
  },
  {
   "cell_type": "code",
   "execution_count": 3,
   "metadata": {},
   "outputs": [],
   "source": [
    "se = se.dropna(subset=['median_durations_by_segment_code_and_hour_and_day'])\n",
    "\n"
   ]
  },
  {
   "cell_type": "code",
   "execution_count": 4,
   "metadata": {},
   "outputs": [],
   "source": [
    "se['prev_timingPoint'] = se['prev_timingPoint'].astype(float).astype(int)"
   ]
  },
  {
   "cell_type": "code",
   "execution_count": 5,
   "metadata": {},
   "outputs": [],
   "source": [
    "# se.iloc[1978]"
   ]
  },
  {
   "cell_type": "code",
   "execution_count": 6,
   "metadata": {},
   "outputs": [
    {
     "name": "stdout",
     "output_type": "stream",
     "text": [
      "Calculating rare segments...\n",
      "\tCalculated\n"
     ]
    }
   ],
   "source": [
    "def filter_rare(stop_events):\n",
    "\n",
    "    print(\"Calculating rare segments...\")\n",
    "\n",
    "    segment_counts = stop_events.groupby(\"segment_code\").size()\n",
    "\n",
    "    filtered_stop_events = stop_events.drop(\n",
    "        stop_events[\n",
    "            stop_events[\"segment_code\"].isin(\n",
    "                segment_counts[segment_counts < 120].index.values\n",
    "            )\n",
    "        ].index\n",
    "    )\n",
    "\n",
    "    print(\"\\tCalculated\")\n",
    "\n",
    "    return filtered_stop_events\n",
    "\n",
    "se = filter_rare(se)"
   ]
  },
  {
   "cell_type": "code",
   "execution_count": 7,
   "metadata": {},
   "outputs": [],
   "source": [
    "def MAPE(forecast, actual):\n",
    "    \n",
    "    if(len(forecast) != len(actual)):\n",
    "        raise ValueError('Could not calculate MAPE, forecast and actual arrays are different length')\n",
    "        \n",
    "    forecast = np.asarray(forecast)\n",
    "    actual = np.asarray(actual)\n",
    "    \n",
    "    with np.errstate(divide='ignore', invalid='ignore'):\n",
    "        \n",
    "        division = (actual-forecast)/actual\n",
    "        \n",
    "        division[actual == 0] = 0\n",
    "        \n",
    "        # Instead of dividing by n we count by the number of non-zero values. \n",
    "        # Essentially ignoring all cases where the actual value is zero. \n",
    "        mape = 100 / np.count_nonzero(actual) * np.sum(np.abs(division))\n",
    "    \n",
    "    return mape"
   ]
  },
  {
   "cell_type": "code",
   "execution_count": 8,
   "metadata": {},
   "outputs": [],
   "source": [
    "def make_prediction(medians, results):\n",
    "    return medians * (1 + (results / 100))\n",
    "\n",
    "\n"
   ]
  },
  {
   "cell_type": "markdown",
   "metadata": {},
   "source": [
    "## Adding in a few more medians... why not"
   ]
  },
  {
   "cell_type": "markdown",
   "metadata": {},
   "source": [
    "Starting by making some more medians to compare"
   ]
  },
  {
   "cell_type": "code",
   "execution_count": 9,
   "metadata": {},
   "outputs": [],
   "source": [
    "se['dry'] = (se['rain'] == 0)\n",
    "se['weekend'] = (se['arrival_day'] > 4)\n",
    "\n",
    "se['weekend'] = se['weekend'].astype(bool)"
   ]
  },
  {
   "cell_type": "code",
   "execution_count": 10,
   "metadata": {},
   "outputs": [],
   "source": [
    "segment_code_and_hour_and_daytype_groups = se[se[\"train\"]].groupby(\n",
    "    [\"segment_code\", \"arrival_hour\", \"weekend\"]\n",
    ")"
   ]
  },
  {
   "cell_type": "code",
   "execution_count": 11,
   "metadata": {},
   "outputs": [],
   "source": [
    "median_prev_dwell_by_segment_code_and_hour_and_daytype = (\n",
    "    segment_code_and_hour_and_daytype_groups[\"dwell_duration_prev\"]\n",
    "    .median()\n",
    "    .rename(\"median_prev_dwell_by_segment_code_and_hour_and_daytype\")\n",
    ")\n",
    "\n",
    "se = se.merge(\n",
    "    median_prev_dwell_by_segment_code_and_hour_and_daytype.to_frame(),\n",
    "    \"left\",\n",
    "    left_on=[\"segment_code\", \"arrival_hour\", \"weekend\"],\n",
    "    right_index=True,\n",
    ")"
   ]
  },
  {
   "cell_type": "code",
   "execution_count": 12,
   "metadata": {},
   "outputs": [],
   "source": [
    "prev_stopCode_and_timing_point_groups = se[se[\"train\"]].groupby(\n",
    "    [\"prev_stopCode\", \"prev_timingPoint\"]\n",
    ")\n",
    "\n",
    "median_prev_dwell_by_prev_stop_code_and_timing_point = (\n",
    "    prev_stopCode_and_timing_point_groups[\"dwell_duration_prev\"]\n",
    "    .median()\n",
    "    .rename(\"median_prev_dwell_by_prev_stop_code_and_timing_point\")\n",
    ")\n",
    "\n",
    "se = se.merge(\n",
    "    median_prev_dwell_by_prev_stop_code_and_timing_point.to_frame(),\n",
    "    \"left\",\n",
    "    left_on=[\"prev_stopCode\", \"prev_timingPoint\"],\n",
    "    right_index=True,\n",
    ")\n",
    "\n",
    "\n"
   ]
  },
  {
   "cell_type": "code",
   "execution_count": 13,
   "metadata": {},
   "outputs": [],
   "source": [
    "segment_code_groups = se[se[\"train\"]].groupby(\n",
    "    [\"segment_code\"]\n",
    ")\n",
    "\n",
    "median_prev_dwell_by_segment_code = (\n",
    "    segment_code_groups[\"dwell_duration_prev\"]\n",
    "    .median()\n",
    "    .rename(\"median_prev_dwell_by_segment_code\")\n",
    ")\n",
    "\n",
    "se = se.merge(\n",
    "    median_prev_dwell_by_segment_code.to_frame(),\n",
    "    \"left\",\n",
    "    left_on=[\"segment_code\"],\n",
    "    right_index=True,\n",
    ")"
   ]
  },
  {
   "cell_type": "code",
   "execution_count": null,
   "metadata": {},
   "outputs": [],
   "source": []
  },
  {
   "cell_type": "code",
   "execution_count": 14,
   "metadata": {},
   "outputs": [],
   "source": [
    "se['diff_prev_dwell_and_median_by_segment_code_and_hour_and_daytype'] = se['dwell_duration_prev'] - se['median_prev_dwell_by_segment_code_and_hour_and_daytype']\n",
    "\n"
   ]
  },
  {
   "cell_type": "code",
   "execution_count": 15,
   "metadata": {},
   "outputs": [],
   "source": [
    "segment_code_and_hour_and_daytype_groups = None\n",
    "median_prev_dwell_by_segment_code_and_hour_and_daytype = None\n",
    "prev_stopCode_and_timing_point_groups = None\n",
    "median_prev_dwell_by_prev_stop_code_and_timing_point = None\n",
    "segment_code_groups = None\n",
    "median_prev_dwell_by_segment_code = None\n"
   ]
  },
  {
   "cell_type": "code",
   "execution_count": 16,
   "metadata": {},
   "outputs": [],
   "source": [
    "def exclude_columns_containing(se, to_remove):\n",
    "\n",
    "    min_cols = [c for c in se.columns if not any(x in c for x in to_remove)]\n",
    "\n",
    "    se_min = se[min_cols]\n",
    "\n",
    "    return se_min"
   ]
  },
  {
   "cell_type": "code",
   "execution_count": 17,
   "metadata": {},
   "outputs": [],
   "source": [
    "se = exclude_columns_containing(se, [\"prev_segment_code_\",\n",
    "            \"next_segment_code_\",\n",
    "            \"prev_event_index_\",\n",
    "            \"next_event_index_\",\n",
    "            \"offset_timestamp_5_\", \n",
    "            \"prev_stop_\", \n",
    "            \"next_stop_\",\n",
    "            \"road\"])"
   ]
  },
  {
   "cell_type": "markdown",
   "metadata": {},
   "source": [
    "## Split dwell types into \"normal\" and not\n",
    "\n",
    "There is a slight trick going on here. To know how early a bus is we must know it's actual arrival time. This won't be known in advance. So we'll have to estimate how early it's going to be in order to then estimate how long the dwell time is going to be? Is this too much of a hack? 🤔"
   ]
  },
  {
   "cell_type": "code",
   "execution_count": 18,
   "metadata": {},
   "outputs": [],
   "source": [
    "se['prev_dwell_type_normal'] = True"
   ]
  },
  {
   "cell_type": "code",
   "execution_count": 19,
   "metadata": {},
   "outputs": [],
   "source": [
    "# If it's a timing point and the bus is early (or even 20 seconds late) treat it as not normal\n",
    "\n",
    "se.loc[(se['prev_timingPoint'] == 1) & (se['prev_actualArrival'] - pd.Timedelta(\"20 second\") < se['prev_aimedArrival']), 'prev_dwell_type_normal'] = False"
   ]
  },
  {
   "cell_type": "code",
   "execution_count": 20,
   "metadata": {},
   "outputs": [],
   "source": [
    "if 'median_prev_dwell_by_segment_code_and_hour_and_daytype_normal' in se.columns:\n",
    "    se = se.drop(columns=['median_prev_dwell_by_segment_code_and_hour_and_daytype_normal'])\n",
    "\n",
    "segment_code_and_hour_and_daytype_groups_normal = se[(se[\"train\"] == True) & (se['prev_dwell_type_normal'] == True)].groupby(\n",
    "    [\"segment_code\", \"arrival_hour\", \"weekend\"]\n",
    ")\n",
    "\n",
    "median_prev_dwell_by_segment_code_and_hour_and_daytype_normal = (\n",
    "    segment_code_and_hour_and_daytype_groups_normal[\"dwell_duration_prev\"]\n",
    "    .median()\n",
    "    .rename(\"median_prev_dwell_by_segment_code_and_hour_and_daytype_normal\")\n",
    ")\n",
    "\n",
    "se = se.merge(\n",
    "    median_prev_dwell_by_segment_code_and_hour_and_daytype_normal.to_frame(),\n",
    "    \"left\",\n",
    "    left_on=[\"segment_code\", \"arrival_hour\", \"weekend\"],\n",
    "    right_index=True,\n",
    ")"
   ]
  },
  {
   "cell_type": "code",
   "execution_count": 21,
   "metadata": {},
   "outputs": [],
   "source": [
    "#There are only 268 nan's just get rid of them. Should probably replace them with the normal median? \n",
    "\n",
    "se = se.dropna(subset=['median_prev_dwell_by_segment_code_and_hour_and_daytype_normal'])"
   ]
  },
  {
   "cell_type": "markdown",
   "metadata": {},
   "source": [
    "### New feature how early the bus is to the stop"
   ]
  },
  {
   "cell_type": "code",
   "execution_count": 22,
   "metadata": {},
   "outputs": [],
   "source": [
    "se['how_early'] = (se['prev_aimedArrival'] - se['prev_actualArrival']).astype('<m8[s]')"
   ]
  },
  {
   "cell_type": "markdown",
   "metadata": {},
   "source": [
    "### Adding in if it's a merged stop"
   ]
  },
  {
   "cell_type": "code",
   "execution_count": 23,
   "metadata": {},
   "outputs": [],
   "source": [
    "merged_stops = '{\"1290BOB20387\": [\"167_16\", \"167_125\", \"167_18\", \"167_128\", \"167_21\", \"167_14\", \"167_127\", \"167_116\", \"167_2\", \"167_3\", \"167_115\", \"167_6\", \"167_117\", \"167_118\", \"167_1\", \"167_17\", \"167_15\", \"167_126\", \"167_124\", \"168_1\", \"168_2\", \"168_116\", \"168_3\", \"168_118\", \"168_6\", \"168_117\", \"168_115\", \"168_17\", \"168_126\", \"168_18\", \"168_15\", \"168_16\", \"168_125\", \"168_128\", \"168_21\", \"168_124\", \"168_127\", \"168_14\"],\"1290BOB20403\": [\"167_38\", \"167_44\", \"167_42\", \"167_135\", \"167_137\", \"167_40\", \"167_133\", \"167_134\", \"167_46\", \"167_37\", \"167_51\", \"167_36\", \"167_48\", \"167_23\", \"167_22\", \"167_26\", \"167_130\", \"167_24\", \"167_25\", \"167_28\", \"167_129\", \"167_33\", \"167_132\", \"167_31\", \"167_35\", \"167_32\", \"167_34\", \"167_131\", \"167_45\", \"167_136\", \"167_43\", \"167_41\", \"167_39\", \"168_24\", \"168_25\", \"168_26\", \"168_130\", \"168_22\", \"168_129\", \"168_28\", \"168_23\", \"168_33\", \"168_132\", \"168_35\", \"168_31\", \"168_32\", \"168_34\", \"168_131\", \"168_45\", \"168_43\", \"168_41\", \"168_136\", \"168_134\", \"168_46\", \"168_135\", \"168_137\", \"168_39\", \"168_37\", \"168_51\", \"168_48\", \"168_38\", \"168_40\", \"168_42\", \"168_44\", \"168_133\", \"168_36\", \"170_23\", \"170_22\", \"170_91\", \"170_21\", \"170_25\", \"170_20\", \"170_19\", \"170_90\", \"170_30\", \"170_93\", \"170_28\", \"170_31\", \"170_29\", \"170_92\", \"170_33\", \"170_35\", \"170_36\", \"170_34\", \"170_32\"],\"1280BOB20047\": [\"167_267\", \"167_265\", \"167_264\", \"167_266\", \"168_265\", \"168_264\", \"168_266\", \"168_267\", \"170_217\", \"170_215\", \"170_214\", \"170_216\"],\"1290BOB20402\": [\"167_284\", \"168_284\", \"170_236\"]}'"
   ]
  },
  {
   "cell_type": "code",
   "execution_count": 24,
   "metadata": {},
   "outputs": [],
   "source": [
    "merged_stops = json.loads(merged_stops)"
   ]
  },
  {
   "cell_type": "code",
   "execution_count": 25,
   "metadata": {},
   "outputs": [],
   "source": [
    "se['merged_stop_prev'] = False"
   ]
  },
  {
   "cell_type": "code",
   "execution_count": 26,
   "metadata": {},
   "outputs": [
    {
     "name": "stdout",
     "output_type": "stream",
     "text": [
      "1290BOB20387\n",
      "38\n",
      "1290BOB20403\n",
      "85\n",
      "1280BOB20047\n",
      "12\n",
      "1290BOB20402\n",
      "3\n"
     ]
    }
   ],
   "source": [
    "for stop, patterns in merged_stops.items():\n",
    "    print(stop)\n",
    "    print(len(patterns))\n",
    "    \n",
    "    se.loc[(se['prev_stopCode'] == stop) & (se['patternId'].isin(patterns)), 'merged_stop_prev'] = True"
   ]
  },
  {
   "cell_type": "markdown",
   "metadata": {},
   "source": [
    "## Add a feature to see if it's the first stop of the day (we'll ignore those)"
   ]
  },
  {
   "cell_type": "code",
   "execution_count": 27,
   "metadata": {},
   "outputs": [],
   "source": [
    "se['first_stop'] = False"
   ]
  },
  {
   "cell_type": "code",
   "execution_count": 28,
   "metadata": {},
   "outputs": [],
   "source": [
    "firsts = se.reset_index().groupby(['vehicle', 'date']).first()"
   ]
  },
  {
   "cell_type": "code",
   "execution_count": 29,
   "metadata": {},
   "outputs": [],
   "source": [
    "se.loc[firsts['index'], 'first_stop'] = True"
   ]
  },
  {
   "cell_type": "code",
   "execution_count": 30,
   "metadata": {},
   "outputs": [
    {
     "data": {
      "image/png": "[encoded data removed]",
      "text/plain": [
       "<Figure size 432x288 with 1 Axes>"
      ]
     },
     "metadata": {
      "needs_background": "light"
     },
     "output_type": "display_data"
    }
   ],
   "source": [
    "plt.hist(firsts['dwell_duration_prev'], bins=100, range=(0,1000));"
   ]
  },
  {
   "cell_type": "code",
   "execution_count": 31,
   "metadata": {},
   "outputs": [
    {
     "data": {
      "text/plain": [
       "7280"
      ]
     },
     "execution_count": 31,
     "metadata": {},
     "output_type": "execute_result"
    }
   ],
   "source": [
    "np.count_nonzero(se['first_stop'])"
   ]
  },
  {
   "cell_type": "code",
   "execution_count": null,
   "metadata": {},
   "outputs": [],
   "source": []
  },
  {
   "cell_type": "code",
   "execution_count": null,
   "metadata": {},
   "outputs": [],
   "source": []
  },
  {
   "cell_type": "code",
   "execution_count": null,
   "metadata": {},
   "outputs": [],
   "source": []
  },
  {
   "cell_type": "markdown",
   "metadata": {},
   "source": [
    "## Adding in the time gap (in seconds) between this bus and the previous and next buses\n",
    "\n",
    "All based on the previous stop code"
   ]
  },
  {
   "cell_type": "code",
   "execution_count": 32,
   "metadata": {},
   "outputs": [],
   "source": [
    "se_prev_stopCode_groups = se.groupby([\"prev_stopCode\"])"
   ]
  },
  {
   "cell_type": "code",
   "execution_count": 33,
   "metadata": {},
   "outputs": [],
   "source": [
    "se['last_bus_gap'] = np.nan\n",
    "se['next_bus_gap'] = np.nan"
   ]
  },
  {
   "cell_type": "code",
   "execution_count": 34,
   "metadata": {},
   "outputs": [
    {
     "data": {
      "application/vnd.jupyter.widget-view+json": {
       "model_id": "6988a419c083445fb706afb218d6351f",
       "version_major": 2,
       "version_minor": 0
      },
      "text/plain": [
       "HBox(children=(IntProgress(value=0, max=860), HTML(value='')))"
      ]
     },
     "metadata": {},
     "output_type": "display_data"
    },
    {
     "name": "stdout",
     "output_type": "stream",
     "text": [
      "\n"
     ]
    }
   ],
   "source": [
    "for name, stop in tqdm(se_prev_stopCode_groups):\n",
    "    \n",
    "    stop = stop.sort_values(\"prev_actualArrival\")\n",
    "    \n",
    "    previous_bus = stop.shift(1)\n",
    "    next_bus = stop.shift(-1)\n",
    "\n",
    "    se.loc[stop.index, 'last_bus_gap'] = (stop['prev_actualArrival'] - previous_bus['prev_actualArrival']).astype('<m8[s]')\n",
    "    se.loc[stop.index, 'next_bus_gap'] = (next_bus['prev_actualArrival'] - stop['prev_actualArrival']).astype('<m8[s]')\n",
    "    "
   ]
  },
  {
   "cell_type": "code",
   "execution_count": 35,
   "metadata": {},
   "outputs": [],
   "source": [
    "se = se.dropna(subset=['last_bus_gap', 'next_bus_gap'])\n",
    "# se['next_bus_gap'] = se['next_bus_gap'].values.astype(float) * 1e-9"
   ]
  },
  {
   "cell_type": "code",
   "execution_count": 36,
   "metadata": {},
   "outputs": [
    {
     "data": {
      "image/png": "[encoded data removed]",
      "text/plain": [
       "<Figure size 432x288 with 1 Axes>"
      ]
     },
     "metadata": {
      "needs_background": "light"
     },
     "output_type": "display_data"
    }
   ],
   "source": [
    "plt.hist(se['last_bus_gap'], bins=100, range=(0, 5000));"
   ]
  },
  {
   "cell_type": "code",
   "execution_count": 37,
   "metadata": {},
   "outputs": [
    {
     "data": {
      "text/plain": [
       "0"
      ]
     },
     "execution_count": 37,
     "metadata": {},
     "output_type": "execute_result"
    }
   ],
   "source": [
    "np.count_nonzero(np.isnan(se['last_bus_gap']))"
   ]
  },
  {
   "cell_type": "code",
   "execution_count": 38,
   "metadata": {},
   "outputs": [
    {
     "data": {
      "text/plain": [
       "0"
      ]
     },
     "execution_count": 38,
     "metadata": {},
     "output_type": "execute_result"
    }
   ],
   "source": [
    "np.count_nonzero(np.isnan(se['next_bus_gap']))"
   ]
  },
  {
   "cell_type": "code",
   "execution_count": 39,
   "metadata": {},
   "outputs": [
    {
     "name": "stderr",
     "output_type": "stream",
     "text": [
      "/Users/tommelamed/anaconda3/envs/busses/lib/python3.7/site-packages/ipykernel_launcher.py:1: SettingWithCopyWarning: \n",
      "A value is trying to be set on a copy of a slice from a DataFrame.\n",
      "Try using .loc[row_indexer,col_indexer] = value instead\n",
      "\n",
      "See the caveats in the documentation: http://pandas.pydata.org/pandas-docs/stable/indexing.html#indexing-view-versus-copy\n",
      "  \"\"\"Entry point for launching an IPython kernel.\n",
      "/Users/tommelamed/anaconda3/envs/busses/lib/python3.7/site-packages/ipykernel_launcher.py:2: SettingWithCopyWarning: \n",
      "A value is trying to be set on a copy of a slice from a DataFrame.\n",
      "Try using .loc[row_indexer,col_indexer] = value instead\n",
      "\n",
      "See the caveats in the documentation: http://pandas.pydata.org/pandas-docs/stable/indexing.html#indexing-view-versus-copy\n",
      "  \n"
     ]
    }
   ],
   "source": [
    "se['last_bus_recent'] = se['last_bus_gap'] < 30\n",
    "se['next_bus_soon'] = se['next_bus_gap'] < 30"
   ]
  },
  {
   "cell_type": "code",
   "execution_count": 40,
   "metadata": {},
   "outputs": [
    {
     "data": {
      "text/plain": [
       "0"
      ]
     },
     "execution_count": 40,
     "metadata": {},
     "output_type": "execute_result"
    }
   ],
   "source": [
    "np.count_nonzero(np.isnan(se['next_bus_soon']))"
   ]
  },
  {
   "cell_type": "code",
   "execution_count": 41,
   "metadata": {},
   "outputs": [
    {
     "data": {
      "image/png": "[encoded data removed]",
      "text/plain": [
       "<Figure size 432x288 with 1 Axes>"
      ]
     },
     "metadata": {
      "needs_background": "light"
     },
     "output_type": "display_data"
    }
   ],
   "source": [
    "plt.hist2d(se.loc[~se['prev_dwell_type_normal'], 'dwell_duration_prev'], se.loc[~se['prev_dwell_type_normal'], 'next_bus_gap'], bins=[50,50], range=[[0,50],[0,1000]]);\n"
   ]
  },
  {
   "cell_type": "code",
   "execution_count": null,
   "metadata": {},
   "outputs": [],
   "source": []
  },
  {
   "cell_type": "code",
   "execution_count": 122,
   "metadata": {},
   "outputs": [
    {
     "name": "stderr",
     "output_type": "stream",
     "text": [
      "/Users/tommelamed/anaconda3/envs/busses/lib/python3.7/site-packages/ipykernel_launcher.py:3: SettingWithCopyWarning: \n",
      "A value is trying to be set on a copy of a slice from a DataFrame.\n",
      "Try using .loc[row_indexer,col_indexer] = value instead\n",
      "\n",
      "See the caveats in the documentation: http://pandas.pydata.org/pandas-docs/stable/indexing.html#indexing-view-versus-copy\n",
      "  This is separate from the ipykernel package so we can avoid doing imports until\n",
      "/Users/tommelamed/anaconda3/envs/busses/lib/python3.7/site-packages/ipykernel_launcher.py:4: SettingWithCopyWarning: \n",
      "A value is trying to be set on a copy of a slice from a DataFrame.\n",
      "Try using .loc[row_indexer,col_indexer] = value instead\n",
      "\n",
      "See the caveats in the documentation: http://pandas.pydata.org/pandas-docs/stable/indexing.html#indexing-view-versus-copy\n",
      "  after removing the cwd from sys.path.\n"
     ]
    },
    {
     "data": {
      "application/vnd.jupyter.widget-view+json": {
       "model_id": "e0ef75bf1d4b4d0c86db610512d9d562",
       "version_major": 2,
       "version_minor": 0
      },
      "text/plain": [
       "HBox(children=(IntProgress(value=0, max=2140), HTML(value='')))"
      ]
     },
     "metadata": {},
     "output_type": "display_data"
    },
    {
     "name": "stdout",
     "output_type": "stream",
     "text": [
      "\n"
     ]
    }
   ],
   "source": [
    "se_prev_stopCode_rout_groups = se.groupby([\"prev_stopCode\", \"publicName\"])\n",
    "\n",
    "se[\"last_this_bus_gap\"] = np.nan\n",
    "se[\"next_this_bus_gap\"] = np.nan\n",
    "\n",
    "for _, stop in tqdm(se_prev_stopCode_rout_groups):\n",
    "\n",
    "    stop = stop.sort_values(\"prev_actualArrival\")\n",
    "\n",
    "    previous_bus = stop.shift(1)\n",
    "    next_bus = stop.shift(-1)\n",
    "\n",
    "    se.loc[stop.index, \"last_this_bus_gap\"] = (\n",
    "        stop[\"prev_actualArrival\"] - previous_bus[\"prev_actualArrival\"]\n",
    "    ).astype(\"<m8[s]\")\n",
    "    se.loc[stop.index, \"next_this_bus_gap\"] = (\n",
    "        next_bus[\"prev_actualArrival\"] - stop[\"prev_actualArrival\"]\n",
    "    ).astype(\"<m8[s]\")"
   ]
  },
  {
   "cell_type": "code",
   "execution_count": 124,
   "metadata": {},
   "outputs": [],
   "source": [
    "se = se.dropna(subset=['last_this_bus_gap', 'next_this_bus_gap'])"
   ]
  },
  {
   "cell_type": "code",
   "execution_count": 146,
   "metadata": {},
   "outputs": [
    {
     "data": {
      "text/plain": [
       "<matplotlib.colorbar.Colorbar at 0x1e47fb4278>"
      ]
     },
     "execution_count": 146,
     "metadata": {},
     "output_type": "execute_result"
    },
    {
     "data": {
      "image/png": "[encoded data removed]",
      "text/plain": [
       "<Figure size 432x288 with 2 Axes>"
      ]
     },
     "metadata": {
      "needs_background": "light"
     },
     "output_type": "display_data"
    }
   ],
   "source": [
    "plt.hist2d(se.loc[~se['prev_dwell_type_normal'], \"last_this_bus_gap\"], se.loc[~se['prev_dwell_type_normal'], 'dwell_duration_prev'], bins=[20,50], range=[[0,200],[0,50]]);\n",
    "plt.colorbar()"
   ]
  },
  {
   "cell_type": "code",
   "execution_count": 145,
   "metadata": {},
   "outputs": [
    {
     "data": {
      "text/plain": [
       "<matplotlib.colorbar.Colorbar at 0x1a22576dd8>"
      ]
     },
     "execution_count": 145,
     "metadata": {},
     "output_type": "execute_result"
    },
    {
     "data": {
      "image/png": "[encoded data removed]",
      "text/plain": [
       "<Figure size 432x288 with 2 Axes>"
      ]
     },
     "metadata": {
      "needs_background": "light"
     },
     "output_type": "display_data"
    }
   ],
   "source": [
    "plt.hist2d(se.loc[~se['prev_dwell_type_normal'], \"next_this_bus_gap\"], se.loc[~se['prev_dwell_type_normal'], 'dwell_duration_prev'], bins=[20,50], range=[[0,200],[0,50]]);\n",
    "plt.colorbar()"
   ]
  },
  {
   "cell_type": "code",
   "execution_count": 134,
   "metadata": {},
   "outputs": [
    {
     "data": {
      "image/png": "[encoded data removed]",
      "text/plain": [
       "<Figure size 432x288 with 1 Axes>"
      ]
     },
     "metadata": {
      "needs_background": "light"
     },
     "output_type": "display_data"
    }
   ],
   "source": [
    "plt.hist(se['last_this_bus_gap'], bins=100, range=(0,3000));"
   ]
  },
  {
   "cell_type": "code",
   "execution_count": 135,
   "metadata": {},
   "outputs": [
    {
     "data": {
      "image/png": "[encoded data removed]",
      "text/plain": [
       "<Figure size 432x288 with 1 Axes>"
      ]
     },
     "metadata": {
      "needs_background": "light"
     },
     "output_type": "display_data"
    }
   ],
   "source": [
    "plt.hist(se['next_this_bus_gap'], bins=100, range=(0,3000));"
   ]
  },
  {
   "cell_type": "code",
   "execution_count": null,
   "metadata": {},
   "outputs": [],
   "source": []
  },
  {
   "cell_type": "markdown",
   "metadata": {},
   "source": [
    "## Making up some rules"
   ]
  },
  {
   "cell_type": "code",
   "execution_count": 42,
   "metadata": {},
   "outputs": [],
   "source": [
    "early_timing_points = se[(se['prev_timingPoint'] == 1) & (se['prev_actualArrival'] + pd.Timedelta(\"1 minute\") < se['prev_aimedArrival'])]"
   ]
  },
  {
   "cell_type": "code",
   "execution_count": 43,
   "metadata": {},
   "outputs": [
    {
     "data": {
      "text/plain": [
       "75505"
      ]
     },
     "execution_count": 43,
     "metadata": {},
     "output_type": "execute_result"
    }
   ],
   "source": [
    "# How many dwell events are timing points and the bus arrives over a minute early\n",
    "\n",
    "early_timing_points.shape[0]"
   ]
  },
  {
   "cell_type": "code",
   "execution_count": 44,
   "metadata": {},
   "outputs": [
    {
     "data": {
      "image/png": "[encoded data removed]",
      "text/plain": [
       "<Figure size 432x288 with 1 Axes>"
      ]
     },
     "metadata": {
      "needs_background": "light"
     },
     "output_type": "display_data"
    }
   ],
   "source": [
    "plt.hist(early_timing_points['dwell_duration_prev'], bins=100, range=(0,500));"
   ]
  },
  {
   "cell_type": "code",
   "execution_count": 45,
   "metadata": {},
   "outputs": [
    {
     "data": {
      "image/png": "[encoded data removed]",
      "text/plain": [
       "<Figure size 432x288 with 1 Axes>"
      ]
     },
     "metadata": {
      "needs_background": "light"
     },
     "output_type": "display_data"
    }
   ],
   "source": [
    "plt.hist(se.loc[se['prev_timingPoint'] == 1, 'dwell_duration_prev'], bins=100, range=(0,500));"
   ]
  },
  {
   "cell_type": "code",
   "execution_count": 46,
   "metadata": {},
   "outputs": [
    {
     "data": {
      "image/png": "[encoded data removed]",
      "text/plain": [
       "<Figure size 432x288 with 1 Axes>"
      ]
     },
     "metadata": {
      "needs_background": "light"
     },
     "output_type": "display_data"
    }
   ],
   "source": [
    "plt.hist(se.loc[se['prev_timingPoint'] == 0, 'dwell_duration_prev'], bins=100, range=(0,500));"
   ]
  },
  {
   "cell_type": "markdown",
   "metadata": {},
   "source": [
    "# Looking at correlations between how early a timing point bus is and it's dwell time"
   ]
  },
  {
   "cell_type": "code",
   "execution_count": 118,
   "metadata": {},
   "outputs": [
    {
     "name": "stdout",
     "output_type": "stream",
     "text": [
      "With -120.0 seconds buffer\n",
      "Length: 9,441\n",
      "Mean: 31.834763266603115\n",
      "Median: 22.0\n",
      "----------------------------------\n",
      "With -110.0 seconds buffer\n",
      "Length: 10,066\n",
      "Mean: 31.38774090999404\n",
      "Median: 21.0\n",
      "----------------------------------\n",
      "With -100.0 seconds buffer\n",
      "Length: 10,802\n",
      "Mean: 31.086095167561563\n",
      "Median: 20.0\n",
      "----------------------------------\n",
      "With -90.0 seconds buffer\n",
      "Length: 11,585\n",
      "Mean: 30.48994389296504\n",
      "Median: 19.0\n",
      "----------------------------------\n",
      "With -80.0 seconds buffer\n",
      "Length: 12,796\n",
      "Mean: 30.17700844013754\n",
      "Median: 17.0\n",
      "----------------------------------\n",
      "With -70.0 seconds buffer\n",
      "Length: 13,655\n",
      "Mean: 30.783595752471623\n",
      "Median: 17.0\n",
      "----------------------------------\n",
      "With -60.0 seconds buffer\n",
      "Length: 15,060\n",
      "Mean: 29.899003984063746\n",
      "Median: 15.0\n",
      "----------------------------------\n",
      "With -50.0 seconds buffer\n",
      "Length: 16,314\n",
      "Mean: 28.6257815373299\n",
      "Median: 12.0\n",
      "----------------------------------\n",
      "With -40.0 seconds buffer\n",
      "Length: 18,747\n",
      "Mean: 27.86941910705713\n",
      "Median: 10.0\n",
      "----------------------------------\n",
      "With -30.0 seconds buffer\n",
      "Length: 21,685\n",
      "Mean: 25.854461609407423\n",
      "Median: 9.0\n",
      "----------------------------------\n",
      "With -20.0 seconds buffer\n",
      "Length: 24,493\n",
      "Mean: 24.82835912301474\n",
      "Median: 9.0\n",
      "----------------------------------\n",
      "With -10.0 seconds buffer\n",
      "Length: 24,652\n",
      "Mean: 27.790402401427876\n",
      "Median: 14.0\n",
      "----------------------------------\n",
      "With 0.0 seconds buffer\n",
      "Length: 22,678\n",
      "Mean: 32.130963929799805\n",
      "Median: 20.0\n",
      "----------------------------------\n",
      "With 10.0 seconds buffer\n",
      "Length: 19,449\n",
      "Mean: 38.953570877680086\n",
      "Median: 28.0\n",
      "----------------------------------\n",
      "With 20.0 seconds buffer\n",
      "Length: 16,745\n",
      "Mean: 44.652672439534186\n",
      "Median: 35.0\n",
      "----------------------------------\n",
      "With 30.0 seconds buffer\n",
      "Length: 15,659\n",
      "Mean: 49.58618047129446\n",
      "Median: 43.0\n",
      "----------------------------------\n",
      "With 40.0 seconds buffer\n",
      "Length: 14,984\n",
      "Mean: 53.942605445808866\n",
      "Median: 49.0\n",
      "----------------------------------\n",
      "With 50.0 seconds buffer\n",
      "Length: 13,538\n",
      "Mean: 60.41453685921111\n",
      "Median: 58.0\n",
      "----------------------------------\n",
      "With 60.0 seconds buffer\n",
      "Length: 11,691\n",
      "Mean: 66.90779231887777\n",
      "Median: 68.0\n",
      "----------------------------------\n",
      "With 70.0 seconds buffer\n",
      "Length: 9,888\n",
      "Mean: 74.55016181229773\n",
      "Median: 79.0\n",
      "----------------------------------\n",
      "With 80.0 seconds buffer\n",
      "Length: 8,540\n",
      "Mean: 81.41451990632318\n",
      "Median: 86.0\n",
      "----------------------------------\n",
      "With 90.0 seconds buffer\n",
      "Length: 7,414\n",
      "Mean: 87.50134879956839\n",
      "Median: 92.0\n",
      "----------------------------------\n",
      "With 100.0 seconds buffer\n",
      "Length: 6,053\n",
      "Mean: 91.34776144060797\n",
      "Median: 92.0\n",
      "----------------------------------\n",
      "With 110.0 seconds buffer\n",
      "Length: 4,989\n",
      "Mean: 93.24213269192222\n",
      "Median: 90.0\n",
      "----------------------------------\n",
      "With 120.0 seconds buffer\n",
      "Length: 3,963\n",
      "Mean: 94.17385818824123\n",
      "Median: 90.0\n",
      "----------------------------------\n",
      "With 130.0 seconds buffer\n",
      "Length: 3,064\n",
      "Mean: 99.90502610966057\n",
      "Median: 98.0\n",
      "----------------------------------\n",
      "With 140.0 seconds buffer\n",
      "Length: 2,316\n",
      "Mean: 102.58462867012089\n",
      "Median: 103.0\n",
      "----------------------------------\n",
      "With 150.0 seconds buffer\n",
      "Length: 1,849\n",
      "Mean: 107.72201189832342\n",
      "Median: 105.0\n",
      "----------------------------------\n",
      "With 160.0 seconds buffer\n",
      "Length: 1,452\n",
      "Mean: 100.81542699724518\n",
      "Median: 85.0\n",
      "----------------------------------\n",
      "With 170.0 seconds buffer\n",
      "Length: 1,163\n",
      "Mean: 106.18916595012898\n",
      "Median: 84.0\n",
      "----------------------------------\n",
      "With 180.0 seconds buffer\n",
      "Length: 905\n",
      "Mean: 112.66629834254144\n",
      "Median: 86.0\n",
      "----------------------------------\n"
     ]
    }
   ],
   "source": [
    "buffers = []\n",
    "median_dwells = []\n",
    "mean_dwells = []\n",
    "frequency = []\n",
    "\n",
    "for extra in np.linspace(-120, +180, 31):\n",
    "    dwells = se.loc[(se['prev_timingPoint'] == 1) & \n",
    "                    (se['how_early'] < extra + 10) &\n",
    "                    (se['how_early'] > extra),\n",
    "                        'dwell_duration_prev']\n",
    "    \n",
    "#     plt.hist(dwells, bins=100, range=(0,500));\n",
    "#     plt.title(f\"With {extra} seconds buffer\")\n",
    "#     plt.show()\n",
    "    print(f\"With {extra} seconds buffer\")\n",
    "    print(f\"Length: {len(dwells):,}\")\n",
    "    print(f\"Mean: {np.mean(dwells)}\")\n",
    "    print(f\"Median: {np.median(dwells)}\")\n",
    "    print(f\"----------------------------------\")\n",
    "    \n",
    "    buffers.append(extra)\n",
    "    median_dwells.append(np.median(dwells))\n",
    "    mean_dwells.append(np.mean(dwells))\n",
    "    frequency.append(len(dwells))\n",
    "    \n",
    "buffers = np.array(buffers).reshape(-1, 1) + 5\n",
    "    "
   ]
  },
  {
   "cell_type": "code",
   "execution_count": 119,
   "metadata": {},
   "outputs": [
    {
     "data": {
      "image/png": "[encoded data removed]",
      "text/plain": [
       "<Figure size 432x288 with 2 Axes>"
      ]
     },
     "metadata": {
      "needs_background": "light"
     },
     "output_type": "display_data"
    }
   ],
   "source": [
    "\n",
    "\n",
    "mean_dwells = np.array(mean_dwells)\n",
    "\n",
    "plt.scatter(buffers, mean_dwells, label=\"means\")\n",
    "plt.scatter(buffers, median_dwells, label=\"medians\")\n",
    "\n",
    "reg = LinearRegression()\n",
    "\n",
    "reg.fit(buffers[10:16], mean_dwells[10:16])\n",
    "\n",
    "reg2 = LinearRegression()\n",
    "\n",
    "fit_data = se.loc[(se['prev_timingPoint'] == 1) & \n",
    "                    (se['how_early'] < 100) &\n",
    "                    (se['how_early'] > -20),\n",
    "                        ['how_early', 'dwell_duration_prev']].values\n",
    "\n",
    "reg2.fit(fit_data[:,0].reshape(-1, 1), fit_data[:,1])\n",
    "\n",
    "\n",
    "\n",
    "plt.plot(buffers, reg.predict(buffers), label=\"linear model (means)\")\n",
    "plt.plot(buffers, reg2.predict(buffers), label=\"linear model full\")\n",
    "\n",
    "plt.legend()\n",
    "plt.title(\"Dwell times for timing point stops where the bus is early\")\n",
    "plt.xlabel(\"How early the bus is to the nearest 10 seconds\")\n",
    "plt.ylabel(\"The dwell time (seconds)\")\n",
    "\n",
    "ax = plt.gca()\n",
    "\n",
    "ax2 = ax.twinx()\n",
    "\n",
    "ax2.plot(buffers, frequency)\n",
    "plt.show()"
   ]
  },
  {
   "cell_type": "code",
   "execution_count": 120,
   "metadata": {},
   "outputs": [
    {
     "data": {
      "image/png": "[encoded data removed]",
      "text/plain": [
       "<Figure size 432x288 with 1 Axes>"
      ]
     },
     "metadata": {
      "needs_background": "light"
     },
     "output_type": "display_data"
    }
   ],
   "source": [
    "mean_dwells = np.array(mean_dwells)\n",
    "\n",
    "plt.scatter(buffers, mean_dwells, label=\"means\")\n",
    "plt.scatter(buffers, median_dwells, label=\"medians\")\n",
    "\n",
    "plt.plot(buffers, reg.predict(buffers), label=\"linear model (means)\")\n",
    "plt.plot(buffers, reg2.predict(buffers), label=\"linear model full\")\n",
    "\n",
    "plt.legend()\n",
    "plt.title(\"Dwell times for timing point stops where the bus is early\")\n",
    "plt.xlabel(\"How early the bus is to the nearest 10 seconds\")\n",
    "plt.ylabel(\"The dwell time (seconds)\")\n",
    "plt.xlim(-20,105)\n",
    "plt.ylim(0,100)\n",
    "\n",
    "plt.show()"
   ]
  },
  {
   "cell_type": "markdown",
   "metadata": {},
   "source": [
    "### Doing the same test with non-timing points"
   ]
  },
  {
   "cell_type": "code",
   "execution_count": 73,
   "metadata": {},
   "outputs": [
    {
     "data": {
      "image/png": "[encoded data removed]",
      "text/plain": [
       "<Figure size 432x288 with 1 Axes>"
      ]
     },
     "metadata": {
      "needs_background": "light"
     },
     "output_type": "display_data"
    },
    {
     "name": "stdout",
     "output_type": "stream",
     "text": [
      "With -60.0 seconds buffer\n",
      "Length: 87,350\n",
      "Mean: 16.137321121923296\n",
      "Median: 6.0\n",
      "----------------------------------\n"
     ]
    },
    {
     "data": {
      "image/png": "[encoded data removed]",
      "text/plain": [
       "<Figure size 432x288 with 1 Axes>"
      ]
     },
     "metadata": {
      "needs_background": "light"
     },
     "output_type": "display_data"
    },
    {
     "name": "stdout",
     "output_type": "stream",
     "text": [
      "With -50.0 seconds buffer\n",
      "Length: 92,812\n",
      "Mean: 16.050209024695082\n",
      "Median: 6.0\n",
      "----------------------------------\n"
     ]
    },
    {
     "data": {
      "image/png": "[encoded data removed]",
      "text/plain": [
       "<Figure size 432x288 with 1 Axes>"
      ]
     },
     "metadata": {
      "needs_background": "light"
     },
     "output_type": "display_data"
    },
    {
     "name": "stdout",
     "output_type": "stream",
     "text": [
      "With -40.0 seconds buffer\n",
      "Length: 96,107\n",
      "Mean: 16.078610298937644\n",
      "Median: 6.0\n",
      "----------------------------------\n"
     ]
    },
    {
     "data": {
      "image/png": "[encoded data removed]",
      "text/plain": [
       "<Figure size 432x288 with 1 Axes>"
      ]
     },
     "metadata": {
      "needs_background": "light"
     },
     "output_type": "display_data"
    },
    {
     "name": "stdout",
     "output_type": "stream",
     "text": [
      "With -30.0 seconds buffer\n",
      "Length: 96,761\n",
      "Mean: 16.190262605801923\n",
      "Median: 6.0\n",
      "----------------------------------\n"
     ]
    },
    {
     "data": {
      "image/png": "[encoded data removed]",
      "text/plain": [
       "<Figure size 432x288 with 1 Axes>"
      ]
     },
     "metadata": {
      "needs_background": "light"
     },
     "output_type": "display_data"
    },
    {
     "name": "stdout",
     "output_type": "stream",
     "text": [
      "With -20.0 seconds buffer\n",
      "Length: 95,338\n",
      "Mean: 16.14499989511003\n",
      "Median: 6.0\n",
      "----------------------------------\n"
     ]
    },
    {
     "data": {
      "image/png": "[encoded data removed]",
      "text/plain": [
       "<Figure size 432x288 with 1 Axes>"
      ]
     },
     "metadata": {
      "needs_background": "light"
     },
     "output_type": "display_data"
    },
    {
     "name": "stdout",
     "output_type": "stream",
     "text": [
      "With -10.0 seconds buffer\n",
      "Length: 92,518\n",
      "Mean: 16.196761711234572\n",
      "Median: 6.0\n",
      "----------------------------------\n"
     ]
    },
    {
     "data": {
      "image/png": "[encoded data removed]",
      "text/plain": [
       "<Figure size 432x288 with 1 Axes>"
      ]
     },
     "metadata": {
      "needs_background": "light"
     },
     "output_type": "display_data"
    },
    {
     "name": "stdout",
     "output_type": "stream",
     "text": [
      "With 0.0 seconds buffer\n",
      "Length: 88,644\n",
      "Mean: 16.073022426785794\n",
      "Median: 6.0\n",
      "----------------------------------\n"
     ]
    },
    {
     "data": {
      "image/png": "[encoded data removed]",
      "text/plain": [
       "<Figure size 432x288 with 1 Axes>"
      ]
     },
     "metadata": {
      "needs_background": "light"
     },
     "output_type": "display_data"
    },
    {
     "name": "stdout",
     "output_type": "stream",
     "text": [
      "With 10.0 seconds buffer\n",
      "Length: 79,597\n",
      "Mean: 16.31492392929382\n",
      "Median: 6.0\n",
      "----------------------------------\n"
     ]
    },
    {
     "data": {
      "image/png": "[encoded data removed]",
      "text/plain": [
       "<Figure size 432x288 with 1 Axes>"
      ]
     },
     "metadata": {
      "needs_background": "light"
     },
     "output_type": "display_data"
    },
    {
     "name": "stdout",
     "output_type": "stream",
     "text": [
      "With 20.0 seconds buffer\n",
      "Length: 71,788\n",
      "Mean: 16.783181033041735\n",
      "Median: 6.0\n",
      "----------------------------------\n"
     ]
    },
    {
     "data": {
      "image/png": "[encoded data removed]",
      "text/plain": [
       "<Figure size 432x288 with 1 Axes>"
      ]
     },
     "metadata": {
      "needs_background": "light"
     },
     "output_type": "display_data"
    },
    {
     "name": "stdout",
     "output_type": "stream",
     "text": [
      "With 30.0 seconds buffer\n",
      "Length: 64,090\n",
      "Mean: 16.929084100483696\n",
      "Median: 6.0\n",
      "----------------------------------\n"
     ]
    },
    {
     "data": {
      "image/png": "[encoded data removed]",
      "text/plain": [
       "<Figure size 432x288 with 1 Axes>"
      ]
     },
     "metadata": {
      "needs_background": "light"
     },
     "output_type": "display_data"
    },
    {
     "name": "stdout",
     "output_type": "stream",
     "text": [
      "With 40.0 seconds buffer\n",
      "Length: 56,669\n",
      "Mean: 17.45815172316434\n",
      "Median: 6.0\n",
      "----------------------------------\n"
     ]
    },
    {
     "data": {
      "image/png": "[encoded data removed]",
      "text/plain": [
       "<Figure size 432x288 with 1 Axes>"
      ]
     },
     "metadata": {
      "needs_background": "light"
     },
     "output_type": "display_data"
    },
    {
     "name": "stdout",
     "output_type": "stream",
     "text": [
      "With 50.0 seconds buffer\n",
      "Length: 50,378\n",
      "Mean: 17.64403112469729\n",
      "Median: 6.0\n",
      "----------------------------------\n"
     ]
    },
    {
     "data": {
      "image/png": "[encoded data removed]",
      "text/plain": [
       "<Figure size 432x288 with 1 Axes>"
      ]
     },
     "metadata": {
      "needs_background": "light"
     },
     "output_type": "display_data"
    },
    {
     "name": "stdout",
     "output_type": "stream",
     "text": [
      "With 60.0 seconds buffer\n",
      "Length: 42,905\n",
      "Mean: 17.939820533737326\n",
      "Median: 6.0\n",
      "----------------------------------\n"
     ]
    },
    {
     "data": {
      "image/png": "[encoded data removed]",
      "text/plain": [
       "<Figure size 432x288 with 1 Axes>"
      ]
     },
     "metadata": {
      "needs_background": "light"
     },
     "output_type": "display_data"
    },
    {
     "name": "stdout",
     "output_type": "stream",
     "text": [
      "With 70.0 seconds buffer\n",
      "Length: 36,840\n",
      "Mean: 18.085124864277958\n",
      "Median: 6.0\n",
      "----------------------------------\n"
     ]
    },
    {
     "data": {
      "image/png": "[encoded data removed]",
      "text/plain": [
       "<Figure size 432x288 with 1 Axes>"
      ]
     },
     "metadata": {
      "needs_background": "light"
     },
     "output_type": "display_data"
    },
    {
     "name": "stdout",
     "output_type": "stream",
     "text": [
      "With 80.0 seconds buffer\n",
      "Length: 31,132\n",
      "Mean: 18.603045098291147\n",
      "Median: 6.0\n",
      "----------------------------------\n"
     ]
    },
    {
     "data": {
      "image/png": "[encoded data removed]",
      "text/plain": [
       "<Figure size 432x288 with 1 Axes>"
      ]
     },
     "metadata": {
      "needs_background": "light"
     },
     "output_type": "display_data"
    },
    {
     "name": "stdout",
     "output_type": "stream",
     "text": [
      "With 90.0 seconds buffer\n",
      "Length: 26,510\n",
      "Mean: 18.565711052433045\n",
      "Median: 6.0\n",
      "----------------------------------\n"
     ]
    },
    {
     "data": {
      "image/png": "[encoded data removed]",
      "text/plain": [
       "<Figure size 432x288 with 1 Axes>"
      ]
     },
     "metadata": {
      "needs_background": "light"
     },
     "output_type": "display_data"
    },
    {
     "name": "stdout",
     "output_type": "stream",
     "text": [
      "With 100.0 seconds buffer\n",
      "Length: 22,256\n",
      "Mean: 19.147960100647015\n",
      "Median: 6.0\n",
      "----------------------------------\n"
     ]
    },
    {
     "data": {
      "image/png": "[encoded data removed]",
      "text/plain": [
       "<Figure size 432x288 with 1 Axes>"
      ]
     },
     "metadata": {
      "needs_background": "light"
     },
     "output_type": "display_data"
    },
    {
     "name": "stdout",
     "output_type": "stream",
     "text": [
      "With 110.0 seconds buffer\n",
      "Length: 18,689\n",
      "Mean: 18.89999464925892\n",
      "Median: 6.0\n",
      "----------------------------------\n"
     ]
    },
    {
     "data": {
      "image/png": "[encoded data removed]",
      "text/plain": [
       "<Figure size 432x288 with 1 Axes>"
      ]
     },
     "metadata": {
      "needs_background": "light"
     },
     "output_type": "display_data"
    },
    {
     "name": "stdout",
     "output_type": "stream",
     "text": [
      "With 120.0 seconds buffer\n",
      "Length: 15,363\n",
      "Mean: 19.113975135064766\n",
      "Median: 6.0\n",
      "----------------------------------\n"
     ]
    }
   ],
   "source": [
    "buffers = []\n",
    "median_dwells = []\n",
    "mean_dwells = []\n",
    "\n",
    "for extra in np.linspace(-60, +120, 19):\n",
    "    dwells = se.loc[(se['prev_timingPoint'] == 0) & \n",
    "                    (se['how_early'] < extra + 10) &\n",
    "                    (se['how_early'] > extra),\n",
    "                        'dwell_duration_prev']\n",
    "    \n",
    "    plt.hist(dwells, bins=100, range=(0,500));\n",
    "    plt.title(f\"With {extra} seconds buffer\")\n",
    "    plt.show()\n",
    "    print(f\"With {extra} seconds buffer\")\n",
    "    print(f\"Length: {len(dwells):,}\")\n",
    "    print(f\"Mean: {np.mean(dwells)}\")\n",
    "    print(f\"Median: {np.median(dwells)}\")\n",
    "    print(f\"----------------------------------\")\n",
    "    \n",
    "    buffers.append(extra)\n",
    "    median_dwells.append(np.median(dwells))\n",
    "    mean_dwells.append(np.mean(dwells))\n",
    "    "
   ]
  },
  {
   "cell_type": "code",
   "execution_count": 74,
   "metadata": {},
   "outputs": [
    {
     "data": {
      "image/png": "[encoded data removed]",
      "text/plain": [
       "<Figure size 432x288 with 1 Axes>"
      ]
     },
     "metadata": {
      "needs_background": "light"
     },
     "output_type": "display_data"
    }
   ],
   "source": [
    "buffers = np.array(buffers).reshape(-1, 1) + 5\n",
    "\n",
    "plt.scatter(buffers, median_dwells, label=\"medians\")\n",
    "plt.scatter(buffers, mean_dwells, label=\"means\")\n",
    "\n",
    "plt.legend()\n",
    "plt.title(\"Dwell times for NOT-timing point stops where the bus is early\")\n",
    "plt.xlabel(\"How early the bus is to the nearest 10 seconds\")\n",
    "plt.ylabel(\"The dwell time (seconds)\")\n",
    "plt.show()"
   ]
  },
  {
   "cell_type": "code",
   "execution_count": null,
   "metadata": {},
   "outputs": [],
   "source": []
  },
  {
   "cell_type": "code",
   "execution_count": null,
   "metadata": {},
   "outputs": [],
   "source": []
  },
  {
   "cell_type": "markdown",
   "metadata": {},
   "source": [
    "### So we have a plan. \n",
    "- For all non-timing point dwells we do the normal thing (median per stop/segment, hour of the day and day type)\n",
    "- For all timing points that are late we do ~~normal~~ something else?...\n",
    "- For all timing points that are early between 0 and 90 seconds we do a linear prediction\n",
    "- For all timing points beyond 90 seconds late we predict 90 seconds\n",
    "- Easy when you know how... :) \n",
    "\n",
    "### This means that we should only train on \"normal and early stops\""
   ]
  },
  {
   "cell_type": "markdown",
   "metadata": {},
   "source": [
    "### Looking at some MAPEs"
   ]
  },
  {
   "cell_type": "code",
   "execution_count": 50,
   "metadata": {},
   "outputs": [
    {
     "data": {
      "text/plain": [
       "84.54851461528679"
      ]
     },
     "execution_count": 50,
     "metadata": {},
     "output_type": "execute_result"
    }
   ],
   "source": [
    "# Just doing our normal approach is OK...\n",
    "\n",
    "MAPE(se['median_prev_dwell_by_segment_code_and_hour_and_daytype'], se['dwell_duration_prev'])"
   ]
  },
  {
   "cell_type": "code",
   "execution_count": 51,
   "metadata": {},
   "outputs": [
    {
     "data": {
      "text/plain": [
       "73.74510870342984"
      ]
     },
     "execution_count": 51,
     "metadata": {},
     "output_type": "execute_result"
    }
   ],
   "source": [
    "# But works much better for non-timing points.\n",
    "\n",
    "MAPE(se.loc[se['prev_timingPoint'] == 0, 'median_prev_dwell_by_segment_code_and_hour_and_daytype'], se.loc[se['prev_timingPoint'] == 0, 'dwell_duration_prev'])"
   ]
  },
  {
   "cell_type": "code",
   "execution_count": 52,
   "metadata": {},
   "outputs": [
    {
     "data": {
      "text/plain": [
       "73.74510870342984"
      ]
     },
     "execution_count": 52,
     "metadata": {},
     "output_type": "execute_result"
    }
   ],
   "source": [
    "# At first this is a confusing result but actually it's expected because all \n",
    "# non-timing points are their own segment code so their values are the same \n",
    "# in either case\n",
    "\n",
    "MAPE(se.loc[se['prev_timingPoint'] == 0, 'median_prev_dwell_by_segment_code_and_hour_and_daytype_normal'], se.loc[se['prev_timingPoint'] == 0, 'dwell_duration_prev'])"
   ]
  },
  {
   "cell_type": "code",
   "execution_count": 53,
   "metadata": {},
   "outputs": [
    {
     "data": {
      "text/plain": [
       "78.70939598634187"
      ]
     },
     "execution_count": 53,
     "metadata": {},
     "output_type": "execute_result"
    }
   ],
   "source": [
    "# Extending this to all normal dwells makes it quite a bit worse but still better then before. \n",
    "\n",
    "MAPE(se.loc[se['prev_dwell_type_normal'], 'median_prev_dwell_by_segment_code_and_hour_and_daytype_normal'], se.loc[se['prev_dwell_type_normal'], 'dwell_duration_prev'])\n"
   ]
  },
  {
   "cell_type": "code",
   "execution_count": 54,
   "metadata": {},
   "outputs": [
    {
     "data": {
      "text/plain": [
       "54.60456057059473"
      ]
     },
     "execution_count": 54,
     "metadata": {},
     "output_type": "execute_result"
    }
   ],
   "source": [
    "MAPE([4] * se.shape[0], se['dwell_duration_prev'])"
   ]
  },
  {
   "cell_type": "code",
   "execution_count": 55,
   "metadata": {},
   "outputs": [
    {
     "name": "stdout",
     "output_type": "stream",
     "text": [
      "guess: 4.99, Mape: 52.53496786556488\n",
      "guess: 4.9910000000000005, Mape: 52.532877367883124\n",
      "guess: 4.992, Mape: 52.53078687020123\n",
      "guess: 4.993, Mape: 52.52869637251943\n",
      "guess: 4.994, Mape: 52.52660587483761\n",
      "guess: 4.995, Mape: 52.52451537715567\n",
      "guess: 4.996, Mape: 52.52242487947385\n",
      "guess: 4.997, Mape: 52.520334381792026\n",
      "guess: 4.998, Mape: 52.51824388411016\n",
      "guess: 4.999, Mape: 52.51615338642836\n",
      "guess: 5.0, Mape: 52.51406288874646\n",
      "guess: 5.001, Mape: 52.51830074562595\n",
      "guess: 5.002, Mape: 52.52253860250535\n",
      "guess: 5.003, Mape: 52.526776459384756\n",
      "guess: 5.004, Mape: 52.53101431626414\n",
      "guess: 5.005, Mape: 52.53525217314359\n",
      "guess: 5.006, Mape: 52.539490030023074\n",
      "guess: 5.007, Mape: 52.543727886902474\n",
      "guess: 5.008, Mape: 52.54796574378186\n",
      "guess: 5.0089999999999995, Mape: 52.55220360066134\n",
      "guess: 5.01, Mape: 52.55644145754076\n"
     ]
    }
   ],
   "source": [
    "for i in np.linspace(4.99,5.01,21):\n",
    "    print(f\"guess: {i}, Mape: {MAPE([i] * se.shape[0], se['dwell_duration_prev'])}\")"
   ]
  },
  {
   "cell_type": "code",
   "execution_count": 56,
   "metadata": {},
   "outputs": [
    {
     "data": {
      "text/plain": [
       "82.83096874092175"
      ]
     },
     "execution_count": 56,
     "metadata": {},
     "output_type": "execute_result"
    }
   ],
   "source": [
    "# When tested on only test data ther results are still better than including the non-normal events\n",
    "\n",
    "MAPE(se.loc[se['test'] & se['prev_dwell_type_normal'], 'median_prev_dwell_by_segment_code_and_hour_and_daytype_normal'], se.loc[se['test'] & se['prev_dwell_type_normal'], 'dwell_duration_prev'])\n",
    "\n"
   ]
  },
  {
   "cell_type": "code",
   "execution_count": 57,
   "metadata": {},
   "outputs": [
    {
     "data": {
      "text/plain": [
       "73.74510870342984"
      ]
     },
     "execution_count": 57,
     "metadata": {},
     "output_type": "execute_result"
    }
   ],
   "source": [
    "MAPE(se.loc[se['prev_timingPoint'] == 0, 'median_prev_dwell_by_segment_code_and_hour_and_daytype_normal'], se.loc[se['prev_timingPoint'] == 0, 'dwell_duration_prev'])\n"
   ]
  },
  {
   "cell_type": "code",
   "execution_count": 58,
   "metadata": {},
   "outputs": [
    {
     "data": {
      "text/plain": [
       "254.45125319364436"
      ]
     },
     "execution_count": 58,
     "metadata": {},
     "output_type": "execute_result"
    }
   ],
   "source": [
    "# Unfortunatly this linear model actually does really poorly when used in the real world.\n",
    "# This is probably because of the shape of the distribution, actually prediting the median\n",
    "# Works really badly as very little mass is in the middle, it's double humped.\n",
    "\n",
    "earlies = se.loc[se['prev_dwell_type_normal'] == False, 'how_early'].values.reshape(-1, 1)\n",
    "\n",
    "\n",
    "MAPE(reg.predict(earlies), se.loc[se['prev_dwell_type_normal'] == False, 'dwell_duration_prev'])\n"
   ]
  },
  {
   "cell_type": "code",
   "execution_count": 59,
   "metadata": {},
   "outputs": [
    {
     "data": {
      "image/png": "[encoded data removed]",
      "text/plain": [
       "<Figure size 432x288 with 1 Axes>"
      ]
     },
     "metadata": {
      "needs_background": "light"
     },
     "output_type": "display_data"
    }
   ],
   "source": [
    "plt.hist2d(reg.predict(earlies), se.loc[se['prev_dwell_type_normal'] == False, 'dwell_duration_prev'], bins=[50,50], range=[[0,100],[0,100]]);"
   ]
  },
  {
   "cell_type": "code",
   "execution_count": 60,
   "metadata": {},
   "outputs": [
    {
     "data": {
      "image/png": "[encoded data removed]",
      "text/plain": [
       "<Figure size 432x288 with 1 Axes>"
      ]
     },
     "metadata": {
      "needs_background": "light"
     },
     "output_type": "display_data"
    }
   ],
   "source": [
    "plt.hist(earlies, bins=100, range=(-100,100));"
   ]
  },
  {
   "cell_type": "code",
   "execution_count": 61,
   "metadata": {},
   "outputs": [
    {
     "data": {
      "image/png": "[encoded data removed]",
      "text/plain": [
       "<Figure size 432x288 with 1 Axes>"
      ]
     },
     "metadata": {
      "needs_background": "light"
     },
     "output_type": "display_data"
    }
   ],
   "source": [
    "plt.hist(se.loc[se['prev_dwell_type_normal'] == False, 'dwell_duration_prev'], bins=100, range=(-100,100));"
   ]
  },
  {
   "cell_type": "markdown",
   "metadata": {},
   "source": [
    "## Trying a richer Linear model"
   ]
  },
  {
   "cell_type": "code",
   "execution_count": 62,
   "metadata": {},
   "outputs": [
    {
     "name": "stderr",
     "output_type": "stream",
     "text": [
      "/Users/tommelamed/anaconda3/envs/busses/lib/python3.7/site-packages/ipykernel_launcher.py:19: SettingWithCopyWarning: \n",
      "A value is trying to be set on a copy of a slice from a DataFrame.\n",
      "Try using .loc[row_indexer,col_indexer] = value instead\n",
      "\n",
      "See the caveats in the documentation: http://pandas.pydata.org/pandas-docs/stable/indexing.html#indexing-view-versus-copy\n",
      "/Users/tommelamed/anaconda3/envs/busses/lib/python3.7/site-packages/ipykernel_launcher.py:21: SettingWithCopyWarning: \n",
      "A value is trying to be set on a copy of a slice from a DataFrame.\n",
      "Try using .loc[row_indexer,col_indexer] = value instead\n",
      "\n",
      "See the caveats in the documentation: http://pandas.pydata.org/pandas-docs/stable/indexing.html#indexing-view-versus-copy\n",
      "/Users/tommelamed/anaconda3/envs/busses/lib/python3.7/site-packages/ipykernel_launcher.py:23: SettingWithCopyWarning: \n",
      "A value is trying to be set on a copy of a slice from a DataFrame.\n",
      "Try using .loc[row_indexer,col_indexer] = value instead\n",
      "\n",
      "See the caveats in the documentation: http://pandas.pydata.org/pandas-docs/stable/indexing.html#indexing-view-versus-copy\n"
     ]
    }
   ],
   "source": [
    "# Remove most of the features and then put back a few we want\n",
    "\n",
    "for_xg = exclude_columns_containing(se, [\"id\", \n",
    "                                         \"date\", \n",
    "                                         \"stopCode\", \n",
    "                                         \"aimed\", \n",
    "                                         \"actual\", \n",
    "                                         \"workid\", \n",
    "                                         \"patternId\", \n",
    "                                         \"publicName\", \n",
    "                                         \"segment_code\", \n",
    "                                         \"segment_name\", \n",
    "                                         \"arrival_5mins\",\n",
    "                                         \"full_duration\",\n",
    "                                         \"segment_duration\",\n",
    "                                         \"dwell\",\n",
    "                                         \"self_offset\"])\n",
    "\n",
    "for_xg['median_durations_by_segment_code_and_hour_and_day'] = se['median_durations_by_segment_code_and_hour_and_day']\n",
    "\n",
    "for_xg['median_prev_dwell_by_segment_code_and_hour_and_daytype'] = se['median_prev_dwell_by_segment_code_and_hour_and_daytype']\n",
    "\n",
    "for_xg['median_full_durations_by_segment_code_and_hour_and_day'] = se['median_full_durations_by_segment_code_and_hour_and_day']"
   ]
  },
  {
   "cell_type": "code",
   "execution_count": 63,
   "metadata": {},
   "outputs": [
    {
     "data": {
      "text/plain": [
       "Index(['vehicle', 'scheduledStart', 'timingPoint', 'prev_timingPoint',\n",
       "       'line_distance', 'to_centre_dist', 'direction', 'direction_degrees',\n",
       "       'train', 'test', 'rain', 'arrival_hour', 'arrival_day',\n",
       "       'clock_direction_degrees', 'dry', 'weekend', 'how_early',\n",
       "       'merged_stop_prev', 'first_stop', 'last_bus_gap', 'next_bus_gap',\n",
       "       'last_bus_recent', 'next_bus_soon',\n",
       "       'median_durations_by_segment_code_and_hour_and_day',\n",
       "       'median_prev_dwell_by_segment_code_and_hour_and_daytype',\n",
       "       'median_full_durations_by_segment_code_and_hour_and_day'],\n",
       "      dtype='object')"
      ]
     },
     "execution_count": 63,
     "metadata": {},
     "output_type": "execute_result"
    }
   ],
   "source": [
    "for_xg.columns"
   ]
  },
  {
   "cell_type": "code",
   "execution_count": 64,
   "metadata": {},
   "outputs": [
    {
     "data": {
      "text/plain": [
       "LinearRegression(copy_X=True, fit_intercept=True, n_jobs=None,\n",
       "         normalize=False)"
      ]
     },
     "execution_count": 64,
     "metadata": {},
     "output_type": "execute_result"
    }
   ],
   "source": [
    "reg = LinearRegression()\n",
    "\n",
    "reg.fit(for_xg[for_xg['train'] & (se['prev_dwell_type_normal'] == False)], se.loc[(se['prev_dwell_type_normal'] == False) & se['train'], 'dwell_duration_prev'])"
   ]
  },
  {
   "cell_type": "code",
   "execution_count": 65,
   "metadata": {},
   "outputs": [
    {
     "data": {
      "text/plain": [
       "263.54612751009375"
      ]
     },
     "execution_count": 65,
     "metadata": {},
     "output_type": "execute_result"
    }
   ],
   "source": [
    "lin_reg_results = reg.predict(for_xg[se['test'] & (se['prev_dwell_type_normal'] == False)])\n",
    "\n",
    "MAPE(lin_reg_results, se.loc[(se['prev_dwell_type_normal'] == False) & se['test'], 'dwell_duration_prev'])"
   ]
  },
  {
   "cell_type": "code",
   "execution_count": 66,
   "metadata": {},
   "outputs": [
    {
     "data": {
      "image/png": "[encoded data removed]",
      "text/plain": [
       "<Figure size 432x288 with 1 Axes>"
      ]
     },
     "metadata": {
      "needs_background": "light"
     },
     "output_type": "display_data"
    }
   ],
   "source": [
    "plt.hist2d(lin_reg_results, se.loc[(se['prev_dwell_type_normal'] == False) & se['test'], 'dwell_duration_prev'], bins=[50,50], range=[[0,100],[0,100]], cmin=10);\n"
   ]
  },
  {
   "cell_type": "markdown",
   "metadata": {},
   "source": [
    "Linear is still rubbish. In fact just predicting the overal median does slightly better"
   ]
  },
  {
   "cell_type": "code",
   "execution_count": 67,
   "metadata": {},
   "outputs": [
    {
     "data": {
      "text/plain": [
       "210.59346274395807"
      ]
     },
     "execution_count": 67,
     "metadata": {},
     "output_type": "execute_result"
    }
   ],
   "source": [
    "MAPE([se.loc[(se['prev_dwell_type_normal'] == False) & se['train'], \"dwell_duration_prev\"].median()] * se.loc[(se['prev_dwell_type_normal'] == False) & se['test']].shape[0],se.loc[(se['prev_dwell_type_normal'] == False) & se['test'], 'dwell_duration_prev'])"
   ]
  },
  {
   "cell_type": "markdown",
   "metadata": {},
   "source": [
    "## Prediciting special dwell times with XGBoost\n"
   ]
  },
  {
   "cell_type": "code",
   "execution_count": 68,
   "metadata": {},
   "outputs": [
    {
     "ename": "ValueError",
     "evalue": "DataFrame.dtypes for data must be int, float or bool.\n                Did not expect the data types in fields weekend",
     "output_type": "error",
     "traceback": [
      "\u001b[0;31m---------------------------------------------------------------------------\u001b[0m",
      "\u001b[0;31mValueError\u001b[0m                                Traceback (most recent call last)",
      "\u001b[0;32m<ipython-input-68-5e6a3a6ba088>\u001b[0m in \u001b[0;36m<module>\u001b[0;34m\u001b[0m\n\u001b[1;32m      3\u001b[0m \u001b[0;31m# xg_reg = xgb.XGBRegressor(objective ='reg:linear', eval_metric='mae', booster='gbtree', n_jobs=5, max_depth=3, n_estimators=10, verbosity=1)\u001b[0m\u001b[0;34m\u001b[0m\u001b[0;34m\u001b[0m\u001b[0;34m\u001b[0m\u001b[0m\n\u001b[1;32m      4\u001b[0m \u001b[0;34m\u001b[0m\u001b[0m\n\u001b[0;32m----> 5\u001b[0;31m \u001b[0mxg_reg\u001b[0m\u001b[0;34m.\u001b[0m\u001b[0mfit\u001b[0m\u001b[0;34m(\u001b[0m\u001b[0mfor_xg\u001b[0m\u001b[0;34m[\u001b[0m\u001b[0mfor_xg\u001b[0m\u001b[0;34m[\u001b[0m\u001b[0;34m'train'\u001b[0m\u001b[0;34m]\u001b[0m \u001b[0;34m&\u001b[0m \u001b[0;34m(\u001b[0m\u001b[0mse\u001b[0m\u001b[0;34m[\u001b[0m\u001b[0;34m'prev_dwell_type_normal'\u001b[0m\u001b[0;34m]\u001b[0m \u001b[0;34m==\u001b[0m \u001b[0;32mFalse\u001b[0m\u001b[0;34m)\u001b[0m\u001b[0;34m]\u001b[0m\u001b[0;34m,\u001b[0m \u001b[0mse\u001b[0m\u001b[0;34m.\u001b[0m\u001b[0mloc\u001b[0m\u001b[0;34m[\u001b[0m\u001b[0;34m(\u001b[0m\u001b[0mse\u001b[0m\u001b[0;34m[\u001b[0m\u001b[0;34m'prev_dwell_type_normal'\u001b[0m\u001b[0;34m]\u001b[0m \u001b[0;34m==\u001b[0m \u001b[0;32mFalse\u001b[0m\u001b[0;34m)\u001b[0m \u001b[0;34m&\u001b[0m \u001b[0mse\u001b[0m\u001b[0;34m[\u001b[0m\u001b[0;34m'train'\u001b[0m\u001b[0;34m]\u001b[0m\u001b[0;34m,\u001b[0m \u001b[0;34m'dwell_duration_prev'\u001b[0m\u001b[0;34m]\u001b[0m\u001b[0;34m)\u001b[0m\u001b[0;34m\u001b[0m\u001b[0;34m\u001b[0m\u001b[0m\n\u001b[0m\u001b[1;32m      6\u001b[0m \u001b[0;34m\u001b[0m\u001b[0m\n\u001b[1;32m      7\u001b[0m \u001b[0mxg_reg\u001b[0m\u001b[0;34m.\u001b[0m\u001b[0msave_model\u001b[0m\u001b[0;34m(\u001b[0m\u001b[0;34m\"xg_model_timing_points\"\u001b[0m\u001b[0;34m)\u001b[0m\u001b[0;34m\u001b[0m\u001b[0;34m\u001b[0m\u001b[0m\n",
      "\u001b[0;32m~/anaconda3/envs/busses/lib/python3.7/site-packages/xgboost/sklearn.py\u001b[0m in \u001b[0;36mfit\u001b[0;34m(self, X, y, sample_weight, eval_set, eval_metric, early_stopping_rounds, verbose, xgb_model, sample_weight_eval_set, callbacks)\u001b[0m\n\u001b[1;32m    340\u001b[0m                                    missing=self.missing, nthread=self.n_jobs)\n\u001b[1;32m    341\u001b[0m         \u001b[0;32melse\u001b[0m\u001b[0;34m:\u001b[0m\u001b[0;34m\u001b[0m\u001b[0;34m\u001b[0m\u001b[0m\n\u001b[0;32m--> 342\u001b[0;31m             \u001b[0mtrainDmatrix\u001b[0m \u001b[0;34m=\u001b[0m \u001b[0mDMatrix\u001b[0m\u001b[0;34m(\u001b[0m\u001b[0mX\u001b[0m\u001b[0;34m,\u001b[0m \u001b[0mlabel\u001b[0m\u001b[0;34m=\u001b[0m\u001b[0my\u001b[0m\u001b[0;34m,\u001b[0m \u001b[0mmissing\u001b[0m\u001b[0;34m=\u001b[0m\u001b[0mself\u001b[0m\u001b[0;34m.\u001b[0m\u001b[0mmissing\u001b[0m\u001b[0;34m,\u001b[0m \u001b[0mnthread\u001b[0m\u001b[0;34m=\u001b[0m\u001b[0mself\u001b[0m\u001b[0;34m.\u001b[0m\u001b[0mn_jobs\u001b[0m\u001b[0;34m)\u001b[0m\u001b[0;34m\u001b[0m\u001b[0;34m\u001b[0m\u001b[0m\n\u001b[0m\u001b[1;32m    343\u001b[0m \u001b[0;34m\u001b[0m\u001b[0m\n\u001b[1;32m    344\u001b[0m         \u001b[0mevals_result\u001b[0m \u001b[0;34m=\u001b[0m \u001b[0;34m{\u001b[0m\u001b[0;34m}\u001b[0m\u001b[0;34m\u001b[0m\u001b[0;34m\u001b[0m\u001b[0m\n",
      "\u001b[0;32m~/anaconda3/envs/busses/lib/python3.7/site-packages/xgboost/core.py\u001b[0m in \u001b[0;36m__init__\u001b[0;34m(self, data, label, missing, weight, silent, feature_names, feature_types, nthread)\u001b[0m\n\u001b[1;32m    382\u001b[0m         data, feature_names, feature_types = _maybe_pandas_data(data,\n\u001b[1;32m    383\u001b[0m                                                                 \u001b[0mfeature_names\u001b[0m\u001b[0;34m,\u001b[0m\u001b[0;34m\u001b[0m\u001b[0;34m\u001b[0m\u001b[0m\n\u001b[0;32m--> 384\u001b[0;31m                                                                 feature_types)\n\u001b[0m\u001b[1;32m    385\u001b[0m \u001b[0;34m\u001b[0m\u001b[0m\n\u001b[1;32m    386\u001b[0m         data, feature_names, feature_types = _maybe_dt_data(data,\n",
      "\u001b[0;32m~/anaconda3/envs/busses/lib/python3.7/site-packages/xgboost/core.py\u001b[0m in \u001b[0;36m_maybe_pandas_data\u001b[0;34m(data, feature_names, feature_types)\u001b[0m\n\u001b[1;32m    239\u001b[0m         msg = \"\"\"DataFrame.dtypes for data must be int, float or bool.\n\u001b[1;32m    240\u001b[0m                 Did not expect the data types in fields \"\"\"\n\u001b[0;32m--> 241\u001b[0;31m         \u001b[0;32mraise\u001b[0m \u001b[0mValueError\u001b[0m\u001b[0;34m(\u001b[0m\u001b[0mmsg\u001b[0m \u001b[0;34m+\u001b[0m \u001b[0;34m', '\u001b[0m\u001b[0;34m.\u001b[0m\u001b[0mjoin\u001b[0m\u001b[0;34m(\u001b[0m\u001b[0mbad_fields\u001b[0m\u001b[0;34m)\u001b[0m\u001b[0;34m)\u001b[0m\u001b[0;34m\u001b[0m\u001b[0;34m\u001b[0m\u001b[0m\n\u001b[0m\u001b[1;32m    242\u001b[0m \u001b[0;34m\u001b[0m\u001b[0m\n\u001b[1;32m    243\u001b[0m     \u001b[0;32mif\u001b[0m \u001b[0mfeature_names\u001b[0m \u001b[0;32mis\u001b[0m \u001b[0;32mNone\u001b[0m\u001b[0;34m:\u001b[0m\u001b[0;34m\u001b[0m\u001b[0;34m\u001b[0m\u001b[0m\n",
      "\u001b[0;31mValueError\u001b[0m: DataFrame.dtypes for data must be int, float or bool.\n                Did not expect the data types in fields weekend"
     ]
    }
   ],
   "source": [
    "xg_reg = xgb.XGBRegressor(objective ='reg:linear', eval_metric='mae', booster='gbtree', n_jobs=3, max_depth=6, n_estimators=1, verbosity=1)\n",
    "\n",
    "# xg_reg = xgb.XGBRegressor(objective ='reg:linear', eval_metric='mae', booster='gbtree', n_jobs=5, max_depth=3, n_estimators=10, verbosity=1)\n",
    "\n",
    "xg_reg.fit(for_xg[for_xg['train'] & (se['prev_dwell_type_normal'] == False)], se.loc[(se['prev_dwell_type_normal'] == False) & se['train'], 'dwell_duration_prev'])\n",
    "\n",
    "xg_reg.save_model(\"xg_model_timing_points\")\n",
    "\n",
    "# xg_reg.load_model(\"models 75days/xg_model_xgboost\")"
   ]
  },
  {
   "cell_type": "code",
   "execution_count": null,
   "metadata": {},
   "outputs": [],
   "source": [
    "xg_reg_results = xg_reg.predict(for_xg[se['test'] & (se['prev_dwell_type_normal'] == False)])\n"
   ]
  },
  {
   "cell_type": "code",
   "execution_count": null,
   "metadata": {},
   "outputs": [],
   "source": [
    "MAPE(xg_reg_results, se.loc[(se['prev_dwell_type_normal'] == False) & se['test'], 'dwell_duration_prev'])"
   ]
  },
  {
   "cell_type": "code",
   "execution_count": null,
   "metadata": {},
   "outputs": [],
   "source": [
    "plt.hist2d(xg_reg_results, se.loc[(se['prev_dwell_type_normal'] == False) & se['test'], 'dwell_duration_prev'], bins=[25,25], range=[[0,120],[-200,2000]], cmin=10);\n"
   ]
  },
  {
   "cell_type": "code",
   "execution_count": null,
   "metadata": {},
   "outputs": [],
   "source": [
    "plt.scatter(xg_reg_results, se.loc[(se['prev_dwell_type_normal'] == False) & se['test'], 'dwell_duration_prev'])"
   ]
  },
  {
   "cell_type": "code",
   "execution_count": null,
   "metadata": {},
   "outputs": [],
   "source": [
    "feature_importances = xg_reg.feature_importances_\n",
    "\n",
    "features_sorted = np.argsort(feature_importances)\n",
    "\n",
    "for i in range(for_xg.shape[1]):\n",
    "    print(f\"{for_xg.columns[features_sorted[i]]} -> {feature_importances[features_sorted[i]]}\")"
   ]
  },
  {
   "cell_type": "code",
   "execution_count": null,
   "metadata": {},
   "outputs": [],
   "source": []
  },
  {
   "cell_type": "code",
   "execution_count": null,
   "metadata": {},
   "outputs": [],
   "source": [
    "plt.hist(xg_reg_results, bins=50, range=(0,10));"
   ]
  },
  {
   "cell_type": "code",
   "execution_count": null,
   "metadata": {},
   "outputs": [],
   "source": [
    "MAPES = []\n",
    "\n",
    "for i in range(1, 25):\n",
    "    xg_reg = xgb.XGBRegressor(objective ='reg:linear', eval_metric='mae', booster='gbtree', n_jobs=5, max_depth=i, n_estimators=1, verbosity=1)\n",
    "\n",
    "    # xg_reg = xgb.XGBRegressor(objective ='reg:linear', eval_metric='mae', booster='gbtree', n_jobs=5, max_depth=3, n_estimators=10, verbosity=1)\n",
    "\n",
    "    xg_reg.fit(for_xg[for_xg['train'] & (se['prev_timingPoint'] == 1)], se.loc[(se['prev_timingPoint'] == 1) & se['train'], 'dwell_duration_prev'])\n",
    "\n",
    "    xg_reg_results = xg_reg.predict(for_xg[se['test'] & (se['prev_timingPoint'] == 1)])\n",
    "    \n",
    "    mape = MAPE(xg_reg_results, se.loc[(se['prev_timingPoint'] == 1) & se['test'], 'dwell_duration_prev'])\n",
    "    \n",
    "    MAPES.append(mape)\n",
    "\n",
    "    print(f\"i:{i} -> MAPE: {mape}\")"
   ]
  },
  {
   "cell_type": "code",
   "execution_count": null,
   "metadata": {},
   "outputs": [],
   "source": [
    "plt.plot(range(1,25), MAPES)"
   ]
  },
  {
   "cell_type": "code",
   "execution_count": null,
   "metadata": {},
   "outputs": [],
   "source": [
    "for extra in np.linspace(-20, +100, 13):\n",
    "    dwells = se.loc[(se['prev_dwell_type_normal'] == False) & \n",
    "                    (se['how_early'] < extra + 10) &\n",
    "                    (se['how_early'] > extra),\n",
    "                        'dwell_duration_prev']\n",
    "    \n",
    "    plt.hist(dwells, bins=100, range=(0,500));\n",
    "    plt.title(f\"With {extra} seconds buffer\")\n",
    "    plt.show()\n",
    "\n",
    "    rows = for_xg[(for_xg['how_early'] < extra + 10) & (for_xg['how_early'] > extra)]\n",
    "    \n",
    "    preds = xg_reg.predict(rows)\n",
    "\n",
    "    plt.hist(preds, bins=100, range=(0,500), color='red');\n",
    "    plt.title(f\"With {extra} seconds buffer, preds\")\n",
    "    plt.show()\n",
    "    "
   ]
  },
  {
   "cell_type": "markdown",
   "metadata": {},
   "source": [
    "It's basically just predicting the spike at the begining. Rubbish. This means it doesn't have enough data to do better. Can we add some? "
   ]
  },
  {
   "cell_type": "markdown",
   "metadata": {},
   "source": [
    "## Trying a random forest"
   ]
  },
  {
   "cell_type": "code",
   "execution_count": null,
   "metadata": {},
   "outputs": [],
   "source": [
    "rf_reg = xgb.XGBRegressor(\n",
    "        objective=\"reg:linear\",\n",
    "        eval_metric=\"mae\",\n",
    "        booster=\"gbtree\",\n",
    "        n_jobs=5,\n",
    "        max_depth=3,\n",
    "        verbosity=2,\n",
    "        colsample_bynode=0.8,\n",
    "        learning_rate=1,\n",
    "        num_parallel_tree=10,\n",
    "        subsample=0.8,\n",
    "        tree_method=\"hist\",\n",
    "    )"
   ]
  },
  {
   "cell_type": "code",
   "execution_count": null,
   "metadata": {},
   "outputs": [],
   "source": [
    "rf_reg.fit(for_xg[for_xg['train'] & (se['prev_dwell_type_normal'] == False)], se.loc[(se['prev_dwell_type_normal'] == False) & se['train'], 'dwell_duration_prev'])\n",
    "\n",
    "rf_reg.save_model(\"rf_model_timing_points\")\n",
    "\n"
   ]
  },
  {
   "cell_type": "code",
   "execution_count": null,
   "metadata": {},
   "outputs": [],
   "source": [
    "rf_reg_results = rf_reg.predict(for_xg[se['test'] & (se['prev_dwell_type_normal'] == False)])"
   ]
  },
  {
   "cell_type": "code",
   "execution_count": null,
   "metadata": {},
   "outputs": [],
   "source": [
    "MAPE(rf_reg_results, se.loc[(se['prev_dwell_type_normal'] == False) & se['test'], 'dwell_duration_prev'])"
   ]
  },
  {
   "cell_type": "code",
   "execution_count": null,
   "metadata": {},
   "outputs": [],
   "source": [
    "feature_importances = rf_reg.feature_importances_\n",
    "\n",
    "features_sorted = np.argsort(feature_importances)\n",
    "\n",
    "for i in range(for_xg.shape[1]):\n",
    "    print(f\"{for_xg.columns[features_sorted[i]]} -> {feature_importances[features_sorted[i]]}\")"
   ]
  },
  {
   "cell_type": "code",
   "execution_count": 96,
   "metadata": {},
   "outputs": [
    {
     "data": {
      "text/plain": [
       "Index(['id', 'date', 'stopCode', 'aimedArrival', 'aimedDeparture',\n",
       "       'actualArrival', 'actualDeparture', 'vehicle', 'workid', 'patternId',\n",
       "       'publicName', 'scheduledStart', 'prev_stopCode', 'prev_aimedArrival',\n",
       "       'prev_aimedDeparture', 'prev_actualArrival', 'prev_actualDeparture',\n",
       "       'timingPoint', 'prev_timingPoint', 'segment_code', 'segment_name',\n",
       "       'line_distance', 'midpoint_lat', 'midpoint_lon', 'to_centre_dist',\n",
       "       'direction', 'direction_degrees', 'train', 'test', 'rain',\n",
       "       'dwell_duration_dest', 'dwell_duration_prev', 'segment_duration',\n",
       "       'timetable_segment_duration', 'full_duration', 'arrival_hour',\n",
       "       'arrival_day', 'mean_durations_by_segment_code',\n",
       "       'mean_durations_by_segment_code_and_hour',\n",
       "       'mean_durations_by_segment_code_and_hour_and_day',\n",
       "       'mean_dwell_dest_durations_by_stop_code',\n",
       "       'mean_dwell_prev_durations_by_stop_code',\n",
       "       'mean_dwell_dest_by_stop_code_and_hour',\n",
       "       'mean_dwell_prev_by_stop_code_and_hour',\n",
       "       'mean_dwell_dest_by_stop_code_and_hour_and_day',\n",
       "       'mean_dwell_prev_by_stop_code_and_hour_and_day',\n",
       "       'median_durations_by_segment_code',\n",
       "       'median_durations_by_segment_code_and_hour',\n",
       "       'median_durations_by_segment_code_and_hour_and_day',\n",
       "       'median_dwell_dest_durations_by_stop_code',\n",
       "       'median_dwell_prev_durations_by_stop_code',\n",
       "       'median_dwell_dest_by_stop_code_and_hour',\n",
       "       'median_dwell_prev_by_stop_code_and_hour',\n",
       "       'median_dwell_dest_by_stop_code_and_hour_and_day',\n",
       "       'median_dwell_prev_by_stop_code_and_hour_and_day',\n",
       "       'median_full_durations_by_segment_code',\n",
       "       'median_full_durations_by_segment_code_and_hour',\n",
       "       'median_full_durations_by_segment_code_and_hour_and_day',\n",
       "       'diff_full_segment_and_median_by_segment_code',\n",
       "       'diff_full_segment_and_median_by_segment_code_and_hour_and_day',\n",
       "       'diff_percent_full_segment_and_median_by_segment_code',\n",
       "       'diff_percent_full_segment_and_median_by_segment_code_and_hour_and_day',\n",
       "       'diff_segment_and_median_by_segment_code',\n",
       "       'diff_segment_and_median_by_segment_code_and_hour_and_day',\n",
       "       'diff_percent_segment_and_median_by_segment_code',\n",
       "       'diff_percent_segment_and_median_by_segment_code_and_hour_and_day',\n",
       "       'std_diff_percent_segment_median_by_segment_code_and_hour_and_day',\n",
       "       'clock_direction_degrees', 'arrival_5mins', 'self_offset_5_1',\n",
       "       'self_offset_5_2', 'self_offset_5_3', 'self_offset_5_4',\n",
       "       'self_offset_5_5', 'self_offset_5_6', 'self_offset_5_7', 'dry',\n",
       "       'weekend', 'median_prev_dwell_by_segment_code_and_hour_and_daytype',\n",
       "       'median_prev_dwell_by_segment_code',\n",
       "       'diff_prev_dwell_and_median_by_segment_code_and_hour_and_daytype',\n",
       "       'prev_dwell_type_normal',\n",
       "       'median_prev_dwell_by_segment_code_and_hour_and_daytype_normal',\n",
       "       'how_early', 'merged_stop_prev', 'first_stop', 'last_bus_gap',\n",
       "       'next_bus_gap', 'last_bus_recent', 'next_bus_soon'],\n",
       "      dtype='object')"
      ]
     },
     "execution_count": 96,
     "metadata": {},
     "output_type": "execute_result"
    }
   ],
   "source": [
    "se.columns"
   ]
  },
  {
   "cell_type": "code",
   "execution_count": null,
   "metadata": {},
   "outputs": [],
   "source": []
  }
 ],
 "metadata": {
  "kernelspec": {
   "display_name": "busses",
   "language": "python",
   "name": "busses"
  },
  "language_info": {
   "codemirror_mode": {
    "name": "ipython",
    "version": 3
   },
   "file_extension": ".py",
   "mimetype": "text/x-python",
   "name": "python",
   "nbconvert_exporter": "python",
   "pygments_lexer": "ipython3",
   "version": "3.7.1"
  }
 },
 "nbformat": 4,
 "nbformat_minor": 2
}
