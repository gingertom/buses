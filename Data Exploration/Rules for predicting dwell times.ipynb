{
 "cells": [
  {
   "cell_type": "code",
   "execution_count": 39,
   "metadata": {},
   "outputs": [],
   "source": [
    "import numpy as np\n",
    "import numpy.ma as ma\n",
    "import pandas as pd\n",
    "import datetime\n",
    "\n",
    "import matplotlib.pyplot as plt\n",
    "import matplotlib.colors as colors\n",
    "\n",
    "import feather\n",
    "\n",
    "from sklearn.metrics import mean_squared_error, mean_absolute_error\n",
    "\n",
    "from scipy import stats\n",
    "\n",
    "from sklearn.linear_model import LinearRegression"
   ]
  },
  {
   "cell_type": "code",
   "execution_count": 2,
   "metadata": {},
   "outputs": [],
   "source": [
    "se = feather.read_dataframe(\"../data_files/B/once/75days/stop_events_with_geo_train_test_averages_prev_next_offsets_noninterp.feather\")\n",
    "se = se.set_index(se.columns[0])"
   ]
  },
  {
   "cell_type": "code",
   "execution_count": 3,
   "metadata": {},
   "outputs": [],
   "source": [
    "se = se.dropna(subset=['median_durations_by_segment_code_and_hour_and_day'])\n",
    "\n"
   ]
  },
  {
   "cell_type": "code",
   "execution_count": 4,
   "metadata": {},
   "outputs": [],
   "source": [
    "se['prev_timingPoint'] = se['prev_timingPoint'].astype(float).astype(int)"
   ]
  },
  {
   "cell_type": "code",
   "execution_count": 5,
   "metadata": {},
   "outputs": [],
   "source": [
    "# se.iloc[1978]"
   ]
  },
  {
   "cell_type": "code",
   "execution_count": 6,
   "metadata": {},
   "outputs": [
    {
     "name": "stdout",
     "output_type": "stream",
     "text": [
      "Calculating rare segments...\n",
      "\tCalculated\n"
     ]
    }
   ],
   "source": [
    "def filter_rare(stop_events):\n",
    "\n",
    "    print(\"Calculating rare segments...\")\n",
    "\n",
    "    segment_counts = stop_events.groupby(\"segment_code\").size()\n",
    "\n",
    "    filtered_stop_events = stop_events.drop(\n",
    "        stop_events[\n",
    "            stop_events[\"segment_code\"].isin(\n",
    "                segment_counts[segment_counts < 120].index.values\n",
    "            )\n",
    "        ].index\n",
    "    )\n",
    "\n",
    "    print(\"\\tCalculated\")\n",
    "\n",
    "    return filtered_stop_events\n",
    "\n",
    "se = filter_rare(se)"
   ]
  },
  {
   "cell_type": "code",
   "execution_count": 7,
   "metadata": {},
   "outputs": [],
   "source": [
    "def MAPE(forecast, actual):\n",
    "    \n",
    "    if(len(forecast) != len(actual)):\n",
    "        raise ValueError('Could not calculate MAPE, forecast and actual arrays are different length')\n",
    "        \n",
    "    forecast = np.asarray(forecast)\n",
    "    actual = np.asarray(actual)\n",
    "    \n",
    "    with np.errstate(divide='ignore', invalid='ignore'):\n",
    "        \n",
    "        division = (actual-forecast)/actual\n",
    "        \n",
    "        division[actual == 0] = 0\n",
    "        \n",
    "        # Instead of dividing by n we count by the number of non-zero values. \n",
    "        # Essentially ignoring all cases where the actual value is zero. \n",
    "        mape = 100 / np.count_nonzero(actual) * np.sum(np.abs(division))\n",
    "    \n",
    "    return mape"
   ]
  },
  {
   "cell_type": "code",
   "execution_count": 8,
   "metadata": {},
   "outputs": [],
   "source": [
    "def make_prediction(medians, results):\n",
    "    return medians * (1 + (results / 100))\n",
    "\n",
    "\n"
   ]
  },
  {
   "cell_type": "markdown",
   "metadata": {},
   "source": [
    "## Adding in a few more medians... why not"
   ]
  },
  {
   "cell_type": "markdown",
   "metadata": {},
   "source": [
    "Starting by making some more medians to compare"
   ]
  },
  {
   "cell_type": "code",
   "execution_count": 9,
   "metadata": {},
   "outputs": [],
   "source": [
    "se['dry'] = (se['rain'] == 0)\n",
    "se['weekend'] = (se['arrival_day'] > 4)"
   ]
  },
  {
   "cell_type": "code",
   "execution_count": 102,
   "metadata": {},
   "outputs": [],
   "source": [
    "segment_code_and_hour_and_daytype_groups = se[se[\"train\"]].groupby(\n",
    "    [\"segment_code\", \"arrival_hour\", \"weekend\"]\n",
    ")"
   ]
  },
  {
   "cell_type": "code",
   "execution_count": 103,
   "metadata": {},
   "outputs": [],
   "source": [
    "median_prev_dwell_by_segment_code_and_hour_and_daytype = (\n",
    "    segment_code_and_hour_and_daytype_groups[\"dwell_duration_prev\"]\n",
    "    .median()\n",
    "    .rename(\"median_prev_dwell_by_segment_code_and_hour_and_daytype\")\n",
    ")\n",
    "\n",
    "se = se.merge(\n",
    "    median_prev_dwell_by_segment_code_and_hour_and_daytype.to_frame(),\n",
    "    \"left\",\n",
    "    left_on=[\"segment_code\", \"arrival_hour\", \"weekend\"],\n",
    "    right_index=True,\n",
    ")"
   ]
  },
  {
   "cell_type": "code",
   "execution_count": 12,
   "metadata": {},
   "outputs": [],
   "source": [
    "prev_stopCode_and_timing_point_groups = se[se[\"train\"]].groupby(\n",
    "    [\"prev_stopCode\", \"prev_timingPoint\"]\n",
    ")\n",
    "\n",
    "median_prev_dwell_by_prev_stop_code_and_timing_point = (\n",
    "    prev_stopCode_and_timing_point_groups[\"dwell_duration_prev\"]\n",
    "    .median()\n",
    "    .rename(\"median_prev_dwell_by_prev_stop_code_and_timing_point\")\n",
    ")\n",
    "\n",
    "se = se.merge(\n",
    "    median_prev_dwell_by_prev_stop_code_and_timing_point.to_frame(),\n",
    "    \"left\",\n",
    "    left_on=[\"prev_stopCode\", \"prev_timingPoint\"],\n",
    "    right_index=True,\n",
    ")\n",
    "\n",
    "\n"
   ]
  },
  {
   "cell_type": "code",
   "execution_count": 13,
   "metadata": {},
   "outputs": [],
   "source": [
    "segment_code_groups = se[se[\"train\"]].groupby(\n",
    "    [\"segment_code\"]\n",
    ")\n",
    "\n",
    "median_prev_dwell_by_segment_code = (\n",
    "    segment_code_groups[\"dwell_duration_prev\"]\n",
    "    .median()\n",
    "    .rename(\"median_prev_dwell_by_segment_code\")\n",
    ")\n",
    "\n",
    "se = se.merge(\n",
    "    median_prev_dwell_by_segment_code.to_frame(),\n",
    "    \"left\",\n",
    "    left_on=[\"segment_code\"],\n",
    "    right_index=True,\n",
    ")"
   ]
  },
  {
   "cell_type": "code",
   "execution_count": 15,
   "metadata": {},
   "outputs": [],
   "source": [
    "se['diff_prev_dwell_and_median_by_segment_code_and_hour_and_daytype'] = se['dwell_duration_prev'] - se['median_prev_dwell_by_segment_code_and_hour_and_daytype']\n",
    "\n"
   ]
  },
  {
   "cell_type": "code",
   "execution_count": 16,
   "metadata": {},
   "outputs": [],
   "source": [
    "segment_code_and_hour_and_daytype_groups = None\n",
    "median_prev_dwell_by_segment_code_and_hour_and_daytype = None\n",
    "prev_stopCode_and_timing_point_groups = None\n",
    "median_prev_dwell_by_prev_stop_code_and_timing_point = None\n",
    "segment_code_groups = None\n",
    "median_prev_dwell_by_segment_code = None\n"
   ]
  },
  {
   "cell_type": "code",
   "execution_count": 17,
   "metadata": {},
   "outputs": [],
   "source": [
    "def exclude_columns_containing(se, to_remove):\n",
    "\n",
    "    min_cols = [c for c in se.columns if not any(x in c for x in to_remove)]\n",
    "\n",
    "    se_min = se[min_cols]\n",
    "\n",
    "    return se_min"
   ]
  },
  {
   "cell_type": "code",
   "execution_count": 18,
   "metadata": {},
   "outputs": [],
   "source": [
    "se = exclude_columns_containing(se, [\"prev_segment_code_\",\n",
    "            \"next_segment_code_\",\n",
    "            \"prev_event_index_\",\n",
    "            \"next_event_index_\",\n",
    "            \"offset_timestamp_5_\", \n",
    "            \"prev_stop_\", \n",
    "            \"next_stop_\",\n",
    "            \"road\"])"
   ]
  },
  {
   "cell_type": "markdown",
   "metadata": {},
   "source": [
    "## Making up some rules"
   ]
  },
  {
   "cell_type": "code",
   "execution_count": 20,
   "metadata": {},
   "outputs": [],
   "source": [
    "early_timing_points = se[(se['prev_timingPoint'] == 1) & (se['prev_actualArrival'] + pd.Timedelta(\"1 minute\") < se['prev_aimedArrival'])]"
   ]
  },
  {
   "cell_type": "code",
   "execution_count": 21,
   "metadata": {},
   "outputs": [
    {
     "data": {
      "text/plain": [
       "75651"
      ]
     },
     "execution_count": 21,
     "metadata": {},
     "output_type": "execute_result"
    }
   ],
   "source": [
    "early_timing_points.shape[0]"
   ]
  },
  {
   "cell_type": "code",
   "execution_count": 23,
   "metadata": {},
   "outputs": [
    {
     "data": {
      "image/png": "[encoded data removed]",
      "text/plain": [
       "<Figure size 432x288 with 1 Axes>"
      ]
     },
     "metadata": {
      "needs_background": "light"
     },
     "output_type": "display_data"
    }
   ],
   "source": [
    "plt.hist(early_timing_points['dwell_duration_prev'], bins=100, range=(0,500));"
   ]
  },
  {
   "cell_type": "code",
   "execution_count": 25,
   "metadata": {},
   "outputs": [
    {
     "data": {
      "image/png": "[encoded data removed]",
      "text/plain": [
       "<Figure size 432x288 with 1 Axes>"
      ]
     },
     "metadata": {
      "needs_background": "light"
     },
     "output_type": "display_data"
    }
   ],
   "source": [
    "plt.hist(se.loc[se['prev_timingPoint'] == 1, 'dwell_duration_prev'], bins=100, range=(0,500));"
   ]
  },
  {
   "cell_type": "code",
   "execution_count": 26,
   "metadata": {},
   "outputs": [
    {
     "data": {
      "image/png": "[encoded data removed]",
      "text/plain": [
       "<Figure size 432x288 with 1 Axes>"
      ]
     },
     "metadata": {
      "needs_background": "light"
     },
     "output_type": "display_data"
    }
   ],
   "source": [
    "plt.hist(se.loc[se['prev_timingPoint'] == 0, 'dwell_duration_prev'], bins=100, range=(0,500));"
   ]
  },
  {
   "cell_type": "code",
   "execution_count": 70,
   "metadata": {},
   "outputs": [
    {
     "name": "stdout",
     "output_type": "stream",
     "text": [
      "With -20.0 seconds buffer\n",
      "Length: 24,522\n",
      "Mean: 24.81229100399641\n",
      "Median: 9.0\n",
      "----------------------------------\n",
      "With -10.0 seconds buffer\n",
      "Length: 24,692\n",
      "Mean: 27.768751012473675\n",
      "Median: 14.0\n",
      "----------------------------------\n",
      "With 0.0 seconds buffer\n",
      "Length: 22,717\n",
      "Mean: 32.10454725535942\n",
      "Median: 20.0\n",
      "----------------------------------\n",
      "With 10.0 seconds buffer\n",
      "Length: 19,469\n",
      "Mean: 38.94724947352201\n",
      "Median: 28.0\n",
      "----------------------------------\n",
      "With 20.0 seconds buffer\n",
      "Length: 16,762\n",
      "Mean: 44.64819233981625\n",
      "Median: 35.0\n",
      "----------------------------------\n",
      "With 30.0 seconds buffer\n",
      "Length: 15,672\n",
      "Mean: 49.59558448187851\n",
      "Median: 43.0\n",
      "----------------------------------\n",
      "With 40.0 seconds buffer\n",
      "Length: 15,003\n",
      "Mean: 53.929814037192564\n",
      "Median: 49.0\n",
      "----------------------------------\n",
      "With 50.0 seconds buffer\n",
      "Length: 13,555\n",
      "Mean: 60.404131316857246\n",
      "Median: 58.0\n",
      "----------------------------------\n",
      "With 60.0 seconds buffer\n",
      "Length: 11,706\n",
      "Mean: 66.91653852725098\n",
      "Median: 68.0\n",
      "----------------------------------\n",
      "With 70.0 seconds buffer\n",
      "Length: 9,898\n",
      "Mean: 74.51949888866437\n",
      "Median: 79.0\n",
      "----------------------------------\n",
      "With 80.0 seconds buffer\n",
      "Length: 8,546\n",
      "Mean: 81.43482330915047\n",
      "Median: 86.0\n",
      "----------------------------------\n",
      "With 90.0 seconds buffer\n",
      "Length: 7,426\n",
      "Mean: 87.50377053595476\n",
      "Median: 92.0\n",
      "----------------------------------\n",
      "With 100.0 seconds buffer\n",
      "Length: 6,058\n",
      "Mean: 91.38808187520634\n",
      "Median: 92.0\n",
      "----------------------------------\n"
     ]
    }
   ],
   "source": [
    "buffers = []\n",
    "median_dwells = []\n",
    "mean_dwells = []\n",
    "\n",
    "for extra in np.linspace(-20, 100, 13):\n",
    "    dwells = se.loc[(se['prev_timingPoint'] == 1) & \n",
    "                    (se['prev_actualArrival'] + pd.Timedelta(f\"{extra} second\") < se['prev_aimedArrival']) &\n",
    "                    (se['prev_actualArrival'] + pd.Timedelta(f\"{extra + 10} second\") > se['prev_aimedArrival']),\n",
    "                        'dwell_duration_prev']\n",
    "    \n",
    "#     plt.hist(dwells, bins=100, range=(0,500));\n",
    "#     plt.title(f\"With {extra} seconds buffer\")\n",
    "#     plt.show()\n",
    "    print(f\"With {extra} seconds buffer\")\n",
    "    print(f\"Length: {len(dwells):,}\")\n",
    "    print(f\"Mean: {np.mean(dwells)}\")\n",
    "    print(f\"Median: {np.median(dwells)}\")\n",
    "    print(f\"----------------------------------\")\n",
    "    \n",
    "    buffers.append(extra)\n",
    "    median_dwells.append(np.median(dwells))\n",
    "    mean_dwells.append(np.mean(dwells))\n",
    "    "
   ]
  },
  {
   "cell_type": "code",
   "execution_count": 71,
   "metadata": {},
   "outputs": [
    {
     "data": {
      "image/png": "[encoded data removed]",
      "text/plain": [
       "<Figure size 432x288 with 1 Axes>"
      ]
     },
     "metadata": {
      "needs_background": "light"
     },
     "output_type": "display_data"
    }
   ],
   "source": [
    "buffers = np.array(buffers).reshape(-1, 1) + 5\n",
    "\n",
    "plt.scatter(buffers, median_dwells, label=\"medians\")\n",
    "plt.scatter(buffers, mean_dwells, label=\"means\")\n",
    "\n",
    "reg = LinearRegression()\n",
    "\n",
    "reg.fit(buffers, median_dwells)\n",
    "\n",
    "plt.plot(buffers, reg.predict(buffers))\n",
    "plt.legend()\n",
    "plt.title(\"Dwell times for timing point stops where the bus is early\")\n",
    "plt.xlabel(\"How early the bus is to the nearest 10 seconds\")\n",
    "plt.ylabel(\"The dwell time (seconds)\")\n",
    "plt.show()"
   ]
  },
  {
   "cell_type": "code",
   "execution_count": 49,
   "metadata": {},
   "outputs": [],
   "source": [
    "# So we have a plan. \n",
    "# For all non-timing point dwells we do the normal thing (median per stop/segment, hour of the day and day type)\n",
    "# For all timing points that are late we do normal\n",
    "# For all timing points that are early between 0 and 90 seconds we do a linear prediction\n",
    "# For all timing points beyond 90 seconds late we predict 90 seconds\n",
    "# Easy when you know how... :) \n",
    "\n",
    "# This means that we should only train on \"normal and early stops\""
   ]
  },
  {
   "cell_type": "code",
   "execution_count": 50,
   "metadata": {},
   "outputs": [
    {
     "data": {
      "text/plain": [
       "84.54421399956334"
      ]
     },
     "execution_count": 50,
     "metadata": {},
     "output_type": "execute_result"
    }
   ],
   "source": [
    "MAPE(se['median_prev_dwell_by_segment_code_and_hour_and_daytype'], se['dwell_duration_prev'])"
   ]
  },
  {
   "cell_type": "code",
   "execution_count": 86,
   "metadata": {},
   "outputs": [
    {
     "data": {
      "text/plain": [
       "73.73389794875608"
      ]
     },
     "execution_count": 86,
     "metadata": {},
     "output_type": "execute_result"
    }
   ],
   "source": [
    "MAPE(se.loc[se['prev_timingPoint'] == 0, 'median_prev_dwell_by_segment_code_and_hour_and_daytype'], se.loc[se['prev_timingPoint'] == 0, 'dwell_duration_prev'])\n"
   ]
  },
  {
   "cell_type": "code",
   "execution_count": 53,
   "metadata": {},
   "outputs": [],
   "source": [
    "se['prev_dwell_type_normal'] = True"
   ]
  },
  {
   "cell_type": "code",
   "execution_count": 72,
   "metadata": {},
   "outputs": [],
   "source": [
    "se.loc[(se['prev_timingPoint'] == 1) & (se['prev_actualArrival'] - pd.Timedelta(\"20 second\") < se['prev_aimedArrival']), 'prev_dwell_type_normal'] = False\n"
   ]
  },
  {
   "cell_type": "code",
   "execution_count": 101,
   "metadata": {},
   "outputs": [],
   "source": [
    "if 'median_prev_dwell_by_segment_code_and_hour_and_daytype_normal' in se.columns:\n",
    "    se = se.drop(columns=['median_prev_dwell_by_segment_code_and_hour_and_daytype_normal'])\n",
    "\n",
    "segment_code_and_hour_and_daytype_groups_normal = se[(se[\"train\"] == True) & (se['prev_dwell_type_normal'] == True)].groupby(\n",
    "    [\"segment_code\", \"arrival_hour\", \"weekend\"]\n",
    ")\n",
    "\n",
    "median_prev_dwell_by_segment_code_and_hour_and_daytype_normal = (\n",
    "    segment_code_and_hour_and_daytype_groups_normal[\"dwell_duration_prev\"]\n",
    "    .median()\n",
    "    .rename(\"median_prev_dwell_by_segment_code_and_hour_and_daytype_normal\")\n",
    ")\n",
    "\n",
    "se = se.merge(\n",
    "    median_prev_dwell_by_segment_code_and_hour_and_daytype_normal.to_frame(),\n",
    "    \"left\",\n",
    "    left_on=[\"segment_code\", \"arrival_hour\", \"weekend\"],\n",
    "    right_index=True,\n",
    ")"
   ]
  },
  {
   "cell_type": "code",
   "execution_count": 88,
   "metadata": {},
   "outputs": [
    {
     "data": {
      "text/plain": [
       "80.99478727149615"
      ]
     },
     "execution_count": 88,
     "metadata": {},
     "output_type": "execute_result"
    }
   ],
   "source": [
    "MAPE(se.loc[se['prev_dwell_type_normal'], 'median_prev_dwell_by_segment_code_and_hour_and_daytype'], se.loc[se['prev_dwell_type_normal'], 'dwell_duration_prev'])\n"
   ]
  },
  {
   "cell_type": "code",
   "execution_count": 89,
   "metadata": {},
   "outputs": [
    {
     "data": {
      "text/plain": [
       "0"
      ]
     },
     "execution_count": 89,
     "metadata": {},
     "output_type": "execute_result"
    }
   ],
   "source": [
    "np.count_nonzero(np.isnan(se['median_prev_dwell_by_segment_code_and_hour_and_daytype_normal']))"
   ]
  },
  {
   "cell_type": "code",
   "execution_count": 83,
   "metadata": {},
   "outputs": [],
   "source": [
    "se = se.dropna(subset=['median_prev_dwell_by_segment_code_and_hour_and_daytype_normal'])"
   ]
  },
  {
   "cell_type": "code",
   "execution_count": 90,
   "metadata": {},
   "outputs": [
    {
     "data": {
      "text/plain": [
       "78.69915299484994"
      ]
     },
     "execution_count": 90,
     "metadata": {},
     "output_type": "execute_result"
    }
   ],
   "source": [
    "MAPE(se.loc[se['prev_dwell_type_normal'], 'median_prev_dwell_by_segment_code_and_hour_and_daytype_normal'], se.loc[se['prev_dwell_type_normal'], 'dwell_duration_prev'])\n",
    "\n"
   ]
  },
  {
   "cell_type": "code",
   "execution_count": 91,
   "metadata": {},
   "outputs": [
    {
     "data": {
      "text/plain": [
       "73.73389794875608"
      ]
     },
     "execution_count": 91,
     "metadata": {},
     "output_type": "execute_result"
    }
   ],
   "source": [
    "MAPE(se.loc[se['prev_timingPoint'] == 0, 'median_prev_dwell_by_segment_code_and_hour_and_daytype_normal'], se.loc[se['prev_timingPoint'] == 0, 'dwell_duration_prev'])\n"
   ]
  },
  {
   "cell_type": "code",
   "execution_count": 117,
   "metadata": {},
   "outputs": [
    {
     "data": {
      "text/plain": [
       "254.50294534533526"
      ]
     },
     "execution_count": 117,
     "metadata": {},
     "output_type": "execute_result"
    }
   ],
   "source": [
    "earlies = se.loc[se['prev_dwell_type_normal'] == False, 'prev_aimedArrival'] - se.loc[se['prev_dwell_type_normal'] == False, 'prev_actualArrival']\n",
    "\n",
    "earlies = earlies.astype('timedelta64[s]').values.reshape(-1, 1)\n",
    "\n",
    "\n",
    "MAPE(reg.predict(earlies), se.loc[se['prev_dwell_type_normal'] == False, 'dwell_duration_prev'])\n"
   ]
  },
  {
   "cell_type": "code",
   "execution_count": 118,
   "metadata": {},
   "outputs": [
    {
     "data": {
      "image/png": "[encoded data removed]",
      "text/plain": [
       "<Figure size 432x288 with 1 Axes>"
      ]
     },
     "metadata": {
      "needs_background": "light"
     },
     "output_type": "display_data"
    }
   ],
   "source": [
    "plt.hist(earlies, bins=100, range=(-100,100));"
   ]
  },
  {
   "cell_type": "code",
   "execution_count": 119,
   "metadata": {},
   "outputs": [
    {
     "data": {
      "image/png": "[encoded data removed]",
      "text/plain": [
       "<Figure size 432x288 with 1 Axes>"
      ]
     },
     "metadata": {
      "needs_background": "light"
     },
     "output_type": "display_data"
    }
   ],
   "source": [
    "plt.hist(se.loc[se['prev_dwell_type_normal'] == False, 'dwell_duration_prev'], bins=100, range=(-100,100));"
   ]
  },
  {
   "cell_type": "code",
   "execution_count": 107,
   "metadata": {},
   "outputs": [],
   "source": [
    "se['median_prev_dwell_by_segment_code_and_hour_and_daytype'] = se['median_prev_dwell_by_segment_code_and_hour_and_daytype_y']"
   ]
  },
  {
   "cell_type": "code",
   "execution_count": 108,
   "metadata": {},
   "outputs": [],
   "source": [
    "se = se.drop(columns=['median_prev_dwell_by_segment_code_and_hour_and_daytype_y', 'median_prev_dwell_by_segment_code_and_hour_and_daytype_x'])"
   ]
  },
  {
   "cell_type": "code",
   "execution_count": null,
   "metadata": {},
   "outputs": [],
   "source": []
  }
 ],
 "metadata": {
  "kernelspec": {
   "display_name": "busses",
   "language": "python",
   "name": "busses"
  },
  "language_info": {
   "codemirror_mode": {
    "name": "ipython",
    "version": 3
   },
   "file_extension": ".py",
   "mimetype": "text/x-python",
   "name": "python",
   "nbconvert_exporter": "python",
   "pygments_lexer": "ipython3",
   "version": "3.7.1"
  }
 },
 "nbformat": 4,
 "nbformat_minor": 2
}
