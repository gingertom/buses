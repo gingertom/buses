{
 "cells": [
  {
   "cell_type": "code",
   "execution_count": 1,
   "metadata": {},
   "outputs": [
    {
     "name": "stderr",
     "output_type": "stream",
     "text": [
      "Using TensorFlow backend.\n"
     ]
    }
   ],
   "source": [
    "import pandas as pd\n",
    "import numpy as np\n",
    "import matplotlib.pyplot as plt\n",
    "\n",
    "from math import radians, degrees, cos, sin, asin, sqrt\n",
    "\n",
    "from scipy.stats import hmean\n",
    "\n",
    "from tqdm import tqdm_notebook as tqdm\n",
    "\n",
    "import feather\n",
    "\n",
    "from sklearn.linear_model import LinearRegression\n",
    "from sklearn.linear_model import ARDRegression\n",
    "from sklearn.linear_model import Lasso\n",
    "from sklearn.preprocessing import PolynomialFeatures\n",
    "from sklearn import preprocessing\n",
    "from sklearn.metrics import mean_squared_error\n",
    "\n",
    "import keras\n",
    "from keras.preprocessing import sequence\n",
    "from keras import layers, Input, Model\n",
    "from keras.models import Sequential\n",
    "from keras.layers import Flatten, Dense, Lambda, LSTM, Dropout\n",
    "\n",
    "from pathlib import Path\n"
   ]
  },
  {
   "cell_type": "code",
   "execution_count": 2,
   "metadata": {},
   "outputs": [],
   "source": [
    "messages = pd.read_csv(\"../../Trapeze_Data/Extract 20180918_20181216/VehicleMessages.csv\", dtype={\"isValid\":float, \"workCode\":float,\"tripCode\":float}, parse_dates=[1], infer_datetime_format=True)\n"
   ]
  },
  {
   "cell_type": "code",
   "execution_count": 218,
   "metadata": {},
   "outputs": [],
   "source": [
    "se = feather.read_dataframe(\"../../data_files/B/once/75days/stop_events_with_geo_train_test_averages_prev_next_dwell.feather\",\n",
    "                            columns=[\"index\",\n",
    "                                     \"segment_duration\",\n",
    "                                     \"mean_durations_by_segment_code\",\n",
    "                                     \"mean_durations_by_segment_code_and_hour\",\n",
    "                                     \"mean_durations_by_segment_code_and_hour_and_day\",\n",
    "                                     \"diff_segment_and_mean_by_segment_code\",\n",
    "                                     \"diff_segment_and_mean_by_segment_code_and_hour_and_day\",\n",
    "                                     'line_distance',\n",
    "                                     'to_centre_dist',\n",
    "                                     'direction_degrees',\n",
    "                                     'rain',\n",
    "                                     'median_durations_by_segment_code_and_hour_and_day',\n",
    "                                     'arrival_hour','arrival_day',\n",
    "                                     \"diff_percent_segment_and_mean_by_segment_code_and_hour_and_day\",\n",
    "                                     'date','workid',\n",
    "                                     'actualArrival',\n",
    "                                     'publicName',\n",
    "                                     'segment_name',\n",
    "                                     'prev_segment_code_1',\n",
    "                                     'next_segment_code_1'\n",
    "                                    ])\n",
    "se = se.set_index(se.columns[0])"
   ]
  },
  {
   "cell_type": "code",
   "execution_count": 219,
   "metadata": {},
   "outputs": [],
   "source": [
    "se['speed_mph'] = se['line_distance']*1000/se['segment_duration'] * 2.237\n",
    "\n",
    "# And now for just segments:\n",
    "se[\"diff_segment_and_mean_by_segment_code\"] = (\n",
    "    se[\"segment_duration\"]\n",
    "    - se[\"mean_durations_by_segment_code\"]\n",
    ")\n",
    "se[\"diff_segment_and_mean_by_segment_code_and_hour_and_day\"] = (\n",
    "    se[\"segment_duration\"]\n",
    "    - se[\"mean_durations_by_segment_code_and_hour_and_day\"]\n",
    ")\n",
    "\n",
    "se[\"diff_percent_segment_and_mean_by_segment_code\"] = (\n",
    "    se[\"diff_segment_and_mean_by_segment_code\"]\n",
    "    * 100\n",
    "    / se[\"mean_durations_by_segment_code\"]\n",
    ")\n",
    "\n",
    "se[\"diff_percent_segment_and_mean_by_segment_code_and_hour_and_day\"] = (\n",
    "    se[\"diff_segment_and_mean_by_segment_code_and_hour_and_day\"]\n",
    "    * 100\n",
    "    / se[\"mean_durations_by_segment_code_and_hour_and_day\"]\n",
    ")"
   ]
  },
  {
   "cell_type": "code",
   "execution_count": 228,
   "metadata": {},
   "outputs": [],
   "source": [
    "se['prev_segment_name'] = se['prev_segment_code_1'].str[:-2]\n",
    "se['next_segment_name'] = se['next_segment_code_1'].str[:-2]"
   ]
  },
  {
   "cell_type": "code",
   "execution_count": 4,
   "metadata": {},
   "outputs": [
    {
     "data": {
      "text/plain": [
       "vehicle                  int64\n",
       "timeReported    datetime64[ns]\n",
       "msg                     object\n",
       "lon                    float64\n",
       "lat                    float64\n",
       "bearing                float64\n",
       "isValid                float64\n",
       "stopCode                object\n",
       "workCode               float64\n",
       "tripCode               float64\n",
       "dtype: object"
      ]
     },
     "execution_count": 4,
     "metadata": {},
     "output_type": "execute_result"
    }
   ],
   "source": [
    "messages.dtypes"
   ]
  },
  {
   "cell_type": "code",
   "execution_count": 5,
   "metadata": {},
   "outputs": [
    {
     "data": {
      "text/html": [
       "<div>\n",
       "<style scoped>\n",
       "    .dataframe tbody tr th:only-of-type {\n",
       "        vertical-align: middle;\n",
       "    }\n",
       "\n",
       "    .dataframe tbody tr th {\n",
       "        vertical-align: top;\n",
       "    }\n",
       "\n",
       "    .dataframe thead th {\n",
       "        text-align: right;\n",
       "    }\n",
       "</style>\n",
       "<table border=\"1\" class=\"dataframe\">\n",
       "  <thead>\n",
       "    <tr style=\"text-align: right;\">\n",
       "      <th></th>\n",
       "      <th>vehicle</th>\n",
       "      <th>timeReported</th>\n",
       "      <th>msg</th>\n",
       "      <th>lon</th>\n",
       "      <th>lat</th>\n",
       "      <th>bearing</th>\n",
       "      <th>isValid</th>\n",
       "      <th>stopCode</th>\n",
       "      <th>workCode</th>\n",
       "      <th>tripCode</th>\n",
       "    </tr>\n",
       "  </thead>\n",
       "  <tbody>\n",
       "    <tr>\n",
       "      <th>0</th>\n",
       "      <td>113</td>\n",
       "      <td>2018-09-18 07:26:16</td>\n",
       "      <td>inPosition</td>\n",
       "      <td>-1.836883</td>\n",
       "      <td>50.753617</td>\n",
       "      <td>192.0</td>\n",
       "      <td>1.0</td>\n",
       "      <td>NaN</td>\n",
       "      <td>NaN</td>\n",
       "      <td>NaN</td>\n",
       "    </tr>\n",
       "    <tr>\n",
       "      <th>1</th>\n",
       "      <td>113</td>\n",
       "      <td>2018-09-18 07:26:46</td>\n",
       "      <td>inPosition</td>\n",
       "      <td>-1.836883</td>\n",
       "      <td>50.753600</td>\n",
       "      <td>192.0</td>\n",
       "      <td>1.0</td>\n",
       "      <td>NaN</td>\n",
       "      <td>NaN</td>\n",
       "      <td>NaN</td>\n",
       "    </tr>\n",
       "    <tr>\n",
       "      <th>2</th>\n",
       "      <td>113</td>\n",
       "      <td>2018-09-18 07:27:16</td>\n",
       "      <td>inPosition</td>\n",
       "      <td>-1.836883</td>\n",
       "      <td>50.753600</td>\n",
       "      <td>192.0</td>\n",
       "      <td>1.0</td>\n",
       "      <td>NaN</td>\n",
       "      <td>NaN</td>\n",
       "      <td>NaN</td>\n",
       "    </tr>\n",
       "    <tr>\n",
       "      <th>3</th>\n",
       "      <td>113</td>\n",
       "      <td>2018-09-18 07:27:46</td>\n",
       "      <td>inPosition</td>\n",
       "      <td>-1.836933</td>\n",
       "      <td>50.753600</td>\n",
       "      <td>192.0</td>\n",
       "      <td>1.0</td>\n",
       "      <td>NaN</td>\n",
       "      <td>NaN</td>\n",
       "      <td>NaN</td>\n",
       "    </tr>\n",
       "    <tr>\n",
       "      <th>4</th>\n",
       "      <td>113</td>\n",
       "      <td>2018-09-18 07:28:16</td>\n",
       "      <td>inPosition</td>\n",
       "      <td>-1.836967</td>\n",
       "      <td>50.753617</td>\n",
       "      <td>192.0</td>\n",
       "      <td>1.0</td>\n",
       "      <td>NaN</td>\n",
       "      <td>NaN</td>\n",
       "      <td>NaN</td>\n",
       "    </tr>\n",
       "    <tr>\n",
       "      <th>5</th>\n",
       "      <td>113</td>\n",
       "      <td>2018-09-18 07:28:46</td>\n",
       "      <td>inPosition</td>\n",
       "      <td>-1.837000</td>\n",
       "      <td>50.753617</td>\n",
       "      <td>192.0</td>\n",
       "      <td>1.0</td>\n",
       "      <td>NaN</td>\n",
       "      <td>NaN</td>\n",
       "      <td>NaN</td>\n",
       "    </tr>\n",
       "    <tr>\n",
       "      <th>6</th>\n",
       "      <td>113</td>\n",
       "      <td>2018-09-18 07:29:16</td>\n",
       "      <td>inPosition</td>\n",
       "      <td>-1.837083</td>\n",
       "      <td>50.753600</td>\n",
       "      <td>192.0</td>\n",
       "      <td>1.0</td>\n",
       "      <td>NaN</td>\n",
       "      <td>NaN</td>\n",
       "      <td>NaN</td>\n",
       "    </tr>\n",
       "    <tr>\n",
       "      <th>7</th>\n",
       "      <td>113</td>\n",
       "      <td>2018-09-18 07:29:46</td>\n",
       "      <td>inPosition</td>\n",
       "      <td>-1.837083</td>\n",
       "      <td>50.753617</td>\n",
       "      <td>192.0</td>\n",
       "      <td>1.0</td>\n",
       "      <td>NaN</td>\n",
       "      <td>NaN</td>\n",
       "      <td>NaN</td>\n",
       "    </tr>\n",
       "    <tr>\n",
       "      <th>8</th>\n",
       "      <td>113</td>\n",
       "      <td>2018-09-18 07:30:16</td>\n",
       "      <td>inPosition</td>\n",
       "      <td>-1.837050</td>\n",
       "      <td>50.753633</td>\n",
       "      <td>192.0</td>\n",
       "      <td>1.0</td>\n",
       "      <td>NaN</td>\n",
       "      <td>NaN</td>\n",
       "      <td>NaN</td>\n",
       "    </tr>\n",
       "    <tr>\n",
       "      <th>9</th>\n",
       "      <td>113</td>\n",
       "      <td>2018-09-18 07:30:46</td>\n",
       "      <td>inPosition</td>\n",
       "      <td>-1.837067</td>\n",
       "      <td>50.753617</td>\n",
       "      <td>192.0</td>\n",
       "      <td>1.0</td>\n",
       "      <td>NaN</td>\n",
       "      <td>NaN</td>\n",
       "      <td>NaN</td>\n",
       "    </tr>\n",
       "    <tr>\n",
       "      <th>10</th>\n",
       "      <td>113</td>\n",
       "      <td>2018-09-18 07:31:14</td>\n",
       "      <td>inPosition</td>\n",
       "      <td>-1.837033</td>\n",
       "      <td>50.753633</td>\n",
       "      <td>192.0</td>\n",
       "      <td>1.0</td>\n",
       "      <td>NaN</td>\n",
       "      <td>NaN</td>\n",
       "      <td>NaN</td>\n",
       "    </tr>\n",
       "    <tr>\n",
       "      <th>11</th>\n",
       "      <td>113</td>\n",
       "      <td>2018-09-18 07:31:44</td>\n",
       "      <td>inPosition</td>\n",
       "      <td>-1.837000</td>\n",
       "      <td>50.753667</td>\n",
       "      <td>192.0</td>\n",
       "      <td>1.0</td>\n",
       "      <td>NaN</td>\n",
       "      <td>NaN</td>\n",
       "      <td>NaN</td>\n",
       "    </tr>\n",
       "    <tr>\n",
       "      <th>12</th>\n",
       "      <td>113</td>\n",
       "      <td>2018-09-18 07:32:14</td>\n",
       "      <td>inPosition</td>\n",
       "      <td>-1.837017</td>\n",
       "      <td>50.753683</td>\n",
       "      <td>192.0</td>\n",
       "      <td>1.0</td>\n",
       "      <td>NaN</td>\n",
       "      <td>NaN</td>\n",
       "      <td>NaN</td>\n",
       "    </tr>\n",
       "    <tr>\n",
       "      <th>13</th>\n",
       "      <td>113</td>\n",
       "      <td>2018-09-18 07:32:44</td>\n",
       "      <td>inPosition</td>\n",
       "      <td>-1.837000</td>\n",
       "      <td>50.753683</td>\n",
       "      <td>192.0</td>\n",
       "      <td>1.0</td>\n",
       "      <td>NaN</td>\n",
       "      <td>NaN</td>\n",
       "      <td>NaN</td>\n",
       "    </tr>\n",
       "    <tr>\n",
       "      <th>14</th>\n",
       "      <td>113</td>\n",
       "      <td>2018-09-18 07:33:14</td>\n",
       "      <td>inPosition</td>\n",
       "      <td>-1.836983</td>\n",
       "      <td>50.753700</td>\n",
       "      <td>192.0</td>\n",
       "      <td>1.0</td>\n",
       "      <td>NaN</td>\n",
       "      <td>NaN</td>\n",
       "      <td>NaN</td>\n",
       "    </tr>\n",
       "    <tr>\n",
       "      <th>15</th>\n",
       "      <td>113</td>\n",
       "      <td>2018-09-18 07:33:44</td>\n",
       "      <td>inPosition</td>\n",
       "      <td>-1.836983</td>\n",
       "      <td>50.753683</td>\n",
       "      <td>192.0</td>\n",
       "      <td>1.0</td>\n",
       "      <td>NaN</td>\n",
       "      <td>NaN</td>\n",
       "      <td>NaN</td>\n",
       "    </tr>\n",
       "    <tr>\n",
       "      <th>16</th>\n",
       "      <td>113</td>\n",
       "      <td>2018-09-18 07:34:14</td>\n",
       "      <td>inPosition</td>\n",
       "      <td>-1.836967</td>\n",
       "      <td>50.753667</td>\n",
       "      <td>192.0</td>\n",
       "      <td>1.0</td>\n",
       "      <td>NaN</td>\n",
       "      <td>NaN</td>\n",
       "      <td>NaN</td>\n",
       "    </tr>\n",
       "    <tr>\n",
       "      <th>17</th>\n",
       "      <td>113</td>\n",
       "      <td>2018-09-18 07:34:44</td>\n",
       "      <td>inPosition</td>\n",
       "      <td>-1.836933</td>\n",
       "      <td>50.753650</td>\n",
       "      <td>192.0</td>\n",
       "      <td>1.0</td>\n",
       "      <td>NaN</td>\n",
       "      <td>NaN</td>\n",
       "      <td>NaN</td>\n",
       "    </tr>\n",
       "    <tr>\n",
       "      <th>18</th>\n",
       "      <td>113</td>\n",
       "      <td>2018-09-18 07:35:14</td>\n",
       "      <td>inPosition</td>\n",
       "      <td>-1.836883</td>\n",
       "      <td>50.753683</td>\n",
       "      <td>192.0</td>\n",
       "      <td>1.0</td>\n",
       "      <td>NaN</td>\n",
       "      <td>NaN</td>\n",
       "      <td>NaN</td>\n",
       "    </tr>\n",
       "    <tr>\n",
       "      <th>19</th>\n",
       "      <td>113</td>\n",
       "      <td>2018-09-18 07:35:44</td>\n",
       "      <td>inPosition</td>\n",
       "      <td>-1.836850</td>\n",
       "      <td>50.753667</td>\n",
       "      <td>192.0</td>\n",
       "      <td>1.0</td>\n",
       "      <td>NaN</td>\n",
       "      <td>NaN</td>\n",
       "      <td>NaN</td>\n",
       "    </tr>\n",
       "    <tr>\n",
       "      <th>20</th>\n",
       "      <td>113</td>\n",
       "      <td>2018-09-18 07:36:14</td>\n",
       "      <td>inPosition</td>\n",
       "      <td>-1.836850</td>\n",
       "      <td>50.753650</td>\n",
       "      <td>192.0</td>\n",
       "      <td>1.0</td>\n",
       "      <td>NaN</td>\n",
       "      <td>NaN</td>\n",
       "      <td>NaN</td>\n",
       "    </tr>\n",
       "    <tr>\n",
       "      <th>21</th>\n",
       "      <td>113</td>\n",
       "      <td>2018-09-18 07:36:44</td>\n",
       "      <td>inPosition</td>\n",
       "      <td>-1.836850</td>\n",
       "      <td>50.753667</td>\n",
       "      <td>192.0</td>\n",
       "      <td>1.0</td>\n",
       "      <td>NaN</td>\n",
       "      <td>NaN</td>\n",
       "      <td>NaN</td>\n",
       "    </tr>\n",
       "    <tr>\n",
       "      <th>22</th>\n",
       "      <td>113</td>\n",
       "      <td>2018-09-18 07:37:14</td>\n",
       "      <td>inPosition</td>\n",
       "      <td>-1.836833</td>\n",
       "      <td>50.753667</td>\n",
       "      <td>192.0</td>\n",
       "      <td>1.0</td>\n",
       "      <td>NaN</td>\n",
       "      <td>NaN</td>\n",
       "      <td>NaN</td>\n",
       "    </tr>\n",
       "    <tr>\n",
       "      <th>23</th>\n",
       "      <td>113</td>\n",
       "      <td>2018-09-18 07:37:44</td>\n",
       "      <td>inPosition</td>\n",
       "      <td>-1.836850</td>\n",
       "      <td>50.753650</td>\n",
       "      <td>192.0</td>\n",
       "      <td>1.0</td>\n",
       "      <td>NaN</td>\n",
       "      <td>NaN</td>\n",
       "      <td>NaN</td>\n",
       "    </tr>\n",
       "    <tr>\n",
       "      <th>24</th>\n",
       "      <td>113</td>\n",
       "      <td>2018-09-18 07:38:14</td>\n",
       "      <td>inPosition</td>\n",
       "      <td>-1.836833</td>\n",
       "      <td>50.753650</td>\n",
       "      <td>192.0</td>\n",
       "      <td>1.0</td>\n",
       "      <td>NaN</td>\n",
       "      <td>NaN</td>\n",
       "      <td>NaN</td>\n",
       "    </tr>\n",
       "    <tr>\n",
       "      <th>25</th>\n",
       "      <td>113</td>\n",
       "      <td>2018-09-18 07:38:44</td>\n",
       "      <td>inPosition</td>\n",
       "      <td>-1.837083</td>\n",
       "      <td>50.753783</td>\n",
       "      <td>312.0</td>\n",
       "      <td>1.0</td>\n",
       "      <td>NaN</td>\n",
       "      <td>NaN</td>\n",
       "      <td>NaN</td>\n",
       "    </tr>\n",
       "    <tr>\n",
       "      <th>26</th>\n",
       "      <td>113</td>\n",
       "      <td>2018-09-18 07:39:14</td>\n",
       "      <td>inPosition</td>\n",
       "      <td>-1.837733</td>\n",
       "      <td>50.753350</td>\n",
       "      <td>258.0</td>\n",
       "      <td>1.0</td>\n",
       "      <td>NaN</td>\n",
       "      <td>NaN</td>\n",
       "      <td>NaN</td>\n",
       "    </tr>\n",
       "    <tr>\n",
       "      <th>27</th>\n",
       "      <td>113</td>\n",
       "      <td>2018-09-18 07:39:44</td>\n",
       "      <td>inPosition</td>\n",
       "      <td>-1.841850</td>\n",
       "      <td>50.754550</td>\n",
       "      <td>270.0</td>\n",
       "      <td>1.0</td>\n",
       "      <td>NaN</td>\n",
       "      <td>NaN</td>\n",
       "      <td>NaN</td>\n",
       "    </tr>\n",
       "    <tr>\n",
       "      <th>28</th>\n",
       "      <td>113</td>\n",
       "      <td>2018-09-18 07:40:14</td>\n",
       "      <td>inPosition</td>\n",
       "      <td>-1.843983</td>\n",
       "      <td>50.753850</td>\n",
       "      <td>220.0</td>\n",
       "      <td>1.0</td>\n",
       "      <td>NaN</td>\n",
       "      <td>NaN</td>\n",
       "      <td>NaN</td>\n",
       "    </tr>\n",
       "    <tr>\n",
       "      <th>29</th>\n",
       "      <td>113</td>\n",
       "      <td>2018-09-18 07:40:44</td>\n",
       "      <td>inPosition</td>\n",
       "      <td>-1.845400</td>\n",
       "      <td>50.752200</td>\n",
       "      <td>192.0</td>\n",
       "      <td>1.0</td>\n",
       "      <td>NaN</td>\n",
       "      <td>NaN</td>\n",
       "      <td>NaN</td>\n",
       "    </tr>\n",
       "    <tr>\n",
       "      <th>...</th>\n",
       "      <td>...</td>\n",
       "      <td>...</td>\n",
       "      <td>...</td>\n",
       "      <td>...</td>\n",
       "      <td>...</td>\n",
       "      <td>...</td>\n",
       "      <td>...</td>\n",
       "      <td>...</td>\n",
       "      <td>...</td>\n",
       "      <td>...</td>\n",
       "    </tr>\n",
       "    <tr>\n",
       "      <th>21686970</th>\n",
       "      <td>267</td>\n",
       "      <td>2018-12-16 19:15:20</td>\n",
       "      <td>InPointArrive</td>\n",
       "      <td>-1.978450</td>\n",
       "      <td>50.718067</td>\n",
       "      <td>NaN</td>\n",
       "      <td>1.0</td>\n",
       "      <td>1280POA11809</td>\n",
       "      <td>NaN</td>\n",
       "      <td>NaN</td>\n",
       "    </tr>\n",
       "    <tr>\n",
       "      <th>21686971</th>\n",
       "      <td>267</td>\n",
       "      <td>2018-12-16 19:15:20</td>\n",
       "      <td>InPointArrive</td>\n",
       "      <td>-1.978450</td>\n",
       "      <td>50.718067</td>\n",
       "      <td>NaN</td>\n",
       "      <td>1.0</td>\n",
       "      <td>1280POA11809</td>\n",
       "      <td>NaN</td>\n",
       "      <td>NaN</td>\n",
       "    </tr>\n",
       "    <tr>\n",
       "      <th>21686972</th>\n",
       "      <td>267</td>\n",
       "      <td>2018-12-16 19:15:20</td>\n",
       "      <td>inPosition</td>\n",
       "      <td>-1.978450</td>\n",
       "      <td>50.718067</td>\n",
       "      <td>286.0</td>\n",
       "      <td>1.0</td>\n",
       "      <td>NaN</td>\n",
       "      <td>NaN</td>\n",
       "      <td>NaN</td>\n",
       "    </tr>\n",
       "    <tr>\n",
       "      <th>21686973</th>\n",
       "      <td>267</td>\n",
       "      <td>2018-12-16 19:15:37</td>\n",
       "      <td>inPosition</td>\n",
       "      <td>-1.978950</td>\n",
       "      <td>50.718183</td>\n",
       "      <td>226.0</td>\n",
       "      <td>1.0</td>\n",
       "      <td>NaN</td>\n",
       "      <td>NaN</td>\n",
       "      <td>NaN</td>\n",
       "    </tr>\n",
       "    <tr>\n",
       "      <th>21686974</th>\n",
       "      <td>267</td>\n",
       "      <td>2018-12-16 19:15:53</td>\n",
       "      <td>InTripEnd</td>\n",
       "      <td>-1.978950</td>\n",
       "      <td>50.718183</td>\n",
       "      <td>226.0</td>\n",
       "      <td>1.0</td>\n",
       "      <td>NaN</td>\n",
       "      <td>NaN</td>\n",
       "      <td>NaN</td>\n",
       "    </tr>\n",
       "    <tr>\n",
       "      <th>21686975</th>\n",
       "      <td>267</td>\n",
       "      <td>2018-12-16 19:16:00</td>\n",
       "      <td>InTripStart</td>\n",
       "      <td>-1.978950</td>\n",
       "      <td>50.718183</td>\n",
       "      <td>226.0</td>\n",
       "      <td>1.0</td>\n",
       "      <td>NaN</td>\n",
       "      <td>2108.0</td>\n",
       "      <td>2105.0</td>\n",
       "    </tr>\n",
       "    <tr>\n",
       "      <th>21686976</th>\n",
       "      <td>267</td>\n",
       "      <td>2018-12-16 19:16:07</td>\n",
       "      <td>inPosition</td>\n",
       "      <td>-1.978900</td>\n",
       "      <td>50.718400</td>\n",
       "      <td>10.0</td>\n",
       "      <td>1.0</td>\n",
       "      <td>NaN</td>\n",
       "      <td>NaN</td>\n",
       "      <td>NaN</td>\n",
       "    </tr>\n",
       "    <tr>\n",
       "      <th>21686977</th>\n",
       "      <td>267</td>\n",
       "      <td>2018-12-16 19:16:36</td>\n",
       "      <td>inPosition</td>\n",
       "      <td>-1.978800</td>\n",
       "      <td>50.718467</td>\n",
       "      <td>8.0</td>\n",
       "      <td>1.0</td>\n",
       "      <td>NaN</td>\n",
       "      <td>NaN</td>\n",
       "      <td>NaN</td>\n",
       "    </tr>\n",
       "    <tr>\n",
       "      <th>21686978</th>\n",
       "      <td>267</td>\n",
       "      <td>2018-12-16 19:17:06</td>\n",
       "      <td>inPosition</td>\n",
       "      <td>-1.978717</td>\n",
       "      <td>50.718500</td>\n",
       "      <td>6.0</td>\n",
       "      <td>1.0</td>\n",
       "      <td>NaN</td>\n",
       "      <td>NaN</td>\n",
       "      <td>NaN</td>\n",
       "    </tr>\n",
       "    <tr>\n",
       "      <th>21686979</th>\n",
       "      <td>267</td>\n",
       "      <td>2018-12-16 19:17:37</td>\n",
       "      <td>inPosition</td>\n",
       "      <td>-1.978667</td>\n",
       "      <td>50.718633</td>\n",
       "      <td>186.0</td>\n",
       "      <td>1.0</td>\n",
       "      <td>NaN</td>\n",
       "      <td>NaN</td>\n",
       "      <td>NaN</td>\n",
       "    </tr>\n",
       "    <tr>\n",
       "      <th>21686980</th>\n",
       "      <td>267</td>\n",
       "      <td>2018-12-16 19:18:07</td>\n",
       "      <td>inPosition</td>\n",
       "      <td>-1.978667</td>\n",
       "      <td>50.718600</td>\n",
       "      <td>208.0</td>\n",
       "      <td>1.0</td>\n",
       "      <td>NaN</td>\n",
       "      <td>NaN</td>\n",
       "      <td>NaN</td>\n",
       "    </tr>\n",
       "    <tr>\n",
       "      <th>21686981</th>\n",
       "      <td>267</td>\n",
       "      <td>2018-12-16 19:18:37</td>\n",
       "      <td>inPosition</td>\n",
       "      <td>-1.978617</td>\n",
       "      <td>50.718600</td>\n",
       "      <td>192.0</td>\n",
       "      <td>1.0</td>\n",
       "      <td>NaN</td>\n",
       "      <td>NaN</td>\n",
       "      <td>NaN</td>\n",
       "    </tr>\n",
       "    <tr>\n",
       "      <th>21686982</th>\n",
       "      <td>267</td>\n",
       "      <td>2018-12-16 19:19:06</td>\n",
       "      <td>inPosition</td>\n",
       "      <td>-1.978617</td>\n",
       "      <td>50.718600</td>\n",
       "      <td>192.0</td>\n",
       "      <td>1.0</td>\n",
       "      <td>NaN</td>\n",
       "      <td>NaN</td>\n",
       "      <td>NaN</td>\n",
       "    </tr>\n",
       "    <tr>\n",
       "      <th>21686983</th>\n",
       "      <td>267</td>\n",
       "      <td>2018-12-16 19:19:37</td>\n",
       "      <td>inPosition</td>\n",
       "      <td>-1.978583</td>\n",
       "      <td>50.718650</td>\n",
       "      <td>8.0</td>\n",
       "      <td>1.0</td>\n",
       "      <td>NaN</td>\n",
       "      <td>NaN</td>\n",
       "      <td>NaN</td>\n",
       "    </tr>\n",
       "    <tr>\n",
       "      <th>21686984</th>\n",
       "      <td>267</td>\n",
       "      <td>2018-12-16 19:20:06</td>\n",
       "      <td>inPosition</td>\n",
       "      <td>-1.978583</td>\n",
       "      <td>50.718650</td>\n",
       "      <td>8.0</td>\n",
       "      <td>1.0</td>\n",
       "      <td>NaN</td>\n",
       "      <td>NaN</td>\n",
       "      <td>NaN</td>\n",
       "    </tr>\n",
       "    <tr>\n",
       "      <th>21686985</th>\n",
       "      <td>267</td>\n",
       "      <td>2018-12-16 19:20:37</td>\n",
       "      <td>inPosition</td>\n",
       "      <td>-1.978633</td>\n",
       "      <td>50.718700</td>\n",
       "      <td>334.0</td>\n",
       "      <td>1.0</td>\n",
       "      <td>NaN</td>\n",
       "      <td>NaN</td>\n",
       "      <td>NaN</td>\n",
       "    </tr>\n",
       "    <tr>\n",
       "      <th>21686986</th>\n",
       "      <td>267</td>\n",
       "      <td>2018-12-16 19:21:06</td>\n",
       "      <td>inPosition</td>\n",
       "      <td>-1.979900</td>\n",
       "      <td>50.719750</td>\n",
       "      <td>28.0</td>\n",
       "      <td>1.0</td>\n",
       "      <td>NaN</td>\n",
       "      <td>NaN</td>\n",
       "      <td>NaN</td>\n",
       "    </tr>\n",
       "    <tr>\n",
       "      <th>21686987</th>\n",
       "      <td>267</td>\n",
       "      <td>2018-12-16 19:21:20</td>\n",
       "      <td>InPointArrive</td>\n",
       "      <td>-1.979133</td>\n",
       "      <td>50.719733</td>\n",
       "      <td>NaN</td>\n",
       "      <td>1.0</td>\n",
       "      <td>1280POA11415</td>\n",
       "      <td>NaN</td>\n",
       "      <td>NaN</td>\n",
       "    </tr>\n",
       "    <tr>\n",
       "      <th>21686988</th>\n",
       "      <td>267</td>\n",
       "      <td>2018-12-16 19:21:25</td>\n",
       "      <td>InPointDepart</td>\n",
       "      <td>-1.978733</td>\n",
       "      <td>50.719867</td>\n",
       "      <td>NaN</td>\n",
       "      <td>1.0</td>\n",
       "      <td>1280POA11415</td>\n",
       "      <td>NaN</td>\n",
       "      <td>NaN</td>\n",
       "    </tr>\n",
       "    <tr>\n",
       "      <th>21686989</th>\n",
       "      <td>267</td>\n",
       "      <td>2018-12-16 19:21:37</td>\n",
       "      <td>inPosition</td>\n",
       "      <td>-1.977883</td>\n",
       "      <td>50.720200</td>\n",
       "      <td>48.0</td>\n",
       "      <td>1.0</td>\n",
       "      <td>NaN</td>\n",
       "      <td>NaN</td>\n",
       "      <td>NaN</td>\n",
       "    </tr>\n",
       "    <tr>\n",
       "      <th>21686990</th>\n",
       "      <td>267</td>\n",
       "      <td>2018-12-16 19:22:06</td>\n",
       "      <td>inPosition</td>\n",
       "      <td>-1.977767</td>\n",
       "      <td>50.720217</td>\n",
       "      <td>88.0</td>\n",
       "      <td>1.0</td>\n",
       "      <td>NaN</td>\n",
       "      <td>NaN</td>\n",
       "      <td>NaN</td>\n",
       "    </tr>\n",
       "    <tr>\n",
       "      <th>21686991</th>\n",
       "      <td>267</td>\n",
       "      <td>2018-12-16 19:22:36</td>\n",
       "      <td>inPosition</td>\n",
       "      <td>-1.975517</td>\n",
       "      <td>50.721217</td>\n",
       "      <td>52.0</td>\n",
       "      <td>1.0</td>\n",
       "      <td>NaN</td>\n",
       "      <td>NaN</td>\n",
       "      <td>NaN</td>\n",
       "    </tr>\n",
       "    <tr>\n",
       "      <th>21686992</th>\n",
       "      <td>267</td>\n",
       "      <td>2018-12-16 19:22:38</td>\n",
       "      <td>InPointArrive</td>\n",
       "      <td>-1.975317</td>\n",
       "      <td>50.721300</td>\n",
       "      <td>NaN</td>\n",
       "      <td>1.0</td>\n",
       "      <td>1280POA11417</td>\n",
       "      <td>NaN</td>\n",
       "      <td>NaN</td>\n",
       "    </tr>\n",
       "    <tr>\n",
       "      <th>21686993</th>\n",
       "      <td>267</td>\n",
       "      <td>2018-12-16 19:22:44</td>\n",
       "      <td>InPointDepart</td>\n",
       "      <td>-1.974750</td>\n",
       "      <td>50.721583</td>\n",
       "      <td>NaN</td>\n",
       "      <td>1.0</td>\n",
       "      <td>1280POA11417</td>\n",
       "      <td>NaN</td>\n",
       "      <td>NaN</td>\n",
       "    </tr>\n",
       "    <tr>\n",
       "      <th>21686994</th>\n",
       "      <td>267</td>\n",
       "      <td>2018-12-16 19:23:06</td>\n",
       "      <td>InPointArrive</td>\n",
       "      <td>-1.972550</td>\n",
       "      <td>50.722617</td>\n",
       "      <td>NaN</td>\n",
       "      <td>1.0</td>\n",
       "      <td>1280POA11419</td>\n",
       "      <td>NaN</td>\n",
       "      <td>NaN</td>\n",
       "    </tr>\n",
       "    <tr>\n",
       "      <th>21686995</th>\n",
       "      <td>267</td>\n",
       "      <td>2018-12-16 19:23:07</td>\n",
       "      <td>inPosition</td>\n",
       "      <td>-1.972550</td>\n",
       "      <td>50.722617</td>\n",
       "      <td>50.0</td>\n",
       "      <td>1.0</td>\n",
       "      <td>NaN</td>\n",
       "      <td>NaN</td>\n",
       "      <td>NaN</td>\n",
       "    </tr>\n",
       "    <tr>\n",
       "      <th>21686996</th>\n",
       "      <td>267</td>\n",
       "      <td>2018-12-16 19:23:11</td>\n",
       "      <td>InPointDepart</td>\n",
       "      <td>-1.972050</td>\n",
       "      <td>50.722850</td>\n",
       "      <td>NaN</td>\n",
       "      <td>1.0</td>\n",
       "      <td>1280POA11419</td>\n",
       "      <td>NaN</td>\n",
       "      <td>NaN</td>\n",
       "    </tr>\n",
       "    <tr>\n",
       "      <th>21686997</th>\n",
       "      <td>267</td>\n",
       "      <td>2018-12-16 19:23:28</td>\n",
       "      <td>InPointArrive</td>\n",
       "      <td>-1.970383</td>\n",
       "      <td>50.723650</td>\n",
       "      <td>NaN</td>\n",
       "      <td>1.0</td>\n",
       "      <td>1280POA11421</td>\n",
       "      <td>NaN</td>\n",
       "      <td>NaN</td>\n",
       "    </tr>\n",
       "    <tr>\n",
       "      <th>21686998</th>\n",
       "      <td>267</td>\n",
       "      <td>2018-12-16 19:23:34</td>\n",
       "      <td>InPointDepart</td>\n",
       "      <td>-1.969783</td>\n",
       "      <td>50.723950</td>\n",
       "      <td>NaN</td>\n",
       "      <td>1.0</td>\n",
       "      <td>1280POA11421</td>\n",
       "      <td>NaN</td>\n",
       "      <td>NaN</td>\n",
       "    </tr>\n",
       "    <tr>\n",
       "      <th>21686999</th>\n",
       "      <td>267</td>\n",
       "      <td>2018-12-16 19:23:37</td>\n",
       "      <td>inPosition</td>\n",
       "      <td>-1.969567</td>\n",
       "      <td>50.724050</td>\n",
       "      <td>52.0</td>\n",
       "      <td>1.0</td>\n",
       "      <td>NaN</td>\n",
       "      <td>NaN</td>\n",
       "      <td>NaN</td>\n",
       "    </tr>\n",
       "  </tbody>\n",
       "</table>\n",
       "<p>21687000 rows × 10 columns</p>\n",
       "</div>"
      ],
      "text/plain": [
       "          vehicle        timeReported            msg       lon        lat  \\\n",
       "0             113 2018-09-18 07:26:16     inPosition -1.836883  50.753617   \n",
       "1             113 2018-09-18 07:26:46     inPosition -1.836883  50.753600   \n",
       "2             113 2018-09-18 07:27:16     inPosition -1.836883  50.753600   \n",
       "3             113 2018-09-18 07:27:46     inPosition -1.836933  50.753600   \n",
       "4             113 2018-09-18 07:28:16     inPosition -1.836967  50.753617   \n",
       "5             113 2018-09-18 07:28:46     inPosition -1.837000  50.753617   \n",
       "6             113 2018-09-18 07:29:16     inPosition -1.837083  50.753600   \n",
       "7             113 2018-09-18 07:29:46     inPosition -1.837083  50.753617   \n",
       "8             113 2018-09-18 07:30:16     inPosition -1.837050  50.753633   \n",
       "9             113 2018-09-18 07:30:46     inPosition -1.837067  50.753617   \n",
       "10            113 2018-09-18 07:31:14     inPosition -1.837033  50.753633   \n",
       "11            113 2018-09-18 07:31:44     inPosition -1.837000  50.753667   \n",
       "12            113 2018-09-18 07:32:14     inPosition -1.837017  50.753683   \n",
       "13            113 2018-09-18 07:32:44     inPosition -1.837000  50.753683   \n",
       "14            113 2018-09-18 07:33:14     inPosition -1.836983  50.753700   \n",
       "15            113 2018-09-18 07:33:44     inPosition -1.836983  50.753683   \n",
       "16            113 2018-09-18 07:34:14     inPosition -1.836967  50.753667   \n",
       "17            113 2018-09-18 07:34:44     inPosition -1.836933  50.753650   \n",
       "18            113 2018-09-18 07:35:14     inPosition -1.836883  50.753683   \n",
       "19            113 2018-09-18 07:35:44     inPosition -1.836850  50.753667   \n",
       "20            113 2018-09-18 07:36:14     inPosition -1.836850  50.753650   \n",
       "21            113 2018-09-18 07:36:44     inPosition -1.836850  50.753667   \n",
       "22            113 2018-09-18 07:37:14     inPosition -1.836833  50.753667   \n",
       "23            113 2018-09-18 07:37:44     inPosition -1.836850  50.753650   \n",
       "24            113 2018-09-18 07:38:14     inPosition -1.836833  50.753650   \n",
       "25            113 2018-09-18 07:38:44     inPosition -1.837083  50.753783   \n",
       "26            113 2018-09-18 07:39:14     inPosition -1.837733  50.753350   \n",
       "27            113 2018-09-18 07:39:44     inPosition -1.841850  50.754550   \n",
       "28            113 2018-09-18 07:40:14     inPosition -1.843983  50.753850   \n",
       "29            113 2018-09-18 07:40:44     inPosition -1.845400  50.752200   \n",
       "...           ...                 ...            ...       ...        ...   \n",
       "21686970      267 2018-12-16 19:15:20  InPointArrive -1.978450  50.718067   \n",
       "21686971      267 2018-12-16 19:15:20  InPointArrive -1.978450  50.718067   \n",
       "21686972      267 2018-12-16 19:15:20     inPosition -1.978450  50.718067   \n",
       "21686973      267 2018-12-16 19:15:37     inPosition -1.978950  50.718183   \n",
       "21686974      267 2018-12-16 19:15:53      InTripEnd -1.978950  50.718183   \n",
       "21686975      267 2018-12-16 19:16:00    InTripStart -1.978950  50.718183   \n",
       "21686976      267 2018-12-16 19:16:07     inPosition -1.978900  50.718400   \n",
       "21686977      267 2018-12-16 19:16:36     inPosition -1.978800  50.718467   \n",
       "21686978      267 2018-12-16 19:17:06     inPosition -1.978717  50.718500   \n",
       "21686979      267 2018-12-16 19:17:37     inPosition -1.978667  50.718633   \n",
       "21686980      267 2018-12-16 19:18:07     inPosition -1.978667  50.718600   \n",
       "21686981      267 2018-12-16 19:18:37     inPosition -1.978617  50.718600   \n",
       "21686982      267 2018-12-16 19:19:06     inPosition -1.978617  50.718600   \n",
       "21686983      267 2018-12-16 19:19:37     inPosition -1.978583  50.718650   \n",
       "21686984      267 2018-12-16 19:20:06     inPosition -1.978583  50.718650   \n",
       "21686985      267 2018-12-16 19:20:37     inPosition -1.978633  50.718700   \n",
       "21686986      267 2018-12-16 19:21:06     inPosition -1.979900  50.719750   \n",
       "21686987      267 2018-12-16 19:21:20  InPointArrive -1.979133  50.719733   \n",
       "21686988      267 2018-12-16 19:21:25  InPointDepart -1.978733  50.719867   \n",
       "21686989      267 2018-12-16 19:21:37     inPosition -1.977883  50.720200   \n",
       "21686990      267 2018-12-16 19:22:06     inPosition -1.977767  50.720217   \n",
       "21686991      267 2018-12-16 19:22:36     inPosition -1.975517  50.721217   \n",
       "21686992      267 2018-12-16 19:22:38  InPointArrive -1.975317  50.721300   \n",
       "21686993      267 2018-12-16 19:22:44  InPointDepart -1.974750  50.721583   \n",
       "21686994      267 2018-12-16 19:23:06  InPointArrive -1.972550  50.722617   \n",
       "21686995      267 2018-12-16 19:23:07     inPosition -1.972550  50.722617   \n",
       "21686996      267 2018-12-16 19:23:11  InPointDepart -1.972050  50.722850   \n",
       "21686997      267 2018-12-16 19:23:28  InPointArrive -1.970383  50.723650   \n",
       "21686998      267 2018-12-16 19:23:34  InPointDepart -1.969783  50.723950   \n",
       "21686999      267 2018-12-16 19:23:37     inPosition -1.969567  50.724050   \n",
       "\n",
       "          bearing  isValid      stopCode  workCode  tripCode  \n",
       "0           192.0      1.0           NaN       NaN       NaN  \n",
       "1           192.0      1.0           NaN       NaN       NaN  \n",
       "2           192.0      1.0           NaN       NaN       NaN  \n",
       "3           192.0      1.0           NaN       NaN       NaN  \n",
       "4           192.0      1.0           NaN       NaN       NaN  \n",
       "5           192.0      1.0           NaN       NaN       NaN  \n",
       "6           192.0      1.0           NaN       NaN       NaN  \n",
       "7           192.0      1.0           NaN       NaN       NaN  \n",
       "8           192.0      1.0           NaN       NaN       NaN  \n",
       "9           192.0      1.0           NaN       NaN       NaN  \n",
       "10          192.0      1.0           NaN       NaN       NaN  \n",
       "11          192.0      1.0           NaN       NaN       NaN  \n",
       "12          192.0      1.0           NaN       NaN       NaN  \n",
       "13          192.0      1.0           NaN       NaN       NaN  \n",
       "14          192.0      1.0           NaN       NaN       NaN  \n",
       "15          192.0      1.0           NaN       NaN       NaN  \n",
       "16          192.0      1.0           NaN       NaN       NaN  \n",
       "17          192.0      1.0           NaN       NaN       NaN  \n",
       "18          192.0      1.0           NaN       NaN       NaN  \n",
       "19          192.0      1.0           NaN       NaN       NaN  \n",
       "20          192.0      1.0           NaN       NaN       NaN  \n",
       "21          192.0      1.0           NaN       NaN       NaN  \n",
       "22          192.0      1.0           NaN       NaN       NaN  \n",
       "23          192.0      1.0           NaN       NaN       NaN  \n",
       "24          192.0      1.0           NaN       NaN       NaN  \n",
       "25          312.0      1.0           NaN       NaN       NaN  \n",
       "26          258.0      1.0           NaN       NaN       NaN  \n",
       "27          270.0      1.0           NaN       NaN       NaN  \n",
       "28          220.0      1.0           NaN       NaN       NaN  \n",
       "29          192.0      1.0           NaN       NaN       NaN  \n",
       "...           ...      ...           ...       ...       ...  \n",
       "21686970      NaN      1.0  1280POA11809       NaN       NaN  \n",
       "21686971      NaN      1.0  1280POA11809       NaN       NaN  \n",
       "21686972    286.0      1.0           NaN       NaN       NaN  \n",
       "21686973    226.0      1.0           NaN       NaN       NaN  \n",
       "21686974    226.0      1.0           NaN       NaN       NaN  \n",
       "21686975    226.0      1.0           NaN    2108.0    2105.0  \n",
       "21686976     10.0      1.0           NaN       NaN       NaN  \n",
       "21686977      8.0      1.0           NaN       NaN       NaN  \n",
       "21686978      6.0      1.0           NaN       NaN       NaN  \n",
       "21686979    186.0      1.0           NaN       NaN       NaN  \n",
       "21686980    208.0      1.0           NaN       NaN       NaN  \n",
       "21686981    192.0      1.0           NaN       NaN       NaN  \n",
       "21686982    192.0      1.0           NaN       NaN       NaN  \n",
       "21686983      8.0      1.0           NaN       NaN       NaN  \n",
       "21686984      8.0      1.0           NaN       NaN       NaN  \n",
       "21686985    334.0      1.0           NaN       NaN       NaN  \n",
       "21686986     28.0      1.0           NaN       NaN       NaN  \n",
       "21686987      NaN      1.0  1280POA11415       NaN       NaN  \n",
       "21686988      NaN      1.0  1280POA11415       NaN       NaN  \n",
       "21686989     48.0      1.0           NaN       NaN       NaN  \n",
       "21686990     88.0      1.0           NaN       NaN       NaN  \n",
       "21686991     52.0      1.0           NaN       NaN       NaN  \n",
       "21686992      NaN      1.0  1280POA11417       NaN       NaN  \n",
       "21686993      NaN      1.0  1280POA11417       NaN       NaN  \n",
       "21686994      NaN      1.0  1280POA11419       NaN       NaN  \n",
       "21686995     50.0      1.0           NaN       NaN       NaN  \n",
       "21686996      NaN      1.0  1280POA11419       NaN       NaN  \n",
       "21686997      NaN      1.0  1280POA11421       NaN       NaN  \n",
       "21686998      NaN      1.0  1280POA11421       NaN       NaN  \n",
       "21686999     52.0      1.0           NaN       NaN       NaN  \n",
       "\n",
       "[21687000 rows x 10 columns]"
      ]
     },
     "execution_count": 5,
     "metadata": {},
     "output_type": "execute_result"
    }
   ],
   "source": [
    "messages"
   ]
  },
  {
   "cell_type": "code",
   "execution_count": 6,
   "metadata": {},
   "outputs": [],
   "source": [
    "messages['delta_time'] = messages['timeReported'] - messages.shift(1)['timeReported']\n",
    "messages['time_seconds'] = messages['delta_time'] / np.timedelta64(1, 's')"
   ]
  },
  {
   "cell_type": "code",
   "execution_count": 7,
   "metadata": {},
   "outputs": [
    {
     "name": "stderr",
     "output_type": "stream",
     "text": [
      "/Users/tommelamed/.local/lib/python3.7/site-packages/numpy/lib/histograms.py:824: RuntimeWarning: invalid value encountered in greater_equal\n",
      "  keep = (tmp_a >= first_edge)\n",
      "/Users/tommelamed/.local/lib/python3.7/site-packages/numpy/lib/histograms.py:825: RuntimeWarning: invalid value encountered in less_equal\n",
      "  keep &= (tmp_a <= last_edge)\n"
     ]
    },
    {
     "data": {
      "image/png": "[encoded data removed]",
      "text/plain": [
       "<Figure size 432x288 with 1 Axes>"
      ]
     },
     "metadata": {
      "needs_background": "light"
     },
     "output_type": "display_data"
    }
   ],
   "source": [
    "plt.hist((messages['delta_time'] / np.timedelta64(1, 's')).values, bins=100, range=(-10, 300));\n",
    "plt.yscale(\"log\")\n",
    "plt.show()"
   ]
  },
  {
   "cell_type": "code",
   "execution_count": 8,
   "metadata": {},
   "outputs": [
    {
     "name": "stdout",
     "output_type": "stream",
     "text": [
      "Fraction under 31 seconds: 0.9922608936229077\n",
      "Between 20 and 31 seconds: 0.4860636787015263\n",
      "Between 10 and 31 seconds: 0.6677617927790842\n",
      "Between 5 and 31 seconds: 0.7985293032692397\n"
     ]
    }
   ],
   "source": [
    "print(f\"Fraction under 31 seconds: {np.count_nonzero(messages['time_seconds'] < 31)/messages.shape[0]}\")\n",
    "      \n",
    "print(f\"Between 20 and 31 seconds: {np.count_nonzero((messages['time_seconds'] < 31) & (messages['time_seconds'] > 20))/messages.shape[0]}\")\n",
    "      \n",
    "print(f\"Between 10 and 31 seconds: {np.count_nonzero((messages['time_seconds'] < 31) & (messages['time_seconds'] > 10))/messages.shape[0]}\")\n",
    "      \n",
    "print(f\"Between 5 and 31 seconds: {np.count_nonzero((messages['time_seconds'] < 31) & (messages['time_seconds'] > 5))/messages.shape[0]}\")\n",
    "      "
   ]
  },
  {
   "cell_type": "code",
   "execution_count": 9,
   "metadata": {},
   "outputs": [],
   "source": [
    "messages['delta_lon'] = messages['lon'] - messages.shift(1)['lon']\n",
    "messages['delta_lat'] = messages['lat'] - messages.shift(1)['lat']"
   ]
  },
  {
   "cell_type": "code",
   "execution_count": 10,
   "metadata": {},
   "outputs": [
    {
     "data": {
      "text/plain": [
       "array(['inPosition', 'InTripEnd', 'InTripStart', 'InPointArrive',\n",
       "       'InPointDepart'], dtype=object)"
      ]
     },
     "execution_count": 10,
     "metadata": {},
     "output_type": "execute_result"
    }
   ],
   "source": [
    "messages['msg'].unique()"
   ]
  },
  {
   "cell_type": "code",
   "execution_count": 11,
   "metadata": {},
   "outputs": [],
   "source": [
    "def haversine_np(lon1, lat1, lon2, lat2):\n",
    "    \"\"\"\n",
    "    Calculate the great circle distance between two points\n",
    "    on the earth (specified in decimal degrees)\n",
    "\n",
    "    All args must be of equal length.    \n",
    "\n",
    "    \"\"\"\n",
    "    lon1, lat1, lon2, lat2 = map(np.radians, [lon1, lat1, lon2, lat2])\n",
    "\n",
    "    dlon = lon2 - lon1\n",
    "    dlat = lat2 - lat1\n",
    "\n",
    "    a = np.sin(dlat/2.0)**2 + np.cos(lat1) * np.cos(lat2) * np.sin(dlon/2.0)**2\n",
    "\n",
    "    c = 2 * np.arcsin(np.sqrt(a))\n",
    "    km = 6367 * c\n",
    "    return km"
   ]
  },
  {
   "cell_type": "code",
   "execution_count": 12,
   "metadata": {},
   "outputs": [],
   "source": [
    "messages['delta_distance'] = haversine_np(messages['lon'], messages['lat'], messages['lon'].shift(1), messages['lat'].shift(1)) * 1000"
   ]
  },
  {
   "cell_type": "code",
   "execution_count": 13,
   "metadata": {},
   "outputs": [],
   "source": [
    "messages['delta_speed'] = messages['delta_distance']/(messages['delta_time'] / np.timedelta64(1, 's'))"
   ]
  },
  {
   "cell_type": "code",
   "execution_count": 14,
   "metadata": {},
   "outputs": [],
   "source": [
    "messages['speed_mph'] = messages['delta_speed'] * 2.237"
   ]
  },
  {
   "cell_type": "code",
   "execution_count": 15,
   "metadata": {},
   "outputs": [
    {
     "data": {
      "image/png": "[encoded data removed]",
      "text/plain": [
       "<Figure size 432x288 with 1 Axes>"
      ]
     },
     "metadata": {
      "needs_background": "light"
     },
     "output_type": "display_data"
    }
   ],
   "source": [
    "plt.hist(messages[(messages['msg'].isin(['inPosition', 'InPointArrive'])) & (messages['time_seconds'] < 31) & (messages['time_seconds'] > 20)]['speed_mph'], bins=100, range=(-10,400));\n",
    "plt.yscale(\"log\")"
   ]
  },
  {
   "cell_type": "code",
   "execution_count": 16,
   "metadata": {},
   "outputs": [
    {
     "data": {
      "image/png": "[encoded data removed]",
      "text/plain": [
       "<Figure size 432x288 with 1 Axes>"
      ]
     },
     "metadata": {
      "needs_background": "light"
     },
     "output_type": "display_data"
    }
   ],
   "source": [
    "plt.hist(messages[(messages['msg'].isin(['inPosition', 'InPointArrive'])) & (messages['time_seconds'] < 31) & (messages['time_seconds'] > 5)]['speed_mph'], bins=100, range=(-10,400));\n",
    "plt.yscale(\"log\")"
   ]
  },
  {
   "cell_type": "code",
   "execution_count": 17,
   "metadata": {},
   "outputs": [
    {
     "data": {
      "text/plain": [
       "<matplotlib.legend.Legend at 0x1a5053b1d0>"
      ]
     },
     "execution_count": 17,
     "metadata": {},
     "output_type": "execute_result"
    },
    {
     "data": {
      "image/png": "[encoded data removed]",
      "text/plain": [
       "<Figure size 432x288 with 1 Axes>"
      ]
     },
     "metadata": {
      "needs_background": "light"
     },
     "output_type": "display_data"
    }
   ],
   "source": [
    "plt.hist(messages[(messages['msg'].isin(['inPosition', 'InPointArrive'])) & (messages['time_seconds'] < 31) & (messages['time_seconds'] > 5)]['speed_mph'], bins=100, range=(-10,400), label=\"5\");\n",
    "plt.hist(messages[(messages['msg'].isin(['inPosition', 'InPointArrive'])) & (messages['time_seconds'] < 31) & (messages['time_seconds'] > 10)]['speed_mph'], bins=100, range=(-10,400), label=\"10\", alpha=0.5);\n",
    "plt.hist(messages[(messages['msg'].isin(['inPosition', 'InPointArrive'])) & (messages['time_seconds'] < 31) & (messages['time_seconds'] > 20)]['speed_mph'], bins=100, range=(-10,400), label=\"20\", alpha=0.5);\n",
    "plt.yscale(\"log\")\n",
    "plt.legend()"
   ]
  },
  {
   "cell_type": "code",
   "execution_count": 18,
   "metadata": {},
   "outputs": [],
   "source": [
    "messages['prev_speed_mph'] = messages.shift(1)['speed_mph']\n",
    "messages['next_speed_mph'] = messages.shift(-1)['speed_mph']"
   ]
  },
  {
   "cell_type": "code",
   "execution_count": 19,
   "metadata": {},
   "outputs": [],
   "source": [
    "messages['jitter'] = [False]*messages.shape[0]\n",
    "\n",
    "messages['jitter'] = (messages['speed_mph'] > 75) & \\\n",
    "    (((messages['prev_speed_mph'] > 75) & (messages['next_speed_mph'] < 50)) | \\\n",
    "     ((messages['next_speed_mph'] > 75) & (messages['prev_speed_mph'] < 50)))"
   ]
  },
  {
   "cell_type": "code",
   "execution_count": 20,
   "metadata": {},
   "outputs": [],
   "source": [
    "filtered = messages[(messages['msg'].isin(['inPosition', 'InPointArrive'])) & (messages['time_seconds'] < 31) & (messages['time_seconds'] > 5) & (messages['jitter'] == False) & (messages['speed_mph'] != np.inf)]\n"
   ]
  },
  {
   "cell_type": "code",
   "execution_count": 21,
   "metadata": {},
   "outputs": [
    {
     "data": {
      "image/png": "[encoded data removed]",
      "text/plain": [
       "<Figure size 432x288 with 1 Axes>"
      ]
     },
     "metadata": {
      "needs_background": "light"
     },
     "output_type": "display_data"
    }
   ],
   "source": [
    "plt.hist(filtered['speed_mph'], bins=100, range=(0,75));\n",
    "plt.yscale(\"log\")"
   ]
  },
  {
   "cell_type": "code",
   "execution_count": 22,
   "metadata": {},
   "outputs": [],
   "source": [
    "hourly_averages = filtered.groupby(filtered['timeReported'].dt.hour).mean()"
   ]
  },
  {
   "cell_type": "code",
   "execution_count": 23,
   "metadata": {},
   "outputs": [
    {
     "data": {
      "text/plain": [
       "<matplotlib.collections.PathCollection at 0x1a514ac5c0>"
      ]
     },
     "execution_count": 23,
     "metadata": {},
     "output_type": "execute_result"
    },
    {
     "data": {
      "image/png": "[encoded data removed]",
      "text/plain": [
       "<Figure size 432x288 with 1 Axes>"
      ]
     },
     "metadata": {
      "needs_background": "light"
     },
     "output_type": "display_data"
    }
   ],
   "source": [
    "plt.scatter(hourly_averages.index, hourly_averages['speed_mph'])"
   ]
  },
  {
   "cell_type": "code",
   "execution_count": 24,
   "metadata": {},
   "outputs": [
    {
     "name": "stderr",
     "output_type": "stream",
     "text": [
      "/Users/tommelamed/anaconda3/envs/busses/lib/python3.7/site-packages/ipykernel_launcher.py:1: SettingWithCopyWarning: \n",
      "A value is trying to be set on a copy of a slice from a DataFrame.\n",
      "Try using .loc[row_indexer,col_indexer] = value instead\n",
      "\n",
      "See the caveats in the documentation: http://pandas.pydata.org/pandas-docs/stable/indexing.html#indexing-view-versus-copy\n",
      "  \"\"\"Entry point for launching an IPython kernel.\n"
     ]
    }
   ],
   "source": [
    "filtered['segment_name'] = filtered['stopCode'].fillna(method=\"ffill\") + \"_\" + filtered['stopCode'].fillna(method=\"bfill\") "
   ]
  },
  {
   "cell_type": "code",
   "execution_count": 25,
   "metadata": {},
   "outputs": [],
   "source": [
    "# pop_segments = filtered.groupby('segment_name').count()"
   ]
  },
  {
   "cell_type": "code",
   "execution_count": 26,
   "metadata": {},
   "outputs": [],
   "source": [
    "# popular_segment_names = pop_segments.sort_values('isValid', ascending=False).index"
   ]
  },
  {
   "cell_type": "code",
   "execution_count": 27,
   "metadata": {},
   "outputs": [],
   "source": [
    "# plt.hist(filtered[filtered['segment_name'] == \"1290BOB20384_1290BOB20449\"]['speed_mph'], bins=100, range=(0,75));"
   ]
  },
  {
   "cell_type": "code",
   "execution_count": 28,
   "metadata": {},
   "outputs": [],
   "source": [
    "def cal_stats():\n",
    "    \n",
    "    segments = filtered.groupby('segment_name')\n",
    "    \n",
    "    all_stats = []\n",
    "    \n",
    "    for segment_name, segment in tqdm(segments):\n",
    "        \n",
    "        hours = []\n",
    "        slow_percent = []\n",
    "        fast_hmean = []\n",
    "        fast_mean = []\n",
    "        total_mean = []\n",
    "        clipped_hmean = []\n",
    "        clipped_mean = []\n",
    "        freq_list = []\n",
    "        seg_name = []\n",
    "        \n",
    "        segment_weeks = segment[segment['timeReported'].dt.dayofweek < 5]\n",
    "        \n",
    "        for hour, relevant in segment_weeks.groupby(segment_weeks['timeReported'].dt.hour):\n",
    "\n",
    "            hours.append(hour)\n",
    "            seg_name.append(segment_name)\n",
    "\n",
    "#             relevant = segment[(segment['timeReported'].dt.hour == i) & (segment['timeReported'].dt.dayofweek < 5)]\n",
    "#             if len(relevant) == 0:\n",
    "#                 slow_percent.append(0)\n",
    "#                 fast_hmean.append(0)\n",
    "#                 fast_mean.append(0)\n",
    "#                 total_mean.append(0)\n",
    "#                 clipped_hmean.append(0)\n",
    "#                 clipped_mean.append(0)\n",
    "#                 freq_list.append(0)\n",
    "#                 continue\n",
    "\n",
    "            slow_count = np.count_nonzero(relevant['speed_mph'] < 3)\n",
    "            fast = relevant[(relevant['speed_mph'] > 3)]['speed_mph'].values\n",
    "            clipped = relevant[(relevant['speed_mph'] > 3) & (relevant['speed_mph'] < 31)]['speed_mph'].values\n",
    "\n",
    "            slow_percent.append(slow_count/len(relevant))\n",
    "            fast_hmean.append(hmean(fast))\n",
    "            fast_mean.append(np.mean(fast))\n",
    "            total_mean.append(np.mean(relevant['speed_mph']))\n",
    "            clipped_hmean.append(hmean(clipped))\n",
    "            clipped_mean.append(np.mean(clipped))\n",
    "            freq_list.append(len(relevant))\n",
    "\n",
    "        all_stats.append(pd.DataFrame(index=hours, data={'hours':hours, 'slow_fraction':slow_percent, \n",
    "                                                  'fast_mean':fast_mean, 'total_mean':total_mean, \n",
    "                                                  'clipped_hmean':clipped_hmean, 'clipped_mean':clipped_mean,\n",
    "                                                  'freq':freq_list, 'fast_hmean':fast_hmean, 'seg_name':seg_name }))\n",
    "        \n",
    "    return pd.concat(all_stats)\n",
    "        "
   ]
  },
  {
   "cell_type": "code",
   "execution_count": 29,
   "metadata": {},
   "outputs": [
    {
     "data": {
      "application/vnd.jupyter.widget-view+json": {
       "model_id": "cd6423ec619a4765853cca47b17c50cf",
       "version_major": 2,
       "version_minor": 0
      },
      "text/plain": [
       "HBox(children=(IntProgress(value=0, max=18057), HTML(value='')))"
      ]
     },
     "metadata": {},
     "output_type": "display_data"
    },
    {
     "name": "stderr",
     "output_type": "stream",
     "text": [
      "/Users/tommelamed/anaconda3/envs/busses/lib/python3.7/site-packages/scipy/stats/stats.py:377: RuntimeWarning: invalid value encountered in double_scalars\n",
      "  return size / np.sum(1.0 / a, axis=axis, dtype=dtype)\n",
      "/Users/tommelamed/.local/lib/python3.7/site-packages/numpy/core/fromnumeric.py:3118: RuntimeWarning: Mean of empty slice.\n",
      "  out=out, **kwargs)\n",
      "/Users/tommelamed/.local/lib/python3.7/site-packages/numpy/core/_methods.py:85: RuntimeWarning: invalid value encountered in double_scalars\n",
      "  ret = ret.dtype.type(ret / rcount)\n"
     ]
    },
    {
     "name": "stdout",
     "output_type": "stream",
     "text": [
      "\n"
     ]
    }
   ],
   "source": [
    "all_stats_df = cal_stats()"
   ]
  },
  {
   "cell_type": "code",
   "execution_count": 30,
   "metadata": {},
   "outputs": [],
   "source": [
    "# all_stats_df"
   ]
  },
  {
   "cell_type": "code",
   "execution_count": null,
   "metadata": {},
   "outputs": [],
   "source": []
  },
  {
   "cell_type": "code",
   "execution_count": 31,
   "metadata": {},
   "outputs": [],
   "source": [
    "se['speed_mph'] = se['line_distance']*1000/se['segment_duration'] * 2.237"
   ]
  },
  {
   "cell_type": "code",
   "execution_count": 32,
   "metadata": {},
   "outputs": [
    {
     "data": {
      "image/png": "[encoded data removed]",
      "text/plain": [
       "<Figure size 432x288 with 1 Axes>"
      ]
     },
     "metadata": {
      "needs_background": "light"
     },
     "output_type": "display_data"
    }
   ],
   "source": [
    "plt.hist(se['speed_mph'], range=(0, 60), bins=61);"
   ]
  },
  {
   "cell_type": "code",
   "execution_count": 33,
   "metadata": {},
   "outputs": [],
   "source": [
    "se['mean_speed_mph_by_segment_code'] = se['line_distance']*1000/se['mean_durations_by_segment_code'] * 2.237\n",
    "\n",
    "se['mean_speed_mph_by_segment_code_hour'] = se['line_distance']*1000/se['mean_durations_by_segment_code_and_hour'] * 2.237\n",
    "\n",
    "se['speed_mph_diff_mean_to_hour'] = se['mean_speed_mph_by_segment_code_hour'] - se['mean_speed_mph_by_segment_code']\n"
   ]
  },
  {
   "cell_type": "code",
   "execution_count": 34,
   "metadata": {},
   "outputs": [],
   "source": [
    "just_one = se[se['arrival_day'] < 5].groupby([\"segment_name\", \"arrival_hour\"]).first()"
   ]
  },
  {
   "cell_type": "code",
   "execution_count": 35,
   "metadata": {},
   "outputs": [],
   "source": [
    "just_one = just_one.reset_index().merge(all_stats_df, left_on=['segment_name','arrival_hour'], right_on=['seg_name','hours']) # .set_index(['segment_name','arrival_hour'])\n",
    "\n",
    "just_one = just_one.dropna(axis=0)"
   ]
  },
  {
   "cell_type": "code",
   "execution_count": 77,
   "metadata": {},
   "outputs": [],
   "source": [
    "data_to_fit = just_one[['slow_fraction', 'fast_mean', 'total_mean',\n",
    "                        'clipped_hmean','clipped_mean','freq',\n",
    "                        'fast_hmean', 'line_distance', ]].values\n",
    "#                         'direction_degrees', 'to_centre_dist']].values\n",
    "\n",
    "poly = PolynomialFeatures(2)\n",
    "\n",
    "expanded_data = poly.fit_transform(data_to_fit)\n",
    "\n",
    "names = poly.get_feature_names(['slow_fraction', 'fast_mean', 'total_mean',\n",
    "                                'clipped_hmean','clipped_mean','freq',\n",
    "                                'fast_hmean','line_distance', ])\n",
    "                                #'direction_degrees', 'to_centre_dist'])\n"
   ]
  },
  {
   "cell_type": "code",
   "execution_count": 157,
   "metadata": {},
   "outputs": [],
   "source": [
    "def prep_training_data(data, target):\n",
    "\n",
    "    cut_point = int(len(data)*3/4)\n",
    "    \n",
    "    train_data = data[:cut_point,:]\n",
    "    test_data = data[cut_point:,:]\n",
    "    \n",
    "    test_mask = np.zeros(data.shape[0]).astype(bool)\n",
    "    test_mask[cut_point:] = True\n",
    "\n",
    "    train_target = target[:cut_point]\n",
    "    test_target = target[cut_point:]\n",
    "    \n",
    "    scaler_target = preprocessing.StandardScaler().fit(train_target[:, None])\n",
    "\n",
    "#     scaler_target = preprocessing.MinMaxScaler().fit(train_target[:, None])\n",
    "\n",
    "\n",
    "    train_target_scaled = scaler_target.transform(train_target[:, None]).astype(np.float32)\n",
    "    test_target_scaled = scaler_target.transform(test_target[:, None]).astype(np.float32)\n",
    "    \n",
    "    data_scaler = preprocessing.StandardScaler()\n",
    "\n",
    "    train_data_scaled = data_scaler.fit_transform(train_data).squeeze()\n",
    "    test_data_scaled = data_scaler.transform(test_data).squeeze()\n",
    "\n",
    "    return train_data_scaled, test_data_scaled, train_target_scaled, test_target_scaled, scaler_target\n"
   ]
  },
  {
   "cell_type": "code",
   "execution_count": 79,
   "metadata": {},
   "outputs": [
    {
     "name": "stdout",
     "output_type": "stream",
     "text": [
      "4.862819762408351\n"
     ]
    },
    {
     "data": {
      "image/png": "[encoded data removed]",
      "text/plain": [
       "<Figure size 432x288 with 1 Axes>"
      ]
     },
     "metadata": {
      "needs_background": "light"
     },
     "output_type": "display_data"
    }
   ],
   "source": [
    "(train_data_scaled, test_data_scaled, \n",
    " train_target_scaled, test_target_scaled, \n",
    " scaler_target) = prep_training_data(expanded_data, just_one['mean_speed_mph_by_segment_code_hour'].values)\n",
    "\n",
    "test_target_truth = scaler_target.inverse_transform(test_target_scaled).squeeze()\n",
    "\n",
    "lr = LinearRegression()\n",
    "# lr = Lasso()\n",
    "\n",
    "lr.fit(train_data_scaled, train_target_scaled)\n",
    "\n",
    "test_y_scaled = lr.predict(test_data_scaled)\n",
    "\n",
    "test_y = scaler_target.inverse_transform(test_y_scaled)\n",
    "\n",
    "test_target_truth = scaler_target.inverse_transform(test_target_scaled)\n",
    "\n",
    "plt.scatter(test_target_truth, test_y, marker=\".\", alpha=0.3)\n",
    "plt.xlabel(\"true target (mph)\")\n",
    "plt.ylabel(\"prediction target (mph)\")\n",
    "plt.ylim(-5,35)\n",
    "\n",
    "print(np.sqrt(mean_squared_error(test_target_truth, test_y)))\n"
   ]
  },
  {
   "cell_type": "code",
   "execution_count": 52,
   "metadata": {},
   "outputs": [
    {
     "data": {
      "text/plain": [
       "[('fast_mean', -14.863527815755932),\n",
       " ('slow_fraction fast_mean', 9.374201087891013),\n",
       " ('total_mean', 8.824091028876069),\n",
       " ('clipped_mean fast_hmean', -7.834312978776891),\n",
       " ('fast_mean fast_hmean', 4.164133799597315),\n",
       " ('clipped_hmean fast_hmean', 3.2332654597705863),\n",
       " ('fast_mean clipped_hmean', -2.9824874857201893),\n",
       " ('total_mean fast_hmean', -2.870827822288181),\n",
       " ('clipped_mean^2', 2.8608408227289077),\n",
       " ('clipped_hmean', -2.6650625807171355),\n",
       " ('clipped_hmean clipped_mean', 2.2939402124960715),\n",
       " ('slow_fraction fast_hmean', -1.770326985840199),\n",
       " ('slow_fraction clipped_hmean', 1.490631143607167),\n",
       " ('fast_hmean', 1.4665651057843427),\n",
       " ('fast_hmean line_distance', 1.324937297620932),\n",
       " ('fast_hmean to_centre_dist', 1.132075869770856),\n",
       " ('freq fast_hmean', -1.1124550690503763),\n",
       " ('total_mean clipped_hmean', 1.078203136906096),\n",
       " ('total_mean clipped_mean', 0.9948674766723236),\n",
       " ('clipped_hmean to_centre_dist', -0.9414776674601439),\n",
       " ('clipped_mean', 0.9043478316189837),\n",
       " ('clipped_hmean freq', 0.8890984794068599),\n",
       " ('freq', -0.734592215895797),\n",
       " ('clipped_hmean line_distance', -0.7138275951277655),\n",
       " ('clipped_hmean^2', 0.6966860395612655),\n",
       " ('fast_mean clipped_mean', -0.6639985117636571),\n",
       " ('total_mean line_distance', -0.6405873262221453),\n",
       " ('fast_mean line_distance', 0.5773486563257493),\n",
       " ('total_mean direction_degrees', -0.5511289109176136),\n",
       " ('clipped_mean to_centre_dist', -0.4798112693298203),\n",
       " ('fast_mean direction_degrees', 0.4236293736157095),\n",
       " ('clipped_mean freq', 0.41052956791363737),\n",
       " ('total_mean to_centre_dist', 0.4073122231542729),\n",
       " ('fast_mean total_mean', 0.3576964890319654),\n",
       " ('fast_mean to_centre_dist', -0.34855741053416456),\n",
       " ('fast_mean^2', -0.2891201728863071),\n",
       " ('slow_fraction', -0.21725611954445367),\n",
       " ('to_centre_dist', 0.21623202231632643),\n",
       " ('slow_fraction total_mean', -0.19977032008159523),\n",
       " ('slow_fraction direction_degrees', -0.1921529079711295),\n",
       " ('slow_fraction freq', 0.18313085948515617),\n",
       " ('direction_degrees', 0.18003955118689907),\n",
       " ('slow_fraction^2', 0.1767269630860211),\n",
       " ('freq line_distance', 0.17637951470488966),\n",
       " ('clipped_mean line_distance', -0.17607966195035107),\n",
       " ('slow_fraction to_centre_dist', 0.17313850300393807),\n",
       " ('freq^2', 0.1577496589908809),\n",
       " ('fast_hmean^2', -0.14797001089399453),\n",
       " ('line_distance', -0.14595882046189262),\n",
       " ('line_distance^2', -0.14137575092705124),\n",
       " ('freq to_centre_dist', -0.11646776145687054),\n",
       " ('to_centre_dist^2', -0.06925186259117644),\n",
       " ('total_mean^2', -0.06622609210234254),\n",
       " ('slow_fraction line_distance', -0.06412274981166499),\n",
       " ('slow_fraction clipped_mean', 0.06133106747256345),\n",
       " ('fast_mean freq', 0.0579227813737746),\n",
       " ('direction_degrees^2', 0.044758426745322044),\n",
       " ('total_mean freq', 0.031243118320393393),\n",
       " ('clipped_hmean direction_degrees', 0.03055935358745898),\n",
       " ('line_distance direction_degrees', 0.028668570185535813),\n",
       " ('line_distance to_centre_dist', -0.020896641111937342),\n",
       " ('fast_hmean direction_degrees', 0.018952245842448256),\n",
       " ('direction_degrees to_centre_dist', 0.016467277719540374),\n",
       " ('freq direction_degrees', -0.01566050171838329),\n",
       " ('clipped_mean direction_degrees', 0.010612511974970262),\n",
       " ('1', -2.861152858847573e-14)]"
      ]
     },
     "metadata": {},
     "output_type": "display_data"
    }
   ],
   "source": [
    "ordered_names = np.array(names).squeeze()[np.argsort(np.abs(lr.coef_))].squeeze()\n",
    "\n",
    "ordered_coef = np.array(lr.coef_).squeeze()[np.argsort(np.abs(lr.coef_))].squeeze()\n",
    "\n",
    "display(list(zip(ordered_names, ordered_coef))[::-1])"
   ]
  },
  {
   "cell_type": "code",
   "execution_count": 40,
   "metadata": {},
   "outputs": [
    {
     "name": "stderr",
     "output_type": "stream",
     "text": [
      "/Users/tommelamed/anaconda3/envs/busses/lib/python3.7/site-packages/sklearn/utils/validation.py:761: DataConversionWarning: A column-vector y was passed when a 1d array was expected. Please change the shape of y to (n_samples, ), for example using ravel().\n",
      "  y = column_or_1d(y, warn=True)\n"
     ]
    },
    {
     "name": "stdout",
     "output_type": "stream",
     "text": [
      "4.869489763387428\n"
     ]
    }
   ],
   "source": [
    "(train_data_scaled, test_data_scaled, \n",
    " train_target_scaled, test_target_scaled, \n",
    " scaler_target) = prep_training_data(expanded_data, just_one['mean_speed_mph_by_segment_code_hour'].values)\n",
    "\n",
    "ar = ARDRegression()\n",
    "# lr = Lasso()\n",
    "\n",
    "ar.fit(train_data_scaled, train_target_scaled)\n",
    "\n",
    "test_y_scaled = ar.predict(test_data_scaled)\n",
    "\n",
    "test_y = scaler_target.inverse_transform(test_y_scaled)\n",
    "\n",
    "test_target_truth = scaler_target.inverse_transform(test_target_scaled)\n",
    "\n",
    "print(np.sqrt(mean_squared_error(test_target_truth, test_y)))\n"
   ]
  },
  {
   "cell_type": "code",
   "execution_count": 72,
   "metadata": {},
   "outputs": [
    {
     "name": "stdout",
     "output_type": "stream",
     "text": [
      "4.869489763387428\n"
     ]
    },
    {
     "data": {
      "text/plain": [
       "(-5, 35)"
      ]
     },
     "execution_count": 72,
     "metadata": {},
     "output_type": "execute_result"
    },
    {
     "data": {
      "image/png": "[encoded data removed]",
      "text/plain": [
       "<Figure size 432x288 with 1 Axes>"
      ]
     },
     "metadata": {
      "needs_background": "light"
     },
     "output_type": "display_data"
    }
   ],
   "source": [
    "test_y_scaled = ar.predict(test_data_scaled)\n",
    "\n",
    "test_y = scaler_target.inverse_transform(test_y_scaled)\n",
    "\n",
    "test_target_truth = scaler_target.inverse_transform(test_target_scaled)\n",
    "\n",
    "print(np.sqrt(mean_squared_error(test_target_truth, test_y)))\n",
    "\n",
    "plt.scatter(test_target_truth, test_y, marker=\".\", alpha=0.3)\n",
    "plt.xlabel(\"true target (mph)\")\n",
    "plt.ylabel(\"prediction target (mph)\")\n",
    "plt.ylim(-5,35)\n"
   ]
  },
  {
   "cell_type": "code",
   "execution_count": 41,
   "metadata": {},
   "outputs": [
    {
     "data": {
      "text/plain": [
       "[('fast_mean', -15.063008553221756),\n",
       " ('slow_fraction fast_mean', 9.332496285870562),\n",
       " ('total_mean', 9.012588583858312),\n",
       " ('clipped_mean fast_hmean', -5.094536375598904),\n",
       " ('clipped_mean^2', 2.5765495354650167),\n",
       " ('clipped_hmean fast_hmean', 1.9191818396563687),\n",
       " ('clipped_hmean^2', 1.7756833698541268),\n",
       " ('total_mean clipped_hmean', -1.613294161117751),\n",
       " ('fast_hmean line_distance', 1.519770873447014),\n",
       " ('clipped_hmean', -1.138333022535884),\n",
       " ('fast_mean fast_hmean', 1.1080322300938446),\n",
       " ('clipped_hmean line_distance', -1.0721193985343576),\n",
       " ('freq fast_hmean', -0.9695995589053193),\n",
       " ('clipped_hmean freq', 0.7380558192634924),\n",
       " ('clipped_mean', 0.7241022313281542),\n",
       " ('total_mean clipped_mean', 0.6733099396999003),\n",
       " ('freq', -0.6642990316367483),\n",
       " ('clipped_mean freq', 0.4410506279707755),\n",
       " ('slow_fraction^2', 0.34551353357338677),\n",
       " ('slow_fraction', -0.316752100651672),\n",
       " ('fast_mean clipped_mean', -0.3049182346137753),\n",
       " ('slow_fraction clipped_hmean', -0.2839144971427845),\n",
       " ('line_distance', -0.2346387386307043),\n",
       " ('fast_mean clipped_hmean', -0.2293188910390586),\n",
       " ('freq^2', 0.226751921860317),\n",
       " ('line_distance^2', -0.1579731824239709),\n",
       " ('slow_fraction line_distance', 0.12492491306889345),\n",
       " ('freq line_distance', 0.11769382074637905),\n",
       " ('clipped_mean line_distance', -0.08137620973342241),\n",
       " ('fast_mean^2', 0.0022632311473225835),\n",
       " ('fast_hmean', 0.001389913967524727),\n",
       " ('slow_fraction fast_hmean', -0.0013612648180348433),\n",
       " ('slow_fraction clipped_mean', -0.0012937521832744577),\n",
       " ('total_mean line_distance', 0.001251845823345071),\n",
       " ('fast_hmean^2', 0.0008988096535068178),\n",
       " ('clipped_hmean clipped_mean', 0.0003651748892212917),\n",
       " ('total_mean fast_hmean', 0.00026435069471197377),\n",
       " ('fast_mean total_mean', 0.0),\n",
       " ('total_mean^2', 0.0),\n",
       " ('total_mean freq', 0.0),\n",
       " ('fast_mean line_distance', 0.0),\n",
       " ('slow_fraction total_mean', 0.0),\n",
       " ('fast_mean freq', 0.0),\n",
       " ('slow_fraction freq', 0.0),\n",
       " ('1', 0.0)]"
      ]
     },
     "metadata": {},
     "output_type": "display_data"
    }
   ],
   "source": [
    "ordered_names = np.array(names).squeeze()[np.argsort(np.abs(ar.coef_))].squeeze()\n",
    "\n",
    "ordered_coef = np.array(ar.coef_).squeeze()[np.argsort(np.abs(ar.coef_))].squeeze()\n",
    "\n",
    "display(list(zip(ordered_names, ordered_coef))[::-1])"
   ]
  },
  {
   "cell_type": "code",
   "execution_count": 189,
   "metadata": {},
   "outputs": [],
   "source": [
    "def create_simple_model(input_shape, dropout):\n",
    "\n",
    "    # with help from: https://keras.io/getting-started/functional-api-guide/\n",
    "\n",
    "    # Headline input: meant to receive road time series.\n",
    "    main_input = Input(shape=[input_shape], dtype=\"float32\", name=\"input\")\n",
    "\n",
    "    # We stack a deep densely-connected network on top\n",
    "    x = Dense(128, activation=\"relu\")(main_input)\n",
    "    x = Dropout(rate=dropout)(x)\n",
    "    x = Dense(64, activation=\"relu\")(x)\n",
    "    x = Dropout(rate=dropout)(x)\n",
    "    x = Dense(32, activation=\"relu\")(x)\n",
    "    x = Dropout(rate=dropout)(x)\n",
    "    x = Dense(32, activation=\"relu\")(x)\n",
    "    x = Dropout(rate=dropout)(x)\n",
    "    x = Dense(12, activation=\"relu\")(x)\n",
    "    x = Dropout(rate=dropout)(x)\n",
    "\n",
    "    # And finally we add the main output layer\n",
    "    main_output = Dense(1, activation=\"tanh\", name=\"main_output\")(x)\n",
    "\n",
    "    model = Model(\n",
    "        inputs=[main_input], outputs=[main_output]\n",
    "    )\n",
    "\n",
    "    model.summary()\n",
    "\n",
    "    return model"
   ]
  },
  {
   "cell_type": "code",
   "execution_count": null,
   "metadata": {},
   "outputs": [],
   "source": []
  },
  {
   "cell_type": "code",
   "execution_count": 81,
   "metadata": {},
   "outputs": [
    {
     "name": "stdout",
     "output_type": "stream",
     "text": [
      "_________________________________________________________________\n",
      "Layer (type)                 Output Shape              Param #   \n",
      "=================================================================\n",
      "input (InputLayer)           (None, 8)                 0         \n",
      "_________________________________________________________________\n",
      "dense_13 (Dense)             (None, 32)                288       \n",
      "_________________________________________________________________\n",
      "dropout_13 (Dropout)         (None, 32)                0         \n",
      "_________________________________________________________________\n",
      "dense_14 (Dense)             (None, 32)                1056      \n",
      "_________________________________________________________________\n",
      "dropout_14 (Dropout)         (None, 32)                0         \n",
      "_________________________________________________________________\n",
      "dense_15 (Dense)             (None, 12)                396       \n",
      "_________________________________________________________________\n",
      "dropout_15 (Dropout)         (None, 12)                0         \n",
      "_________________________________________________________________\n",
      "dense_16 (Dense)             (None, 12)                156       \n",
      "_________________________________________________________________\n",
      "dropout_16 (Dropout)         (None, 12)                0         \n",
      "_________________________________________________________________\n",
      "main_output (Dense)          (None, 1)                 13        \n",
      "=================================================================\n",
      "Total params: 1,909\n",
      "Trainable params: 1,909\n",
      "Non-trainable params: 0\n",
      "_________________________________________________________________\n",
      "Train on 10686 samples, validate on 3563 samples\n",
      "Epoch 1/100\n",
      "10686/10686 [==============================] - 11s 1ms/step - loss: 0.0191 - val_loss: 0.0104\n",
      "Epoch 2/100\n",
      "10686/10686 [==============================] - 6s 598us/step - loss: 0.0124 - val_loss: 0.0092\n",
      "Epoch 3/100\n",
      "10686/10686 [==============================] - 6s 550us/step - loss: 0.0113 - val_loss: 0.0090\n",
      "Epoch 4/100\n",
      "10686/10686 [==============================] - 6s 545us/step - loss: 0.0105 - val_loss: 0.0085\n",
      "Epoch 5/100\n",
      "10686/10686 [==============================] - 6s 551us/step - loss: 0.0102 - val_loss: 0.0083\n",
      "Epoch 6/100\n",
      "10686/10686 [==============================] - 7s 631us/step - loss: 0.0101 - val_loss: 0.0083\n",
      "Epoch 7/100\n",
      "10686/10686 [==============================] - 8s 734us/step - loss: 0.0098 - val_loss: 0.0083\n"
     ]
    }
   ],
   "source": [
    "(train_data_scaled, test_data_scaled, \n",
    " train_target_scaled, test_target_scaled, \n",
    " scaler_target) = prep_training_data(data_to_fit, just_one['mean_speed_mph_by_segment_code_hour'])\n",
    "\n",
    "model = create_simple_model(\n",
    "        (train_data_scaled.shape[1]),\n",
    "        0.1)\n",
    "\n",
    "Path(f\"GPS_models\").mkdir(parents=True, exist_ok=True)\n",
    "\n",
    "callbacks_list = [\n",
    "    keras.callbacks.EarlyStopping(monitor=\"val_loss\", patience=2),\n",
    "    keras.callbacks.ModelCheckpoint(\n",
    "        filepath=f\"GPS_models/simple.h5\",\n",
    "        monitor=\"val_loss\",\n",
    "        save_best_only=True,\n",
    "    ),\n",
    "]\n",
    "\n",
    "# model.compile(optimizer=\"rmsprop\", loss=\"mean_absolute_error\")\n",
    "model.compile(optimizer=\"rmsprop\", loss=\"mse\")\n",
    "model.fit(\n",
    "    train_data_scaled,\n",
    "    train_target_scaled,\n",
    "    epochs=100,\n",
    "    callbacks=callbacks_list,\n",
    "    batch_size=32,\n",
    "    validation_data=(test_data_scaled, test_target_scaled),\n",
    ")\n",
    "\n",
    "test_y_scaled = model.predict(test_data_scaled)\n",
    "\n",
    "test_y = scaler_target.inverse_transform(test_y_scaled)"
   ]
  },
  {
   "cell_type": "code",
   "execution_count": 82,
   "metadata": {},
   "outputs": [
    {
     "name": "stdout",
     "output_type": "stream",
     "text": [
      "4.748011\n"
     ]
    },
    {
     "data": {
      "text/plain": [
       "(-5, 35)"
      ]
     },
     "execution_count": 82,
     "metadata": {},
     "output_type": "execute_result"
    },
    {
     "data": {
      "image/png": "[encoded data removed]",
      "text/plain": [
       "<Figure size 432x288 with 1 Axes>"
      ]
     },
     "metadata": {
      "needs_background": "light"
     },
     "output_type": "display_data"
    }
   ],
   "source": [
    "test_target_truth = scaler_target.inverse_transform(test_target_scaled).squeeze()\n",
    "\n",
    "print(np.sqrt(mean_squared_error(test_target_truth, test_y)))\n",
    "\n",
    "plt.scatter(test_target_truth, test_y, marker=\".\", alpha=0.3)\n",
    "plt.xlabel(\"true target (mph)\")\n",
    "plt.ylabel(\"prediction target (mph)\")\n",
    "plt.ylim(-5,35)"
   ]
  },
  {
   "cell_type": "markdown",
   "metadata": {},
   "source": [
    "### Plan\n",
    "\n",
    "- Calc the stats for all the segments\n",
    "- Load up the means by hour of the day and daytype for each of these segment names\n",
    "- Try to find a way to predict the spead of the segment by hour using the stats\n",
    "- Get the stats for each indivual event, not just the bulk averages, \n",
    "    - Do the same for the last hour on that segment and think about fast ways to do prev/next as well\n",
    "- Try to find the stats with the highest and lowest variance (forcus on those with lower variance)\n",
    "- See if you can then find outliers... \n",
    "- Is there enough data? "
   ]
  },
  {
   "cell_type": "code",
   "execution_count": 114,
   "metadata": {},
   "outputs": [],
   "source": [
    "segments_dict = {}\n",
    "\n",
    "segments = filtered.groupby('segment_name')\n",
    "\n",
    "for seg_name, segment in segments:\n",
    "    \n",
    "     df = segment.set_index(\"timeReported\")['speed_mph']\n",
    "        \n",
    "     df.index = pd.to_datetime(df.index)\n",
    "    \n",
    "     segments_dict[seg_name] = df"
   ]
  },
  {
   "cell_type": "code",
   "execution_count": null,
   "metadata": {},
   "outputs": [],
   "source": [
    "segments_dict['1200BOB20136_1200BOB20136']"
   ]
  },
  {
   "cell_type": "code",
   "execution_count": 263,
   "metadata": {},
   "outputs": [],
   "source": [
    "matrix_width = 15"
   ]
  },
  {
   "cell_type": "code",
   "execution_count": 264,
   "metadata": {},
   "outputs": [],
   "source": [
    "se_gps_data_hour = np.zeros((se.shape[0], matrix_width)).astype(np.float32)\n",
    "se_gps_data_20mins = np.zeros((se.shape[0], matrix_width)).astype(np.float32)"
   ]
  },
  {
   "cell_type": "code",
   "execution_count": 265,
   "metadata": {},
   "outputs": [],
   "source": [
    "se_gps_data_hour_prev_next = np.zeros((se.shape[0], matrix_width)).astype(np.float32)"
   ]
  },
  {
   "cell_type": "code",
   "execution_count": 266,
   "metadata": {},
   "outputs": [
    {
     "data": {
      "application/vnd.jupyter.widget-view+json": {
       "model_id": "6795dd4b126e4e9489d383eb3be0127c",
       "version_major": 2,
       "version_minor": 0
      },
      "text/plain": [
       "HBox(children=(IntProgress(value=1, bar_style='info', max=1), HTML(value='')))"
      ]
     },
     "metadata": {},
     "output_type": "display_data"
    },
    {
     "name": "stderr",
     "output_type": "stream",
     "text": [
      "/Users/tommelamed/anaconda3/envs/busses/lib/python3.7/site-packages/scipy/stats/stats.py:377: RuntimeWarning: invalid value encountered in double_scalars\n",
      "  return size / np.sum(1.0 / a, axis=axis, dtype=dtype)\n",
      "/Users/tommelamed/.local/lib/python3.7/site-packages/numpy/core/fromnumeric.py:3118: RuntimeWarning: Mean of empty slice.\n",
      "  out=out, **kwargs)\n",
      "/Users/tommelamed/.local/lib/python3.7/site-packages/numpy/core/_methods.py:85: RuntimeWarning: invalid value encountered in double_scalars\n",
      "  ret = ret.dtype.type(ret / rcount)\n",
      "/Users/tommelamed/anaconda3/envs/busses/lib/python3.7/site-packages/ipykernel_launcher.py:11: RuntimeWarning: invalid value encountered in less\n",
      "  # This is added back by InteractiveShellApp.init_path()\n",
      "/Users/tommelamed/anaconda3/envs/busses/lib/python3.7/site-packages/ipykernel_launcher.py:12: RuntimeWarning: invalid value encountered in greater\n",
      "  if sys.path[0] == '':\n",
      "/Users/tommelamed/anaconda3/envs/busses/lib/python3.7/site-packages/ipykernel_launcher.py:13: RuntimeWarning: invalid value encountered in greater\n",
      "  del sys.path[0]\n",
      "/Users/tommelamed/anaconda3/envs/busses/lib/python3.7/site-packages/ipykernel_launcher.py:13: RuntimeWarning: invalid value encountered in less\n",
      "  del sys.path[0]\n",
      "/Users/tommelamed/.local/lib/python3.7/site-packages/numpy/lib/function_base.py:3826: RuntimeWarning: Invalid value encountered in percentile\n",
      "  interpolation=interpolation)\n"
     ]
    }
   ],
   "source": [
    "for idx, row in enumerate(tqdm(se[['actualArrival', 'segment_name']].itertuples())):\n",
    "    \n",
    "    gps_tracks = segments_dict[row[2]]\n",
    "    \n",
    "    relevant = gps_tracks[(gps_tracks.index > row[1] - pd.Timedelta(f\"80 min\")) & (gps_tracks.index < row[1] - pd.Timedelta(f\"20 min\"))].values\n",
    "    \n",
    "    if(len(relevant) == 0):\n",
    "        se_gps_data_hour[idx,0] = row[0]\n",
    "        continue\n",
    "    \n",
    "    slow_count = np.count_nonzero(relevant < 3)\n",
    "    fast = relevant[(relevant > 3)]\n",
    "    clipped = relevant[(relevant > 3) & (relevant < 31)]\n",
    "    \n",
    "    row_data = np.empty(matrix_width).astype(np.float32)\n",
    "    \n",
    "    row_data[0] = row[0]\n",
    "    row_data[1] = slow_count/len(relevant)\n",
    "    row_data[2] = hmean(fast)\n",
    "    row_data[3] = np.mean(fast)\n",
    "    row_data[4] = np.mean(relevant)\n",
    "    row_data[5] = hmean(clipped)\n",
    "    row_data[6] = np.mean(clipped)\n",
    "    row_data[7] = len(relevant)\n",
    "    row_data[8] = len(fast)\n",
    "    row_data[9] = len(clipped)\n",
    "\n",
    "    if len(fast) > 0:\n",
    "        row_data[10], row_data[11] = np.quantile(fast, [0.5, 0.75])\n",
    "    else:\n",
    "        row_data[10] = np.nan\n",
    "        row_data[11] = np.nan\n",
    "    \n",
    "    row_data[12], row_data[13] = np.quantile(relevant, [0.5, 0.75])\n",
    "    row_data[14] = np.max(relevant)\n",
    "    \n",
    "    se_gps_data_hour[idx, :] = row_data\n"
   ]
  },
  {
   "cell_type": "code",
   "execution_count": 267,
   "metadata": {},
   "outputs": [
    {
     "data": {
      "application/vnd.jupyter.widget-view+json": {
       "model_id": "ffd8878b2af5409cacb3a89cdb41ac4f",
       "version_major": 2,
       "version_minor": 0
      },
      "text/plain": [
       "HBox(children=(IntProgress(value=1, bar_style='info', max=1), HTML(value='')))"
      ]
     },
     "metadata": {},
     "output_type": "display_data"
    },
    {
     "name": "stderr",
     "output_type": "stream",
     "text": [
      "/Users/tommelamed/anaconda3/envs/busses/lib/python3.7/site-packages/ipykernel_launcher.py:11: RuntimeWarning: invalid value encountered in less\n",
      "  # This is added back by InteractiveShellApp.init_path()\n",
      "/Users/tommelamed/anaconda3/envs/busses/lib/python3.7/site-packages/ipykernel_launcher.py:12: RuntimeWarning: invalid value encountered in greater\n",
      "  if sys.path[0] == '':\n",
      "/Users/tommelamed/anaconda3/envs/busses/lib/python3.7/site-packages/ipykernel_launcher.py:13: RuntimeWarning: invalid value encountered in greater\n",
      "  del sys.path[0]\n",
      "/Users/tommelamed/anaconda3/envs/busses/lib/python3.7/site-packages/ipykernel_launcher.py:13: RuntimeWarning: invalid value encountered in less\n",
      "  del sys.path[0]\n"
     ]
    }
   ],
   "source": [
    "for idx, row in enumerate(tqdm(se[['actualArrival', 'segment_name']].itertuples())):\n",
    "    \n",
    "    gps_tracks = segments_dict[row[2]]\n",
    "    \n",
    "    relevant = gps_tracks[(gps_tracks.index > row[1] - pd.Timedelta(f\"40 min\")) & (gps_tracks.index < row[1] - pd.Timedelta(f\"20 min\"))].values\n",
    "    \n",
    "    if(len(relevant) == 0):\n",
    "        se_gps_data_20mins[idx,0] = row[0]\n",
    "        continue\n",
    "    \n",
    "    slow_count = np.count_nonzero(relevant < 3)\n",
    "    fast = relevant[(relevant > 3)]\n",
    "    clipped = relevant[(relevant > 3) & (relevant < 31)]\n",
    "    \n",
    "    row_data = np.empty(matrix_width).astype(np.float32)\n",
    "    \n",
    "    row_data[0] = row[0]\n",
    "    row_data[1] = slow_count/len(relevant)\n",
    "    row_data[2] = hmean(fast)\n",
    "    row_data[3] = np.mean(fast)\n",
    "    row_data[4] = np.mean(relevant)\n",
    "    row_data[5] = hmean(clipped)\n",
    "    row_data[6] = np.mean(clipped)\n",
    "    row_data[7] = len(relevant)\n",
    "    row_data[8] = len(fast)\n",
    "    row_data[9] = len(clipped)\n",
    "    \n",
    "    if len(fast) > 0:\n",
    "        row_data[10], row_data[11] = np.quantile(fast, [0.5, 0.75])\n",
    "    else:\n",
    "        row_data[10] = np.nan\n",
    "        row_data[11] = np.nan\n",
    "    \n",
    "    row_data[12], row_data[13] = np.quantile(relevant, [0.5, 0.75])\n",
    "    row_data[14] = np.max(relevant)\n",
    "\n",
    "    \n",
    "    se_gps_data_20mins[idx, :] = row_data\n",
    "    "
   ]
  },
  {
   "cell_type": "code",
   "execution_count": 268,
   "metadata": {},
   "outputs": [
    {
     "data": {
      "application/vnd.jupyter.widget-view+json": {
       "model_id": "845dcbe9351c4cc994daeacca92da3d2",
       "version_major": 2,
       "version_minor": 0
      },
      "text/plain": [
       "HBox(children=(IntProgress(value=1, bar_style='info', max=1), HTML(value='')))"
      ]
     },
     "metadata": {},
     "output_type": "display_data"
    },
    {
     "name": "stderr",
     "output_type": "stream",
     "text": [
      "/Users/tommelamed/anaconda3/envs/busses/lib/python3.7/site-packages/ipykernel_launcher.py:27: RuntimeWarning: invalid value encountered in less\n",
      "/Users/tommelamed/anaconda3/envs/busses/lib/python3.7/site-packages/ipykernel_launcher.py:28: RuntimeWarning: invalid value encountered in greater\n",
      "/Users/tommelamed/anaconda3/envs/busses/lib/python3.7/site-packages/ipykernel_launcher.py:29: RuntimeWarning: invalid value encountered in greater\n",
      "/Users/tommelamed/anaconda3/envs/busses/lib/python3.7/site-packages/ipykernel_launcher.py:29: RuntimeWarning: invalid value encountered in less\n"
     ]
    }
   ],
   "source": [
    "for idx, row in enumerate(tqdm(se[['actualArrival', 'segment_name', 'prev_segment_name', 'next_segment_name']].itertuples())):\n",
    "    \n",
    "    gps_tracks = segments_dict[row[2]]\n",
    "    \n",
    "    relevant_current = gps_tracks[(gps_tracks.index > row[1] - pd.Timedelta(f\"80 min\")) & (gps_tracks.index < row[1] - pd.Timedelta(f\"20 min\"))].values.squeeze()\n",
    "    \n",
    "    if (row[3] != '') & (row[3] in segments_dict):\n",
    "        gps_tracks_prev = segments_dict[row[3]]\n",
    "        \n",
    "        relevant_prev = gps_tracks_prev[(gps_tracks_prev.index > row[1] - pd.Timedelta(f\"80 min\")) & (gps_tracks_prev.index < row[1] - pd.Timedelta(f\"20 min\"))].values.squeeze()\n",
    "    else:\n",
    "        relevant_prev = [] \n",
    "        \n",
    "    if (row[4] != '') & (row[4] in segments_dict):\n",
    "        gps_tracks_next = segments_dict[row[4]]\n",
    "    \n",
    "        relevant_next = gps_tracks_next[(gps_tracks_next.index > row[1] - pd.Timedelta(f\"80 min\")) & (gps_tracks_next.index < row[1] - pd.Timedelta(f\"20 min\"))].values.squeeze()   \n",
    "    else: \n",
    "        relevant_next = []\n",
    "    \n",
    "    relevant = np.concatenate(np.atleast_1d(relevant_current, relevant_prev, relevant_next))\n",
    "    \n",
    "    if(len(relevant) == 0):\n",
    "        se_gps_data_hour_prev_next[idx,0] = row[0]\n",
    "        continue\n",
    "    \n",
    "    slow_count = np.count_nonzero(relevant < 3)\n",
    "    fast = relevant[(relevant > 3)]\n",
    "    clipped = relevant[(relevant > 3) & (relevant < 31)]\n",
    "    \n",
    "    row_data = np.empty(matrix_width).astype(np.float32)\n",
    "    \n",
    "    row_data[0] = row[0]\n",
    "    row_data[1] = slow_count/len(relevant)\n",
    "    row_data[2] = hmean(fast)\n",
    "    row_data[3] = np.mean(fast)\n",
    "    row_data[4] = np.mean(relevant)\n",
    "    row_data[5] = hmean(clipped)\n",
    "    row_data[6] = np.mean(clipped)\n",
    "    row_data[7] = len(relevant)\n",
    "    row_data[8] = len(fast)\n",
    "    row_data[9] = len(clipped)\n",
    "    \n",
    "    if len(fast) > 0:\n",
    "        row_data[10], row_data[11] = np.quantile(fast, [0.5, 0.75])\n",
    "    else:\n",
    "        row_data[10] = np.nan\n",
    "        row_data[11] = np.nan\n",
    "    \n",
    "    row_data[12], row_data[13] = np.quantile(relevant, [0.5, 0.75])\n",
    "    row_data[14] = np.max(relevant)\n",
    "    \n",
    "    se_gps_data_hour_prev_next[idx, :] = row_data\n",
    "    "
   ]
  },
  {
   "cell_type": "code",
   "execution_count": 269,
   "metadata": {},
   "outputs": [],
   "source": [
    "np.save(\"se_gps_features_20min_80min_2\", se_gps_data_hour)\n",
    "np.save(\"se_gps_features_20min_40min_2\", se_gps_data_20mins)"
   ]
  },
  {
   "cell_type": "code",
   "execution_count": 270,
   "metadata": {},
   "outputs": [],
   "source": [
    "np.save(\"se_gps_features_20min_80min_prev_next_2\", se_gps_data_hour_prev_next)"
   ]
  },
  {
   "cell_type": "code",
   "execution_count": 236,
   "metadata": {},
   "outputs": [
    {
     "data": {
      "image/png": "[encoded data removed]",
      "text/plain": [
       "<Figure size 432x288 with 1 Axes>"
      ]
     },
     "metadata": {
      "needs_background": "light"
     },
     "output_type": "display_data"
    }
   ],
   "source": [
    "plt.hist(se_gps_data_hour_prev_next[:,7], bins=50, range=(0,50));"
   ]
  },
  {
   "cell_type": "code",
   "execution_count": 237,
   "metadata": {},
   "outputs": [
    {
     "data": {
      "image/png": "[encoded data removed]",
      "text/plain": [
       "<Figure size 432x288 with 1 Axes>"
      ]
     },
     "metadata": {
      "needs_background": "light"
     },
     "output_type": "display_data"
    }
   ],
   "source": [
    "plt.hist(se_gps_data_hour_prev_next[:,8], bins=50, range=(0,50));"
   ]
  },
  {
   "cell_type": "code",
   "execution_count": 276,
   "metadata": {},
   "outputs": [
    {
     "data": {
      "image/png": "[encoded data removed]",
      "text/plain": [
       "<Figure size 432x288 with 1 Axes>"
      ]
     },
     "metadata": {
      "needs_background": "light"
     },
     "output_type": "display_data"
    }
   ],
   "source": [
    "plt.hist(se_gps_data_hour_prev_next[:,13], bins=50, range=(0,50));"
   ]
  },
  {
   "cell_type": "code",
   "execution_count": 239,
   "metadata": {},
   "outputs": [
    {
     "data": {
      "image/png": "[encoded data removed]",
      "text/plain": [
       "<Figure size 432x288 with 1 Axes>"
      ]
     },
     "metadata": {
      "needs_background": "light"
     },
     "output_type": "display_data"
    }
   ],
   "source": [
    "plt.hist(se['speed_mph'], bins=50, range=(0,50));"
   ]
  },
  {
   "cell_type": "code",
   "execution_count": 246,
   "metadata": {},
   "outputs": [
    {
     "data": {
      "image/png": "[encoded data removed]",
      "text/plain": [
       "<Figure size 432x288 with 1 Axes>"
      ]
     },
     "metadata": {
      "needs_background": "light"
     },
     "output_type": "display_data"
    }
   ],
   "source": [
    "plt.hist(filtered['speed_mph'], bins=50, range=(3,50));"
   ]
  },
  {
   "cell_type": "code",
   "execution_count": 281,
   "metadata": {},
   "outputs": [],
   "source": [
    "valid_mask = (se_gps_data_hour_prev_next[:,9] >= 3) & \\\n",
    "(se['speed_mph'] != np.inf) & \\\n",
    "(~np.isnan(se_gps_data_hour_prev_next[:,4])) & \\\n",
    "(~np.isnan(se_gps_data_hour_prev_next[:,10]))"
   ]
  },
  {
   "cell_type": "code",
   "execution_count": 282,
   "metadata": {},
   "outputs": [
    {
     "name": "stderr",
     "output_type": "stream",
     "text": [
      "/Users/tommelamed/anaconda3/envs/busses/lib/python3.7/site-packages/ipykernel_launcher.py:48: RuntimeWarning: invalid value encountered in less\n"
     ]
    }
   ],
   "source": [
    "(baseline_array_cum, \n",
    " actual_array_cum, \n",
    " baseline_median_array_cum, \n",
    " baseline_pass_count, \n",
    " pass_fraction, \n",
    " baseline_median_pass_count, \n",
    " median_pass_fraction) = calc_baseline_and_actual(se[valid_mask][int(len(se[valid_mask])*3/4):])"
   ]
  },
  {
   "cell_type": "code",
   "execution_count": 283,
   "metadata": {},
   "outputs": [
    {
     "name": "stdout",
     "output_type": "stream",
     "text": [
      "_________________________________________________________________\n",
      "Layer (type)                 Output Shape              Param #   \n",
      "=================================================================\n",
      "input (InputLayer)           (None, 16)                0         \n",
      "_________________________________________________________________\n",
      "dense_62 (Dense)             (None, 128)               2176      \n",
      "_________________________________________________________________\n",
      "dropout_62 (Dropout)         (None, 128)               0         \n",
      "_________________________________________________________________\n",
      "dense_63 (Dense)             (None, 64)                8256      \n",
      "_________________________________________________________________\n",
      "dropout_63 (Dropout)         (None, 64)                0         \n",
      "_________________________________________________________________\n",
      "dense_64 (Dense)             (None, 32)                2080      \n",
      "_________________________________________________________________\n",
      "dropout_64 (Dropout)         (None, 32)                0         \n",
      "_________________________________________________________________\n",
      "dense_65 (Dense)             (None, 32)                1056      \n",
      "_________________________________________________________________\n",
      "dropout_65 (Dropout)         (None, 32)                0         \n",
      "_________________________________________________________________\n",
      "dense_66 (Dense)             (None, 12)                396       \n",
      "_________________________________________________________________\n",
      "dropout_66 (Dropout)         (None, 12)                0         \n",
      "_________________________________________________________________\n",
      "main_output (Dense)          (None, 1)                 13        \n",
      "=================================================================\n",
      "Total params: 13,977\n",
      "Trainable params: 13,977\n",
      "Non-trainable params: 0\n",
      "_________________________________________________________________\n",
      "Train on 2486645 samples, validate on 828882 samples\n",
      "Epoch 1/100\n",
      "2486645/2486645 [==============================] - 92s 37us/step - loss: 0.1940 - val_loss: 0.1853\n",
      "Epoch 2/100\n",
      "2486645/2486645 [==============================] - 89s 36us/step - loss: 0.1824 - val_loss: 0.1776\n",
      "Epoch 3/100\n",
      "2486645/2486645 [==============================] - 89s 36us/step - loss: 0.1782 - val_loss: 0.1754\n",
      "Epoch 4/100\n",
      "2486645/2486645 [==============================] - 89s 36us/step - loss: 0.1760 - val_loss: 0.1741\n",
      "Epoch 5/100\n",
      "2486645/2486645 [==============================] - 90s 36us/step - loss: 0.1745 - val_loss: 0.1716\n",
      "Epoch 6/100\n",
      "2486645/2486645 [==============================] - 89s 36us/step - loss: 0.1731 - val_loss: 0.1709\n",
      "Epoch 7/100\n",
      "2486645/2486645 [==============================] - 89s 36us/step - loss: 0.1722 - val_loss: 0.1677\n",
      "Epoch 8/100\n",
      "2486645/2486645 [==============================] - 89s 36us/step - loss: 0.1712 - val_loss: 0.1679\n",
      "Epoch 9/100\n",
      "2486645/2486645 [==============================] - 89s 36us/step - loss: 0.1706 - val_loss: 0.1674\n",
      "Epoch 10/100\n",
      "2486645/2486645 [==============================] - 89s 36us/step - loss: 0.1700 - val_loss: 0.1662\n",
      "Epoch 11/100\n",
      "2486645/2486645 [==============================] - 89s 36us/step - loss: 0.1693 - val_loss: 0.1668\n",
      "Epoch 12/100\n",
      "2486645/2486645 [==============================] - 89s 36us/step - loss: 0.1688 - val_loss: 0.1633\n",
      "Epoch 13/100\n",
      "2486645/2486645 [==============================] - 89s 36us/step - loss: 0.1684 - val_loss: 0.1636\n",
      "Epoch 14/100\n",
      "2486645/2486645 [==============================] - 89s 36us/step - loss: 0.1682 - val_loss: 0.1636\n"
     ]
    }
   ],
   "source": [
    "# valid_mask = (se_gps_data_hour_prev_next[:,9] >= 3) & \n",
    "# (se['speed_mph'] != np.inf) & \n",
    "# (~np.isnan(se_gps_data_hour_prev_next[:,4]) &\n",
    "# (~np.isnan(se_gps_data_hour_prev_next[:,10]))\n",
    "\n",
    "data = np.hstack((se_gps_data_hour_prev_next[:,1:], se[['line_distance', 'direction_degrees']].values))\n",
    "\n",
    "(train_data_scaled, test_data_scaled, \n",
    " train_target_scaled, test_target_scaled, \n",
    " scaler_target) = prep_training_data(data[valid_mask], se[valid_mask]['speed_mph'])\n",
    "\n",
    "model = create_simple_model(\n",
    "        (train_data_scaled.shape[1]),\n",
    "        0.1)\n",
    "\n",
    "Path(f\"GPS_models\").mkdir(parents=True, exist_ok=True)\n",
    "\n",
    "callbacks_list = [\n",
    "    keras.callbacks.EarlyStopping(monitor=\"val_loss\", patience=2),\n",
    "    keras.callbacks.ModelCheckpoint(\n",
    "        filepath=f\"GPS_models/simple_fulldata_[128,64,32,32,12]_logcosh.h5\",\n",
    "        monitor=\"val_loss\",\n",
    "        save_best_only=True,\n",
    "    ),\n",
    "]\n",
    "\n",
    "# model.compile(optimizer=\"rmsprop\", loss=\"mean_absolute_error\")\n",
    "model.compile(optimizer=\"rmsprop\", loss=\"logcosh\")\n",
    "model.fit(\n",
    "    train_data_scaled,\n",
    "    train_target_scaled,\n",
    "    epochs=100,\n",
    "    callbacks=callbacks_list,\n",
    "    batch_size=32,\n",
    "    validation_data=(test_data_scaled, test_target_scaled),\n",
    ")\n",
    "\n",
    "test_y_scaled = model.predict(test_data_scaled)\n",
    "\n",
    "test_y = scaler_target.inverse_transform(test_y_scaled)"
   ]
  },
  {
   "cell_type": "code",
   "execution_count": 284,
   "metadata": {},
   "outputs": [
    {
     "name": "stdout",
     "output_type": "stream",
     "text": [
      "11.075286\n"
     ]
    },
    {
     "data": {
      "text/plain": [
       "(-5, 35)"
      ]
     },
     "execution_count": 284,
     "metadata": {},
     "output_type": "execute_result"
    },
    {
     "data": {
      "image/png": "[encoded data removed]",
      "text/plain": [
       "<Figure size 432x288 with 1 Axes>"
      ]
     },
     "metadata": {
      "needs_background": "light"
     },
     "output_type": "display_data"
    }
   ],
   "source": [
    "test_target_truth = scaler_target.inverse_transform(test_target_scaled).squeeze()\n",
    "\n",
    "print(np.sqrt(mean_squared_error(test_target_truth, test_y)))\n",
    "\n",
    "plt.hist2d(test_target_truth, test_y.squeeze(), range=[[0,30],[0,30]], bins=[30,30])\n",
    "plt.xlabel(\"true target (mph)\")\n",
    "plt.ylabel(\"prediction target (mph)\")\n",
    "plt.ylim(-5,35)"
   ]
  },
  {
   "cell_type": "code",
   "execution_count": null,
   "metadata": {},
   "outputs": [],
   "source": []
  },
  {
   "cell_type": "code",
   "execution_count": 285,
   "metadata": {},
   "outputs": [
    {
     "name": "stderr",
     "output_type": "stream",
     "text": [
      "/Users/tommelamed/anaconda3/envs/busses/lib/python3.7/site-packages/ipykernel_launcher.py:34: RuntimeWarning: invalid value encountered in less\n"
     ]
    },
    {
     "name": "stdout",
     "output_type": "stream",
     "text": [
      "Approximately -14.76% improvment on baseline\n",
      "Approximately 32.47% are in 10%\n"
     ]
    }
   ],
   "source": [
    "predict_array_RNN_cum, _, pass_fraction = calc_prediction_cum_journeys(se[valid_mask][int(len(se[valid_mask])*3/4):], test_y.squeeze(), baseline_array_cum, actual_array_cum)\n",
    "  "
   ]
  },
  {
   "cell_type": "code",
   "execution_count": 197,
   "metadata": {},
   "outputs": [],
   "source": [
    "def percent_in_x_percent(predict, actual, threshold):\n",
    "    \n",
    "    if np.count_nonzero(~np.isnan(actual)) == 0:\n",
    "        return 0, 0\n",
    "    \n",
    "    threshold = threshold/100\n",
    "    \n",
    "    mask = (~np.isnan(predict) & ~np.isnan(actual))\n",
    "    \n",
    "    pass_count = np.count_nonzero((predict[mask] < actual[mask] * (1 + threshold)) & (predict[mask] > actual[mask] * (1-threshold)))\n",
    "    \n",
    "    over_count = np.count_nonzero(predict[mask] > actual[mask] * (1+threshold))\n",
    "    \n",
    "    under_count = np.count_nonzero(predict[mask] < actual[mask] * (1-threshold))\n",
    "    \n",
    "    pass_percent = pass_count/np.count_nonzero(mask) * 100\n",
    "    \n",
    "    if over_count + under_count == 0:\n",
    "        drift = 0.5\n",
    "    else:\n",
    "        drift = over_count / (over_count + under_count)\n",
    "    \n",
    "    return pass_percent, drift\n",
    "\n",
    "def make_accuracy_matrix_minutes(predict, actual, max_threshold = 50):\n",
    "\n",
    "    actual_ints = np.array(actual/60).astype(int)\n",
    "    \n",
    "    rows = int(max_threshold/10)\n",
    "    \n",
    "    max_a = np.nanmax(actual)/60\n",
    "\n",
    "    accuracies_table = np.empty((rows, int(max_a)))\n",
    "    drift_table = np.empty((rows, int(max_a)))\n",
    "    frequency = np.empty(int(max_a))\n",
    "\n",
    "    for i in range(int(max_a)):\n",
    "        print(\".\", end=\"\", flush=True)\n",
    "        mask = (actual_ints == i)\n",
    "        \n",
    "        frequency[i] = np.count_nonzero(mask)\n",
    "        \n",
    "        for j in range(1, rows+1):\n",
    "            accuracy, drift = percent_in_x_percent(predict[mask], actual[mask], j * 10)\n",
    "            accuracies_table[j-1,i] = accuracy\n",
    "            drift_table[j-1, i] = drift\n",
    "\n",
    "    return accuracies_table, frequency, drift_table\n",
    "\n",
    "def show_accuracy_minutes(predict, actual, title):\n",
    "    results, frequency, drift = make_accuracy_matrix_minutes(predict, actual)\n",
    "    \n",
    "    for i in range(results.shape[0]):\n",
    "        plt.plot(results[i,:], label=f\"{(i+1)*10}%\")\n",
    "        \n",
    "        \n",
    "    plt.xlabel(\"minutes ahead\")\n",
    "    plt.ylabel(\"percentage within threshold\")\n",
    "    plt.legend()\n",
    "    plt.title(title)\n",
    "    plt.xlim(0,20)\n",
    "    plt.ylim(0,100)\n",
    "    plt.gca().yaxis.grid(True, linewidth=\"0.2\")\n",
    "    \n",
    "    ax = plt.gca()\n",
    "    \n",
    "    ax2 = ax.twinx()\n",
    "    ax2.plot(drift[0,:], label=\"fraction over\", linestyle=\":\")\n",
    "    ax2.set_ylim(0,1)\n",
    "   \n",
    "    plt.show()"
   ]
  },
  {
   "cell_type": "code",
   "execution_count": 198,
   "metadata": {},
   "outputs": [],
   "source": [
    "# From: https://stackoverflow.com/questions/51597849/padding-a-numpy-array-with-offsets-for-each-data-column\n",
    "\n",
    "def create_padded_array(a, row_start, n_rows):\n",
    "    r = np.arange(n_rows)[:,None]\n",
    "    row_start = np.asarray(row_start)\n",
    "    mask = (r >= row_start) & (r < row_start+a.shape[0])\n",
    "\n",
    "    out = np.zeros(mask.shape, dtype=a.dtype)\n",
    "    out[:] = np.nan\n",
    "    out.T[mask.T] = a.ravel('F')\n",
    "    return out   \n",
    "\n",
    "def create_triangle(input_array, max_width=70):\n",
    "    \n",
    "    filled_values = np.empty((input_array.shape[0],70)).astype(float)\n",
    "    \n",
    "    filled_values[:] = input_array[:,None]\n",
    "    \n",
    "    return create_padded_array(filled_values, list(range(70)), input_array.shape[0]+71)[:input_array.shape[0],:]\n",
    "    \n",
    "    \n",
    "    "
   ]
  },
  {
   "cell_type": "code",
   "execution_count": 201,
   "metadata": {},
   "outputs": [],
   "source": [
    "def calc_baseline_and_actual(data):\n",
    "    \n",
    "#     if len(calc_mask) == len(data_mask):\n",
    "#         se_min = se[data_mask].copy()\n",
    "#     else:\n",
    "#         se_min = se[data_mask][calc_mask].copy()\n",
    "\n",
    "    se_min = data.copy()\n",
    "    \n",
    "    baseline_array = np.empty((se_min.shape[0],70)).astype(float)\n",
    "    baseline_array[:] = np.nan\n",
    "    \n",
    "    actual_array = np.empty((se_min.shape[0],70)).astype(float)\n",
    "    actual_array[:] = np.nan\n",
    "    \n",
    "    baseline_median_array = np.empty((se_min.shape[0],70)).astype(float)\n",
    "    baseline_median_array[:] = np.nan\n",
    "    \n",
    "    se_min = se_min.reset_index(drop=True)\n",
    "    \n",
    "    runs = se_min.groupby(['date','workid'])\n",
    "    \n",
    "    actual_index = se_min.columns.get_loc(\"segment_duration\")\n",
    "    baseline_index = se_min.columns.get_loc(\"mean_durations_by_segment_code_and_hour_and_day\")\n",
    "    baseline_median_index = se_min.columns.get_loc(\"median_durations_by_segment_code_and_hour_and_day\")\n",
    "\n",
    "    for name, run in runs:\n",
    "        run = run.sort_values(\"actualArrival\")\n",
    "        \n",
    "        baseline_array[run.index,:] = create_triangle(run.iloc[:, baseline_index])\n",
    "        actual_array[run.index,:] = create_triangle(run.iloc[:, actual_index])\n",
    "        baseline_median_array[run.index,:] = create_triangle(run.iloc[:, baseline_median_index])\n",
    "\n",
    "#         run_length = len(run)\n",
    "\n",
    "#         for i in range(min([run_length, 70])):\n",
    " \n",
    "#             baseline_array[run.iloc[i:].index,i] = run.iloc[:run_length-i, baseline_index]\n",
    "\n",
    "#             actual_array[run.iloc[i:].index,i] = run.iloc[:run_length-i, actual_index]\n",
    "            \n",
    "    baseline_array_cum = np.cumsum(baseline_array, axis=1)\n",
    "    actual_array_cum = np.cumsum(actual_array, axis=1)\n",
    "    baseline_median_array_cum = np.cumsum(baseline_median_array, axis=1)\n",
    "    \n",
    "    actual_array_cum = np.clip(actual_array_cum, 0, 2*60*60)\n",
    "    \n",
    "    first_20mins_mask = actual_array_cum < 20*60\n",
    "    \n",
    "    baseline_pass_count = np.count_nonzero((baseline_array_cum[first_20mins_mask] < actual_array_cum[first_20mins_mask] * 1.1) & \\\n",
    "                    (baseline_array_cum[first_20mins_mask] > actual_array_cum[first_20mins_mask] * 0.9))\n",
    "    \n",
    "    pass_fraction = baseline_pass_count/np.count_nonzero(first_20mins_mask)\n",
    "    \n",
    "    baseline_median_pass_count = np.count_nonzero((baseline_median_array_cum[first_20mins_mask] < actual_array_cum[first_20mins_mask] * 1.1) & \\\n",
    "                    (baseline_median_array_cum[first_20mins_mask] > actual_array_cum[first_20mins_mask] * 0.9))\n",
    "    \n",
    "    median_pass_fraction = baseline_median_pass_count/np.count_nonzero(first_20mins_mask)\n",
    "    \n",
    "    return baseline_array_cum, actual_array_cum, baseline_median_array_cum, baseline_pass_count, pass_fraction, baseline_median_pass_count, median_pass_fraction\n"
   ]
  },
  {
   "cell_type": "code",
   "execution_count": 209,
   "metadata": {},
   "outputs": [],
   "source": [
    "def calc_prediction_cum_journeys(data, speeds_mph, baseline_array_cum, actual_array_cum):\n",
    "    \n",
    "#     if len(calc_mask) == len(data_mask):\n",
    "#         se_min = se[data_mask].copy()\n",
    "#     else:\n",
    "#         se_min = se[data_mask][calc_mask].copy()\n",
    "\n",
    "    se_min = data.copy()\n",
    "      \n",
    "    se_min['prediction'] = se_min['line_distance'] * 1000 / speeds_mph * 2.237\n",
    "    \n",
    "    predict_array = np.empty((se_min.shape[0],70)).astype(float)\n",
    "    predict_array[:] = np.nan\n",
    "    \n",
    "    se_min = se_min.reset_index(drop=True)\n",
    "    \n",
    "    runs = se_min.groupby(['date','workid'])\n",
    "    \n",
    "    prediction_index = se_min.columns.get_loc(\"prediction\")\n",
    "    \n",
    "    for name, run in runs:\n",
    "        run = run.sort_values(\"actualArrival\")\n",
    "        \n",
    "        predict_array[run.index,:] = create_triangle(run.iloc[:, prediction_index])\n",
    "\n",
    "#         run_length = len(run)\n",
    "\n",
    "#         for i in range(min([run_length, 70])):\n",
    "\n",
    "#             predict_array[run.iloc[i:].index,i] = run.iloc[:run_length-i, prediction_index]\n",
    "            \n",
    "    predict_array_cum = np.cumsum(predict_array, axis=1)\n",
    "    \n",
    "    first_20mins_mask = actual_array_cum < 20*60\n",
    "    \n",
    "    baseline_pass_count = np.count_nonzero((baseline_array_cum[first_20mins_mask] < actual_array_cum[first_20mins_mask] * 1.1) & \\\n",
    "                    (baseline_array_cum[first_20mins_mask] > actual_array_cum[first_20mins_mask] * 0.9))\n",
    "    \n",
    "    \n",
    "    pass_count = np.count_nonzero((predict_array_cum[first_20mins_mask] < actual_array_cum[first_20mins_mask] * 1.1) & \\\n",
    "                    (predict_array_cum[first_20mins_mask] > actual_array_cum[first_20mins_mask] * 0.9))\n",
    "    \n",
    "    pass_fraction = pass_count/np.count_nonzero(first_20mins_mask)\n",
    "        \n",
    "    print(f\"Approximately {(pass_count - baseline_pass_count)/baseline_pass_count*100:0.2f}% improvment on baseline\")\n",
    "    \n",
    "    print(f\"Approximately {pass_fraction*100:0.2f}% are in 10%\")\n",
    "    \n",
    "    return predict_array_cum, pass_count, pass_fraction\n",
    "    "
   ]
  },
  {
   "cell_type": "code",
   "execution_count": null,
   "metadata": {},
   "outputs": [],
   "source": []
  }
 ],
 "metadata": {
  "kernelspec": {
   "display_name": "busses",
   "language": "python",
   "name": "busses"
  },
  "language_info": {
   "codemirror_mode": {
    "name": "ipython",
    "version": 3
   },
   "file_extension": ".py",
   "mimetype": "text/x-python",
   "name": "python",
   "nbconvert_exporter": "python",
   "pygments_lexer": "ipython3",
   "version": "3.7.1"
  }
 },
 "nbformat": 4,
 "nbformat_minor": 2
}
