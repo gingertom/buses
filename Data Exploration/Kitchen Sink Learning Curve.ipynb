{
 "cells": [
  {
   "cell_type": "code",
   "execution_count": 1,
   "metadata": {},
   "outputs": [
    {
     "name": "stderr",
     "output_type": "stream",
     "text": [
      "Using TensorFlow backend.\n"
     ]
    }
   ],
   "source": [
    "import numpy as np\n",
    "import numpy.ma as ma\n",
    "import pandas as pd\n",
    "import datetime\n",
    "\n",
    "import matplotlib.pyplot as plt\n",
    "\n",
    "from tqdm import tqdm\n",
    "\n",
    "import feather\n",
    "\n",
    "from sklearn.linear_model import LinearRegression\n",
    "\n",
    "from sklearn.metrics import mean_squared_error, mean_absolute_error\n",
    "\n",
    "import os\n",
    "os.environ['KMP_DUPLICATE_LIB_OK']='True'\n",
    "\n",
    "import xgboost as xgb\n",
    "\n",
    "import keras\n",
    "from keras.preprocessing import sequence\n",
    "from keras import layers, Input, Model\n",
    "from keras.models import Sequential\n",
    "from keras.layers import Flatten, Dense, Lambda, LSTM\n",
    "\n",
    "from sklearn import preprocessing\n",
    "from sklearn.ensemble import RandomForestRegressor\n",
    "\n",
    "from math import radians, degrees"
   ]
  },
  {
   "cell_type": "code",
   "execution_count": 2,
   "metadata": {},
   "outputs": [],
   "source": [
    "# # Load in the time_series from the previous stage in the pipeline\n",
    "# correlations = feather.read_dataframe(\"../data_files/B/once/75days/5mins/best_correlations_5mins_code_hour_day.feather\")\n",
    "# correlations = correlations.set_index(correlations.columns[0])\n"
   ]
  },
  {
   "cell_type": "code",
   "execution_count": 3,
   "metadata": {},
   "outputs": [],
   "source": [
    "se = feather.read_dataframe(\"../data_files/B/once/75days/stop_events_with_geo_train_test_averages_prev_next_offsets.feather\")\n",
    "se = se.set_index(se.columns[0])"
   ]
  },
  {
   "cell_type": "code",
   "execution_count": 4,
   "metadata": {},
   "outputs": [],
   "source": [
    "# se.iloc[1978]"
   ]
  },
  {
   "cell_type": "code",
   "execution_count": 5,
   "metadata": {},
   "outputs": [
    {
     "name": "stdout",
     "output_type": "stream",
     "text": [
      "Calculating rare segments...\n",
      "\tCalculated\n"
     ]
    }
   ],
   "source": [
    "def filter_rare(stop_events):\n",
    "\n",
    "    print(\"Calculating rare segments...\")\n",
    "\n",
    "    segment_counts = stop_events.groupby(\"segment_code\").size()\n",
    "\n",
    "    filtered_stop_events = stop_events.drop(\n",
    "        stop_events[\n",
    "            stop_events[\"segment_code\"].isin(\n",
    "                segment_counts[segment_counts < 120].index.values\n",
    "            )\n",
    "        ].index\n",
    "    )\n",
    "\n",
    "    print(\"\\tCalculated\")\n",
    "\n",
    "    return filtered_stop_events\n",
    "\n",
    "se = filter_rare(se)"
   ]
  },
  {
   "cell_type": "code",
   "execution_count": 6,
   "metadata": {},
   "outputs": [
    {
     "data": {
      "text/plain": [
       "(3918931, 133)"
      ]
     },
     "execution_count": 6,
     "metadata": {},
     "output_type": "execute_result"
    }
   ],
   "source": [
    "se.shape"
   ]
  },
  {
   "cell_type": "code",
   "execution_count": 7,
   "metadata": {},
   "outputs": [],
   "source": [
    "se = se.drop(labels=['0', 'best_offset_5_4', 'best_offset_5_3',\n",
    "                           'best_offset_5_2','best_offset_5_1', 'test', \n",
    "                           'train', 'direction', 'midpoint_lon', \n",
    "                           'midpoint_lat', 'publicName', 'stopCode',\n",
    "                           'vehicle', 'workid', 'patternId', 'prev_timingPoint',\n",
    "                          'prev_stopCode', 'segment_code', 'segment_name',\n",
    "                          'prev_segment_code_5', 'prev_segment_code_4',\n",
    "                          'prev_segment_code_3', 'prev_segment_code_2',\n",
    "                          'prev_segment_code_1', 'next_segment_code_5',\n",
    "                          'next_segment_code_4', 'next_segment_code_3',\n",
    "                          'next_segment_code_2', 'next_segment_code_1',\n",
    "                          'prev_event_index_5', 'prev_event_index_4',\n",
    "                          'prev_event_index_3', 'prev_event_index_2',\n",
    "                          'prev_event_index_1', 'next_event_index_5',\n",
    "                          'next_event_index_4', 'next_event_index_3',\n",
    "                          'next_event_index_2', 'next_event_index_1', 'id'], axis=1)"
   ]
  },
  {
   "cell_type": "code",
   "execution_count": 8,
   "metadata": {},
   "outputs": [],
   "source": [
    "se = se.drop(labels=['aimedArrival', 'aimedDeparture', 'actualArrival',\n",
    "        'actualDeparture', 'prev_aimedArrival', 'prev_aimedDeparture',\n",
    "        'prev_actualArrival', 'prev_actualDeparture', 'arrival_5mins',\n",
    "        'offset_timestamp_5_1', 'offset_timestamp_5_2', 'offset_timestamp_5_3',\n",
    "        'offset_timestamp_5_4'], axis=1)"
   ]
  },
  {
   "cell_type": "code",
   "execution_count": 9,
   "metadata": {},
   "outputs": [],
   "source": [
    "se = se.drop(labels=['diff_percent_segment_and_median_by_segment_code', \n",
    "                                 'dwell_duration_dest', 'dwell_duration_prev',\n",
    "                                'full_duration', 'diff_full_segment_and_median_by_segment_code',\n",
    "        'diff_full_segment_and_median_by_segment_code_and_hour_and_day',\n",
    "        'diff_percent_full_segment_and_median_by_segment_code',\n",
    "        'diff_percent_full_segment_and_median_by_segment_code_and_hour_and_day', 'diff_segment_and_median_by_segment_code',\n",
    "        'diff_segment_and_median_by_segment_code_and_hour_and_day',\n",
    "        'diff_percent_segment_and_median_by_segment_code'], axis=1)"
   ]
  },
  {
   "cell_type": "code",
   "execution_count": 10,
   "metadata": {},
   "outputs": [],
   "source": [
    "se = pd.get_dummies(se, columns=['arrival_hour','arrival_day'])"
   ]
  },
  {
   "cell_type": "code",
   "execution_count": 11,
   "metadata": {},
   "outputs": [],
   "source": [
    "se = se.dropna(subset=['diff_percent_segment_and_median_by_segment_code_and_hour_and_day'])"
   ]
  },
  {
   "cell_type": "code",
   "execution_count": 12,
   "metadata": {},
   "outputs": [
    {
     "name": "stderr",
     "output_type": "stream",
     "text": [
      "/Users/tommelamed/anaconda3/envs/busses/lib/python3.7/site-packages/numpy/lib/histograms.py:754: RuntimeWarning: invalid value encountered in greater_equal\n",
      "  keep = (tmp_a >= first_edge)\n",
      "/Users/tommelamed/anaconda3/envs/busses/lib/python3.7/site-packages/numpy/lib/histograms.py:755: RuntimeWarning: invalid value encountered in less_equal\n",
      "  keep &= (tmp_a <= last_edge)\n"
     ]
    },
    {
     "data": {
      "image/png": "[encoded data removed]",
      "text/plain": [
       "<Figure size 432x288 with 1 Axes>"
      ]
     },
     "metadata": {
      "needs_background": "light"
     },
     "output_type": "display_data"
    }
   ],
   "source": [
    "plt.hist(se['clock_direction_degrees'], bins=100);"
   ]
  },
  {
   "cell_type": "code",
   "execution_count": 13,
   "metadata": {},
   "outputs": [],
   "source": [
    "se['clock_direction_degrees'] = se['clock_direction_degrees'].replace(np.nan, np.mean(se['clock_direction_degrees']))\n"
   ]
  },
  {
   "cell_type": "code",
   "execution_count": 14,
   "metadata": {},
   "outputs": [],
   "source": [
    "se['self_offset_5_1'] = se['self_offset_5_1'].fillna(0)\n",
    "\n",
    "for i in range(2,5):\n",
    "      se[f'self_offset_5_{i}'] = se[f'self_offset_5_{i}'].fillna(se[f'self_offset_5_{i-1}'])\n",
    "\n",
    "for i in range(1,5):\n",
    "    for j in range(1,5):\n",
    "    \n",
    "        if i == 1:\n",
    "            se[f'prev_stop_1_offset_5_{j}'] = se[f'prev_stop_1_offset_5_{j}'].fillna(se[f'self_offset_5_{j}']) \n",
    "            se[f'next_stop_1_offset_5_{j}'] = se[f'next_stop_1_offset_5_{j}'].fillna(se[f'self_offset_5_{j}']) \n",
    "        else:\n",
    "            se[f'prev_stop_{i}_offset_5_{j}'] = se[f'prev_stop_{i}_offset_5_{j}'].fillna(se[f'prev_stop_{i-1}_offset_5_{j}']) \n",
    "            se[f'next_stop_{i}_offset_5_{j}'] = se[f'prev_stop_{i}_offset_5_{j}'].fillna(se[f'prev_stop_{i-1}_offset_5_{j}']) \n",
    "\n"
   ]
  },
  {
   "cell_type": "code",
   "execution_count": 15,
   "metadata": {},
   "outputs": [],
   "source": [
    "se = se.replace(np.nan, 0)"
   ]
  },
  {
   "cell_type": "code",
   "execution_count": 16,
   "metadata": {},
   "outputs": [],
   "source": [
    "to_remove = ['mean', 'prev_stop_', 'next_stop_', ]\n",
    "\n",
    "min_cols = [c for c in se.columns if not any(x in c for x in to_remove)]\n",
    "\n",
    "se_min = se[min_cols]"
   ]
  },
  {
   "cell_type": "code",
   "execution_count": 17,
   "metadata": {},
   "outputs": [],
   "source": [
    "se['road_offset_5_1'] = se[['prev_stop_4_offset_5_1', \n",
    "                            'prev_stop_3_offset_5_1', \n",
    "                            'prev_stop_2_offset_5_1', \n",
    "                            'prev_stop_1_offset_5_1',\n",
    "                           'self_offset_5_1',\n",
    "                           'next_stop_1_offset_5_1', \n",
    "                            'next_stop_2_offset_5_1', \n",
    "                            'next_stop_3_offset_5_1', \n",
    "                            'next_stop_4_offset_5_1']].values.tolist()\n",
    "\n",
    "se['road_offset_5_2'] = se[['prev_stop_4_offset_5_2', \n",
    "                            'prev_stop_3_offset_5_2', \n",
    "                            'prev_stop_2_offset_5_2', \n",
    "                            'prev_stop_1_offset_5_2',\n",
    "                           'self_offset_5_2',\n",
    "                           'next_stop_1_offset_5_2', \n",
    "                            'next_stop_2_offset_5_2', \n",
    "                            'next_stop_3_offset_5_2', \n",
    "                            'next_stop_4_offset_5_2']].values.tolist()\n",
    "\n",
    "se['road_offset_5_3'] = se[['prev_stop_4_offset_5_3', \n",
    "                            'prev_stop_3_offset_5_3', \n",
    "                            'prev_stop_2_offset_5_3', \n",
    "                            'prev_stop_1_offset_5_3',\n",
    "                           'self_offset_5_3',\n",
    "                           'next_stop_1_offset_5_3', \n",
    "                            'next_stop_2_offset_5_3', \n",
    "                            'next_stop_3_offset_5_3', \n",
    "                            'next_stop_4_offset_5_3']].values.tolist()\n",
    "\n",
    "se['road_offset_5_4'] = se[['prev_stop_4_offset_5_4', \n",
    "                            'prev_stop_3_offset_5_4', \n",
    "                            'prev_stop_2_offset_5_4', \n",
    "                            'prev_stop_1_offset_5_4',\n",
    "                           'self_offset_5_4',\n",
    "                           'next_stop_1_offset_5_4', \n",
    "                            'next_stop_2_offset_5_4', \n",
    "                            'next_stop_3_offset_5_4', \n",
    "                            'next_stop_4_offset_5_4']].values.tolist()"
   ]
  },
  {
   "cell_type": "code",
   "execution_count": 18,
   "metadata": {},
   "outputs": [],
   "source": [
    "se['road_time_series'] = se[['road_offset_5_1', 'road_offset_5_2', 'road_offset_5_3', 'road_offset_5_4']].values.tolist()\n"
   ]
  },
  {
   "cell_type": "code",
   "execution_count": 19,
   "metadata": {},
   "outputs": [],
   "source": [
    "# np.array(se[\"road_time_series\"].values.tolist()).shape"
   ]
  },
  {
   "cell_type": "code",
   "execution_count": 20,
   "metadata": {},
   "outputs": [],
   "source": [
    "def split_train_test(events, days):\n",
    "\n",
    "    first_day = events[\"date\"].min()\n",
    "\n",
    "#     days = 75\n",
    "\n",
    "    train = events.loc[events[\"date\"].isin(pd.date_range(first_day, periods=days))]\n",
    "\n",
    "    test = events.loc[\n",
    "        events[\"date\"].isin(\n",
    "            pd.date_range(first_day + pd.Timedelta(f\"{days + 1} day\"), periods=14)\n",
    "        )]\n",
    "    \n",
    "    return train, test"
   ]
  },
  {
   "cell_type": "code",
   "execution_count": 21,
   "metadata": {},
   "outputs": [],
   "source": [
    "train, test = split_train_test(se_min, 75)\n",
    "\n",
    "train_st, test_st = split_train_test(se[['road_time_series', 'date', 'diff_percent_segment_and_median_by_segment_code_and_hour_and_day', 'segment_duration']], 75)"
   ]
  },
  {
   "cell_type": "code",
   "execution_count": 22,
   "metadata": {},
   "outputs": [],
   "source": [
    "# train_matrix = stop_events[stop_events['train']][['line_distance', 'to_centre_dist', 'direction_degrees', 'best_0', 'best_1', 'best_2', 'best_3', 'best_4', 'best_5', 'best_6', 'best_7', 'best_8', 'best_9', '30', '31', '32', '33', '34', '35', '36', '37', '38', '39']].values\n",
    "train_matrix = train.drop([\"diff_percent_segment_and_median_by_segment_code_and_hour_and_day\", 'date', 'segment_duration'], axis=1)\n",
    "train_matrix_st = train_st.drop([\"diff_percent_segment_and_median_by_segment_code_and_hour_and_day\", 'date', 'segment_duration'], axis=1)\n",
    "train_target = train[\"diff_percent_segment_and_median_by_segment_code_and_hour_and_day\"]\n",
    "\n",
    "# test_matrix = stop_events[stop_events['test']][['line_distance', 'to_centre_dist', 'direction_degrees', 'best_0', 'best_1', 'best_2', 'best_3', 'best_4', 'best_5', 'best_6', 'best_7', 'best_8', 'best_9', '30', '31', '32', '33', '34', '35', '36', '37', '38', '39']].values\n",
    "test_matrix = test.drop([\"diff_percent_segment_and_median_by_segment_code_and_hour_and_day\", \"date\", 'segment_duration'], axis=1)\n",
    "test_matrix_st = test_st.drop([\"diff_percent_segment_and_median_by_segment_code_and_hour_and_day\", \"date\", 'segment_duration'], axis=1)\n",
    "test_target = test[\"diff_percent_segment_and_median_by_segment_code_and_hour_and_day\"]"
   ]
  },
  {
   "cell_type": "code",
   "execution_count": 23,
   "metadata": {},
   "outputs": [
    {
     "name": "stdout",
     "output_type": "stream",
     "text": [
      "-14925.0\n",
      "inf\n",
      "-3482.608695652174\n",
      "10467.441860465116\n"
     ]
    }
   ],
   "source": [
    "print(train_target.min())\n",
    "print(train_target.max())\n",
    "\n",
    "print(test_target.min())\n",
    "print(test_target.max())"
   ]
  },
  {
   "cell_type": "code",
   "execution_count": 24,
   "metadata": {},
   "outputs": [],
   "source": [
    "# se[se['diff_percent_segment_and_median_by_segment_code_and_hour_and_day'] > 5000][['segment_duration', 'timetable_segment_duration', 'median_durations_by_segment_code_and_hour_and_day']]"
   ]
  },
  {
   "cell_type": "code",
   "execution_count": 25,
   "metadata": {},
   "outputs": [],
   "source": [
    "train_target = np.nan_to_num(train_target)\n",
    "test_target = np.nan_to_num(test_target)"
   ]
  },
  {
   "cell_type": "code",
   "execution_count": 26,
   "metadata": {},
   "outputs": [],
   "source": [
    "train_target = np.clip(train_target, -1000, 10000)\n",
    "test_target = np.clip(test_target, -1000, 10000)"
   ]
  },
  {
   "cell_type": "code",
   "execution_count": 27,
   "metadata": {},
   "outputs": [],
   "source": [
    "train_matrix_st = np.array(train_matrix_st.values.tolist()).squeeze()\n",
    "test_matrix_st = np.array(test_matrix_st.values.tolist()).squeeze()"
   ]
  },
  {
   "cell_type": "code",
   "execution_count": 28,
   "metadata": {},
   "outputs": [
    {
     "name": "stdout",
     "output_type": "stream",
     "text": [
      "(3257131, 4, 9)\n",
      "(661623, 4, 9)\n"
     ]
    }
   ],
   "source": [
    "\n",
    "print(train_matrix_st.shape)\n",
    "print(test_matrix_st.shape)"
   ]
  },
  {
   "cell_type": "code",
   "execution_count": 29,
   "metadata": {},
   "outputs": [],
   "source": [
    "# se.columns"
   ]
  },
  {
   "cell_type": "code",
   "execution_count": 30,
   "metadata": {},
   "outputs": [],
   "source": [
    "reg = LinearRegression().fit(train_matrix, train_target)\n",
    "\n",
    "reg_results = reg.predict(test_matrix)"
   ]
  },
  {
   "cell_type": "code",
   "execution_count": 31,
   "metadata": {},
   "outputs": [
    {
     "data": {
      "text/plain": [
       "0.16819064376854587"
      ]
     },
     "execution_count": 31,
     "metadata": {},
     "output_type": "execute_result"
    }
   ],
   "source": [
    "reg.score(test_matrix, test_target)\n",
    "\n"
   ]
  },
  {
   "cell_type": "code",
   "execution_count": 32,
   "metadata": {},
   "outputs": [],
   "source": [
    "rmse_lr = np.sqrt(mean_squared_error(test_target, reg_results))\n",
    "mae_lr = mean_absolute_error(test_target, reg_results)\n"
   ]
  },
  {
   "cell_type": "code",
   "execution_count": 33,
   "metadata": {},
   "outputs": [
    {
     "name": "stdout",
     "output_type": "stream",
     "text": [
      "91.25130548613238\n",
      "39.30237304982279\n"
     ]
    }
   ],
   "source": [
    "print(rmse_lr)\n",
    "print(mae_lr)\n"
   ]
  },
  {
   "cell_type": "code",
   "execution_count": 34,
   "metadata": {},
   "outputs": [
    {
     "data": {
      "text/plain": [
       "(array([ 2.,  2.,  3.,  1.,  2., 31.,  1.,  3.,  4.,  3.]),\n",
       " array([-42.5606705 , -34.98217437, -27.40367823, -19.8251821 ,\n",
       "        -12.24668596,  -4.66818982,   2.91030631,  10.48880245,\n",
       "         18.06729859,  25.64579472,  33.22429086]),\n",
       " <a list of 10 Patch objects>)"
      ]
     },
     "execution_count": 34,
     "metadata": {},
     "output_type": "execute_result"
    },
    {
     "data": {
      "image/png": "[encoded data removed]",
      "text/plain": [
       "<Figure size 432x288 with 1 Axes>"
      ]
     },
     "metadata": {
      "needs_background": "light"
     },
     "output_type": "display_data"
    }
   ],
   "source": [
    "plt.hist(reg.coef_)"
   ]
  },
  {
   "cell_type": "code",
   "execution_count": 35,
   "metadata": {},
   "outputs": [],
   "source": [
    "# data_dmatrix = xgb.DMatrix(data=train_matrix,label=train_target)\n"
   ]
  },
  {
   "cell_type": "code",
   "execution_count": 36,
   "metadata": {},
   "outputs": [],
   "source": [
    "xg_reg = xgb.XGBRegressor(objective ='reg:linear', eval_metric='mae', booster='gbtree', n_jobs=5, max_depth=5, n_estimators=100, verbosity=1)\n"
   ]
  },
  {
   "cell_type": "code",
   "execution_count": 37,
   "metadata": {},
   "outputs": [],
   "source": [
    "xg_reg.fit(train_matrix, train_target)\n",
    "\n",
    "xg_reg.save_model(\"xg_model_xgboost\")\n",
    "\n",
    "# xg_reg.load_model(\"xg_model_xgboost\")"
   ]
  },
  {
   "cell_type": "code",
   "execution_count": 38,
   "metadata": {},
   "outputs": [],
   "source": [
    "xg_reg_results = xg_reg.predict(test_matrix)"
   ]
  },
  {
   "cell_type": "code",
   "execution_count": 39,
   "metadata": {},
   "outputs": [],
   "source": [
    "rmse_xg = np.sqrt(mean_squared_error(test_target, xg_reg_results))\n",
    "mae_xg = mean_absolute_error(test_target, xg_reg_results)"
   ]
  },
  {
   "cell_type": "code",
   "execution_count": 40,
   "metadata": {},
   "outputs": [
    {
     "name": "stdout",
     "output_type": "stream",
     "text": [
      "83.5568248477292\n",
      "36.33848954736486\n"
     ]
    }
   ],
   "source": [
    "print(rmse_xg)\n",
    "print(mae_xg)"
   ]
  },
  {
   "cell_type": "code",
   "execution_count": 41,
   "metadata": {},
   "outputs": [],
   "source": [
    "\n",
    "rf_reg = xgb.XGBRegressor(objective ='reg:linear', eval_metric='mae', booster='gbtree', n_jobs=5, max_depth=10, verbosity=2, colsample_bynode=0.8, learning_rate=1, num_parallel_tree=100, subsample=0.8, tree_method='hist')\n"
   ]
  },
  {
   "cell_type": "code",
   "execution_count": 42,
   "metadata": {},
   "outputs": [],
   "source": [
    "rf_reg.fit(train_matrix, train_target)\n",
    "\n",
    "rf_reg.save_model(\"rf_model_xgboost\")\n",
    "\n",
    "# rf_reg.load_model(\"rf_model_xgboost\")"
   ]
  },
  {
   "cell_type": "code",
   "execution_count": 43,
   "metadata": {},
   "outputs": [],
   "source": [
    "rf_reg_results = rf_reg.predict(test_matrix)"
   ]
  },
  {
   "cell_type": "code",
   "execution_count": 44,
   "metadata": {},
   "outputs": [],
   "source": [
    "rmse_rf = np.sqrt(mean_squared_error(test_target, rf_reg_results))\n",
    "mae_rf = mean_absolute_error(test_target, rf_reg_results)"
   ]
  },
  {
   "cell_type": "code",
   "execution_count": 45,
   "metadata": {},
   "outputs": [
    {
     "name": "stdout",
     "output_type": "stream",
     "text": [
      "82.03259637518343\n",
      "33.93585245832567\n"
     ]
    }
   ],
   "source": [
    "print(rmse_rf)\n",
    "print(mae_rf)"
   ]
  },
  {
   "cell_type": "code",
   "execution_count": 46,
   "metadata": {},
   "outputs": [
    {
     "data": {
      "text/plain": [
       "Index(['arrival_hour_5', 'median_full_durations_by_segment_code',\n",
       "       'median_durations_by_segment_code', 'self_offset_5_1', 'arrival_hour_0',\n",
       "       'timingPoint', 'arrival_hour_6',\n",
       "       'median_dwell_prev_durations_by_stop_code', 'arrival_hour_23',\n",
       "       'self_offset_5_3', 'arrival_hour_7',\n",
       "       'median_dwell_dest_durations_by_stop_code', 'self_offset_5_2',\n",
       "       'timetable_segment_duration', 'median_dwell_dest_by_stop_code_and_hour',\n",
       "       'clock_direction_degrees', 'direction_degrees', 'to_centre_dist',\n",
       "       'median_dwell_dest_by_stop_code_and_hour_and_day', 'arrival_hour_9',\n",
       "       'median_full_durations_by_segment_code_and_hour_and_day',\n",
       "       'arrival_hour_20', 'arrival_hour_19', 'arrival_day_6',\n",
       "       'arrival_hour_17', 'median_dwell_prev_by_stop_code_and_hour',\n",
       "       'line_distance', 'median_durations_by_segment_code_and_hour_and_day',\n",
       "       'median_dwell_prev_by_stop_code_and_hour_and_day',\n",
       "       'median_durations_by_segment_code_and_hour', 'scheduledStart',\n",
       "       'arrival_hour_15', 'median_full_durations_by_segment_code_and_hour',\n",
       "       'arrival_day_5', 'arrival_hour_21', 'arrival_hour_10', 'arrival_day_0',\n",
       "       'arrival_day_1', 'arrival_hour_22', 'arrival_hour_18',\n",
       "       'self_offset_5_4', 'rain', 'arrival_day_3', 'arrival_hour_12',\n",
       "       'arrival_hour_14', 'arrival_day_2', 'arrival_hour_11',\n",
       "       'arrival_hour_13', 'arrival_hour_8', 'arrival_hour_16', 'arrival_day_4',\n",
       "       'arrival_hour_1'],\n",
       "      dtype='object')"
      ]
     },
     "execution_count": 46,
     "metadata": {},
     "output_type": "execute_result"
    }
   ],
   "source": [
    "test_matrix.columns[np.argsort(rf_reg.feature_importances_)[::-1]]"
   ]
  },
  {
   "cell_type": "code",
   "execution_count": 47,
   "metadata": {},
   "outputs": [
    {
     "data": {
      "text/plain": [
       "Index(['median_full_durations_by_segment_code', 'self_offset_5_1',\n",
       "       'self_offset_5_3', 'median_dwell_prev_durations_by_stop_code',\n",
       "       'timingPoint', 'median_durations_by_segment_code_and_hour_and_day',\n",
       "       'median_durations_by_segment_code', 'arrival_hour_9',\n",
       "       'median_dwell_dest_durations_by_stop_code', 'arrival_hour_0',\n",
       "       'median_dwell_dest_by_stop_code_and_hour_and_day',\n",
       "       'median_dwell_prev_by_stop_code_and_hour',\n",
       "       'median_dwell_dest_by_stop_code_and_hour', 'timetable_segment_duration',\n",
       "       'median_dwell_prev_by_stop_code_and_hour_and_day', 'line_distance',\n",
       "       'self_offset_5_2', 'median_durations_by_segment_code_and_hour',\n",
       "       'to_centre_dist', 'direction_degrees',\n",
       "       'median_full_durations_by_segment_code_and_hour_and_day',\n",
       "       'arrival_day_3', 'clock_direction_degrees', 'arrival_hour_23',\n",
       "       'median_full_durations_by_segment_code_and_hour', 'arrival_day_5',\n",
       "       'scheduledStart', 'self_offset_5_4', 'arrival_hour_17', 'rain',\n",
       "       'arrival_hour_18', 'arrival_hour_13', 'arrival_day_0', 'arrival_hour_8',\n",
       "       'arrival_hour_15', 'arrival_day_6', 'arrival_hour_19', 'arrival_hour_5',\n",
       "       'arrival_hour_6', 'arrival_hour_7', 'arrival_hour_10',\n",
       "       'arrival_hour_11', 'arrival_hour_12', 'arrival_hour_14',\n",
       "       'arrival_hour_16', 'arrival_hour_20', 'arrival_hour_21',\n",
       "       'arrival_hour_22', 'arrival_day_1', 'arrival_day_2', 'arrival_day_4',\n",
       "       'arrival_hour_1'],\n",
       "      dtype='object')"
      ]
     },
     "execution_count": 47,
     "metadata": {},
     "output_type": "execute_result"
    }
   ],
   "source": [
    "test_matrix.columns[np.argsort(xg_reg.feature_importances_)[::-1]]"
   ]
  },
  {
   "cell_type": "code",
   "execution_count": 48,
   "metadata": {},
   "outputs": [
    {
     "data": {
      "text/plain": [
       "(3257131, 4, 9)"
      ]
     },
     "execution_count": 48,
     "metadata": {},
     "output_type": "execute_result"
    }
   ],
   "source": [
    "train_matrix_st.shape"
   ]
  },
  {
   "cell_type": "markdown",
   "metadata": {},
   "source": [
    "## Network section"
   ]
  },
  {
   "cell_type": "markdown",
   "metadata": {},
   "source": [
    "### Scaling"
   ]
  },
  {
   "cell_type": "code",
   "execution_count": 49,
   "metadata": {},
   "outputs": [
    {
     "name": "stderr",
     "output_type": "stream",
     "text": [
      "/Users/tommelamed/anaconda3/envs/busses/lib/python3.7/site-packages/sklearn/preprocessing/data.py:625: DataConversionWarning: Data with input dtype uint8, int64, float64 were all converted to float64 by StandardScaler.\n",
      "  return self.partial_fit(X, y)\n",
      "/Users/tommelamed/anaconda3/envs/busses/lib/python3.7/site-packages/ipykernel_launcher.py:3: DataConversionWarning: Data with input dtype uint8, int64, float64 were all converted to float64 by StandardScaler.\n",
      "  This is separate from the ipykernel package so we can avoid doing imports until\n",
      "/Users/tommelamed/anaconda3/envs/busses/lib/python3.7/site-packages/ipykernel_launcher.py:4: DataConversionWarning: Data with input dtype uint8, int64, float64 were all converted to float64 by StandardScaler.\n",
      "  after removing the cwd from sys.path.\n"
     ]
    }
   ],
   "source": [
    "scaler_matrix = preprocessing.StandardScaler().fit(train_matrix)\n",
    "\n",
    "train_matrix_scaled = scaler_matrix.transform(train_matrix)\n",
    "test_matrix_scaled = scaler_matrix.transform(test_matrix)\n",
    "\n",
    "scaler_target = preprocessing.StandardScaler().fit(train_target[:,None])\n",
    "\n",
    "train_target_scaled = scaler_target.transform(train_target[:,None])\n",
    "test_target_scaled = scaler_target.transform(test_target[:,None])\n",
    "\n",
    "st_scaler = preprocessing.StandardScaler()\n",
    "train_matrix_st_shape = train_matrix_st.shape\n",
    "test_matrix_st_shape = test_matrix_st.shape\n",
    "train_matrix_st = st_scaler.fit_transform(train_matrix_st.reshape(len(train_target_scaled), -1)).reshape(train_matrix_st_shape)\n",
    "test_matrix_st = st_scaler.transform(test_matrix_st.reshape(len(test_target_scaled), -1)).reshape(test_matrix_st_shape)\n",
    "# for i in range(train_matrix_st.shape[2]):\n",
    "#     train_matrix_st[:, :, i] = st_scaler.transform(train_matrix_st[:, :, i]) \n",
    "\n",
    "# for i in range(test_matrix_st.shape[2]):\n",
    "#     test_matrix_st[:, :, i] = st_scaler.transform(test_matrix_st[:, :, i]) "
   ]
  },
  {
   "cell_type": "markdown",
   "metadata": {},
   "source": [
    "### Fully connected"
   ]
  },
  {
   "cell_type": "code",
   "execution_count": 50,
   "metadata": {},
   "outputs": [],
   "source": [
    "def create_fully_connected(input_width):\n",
    "    model = Sequential()\n",
    "    \n",
    "    model.add(Dense(32, input_dim=input_width, activation='relu'))\n",
    "    model.add(layers.Dropout(rate=0.2))\n",
    "    model.add(Dense(12, activation='relu'))\n",
    "    model.add(layers.Dropout(rate=0.2))\n",
    "    model.add(Dense(12, activation='relu'))\n",
    "    model.add(layers.Dropout(rate=0.2))\n",
    "    model.add(Dense(1, activation='tanh'))\n",
    "    model.summary()\n",
    "    \n",
    "    return model"
   ]
  },
  {
   "cell_type": "code",
   "execution_count": 51,
   "metadata": {},
   "outputs": [
    {
     "name": "stdout",
     "output_type": "stream",
     "text": [
      "WARNING:tensorflow:From /Users/tommelamed/anaconda3/envs/busses/lib/python3.7/site-packages/tensorflow/python/framework/op_def_library.py:263: colocate_with (from tensorflow.python.framework.ops) is deprecated and will be removed in a future version.\n",
      "Instructions for updating:\n",
      "Colocations handled automatically by placer.\n",
      "WARNING:tensorflow:From /Users/tommelamed/anaconda3/envs/busses/lib/python3.7/site-packages/keras/backend/tensorflow_backend.py:3445: calling dropout (from tensorflow.python.ops.nn_ops) with keep_prob is deprecated and will be removed in a future version.\n",
      "Instructions for updating:\n",
      "Please use `rate` instead of `keep_prob`. Rate should be set to `rate = 1 - keep_prob`.\n",
      "_________________________________________________________________\n",
      "Layer (type)                 Output Shape              Param #   \n",
      "=================================================================\n",
      "dense_1 (Dense)              (None, 32)                1696      \n",
      "_________________________________________________________________\n",
      "dropout_1 (Dropout)          (None, 32)                0         \n",
      "_________________________________________________________________\n",
      "dense_2 (Dense)              (None, 12)                396       \n",
      "_________________________________________________________________\n",
      "dropout_2 (Dropout)          (None, 12)                0         \n",
      "_________________________________________________________________\n",
      "dense_3 (Dense)              (None, 12)                156       \n",
      "_________________________________________________________________\n",
      "dropout_3 (Dropout)          (None, 12)                0         \n",
      "_________________________________________________________________\n",
      "dense_4 (Dense)              (None, 1)                 13        \n",
      "=================================================================\n",
      "Total params: 2,261\n",
      "Trainable params: 2,261\n",
      "Non-trainable params: 0\n",
      "_________________________________________________________________\n",
      "WARNING:tensorflow:From /Users/tommelamed/anaconda3/envs/busses/lib/python3.7/site-packages/tensorflow/python/ops/math_ops.py:3066: to_int32 (from tensorflow.python.ops.math_ops) is deprecated and will be removed in a future version.\n",
      "Instructions for updating:\n",
      "Use tf.cast instead.\n",
      "Train on 3257131 samples, validate on 661623 samples\n",
      "Epoch 1/10\n",
      "3257131/3257131 [==============================] - 76s 23us/step - loss: 0.3331 - mean_absolute_error: 0.3331 - val_loss: 0.3421 - val_mean_absolute_error: 0.3421\n",
      "Epoch 2/10\n",
      "3257131/3257131 [==============================] - 74s 23us/step - loss: 0.3195 - mean_absolute_error: 0.3195 - val_loss: 0.3377 - val_mean_absolute_error: 0.3377\n",
      "Epoch 3/10\n",
      "3257131/3257131 [==============================] - 73s 22us/step - loss: 0.3172 - mean_absolute_error: 0.3172 - val_loss: 0.3364 - val_mean_absolute_error: 0.3364\n",
      "Epoch 4/10\n",
      "3257131/3257131 [==============================] - 71s 22us/step - loss: 0.3162 - mean_absolute_error: 0.3162 - val_loss: 0.3358 - val_mean_absolute_error: 0.3358\n",
      "Epoch 5/10\n",
      "3257131/3257131 [==============================] - 71s 22us/step - loss: 0.3155 - mean_absolute_error: 0.3155 - val_loss: 0.3369 - val_mean_absolute_error: 0.3369\n",
      "Epoch 6/10\n",
      "3257131/3257131 [==============================] - 71s 22us/step - loss: 0.3152 - mean_absolute_error: 0.3152 - val_loss: 0.3369 - val_mean_absolute_error: 0.3369\n"
     ]
    }
   ],
   "source": [
    "model = create_fully_connected(train_matrix.shape[1])\n",
    "\n",
    "callbacks_list = [\n",
    "    keras.callbacks.EarlyStopping(monitor='val_loss', patience=2),\n",
    "    keras.callbacks.ModelCheckpoint(filepath='full_conn_model.h5', monitor='val_loss', save_best_only=True)\n",
    "]\n",
    "\n",
    "model.compile(optimizer='adam',\n",
    "              loss='mean_absolute_error',\n",
    "              metrics=['MAE'])\n",
    "history = model.fit(train_matrix_scaled, train_target_scaled,\n",
    "                    epochs=10,\n",
    "                    callbacks=callbacks_list,\n",
    "                    batch_size=512,\n",
    "                    validation_data=(test_matrix_scaled, test_target_scaled))"
   ]
  },
  {
   "cell_type": "code",
   "execution_count": 52,
   "metadata": {},
   "outputs": [
    {
     "name": "stdout",
     "output_type": "stream",
     "text": [
      "_________________________________________________________________\n",
      "Layer (type)                 Output Shape              Param #   \n",
      "=================================================================\n",
      "dense_5 (Dense)              (None, 32)                1696      \n",
      "_________________________________________________________________\n",
      "dropout_4 (Dropout)          (None, 32)                0         \n",
      "_________________________________________________________________\n",
      "dense_6 (Dense)              (None, 12)                396       \n",
      "_________________________________________________________________\n",
      "dropout_5 (Dropout)          (None, 12)                0         \n",
      "_________________________________________________________________\n",
      "dense_7 (Dense)              (None, 12)                156       \n",
      "_________________________________________________________________\n",
      "dropout_6 (Dropout)          (None, 12)                0         \n",
      "_________________________________________________________________\n",
      "dense_8 (Dense)              (None, 1)                 13        \n",
      "=================================================================\n",
      "Total params: 2,261\n",
      "Trainable params: 2,261\n",
      "Non-trainable params: 0\n",
      "_________________________________________________________________\n"
     ]
    }
   ],
   "source": [
    "model_to_load = 'full_conn_model.h5'\n",
    "\n",
    "# Create the network and load the weights into it\n",
    "model = create_fully_connected(test_matrix.shape[1])\n",
    "model.load_weights(model_to_load)\n",
    "\n",
    "model.compile(optimizer='rmsprop',\n",
    "              loss='mean_absolute_error',\n",
    "              metrics=['acc'])\n",
    "test_y_scaled = model.predict(test_matrix_scaled)\n",
    "\n",
    "NN_results = scaler_target.inverse_transform(test_y_scaled).squeeze()"
   ]
  },
  {
   "cell_type": "code",
   "execution_count": 53,
   "metadata": {},
   "outputs": [],
   "source": [
    "rmse_NN = np.sqrt(mean_squared_error(test_target, NN_results))\n",
    "mae_NN = mean_absolute_error(test_target, NN_results)\n",
    "\n"
   ]
  },
  {
   "cell_type": "code",
   "execution_count": 54,
   "metadata": {},
   "outputs": [
    {
     "name": "stdout",
     "output_type": "stream",
     "text": [
      "96.37559727902867\n",
      "33.60809916860867\n"
     ]
    }
   ],
   "source": [
    "print(rmse_NN)\n",
    "print(mae_NN)"
   ]
  },
  {
   "cell_type": "markdown",
   "metadata": {},
   "source": [
    "### LSTM"
   ]
  },
  {
   "cell_type": "code",
   "execution_count": 55,
   "metadata": {},
   "outputs": [],
   "source": [
    "def create_LSTM(input_shape):\n",
    "    \n",
    "    model = Sequential()\n",
    "    \n",
    "    model.add(LSTM(40, input_shape=input_shape))\n",
    "    model.add(layers.Dropout(rate=0.2))\n",
    "    model.add(Dense(24, activation='relu'))\n",
    "    model.add(layers.Dropout(rate=0.2))\n",
    "    model.add(Dense(12, activation='relu'))\n",
    "    model.add(layers.Dropout(rate=0.2))\n",
    "    model.add(Dense(12, activation='relu'))\n",
    "    model.add(layers.Dropout(rate=0.2))\n",
    "    model.add(Dense(1, activation='tanh'))\n",
    "    model.summary()\n",
    "    \n",
    "    return model"
   ]
  },
  {
   "cell_type": "code",
   "execution_count": 56,
   "metadata": {},
   "outputs": [
    {
     "name": "stdout",
     "output_type": "stream",
     "text": [
      "_________________________________________________________________\n",
      "Layer (type)                 Output Shape              Param #   \n",
      "=================================================================\n",
      "lstm_1 (LSTM)                (None, 40)                8000      \n",
      "_________________________________________________________________\n",
      "dropout_7 (Dropout)          (None, 40)                0         \n",
      "_________________________________________________________________\n",
      "dense_9 (Dense)              (None, 24)                984       \n",
      "_________________________________________________________________\n",
      "dropout_8 (Dropout)          (None, 24)                0         \n",
      "_________________________________________________________________\n",
      "dense_10 (Dense)             (None, 12)                300       \n",
      "_________________________________________________________________\n",
      "dropout_9 (Dropout)          (None, 12)                0         \n",
      "_________________________________________________________________\n",
      "dense_11 (Dense)             (None, 12)                156       \n",
      "_________________________________________________________________\n",
      "dropout_10 (Dropout)         (None, 12)                0         \n",
      "_________________________________________________________________\n",
      "dense_12 (Dense)             (None, 1)                 13        \n",
      "=================================================================\n",
      "Total params: 9,453\n",
      "Trainable params: 9,453\n",
      "Non-trainable params: 0\n",
      "_________________________________________________________________\n",
      "Train on 3257131 samples, validate on 661623 samples\n",
      "Epoch 1/10\n",
      "3257131/3257131 [==============================] - 299s 92us/step - loss: 0.3336 - mean_absolute_error: 0.3336 - val_loss: 0.3542 - val_mean_absolute_error: 0.3542\n",
      "Epoch 2/10\n",
      "3257131/3257131 [==============================] - 294s 90us/step - loss: 0.3289 - mean_absolute_error: 0.3289 - val_loss: 0.3520 - val_mean_absolute_error: 0.3520\n",
      "Epoch 3/10\n",
      "3257131/3257131 [==============================] - 294s 90us/step - loss: 0.3277 - mean_absolute_error: 0.3277 - val_loss: 0.3517 - val_mean_absolute_error: 0.3517\n",
      "Epoch 4/10\n",
      "3257131/3257131 [==============================] - 293s 90us/step - loss: 0.3271 - mean_absolute_error: 0.3271 - val_loss: 0.3511 - val_mean_absolute_error: 0.3511\n",
      "Epoch 5/10\n",
      "3257131/3257131 [==============================] - 293s 90us/step - loss: 0.3267 - mean_absolute_error: 0.3267 - val_loss: 0.3518 - val_mean_absolute_error: 0.3518\n",
      "Epoch 6/10\n",
      "3257131/3257131 [==============================] - 294s 90us/step - loss: 0.3264 - mean_absolute_error: 0.3264 - val_loss: 0.3501 - val_mean_absolute_error: 0.3501\n",
      "Epoch 7/10\n",
      "3257131/3257131 [==============================] - 295s 90us/step - loss: 0.3261 - mean_absolute_error: 0.3261 - val_loss: 0.3501 - val_mean_absolute_error: 0.3501\n",
      "Epoch 8/10\n",
      "3257131/3257131 [==============================] - 293s 90us/step - loss: 0.3258 - mean_absolute_error: 0.3258 - val_loss: 0.3503 - val_mean_absolute_error: 0.3503\n"
     ]
    }
   ],
   "source": [
    "model = create_LSTM((train_matrix_st.shape[1], train_matrix_st.shape[2]))\n",
    "\n",
    "callbacks_list = [\n",
    "    keras.callbacks.EarlyStopping(monitor='val_loss', patience=2),\n",
    "    keras.callbacks.ModelCheckpoint(filepath='lstm_model.h5', monitor='val_loss', save_best_only=True)\n",
    "]\n",
    "\n",
    "model.compile(optimizer='adam',\n",
    "              loss='mean_absolute_error',\n",
    "              metrics=['MAE'])\n",
    "history = model.fit(train_matrix_st, train_target_scaled,\n",
    "                    epochs=10,\n",
    "                    callbacks=callbacks_list,\n",
    "                    batch_size=512,\n",
    "                    validation_data=(test_matrix_st, test_target_scaled))"
   ]
  },
  {
   "cell_type": "code",
   "execution_count": 57,
   "metadata": {},
   "outputs": [
    {
     "name": "stdout",
     "output_type": "stream",
     "text": [
      "_________________________________________________________________\n",
      "Layer (type)                 Output Shape              Param #   \n",
      "=================================================================\n",
      "lstm_2 (LSTM)                (None, 40)                8000      \n",
      "_________________________________________________________________\n",
      "dropout_11 (Dropout)         (None, 40)                0         \n",
      "_________________________________________________________________\n",
      "dense_13 (Dense)             (None, 24)                984       \n",
      "_________________________________________________________________\n",
      "dropout_12 (Dropout)         (None, 24)                0         \n",
      "_________________________________________________________________\n",
      "dense_14 (Dense)             (None, 12)                300       \n",
      "_________________________________________________________________\n",
      "dropout_13 (Dropout)         (None, 12)                0         \n",
      "_________________________________________________________________\n",
      "dense_15 (Dense)             (None, 12)                156       \n",
      "_________________________________________________________________\n",
      "dropout_14 (Dropout)         (None, 12)                0         \n",
      "_________________________________________________________________\n",
      "dense_16 (Dense)             (None, 1)                 13        \n",
      "=================================================================\n",
      "Total params: 9,453\n",
      "Trainable params: 9,453\n",
      "Non-trainable params: 0\n",
      "_________________________________________________________________\n"
     ]
    }
   ],
   "source": [
    "model_to_load = 'lstm_model.h5'\n",
    "\n",
    "# Create the network and load the weights into it\n",
    "model = create_LSTM((train_matrix_st.shape[1], train_matrix_st.shape[2]))\n",
    "model.load_weights(model_to_load)\n",
    "\n",
    "model.compile(optimizer='rmsprop',\n",
    "              loss='mean_absolute_error',\n",
    "              metrics=['MAE'])\n",
    "test_y_scaled = model.predict(test_matrix_st)\n",
    "\n",
    "NN_lstm_results = scaler_target.inverse_transform(test_y_scaled).squeeze()"
   ]
  },
  {
   "cell_type": "code",
   "execution_count": 58,
   "metadata": {},
   "outputs": [],
   "source": [
    "rmse_NN_lstm = np.sqrt(mean_squared_error(test_target, NN_lstm_results))\n",
    "mae_NN_lstm = mean_absolute_error(test_target, NN_lstm_results)\n"
   ]
  },
  {
   "cell_type": "code",
   "execution_count": 59,
   "metadata": {},
   "outputs": [
    {
     "name": "stdout",
     "output_type": "stream",
     "text": [
      "97.98262583979275\n",
      "35.040458405650206\n"
     ]
    }
   ],
   "source": [
    "print(rmse_NN_lstm)\n",
    "print(mae_NN_lstm)"
   ]
  },
  {
   "cell_type": "markdown",
   "metadata": {},
   "source": [
    "### Combined"
   ]
  },
  {
   "cell_type": "code",
   "execution_count": 60,
   "metadata": {},
   "outputs": [],
   "source": [
    "def create_combined_model(road_input_shape, aux_input_shape):\n",
    "    \n",
    "    # Headline input: meant to receive road time series.\n",
    "    main_input = Input(shape=road_input_shape, dtype='float32', name='road_time_input')\n",
    "    lstm_out = LSTM(40)(main_input)\n",
    "    \n",
    "    auxiliary_output = Dense(1, activation='tanh', name='aux_output')(lstm_out)\n",
    "    \n",
    "    auxiliary_input = Input(shape=(aux_input_shape,), name='aux_input')\n",
    "    x = keras.layers.concatenate([lstm_out, auxiliary_input])\n",
    "\n",
    "    # We stack a deep densely-connected network on top\n",
    "    x = Dense(32, activation='relu')(x)\n",
    "    x = Dense(32, activation='relu')(x)\n",
    "    x = Dense(12, activation='relu')(x)\n",
    "    x = Dense(12, activation='relu')(x)\n",
    "\n",
    "    # And finally we add the main output layer\n",
    "    main_output = Dense(1, activation='tanh', name='main_output')(x)\n",
    "    \n",
    "    model = Model(inputs=[main_input, auxiliary_input], outputs=[main_output, auxiliary_output])\n",
    "    \n",
    "    model.summary()\n",
    "    \n",
    "    return model"
   ]
  },
  {
   "cell_type": "code",
   "execution_count": 61,
   "metadata": {},
   "outputs": [
    {
     "name": "stdout",
     "output_type": "stream",
     "text": [
      "__________________________________________________________________________________________________\n",
      "Layer (type)                    Output Shape         Param #     Connected to                     \n",
      "==================================================================================================\n",
      "road_time_input (InputLayer)    (None, 4, 9)         0                                            \n",
      "__________________________________________________________________________________________________\n",
      "lstm_3 (LSTM)                   (None, 40)           8000        road_time_input[0][0]            \n",
      "__________________________________________________________________________________________________\n",
      "aux_input (InputLayer)          (None, 52)           0                                            \n",
      "__________________________________________________________________________________________________\n",
      "concatenate_1 (Concatenate)     (None, 92)           0           lstm_3[0][0]                     \n",
      "                                                                 aux_input[0][0]                  \n",
      "__________________________________________________________________________________________________\n",
      "dense_17 (Dense)                (None, 32)           2976        concatenate_1[0][0]              \n",
      "__________________________________________________________________________________________________\n",
      "dense_18 (Dense)                (None, 32)           1056        dense_17[0][0]                   \n",
      "__________________________________________________________________________________________________\n",
      "dense_19 (Dense)                (None, 12)           396         dense_18[0][0]                   \n",
      "__________________________________________________________________________________________________\n",
      "dense_20 (Dense)                (None, 12)           156         dense_19[0][0]                   \n",
      "__________________________________________________________________________________________________\n",
      "main_output (Dense)             (None, 1)            13          dense_20[0][0]                   \n",
      "__________________________________________________________________________________________________\n",
      "aux_output (Dense)              (None, 1)            41          lstm_3[0][0]                     \n",
      "==================================================================================================\n",
      "Total params: 12,638\n",
      "Trainable params: 12,638\n",
      "Non-trainable params: 0\n",
      "__________________________________________________________________________________________________\n",
      "Train on 3257131 samples, validate on 661623 samples\n",
      "Epoch 1/10\n",
      "3257131/3257131 [==============================] - 268s 82us/step - loss: 0.3843 - main_output_loss: 0.3177 - aux_output_loss: 0.3333 - main_output_mean_absolute_error: 0.3177 - aux_output_mean_absolute_error: 0.3333 - val_loss: 0.4031 - val_main_output_loss: 0.3318 - val_aux_output_loss: 0.3566 - val_main_output_mean_absolute_error: 0.3318 - val_aux_output_mean_absolute_error: 0.3566\n",
      "Epoch 2/10\n",
      "3257131/3257131 [==============================] - 267s 82us/step - loss: 0.3738 - main_output_loss: 0.3077 - aux_output_loss: 0.3304 - main_output_mean_absolute_error: 0.3077 - aux_output_mean_absolute_error: 0.3304 - val_loss: 0.4000 - val_main_output_loss: 0.3291 - val_aux_output_loss: 0.3547 - val_main_output_mean_absolute_error: 0.3291 - val_aux_output_mean_absolute_error: 0.3547\n",
      "Epoch 3/10\n",
      "3257131/3257131 [==============================] - 266s 82us/step - loss: 0.3710 - main_output_loss: 0.3053 - aux_output_loss: 0.3284 - main_output_mean_absolute_error: 0.3053 - aux_output_mean_absolute_error: 0.3284 - val_loss: 0.3991 - val_main_output_loss: 0.3285 - val_aux_output_loss: 0.3533 - val_main_output_mean_absolute_error: 0.3285 - val_aux_output_mean_absolute_error: 0.3533\n",
      "Epoch 4/10\n",
      "3257131/3257131 [==============================] - 265s 81us/step - loss: 0.3695 - main_output_loss: 0.3041 - aux_output_loss: 0.3270 - main_output_mean_absolute_error: 0.3041 - aux_output_mean_absolute_error: 0.3270 - val_loss: 0.3973 - val_main_output_loss: 0.3270 - val_aux_output_loss: 0.3516 - val_main_output_mean_absolute_error: 0.3270 - val_aux_output_mean_absolute_error: 0.3516\n",
      "Epoch 5/10\n",
      "3257131/3257131 [==============================] - 266s 82us/step - loss: 0.3684 - main_output_loss: 0.3032 - aux_output_loss: 0.3260 - main_output_mean_absolute_error: 0.3032 - aux_output_mean_absolute_error: 0.3260 - val_loss: 0.3966 - val_main_output_loss: 0.3265 - val_aux_output_loss: 0.3505 - val_main_output_mean_absolute_error: 0.3265 - val_aux_output_mean_absolute_error: 0.3505\n",
      "Epoch 6/10\n",
      "3257131/3257131 [==============================] - 265s 81us/step - loss: 0.3677 - main_output_loss: 0.3026 - aux_output_loss: 0.3255 - main_output_mean_absolute_error: 0.3026 - aux_output_mean_absolute_error: 0.3255 - val_loss: 0.3950 - val_main_output_loss: 0.3250 - val_aux_output_loss: 0.3503 - val_main_output_mean_absolute_error: 0.3250 - val_aux_output_mean_absolute_error: 0.3503\n",
      "Epoch 7/10\n",
      "3257131/3257131 [==============================] - 265s 81us/step - loss: 0.3671 - main_output_loss: 0.3020 - aux_output_loss: 0.3252 - main_output_mean_absolute_error: 0.3020 - aux_output_mean_absolute_error: 0.3252 - val_loss: 0.3943 - val_main_output_loss: 0.3244 - val_aux_output_loss: 0.3495 - val_main_output_mean_absolute_error: 0.3244 - val_aux_output_mean_absolute_error: 0.3495\n",
      "Epoch 8/10\n",
      "3257131/3257131 [==============================] - 265s 81us/step - loss: 0.3666 - main_output_loss: 0.3016 - aux_output_loss: 0.3249 - main_output_mean_absolute_error: 0.3016 - aux_output_mean_absolute_error: 0.3249 - val_loss: 0.3946 - val_main_output_loss: 0.3247 - val_aux_output_loss: 0.3496 - val_main_output_mean_absolute_error: 0.3247 - val_aux_output_mean_absolute_error: 0.3496\n",
      "Epoch 9/10\n",
      "3257131/3257131 [==============================] - 264s 81us/step - loss: 0.3662 - main_output_loss: 0.3012 - aux_output_loss: 0.3248 - main_output_mean_absolute_error: 0.3012 - aux_output_mean_absolute_error: 0.3248 - val_loss: 0.3941 - val_main_output_loss: 0.3242 - val_aux_output_loss: 0.3495 - val_main_output_mean_absolute_error: 0.3242 - val_aux_output_mean_absolute_error: 0.3495\n",
      "Epoch 10/10\n",
      "3257131/3257131 [==============================] - 266s 82us/step - loss: 0.3657 - main_output_loss: 0.3008 - aux_output_loss: 0.3246 - main_output_mean_absolute_error: 0.3008 - aux_output_mean_absolute_error: 0.3246 - val_loss: 0.3928 - val_main_output_loss: 0.3230 - val_aux_output_loss: 0.3491 - val_main_output_mean_absolute_error: 0.3230 - val_aux_output_mean_absolute_error: 0.3491\n"
     ]
    }
   ],
   "source": [
    "model = create_combined_model((train_matrix_st.shape[1], train_matrix_st.shape[2]), train_matrix_scaled.shape[1])\n",
    "\n",
    "callbacks_list = [\n",
    "    keras.callbacks.EarlyStopping(monitor='val_loss', patience=2),\n",
    "    keras.callbacks.ModelCheckpoint(filepath='combined_model.h5', monitor='val_loss', save_best_only=True)\n",
    "]\n",
    "\n",
    "model.compile(optimizer='rmsprop',\n",
    "              loss='mean_absolute_error',\n",
    "              metrics=['MAE'], loss_weights=[1,0.2])\n",
    "history = model.fit([train_matrix_st, train_matrix_scaled], [train_target_scaled,train_target_scaled],\n",
    "                    epochs=10,\n",
    "                    callbacks=callbacks_list,\n",
    "                    batch_size=512,\n",
    "                    validation_data=([test_matrix_st, test_matrix_scaled], [test_target_scaled, test_target_scaled]))"
   ]
  },
  {
   "cell_type": "code",
   "execution_count": 64,
   "metadata": {},
   "outputs": [
    {
     "name": "stdout",
     "output_type": "stream",
     "text": [
      "__________________________________________________________________________________________________\n",
      "Layer (type)                    Output Shape         Param #     Connected to                     \n",
      "==================================================================================================\n",
      "road_time_input (InputLayer)    (None, 4, 9)         0                                            \n",
      "__________________________________________________________________________________________________\n",
      "lstm_5 (LSTM)                   (None, 40)           8000        road_time_input[0][0]            \n",
      "__________________________________________________________________________________________________\n",
      "aux_input (InputLayer)          (None, 52)           0                                            \n",
      "__________________________________________________________________________________________________\n",
      "concatenate_3 (Concatenate)     (None, 92)           0           lstm_5[0][0]                     \n",
      "                                                                 aux_input[0][0]                  \n",
      "__________________________________________________________________________________________________\n",
      "dense_25 (Dense)                (None, 32)           2976        concatenate_3[0][0]              \n",
      "__________________________________________________________________________________________________\n",
      "dense_26 (Dense)                (None, 32)           1056        dense_25[0][0]                   \n",
      "__________________________________________________________________________________________________\n",
      "dense_27 (Dense)                (None, 12)           396         dense_26[0][0]                   \n",
      "__________________________________________________________________________________________________\n",
      "dense_28 (Dense)                (None, 12)           156         dense_27[0][0]                   \n",
      "__________________________________________________________________________________________________\n",
      "main_output (Dense)             (None, 1)            13          dense_28[0][0]                   \n",
      "__________________________________________________________________________________________________\n",
      "aux_output (Dense)              (None, 1)            41          lstm_5[0][0]                     \n",
      "==================================================================================================\n",
      "Total params: 12,638\n",
      "Trainable params: 12,638\n",
      "Non-trainable params: 0\n",
      "__________________________________________________________________________________________________\n"
     ]
    }
   ],
   "source": [
    "model_to_load = 'combined_model.h5'\n",
    "\n",
    "# Create the network and load the weights into it\n",
    "model = create_combined_model((train_matrix_st.shape[1], train_matrix_st.shape[2]), train_matrix.shape[1])\n",
    "model.load_weights(model_to_load)\n",
    "\n",
    "model.compile(optimizer='rmsprop',\n",
    "              loss='mean_absolute_error',\n",
    "              metrics=['MAE'])\n",
    "test_y_scaled, _ = model.predict([test_matrix_st, test_matrix_scaled])\n",
    "\n",
    "NN_combined_results = scaler_target.inverse_transform(test_y_scaled).squeeze()"
   ]
  },
  {
   "cell_type": "code",
   "execution_count": 65,
   "metadata": {},
   "outputs": [],
   "source": [
    "rmse_NN_combined = np.sqrt(mean_squared_error(test_target, NN_combined_results))\n",
    "mae_NN_combined = mean_absolute_error(test_target, NN_combined_results)\n",
    "\n"
   ]
  },
  {
   "cell_type": "code",
   "execution_count": 66,
   "metadata": {},
   "outputs": [
    {
     "name": "stdout",
     "output_type": "stream",
     "text": [
      "95.63139484154922\n",
      "32.32356788671386\n"
     ]
    }
   ],
   "source": [
    "print(rmse_NN_combined)\n",
    "print(mae_NN_combined)"
   ]
  },
  {
   "cell_type": "code",
   "execution_count": 67,
   "metadata": {},
   "outputs": [
    {
     "data": {
      "text/plain": [
       "(661623,)"
      ]
     },
     "execution_count": 67,
     "metadata": {},
     "output_type": "execute_result"
    }
   ],
   "source": [
    "NN_results.shape"
   ]
  },
  {
   "cell_type": "code",
   "execution_count": 68,
   "metadata": {},
   "outputs": [
    {
     "data": {
      "text/plain": [
       "(661623,)"
      ]
     },
     "execution_count": 68,
     "metadata": {},
     "output_type": "execute_result"
    }
   ],
   "source": [
    "rf_reg_results.shape"
   ]
  },
  {
   "cell_type": "code",
   "execution_count": 82,
   "metadata": {},
   "outputs": [
    {
     "data": {
      "image/png": "[encoded data removed]",
      "text/plain": [
       "<Figure size 432x288 with 1 Axes>"
      ]
     },
     "metadata": {
      "needs_background": "light"
     },
     "output_type": "display_data"
    }
   ],
   "source": [
    "# plt.hist(NN_results, alpha=0.5, bins=100, label=\"NN\", range=(-100, 100))\n",
    "plt.hist(NN_combined_results, alpha=0.5, bins=100, label=\"NN_comb\", range=(-100, 100))\n",
    "# plt.hist(NN_lstm_results, alpha=0.5, bins=100, label=\"NN_lstm\", range=(-100, 100))\n",
    "# plt.hist(xg_reg_results, bins=100, label=\"XGB\", alpha=0.5,  range=(-100, 100))\n",
    "plt.hist(rf_reg_results, bins=100, label=\"RF\", alpha=0.5,  range=(-100, 100))\n",
    "# plt.hist(reg_results, bins=100, label=\"Linear\", alpha=0.5,  range=(-100, 100))\n",
    "# plt.hist(stop_events[stop_events['test']]['best_0'], bins=100, alpha=0.5,  label=\"best_0\", range=(-100, 100))\n",
    "# # plt.hist(stop_events['diff_percent_full_segment_and_median_by_segment_code_and_hour_and_day'], bins=200, label=\"target\", range=(-100, 100))\n",
    "# # plt.hist(train_target, bins=200, label=\"train\", range=(-100, 100))\n",
    "plt.hist(test_target, bins=100, label=\"target\", alpha=0.5,  range=(-100, 100))\n",
    "# plt.yscale(\"log\")\n",
    "plt.legend()\n",
    "\n",
    "plt.show()\n"
   ]
  },
  {
   "cell_type": "code",
   "execution_count": 69,
   "metadata": {},
   "outputs": [],
   "source": [
    "def MAPE(forecast, actual):\n",
    "    \n",
    "    if(len(forecast) != len(actual)):\n",
    "        raise ValueError('Could not calculate MAPE, forecast and actual arrays are different length')\n",
    "        \n",
    "    forecast = np.asarray(forecast)\n",
    "    actual = np.asarray(actual)\n",
    "    \n",
    "    with np.errstate(divide='ignore', invalid='ignore'):\n",
    "        \n",
    "        division = (actual-forecast)/actual\n",
    "        \n",
    "        division[actual == 0] = 0\n",
    "        \n",
    "        # Instead of dividing by n we count by the number of non-zero values. \n",
    "        # Essentially ignoring all cases where the actual value is zero. \n",
    "        mape = 100 / np.count_nonzero(actual) * np.sum(np.abs(division))\n",
    "    \n",
    "    return mape"
   ]
  },
  {
   "cell_type": "code",
   "execution_count": 70,
   "metadata": {},
   "outputs": [],
   "source": [
    "predict_reg = test[\"median_durations_by_segment_code_and_hour_and_day\"].values * (1+(reg_results/100))"
   ]
  },
  {
   "cell_type": "code",
   "execution_count": 71,
   "metadata": {},
   "outputs": [],
   "source": [
    "predict_xg = test[\"median_durations_by_segment_code_and_hour_and_day\"].values * (1+(xg_reg_results/100))"
   ]
  },
  {
   "cell_type": "code",
   "execution_count": 72,
   "metadata": {},
   "outputs": [],
   "source": [
    "predict_NN = test[\"median_durations_by_segment_code_and_hour_and_day\"].values * (1+(NN_results/100))"
   ]
  },
  {
   "cell_type": "code",
   "execution_count": 73,
   "metadata": {},
   "outputs": [],
   "source": [
    "predict_self_offset = test[\"median_durations_by_segment_code_and_hour_and_day\"].values * (1+(test['self_offset_5_1'].values/100))"
   ]
  },
  {
   "cell_type": "code",
   "execution_count": 74,
   "metadata": {},
   "outputs": [],
   "source": [
    "predict_rf = test[\"median_durations_by_segment_code_and_hour_and_day\"].values * (1+(rf_reg_results/100))"
   ]
  },
  {
   "cell_type": "code",
   "execution_count": 75,
   "metadata": {},
   "outputs": [],
   "source": [
    "predict_NN_lstm = test[\"median_durations_by_segment_code_and_hour_and_day\"].values * (1+(NN_lstm_results/100))"
   ]
  },
  {
   "cell_type": "code",
   "execution_count": 76,
   "metadata": {},
   "outputs": [],
   "source": [
    "predict_NN_combined = test[\"median_durations_by_segment_code_and_hour_and_day\"].values * (1+(NN_combined_results/100))\n"
   ]
  },
  {
   "cell_type": "code",
   "execution_count": 77,
   "metadata": {},
   "outputs": [],
   "source": [
    "predict_null = test[\"median_durations_by_segment_code_and_hour_and_day\"].values"
   ]
  },
  {
   "cell_type": "code",
   "execution_count": 78,
   "metadata": {},
   "outputs": [
    {
     "name": "stdout",
     "output_type": "stream",
     "text": [
      "Medians only MAPE: 26.37532518182463\n",
      "Linear MAPE: 33.333357305858854\n",
      "XGBoost MAPE: 31.19870715307047\n",
      "NN MAPE: 23.60351871867299\n",
      "LSTM MAPE: 24.814817258218763\n",
      "NN combined MAPE: 22.37573945285785\n",
      "RF MAPE: 29.050791745384423\n",
      "self_offset MAPE: 36.7144039357816\n"
     ]
    }
   ],
   "source": [
    "print(f\"Medians only MAPE: {MAPE(predict_null, test['segment_duration'])}\")\n",
    "\n",
    "print(f\"Linear MAPE: {MAPE(predict_reg, test['segment_duration'])}\")\n",
    "      \n",
    "print(f\"XGBoost MAPE: {MAPE(predict_xg, test['segment_duration'])}\")\n",
    "      \n",
    "print(f\"NN MAPE: {MAPE(predict_NN, test['segment_duration'])}\")\n",
    "      \n",
    "print(f\"LSTM MAPE: {MAPE(predict_NN_lstm, test['segment_duration'])}\")\n",
    "      \n",
    "print(f\"NN combined MAPE: {MAPE(predict_NN_combined, test['segment_duration'])}\")\n",
    "            \n",
    "print(f\"RF MAPE: {MAPE(predict_rf, test['segment_duration'])}\")\n",
    "      \n",
    "print(f\"self_offset MAPE: {MAPE(predict_self_offset, test['segment_duration'])}\")"
   ]
  },
  {
   "cell_type": "code",
   "execution_count": null,
   "metadata": {},
   "outputs": [],
   "source": [
    "# plt.hist(stop_events['30'], bins=100);"
   ]
  },
  {
   "cell_type": "code",
   "execution_count": null,
   "metadata": {},
   "outputs": [],
   "source": [
    "# MAPE(stop_events[stop_events['test']]['median_full_durations_by_segment_code_and_hour_and_day'], stop_events[stop_events['test']]['full_duration'])\n"
   ]
  },
  {
   "cell_type": "code",
   "execution_count": null,
   "metadata": {},
   "outputs": [],
   "source": [
    "os.system(\"say -v Fiona Go check your results - Kitchen Sink\") "
   ]
  },
  {
   "cell_type": "code",
   "execution_count": null,
   "metadata": {},
   "outputs": [],
   "source": []
  },
  {
   "cell_type": "code",
   "execution_count": null,
   "metadata": {},
   "outputs": [],
   "source": []
  },
  {
   "cell_type": "code",
   "execution_count": null,
   "metadata": {},
   "outputs": [],
   "source": []
  },
  {
   "cell_type": "code",
   "execution_count": null,
   "metadata": {},
   "outputs": [],
   "source": []
  }
 ],
 "metadata": {
  "kernelspec": {
   "display_name": "busses",
   "language": "python",
   "name": "busses"
  },
  "language_info": {
   "codemirror_mode": {
    "name": "ipython",
    "version": 3
   },
   "file_extension": ".py",
   "mimetype": "text/x-python",
   "name": "python",
   "nbconvert_exporter": "python",
   "pygments_lexer": "ipython3",
   "version": "3.7.1"
  }
 },
 "nbformat": 4,
 "nbformat_minor": 2
}
