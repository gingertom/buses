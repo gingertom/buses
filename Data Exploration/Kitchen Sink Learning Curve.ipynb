{
 "cells": [
  {
   "cell_type": "code",
   "execution_count": 1,
   "metadata": {},
   "outputs": [
    {
     "name": "stderr",
     "output_type": "stream",
     "text": [
      "Using TensorFlow backend.\n"
     ]
    }
   ],
   "source": [
    "import numpy as np\n",
    "import numpy.ma as ma\n",
    "import pandas as pd\n",
    "import datetime\n",
    "\n",
    "import matplotlib.pyplot as plt\n",
    "\n",
    "from tqdm import tqdm\n",
    "\n",
    "import feather\n",
    "\n",
    "from sklearn.linear_model import LinearRegression\n",
    "\n",
    "from sklearn.metrics import mean_squared_error, mean_absolute_error\n",
    "\n",
    "import os\n",
    "os.environ['KMP_DUPLICATE_LIB_OK']='True'\n",
    "\n",
    "import xgboost as xgb\n",
    "\n",
    "import keras\n",
    "from keras.preprocessing import sequence\n",
    "from keras import layers, Input, Model\n",
    "from keras.models import Sequential\n",
    "from keras.layers import Embedding, Flatten, Dense, Lambda\n",
    "\n",
    "from sklearn import preprocessing\n",
    "from sklearn.ensemble import RandomForestRegressor\n",
    "\n",
    "from math import radians, degrees"
   ]
  },
  {
   "cell_type": "code",
   "execution_count": 2,
   "metadata": {},
   "outputs": [],
   "source": [
    "# # Load in the time_series from the previous stage in the pipeline\n",
    "# correlations = feather.read_dataframe(\"../data_files/B/once/75days/5mins/best_correlations_5mins_code_hour_day.feather\")\n",
    "# correlations = correlations.set_index(correlations.columns[0])\n"
   ]
  },
  {
   "cell_type": "code",
   "execution_count": 98,
   "metadata": {},
   "outputs": [],
   "source": [
    "se = feather.read_dataframe(\"../data_files/B/once/75days/stop_events_with_geo_train_test_averages_prev_next_offsets.feather\")\n",
    "se = se.set_index(se.columns[0])"
   ]
  },
  {
   "cell_type": "code",
   "execution_count": 99,
   "metadata": {},
   "outputs": [
    {
     "data": {
      "text/plain": [
       "id                                          167_131_5\n",
       "date                              2018-09-18 00:00:00\n",
       "stopCode                                 1200BOB20164\n",
       "aimedArrival                      2018-09-18 10:03:00\n",
       "aimedDeparture                    2018-09-18 10:03:00\n",
       "actualArrival                     2018-09-18 10:09:50\n",
       "actualDeparture                   2018-09-18 10:10:30\n",
       "vehicle                                           177\n",
       "workid                                      167_131_5\n",
       "patternId                                     167_107\n",
       "publicName                                         1b\n",
       "scheduledStart                                  36000\n",
       "prev_stopCode                            1200BOB20162\n",
       "prev_aimedArrival                 2018-09-18 10:02:00\n",
       "prev_aimedDeparture               2018-09-18 10:02:00\n",
       "prev_actualArrival                2018-09-18 10:09:03\n",
       "prev_actualDeparture              2018-09-18 10:09:10\n",
       "timingPoint                                         0\n",
       "prev_timingPoint                                  0.0\n",
       "segment_code              1200BOB20162_1200BOB20164_0\n",
       "segment_name                1200BOB20162_1200BOB20164\n",
       "line_distance                                0.207732\n",
       "midpoint_lat                                  50.7431\n",
       "midpoint_lon                                  -1.7472\n",
       "to_centre_dist                                9.69342\n",
       "direction                                    0.928047\n",
       "direction_degrees                            -68.1323\n",
       "train                                            True\n",
       "test                                            False\n",
       "dwell_duration_dest                                40\n",
       "                                     ...             \n",
       "best_offset_5_2                                   NaN\n",
       "self_offset_5_2                              -5.80542\n",
       "prev_stop_1_offset_5_2                        14.4444\n",
       "next_stop_1_offset_5_2                       -1.94444\n",
       "prev_stop_2_offset_5_2                        57.5265\n",
       "next_stop_2_offset_5_2                       -8.42593\n",
       "prev_stop_3_offset_5_2                            NaN\n",
       "next_stop_3_offset_5_2                       -24.4444\n",
       "prev_stop_4_offset_5_2                            NaN\n",
       "next_stop_4_offset_5_2                        6.81818\n",
       "best_offset_5_3                                   NaN\n",
       "self_offset_5_3                             0.0637959\n",
       "prev_stop_1_offset_5_3                        20.5556\n",
       "next_stop_1_offset_5_3                       -1.80556\n",
       "prev_stop_2_offset_5_3                         57.781\n",
       "next_stop_2_offset_5_3                       -7.77778\n",
       "prev_stop_3_offset_5_3                            NaN\n",
       "next_stop_3_offset_5_3                       -18.0392\n",
       "prev_stop_4_offset_5_3                            NaN\n",
       "next_stop_4_offset_5_3                        9.09091\n",
       "best_offset_5_4                                   NaN\n",
       "self_offset_5_4                               5.93301\n",
       "prev_stop_1_offset_5_4                        26.6667\n",
       "next_stop_1_offset_5_4                       -1.66667\n",
       "prev_stop_2_offset_5_4                        58.0355\n",
       "next_stop_2_offset_5_4                       -7.12963\n",
       "prev_stop_3_offset_5_4                            NaN\n",
       "next_stop_3_offset_5_4                        -11.634\n",
       "prev_stop_4_offset_5_4                            NaN\n",
       "next_stop_4_offset_5_4                        11.3636\n",
       "Name: 1978, Length: 133, dtype: object"
      ]
     },
     "execution_count": 99,
     "metadata": {},
     "output_type": "execute_result"
    }
   ],
   "source": [
    "se.iloc[1978]"
   ]
  },
  {
   "cell_type": "code",
   "execution_count": 100,
   "metadata": {},
   "outputs": [
    {
     "name": "stdout",
     "output_type": "stream",
     "text": [
      "Calculating rare segments...\n",
      "\tCalculated\n"
     ]
    }
   ],
   "source": [
    "def filter_rare(stop_events):\n",
    "\n",
    "    print(\"Calculating rare segments...\")\n",
    "\n",
    "    segment_counts = stop_events.groupby(\"segment_code\").size()\n",
    "\n",
    "    filtered_stop_events = stop_events.drop(\n",
    "        stop_events[\n",
    "            stop_events[\"segment_code\"].isin(\n",
    "                segment_counts[segment_counts < 120].index.values\n",
    "            )\n",
    "        ].index\n",
    "    )\n",
    "\n",
    "    print(\"\\tCalculated\")\n",
    "\n",
    "    return filtered_stop_events\n",
    "\n",
    "se = filter_rare(se)"
   ]
  },
  {
   "cell_type": "code",
   "execution_count": 6,
   "metadata": {},
   "outputs": [],
   "source": [
    "# We need to generate this from scratch as we need both test and train data. \n",
    "# ts_5 = se.pivot_table(\n",
    "#         index=\"arrival_5mins\",\n",
    "#         columns=\"segment_code\",\n",
    "#         values=\"diff_percent_segment_and_median_by_segment_code_and_hour_and_day\",\n",
    "#         aggfunc=np.median,\n",
    "#     )"
   ]
  },
  {
   "cell_type": "code",
   "execution_count": 7,
   "metadata": {},
   "outputs": [],
   "source": [
    "# ts_10 = se.pivot_table(\n",
    "#         index=\"arrival_10mins\",\n",
    "#         columns=\"segment_code\",\n",
    "#         values=\"diff_percent_full_segment_and_median_by_segment_code_and_hour_and_day\",\n",
    "#         aggfunc=np.median,\n",
    "#     )"
   ]
  },
  {
   "cell_type": "code",
   "execution_count": 8,
   "metadata": {},
   "outputs": [],
   "source": [
    "# ts_interp_5 = ts_5.interpolate(method='time', axis=0)\n",
    "# ts_interp_10 = ts_10.interpolate(method='time', axis=0)"
   ]
  },
  {
   "cell_type": "code",
   "execution_count": 9,
   "metadata": {},
   "outputs": [],
   "source": [
    "# weather = pd.read_csv(\"../weather/CDO9610867945337_weather.csv\")\n",
    "\n",
    "\n",
    "# weather['date'] = pd.to_datetime(weather[' YEARMODA'], format=\"%Y%m%d\")\n",
    "# weather['rain'] = weather['PRCP  '].apply(lambda x: float(x[:-1]))\n",
    "\n",
    "# just_rain = weather[['date', 'rain']]\n",
    "\n",
    "# se = se.merge(just_rain, left_on=\"date\", right_on=\"date\", how='left')"
   ]
  },
  {
   "cell_type": "code",
   "execution_count": 10,
   "metadata": {},
   "outputs": [],
   "source": [
    "# se[\"diff_segment_and_median_by_segment_code\"] = (\n",
    "#     se[\"segment_duration\"]\n",
    "#     - se[\"median_durations_by_segment_code\"]\n",
    "# )\n",
    "# se[\"diff_segment_and_median_by_segment_code_and_hour_and_day\"] = (\n",
    "#     se[\"segment_duration\"]\n",
    "#     - se[\"median_durations_by_segment_code_and_hour_and_day\"]\n",
    "# )\n",
    "\n",
    "# se[\"diff_percent_segment_and_median_by_segment_code\"] = (\n",
    "#     se[\"diff_segment_and_median_by_segment_code\"]\n",
    "#     * 100\n",
    "#     / se[\"median_durations_by_segment_code\"]\n",
    "# )\n",
    "\n",
    "# se[\"diff_percent_segment_and_median_by_segment_code_and_hour_and_day\"] = (\n",
    "#     se[\"diff_segment_and_median_by_segment_code_and_hour_and_day\"]\n",
    "#     * 100\n",
    "#     / se[\"median_durations_by_segment_code_and_hour_and_day\"]\n",
    "# )"
   ]
  },
  {
   "cell_type": "code",
   "execution_count": 11,
   "metadata": {},
   "outputs": [],
   "source": [
    "# os.system(\"say -v Fiona Add in previous bus stop and use thats 5mins and 10mins time series, it will be different depending on pattern\") "
   ]
  },
  {
   "cell_type": "code",
   "execution_count": 12,
   "metadata": {},
   "outputs": [],
   "source": [
    "# se = se[['date', 'stopCode', 'aimedArrival', 'aimedDeparture', 'actualArrival', \n",
    "#        'actualDeparture', 'prev_stopCode', 'prev_aimedArrival',\n",
    "#        'prev_aimedDeparture', 'prev_actualArrival', 'prev_actualDeparture',\n",
    "#        'timingPoint', 'prev_timingPoint', 'arrival_hour', 'segment_code', \n",
    "#        'segment_name', 'line_distance', 'to_centre_dist', \n",
    "#        'direction_degrees', 'train', 'test','full_duration','median_durations_by_segment_code',\n",
    "#        'median_durations_by_segment_code_and_hour',\n",
    "#        'median_durations_by_segment_code_and_hour_and_day',\n",
    "#        'diff_segment_and_median_by_segment_code',\n",
    "#        'diff_segment_and_median_by_segment_code_and_hour_and_day',\n",
    "#        'diff_percent_segment_and_median_by_segment_code',\n",
    "#        'diff_percent_segment_and_median_by_segment_code_and_hour_and_day',\n",
    "#        'offset_timestamp_5_1','offset_timestamp_5_2','offset_timestamp_5_3', \n",
    "#        'offset_timestamp_10_1', 'offset_timestamp_10_2', 'offset_timestamp_10_3', \n",
    "#        'arrival_5mins', \n",
    "#        'arrival_10mins', 'rain', 'clock_direction_degrees']]\n"
   ]
  },
  {
   "cell_type": "code",
   "execution_count": 13,
   "metadata": {},
   "outputs": [],
   "source": [
    "# se = se.merge(correlations['0'].to_frame(), left_on=\"segment_code\", right_index=True, how=\"left\")"
   ]
  },
  {
   "cell_type": "code",
   "execution_count": 14,
   "metadata": {},
   "outputs": [],
   "source": [
    "# def best(row):\n",
    "#     try:\n",
    "#         value = time_series_interp.loc[row[0],row[1]] \n",
    "#     except: \n",
    "# #         print(\"--------------\")\n",
    "# #         print(row.name)\n",
    "# #         print(row[0])\n",
    "# #         print(row[1])\n",
    "#         value = np.nan\n",
    "#     return value"
   ]
  },
  {
   "cell_type": "code",
   "execution_count": 15,
   "metadata": {},
   "outputs": [],
   "source": [
    "\n",
    "# segment_names = ['0', 'segment_code']\n",
    "# column_names = ['best_offset', 'self_offset']\n",
    "\n",
    "# for i in range(1,5):\n",
    "#     segment_names.append(f\"prev_segment_code_{i}\")\n",
    "#     segment_names.append(f\"next_segment_code_{i}\")\n",
    "#     column_names.append(f\"prev_stop_{i}_offset\")\n",
    "#     column_names.append(f\"next_stop_{i}_offset\")\n",
    "    \n",
    "\n",
    "# # stop_events['best_0_5_1'] = stop_events[['offset_timestamp_5_1', '0']].apply(best, axis=1)\n",
    "# # stop_events['best_0_5_2'] = stop_events[['offset_timestamp_5_2', '0']].apply(best, axis=1)\n",
    "# # stop_events['best_0_5_3'] = stop_events[['offset_timestamp_5_3', '0']].apply(best, axis=1)\n",
    "# # stop_events['best_0_5_4'] = stop_events[['offset_timestamp_5_4', '0']].apply(best, axis=1)\n",
    "# # stop_events['self_offset_5_1'] = stop_events[['offset_timestamp_5_1', 'segment_code']].apply(best, axis=1)\n",
    "# stop_events['self_offset_5_2'] = stop_events[['offset_timestamp_5_2', 'segment_code']].apply(best, axis=1)\n",
    "# stop_events['self_offset_5_3'] = stop_events[['offset_timestamp_5_3', 'segment_code']].apply(best, axis=1)\n",
    "# stop_events['self_offset_5_4'] = stop_events[['offset_timestamp_5_4', 'segment_code']].apply(best, axis=1)\n"
   ]
  },
  {
   "cell_type": "code",
   "execution_count": 101,
   "metadata": {},
   "outputs": [
    {
     "data": {
      "text/plain": [
       "(3918931, 133)"
      ]
     },
     "execution_count": 101,
     "metadata": {},
     "output_type": "execute_result"
    }
   ],
   "source": [
    "se.shape"
   ]
  },
  {
   "cell_type": "code",
   "execution_count": 17,
   "metadata": {},
   "outputs": [],
   "source": [
    "# for i in range(1,5):\n",
    "#     for j in range(len(segment_names)):\n",
    "#         stop_events[f\"{column_names[j]}_5_{i}\"] = stop_events[[f\"offset_timestamp_5_{i}\", segment_names[j]]].apply(best, axis=1)\n",
    "    "
   ]
  },
  {
   "cell_type": "code",
   "execution_count": 110,
   "metadata": {},
   "outputs": [
    {
     "data": {
      "text/plain": [
       "prev_stop_4_offset_5_4                            412553\n",
       "prev_stop_4_offset_5_3                            411845\n",
       "prev_stop_4_offset_5_2                            411267\n",
       "prev_stop_4_offset_5_1                            410180\n",
       "next_stop_4_offset_5_4                            373066\n",
       "next_stop_4_offset_5_3                            372125\n",
       "next_stop_4_offset_5_2                            371471\n",
       "next_stop_4_offset_5_1                            370839\n",
       "prev_stop_3_offset_5_4                            314341\n",
       "prev_stop_3_offset_5_3                            313572\n",
       "prev_stop_3_offset_5_2                            313007\n",
       "prev_stop_3_offset_5_1                            311955\n",
       "next_stop_3_offset_5_4                            281725\n",
       "next_stop_3_offset_5_3                            280774\n",
       "next_stop_3_offset_5_2                            280125\n",
       "next_stop_3_offset_5_1                            279497\n",
       "prev_stop_2_offset_5_4                            214273\n",
       "prev_stop_2_offset_5_3                            213419\n",
       "prev_stop_2_offset_5_2                            212847\n",
       "prev_stop_2_offset_5_1                            211874\n",
       "next_stop_2_offset_5_4                            191374\n",
       "next_stop_2_offset_5_3                            190415\n",
       "next_stop_2_offset_5_2                            189783\n",
       "next_stop_2_offset_5_1                            189148\n",
       "prev_stop_1_offset_5_4                            110692\n",
       "prev_stop_1_offset_5_3                            109756\n",
       "prev_stop_1_offset_5_2                            109164\n",
       "prev_stop_1_offset_5_1                            108326\n",
       "next_stop_1_offset_5_4                            101011\n",
       "next_stop_1_offset_5_3                            100041\n",
       "next_stop_1_offset_5_2                             99427\n",
       "next_stop_1_offset_5_1                             98791\n",
       "self_offset_5_4                                     3561\n",
       "self_offset_5_3                                     2581\n",
       "self_offset_5_2                                     1978\n",
       "self_offset_5_1                                     1332\n",
       "clock_direction_degrees                              631\n",
       "mean_durations_by_segment_code                         0\n",
       "direction_degrees                                      0\n",
       "to_centre_dist                                         0\n",
       "line_distance                                          0\n",
       "segment_duration                                       0\n",
       "timingPoint                                            0\n",
       "scheduledStart                                         0\n",
       "timetable_segment_duration                             0\n",
       "median_full_durations_by_segment_code_and_hour         0\n",
       "median_dwell_dest_durations_by_stop_code               0\n",
       "mean_durations_by_segment_code_and_hour                0\n",
       "median_dwell_prev_durations_by_stop_code               0\n",
       "median_dwell_dest_by_stop_code_and_hour                0\n",
       "dtype: int64"
      ]
     },
     "execution_count": 110,
     "metadata": {},
     "output_type": "execute_result"
    }
   ],
   "source": [
    "se.isna().sum().sort_values(ascending=False)[:50]"
   ]
  },
  {
   "cell_type": "code",
   "execution_count": 104,
   "metadata": {},
   "outputs": [],
   "source": [
    "se = se.drop(labels=['0', 'best_offset_5_4', 'best_offset_5_3',\n",
    "                           'best_offset_5_2','best_offset_5_1', 'test', \n",
    "                           'train', 'direction', 'midpoint_lon', \n",
    "                           'midpoint_lat', 'publicName', 'stopCode',\n",
    "                           'vehicle', 'workid', 'patternId', 'prev_timingPoint',\n",
    "                          'prev_stopCode', 'segment_code', 'segment_name',\n",
    "                          'prev_segment_code_5', 'prev_segment_code_4',\n",
    "                          'prev_segment_code_3', 'prev_segment_code_2',\n",
    "                          'prev_segment_code_1', 'next_segment_code_5',\n",
    "                          'next_segment_code_4', 'next_segment_code_3',\n",
    "                          'next_segment_code_2', 'next_segment_code_1',\n",
    "                          'prev_event_index_5', 'prev_event_index_4',\n",
    "                          'prev_event_index_3', 'prev_event_index_2',\n",
    "                          'prev_event_index_1', 'next_event_index_5',\n",
    "                          'next_event_index_4', 'next_event_index_3',\n",
    "                          'next_event_index_2', 'next_event_index_1', 'id'], axis=1)"
   ]
  },
  {
   "cell_type": "code",
   "execution_count": 105,
   "metadata": {},
   "outputs": [],
   "source": [
    "se = se.drop(labels=['aimedArrival', 'aimedDeparture', 'actualArrival',\n",
    "        'actualDeparture', 'prev_aimedArrival', 'prev_aimedDeparture',\n",
    "        'prev_actualArrival', 'prev_actualDeparture', 'arrival_5mins',\n",
    "        'offset_timestamp_5_1', 'offset_timestamp_5_2', 'offset_timestamp_5_3',\n",
    "        'offset_timestamp_5_4'], axis=1)"
   ]
  },
  {
   "cell_type": "code",
   "execution_count": 106,
   "metadata": {},
   "outputs": [],
   "source": [
    "se = se.drop(labels=['diff_percent_segment_and_median_by_segment_code', \n",
    "                                 'dwell_duration_dest', 'dwell_duration_prev',\n",
    "                                'full_duration', 'diff_full_segment_and_median_by_segment_code',\n",
    "        'diff_full_segment_and_median_by_segment_code_and_hour_and_day',\n",
    "        'diff_percent_full_segment_and_median_by_segment_code',\n",
    "        'diff_percent_full_segment_and_median_by_segment_code_and_hour_and_day', 'diff_segment_and_median_by_segment_code',\n",
    "        'diff_segment_and_median_by_segment_code_and_hour_and_day',\n",
    "        'diff_percent_segment_and_median_by_segment_code'], axis=1)"
   ]
  },
  {
   "cell_type": "code",
   "execution_count": 107,
   "metadata": {},
   "outputs": [],
   "source": [
    "se = pd.get_dummies(se, columns=['arrival_hour','arrival_day'])"
   ]
  },
  {
   "cell_type": "code",
   "execution_count": 108,
   "metadata": {},
   "outputs": [],
   "source": [
    "se = se.dropna(subset=['diff_percent_segment_and_median_by_segment_code_and_hour_and_day'])"
   ]
  },
  {
   "cell_type": "code",
   "execution_count": 113,
   "metadata": {},
   "outputs": [
    {
     "data": {
      "image/png": "[encoded data removed]",
      "text/plain": [
       "<Figure size 432x288 with 1 Axes>"
      ]
     },
     "metadata": {
      "needs_background": "light"
     },
     "output_type": "display_data"
    }
   ],
   "source": [
    "plt.hist(se['clock_direction_degrees'], bins=100);"
   ]
  },
  {
   "cell_type": "code",
   "execution_count": 114,
   "metadata": {},
   "outputs": [],
   "source": [
    "se['clock_direction_degrees'] = se['clock_direction_degrees'].replace(np.nan, np.mean(se['clock_direction_degrees']))\n"
   ]
  },
  {
   "cell_type": "code",
   "execution_count": 115,
   "metadata": {},
   "outputs": [],
   "source": [
    "se = se.replace(np.nan, 0)"
   ]
  },
  {
   "cell_type": "code",
   "execution_count": 116,
   "metadata": {},
   "outputs": [],
   "source": [
    "to_remove = ['mean', 'prev_stop_', 'next_stop_', ]\n",
    "\n",
    "min_cols = [c for c in se.columns if not any(x in c for x in to_remove)]\n",
    "\n",
    "se_min = se[min_cols]"
   ]
  },
  {
   "cell_type": "code",
   "execution_count": 117,
   "metadata": {},
   "outputs": [],
   "source": [
    "def split_train_test(events, days):\n",
    "\n",
    "    first_day = events[\"date\"].min()\n",
    "\n",
    "#     days = 75\n",
    "\n",
    "    train = events.loc[events[\"date\"].isin(pd.date_range(first_day, periods=days))]\n",
    "\n",
    "    test = events.loc[\n",
    "        events[\"date\"].isin(\n",
    "            pd.date_range(first_day + pd.Timedelta(f\"{days + 1} day\"), periods=14)\n",
    "        )]\n",
    "    \n",
    "    return train, test"
   ]
  },
  {
   "cell_type": "code",
   "execution_count": 118,
   "metadata": {},
   "outputs": [],
   "source": [
    "train, test = split_train_test(se_min, 75)"
   ]
  },
  {
   "cell_type": "code",
   "execution_count": 119,
   "metadata": {},
   "outputs": [],
   "source": [
    "# train_matrix = stop_events[stop_events['train']][['line_distance', 'to_centre_dist', 'direction_degrees', 'best_0', 'best_1', 'best_2', 'best_3', 'best_4', 'best_5', 'best_6', 'best_7', 'best_8', 'best_9', '30', '31', '32', '33', '34', '35', '36', '37', '38', '39']].values\n",
    "train_matrix = train.drop([\"diff_percent_segment_and_median_by_segment_code_and_hour_and_day\", 'date', 'segment_duration'], axis=1)\n",
    "train_target = train[\"diff_percent_segment_and_median_by_segment_code_and_hour_and_day\"]\n",
    "\n",
    "# test_matrix = stop_events[stop_events['test']][['line_distance', 'to_centre_dist', 'direction_degrees', 'best_0', 'best_1', 'best_2', 'best_3', 'best_4', 'best_5', 'best_6', 'best_7', 'best_8', 'best_9', '30', '31', '32', '33', '34', '35', '36', '37', '38', '39']].values\n",
    "test_matrix = test.drop([\"diff_percent_segment_and_median_by_segment_code_and_hour_and_day\", \"date\", 'segment_duration'], axis=1)\n",
    "test_target = test[\"diff_percent_segment_and_median_by_segment_code_and_hour_and_day\"]"
   ]
  },
  {
   "cell_type": "code",
   "execution_count": 120,
   "metadata": {},
   "outputs": [],
   "source": [
    "# train_matrix.isin([np.nan, np.inf, -np.inf]).any(0).sort_values(ascending=False)"
   ]
  },
  {
   "cell_type": "code",
   "execution_count": 121,
   "metadata": {},
   "outputs": [],
   "source": [
    "# train_target.isin([np.nan, np.inf, -np.inf]).any()"
   ]
  },
  {
   "cell_type": "code",
   "execution_count": 122,
   "metadata": {},
   "outputs": [],
   "source": [
    "# test_matrix.isin([np.nan, np.inf, -np.inf]).any(0).sort_values(ascending=False)"
   ]
  },
  {
   "cell_type": "code",
   "execution_count": 123,
   "metadata": {},
   "outputs": [],
   "source": [
    "# test_target.isin([np.nan, np.inf, -np.inf]).any()"
   ]
  },
  {
   "cell_type": "code",
   "execution_count": 124,
   "metadata": {},
   "outputs": [
    {
     "name": "stdout",
     "output_type": "stream",
     "text": [
      "-14925.0\n",
      "inf\n",
      "-3482.608695652174\n",
      "10467.441860465116\n"
     ]
    }
   ],
   "source": [
    "print(train_target.min())\n",
    "print(train_target.max())\n",
    "\n",
    "print(test_target.min())\n",
    "print(test_target.max())"
   ]
  },
  {
   "cell_type": "code",
   "execution_count": 125,
   "metadata": {},
   "outputs": [],
   "source": [
    "train_target = np.nan_to_num(train_target)\n",
    "test_target = np.nan_to_num(test_target)"
   ]
  },
  {
   "cell_type": "code",
   "execution_count": 126,
   "metadata": {},
   "outputs": [],
   "source": [
    "train_target = np.clip(train_target, -1000, 10000)\n",
    "test_target = np.clip(test_target, -1000, 10000)"
   ]
  },
  {
   "cell_type": "code",
   "execution_count": 127,
   "metadata": {},
   "outputs": [
    {
     "name": "stdout",
     "output_type": "stream",
     "text": [
      "(3257131, 52)\n",
      "(3257131,)\n"
     ]
    }
   ],
   "source": [
    "\n",
    "print(train_matrix.shape)\n",
    "print(train_target.shape)"
   ]
  },
  {
   "cell_type": "code",
   "execution_count": 128,
   "metadata": {},
   "outputs": [
    {
     "data": {
      "text/plain": [
       "Index(['date', 'scheduledStart', 'timingPoint', 'line_distance',\n",
       "       'to_centre_dist', 'direction_degrees', 'segment_duration',\n",
       "       'timetable_segment_duration', 'median_durations_by_segment_code',\n",
       "       'median_durations_by_segment_code_and_hour',\n",
       "       'median_durations_by_segment_code_and_hour_and_day',\n",
       "       'median_dwell_dest_durations_by_stop_code',\n",
       "       'median_dwell_prev_durations_by_stop_code',\n",
       "       'median_dwell_dest_by_stop_code_and_hour',\n",
       "       'median_dwell_prev_by_stop_code_and_hour',\n",
       "       'median_dwell_dest_by_stop_code_and_hour_and_day',\n",
       "       'median_dwell_prev_by_stop_code_and_hour_and_day',\n",
       "       'median_full_durations_by_segment_code',\n",
       "       'median_full_durations_by_segment_code_and_hour',\n",
       "       'median_full_durations_by_segment_code_and_hour_and_day',\n",
       "       'clock_direction_degrees', 'rain',\n",
       "       'diff_percent_segment_and_median_by_segment_code_and_hour_and_day',\n",
       "       'self_offset_5_1', 'self_offset_5_2', 'self_offset_5_3',\n",
       "       'self_offset_5_4', 'arrival_hour_0', 'arrival_hour_1', 'arrival_hour_5',\n",
       "       'arrival_hour_6', 'arrival_hour_7', 'arrival_hour_8', 'arrival_hour_9',\n",
       "       'arrival_hour_10', 'arrival_hour_11', 'arrival_hour_12',\n",
       "       'arrival_hour_13', 'arrival_hour_14', 'arrival_hour_15',\n",
       "       'arrival_hour_16', 'arrival_hour_17', 'arrival_hour_18',\n",
       "       'arrival_hour_19', 'arrival_hour_20', 'arrival_hour_21',\n",
       "       'arrival_hour_22', 'arrival_hour_23', 'arrival_day_0', 'arrival_day_1',\n",
       "       'arrival_day_2', 'arrival_day_3', 'arrival_day_4', 'arrival_day_5',\n",
       "       'arrival_day_6'],\n",
       "      dtype='object')"
      ]
     },
     "execution_count": 128,
     "metadata": {},
     "output_type": "execute_result"
    }
   ],
   "source": [
    "se_min.columns"
   ]
  },
  {
   "cell_type": "code",
   "execution_count": 129,
   "metadata": {},
   "outputs": [],
   "source": [
    "reg = LinearRegression().fit(train_matrix, train_target)\n",
    "\n",
    "reg_results = reg.predict(test_matrix)"
   ]
  },
  {
   "cell_type": "code",
   "execution_count": 130,
   "metadata": {},
   "outputs": [
    {
     "data": {
      "text/plain": [
       "0.16819064376854587"
      ]
     },
     "execution_count": 130,
     "metadata": {},
     "output_type": "execute_result"
    }
   ],
   "source": [
    "reg.score(test_matrix, test_target)\n",
    "\n"
   ]
  },
  {
   "cell_type": "code",
   "execution_count": 131,
   "metadata": {},
   "outputs": [],
   "source": [
    "rmse_lr = np.sqrt(mean_squared_error(test_target, reg_results))\n",
    "mae_lr = mean_absolute_error(test_target, reg_results)\n"
   ]
  },
  {
   "cell_type": "code",
   "execution_count": 132,
   "metadata": {},
   "outputs": [
    {
     "name": "stdout",
     "output_type": "stream",
     "text": [
      "91.25130548613238\n",
      "39.30237304982279\n"
     ]
    }
   ],
   "source": [
    "print(rmse_lr)\n",
    "print(mae_lr)\n"
   ]
  },
  {
   "cell_type": "code",
   "execution_count": 133,
   "metadata": {},
   "outputs": [
    {
     "data": {
      "text/plain": [
       "(array([ 2.,  2.,  3.,  1.,  2., 31.,  1.,  3.,  4.,  3.]),\n",
       " array([-42.5606705 , -34.98217437, -27.40367823, -19.8251821 ,\n",
       "        -12.24668596,  -4.66818982,   2.91030631,  10.48880245,\n",
       "         18.06729859,  25.64579472,  33.22429086]),\n",
       " <a list of 10 Patch objects>)"
      ]
     },
     "execution_count": 133,
     "metadata": {},
     "output_type": "execute_result"
    },
    {
     "data": {
      "image/png": "[encoded data removed]",
      "text/plain": [
       "<Figure size 432x288 with 1 Axes>"
      ]
     },
     "metadata": {
      "needs_background": "light"
     },
     "output_type": "display_data"
    }
   ],
   "source": [
    "plt.hist(reg.coef_)"
   ]
  },
  {
   "cell_type": "code",
   "execution_count": 95,
   "metadata": {},
   "outputs": [],
   "source": [
    "data_dmatrix = xgb.DMatrix(data=train_matrix,label=train_target)\n"
   ]
  },
  {
   "cell_type": "code",
   "execution_count": 134,
   "metadata": {},
   "outputs": [],
   "source": [
    "xg_reg = xgb.XGBRegressor(objective ='reg:linear', eval_metric='mae', booster='gbtree', n_jobs=5, max_depth=5, n_estimators=20, verbosity=1)\n"
   ]
  },
  {
   "cell_type": "code",
   "execution_count": 135,
   "metadata": {},
   "outputs": [],
   "source": [
    "xg_reg.fit(train_matrix, train_target)\n",
    "\n",
    "xg_reg_results = xg_reg.predict(test_matrix)"
   ]
  },
  {
   "cell_type": "code",
   "execution_count": 136,
   "metadata": {},
   "outputs": [],
   "source": [
    "rmse_xg = np.sqrt(mean_squared_error(test_target, xg_reg_results))\n",
    "mae_xg = mean_absolute_error(test_target, xg_reg_results)"
   ]
  },
  {
   "cell_type": "code",
   "execution_count": 137,
   "metadata": {},
   "outputs": [
    {
     "name": "stdout",
     "output_type": "stream",
     "text": [
      "85.59760009454625\n",
      "36.727546686165674\n"
     ]
    }
   ],
   "source": [
    "print(rmse_xg)\n",
    "print(mae_xg)"
   ]
  },
  {
   "cell_type": "code",
   "execution_count": 54,
   "metadata": {},
   "outputs": [],
   "source": [
    "rf_reg = RandomForestRegressor(max_depth=3, random_state=0, criterion='mae', n_jobs=5, n_estimators=10, verbose=2)"
   ]
  },
  {
   "cell_type": "code",
   "execution_count": 55,
   "metadata": {},
   "outputs": [
    {
     "name": "stderr",
     "output_type": "stream",
     "text": [
      "[Parallel(n_jobs=5)]: Using backend ThreadingBackend with 5 concurrent workers.\n"
     ]
    },
    {
     "name": "stdout",
     "output_type": "stream",
     "text": [
      "building tree 1 of 10building tree 2 of 10building tree 3 of 10building tree 4 of 10\n",
      "\n",
      "\n",
      "\n",
      "building tree 5 of 10\n"
     ]
    },
    {
     "ename": "KeyboardInterrupt",
     "evalue": "",
     "output_type": "error",
     "traceback": [
      "\u001b[0;31m---------------------------------------------------------------------------\u001b[0m",
      "\u001b[0;31mKeyboardInterrupt\u001b[0m                         Traceback (most recent call last)",
      "\u001b[0;32m<ipython-input-55-2f4e4fe028e1>\u001b[0m in \u001b[0;36m<module>\u001b[0;34m\u001b[0m\n\u001b[0;32m----> 1\u001b[0;31m \u001b[0mrf_reg\u001b[0m\u001b[0;34m.\u001b[0m\u001b[0mfit\u001b[0m\u001b[0;34m(\u001b[0m\u001b[0mtrain_matrix\u001b[0m\u001b[0;34m,\u001b[0m \u001b[0mtrain_target\u001b[0m\u001b[0;34m)\u001b[0m\u001b[0;34m\u001b[0m\u001b[0;34m\u001b[0m\u001b[0m\n\u001b[0m\u001b[1;32m      2\u001b[0m \u001b[0;34m\u001b[0m\u001b[0m\n\u001b[1;32m      3\u001b[0m \u001b[0mrf_reg_results\u001b[0m \u001b[0;34m=\u001b[0m \u001b[0mrf_reg\u001b[0m\u001b[0;34m.\u001b[0m\u001b[0mpredict\u001b[0m\u001b[0;34m(\u001b[0m\u001b[0mtest_matrix\u001b[0m\u001b[0;34m)\u001b[0m\u001b[0;34m\u001b[0m\u001b[0;34m\u001b[0m\u001b[0m\n",
      "\u001b[0;32m~/anaconda3/envs/busses/lib/python3.7/site-packages/sklearn/ensemble/forest.py\u001b[0m in \u001b[0;36mfit\u001b[0;34m(self, X, y, sample_weight)\u001b[0m\n\u001b[1;32m    331\u001b[0m                     \u001b[0mt\u001b[0m\u001b[0;34m,\u001b[0m \u001b[0mself\u001b[0m\u001b[0;34m,\u001b[0m \u001b[0mX\u001b[0m\u001b[0;34m,\u001b[0m \u001b[0my\u001b[0m\u001b[0;34m,\u001b[0m \u001b[0msample_weight\u001b[0m\u001b[0;34m,\u001b[0m \u001b[0mi\u001b[0m\u001b[0;34m,\u001b[0m \u001b[0mlen\u001b[0m\u001b[0;34m(\u001b[0m\u001b[0mtrees\u001b[0m\u001b[0;34m)\u001b[0m\u001b[0;34m,\u001b[0m\u001b[0;34m\u001b[0m\u001b[0;34m\u001b[0m\u001b[0m\n\u001b[1;32m    332\u001b[0m                     verbose=self.verbose, class_weight=self.class_weight)\n\u001b[0;32m--> 333\u001b[0;31m                 for i, t in enumerate(trees))\n\u001b[0m\u001b[1;32m    334\u001b[0m \u001b[0;34m\u001b[0m\u001b[0m\n\u001b[1;32m    335\u001b[0m             \u001b[0;31m# Collect newly grown trees\u001b[0m\u001b[0;34m\u001b[0m\u001b[0;34m\u001b[0m\u001b[0;34m\u001b[0m\u001b[0m\n",
      "\u001b[0;32m~/anaconda3/envs/busses/lib/python3.7/site-packages/sklearn/externals/joblib/parallel.py\u001b[0m in \u001b[0;36m__call__\u001b[0;34m(self, iterable)\u001b[0m\n\u001b[1;32m    928\u001b[0m \u001b[0;34m\u001b[0m\u001b[0m\n\u001b[1;32m    929\u001b[0m             \u001b[0;32mwith\u001b[0m \u001b[0mself\u001b[0m\u001b[0;34m.\u001b[0m\u001b[0m_backend\u001b[0m\u001b[0;34m.\u001b[0m\u001b[0mretrieval_context\u001b[0m\u001b[0;34m(\u001b[0m\u001b[0;34m)\u001b[0m\u001b[0;34m:\u001b[0m\u001b[0;34m\u001b[0m\u001b[0;34m\u001b[0m\u001b[0m\n\u001b[0;32m--> 930\u001b[0;31m                 \u001b[0mself\u001b[0m\u001b[0;34m.\u001b[0m\u001b[0mretrieve\u001b[0m\u001b[0;34m(\u001b[0m\u001b[0;34m)\u001b[0m\u001b[0;34m\u001b[0m\u001b[0;34m\u001b[0m\u001b[0m\n\u001b[0m\u001b[1;32m    931\u001b[0m             \u001b[0;31m# Make sure that we get a last message telling us we are done\u001b[0m\u001b[0;34m\u001b[0m\u001b[0;34m\u001b[0m\u001b[0;34m\u001b[0m\u001b[0m\n\u001b[1;32m    932\u001b[0m             \u001b[0melapsed_time\u001b[0m \u001b[0;34m=\u001b[0m \u001b[0mtime\u001b[0m\u001b[0;34m.\u001b[0m\u001b[0mtime\u001b[0m\u001b[0;34m(\u001b[0m\u001b[0;34m)\u001b[0m \u001b[0;34m-\u001b[0m \u001b[0mself\u001b[0m\u001b[0;34m.\u001b[0m\u001b[0m_start_time\u001b[0m\u001b[0;34m\u001b[0m\u001b[0;34m\u001b[0m\u001b[0m\n",
      "\u001b[0;32m~/anaconda3/envs/busses/lib/python3.7/site-packages/sklearn/externals/joblib/parallel.py\u001b[0m in \u001b[0;36mretrieve\u001b[0;34m(self)\u001b[0m\n\u001b[1;32m    831\u001b[0m             \u001b[0;32mtry\u001b[0m\u001b[0;34m:\u001b[0m\u001b[0;34m\u001b[0m\u001b[0;34m\u001b[0m\u001b[0m\n\u001b[1;32m    832\u001b[0m                 \u001b[0;32mif\u001b[0m \u001b[0mgetattr\u001b[0m\u001b[0;34m(\u001b[0m\u001b[0mself\u001b[0m\u001b[0;34m.\u001b[0m\u001b[0m_backend\u001b[0m\u001b[0;34m,\u001b[0m \u001b[0;34m'supports_timeout'\u001b[0m\u001b[0;34m,\u001b[0m \u001b[0;32mFalse\u001b[0m\u001b[0;34m)\u001b[0m\u001b[0;34m:\u001b[0m\u001b[0;34m\u001b[0m\u001b[0;34m\u001b[0m\u001b[0m\n\u001b[0;32m--> 833\u001b[0;31m                     \u001b[0mself\u001b[0m\u001b[0;34m.\u001b[0m\u001b[0m_output\u001b[0m\u001b[0;34m.\u001b[0m\u001b[0mextend\u001b[0m\u001b[0;34m(\u001b[0m\u001b[0mjob\u001b[0m\u001b[0;34m.\u001b[0m\u001b[0mget\u001b[0m\u001b[0;34m(\u001b[0m\u001b[0mtimeout\u001b[0m\u001b[0;34m=\u001b[0m\u001b[0mself\u001b[0m\u001b[0;34m.\u001b[0m\u001b[0mtimeout\u001b[0m\u001b[0;34m)\u001b[0m\u001b[0;34m)\u001b[0m\u001b[0;34m\u001b[0m\u001b[0;34m\u001b[0m\u001b[0m\n\u001b[0m\u001b[1;32m    834\u001b[0m                 \u001b[0;32melse\u001b[0m\u001b[0;34m:\u001b[0m\u001b[0;34m\u001b[0m\u001b[0;34m\u001b[0m\u001b[0m\n\u001b[1;32m    835\u001b[0m                     \u001b[0mself\u001b[0m\u001b[0;34m.\u001b[0m\u001b[0m_output\u001b[0m\u001b[0;34m.\u001b[0m\u001b[0mextend\u001b[0m\u001b[0;34m(\u001b[0m\u001b[0mjob\u001b[0m\u001b[0;34m.\u001b[0m\u001b[0mget\u001b[0m\u001b[0;34m(\u001b[0m\u001b[0;34m)\u001b[0m\u001b[0;34m)\u001b[0m\u001b[0;34m\u001b[0m\u001b[0;34m\u001b[0m\u001b[0m\n",
      "\u001b[0;32m~/anaconda3/envs/busses/lib/python3.7/multiprocessing/pool.py\u001b[0m in \u001b[0;36mget\u001b[0;34m(self, timeout)\u001b[0m\n\u001b[1;32m    675\u001b[0m \u001b[0;34m\u001b[0m\u001b[0m\n\u001b[1;32m    676\u001b[0m     \u001b[0;32mdef\u001b[0m \u001b[0mget\u001b[0m\u001b[0;34m(\u001b[0m\u001b[0mself\u001b[0m\u001b[0;34m,\u001b[0m \u001b[0mtimeout\u001b[0m\u001b[0;34m=\u001b[0m\u001b[0;32mNone\u001b[0m\u001b[0;34m)\u001b[0m\u001b[0;34m:\u001b[0m\u001b[0;34m\u001b[0m\u001b[0;34m\u001b[0m\u001b[0m\n\u001b[0;32m--> 677\u001b[0;31m         \u001b[0mself\u001b[0m\u001b[0;34m.\u001b[0m\u001b[0mwait\u001b[0m\u001b[0;34m(\u001b[0m\u001b[0mtimeout\u001b[0m\u001b[0;34m)\u001b[0m\u001b[0;34m\u001b[0m\u001b[0;34m\u001b[0m\u001b[0m\n\u001b[0m\u001b[1;32m    678\u001b[0m         \u001b[0;32mif\u001b[0m \u001b[0;32mnot\u001b[0m \u001b[0mself\u001b[0m\u001b[0;34m.\u001b[0m\u001b[0mready\u001b[0m\u001b[0;34m(\u001b[0m\u001b[0;34m)\u001b[0m\u001b[0;34m:\u001b[0m\u001b[0;34m\u001b[0m\u001b[0;34m\u001b[0m\u001b[0m\n\u001b[1;32m    679\u001b[0m             \u001b[0;32mraise\u001b[0m \u001b[0mTimeoutError\u001b[0m\u001b[0;34m\u001b[0m\u001b[0;34m\u001b[0m\u001b[0m\n",
      "\u001b[0;32m~/anaconda3/envs/busses/lib/python3.7/multiprocessing/pool.py\u001b[0m in \u001b[0;36mwait\u001b[0;34m(self, timeout)\u001b[0m\n\u001b[1;32m    672\u001b[0m \u001b[0;34m\u001b[0m\u001b[0m\n\u001b[1;32m    673\u001b[0m     \u001b[0;32mdef\u001b[0m \u001b[0mwait\u001b[0m\u001b[0;34m(\u001b[0m\u001b[0mself\u001b[0m\u001b[0;34m,\u001b[0m \u001b[0mtimeout\u001b[0m\u001b[0;34m=\u001b[0m\u001b[0;32mNone\u001b[0m\u001b[0;34m)\u001b[0m\u001b[0;34m:\u001b[0m\u001b[0;34m\u001b[0m\u001b[0;34m\u001b[0m\u001b[0m\n\u001b[0;32m--> 674\u001b[0;31m         \u001b[0mself\u001b[0m\u001b[0;34m.\u001b[0m\u001b[0m_event\u001b[0m\u001b[0;34m.\u001b[0m\u001b[0mwait\u001b[0m\u001b[0;34m(\u001b[0m\u001b[0mtimeout\u001b[0m\u001b[0;34m)\u001b[0m\u001b[0;34m\u001b[0m\u001b[0;34m\u001b[0m\u001b[0m\n\u001b[0m\u001b[1;32m    675\u001b[0m \u001b[0;34m\u001b[0m\u001b[0m\n\u001b[1;32m    676\u001b[0m     \u001b[0;32mdef\u001b[0m \u001b[0mget\u001b[0m\u001b[0;34m(\u001b[0m\u001b[0mself\u001b[0m\u001b[0;34m,\u001b[0m \u001b[0mtimeout\u001b[0m\u001b[0;34m=\u001b[0m\u001b[0;32mNone\u001b[0m\u001b[0;34m)\u001b[0m\u001b[0;34m:\u001b[0m\u001b[0;34m\u001b[0m\u001b[0;34m\u001b[0m\u001b[0m\n",
      "\u001b[0;32m~/anaconda3/envs/busses/lib/python3.7/threading.py\u001b[0m in \u001b[0;36mwait\u001b[0;34m(self, timeout)\u001b[0m\n\u001b[1;32m    550\u001b[0m             \u001b[0msignaled\u001b[0m \u001b[0;34m=\u001b[0m \u001b[0mself\u001b[0m\u001b[0;34m.\u001b[0m\u001b[0m_flag\u001b[0m\u001b[0;34m\u001b[0m\u001b[0;34m\u001b[0m\u001b[0m\n\u001b[1;32m    551\u001b[0m             \u001b[0;32mif\u001b[0m \u001b[0;32mnot\u001b[0m \u001b[0msignaled\u001b[0m\u001b[0;34m:\u001b[0m\u001b[0;34m\u001b[0m\u001b[0;34m\u001b[0m\u001b[0m\n\u001b[0;32m--> 552\u001b[0;31m                 \u001b[0msignaled\u001b[0m \u001b[0;34m=\u001b[0m \u001b[0mself\u001b[0m\u001b[0;34m.\u001b[0m\u001b[0m_cond\u001b[0m\u001b[0;34m.\u001b[0m\u001b[0mwait\u001b[0m\u001b[0;34m(\u001b[0m\u001b[0mtimeout\u001b[0m\u001b[0;34m)\u001b[0m\u001b[0;34m\u001b[0m\u001b[0;34m\u001b[0m\u001b[0m\n\u001b[0m\u001b[1;32m    553\u001b[0m             \u001b[0;32mreturn\u001b[0m \u001b[0msignaled\u001b[0m\u001b[0;34m\u001b[0m\u001b[0;34m\u001b[0m\u001b[0m\n\u001b[1;32m    554\u001b[0m \u001b[0;34m\u001b[0m\u001b[0m\n",
      "\u001b[0;32m~/anaconda3/envs/busses/lib/python3.7/threading.py\u001b[0m in \u001b[0;36mwait\u001b[0;34m(self, timeout)\u001b[0m\n\u001b[1;32m    294\u001b[0m         \u001b[0;32mtry\u001b[0m\u001b[0;34m:\u001b[0m    \u001b[0;31m# restore state no matter what (e.g., KeyboardInterrupt)\u001b[0m\u001b[0;34m\u001b[0m\u001b[0;34m\u001b[0m\u001b[0m\n\u001b[1;32m    295\u001b[0m             \u001b[0;32mif\u001b[0m \u001b[0mtimeout\u001b[0m \u001b[0;32mis\u001b[0m \u001b[0;32mNone\u001b[0m\u001b[0;34m:\u001b[0m\u001b[0;34m\u001b[0m\u001b[0;34m\u001b[0m\u001b[0m\n\u001b[0;32m--> 296\u001b[0;31m                 \u001b[0mwaiter\u001b[0m\u001b[0;34m.\u001b[0m\u001b[0macquire\u001b[0m\u001b[0;34m(\u001b[0m\u001b[0;34m)\u001b[0m\u001b[0;34m\u001b[0m\u001b[0;34m\u001b[0m\u001b[0m\n\u001b[0m\u001b[1;32m    297\u001b[0m                 \u001b[0mgotit\u001b[0m \u001b[0;34m=\u001b[0m \u001b[0;32mTrue\u001b[0m\u001b[0;34m\u001b[0m\u001b[0;34m\u001b[0m\u001b[0m\n\u001b[1;32m    298\u001b[0m             \u001b[0;32melse\u001b[0m\u001b[0;34m:\u001b[0m\u001b[0;34m\u001b[0m\u001b[0;34m\u001b[0m\u001b[0m\n",
      "\u001b[0;31mKeyboardInterrupt\u001b[0m: "
     ]
    }
   ],
   "source": [
    "rf_reg.fit(train_matrix, train_target)\n",
    "\n",
    "rf_reg_results = rf_reg.predict(test_matrix)"
   ]
  },
  {
   "cell_type": "code",
   "execution_count": null,
   "metadata": {},
   "outputs": [],
   "source": [
    "rmse_rf = np.sqrt(mean_squared_error(test_target, rf_reg_results))\n",
    "mae_rf = mean_absolute_error(test_target, rf_reg_results)"
   ]
  },
  {
   "cell_type": "code",
   "execution_count": null,
   "metadata": {},
   "outputs": [],
   "source": [
    "print(rmse_rf)\n",
    "print(mae_rf)"
   ]
  },
  {
   "cell_type": "code",
   "execution_count": 142,
   "metadata": {},
   "outputs": [
    {
     "ename": "ZeroDivisionError",
     "evalue": "division by zero",
     "output_type": "error",
     "traceback": [
      "\u001b[0;31m---------------------------------------------------------------------------\u001b[0m",
      "\u001b[0;31mZeroDivisionError\u001b[0m                         Traceback (most recent call last)",
      "\u001b[0;32m<ipython-input-142-56584a5a4125>\u001b[0m in \u001b[0;36m<module>\u001b[0;34m\u001b[0m\n\u001b[0;32m----> 1\u001b[0;31m \u001b[0mtest_matrix\u001b[0m\u001b[0;34m.\u001b[0m\u001b[0mcolumns\u001b[0m\u001b[0;34m[\u001b[0m\u001b[0mnp\u001b[0m\u001b[0;34m.\u001b[0m\u001b[0margsort\u001b[0m\u001b[0;34m(\u001b[0m\u001b[0mrf_reg\u001b[0m\u001b[0;34m.\u001b[0m\u001b[0mfeature_importances_\u001b[0m\u001b[0;34m)\u001b[0m\u001b[0;34m[\u001b[0m\u001b[0;34m:\u001b[0m\u001b[0;34m:\u001b[0m\u001b[0;34m-\u001b[0m\u001b[0;36m1\u001b[0m\u001b[0;34m]\u001b[0m\u001b[0;34m]\u001b[0m\u001b[0;34m\u001b[0m\u001b[0;34m\u001b[0m\u001b[0m\n\u001b[0m",
      "\u001b[0;32m~/anaconda3/envs/busses/lib/python3.7/site-packages/sklearn/ensemble/forest.py\u001b[0m in \u001b[0;36mfeature_importances_\u001b[0;34m(self)\u001b[0m\n\u001b[1;32m    378\u001b[0m             for tree in self.estimators_)\n\u001b[1;32m    379\u001b[0m \u001b[0;34m\u001b[0m\u001b[0m\n\u001b[0;32m--> 380\u001b[0;31m         \u001b[0;32mreturn\u001b[0m \u001b[0msum\u001b[0m\u001b[0;34m(\u001b[0m\u001b[0mall_importances\u001b[0m\u001b[0;34m)\u001b[0m \u001b[0;34m/\u001b[0m \u001b[0mlen\u001b[0m\u001b[0;34m(\u001b[0m\u001b[0mself\u001b[0m\u001b[0;34m.\u001b[0m\u001b[0mestimators_\u001b[0m\u001b[0;34m)\u001b[0m\u001b[0;34m\u001b[0m\u001b[0;34m\u001b[0m\u001b[0m\n\u001b[0m\u001b[1;32m    381\u001b[0m \u001b[0;34m\u001b[0m\u001b[0m\n\u001b[1;32m    382\u001b[0m \u001b[0;34m\u001b[0m\u001b[0m\n",
      "\u001b[0;31mZeroDivisionError\u001b[0m: division by zero"
     ]
    }
   ],
   "source": [
    "test_matrix.columns[np.argsort(rf_reg.feature_importances_)[::-1]]"
   ]
  },
  {
   "cell_type": "code",
   "execution_count": 141,
   "metadata": {},
   "outputs": [
    {
     "data": {
      "text/plain": [
       "Index(['median_full_durations_by_segment_code', 'self_offset_5_1',\n",
       "       'median_durations_by_segment_code',\n",
       "       'median_dwell_prev_durations_by_stop_code', 'self_offset_5_3',\n",
       "       'timingPoint', 'median_dwell_dest_durations_by_stop_code',\n",
       "       'median_dwell_prev_by_stop_code_and_hour',\n",
       "       'median_durations_by_segment_code_and_hour_and_day',\n",
       "       'median_dwell_prev_by_stop_code_and_hour_and_day', 'line_distance',\n",
       "       'timetable_segment_duration', 'median_dwell_dest_by_stop_code_and_hour',\n",
       "       'median_dwell_dest_by_stop_code_and_hour_and_day', 'self_offset_5_2',\n",
       "       'direction_degrees', 'to_centre_dist', 'clock_direction_degrees',\n",
       "       'median_full_durations_by_segment_code_and_hour_and_day',\n",
       "       'median_durations_by_segment_code_and_hour', 'scheduledStart', 'rain',\n",
       "       'arrival_hour_0', 'median_full_durations_by_segment_code_and_hour',\n",
       "       'self_offset_5_4', 'arrival_hour_13', 'arrival_day_6', 'arrival_day_5',\n",
       "       'arrival_hour_18', 'arrival_day_4', 'arrival_day_3', 'arrival_day_2',\n",
       "       'arrival_day_1', 'arrival_day_0', 'arrival_hour_23', 'arrival_hour_22',\n",
       "       'arrival_hour_21', 'arrival_hour_20', 'arrival_hour_19',\n",
       "       'arrival_hour_17', 'arrival_hour_5', 'arrival_hour_16',\n",
       "       'arrival_hour_15', 'arrival_hour_14', 'arrival_hour_12',\n",
       "       'arrival_hour_11', 'arrival_hour_10', 'arrival_hour_9',\n",
       "       'arrival_hour_8', 'arrival_hour_7', 'arrival_hour_6', 'arrival_hour_1'],\n",
       "      dtype='object')"
      ]
     },
     "execution_count": 141,
     "metadata": {},
     "output_type": "execute_result"
    }
   ],
   "source": [
    "test_matrix.columns[np.argsort(xg_reg.feature_importances_)[::-1]]"
   ]
  },
  {
   "cell_type": "code",
   "execution_count": 146,
   "metadata": {},
   "outputs": [
    {
     "name": "stderr",
     "output_type": "stream",
     "text": [
      "/Users/tommelamed/anaconda3/envs/busses/lib/python3.7/site-packages/sklearn/preprocessing/data.py:625: DataConversionWarning: Data with input dtype uint8, int64, float64 were all converted to float64 by StandardScaler.\n",
      "  return self.partial_fit(X, y)\n",
      "/Users/tommelamed/anaconda3/envs/busses/lib/python3.7/site-packages/ipykernel_launcher.py:3: DataConversionWarning: Data with input dtype uint8, int64, float64 were all converted to float64 by StandardScaler.\n",
      "  This is separate from the ipykernel package so we can avoid doing imports until\n",
      "/Users/tommelamed/anaconda3/envs/busses/lib/python3.7/site-packages/ipykernel_launcher.py:4: DataConversionWarning: Data with input dtype uint8, int64, float64 were all converted to float64 by StandardScaler.\n",
      "  after removing the cwd from sys.path.\n"
     ]
    }
   ],
   "source": [
    "scaler_matrix = preprocessing.StandardScaler().fit(train_matrix)\n",
    "\n",
    "train_matrix_scaled = scaler_matrix.transform(train_matrix)\n",
    "test_matrix_scaled = scaler_matrix.transform(test_matrix)\n",
    "\n",
    "scaler_target = preprocessing.StandardScaler().fit(train_target[:,None])\n",
    "\n",
    "train_target_scaled = scaler_target.transform(train_target[:,None])\n",
    "test_target_scaled = scaler_target.transform(test_target[:,None])\n",
    "\n",
    "\n"
   ]
  },
  {
   "cell_type": "code",
   "execution_count": 147,
   "metadata": {},
   "outputs": [],
   "source": [
    "def create_fully_connected(input_width):\n",
    "    model = Sequential()\n",
    "    \n",
    "    model.add(Dense(32, input_dim=input_width, activation='relu'))\n",
    "    model.add(layers.Dropout(rate=0.2))\n",
    "    model.add(Dense(12, activation='relu'))\n",
    "    model.add(layers.Dropout(rate=0.2))\n",
    "#     model.add(Dense(12, activation='relu'))\n",
    "#     model.add(layers.Dropout(0.2))\n",
    "    model.add(Dense(1, activation='tanh'))\n",
    "    model.summary()\n",
    "    \n",
    "    return model"
   ]
  },
  {
   "cell_type": "code",
   "execution_count": 148,
   "metadata": {},
   "outputs": [
    {
     "name": "stdout",
     "output_type": "stream",
     "text": [
      "WARNING:tensorflow:From /Users/tommelamed/anaconda3/envs/busses/lib/python3.7/site-packages/tensorflow/python/framework/op_def_library.py:263: colocate_with (from tensorflow.python.framework.ops) is deprecated and will be removed in a future version.\n",
      "Instructions for updating:\n",
      "Colocations handled automatically by placer.\n",
      "WARNING:tensorflow:From /Users/tommelamed/anaconda3/envs/busses/lib/python3.7/site-packages/keras/backend/tensorflow_backend.py:3445: calling dropout (from tensorflow.python.ops.nn_ops) with keep_prob is deprecated and will be removed in a future version.\n",
      "Instructions for updating:\n",
      "Please use `rate` instead of `keep_prob`. Rate should be set to `rate = 1 - keep_prob`.\n",
      "_________________________________________________________________\n",
      "Layer (type)                 Output Shape              Param #   \n",
      "=================================================================\n",
      "dense_1 (Dense)              (None, 32)                1696      \n",
      "_________________________________________________________________\n",
      "dropout_1 (Dropout)          (None, 32)                0         \n",
      "_________________________________________________________________\n",
      "dense_2 (Dense)              (None, 12)                396       \n",
      "_________________________________________________________________\n",
      "dropout_2 (Dropout)          (None, 12)                0         \n",
      "_________________________________________________________________\n",
      "dense_3 (Dense)              (None, 1)                 13        \n",
      "=================================================================\n",
      "Total params: 2,105\n",
      "Trainable params: 2,105\n",
      "Non-trainable params: 0\n",
      "_________________________________________________________________\n",
      "WARNING:tensorflow:From /Users/tommelamed/anaconda3/envs/busses/lib/python3.7/site-packages/tensorflow/python/ops/math_ops.py:3066: to_int32 (from tensorflow.python.ops.math_ops) is deprecated and will be removed in a future version.\n",
      "Instructions for updating:\n",
      "Use tf.cast instead.\n",
      "Train on 3257131 samples, validate on 661623 samples\n",
      "Epoch 1/10\n",
      "3257131/3257131 [==============================] - 170s 52us/step - loss: 0.3287 - mean_absolute_error: 0.3287 - val_loss: 0.3395 - val_mean_absolute_error: 0.3395\n",
      "Epoch 2/10\n",
      "3257131/3257131 [==============================] - 136s 42us/step - loss: 0.3176 - mean_absolute_error: 0.3176 - val_loss: 0.3353 - val_mean_absolute_error: 0.3353\n",
      "Epoch 3/10\n",
      "3257131/3257131 [==============================] - 151s 46us/step - loss: 0.3158 - mean_absolute_error: 0.3158 - val_loss: 0.3346 - val_mean_absolute_error: 0.3346\n",
      "Epoch 4/10\n",
      "3257131/3257131 [==============================] - 130s 40us/step - loss: 0.3150 - mean_absolute_error: 0.3150 - val_loss: 0.3335 - val_mean_absolute_error: 0.3335\n",
      "Epoch 5/10\n",
      "3257131/3257131 [==============================] - 130s 40us/step - loss: 0.3145 - mean_absolute_error: 0.3145 - val_loss: 0.3331 - val_mean_absolute_error: 0.3331\n",
      "Epoch 6/10\n",
      "3257131/3257131 [==============================] - 173s 53us/step - loss: 0.3141 - mean_absolute_error: 0.3141 - val_loss: 0.3325 - val_mean_absolute_error: 0.3325\n",
      "Epoch 7/10\n",
      "3257131/3257131 [==============================] - 200s 62us/step - loss: 0.3139 - mean_absolute_error: 0.3139 - val_loss: 0.3334 - val_mean_absolute_error: 0.3334\n",
      "Epoch 8/10\n",
      "3257131/3257131 [==============================] - 184s 57us/step - loss: 0.3138 - mean_absolute_error: 0.3138 - val_loss: 0.3326 - val_mean_absolute_error: 0.3326\n"
     ]
    }
   ],
   "source": [
    "model = create_fully_connected(train_matrix.shape[1])\n",
    "\n",
    "callbacks_list = [\n",
    "    keras.callbacks.EarlyStopping(monitor='val_loss', patience=2),\n",
    "    keras.callbacks.ModelCheckpoint(filepath='full_conn_model.h5', monitor='val_loss', save_best_only=True)\n",
    "]\n",
    "\n",
    "model.compile(optimizer='rmsprop',\n",
    "              loss='mean_absolute_error',\n",
    "              metrics=['MAE'])\n",
    "history = model.fit(train_matrix_scaled, train_target_scaled,\n",
    "                    epochs=10,\n",
    "                    callbacks=callbacks_list,\n",
    "                    batch_size=512,\n",
    "                    validation_data=(test_matrix_scaled, test_target_scaled))"
   ]
  },
  {
   "cell_type": "code",
   "execution_count": 149,
   "metadata": {},
   "outputs": [
    {
     "name": "stdout",
     "output_type": "stream",
     "text": [
      "_________________________________________________________________\n",
      "Layer (type)                 Output Shape              Param #   \n",
      "=================================================================\n",
      "dense_4 (Dense)              (None, 32)                1696      \n",
      "_________________________________________________________________\n",
      "dropout_3 (Dropout)          (None, 32)                0         \n",
      "_________________________________________________________________\n",
      "dense_5 (Dense)              (None, 12)                396       \n",
      "_________________________________________________________________\n",
      "dropout_4 (Dropout)          (None, 12)                0         \n",
      "_________________________________________________________________\n",
      "dense_6 (Dense)              (None, 1)                 13        \n",
      "=================================================================\n",
      "Total params: 2,105\n",
      "Trainable params: 2,105\n",
      "Non-trainable params: 0\n",
      "_________________________________________________________________\n"
     ]
    }
   ],
   "source": [
    "model_to_load = 'full_conn_model.h5'\n",
    "\n",
    "# Create the network and load the weights into it\n",
    "model = create_fully_connected(test_matrix.shape[1])\n",
    "model.load_weights(model_to_load)\n",
    "\n",
    "model.compile(optimizer='rmsprop',\n",
    "              loss='binary_crossentropy',\n",
    "              metrics=['acc'])\n",
    "test_y_scaled = model.predict(test_matrix_scaled)\n",
    "\n",
    "NN_results = scaler_target.inverse_transform(test_y_scaled)"
   ]
  },
  {
   "cell_type": "code",
   "execution_count": 150,
   "metadata": {},
   "outputs": [],
   "source": [
    "rmse_NN = np.sqrt(mean_squared_error(test_target, NN_results))\n",
    "mae_NN = mean_absolute_error(test_target, NN_results)\n"
   ]
  },
  {
   "cell_type": "code",
   "execution_count": 151,
   "metadata": {},
   "outputs": [
    {
     "name": "stdout",
     "output_type": "stream",
     "text": [
      "96.06249632775497\n",
      "33.27865368075231\n"
     ]
    }
   ],
   "source": [
    "print(rmse_NN)\n",
    "print(mae_NN)"
   ]
  },
  {
   "cell_type": "code",
   "execution_count": null,
   "metadata": {},
   "outputs": [],
   "source": [
    "# rmse_best_0 = np.sqrt(mean_squared_error(test_target, stop_events[stop_events['test']]['best_0']))\n",
    "# mae_best_0 = mean_absolute_error(test_target, stop_events[stop_events['test']]['best_0'])"
   ]
  },
  {
   "cell_type": "code",
   "execution_count": null,
   "metadata": {},
   "outputs": [],
   "source": [
    "# print(rmse_best_0)\n",
    "# print(mae_best_0)"
   ]
  },
  {
   "cell_type": "code",
   "execution_count": null,
   "metadata": {},
   "outputs": [],
   "source": [
    "# plt.hist(NN_results, alpha=0.5, bins=100, label=\"NN\", range=(-100, 100))\n",
    "# plt.hist(xg_reg_results, bins=100, label=\"XGB\", alpha=0.5,  range=(-100, 100))\n",
    "# # plt.hist(reg_results, bins=100, label=\"Linear\", alpha=0.5,  range=(-100, 100))\n",
    "# plt.hist(stop_events[stop_events['test']]['best_0'], bins=100, alpha=0.5,  label=\"best_0\", range=(-100, 100))\n",
    "# # plt.hist(stop_events['diff_percent_full_segment_and_median_by_segment_code_and_hour_and_day'], bins=200, label=\"target\", range=(-100, 100))\n",
    "# # plt.hist(train_target, bins=200, label=\"train\", range=(-100, 100))\n",
    "# plt.hist(test_target, bins=100, label=\"target\", alpha=0.5,  range=(-100, 100))\n",
    "# # plt.yscale(\"log\")\n",
    "# plt.legend()\n",
    "\n",
    "# plt.show()\n"
   ]
  },
  {
   "cell_type": "code",
   "execution_count": 143,
   "metadata": {},
   "outputs": [],
   "source": [
    "def MAPE(forecast, actual):\n",
    "    \n",
    "    if(len(forecast) != len(actual)):\n",
    "        raise ValueError('Could not calculate MAPE, forecast and actual arrays are different length')\n",
    "        \n",
    "    forecast = np.asarray(forecast)\n",
    "    actual = np.asarray(actual)\n",
    "    \n",
    "    with np.errstate(divide='ignore', invalid='ignore'):\n",
    "        \n",
    "        division = (actual-forecast)/actual\n",
    "        \n",
    "        division[actual == 0] = 0\n",
    "        \n",
    "        # Instead of dividing by n we count by the number of non-zero values. \n",
    "        # Essentially ignoring all cases where the actual value is zero. \n",
    "        mape = 100 / np.count_nonzero(actual) * np.sum(np.abs(division))\n",
    "    \n",
    "    return mape"
   ]
  },
  {
   "cell_type": "code",
   "execution_count": null,
   "metadata": {},
   "outputs": [],
   "source": [
    "predict_reg = test[\"median_durations_by_segment_code_and_hour_and_day\"] * (1+(reg_results/100))\n",
    "\n",
    "predict_xg = test[\"median_durations_by_segment_code_and_hour_and_day\"] * (1+(xg_reg_results/100))\n",
    "\n",
    "predict_NN = test[\"median_durations_by_segment_code_and_hour_and_day\"] * (1+(NN_results/100))\n",
    "\n",
    "# predict_best_0 = stop_events[stop_events['test']][\"median_full_durations_by_segment_code_and_hour_and_day\"] * (1+(stop_events[stop_events['test']]['best_0']/100))\n",
    "\n",
    "predict_self_offset = test[\"median_durations_by_segment_code_and_hour_and_day\"] * (1+(test['self_offset_5_1']/100))\n"
   ]
  },
  {
   "cell_type": "code",
   "execution_count": null,
   "metadata": {},
   "outputs": [],
   "source": [
    "print(f\"Linear MAPE: {MAPE(predict_reg, test['segment_duration'])}\")\n",
    "      \n",
    "print(f\"XGBoost MAPE: {MAPE(predict_xg, test['segment_duration'])}\")\n",
    "      \n",
    "print(f\"NN MAPE: {MAPE(predict_NN, stop_events[stop_events['test']]['full_duration'])}\")\n",
    "            \n",
    "# print(f\"Best_0 MAPE: {MAPE(predict_best_0, stop_events[stop_events['test']]['full_duration'])}\")\n",
    "      \n",
    "print(f\"self_offset MAPE: {MAPE(predict_self_offset, test['segment_duration'])}\")"
   ]
  },
  {
   "cell_type": "code",
   "execution_count": null,
   "metadata": {},
   "outputs": [],
   "source": [
    "# plt.hist(stop_events['30'], bins=100);"
   ]
  },
  {
   "cell_type": "code",
   "execution_count": null,
   "metadata": {},
   "outputs": [],
   "source": [
    "# MAPE(stop_events[stop_events['test']]['median_full_durations_by_segment_code_and_hour_and_day'], stop_events[stop_events['test']]['full_duration'])\n"
   ]
  },
  {
   "cell_type": "code",
   "execution_count": null,
   "metadata": {},
   "outputs": [],
   "source": [
    "os.system(\"say -v Fiona Go check your results - Kitchen Sink\") "
   ]
  },
  {
   "cell_type": "code",
   "execution_count": null,
   "metadata": {},
   "outputs": [],
   "source": []
  },
  {
   "cell_type": "code",
   "execution_count": null,
   "metadata": {},
   "outputs": [],
   "source": []
  },
  {
   "cell_type": "code",
   "execution_count": null,
   "metadata": {},
   "outputs": [],
   "source": []
  },
  {
   "cell_type": "code",
   "execution_count": null,
   "metadata": {},
   "outputs": [],
   "source": []
  }
 ],
 "metadata": {
  "kernelspec": {
   "display_name": "busses",
   "language": "python",
   "name": "busses"
  },
  "language_info": {
   "codemirror_mode": {
    "name": "ipython",
    "version": 3
   },
   "file_extension": ".py",
   "mimetype": "text/x-python",
   "name": "python",
   "nbconvert_exporter": "python",
   "pygments_lexer": "ipython3",
   "version": "3.7.1"
  }
 },
 "nbformat": 4,
 "nbformat_minor": 2
}
