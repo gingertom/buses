{
 "cells": [
  {
   "cell_type": "code",
   "execution_count": 1,
   "metadata": {},
   "outputs": [],
   "source": [
    "import pandas as pd\n",
    "import numpy as np\n",
    "\n",
    "import matplotlib.pyplot as plt\n",
    "import matplotlib.colors as colors\n",
    "\n",
    "from datetime import datetime"
   ]
  },
  {
   "cell_type": "code",
   "execution_count": 42,
   "metadata": {},
   "outputs": [],
   "source": [
    "stop_events = pd.read_csv(\"../data_files/B/stop_events.csv\")\n",
    "\n",
    "stop_events.head()\n",
    "\n",
    "stop_events = stop_events.dropna(axis=0)\n"
   ]
  },
  {
   "cell_type": "code",
   "execution_count": 43,
   "metadata": {},
   "outputs": [],
   "source": [
    "stop_events[\"prev_actualArrival\"] = stop_events[\"prev_actualArrival\"].astype(\n",
    "    \"datetime64[ns]\"\n",
    ")\n",
    "stop_events[\"prev_actualDeparture\"] = stop_events[\"prev_actualDeparture\"].astype(\n",
    "    \"datetime64[ns]\"\n",
    ")\n",
    "stop_events[\"actualArrival\"] = stop_events[\"actualArrival\"].astype(\n",
    "    \"datetime64[ns]\"\n",
    ")\n",
    "stop_events[\"actualDeparture\"] = stop_events[\"actualDeparture\"].astype(\n",
    "    \"datetime64[ns]\"\n",
    ")"
   ]
  },
  {
   "cell_type": "code",
   "execution_count": 44,
   "metadata": {},
   "outputs": [],
   "source": [
    "stop_events[\"segment_duration\"] = (\n",
    "        stop_events.actualArrival - stop_events.prev_actualDeparture\n",
    "    ).astype(\"timedelta64[s]\")"
   ]
  },
  {
   "cell_type": "code",
   "execution_count": 45,
   "metadata": {},
   "outputs": [
    {
     "data": {
      "text/plain": [
       "Index(['id', 'date', 'stopCode', 'aimedArrival', 'aimedDeparture',\n",
       "       'actualArrival', 'actualDeparture', 'vehicle', 'workid', 'patternId',\n",
       "       'publicName', 'scheduledStart', 'prev_stopCode', 'prev_aimedArrival',\n",
       "       'prev_aimedDeparture', 'prev_actualArrival', 'prev_actualDeparture',\n",
       "       'timingPoint', 'prev_timingPoint', 'segment_code', 'segment_name',\n",
       "       'segment_duration'],\n",
       "      dtype='object')"
      ]
     },
     "execution_count": 45,
     "metadata": {},
     "output_type": "execute_result"
    }
   ],
   "source": [
    "stop_events.columns"
   ]
  },
  {
   "cell_type": "code",
   "execution_count": 54,
   "metadata": {},
   "outputs": [],
   "source": [
    "means = stop_events.groupby(\"segment_code\")['segment_duration'].mean()\n",
    "\n",
    "medians = stop_events.groupby(\"segment_code\")['segment_duration'].median()"
   ]
  },
  {
   "cell_type": "code",
   "execution_count": 47,
   "metadata": {},
   "outputs": [],
   "source": [
    "std = stop_events.groupby(\"segment_code\")['segment_duration'].std()"
   ]
  },
  {
   "cell_type": "code",
   "execution_count": null,
   "metadata": {},
   "outputs": [],
   "source": []
  },
  {
   "cell_type": "code",
   "execution_count": 55,
   "metadata": {},
   "outputs": [],
   "source": [
    "means = means.rename(\"means\")\n",
    "medians = medians.rename(\"medians\")\n",
    "std = std.rename(\"std\")"
   ]
  },
  {
   "cell_type": "code",
   "execution_count": 49,
   "metadata": {},
   "outputs": [],
   "source": [
    "stop_events = stop_events.merge(means.to_frame(), left_on=\"segment_code\", right_index=True)"
   ]
  },
  {
   "cell_type": "code",
   "execution_count": 56,
   "metadata": {},
   "outputs": [],
   "source": [
    "stop_events = stop_events.merge(medians.to_frame(), left_on=\"segment_code\", right_index=True)"
   ]
  },
  {
   "cell_type": "code",
   "execution_count": 50,
   "metadata": {},
   "outputs": [],
   "source": [
    "stop_events = stop_events.merge(std.to_frame(), left_on=\"segment_code\", right_index=True)"
   ]
  },
  {
   "cell_type": "code",
   "execution_count": 51,
   "metadata": {},
   "outputs": [
    {
     "data": {
      "text/plain": [
       "Index(['id', 'date', 'stopCode', 'aimedArrival', 'aimedDeparture',\n",
       "       'actualArrival', 'actualDeparture', 'vehicle', 'workid', 'patternId',\n",
       "       'publicName', 'scheduledStart', 'prev_stopCode', 'prev_aimedArrival',\n",
       "       'prev_aimedDeparture', 'prev_actualArrival', 'prev_actualDeparture',\n",
       "       'timingPoint', 'prev_timingPoint', 'segment_code', 'segment_name',\n",
       "       'segment_duration', 'means', 'std'],\n",
       "      dtype='object')"
      ]
     },
     "execution_count": 51,
     "metadata": {},
     "output_type": "execute_result"
    }
   ],
   "source": [
    "stop_events.columns"
   ]
  },
  {
   "cell_type": "code",
   "execution_count": 57,
   "metadata": {},
   "outputs": [],
   "source": [
    "stop_events['outliers'] = False\n",
    "stop_events.loc[(stop_events['segment_duration'] > (stop_events['medians'] + 3 * stop_events['std'])) | (stop_events['segment_duration'] < (stop_events['medians'] - 3 * stop_events['std'])), 'outliers'] = True\n",
    "\n",
    "# stop_events.loc[(stop_events['segment_duration'] > (stop_events['means'] + 5 * stop_events['std'])), 'outliers'] = True\n",
    "                                                                                                       "
   ]
  },
  {
   "cell_type": "code",
   "execution_count": 58,
   "metadata": {},
   "outputs": [
    {
     "data": {
      "text/plain": [
       "184556"
      ]
     },
     "execution_count": 58,
     "metadata": {},
     "output_type": "execute_result"
    }
   ],
   "source": [
    "np.count_nonzero(stop_events['outliers'])"
   ]
  },
  {
   "cell_type": "code",
   "execution_count": 35,
   "metadata": {},
   "outputs": [],
   "source": [
    "segment_counts = stop_events.groupby(\"segment_code\").size()"
   ]
  },
  {
   "cell_type": "code",
   "execution_count": 36,
   "metadata": {},
   "outputs": [],
   "source": [
    "stop_events['minor_segment'] = False\n",
    "stop_events.loc[\n",
    "            stop_events[\"segment_code\"].isin(\n",
    "                segment_counts[segment_counts < 120].index.values\n",
    "            )\n",
    "        , \"minor_segment\"] = True"
   ]
  },
  {
   "cell_type": "code",
   "execution_count": 37,
   "metadata": {},
   "outputs": [
    {
     "data": {
      "text/plain": [
       "16325"
      ]
     },
     "execution_count": 37,
     "metadata": {},
     "output_type": "execute_result"
    }
   ],
   "source": [
    "np.count_nonzero(stop_events['minor_segment'])"
   ]
  },
  {
   "cell_type": "code",
   "execution_count": 38,
   "metadata": {},
   "outputs": [],
   "source": [
    "stop_events = stop_events.dropna(axis=0)"
   ]
  },
  {
   "cell_type": "code",
   "execution_count": 39,
   "metadata": {},
   "outputs": [
    {
     "data": {
      "text/plain": [
       "(4256701, 26)"
      ]
     },
     "execution_count": 39,
     "metadata": {},
     "output_type": "execute_result"
    }
   ],
   "source": [
    "dropped_se.shape"
   ]
  },
  {
   "cell_type": "code",
   "execution_count": 40,
   "metadata": {},
   "outputs": [
    {
     "data": {
      "text/plain": [
       "(4604714, 26)"
      ]
     },
     "execution_count": 40,
     "metadata": {},
     "output_type": "execute_result"
    }
   ],
   "source": [
    "stop_events.shape"
   ]
  },
  {
   "cell_type": "code",
   "execution_count": 41,
   "metadata": {},
   "outputs": [
    {
     "data": {
      "text/plain": [
       "348013"
      ]
     },
     "execution_count": 41,
     "metadata": {},
     "output_type": "execute_result"
    }
   ],
   "source": [
    "stop_events.shape[0] - dropped_se.shape[0]"
   ]
  },
  {
   "cell_type": "code",
   "execution_count": null,
   "metadata": {},
   "outputs": [],
   "source": []
  }
 ],
 "metadata": {
  "kernelspec": {
   "display_name": "busses",
   "language": "python",
   "name": "busses"
  },
  "language_info": {
   "codemirror_mode": {
    "name": "ipython",
    "version": 3
   },
   "file_extension": ".py",
   "mimetype": "text/x-python",
   "name": "python",
   "nbconvert_exporter": "python",
   "pygments_lexer": "ipython3",
   "version": "3.7.1"
  }
 },
 "nbformat": 4,
 "nbformat_minor": 2
}
